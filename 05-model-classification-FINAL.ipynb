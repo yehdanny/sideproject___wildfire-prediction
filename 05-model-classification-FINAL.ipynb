{
 "cells": [
  {
   "cell_type": "code",
   "execution_count": 1,
   "id": "250c3ea3-6f2f-458c-9ae7-9dea44ba5c47",
   "metadata": {},
   "outputs": [],
   "source": [
    "import pandas as pd\n",
    "import numpy as np\n",
    "import datetime\n",
    "import time\n",
    "\n",
    "from sklearn.model_selection import train_test_split, GridSearchCV\n",
    "from sklearn.pipeline import Pipeline\n",
    "from sklearn.preprocessing import StandardScaler\n",
    "from sklearn.linear_model import LinearRegression, LogisticRegression\n",
    "from sklearn.ensemble import RandomForestClassifier, VotingClassifier, AdaBoostClassifier, GradientBoostingClassifier\n",
    "from sklearn.neighbors import KNeighborsClassifier\n",
    "from sklearn.naive_bayes import MultinomialNB\n",
    "from sklearn import metrics\n",
    "\n",
    "from xgboost import XGBRegressor\n",
    "\n",
    "from tensorflow.keras.models import Sequential\n",
    "from tensorflow.keras.layers import Dense, Dropout, BatchNormalization\n",
    "from tensorflow.keras.callbacks import EarlyStopping\n",
    "from tensorflow.keras.regularizers import l1, l2, l1_l2\n",
    "\n",
    "%matplotlib inline"
   ]
  },
  {
   "cell_type": "markdown",
   "id": "e66d9f16-e599-4efc-a78a-91077e180fe0",
   "metadata": {},
   "source": [
    "### Data\n",
    "---"
   ]
  },
  {
   "cell_type": "code",
   "execution_count": 2,
   "id": "e54d3c3d-5a8e-4846-ab47-4f5c374b9857",
   "metadata": {},
   "outputs": [],
   "source": [
    "df = pd.read_csv('./data/combined.csv')"
   ]
  },
  {
   "cell_type": "code",
   "execution_count": 3,
   "id": "74234481-2c74-46ef-8b53-84a6a682d6e9",
   "metadata": {},
   "outputs": [
    {
     "data": {
      "text/html": [
       "<div>\n",
       "<style scoped>\n",
       "    .dataframe tbody tr th:only-of-type {\n",
       "        vertical-align: middle;\n",
       "    }\n",
       "\n",
       "    .dataframe tbody tr th {\n",
       "        vertical-align: top;\n",
       "    }\n",
       "\n",
       "    .dataframe thead th {\n",
       "        text-align: right;\n",
       "    }\n",
       "</style>\n",
       "<table border=\"1\" class=\"dataframe\">\n",
       "  <thead>\n",
       "    <tr style=\"text-align: right;\">\n",
       "      <th></th>\n",
       "      <th>date</th>\n",
       "      <th>county</th>\n",
       "      <th>maxtempF</th>\n",
       "      <th>mintempF</th>\n",
       "      <th>avgtempF</th>\n",
       "      <th>totalSnow</th>\n",
       "      <th>humid</th>\n",
       "      <th>wind</th>\n",
       "      <th>precip</th>\n",
       "      <th>q_avgtempF</th>\n",
       "      <th>q_avghumid</th>\n",
       "      <th>q_sumprecip</th>\n",
       "      <th>sunHour</th>\n",
       "      <th>FIRE_NAME</th>\n",
       "      <th>CAUSE</th>\n",
       "      <th>lat</th>\n",
       "      <th>long</th>\n",
       "      <th>GIS_ACRES</th>\n",
       "    </tr>\n",
       "  </thead>\n",
       "  <tbody>\n",
       "    <tr>\n",
       "      <th>0</th>\n",
       "      <td>2008-07</td>\n",
       "      <td>Santa Barbara County</td>\n",
       "      <td>89.129032</td>\n",
       "      <td>59.709677</td>\n",
       "      <td>80.548387</td>\n",
       "      <td>0.0</td>\n",
       "      <td>41.451613</td>\n",
       "      <td>7.354839</td>\n",
       "      <td>0.0</td>\n",
       "      <td>72.937634</td>\n",
       "      <td>34.079570</td>\n",
       "      <td>0.010000</td>\n",
       "      <td>13.164516</td>\n",
       "      <td>no_fire</td>\n",
       "      <td>0.0</td>\n",
       "      <td>34.54</td>\n",
       "      <td>-120.04</td>\n",
       "      <td>0.000000</td>\n",
       "    </tr>\n",
       "    <tr>\n",
       "      <th>1</th>\n",
       "      <td>2008-07</td>\n",
       "      <td>Calaveras County</td>\n",
       "      <td>96.419355</td>\n",
       "      <td>51.290323</td>\n",
       "      <td>87.032258</td>\n",
       "      <td>0.0</td>\n",
       "      <td>33.580645</td>\n",
       "      <td>5.387097</td>\n",
       "      <td>0.0</td>\n",
       "      <td>65.217204</td>\n",
       "      <td>38.434409</td>\n",
       "      <td>0.068065</td>\n",
       "      <td>14.022581</td>\n",
       "      <td>SERPENTINE</td>\n",
       "      <td>1.0</td>\n",
       "      <td>38.18</td>\n",
       "      <td>-120.56</td>\n",
       "      <td>176.763400</td>\n",
       "    </tr>\n",
       "    <tr>\n",
       "      <th>2</th>\n",
       "      <td>2008-07</td>\n",
       "      <td>Calaveras County</td>\n",
       "      <td>96.419355</td>\n",
       "      <td>51.290323</td>\n",
       "      <td>87.032258</td>\n",
       "      <td>0.0</td>\n",
       "      <td>33.580645</td>\n",
       "      <td>5.387097</td>\n",
       "      <td>0.0</td>\n",
       "      <td>65.217204</td>\n",
       "      <td>38.434409</td>\n",
       "      <td>0.068065</td>\n",
       "      <td>14.022581</td>\n",
       "      <td>POOL 2 - MAIN</td>\n",
       "      <td>10.0</td>\n",
       "      <td>38.18</td>\n",
       "      <td>-120.56</td>\n",
       "      <td>73.444778</td>\n",
       "    </tr>\n",
       "    <tr>\n",
       "      <th>3</th>\n",
       "      <td>2008-07</td>\n",
       "      <td>Calaveras County</td>\n",
       "      <td>96.419355</td>\n",
       "      <td>51.290323</td>\n",
       "      <td>87.032258</td>\n",
       "      <td>0.0</td>\n",
       "      <td>33.580645</td>\n",
       "      <td>5.387097</td>\n",
       "      <td>0.0</td>\n",
       "      <td>65.217204</td>\n",
       "      <td>38.434409</td>\n",
       "      <td>0.068065</td>\n",
       "      <td>14.022581</td>\n",
       "      <td>FRENCH</td>\n",
       "      <td>14.0</td>\n",
       "      <td>38.18</td>\n",
       "      <td>-120.56</td>\n",
       "      <td>101.074150</td>\n",
       "    </tr>\n",
       "    <tr>\n",
       "      <th>4</th>\n",
       "      <td>2008-07</td>\n",
       "      <td>Calaveras County</td>\n",
       "      <td>96.419355</td>\n",
       "      <td>51.290323</td>\n",
       "      <td>87.032258</td>\n",
       "      <td>0.0</td>\n",
       "      <td>33.580645</td>\n",
       "      <td>5.387097</td>\n",
       "      <td>0.0</td>\n",
       "      <td>65.217204</td>\n",
       "      <td>38.434409</td>\n",
       "      <td>0.068065</td>\n",
       "      <td>14.022581</td>\n",
       "      <td>EVANS</td>\n",
       "      <td>6.0</td>\n",
       "      <td>38.18</td>\n",
       "      <td>-120.56</td>\n",
       "      <td>103.968050</td>\n",
       "    </tr>\n",
       "  </tbody>\n",
       "</table>\n",
       "</div>"
      ],
      "text/plain": [
       "      date                county   maxtempF   mintempF   avgtempF  totalSnow  \\\n",
       "0  2008-07  Santa Barbara County  89.129032  59.709677  80.548387        0.0   \n",
       "1  2008-07      Calaveras County  96.419355  51.290323  87.032258        0.0   \n",
       "2  2008-07      Calaveras County  96.419355  51.290323  87.032258        0.0   \n",
       "3  2008-07      Calaveras County  96.419355  51.290323  87.032258        0.0   \n",
       "4  2008-07      Calaveras County  96.419355  51.290323  87.032258        0.0   \n",
       "\n",
       "       humid      wind  precip  q_avgtempF  q_avghumid  q_sumprecip  \\\n",
       "0  41.451613  7.354839     0.0   72.937634   34.079570     0.010000   \n",
       "1  33.580645  5.387097     0.0   65.217204   38.434409     0.068065   \n",
       "2  33.580645  5.387097     0.0   65.217204   38.434409     0.068065   \n",
       "3  33.580645  5.387097     0.0   65.217204   38.434409     0.068065   \n",
       "4  33.580645  5.387097     0.0   65.217204   38.434409     0.068065   \n",
       "\n",
       "     sunHour       FIRE_NAME  CAUSE    lat    long   GIS_ACRES  \n",
       "0  13.164516         no_fire    0.0  34.54 -120.04    0.000000  \n",
       "1  14.022581      SERPENTINE    1.0  38.18 -120.56  176.763400  \n",
       "2  14.022581  POOL 2 - MAIN    10.0  38.18 -120.56   73.444778  \n",
       "3  14.022581          FRENCH   14.0  38.18 -120.56  101.074150  \n",
       "4  14.022581           EVANS    6.0  38.18 -120.56  103.968050  "
      ]
     },
     "execution_count": 3,
     "metadata": {},
     "output_type": "execute_result"
    }
   ],
   "source": [
    "df.head()"
   ]
  },
  {
   "cell_type": "code",
   "execution_count": 4,
   "id": "c7605f37-1c0d-4c65-b158-b724353ebed1",
   "metadata": {},
   "outputs": [],
   "source": [
    "df = df.drop(columns=['FIRE_NAME', 'lat', 'long'])"
   ]
  },
  {
   "cell_type": "code",
   "execution_count": 5,
   "id": "753548e6-d868-436b-b281-aeb31d529ba5",
   "metadata": {},
   "outputs": [
    {
     "data": {
      "text/html": [
       "<div>\n",
       "<style scoped>\n",
       "    .dataframe tbody tr th:only-of-type {\n",
       "        vertical-align: middle;\n",
       "    }\n",
       "\n",
       "    .dataframe tbody tr th {\n",
       "        vertical-align: top;\n",
       "    }\n",
       "\n",
       "    .dataframe thead th {\n",
       "        text-align: right;\n",
       "    }\n",
       "</style>\n",
       "<table border=\"1\" class=\"dataframe\">\n",
       "  <thead>\n",
       "    <tr style=\"text-align: right;\">\n",
       "      <th></th>\n",
       "      <th>date</th>\n",
       "      <th>county</th>\n",
       "      <th>maxtempF</th>\n",
       "      <th>mintempF</th>\n",
       "      <th>avgtempF</th>\n",
       "      <th>totalSnow</th>\n",
       "      <th>humid</th>\n",
       "      <th>wind</th>\n",
       "      <th>precip</th>\n",
       "      <th>q_avgtempF</th>\n",
       "      <th>q_avghumid</th>\n",
       "      <th>q_sumprecip</th>\n",
       "      <th>sunHour</th>\n",
       "      <th>CAUSE</th>\n",
       "      <th>GIS_ACRES</th>\n",
       "      <th>bool</th>\n",
       "    </tr>\n",
       "  </thead>\n",
       "  <tbody>\n",
       "    <tr>\n",
       "      <th>0</th>\n",
       "      <td>2008-07</td>\n",
       "      <td>Santa Barbara County</td>\n",
       "      <td>89.129032</td>\n",
       "      <td>59.709677</td>\n",
       "      <td>80.548387</td>\n",
       "      <td>0.0</td>\n",
       "      <td>41.451613</td>\n",
       "      <td>7.354839</td>\n",
       "      <td>0.0</td>\n",
       "      <td>72.937634</td>\n",
       "      <td>34.07957</td>\n",
       "      <td>0.01</td>\n",
       "      <td>13.164516</td>\n",
       "      <td>0.0</td>\n",
       "      <td>0.0</td>\n",
       "      <td>0</td>\n",
       "    </tr>\n",
       "  </tbody>\n",
       "</table>\n",
       "</div>"
      ],
      "text/plain": [
       "      date                county   maxtempF   mintempF   avgtempF  totalSnow  \\\n",
       "0  2008-07  Santa Barbara County  89.129032  59.709677  80.548387        0.0   \n",
       "\n",
       "       humid      wind  precip  q_avgtempF  q_avghumid  q_sumprecip  \\\n",
       "0  41.451613  7.354839     0.0   72.937634    34.07957         0.01   \n",
       "\n",
       "     sunHour  CAUSE  GIS_ACRES  bool  \n",
       "0  13.164516    0.0        0.0     0  "
      ]
     },
     "execution_count": 5,
     "metadata": {},
     "output_type": "execute_result"
    }
   ],
   "source": [
    "df['bool'] = (df['GIS_ACRES'] > 0) * 1\n",
    "df.head(1)"
   ]
  },
  {
   "cell_type": "code",
   "execution_count": 6,
   "id": "8882bd35-ee47-40d0-9888-a52b31ebc265",
   "metadata": {},
   "outputs": [
    {
     "data": {
      "text/html": [
       "<div>\n",
       "<style scoped>\n",
       "    .dataframe tbody tr th:only-of-type {\n",
       "        vertical-align: middle;\n",
       "    }\n",
       "\n",
       "    .dataframe tbody tr th {\n",
       "        vertical-align: top;\n",
       "    }\n",
       "\n",
       "    .dataframe thead th {\n",
       "        text-align: right;\n",
       "    }\n",
       "</style>\n",
       "<table border=\"1\" class=\"dataframe\">\n",
       "  <thead>\n",
       "    <tr style=\"text-align: right;\">\n",
       "      <th></th>\n",
       "      <th>date</th>\n",
       "      <th>county</th>\n",
       "      <th>maxtempF</th>\n",
       "      <th>mintempF</th>\n",
       "      <th>avgtempF</th>\n",
       "      <th>totalSnow</th>\n",
       "      <th>humid</th>\n",
       "      <th>wind</th>\n",
       "      <th>precip</th>\n",
       "      <th>q_avgtempF</th>\n",
       "      <th>q_avghumid</th>\n",
       "      <th>q_sumprecip</th>\n",
       "      <th>sunHour</th>\n",
       "      <th>CAUSE</th>\n",
       "      <th>GIS_ACRES</th>\n",
       "      <th>bool</th>\n",
       "    </tr>\n",
       "  </thead>\n",
       "  <tbody>\n",
       "    <tr>\n",
       "      <th>0</th>\n",
       "      <td>[2008, 07]</td>\n",
       "      <td>Santa Barbara County</td>\n",
       "      <td>89.129032</td>\n",
       "      <td>59.709677</td>\n",
       "      <td>80.548387</td>\n",
       "      <td>0.0</td>\n",
       "      <td>41.451613</td>\n",
       "      <td>7.354839</td>\n",
       "      <td>0.0</td>\n",
       "      <td>72.937634</td>\n",
       "      <td>34.07957</td>\n",
       "      <td>0.01</td>\n",
       "      <td>13.164516</td>\n",
       "      <td>0.0</td>\n",
       "      <td>0.0</td>\n",
       "      <td>0</td>\n",
       "    </tr>\n",
       "  </tbody>\n",
       "</table>\n",
       "</div>"
      ],
      "text/plain": [
       "         date                county   maxtempF   mintempF   avgtempF  \\\n",
       "0  [2008, 07]  Santa Barbara County  89.129032  59.709677  80.548387   \n",
       "\n",
       "   totalSnow      humid      wind  precip  q_avgtempF  q_avghumid  \\\n",
       "0        0.0  41.451613  7.354839     0.0   72.937634    34.07957   \n",
       "\n",
       "   q_sumprecip    sunHour  CAUSE  GIS_ACRES  bool  \n",
       "0         0.01  13.164516    0.0        0.0     0  "
      ]
     },
     "execution_count": 6,
     "metadata": {},
     "output_type": "execute_result"
    }
   ],
   "source": [
    "df['date'] = [x.split('-') for x in df['date']]\n",
    "df.head(1)"
   ]
  },
  {
   "cell_type": "code",
   "execution_count": 7,
   "id": "8a2bd009-ab33-4f71-a04d-e764d1994a1b",
   "metadata": {},
   "outputs": [
    {
     "data": {
      "text/html": [
       "<div>\n",
       "<style scoped>\n",
       "    .dataframe tbody tr th:only-of-type {\n",
       "        vertical-align: middle;\n",
       "    }\n",
       "\n",
       "    .dataframe tbody tr th {\n",
       "        vertical-align: top;\n",
       "    }\n",
       "\n",
       "    .dataframe thead th {\n",
       "        text-align: right;\n",
       "    }\n",
       "</style>\n",
       "<table border=\"1\" class=\"dataframe\">\n",
       "  <thead>\n",
       "    <tr style=\"text-align: right;\">\n",
       "      <th></th>\n",
       "      <th>date</th>\n",
       "      <th>county</th>\n",
       "      <th>maxtempF</th>\n",
       "      <th>mintempF</th>\n",
       "      <th>avgtempF</th>\n",
       "      <th>totalSnow</th>\n",
       "      <th>humid</th>\n",
       "      <th>wind</th>\n",
       "      <th>precip</th>\n",
       "      <th>q_avgtempF</th>\n",
       "      <th>q_avghumid</th>\n",
       "      <th>q_sumprecip</th>\n",
       "      <th>sunHour</th>\n",
       "      <th>CAUSE</th>\n",
       "      <th>GIS_ACRES</th>\n",
       "      <th>bool</th>\n",
       "      <th>year</th>\n",
       "    </tr>\n",
       "  </thead>\n",
       "  <tbody>\n",
       "    <tr>\n",
       "      <th>0</th>\n",
       "      <td>[2008, 07]</td>\n",
       "      <td>Santa Barbara County</td>\n",
       "      <td>89.129032</td>\n",
       "      <td>59.709677</td>\n",
       "      <td>80.548387</td>\n",
       "      <td>0.0</td>\n",
       "      <td>41.451613</td>\n",
       "      <td>7.354839</td>\n",
       "      <td>0.0</td>\n",
       "      <td>72.937634</td>\n",
       "      <td>34.07957</td>\n",
       "      <td>0.01</td>\n",
       "      <td>13.164516</td>\n",
       "      <td>0.0</td>\n",
       "      <td>0.0</td>\n",
       "      <td>0</td>\n",
       "      <td>2008</td>\n",
       "    </tr>\n",
       "  </tbody>\n",
       "</table>\n",
       "</div>"
      ],
      "text/plain": [
       "         date                county   maxtempF   mintempF   avgtempF  \\\n",
       "0  [2008, 07]  Santa Barbara County  89.129032  59.709677  80.548387   \n",
       "\n",
       "   totalSnow      humid      wind  precip  q_avgtempF  q_avghumid  \\\n",
       "0        0.0  41.451613  7.354839     0.0   72.937634    34.07957   \n",
       "\n",
       "   q_sumprecip    sunHour  CAUSE  GIS_ACRES  bool  year  \n",
       "0         0.01  13.164516    0.0        0.0     0  2008  "
      ]
     },
     "execution_count": 7,
     "metadata": {},
     "output_type": "execute_result"
    }
   ],
   "source": [
    "df['year'] = [int(x[0]) for x in df['date']]\n",
    "df.head(1)"
   ]
  },
  {
   "cell_type": "code",
   "execution_count": 8,
   "id": "5a61f7ac-cee6-4645-aeb6-198ee32c8098",
   "metadata": {},
   "outputs": [
    {
     "data": {
      "text/html": [
       "<div>\n",
       "<style scoped>\n",
       "    .dataframe tbody tr th:only-of-type {\n",
       "        vertical-align: middle;\n",
       "    }\n",
       "\n",
       "    .dataframe tbody tr th {\n",
       "        vertical-align: top;\n",
       "    }\n",
       "\n",
       "    .dataframe thead th {\n",
       "        text-align: right;\n",
       "    }\n",
       "</style>\n",
       "<table border=\"1\" class=\"dataframe\">\n",
       "  <thead>\n",
       "    <tr style=\"text-align: right;\">\n",
       "      <th></th>\n",
       "      <th>date</th>\n",
       "      <th>county</th>\n",
       "      <th>maxtempF</th>\n",
       "      <th>mintempF</th>\n",
       "      <th>avgtempF</th>\n",
       "      <th>totalSnow</th>\n",
       "      <th>humid</th>\n",
       "      <th>wind</th>\n",
       "      <th>precip</th>\n",
       "      <th>q_avgtempF</th>\n",
       "      <th>q_avghumid</th>\n",
       "      <th>q_sumprecip</th>\n",
       "      <th>sunHour</th>\n",
       "      <th>CAUSE</th>\n",
       "      <th>GIS_ACRES</th>\n",
       "      <th>bool</th>\n",
       "      <th>year</th>\n",
       "      <th>month</th>\n",
       "    </tr>\n",
       "  </thead>\n",
       "  <tbody>\n",
       "    <tr>\n",
       "      <th>0</th>\n",
       "      <td>[2008, 07]</td>\n",
       "      <td>Santa Barbara County</td>\n",
       "      <td>89.129032</td>\n",
       "      <td>59.709677</td>\n",
       "      <td>80.548387</td>\n",
       "      <td>0.0</td>\n",
       "      <td>41.451613</td>\n",
       "      <td>7.354839</td>\n",
       "      <td>0.0</td>\n",
       "      <td>72.937634</td>\n",
       "      <td>34.07957</td>\n",
       "      <td>0.01</td>\n",
       "      <td>13.164516</td>\n",
       "      <td>0.0</td>\n",
       "      <td>0.0</td>\n",
       "      <td>0</td>\n",
       "      <td>2008</td>\n",
       "      <td>7</td>\n",
       "    </tr>\n",
       "  </tbody>\n",
       "</table>\n",
       "</div>"
      ],
      "text/plain": [
       "         date                county   maxtempF   mintempF   avgtempF  \\\n",
       "0  [2008, 07]  Santa Barbara County  89.129032  59.709677  80.548387   \n",
       "\n",
       "   totalSnow      humid      wind  precip  q_avgtempF  q_avghumid  \\\n",
       "0        0.0  41.451613  7.354839     0.0   72.937634    34.07957   \n",
       "\n",
       "   q_sumprecip    sunHour  CAUSE  GIS_ACRES  bool  year  month  \n",
       "0         0.01  13.164516    0.0        0.0     0  2008      7  "
      ]
     },
     "execution_count": 8,
     "metadata": {},
     "output_type": "execute_result"
    }
   ],
   "source": [
    "df['month'] = [int(x[1]) for x in df['date']]\n",
    "df.head(1)"
   ]
  },
  {
   "cell_type": "code",
   "execution_count": 9,
   "id": "c9597054-c05e-4096-ac0c-de65abad7015",
   "metadata": {},
   "outputs": [
    {
     "data": {
      "text/plain": [
       "(10988, 18)"
      ]
     },
     "execution_count": 9,
     "metadata": {},
     "output_type": "execute_result"
    }
   ],
   "source": [
    "df.shape"
   ]
  },
  {
   "cell_type": "code",
   "execution_count": 10,
   "id": "18ccd776-ef23-47d7-875c-47ce34e5c03a",
   "metadata": {},
   "outputs": [
    {
     "data": {
      "text/html": [
       "<div>\n",
       "<style scoped>\n",
       "    .dataframe tbody tr th:only-of-type {\n",
       "        vertical-align: middle;\n",
       "    }\n",
       "\n",
       "    .dataframe tbody tr th {\n",
       "        vertical-align: top;\n",
       "    }\n",
       "\n",
       "    .dataframe thead th {\n",
       "        text-align: right;\n",
       "    }\n",
       "</style>\n",
       "<table border=\"1\" class=\"dataframe\">\n",
       "  <thead>\n",
       "    <tr style=\"text-align: right;\">\n",
       "      <th></th>\n",
       "      <th>date</th>\n",
       "      <th>county</th>\n",
       "      <th>maxtempF</th>\n",
       "      <th>mintempF</th>\n",
       "      <th>avgtempF</th>\n",
       "      <th>totalSnow</th>\n",
       "      <th>humid</th>\n",
       "      <th>wind</th>\n",
       "      <th>precip</th>\n",
       "      <th>q_avgtempF</th>\n",
       "      <th>q_avghumid</th>\n",
       "      <th>q_sumprecip</th>\n",
       "      <th>sunHour</th>\n",
       "      <th>CAUSE</th>\n",
       "      <th>GIS_ACRES</th>\n",
       "      <th>bool</th>\n",
       "      <th>year</th>\n",
       "      <th>month</th>\n",
       "    </tr>\n",
       "  </thead>\n",
       "  <tbody>\n",
       "    <tr>\n",
       "      <th>0</th>\n",
       "      <td>[2008, 07]</td>\n",
       "      <td>Santa Barbara County</td>\n",
       "      <td>89.129032</td>\n",
       "      <td>59.709677</td>\n",
       "      <td>80.548387</td>\n",
       "      <td>0.0</td>\n",
       "      <td>41.451613</td>\n",
       "      <td>7.354839</td>\n",
       "      <td>0.0</td>\n",
       "      <td>72.937634</td>\n",
       "      <td>34.07957</td>\n",
       "      <td>0.01</td>\n",
       "      <td>13.164516</td>\n",
       "      <td>0.0</td>\n",
       "      <td>0.0</td>\n",
       "      <td>0</td>\n",
       "      <td>2008</td>\n",
       "      <td>7</td>\n",
       "    </tr>\n",
       "  </tbody>\n",
       "</table>\n",
       "</div>"
      ],
      "text/plain": [
       "         date                county   maxtempF   mintempF   avgtempF  \\\n",
       "0  [2008, 07]  Santa Barbara County  89.129032  59.709677  80.548387   \n",
       "\n",
       "   totalSnow      humid      wind  precip  q_avgtempF  q_avghumid  \\\n",
       "0        0.0  41.451613  7.354839     0.0   72.937634    34.07957   \n",
       "\n",
       "   q_sumprecip    sunHour  CAUSE  GIS_ACRES  bool  year  month  \n",
       "0         0.01  13.164516    0.0        0.0     0  2008      7  "
      ]
     },
     "execution_count": 10,
     "metadata": {},
     "output_type": "execute_result"
    }
   ],
   "source": [
    "df_dummy = pd.get_dummies(df, columns=['month'])\n",
    "df.head(1)"
   ]
  },
  {
   "cell_type": "code",
   "execution_count": 11,
   "id": "fcf1d470",
   "metadata": {},
   "outputs": [
    {
     "data": {
      "text/html": [
       "<div>\n",
       "<style scoped>\n",
       "    .dataframe tbody tr th:only-of-type {\n",
       "        vertical-align: middle;\n",
       "    }\n",
       "\n",
       "    .dataframe tbody tr th {\n",
       "        vertical-align: top;\n",
       "    }\n",
       "\n",
       "    .dataframe thead th {\n",
       "        text-align: right;\n",
       "    }\n",
       "</style>\n",
       "<table border=\"1\" class=\"dataframe\">\n",
       "  <thead>\n",
       "    <tr style=\"text-align: right;\">\n",
       "      <th></th>\n",
       "      <th>date</th>\n",
       "      <th>county</th>\n",
       "      <th>maxtempF</th>\n",
       "      <th>mintempF</th>\n",
       "      <th>avgtempF</th>\n",
       "      <th>totalSnow</th>\n",
       "      <th>humid</th>\n",
       "      <th>wind</th>\n",
       "      <th>precip</th>\n",
       "      <th>q_avgtempF</th>\n",
       "      <th>...</th>\n",
       "      <th>month_3</th>\n",
       "      <th>month_4</th>\n",
       "      <th>month_5</th>\n",
       "      <th>month_6</th>\n",
       "      <th>month_7</th>\n",
       "      <th>month_8</th>\n",
       "      <th>month_9</th>\n",
       "      <th>month_10</th>\n",
       "      <th>month_11</th>\n",
       "      <th>month_12</th>\n",
       "    </tr>\n",
       "  </thead>\n",
       "  <tbody>\n",
       "    <tr>\n",
       "      <th>0</th>\n",
       "      <td>[2008, 07]</td>\n",
       "      <td>Santa Barbara County</td>\n",
       "      <td>89.129032</td>\n",
       "      <td>59.709677</td>\n",
       "      <td>80.548387</td>\n",
       "      <td>0.0</td>\n",
       "      <td>41.451613</td>\n",
       "      <td>7.354839</td>\n",
       "      <td>0.0</td>\n",
       "      <td>72.937634</td>\n",
       "      <td>...</td>\n",
       "      <td>False</td>\n",
       "      <td>False</td>\n",
       "      <td>False</td>\n",
       "      <td>False</td>\n",
       "      <td>True</td>\n",
       "      <td>False</td>\n",
       "      <td>False</td>\n",
       "      <td>False</td>\n",
       "      <td>False</td>\n",
       "      <td>False</td>\n",
       "    </tr>\n",
       "  </tbody>\n",
       "</table>\n",
       "<p>1 rows × 29 columns</p>\n",
       "</div>"
      ],
      "text/plain": [
       "         date                county   maxtempF   mintempF   avgtempF  \\\n",
       "0  [2008, 07]  Santa Barbara County  89.129032  59.709677  80.548387   \n",
       "\n",
       "   totalSnow      humid      wind  precip  q_avgtempF  ...  month_3  month_4  \\\n",
       "0        0.0  41.451613  7.354839     0.0   72.937634  ...    False    False   \n",
       "\n",
       "   month_5  month_6  month_7  month_8  month_9  month_10  month_11  month_12  \n",
       "0    False    False     True    False    False     False     False     False  \n",
       "\n",
       "[1 rows x 29 columns]"
      ]
     },
     "execution_count": 11,
     "metadata": {},
     "output_type": "execute_result"
    }
   ],
   "source": [
    "df_dummy.head(1)"
   ]
  },
  {
   "cell_type": "code",
   "execution_count": 12,
   "id": "bdd6355d-e1f4-40fb-aef9-9763193f6ef2",
   "metadata": {},
   "outputs": [],
   "source": [
    "# test = ['2008', '07']\n",
    "# datetime.datetime(int(test[0]), int(test[1]), 1).timestamp()"
   ]
  },
  {
   "cell_type": "code",
   "execution_count": 13,
   "id": "ef641c33-7dbe-433d-bda1-a9383d8d7590",
   "metadata": {},
   "outputs": [
    {
     "name": "stdout",
     "output_type": "stream",
     "text": [
      "<class 'pandas.core.frame.DataFrame'>\n",
      "RangeIndex: 10988 entries, 0 to 10987\n",
      "Data columns (total 29 columns):\n",
      " #   Column       Non-Null Count  Dtype  \n",
      "---  ------       --------------  -----  \n",
      " 0   date         10988 non-null  object \n",
      " 1   county       10988 non-null  object \n",
      " 2   maxtempF     10988 non-null  float64\n",
      " 3   mintempF     10988 non-null  float64\n",
      " 4   avgtempF     10988 non-null  float64\n",
      " 5   totalSnow    10988 non-null  float64\n",
      " 6   humid        10988 non-null  float64\n",
      " 7   wind         10988 non-null  float64\n",
      " 8   precip       10988 non-null  float64\n",
      " 9   q_avgtempF   10988 non-null  float64\n",
      " 10  q_avghumid   10988 non-null  float64\n",
      " 11  q_sumprecip  10988 non-null  float64\n",
      " 12  sunHour      10988 non-null  float64\n",
      " 13  CAUSE        10988 non-null  float64\n",
      " 14  GIS_ACRES    10988 non-null  float64\n",
      " 15  bool         10988 non-null  int64  \n",
      " 16  year         10988 non-null  int64  \n",
      " 17  month_1      10988 non-null  bool   \n",
      " 18  month_2      10988 non-null  bool   \n",
      " 19  month_3      10988 non-null  bool   \n",
      " 20  month_4      10988 non-null  bool   \n",
      " 21  month_5      10988 non-null  bool   \n",
      " 22  month_6      10988 non-null  bool   \n",
      " 23  month_7      10988 non-null  bool   \n",
      " 24  month_8      10988 non-null  bool   \n",
      " 25  month_9      10988 non-null  bool   \n",
      " 26  month_10     10988 non-null  bool   \n",
      " 27  month_11     10988 non-null  bool   \n",
      " 28  month_12     10988 non-null  bool   \n",
      "dtypes: bool(12), float64(13), int64(2), object(2)\n",
      "memory usage: 1.6+ MB\n"
     ]
    }
   ],
   "source": [
    "df_dummy.info()"
   ]
  },
  {
   "cell_type": "code",
   "execution_count": 14,
   "id": "54132a6c-61dd-4c4f-bad4-942ffa5b6c17",
   "metadata": {},
   "outputs": [
    {
     "data": {
      "text/html": [
       "<div>\n",
       "<style scoped>\n",
       "    .dataframe tbody tr th:only-of-type {\n",
       "        vertical-align: middle;\n",
       "    }\n",
       "\n",
       "    .dataframe tbody tr th {\n",
       "        vertical-align: top;\n",
       "    }\n",
       "\n",
       "    .dataframe thead th {\n",
       "        text-align: right;\n",
       "    }\n",
       "</style>\n",
       "<table border=\"1\" class=\"dataframe\">\n",
       "  <thead>\n",
       "    <tr style=\"text-align: right;\">\n",
       "      <th></th>\n",
       "      <th>date</th>\n",
       "      <th>county</th>\n",
       "      <th>maxtempF</th>\n",
       "      <th>mintempF</th>\n",
       "      <th>avgtempF</th>\n",
       "      <th>totalSnow</th>\n",
       "      <th>humid</th>\n",
       "      <th>wind</th>\n",
       "      <th>precip</th>\n",
       "      <th>q_avgtempF</th>\n",
       "      <th>...</th>\n",
       "      <th>month_3</th>\n",
       "      <th>month_4</th>\n",
       "      <th>month_5</th>\n",
       "      <th>month_6</th>\n",
       "      <th>month_7</th>\n",
       "      <th>month_8</th>\n",
       "      <th>month_9</th>\n",
       "      <th>month_10</th>\n",
       "      <th>month_11</th>\n",
       "      <th>month_12</th>\n",
       "    </tr>\n",
       "  </thead>\n",
       "  <tbody>\n",
       "    <tr>\n",
       "      <th>0</th>\n",
       "      <td>[2008, 07]</td>\n",
       "      <td>Santa Barbara County</td>\n",
       "      <td>89.129032</td>\n",
       "      <td>59.709677</td>\n",
       "      <td>80.548387</td>\n",
       "      <td>0.0</td>\n",
       "      <td>41.451613</td>\n",
       "      <td>7.354839</td>\n",
       "      <td>0.0</td>\n",
       "      <td>72.937634</td>\n",
       "      <td>...</td>\n",
       "      <td>False</td>\n",
       "      <td>False</td>\n",
       "      <td>False</td>\n",
       "      <td>False</td>\n",
       "      <td>True</td>\n",
       "      <td>False</td>\n",
       "      <td>False</td>\n",
       "      <td>False</td>\n",
       "      <td>False</td>\n",
       "      <td>False</td>\n",
       "    </tr>\n",
       "    <tr>\n",
       "      <th>1</th>\n",
       "      <td>[2008, 07]</td>\n",
       "      <td>Calaveras County</td>\n",
       "      <td>96.419355</td>\n",
       "      <td>51.290323</td>\n",
       "      <td>87.032258</td>\n",
       "      <td>0.0</td>\n",
       "      <td>33.580645</td>\n",
       "      <td>5.387097</td>\n",
       "      <td>0.0</td>\n",
       "      <td>65.217204</td>\n",
       "      <td>...</td>\n",
       "      <td>False</td>\n",
       "      <td>False</td>\n",
       "      <td>False</td>\n",
       "      <td>False</td>\n",
       "      <td>True</td>\n",
       "      <td>False</td>\n",
       "      <td>False</td>\n",
       "      <td>False</td>\n",
       "      <td>False</td>\n",
       "      <td>False</td>\n",
       "    </tr>\n",
       "    <tr>\n",
       "      <th>2</th>\n",
       "      <td>[2008, 07]</td>\n",
       "      <td>Calaveras County</td>\n",
       "      <td>96.419355</td>\n",
       "      <td>51.290323</td>\n",
       "      <td>87.032258</td>\n",
       "      <td>0.0</td>\n",
       "      <td>33.580645</td>\n",
       "      <td>5.387097</td>\n",
       "      <td>0.0</td>\n",
       "      <td>65.217204</td>\n",
       "      <td>...</td>\n",
       "      <td>False</td>\n",
       "      <td>False</td>\n",
       "      <td>False</td>\n",
       "      <td>False</td>\n",
       "      <td>True</td>\n",
       "      <td>False</td>\n",
       "      <td>False</td>\n",
       "      <td>False</td>\n",
       "      <td>False</td>\n",
       "      <td>False</td>\n",
       "    </tr>\n",
       "    <tr>\n",
       "      <th>3</th>\n",
       "      <td>[2008, 07]</td>\n",
       "      <td>Calaveras County</td>\n",
       "      <td>96.419355</td>\n",
       "      <td>51.290323</td>\n",
       "      <td>87.032258</td>\n",
       "      <td>0.0</td>\n",
       "      <td>33.580645</td>\n",
       "      <td>5.387097</td>\n",
       "      <td>0.0</td>\n",
       "      <td>65.217204</td>\n",
       "      <td>...</td>\n",
       "      <td>False</td>\n",
       "      <td>False</td>\n",
       "      <td>False</td>\n",
       "      <td>False</td>\n",
       "      <td>True</td>\n",
       "      <td>False</td>\n",
       "      <td>False</td>\n",
       "      <td>False</td>\n",
       "      <td>False</td>\n",
       "      <td>False</td>\n",
       "    </tr>\n",
       "    <tr>\n",
       "      <th>4</th>\n",
       "      <td>[2008, 07]</td>\n",
       "      <td>Calaveras County</td>\n",
       "      <td>96.419355</td>\n",
       "      <td>51.290323</td>\n",
       "      <td>87.032258</td>\n",
       "      <td>0.0</td>\n",
       "      <td>33.580645</td>\n",
       "      <td>5.387097</td>\n",
       "      <td>0.0</td>\n",
       "      <td>65.217204</td>\n",
       "      <td>...</td>\n",
       "      <td>False</td>\n",
       "      <td>False</td>\n",
       "      <td>False</td>\n",
       "      <td>False</td>\n",
       "      <td>True</td>\n",
       "      <td>False</td>\n",
       "      <td>False</td>\n",
       "      <td>False</td>\n",
       "      <td>False</td>\n",
       "      <td>False</td>\n",
       "    </tr>\n",
       "  </tbody>\n",
       "</table>\n",
       "<p>5 rows × 29 columns</p>\n",
       "</div>"
      ],
      "text/plain": [
       "         date                county   maxtempF   mintempF   avgtempF  \\\n",
       "0  [2008, 07]  Santa Barbara County  89.129032  59.709677  80.548387   \n",
       "1  [2008, 07]      Calaveras County  96.419355  51.290323  87.032258   \n",
       "2  [2008, 07]      Calaveras County  96.419355  51.290323  87.032258   \n",
       "3  [2008, 07]      Calaveras County  96.419355  51.290323  87.032258   \n",
       "4  [2008, 07]      Calaveras County  96.419355  51.290323  87.032258   \n",
       "\n",
       "   totalSnow      humid      wind  precip  q_avgtempF  ...  month_3  month_4  \\\n",
       "0        0.0  41.451613  7.354839     0.0   72.937634  ...    False    False   \n",
       "1        0.0  33.580645  5.387097     0.0   65.217204  ...    False    False   \n",
       "2        0.0  33.580645  5.387097     0.0   65.217204  ...    False    False   \n",
       "3        0.0  33.580645  5.387097     0.0   65.217204  ...    False    False   \n",
       "4        0.0  33.580645  5.387097     0.0   65.217204  ...    False    False   \n",
       "\n",
       "   month_5  month_6  month_7  month_8  month_9  month_10  month_11  month_12  \n",
       "0    False    False     True    False    False     False     False     False  \n",
       "1    False    False     True    False    False     False     False     False  \n",
       "2    False    False     True    False    False     False     False     False  \n",
       "3    False    False     True    False    False     False     False     False  \n",
       "4    False    False     True    False    False     False     False     False  \n",
       "\n",
       "[5 rows x 29 columns]"
      ]
     },
     "execution_count": 14,
     "metadata": {},
     "output_type": "execute_result"
    }
   ],
   "source": [
    "df_dummy.head()"
   ]
  },
  {
   "cell_type": "markdown",
   "id": "74a7547f-0440-49d7-97c4-86b2f78c868b",
   "metadata": {},
   "source": [
    "### Classification\n",
    "---"
   ]
  },
  {
   "cell_type": "code",
   "execution_count": 15,
   "id": "9964fafa-e2d0-455f-849b-e1e52ab7f692",
   "metadata": {},
   "outputs": [],
   "source": [
    "X = df_dummy.drop(columns=['GIS_ACRES', 'date', 'q_avgtempF', 'q_avghumid', 'q_sumprecip', 'maxtempF', 'mintempF', 'CAUSE', 'bool', 'county'])\n",
    "y = df_dummy['bool']\n",
    "\n",
    "X_train, X_test, y_train, y_test = train_test_split(X, y, random_state=42, test_size=0.3)"
   ]
  },
  {
   "cell_type": "code",
   "execution_count": 16,
   "id": "25acb2f5-098d-4102-9c44-9a197c123a82",
   "metadata": {},
   "outputs": [
    {
     "data": {
      "text/plain": [
       "bool\n",
       "0    0.638424\n",
       "1    0.361576\n",
       "Name: proportion, dtype: float64"
      ]
     },
     "execution_count": 16,
     "metadata": {},
     "output_type": "execute_result"
    }
   ],
   "source": [
    "df['bool'].value_counts(normalize=True) #Unbalanced data"
   ]
  },
  {
   "cell_type": "markdown",
   "id": "c0b93b8c",
   "metadata": {},
   "source": [
    "## 羅吉斯回歸"
   ]
  },
  {
   "cell_type": "code",
   "execution_count": 17,
   "id": "d4876001",
   "metadata": {},
   "outputs": [
    {
     "name": "stdout",
     "output_type": "stream",
     "text": [
      "Train score: 0.7434663892861787\n",
      "Test score: 0.7573551713679102\n"
     ]
    },
    {
     "name": "stderr",
     "output_type": "stream",
     "text": [
      "C:\\Users\\ygz08\\AppData\\Local\\Packages\\PythonSoftwareFoundation.Python.3.11_qbz5n2kfra8p0\\LocalCache\\local-packages\\Python311\\site-packages\\sklearn\\linear_model\\_logistic.py:465: ConvergenceWarning: lbfgs failed to converge (status=1):\n",
      "STOP: TOTAL NO. OF ITERATIONS REACHED LIMIT.\n",
      "\n",
      "Increase the number of iterations (max_iter) or scale the data as shown in:\n",
      "    https://scikit-learn.org/stable/modules/preprocessing.html\n",
      "Please also refer to the documentation for alternative solver options:\n",
      "    https://scikit-learn.org/stable/modules/linear_model.html#logistic-regression\n",
      "  n_iter_i = _check_optimize_result(\n"
     ]
    }
   ],
   "source": [
    "from sklearn.linear_model import LogisticRegression\n",
    "\n",
    "# 方法四：使用 class_weight='balanced'\n",
    "log_reg = LogisticRegression(max_iter=1000, class_weight='balanced')\n",
    "log_reg.fit(X_train, y_train)\n",
    "\n",
    "# 檢查訓練與測試分數\n",
    "print(\"Train score:\", log_reg.score(X_train, y_train))\n",
    "print(\"Test score:\", log_reg.score(X_test, y_test))\n"
   ]
  },
  {
   "cell_type": "markdown",
   "id": "a80c81dc",
   "metadata": {},
   "source": [
    "###  羅吉斯回歸-混淆矩陣"
   ]
  },
  {
   "cell_type": "code",
   "execution_count": 18,
   "id": "e2cf4943",
   "metadata": {},
   "outputs": [
    {
     "data": {
      "image/png": "[encoded data removed]",
      "text/plain": [
       "<Figure size 640x480 with 2 Axes>"
      ]
     },
     "metadata": {},
     "output_type": "display_data"
    },
    {
     "name": "stdout",
     "output_type": "stream",
     "text": [
      "Classification Report:\n",
      "\n",
      "              precision    recall  f1-score   support\n",
      "\n",
      "           0     0.8778    0.7188    0.7904      2098\n",
      "           1     0.6263    0.8249    0.7120      1199\n",
      "\n",
      "    accuracy                         0.7574      3297\n",
      "   macro avg     0.7521    0.7718    0.7512      3297\n",
      "weighted avg     0.7863    0.7574    0.7619      3297\n",
      "\n"
     ]
    }
   ],
   "source": [
    "from sklearn.linear_model import LogisticRegression\n",
    "from sklearn.metrics import confusion_matrix, classification_report\n",
    "import matplotlib.pyplot as plt\n",
    "import seaborn as sns\n",
    "\n",
    "y_pred = log_reg.predict(X_test)\n",
    "\n",
    "# 混淆矩陣\n",
    "cm = confusion_matrix(y_test, y_pred)\n",
    "sns.heatmap(cm, annot=True, fmt='d', cmap='Blues', xticklabels=[0,1], yticklabels=[0,1])\n",
    "plt.xlabel(\"Predicted\")\n",
    "plt.ylabel(\"Actual\")\n",
    "plt.title(\"Confusion Matrix\")\n",
    "plt.show()\n",
    "\n",
    "# classification report（包含 precision, recall, f1-score）\n",
    "print(\"Classification Report:\\n\")\n",
    "print(classification_report(y_test, y_pred, digits=4))"
   ]
  },
  {
   "cell_type": "code",
   "execution_count": 19,
   "id": "513588e1-7dd0-49b8-be16-d26a13e9f9e3",
   "metadata": {},
   "outputs": [],
   "source": [
    "pd.set_option('display.max_row', None)"
   ]
  },
  {
   "cell_type": "code",
   "execution_count": 20,
   "id": "ff5f8af5-b3c6-455b-a5e1-df59e1d3087d",
   "metadata": {},
   "outputs": [
    {
     "data": {
      "text/html": [
       "<div>\n",
       "<style scoped>\n",
       "    .dataframe tbody tr th:only-of-type {\n",
       "        vertical-align: middle;\n",
       "    }\n",
       "\n",
       "    .dataframe tbody tr th {\n",
       "        vertical-align: top;\n",
       "    }\n",
       "\n",
       "    .dataframe thead th {\n",
       "        text-align: right;\n",
       "    }\n",
       "</style>\n",
       "<table border=\"1\" class=\"dataframe\">\n",
       "  <thead>\n",
       "    <tr style=\"text-align: right;\">\n",
       "      <th></th>\n",
       "      <th>0</th>\n",
       "    </tr>\n",
       "  </thead>\n",
       "  <tbody>\n",
       "    <tr>\n",
       "      <th>month_8</th>\n",
       "      <td>1.088163</td>\n",
       "    </tr>\n",
       "    <tr>\n",
       "      <th>month_11</th>\n",
       "      <td>0.647992</td>\n",
       "    </tr>\n",
       "    <tr>\n",
       "      <th>month_9</th>\n",
       "      <td>0.551165</td>\n",
       "    </tr>\n",
       "    <tr>\n",
       "      <th>sunHour</th>\n",
       "      <td>0.542979</td>\n",
       "    </tr>\n",
       "    <tr>\n",
       "      <th>month_12</th>\n",
       "      <td>0.468268</td>\n",
       "    </tr>\n",
       "    <tr>\n",
       "      <th>month_7</th>\n",
       "      <td>0.265440</td>\n",
       "    </tr>\n",
       "    <tr>\n",
       "      <th>month_10</th>\n",
       "      <td>0.086014</td>\n",
       "    </tr>\n",
       "    <tr>\n",
       "      <th>totalSnow</th>\n",
       "      <td>0.009221</td>\n",
       "    </tr>\n",
       "    <tr>\n",
       "      <th>year</th>\n",
       "      <td>-0.001591</td>\n",
       "    </tr>\n",
       "    <tr>\n",
       "      <th>avgtempF</th>\n",
       "      <td>-0.006095</td>\n",
       "    </tr>\n",
       "    <tr>\n",
       "      <th>humid</th>\n",
       "      <td>-0.025933</td>\n",
       "    </tr>\n",
       "    <tr>\n",
       "      <th>wind</th>\n",
       "      <td>-0.269691</td>\n",
       "    </tr>\n",
       "    <tr>\n",
       "      <th>month_6</th>\n",
       "      <td>-0.278308</td>\n",
       "    </tr>\n",
       "    <tr>\n",
       "      <th>month_4</th>\n",
       "      <td>-0.373681</td>\n",
       "    </tr>\n",
       "    <tr>\n",
       "      <th>precip</th>\n",
       "      <td>-0.439664</td>\n",
       "    </tr>\n",
       "    <tr>\n",
       "      <th>month_5</th>\n",
       "      <td>-0.451514</td>\n",
       "    </tr>\n",
       "    <tr>\n",
       "      <th>month_1</th>\n",
       "      <td>-0.524014</td>\n",
       "    </tr>\n",
       "    <tr>\n",
       "      <th>month_3</th>\n",
       "      <td>-0.597550</td>\n",
       "    </tr>\n",
       "    <tr>\n",
       "      <th>month_2</th>\n",
       "      <td>-0.917220</td>\n",
       "    </tr>\n",
       "  </tbody>\n",
       "</table>\n",
       "</div>"
      ],
      "text/plain": [
       "                  0\n",
       "month_8    1.088163\n",
       "month_11   0.647992\n",
       "month_9    0.551165\n",
       "sunHour    0.542979\n",
       "month_12   0.468268\n",
       "month_7    0.265440\n",
       "month_10   0.086014\n",
       "totalSnow  0.009221\n",
       "year      -0.001591\n",
       "avgtempF  -0.006095\n",
       "humid     -0.025933\n",
       "wind      -0.269691\n",
       "month_6   -0.278308\n",
       "month_4   -0.373681\n",
       "precip    -0.439664\n",
       "month_5   -0.451514\n",
       "month_1   -0.524014\n",
       "month_3   -0.597550\n",
       "month_2   -0.917220"
      ]
     },
     "execution_count": 20,
     "metadata": {},
     "output_type": "execute_result"
    }
   ],
   "source": [
    "coef_df = pd.DataFrame(log_reg.coef_, columns=X.columns)\n",
    "coef_df.T.sort_values(by=0, ascending=False).head(77)"
   ]
  },
  {
   "cell_type": "code",
   "execution_count": 21,
   "id": "89ebe5d6-1eb1-4d25-b4e3-013dc86be1b9",
   "metadata": {},
   "outputs": [
    {
     "data": {
      "text/plain": [
       "array([[-0.00609488,  0.00922107, -0.02593307, -0.26969065, -0.43966367,\n",
       "         0.54297853, -0.00159086, -0.5240136 , -0.91722015, -0.59754993,\n",
       "        -0.37368111, -0.45151369, -0.27830824,  0.2654397 ,  1.08816347,\n",
       "         0.55116498,  0.08601395,  0.64799208,  0.46826796]])"
      ]
     },
     "execution_count": 21,
     "metadata": {},
     "output_type": "execute_result"
    }
   ],
   "source": [
    "log_reg.coef_"
   ]
  },
  {
   "cell_type": "markdown",
   "id": "92764719",
   "metadata": {},
   "source": [
    "- 這段程式碼是在對特徵進行標準化（`Standardization）`，讓每個特徵轉換成平均值為 0、標準差為 `1 的分佈，這對像是 Logistic Regression、SVM、KNN` 等模型尤其重要。"
   ]
  },
  {
   "cell_type": "code",
   "execution_count": 22,
   "id": "1da6ec89-d91b-467a-9765-832ae93589c9",
   "metadata": {},
   "outputs": [],
   "source": [
    "sc = StandardScaler()\n",
    "X_train_sc = sc.fit_transform(X_train)\n",
    "X_test_sc = sc.transform(X_test)"
   ]
  },
  {
   "cell_type": "markdown",
   "id": "016a45e8",
   "metadata": {},
   "source": [
    "## KNN"
   ]
  },
  {
   "cell_type": "code",
   "execution_count": 23,
   "id": "8610e030-e1b3-4937-abdb-f49ec296fcdc",
   "metadata": {},
   "outputs": [
    {
     "name": "stdout",
     "output_type": "stream",
     "text": [
      "Train Accuracy: 0.9986997789624236\n",
      "Test Accuracy: 0.8492569002123143\n"
     ]
    },
    {
     "data": {
      "image/png": "[encoded data removed]",
      "text/plain": [
       "<Figure size 640x480 with 2 Axes>"
      ]
     },
     "metadata": {},
     "output_type": "display_data"
    },
    {
     "name": "stdout",
     "output_type": "stream",
     "text": [
      "Classification Report:\n",
      "\n",
      "              precision    recall  f1-score   support\n",
      "\n",
      "           0     0.9185    0.8375    0.8761      2098\n",
      "           1     0.7536    0.8699    0.8076      1199\n",
      "\n",
      "    accuracy                         0.8493      3297\n",
      "   macro avg     0.8360    0.8537    0.8418      3297\n",
      "weighted avg     0.8585    0.8493    0.8512      3297\n",
      "\n"
     ]
    }
   ],
   "source": [
    "\n",
    "#KNN \n",
    "# N=3\n",
    "#Train Accuracy: 0.9986997789624236\n",
    "#Test Accuracy: 0.8495602062481044\n",
    "\n",
    "knn = KNeighborsClassifier(n_neighbors=5, weights='distance')\n",
    "knn.fit(X_train_sc, y_train)\n",
    "\n",
    "# 預測\n",
    "y_pred_knn = knn.predict(X_test_sc)\n",
    "\n",
    "# Train / Test accuracy\n",
    "print(\"Train Accuracy:\", knn.score(X_train_sc, y_train))\n",
    "print(\"Test Accuracy:\", knn.score(X_test_sc, y_test))\n",
    "\n",
    "# 混淆矩陣\n",
    "cm2 = confusion_matrix(y_test, y_pred_knn)\n",
    "sns.heatmap(cm2, annot=True, fmt='d', cmap='Greens', xticklabels=[0, 1], yticklabels=[0, 1])\n",
    "plt.xlabel(\"Predicted\")\n",
    "plt.ylabel(\"Actual\")\n",
    "plt.title(\"KNN Confusion Matrix\")\n",
    "plt.show()\n",
    "\n",
    "# classification report\n",
    "print(\"Classification Report:\\n\")\n",
    "print(classification_report(y_test, y_pred_knn, digits=4))"
   ]
  },
  {
   "cell_type": "markdown",
   "id": "84f2faf2",
   "metadata": {},
   "source": [
    "## RF 隨機森林"
   ]
  },
  {
   "cell_type": "code",
   "execution_count": 24,
   "id": "53c37ce4-5f08-4fd6-93de-479c4c59d5bc",
   "metadata": {},
   "outputs": [
    {
     "name": "stdout",
     "output_type": "stream",
     "text": [
      "Train Accuracy: 0.969054739305682\n",
      "Test Accuracy: 0.872914771003943\n"
     ]
    },
    {
     "data": {
      "image/png": "[encoded data removed]",
      "text/plain": [
       "<Figure size 640x480 with 2 Axes>"
      ]
     },
     "metadata": {},
     "output_type": "display_data"
    },
    {
     "name": "stdout",
     "output_type": "stream",
     "text": [
      "Classification Report:\n",
      "\n",
      "              precision    recall  f1-score   support\n",
      "\n",
      "           0     0.9170    0.8799    0.8981      2098\n",
      "           1     0.8037    0.8607    0.8313      1199\n",
      "\n",
      "    accuracy                         0.8729      3297\n",
      "   macro avg     0.8604    0.8703    0.8647      3297\n",
      "weighted avg     0.8758    0.8729    0.8738      3297\n",
      "\n"
     ]
    }
   ],
   "source": [
    "#Random Forest 隨機森林\n",
    "\n",
    "#Train Accuracy: 0.9837472370302951\n",
    "#Test Accuracy: 0.8823172581134364\n",
    "\n",
    "rf = RandomForestClassifier(n_estimators=150, max_depth=15, class_weight='balanced')\n",
    "rf.fit(X_train, y_train)\n",
    "\n",
    "# 預測\n",
    "y_pred_rf = rf.predict(X_test)\n",
    "\n",
    "# 準確率\n",
    "print(\"Train Accuracy:\", rf.score(X_train, y_train))\n",
    "print(\"Test Accuracy:\", rf.score(X_test, y_test))\n",
    "\n",
    "# 混淆矩陣\n",
    "cm3 = confusion_matrix(y_test, y_pred_rf)\n",
    "sns.heatmap(cm3, annot=True, fmt='d', cmap='Oranges', xticklabels=[0,1], yticklabels=[0,1])\n",
    "plt.xlabel(\"Predicted\")\n",
    "plt.ylabel(\"Actual\")\n",
    "plt.title(\"Random Forest Confusion Matrix\")\n",
    "plt.show()\n",
    "\n",
    "# classification report\n",
    "print(\"Classification Report:\\n\")\n",
    "print(classification_report(y_test, y_pred_rf, digits=4))"
   ]
  },
  {
   "cell_type": "code",
   "execution_count": 25,
   "id": "f3924e0c-fefb-4356-875a-b19ad3cfac99",
   "metadata": {},
   "outputs": [
    {
     "data": {
      "text/plain": [
       "array([0.20085815, 0.0190429 , 0.18804576, 0.12484834, 0.10171827,\n",
       "       0.22421439, 0.0621815 , 0.00455948, 0.0028742 , 0.00338653,\n",
       "       0.00645021, 0.00677605, 0.00490163, 0.01848118, 0.00975561,\n",
       "       0.00810364, 0.0066967 , 0.0033787 , 0.00372676])"
      ]
     },
     "execution_count": 25,
     "metadata": {},
     "output_type": "execute_result"
    }
   ],
   "source": [
    "rf.feature_importances_"
   ]
  },
  {
   "cell_type": "code",
   "execution_count": 26,
   "id": "800491df-7fac-43b9-99bd-47e97957f748",
   "metadata": {},
   "outputs": [
    {
     "data": {
      "text/html": [
       "<div>\n",
       "<style scoped>\n",
       "    .dataframe tbody tr th:only-of-type {\n",
       "        vertical-align: middle;\n",
       "    }\n",
       "\n",
       "    .dataframe tbody tr th {\n",
       "        vertical-align: top;\n",
       "    }\n",
       "\n",
       "    .dataframe thead th {\n",
       "        text-align: right;\n",
       "    }\n",
       "</style>\n",
       "<table border=\"1\" class=\"dataframe\">\n",
       "  <thead>\n",
       "    <tr style=\"text-align: right;\">\n",
       "      <th></th>\n",
       "      <th>0</th>\n",
       "    </tr>\n",
       "  </thead>\n",
       "  <tbody>\n",
       "    <tr>\n",
       "      <th>sunHour</th>\n",
       "      <td>0.224214</td>\n",
       "    </tr>\n",
       "    <tr>\n",
       "      <th>avgtempF</th>\n",
       "      <td>0.200858</td>\n",
       "    </tr>\n",
       "    <tr>\n",
       "      <th>humid</th>\n",
       "      <td>0.188046</td>\n",
       "    </tr>\n",
       "    <tr>\n",
       "      <th>wind</th>\n",
       "      <td>0.124848</td>\n",
       "    </tr>\n",
       "    <tr>\n",
       "      <th>precip</th>\n",
       "      <td>0.101718</td>\n",
       "    </tr>\n",
       "    <tr>\n",
       "      <th>year</th>\n",
       "      <td>0.062181</td>\n",
       "    </tr>\n",
       "    <tr>\n",
       "      <th>totalSnow</th>\n",
       "      <td>0.019043</td>\n",
       "    </tr>\n",
       "    <tr>\n",
       "      <th>month_7</th>\n",
       "      <td>0.018481</td>\n",
       "    </tr>\n",
       "    <tr>\n",
       "      <th>month_8</th>\n",
       "      <td>0.009756</td>\n",
       "    </tr>\n",
       "    <tr>\n",
       "      <th>month_9</th>\n",
       "      <td>0.008104</td>\n",
       "    </tr>\n",
       "    <tr>\n",
       "      <th>month_5</th>\n",
       "      <td>0.006776</td>\n",
       "    </tr>\n",
       "    <tr>\n",
       "      <th>month_10</th>\n",
       "      <td>0.006697</td>\n",
       "    </tr>\n",
       "    <tr>\n",
       "      <th>month_4</th>\n",
       "      <td>0.006450</td>\n",
       "    </tr>\n",
       "    <tr>\n",
       "      <th>month_6</th>\n",
       "      <td>0.004902</td>\n",
       "    </tr>\n",
       "    <tr>\n",
       "      <th>month_1</th>\n",
       "      <td>0.004559</td>\n",
       "    </tr>\n",
       "    <tr>\n",
       "      <th>month_12</th>\n",
       "      <td>0.003727</td>\n",
       "    </tr>\n",
       "    <tr>\n",
       "      <th>month_3</th>\n",
       "      <td>0.003387</td>\n",
       "    </tr>\n",
       "    <tr>\n",
       "      <th>month_11</th>\n",
       "      <td>0.003379</td>\n",
       "    </tr>\n",
       "    <tr>\n",
       "      <th>month_2</th>\n",
       "      <td>0.002874</td>\n",
       "    </tr>\n",
       "  </tbody>\n",
       "</table>\n",
       "</div>"
      ],
      "text/plain": [
       "                  0\n",
       "sunHour    0.224214\n",
       "avgtempF   0.200858\n",
       "humid      0.188046\n",
       "wind       0.124848\n",
       "precip     0.101718\n",
       "year       0.062181\n",
       "totalSnow  0.019043\n",
       "month_7    0.018481\n",
       "month_8    0.009756\n",
       "month_9    0.008104\n",
       "month_5    0.006776\n",
       "month_10   0.006697\n",
       "month_4    0.006450\n",
       "month_6    0.004902\n",
       "month_1    0.004559\n",
       "month_12   0.003727\n",
       "month_3    0.003387\n",
       "month_11   0.003379\n",
       "month_2    0.002874"
      ]
     },
     "execution_count": 26,
     "metadata": {},
     "output_type": "execute_result"
    }
   ],
   "source": [
    "feature_df = pd.DataFrame(rf.feature_importances_, index=X.columns)\n",
    "feature_df.sort_values(by=0, ascending=False)"
   ]
  },
  {
   "cell_type": "code",
   "execution_count": 27,
   "id": "5dae7742-8790-4660-a235-161b88e1ad34",
   "metadata": {},
   "outputs": [
    {
     "name": "stderr",
     "output_type": "stream",
     "text": [
      "C:\\Users\\ygz08\\AppData\\Local\\Packages\\PythonSoftwareFoundation.Python.3.11_qbz5n2kfra8p0\\LocalCache\\local-packages\\Python311\\site-packages\\sklearn\\utils\\validation.py:2732: UserWarning: X has feature names, but KNeighborsClassifier was fitted without feature names\n",
      "  warnings.warn(\n"
     ]
    },
    {
     "data": {
      "text/plain": [
       "array([1, 0, 0, ..., 0, 0, 0])"
      ]
     },
     "execution_count": 27,
     "metadata": {},
     "output_type": "execute_result"
    }
   ],
   "source": [
    "log_reg.predict(X_test)\n",
    "knn.predict(X_test)\n",
    "rf.predict(X_test)"
   ]
  },
  {
   "cell_type": "code",
   "execution_count": 28,
   "id": "54f0af54-62ed-43c1-9502-f1ccc1bca05b",
   "metadata": {},
   "outputs": [
    {
     "name": "stderr",
     "output_type": "stream",
     "text": [
      "C:\\Users\\ygz08\\AppData\\Local\\Packages\\PythonSoftwareFoundation.Python.3.11_qbz5n2kfra8p0\\LocalCache\\local-packages\\Python311\\site-packages\\sklearn\\utils\\validation.py:2732: UserWarning: X has feature names, but KNeighborsClassifier was fitted without feature names\n",
      "  warnings.warn(\n"
     ]
    },
    {
     "data": {
      "text/html": [
       "<div>\n",
       "<style scoped>\n",
       "    .dataframe tbody tr th:only-of-type {\n",
       "        vertical-align: middle;\n",
       "    }\n",
       "\n",
       "    .dataframe tbody tr th {\n",
       "        vertical-align: top;\n",
       "    }\n",
       "\n",
       "    .dataframe thead th {\n",
       "        text-align: right;\n",
       "    }\n",
       "</style>\n",
       "<table border=\"1\" class=\"dataframe\">\n",
       "  <thead>\n",
       "    <tr style=\"text-align: right;\">\n",
       "      <th></th>\n",
       "      <th>log_reg</th>\n",
       "      <th>knn</th>\n",
       "      <th>rf</th>\n",
       "      <th>ensemble</th>\n",
       "    </tr>\n",
       "  </thead>\n",
       "  <tbody>\n",
       "    <tr>\n",
       "      <th>0</th>\n",
       "      <td>1</td>\n",
       "      <td>0</td>\n",
       "      <td>1</td>\n",
       "      <td>1.0</td>\n",
       "    </tr>\n",
       "    <tr>\n",
       "      <th>1</th>\n",
       "      <td>0</td>\n",
       "      <td>0</td>\n",
       "      <td>0</td>\n",
       "      <td>0.0</td>\n",
       "    </tr>\n",
       "    <tr>\n",
       "      <th>2</th>\n",
       "      <td>0</td>\n",
       "      <td>0</td>\n",
       "      <td>0</td>\n",
       "      <td>0.0</td>\n",
       "    </tr>\n",
       "    <tr>\n",
       "      <th>3</th>\n",
       "      <td>1</td>\n",
       "      <td>0</td>\n",
       "      <td>1</td>\n",
       "      <td>1.0</td>\n",
       "    </tr>\n",
       "    <tr>\n",
       "      <th>4</th>\n",
       "      <td>0</td>\n",
       "      <td>0</td>\n",
       "      <td>0</td>\n",
       "      <td>0.0</td>\n",
       "    </tr>\n",
       "  </tbody>\n",
       "</table>\n",
       "</div>"
      ],
      "text/plain": [
       "   log_reg  knn  rf  ensemble\n",
       "0        1    0   1       1.0\n",
       "1        0    0   0       0.0\n",
       "2        0    0   0       0.0\n",
       "3        1    0   1       1.0\n",
       "4        0    0   0       0.0"
      ]
     },
     "execution_count": 28,
     "metadata": {},
     "output_type": "execute_result"
    }
   ],
   "source": [
    "pred_df = pd.DataFrame(columns=['log_reg', 'knn', 'rf'])\n",
    "pred_df['log_reg'] = log_reg.predict(X_test)\n",
    "pred_df['knn'] = knn.predict(X_test)\n",
    "pred_df['rf'] = rf.predict(X_test)\n",
    "pred_df['ensemble'] = (pred_df.sum(axis=1)/3).round(0)\n",
    "pred_df.head()"
   ]
  },
  {
   "cell_type": "code",
   "execution_count": 29,
   "id": "5d379734-b929-4721-83d0-60ccd3ebda17",
   "metadata": {},
   "outputs": [
    {
     "data": {
      "text/plain": [
       "0.8086138914164391"
      ]
     },
     "execution_count": 29,
     "metadata": {},
     "output_type": "execute_result"
    }
   ],
   "source": [
    "metrics.accuracy_score(pred_df['ensemble'], y_test)"
   ]
  },
  {
   "cell_type": "code",
   "execution_count": 30,
   "id": "fb59202f-a60b-447c-a97e-2439aae10a14",
   "metadata": {},
   "outputs": [
    {
     "data": {
      "text/plain": [
       "<sklearn.metrics._plot.roc_curve.RocCurveDisplay at 0x27eaf2bba50>"
      ]
     },
     "execution_count": 30,
     "metadata": {},
     "output_type": "execute_result"
    },
    {
     "data": {
      "image/png": "[encoded data removed]",
      "text/plain": [
       "<Figure size 640x480 with 1 Axes>"
      ]
     },
     "metadata": {},
     "output_type": "display_data"
    }
   ],
   "source": [
    "from sklearn.metrics import RocCurveDisplay\n",
    "RocCurveDisplay.from_estimator(rf, X_test, y_test)"
   ]
  },
  {
   "cell_type": "code",
   "execution_count": null,
   "id": "188df070-deeb-4987-854c-667dc143384e",
   "metadata": {},
   "outputs": [],
   "source": []
  },
  {
   "cell_type": "code",
   "execution_count": null,
   "id": "4fd19032-b9a5-4051-87d2-96f069605733",
   "metadata": {},
   "outputs": [],
   "source": []
  },
  {
   "cell_type": "markdown",
   "id": "d2f2af19",
   "metadata": {},
   "source": [
    "## DNN"
   ]
  },
  {
   "cell_type": "code",
   "execution_count": null,
   "id": "77b5e61b-57d3-4072-86f4-cc6eef337a1c",
   "metadata": {},
   "outputs": [
    {
     "name": "stdout",
     "output_type": "stream",
     "text": [
      "Epoch 1/100\n"
     ]
    },
    {
     "name": "stderr",
     "output_type": "stream",
     "text": [
      "C:\\Users\\ygz08\\AppData\\Local\\Packages\\PythonSoftwareFoundation.Python.3.11_qbz5n2kfra8p0\\LocalCache\\local-packages\\Python311\\site-packages\\keras\\src\\layers\\core\\dense.py:87: UserWarning: Do not pass an `input_shape`/`input_dim` argument to a layer. When using Sequential models, prefer using an `Input(shape)` object as the first layer in the model instead.\n",
      "  super().__init__(activity_regularizer=activity_regularizer, **kwargs)\n"
     ]
    },
    {
     "name": "stdout",
     "output_type": "stream",
     "text": [
      "\u001b[1m61/61\u001b[0m \u001b[32m━━━━━━━━━━━━━━━━━━━━\u001b[0m\u001b[37m\u001b[0m \u001b[1m2s\u001b[0m 8ms/step - Precision: 0.6267 - Recall: 0.5628 - acc: 0.7180 - loss: 0.5222 - val_Precision: 0.0000e+00 - val_Recall: 0.0000e+00 - val_acc: 0.6363 - val_loss: 4.6739\n",
      "Epoch 2/100\n",
      "\u001b[1m61/61\u001b[0m \u001b[32m━━━━━━━━━━━━━━━━━━━━\u001b[0m\u001b[37m\u001b[0m \u001b[1m0s\u001b[0m 4ms/step - Precision: 0.6452 - Recall: 0.6809 - acc: 0.7548 - loss: 0.4718 - val_Precision: 0.5347 - val_Recall: 0.8807 - val_acc: 0.6779 - val_loss: 0.6431\n",
      "Epoch 3/100\n",
      "\u001b[1m61/61\u001b[0m \u001b[32m━━━━━━━━━━━━━━━━━━━━\u001b[0m\u001b[37m\u001b[0m \u001b[1m0s\u001b[0m 4ms/step - Precision: 0.6505 - Recall: 0.7139 - acc: 0.7601 - loss: 0.4696 - val_Precision: 0.0000e+00 - val_Recall: 0.0000e+00 - val_acc: 0.6363 - val_loss: 1.4067\n",
      "Epoch 4/100\n",
      "\u001b[1m61/61\u001b[0m \u001b[32m━━━━━━━━━━━━━━━━━━━━\u001b[0m\u001b[37m\u001b[0m \u001b[1m0s\u001b[0m 4ms/step - Precision: 0.6793 - Recall: 0.6766 - acc: 0.7663 - loss: 0.4725 - val_Precision: 0.3980 - val_Recall: 0.9700 - val_acc: 0.4556 - val_loss: 1.2147\n",
      "Epoch 5/100\n",
      "\u001b[1m61/61\u001b[0m \u001b[32m━━━━━━━━━━━━━━━━━━━━\u001b[0m\u001b[37m\u001b[0m \u001b[1m0s\u001b[0m 4ms/step - Precision: 0.6715 - Recall: 0.6667 - acc: 0.7632 - loss: 0.4713 - val_Precision: 0.0000e+00 - val_Recall: 0.0000e+00 - val_acc: 0.6363 - val_loss: 1.1002\n",
      "Epoch 6/100\n",
      "\u001b[1m61/61\u001b[0m \u001b[32m━━━━━━━━━━━━━━━━━━━━\u001b[0m\u001b[37m\u001b[0m \u001b[1m0s\u001b[0m 5ms/step - Precision: 0.6749 - Recall: 0.6831 - acc: 0.7690 - loss: 0.4635 - val_Precision: 0.6955 - val_Recall: 0.5163 - val_acc: 0.7419 - val_loss: 0.6212\n",
      "Epoch 7/100\n",
      "\u001b[1m61/61\u001b[0m \u001b[32m━━━━━━━━━━━━━━━━━━━━\u001b[0m\u001b[37m\u001b[0m \u001b[1m0s\u001b[0m 4ms/step - Precision: 0.6665 - Recall: 0.7519 - acc: 0.7723 - loss: 0.4569 - val_Precision: 0.6917 - val_Recall: 0.6080 - val_acc: 0.7589 - val_loss: 0.5304\n",
      "Epoch 8/100\n",
      "\u001b[1m61/61\u001b[0m \u001b[32m━━━━━━━━━━━━━━━━━━━━\u001b[0m\u001b[37m\u001b[0m \u001b[1m0s\u001b[0m 4ms/step - Precision: 0.7007 - Recall: 0.6565 - acc: 0.7728 - loss: 0.4606 - val_Precision: 0.7085 - val_Recall: 0.4846 - val_acc: 0.7401 - val_loss: 0.5482\n",
      "Epoch 9/100\n",
      "\u001b[1m61/61\u001b[0m \u001b[32m━━━━━━━━━━━━━━━━━━━━\u001b[0m\u001b[37m\u001b[0m \u001b[1m0s\u001b[0m 4ms/step - Precision: 0.6983 - Recall: 0.6694 - acc: 0.7785 - loss: 0.4565 - val_Precision: 0.6589 - val_Recall: 0.7106 - val_acc: 0.7610 - val_loss: 0.5052\n",
      "Epoch 10/100\n",
      "\u001b[1m61/61\u001b[0m \u001b[32m━━━━━━━━━━━━━━━━━━━━\u001b[0m\u001b[37m\u001b[0m \u001b[1m0s\u001b[0m 4ms/step - Precision: 0.6821 - Recall: 0.6999 - acc: 0.7736 - loss: 0.4597 - val_Precision: 0.6798 - val_Recall: 0.6922 - val_acc: 0.7695 - val_loss: 0.4694\n",
      "Epoch 11/100\n",
      "\u001b[1m61/61\u001b[0m \u001b[32m━━━━━━━━━━━━━━━━━━━━\u001b[0m\u001b[37m\u001b[0m \u001b[1m0s\u001b[0m 4ms/step - Precision: 0.7090 - Recall: 0.6912 - acc: 0.7810 - loss: 0.4473 - val_Precision: 0.6917 - val_Recall: 0.6530 - val_acc: 0.7680 - val_loss: 0.4716\n",
      "Epoch 12/100\n",
      "\u001b[1m61/61\u001b[0m \u001b[32m━━━━━━━━━━━━━━━━━━━━\u001b[0m\u001b[37m\u001b[0m \u001b[1m0s\u001b[0m 4ms/step - Precision: 0.6684 - Recall: 0.6942 - acc: 0.7649 - loss: 0.4563 - val_Precision: 0.6992 - val_Recall: 0.6981 - val_acc: 0.7810 - val_loss: 0.4527\n",
      "Epoch 13/100\n",
      "\u001b[1m61/61\u001b[0m \u001b[32m━━━━━━━━━━━━━━━━━━━━\u001b[0m\u001b[37m\u001b[0m \u001b[1m0s\u001b[0m 4ms/step - Precision: 0.7060 - Recall: 0.6866 - acc: 0.7915 - loss: 0.4327 - val_Precision: 0.6761 - val_Recall: 0.7573 - val_acc: 0.7798 - val_loss: 0.4510\n",
      "Epoch 14/100\n",
      "\u001b[1m61/61\u001b[0m \u001b[32m━━━━━━━━━━━━━━━━━━━━\u001b[0m\u001b[37m\u001b[0m \u001b[1m0s\u001b[0m 4ms/step - Precision: 0.7123 - Recall: 0.7128 - acc: 0.7913 - loss: 0.4320 - val_Precision: 0.7077 - val_Recall: 0.6947 - val_acc: 0.7847 - val_loss: 0.4452\n",
      "Epoch 15/100\n",
      "\u001b[1m61/61\u001b[0m \u001b[32m━━━━━━━━━━━━━━━━━━━━\u001b[0m\u001b[37m\u001b[0m \u001b[1m0s\u001b[0m 4ms/step - Precision: 0.7210 - Recall: 0.6791 - acc: 0.7874 - loss: 0.4279 - val_Precision: 0.7101 - val_Recall: 0.7231 - val_acc: 0.7919 - val_loss: 0.4472\n",
      "Epoch 16/100\n",
      "\u001b[1m61/61\u001b[0m \u001b[32m━━━━━━━━━━━━━━━━━━━━\u001b[0m\u001b[37m\u001b[0m \u001b[1m0s\u001b[0m 4ms/step - Precision: 0.7078 - Recall: 0.7019 - acc: 0.7881 - loss: 0.4309 - val_Precision: 0.6981 - val_Recall: 0.7523 - val_acc: 0.7916 - val_loss: 0.4397\n",
      "Epoch 17/100\n",
      "\u001b[1m61/61\u001b[0m \u001b[32m━━━━━━━━━━━━━━━━━━━━\u001b[0m\u001b[37m\u001b[0m \u001b[1m0s\u001b[0m 4ms/step - Precision: 0.7206 - Recall: 0.7142 - acc: 0.7893 - loss: 0.4331 - val_Precision: 0.7077 - val_Recall: 0.7431 - val_acc: 0.7950 - val_loss: 0.4374\n",
      "Epoch 18/100\n",
      "\u001b[1m61/61\u001b[0m \u001b[32m━━━━━━━━━━━━━━━━━━━━\u001b[0m\u001b[37m\u001b[0m \u001b[1m0s\u001b[0m 4ms/step - Precision: 0.7262 - Recall: 0.6941 - acc: 0.7984 - loss: 0.4193 - val_Precision: 0.6662 - val_Recall: 0.8040 - val_acc: 0.7822 - val_loss: 0.4480\n",
      "Epoch 19/100\n",
      "\u001b[1m61/61\u001b[0m \u001b[32m━━━━━━━━━━━━━━━━━━━━\u001b[0m\u001b[37m\u001b[0m \u001b[1m0s\u001b[0m 4ms/step - Precision: 0.6951 - Recall: 0.7245 - acc: 0.7873 - loss: 0.4314 - val_Precision: 0.7084 - val_Recall: 0.7415 - val_acc: 0.7950 - val_loss: 0.4413\n",
      "Epoch 20/100\n",
      "\u001b[1m61/61\u001b[0m \u001b[32m━━━━━━━━━━━━━━━━━━━━\u001b[0m\u001b[37m\u001b[0m \u001b[1m0s\u001b[0m 4ms/step - Precision: 0.7148 - Recall: 0.7195 - acc: 0.7995 - loss: 0.4193 - val_Precision: 0.6961 - val_Recall: 0.7298 - val_acc: 0.7859 - val_loss: 0.4378\n",
      "Epoch 21/100\n",
      "\u001b[1m61/61\u001b[0m \u001b[32m━━━━━━━━━━━━━━━━━━━━\u001b[0m\u001b[37m\u001b[0m \u001b[1m0s\u001b[0m 4ms/step - Precision: 0.7255 - Recall: 0.7149 - acc: 0.7996 - loss: 0.4131 - val_Precision: 0.7115 - val_Recall: 0.7506 - val_acc: 0.7986 - val_loss: 0.4314\n",
      "Epoch 22/100\n",
      "\u001b[1m61/61\u001b[0m \u001b[32m━━━━━━━━━━━━━━━━━━━━\u001b[0m\u001b[37m\u001b[0m \u001b[1m0s\u001b[0m 4ms/step - Precision: 0.7381 - Recall: 0.7336 - acc: 0.8065 - loss: 0.4090 - val_Precision: 0.7081 - val_Recall: 0.7364 - val_acc: 0.7938 - val_loss: 0.4282\n",
      "Epoch 23/100\n",
      "\u001b[1m61/61\u001b[0m \u001b[32m━━━━━━━━━━━━━━━━━━━━\u001b[0m\u001b[37m\u001b[0m \u001b[1m0s\u001b[0m 4ms/step - Precision: 0.7298 - Recall: 0.7247 - acc: 0.8050 - loss: 0.4090 - val_Precision: 0.7074 - val_Recall: 0.7540 - val_acc: 0.7971 - val_loss: 0.4355\n",
      "Epoch 24/100\n",
      "\u001b[1m61/61\u001b[0m \u001b[32m━━━━━━━━━━━━━━━━━━━━\u001b[0m\u001b[37m\u001b[0m \u001b[1m0s\u001b[0m 4ms/step - Precision: 0.7273 - Recall: 0.7649 - acc: 0.8095 - loss: 0.4052 - val_Precision: 0.7177 - val_Recall: 0.7548 - val_acc: 0.8029 - val_loss: 0.4280\n",
      "Epoch 25/100\n",
      "\u001b[1m61/61\u001b[0m \u001b[32m━━━━━━━━━━━━━━━━━━━━\u001b[0m\u001b[37m\u001b[0m \u001b[1m0s\u001b[0m 4ms/step - Precision: 0.7390 - Recall: 0.7349 - acc: 0.8095 - loss: 0.3977 - val_Precision: 0.7141 - val_Recall: 0.7623 - val_acc: 0.8025 - val_loss: 0.4240\n",
      "Epoch 26/100\n",
      "\u001b[1m61/61\u001b[0m \u001b[32m━━━━━━━━━━━━━━━━━━━━\u001b[0m\u001b[37m\u001b[0m \u001b[1m0s\u001b[0m 4ms/step - Precision: 0.7502 - Recall: 0.7500 - acc: 0.8202 - loss: 0.3914 - val_Precision: 0.7037 - val_Recall: 0.7706 - val_acc: 0.7986 - val_loss: 0.4274\n",
      "Epoch 27/100\n",
      "\u001b[1m61/61\u001b[0m \u001b[32m━━━━━━━━━━━━━━━━━━━━\u001b[0m\u001b[37m\u001b[0m \u001b[1m0s\u001b[0m 4ms/step - Precision: 0.7452 - Recall: 0.7425 - acc: 0.8163 - loss: 0.3954 - val_Precision: 0.7260 - val_Recall: 0.7556 - val_acc: 0.8074 - val_loss: 0.4210\n",
      "Epoch 28/100\n",
      "\u001b[1m61/61\u001b[0m \u001b[32m━━━━━━━━━━━━━━━━━━━━\u001b[0m\u001b[37m\u001b[0m \u001b[1m0s\u001b[0m 4ms/step - Precision: 0.7350 - Recall: 0.7517 - acc: 0.8170 - loss: 0.3849 - val_Precision: 0.7158 - val_Recall: 0.7540 - val_acc: 0.8016 - val_loss: 0.4309\n",
      "Epoch 29/100\n",
      "\u001b[1m61/61\u001b[0m \u001b[32m━━━━━━━━━━━━━━━━━━━━\u001b[0m\u001b[37m\u001b[0m \u001b[1m0s\u001b[0m 4ms/step - Precision: 0.7469 - Recall: 0.7509 - acc: 0.8214 - loss: 0.3885 - val_Precision: 0.7090 - val_Recall: 0.7540 - val_acc: 0.7980 - val_loss: 0.4247\n",
      "Epoch 30/100\n",
      "\u001b[1m61/61\u001b[0m \u001b[32m━━━━━━━━━━━━━━━━━━━━\u001b[0m\u001b[37m\u001b[0m \u001b[1m0s\u001b[0m 4ms/step - Precision: 0.7428 - Recall: 0.7082 - acc: 0.8097 - loss: 0.3985 - val_Precision: 0.7411 - val_Recall: 0.7114 - val_acc: 0.8047 - val_loss: 0.4226\n",
      "Epoch 31/100\n",
      "\u001b[1m61/61\u001b[0m \u001b[32m━━━━━━━━━━━━━━━━━━━━\u001b[0m\u001b[37m\u001b[0m \u001b[1m0s\u001b[0m 4ms/step - Precision: 0.7470 - Recall: 0.7528 - acc: 0.8173 - loss: 0.3875 - val_Precision: 0.7146 - val_Recall: 0.7748 - val_acc: 0.8056 - val_loss: 0.4267\n",
      "Epoch 32/100\n",
      "\u001b[1m61/61\u001b[0m \u001b[32m━━━━━━━━━━━━━━━━━━━━\u001b[0m\u001b[37m\u001b[0m \u001b[1m0s\u001b[0m 4ms/step - Precision: 0.7489 - Recall: 0.7772 - acc: 0.8280 - loss: 0.3777 - val_Precision: 0.6970 - val_Recall: 0.8057 - val_acc: 0.8019 - val_loss: 0.4319\n",
      "Epoch 33/100\n",
      "\u001b[1m61/61\u001b[0m \u001b[32m━━━━━━━━━━━━━━━━━━━━\u001b[0m\u001b[37m\u001b[0m \u001b[1m0s\u001b[0m 4ms/step - Precision: 0.7276 - Recall: 0.8017 - acc: 0.8197 - loss: 0.3835 - val_Precision: 0.7364 - val_Recall: 0.7339 - val_acc: 0.8077 - val_loss: 0.4230\n",
      "Epoch 34/100\n",
      "\u001b[1m61/61\u001b[0m \u001b[32m━━━━━━━━━━━━━━━━━━━━\u001b[0m\u001b[37m\u001b[0m \u001b[1m0s\u001b[0m 4ms/step - Precision: 0.7303 - Recall: 0.7577 - acc: 0.8104 - loss: 0.3905 - val_Precision: 0.7340 - val_Recall: 0.7456 - val_acc: 0.8092 - val_loss: 0.4220\n",
      "Epoch 35/100\n",
      "\u001b[1m61/61\u001b[0m \u001b[32m━━━━━━━━━━━━━━━━━━━━\u001b[0m\u001b[37m\u001b[0m \u001b[1m0s\u001b[0m 4ms/step - Precision: 0.7539 - Recall: 0.7342 - acc: 0.8138 - loss: 0.3882 - val_Precision: 0.7512 - val_Recall: 0.7556 - val_acc: 0.8201 - val_loss: 0.4140\n",
      "Epoch 36/100\n",
      "\u001b[1m61/61\u001b[0m \u001b[32m━━━━━━━━━━━━━━━━━━━━\u001b[0m\u001b[37m\u001b[0m \u001b[1m0s\u001b[0m 4ms/step - Precision: 0.7556 - Recall: 0.7457 - acc: 0.8195 - loss: 0.3819 - val_Precision: 0.7594 - val_Recall: 0.7214 - val_acc: 0.8156 - val_loss: 0.4111\n",
      "Epoch 37/100\n",
      "\u001b[1m61/61\u001b[0m \u001b[32m━━━━━━━━━━━━━━━━━━━━\u001b[0m\u001b[37m\u001b[0m \u001b[1m0s\u001b[0m 5ms/step - Precision: 0.7670 - Recall: 0.7648 - acc: 0.8288 - loss: 0.3777 - val_Precision: 0.7451 - val_Recall: 0.7364 - val_acc: 0.8126 - val_loss: 0.4122\n",
      "Epoch 38/100\n",
      "\u001b[1m61/61\u001b[0m \u001b[32m━━━━━━━━━━━━━━━━━━━━\u001b[0m\u001b[37m\u001b[0m \u001b[1m0s\u001b[0m 5ms/step - Precision: 0.7657 - Recall: 0.7538 - acc: 0.8307 - loss: 0.3695 - val_Precision: 0.7334 - val_Recall: 0.7548 - val_acc: 0.8110 - val_loss: 0.4160\n",
      "Epoch 39/100\n",
      "\u001b[1m61/61\u001b[0m \u001b[32m━━━━━━━━━━━━━━━━━━━━\u001b[0m\u001b[37m\u001b[0m \u001b[1m0s\u001b[0m 5ms/step - Precision: 0.7769 - Recall: 0.7751 - acc: 0.8379 - loss: 0.3616 - val_Precision: 0.7295 - val_Recall: 0.7940 - val_acc: 0.8180 - val_loss: 0.4182\n",
      "Epoch 40/100\n",
      "\u001b[1m61/61\u001b[0m \u001b[32m━━━━━━━━━━━━━━━━━━━━\u001b[0m\u001b[37m\u001b[0m \u001b[1m0s\u001b[0m 5ms/step - Precision: 0.7691 - Recall: 0.7896 - acc: 0.8378 - loss: 0.3575 - val_Precision: 0.7604 - val_Recall: 0.6564 - val_acc: 0.7998 - val_loss: 0.4146\n",
      "Epoch 41/100\n",
      "\u001b[1m61/61\u001b[0m \u001b[32m━━━━━━━━━━━━━━━━━━━━\u001b[0m\u001b[37m\u001b[0m \u001b[1m0s\u001b[0m 5ms/step - Precision: 0.7711 - Recall: 0.7358 - acc: 0.8234 - loss: 0.3673 - val_Precision: 0.7515 - val_Recall: 0.7415 - val_acc: 0.8168 - val_loss: 0.4113\n",
      "Epoch 42/100\n",
      "\u001b[1m61/61\u001b[0m \u001b[32m━━━━━━━━━━━━━━━━━━━━\u001b[0m\u001b[37m\u001b[0m \u001b[1m0s\u001b[0m 5ms/step - Precision: 0.7714 - Recall: 0.7550 - acc: 0.8300 - loss: 0.3704 - val_Precision: 0.7230 - val_Recall: 0.7923 - val_acc: 0.8141 - val_loss: 0.4142\n",
      "Epoch 43/100\n",
      "\u001b[1m61/61\u001b[0m \u001b[32m━━━━━━━━━━━━━━━━━━━━\u001b[0m\u001b[37m\u001b[0m \u001b[1m0s\u001b[0m 5ms/step - Precision: 0.7614 - Recall: 0.7751 - acc: 0.8302 - loss: 0.3676 - val_Precision: 0.7438 - val_Recall: 0.7531 - val_acc: 0.8159 - val_loss: 0.4069\n",
      "Epoch 44/100\n",
      "\u001b[1m61/61\u001b[0m \u001b[32m━━━━━━━━━━━━━━━━━━━━\u001b[0m\u001b[37m\u001b[0m \u001b[1m0s\u001b[0m 4ms/step - Precision: 0.7860 - Recall: 0.7563 - acc: 0.8365 - loss: 0.3559 - val_Precision: 0.7472 - val_Recall: 0.7665 - val_acc: 0.8207 - val_loss: 0.4066\n",
      "Epoch 45/100\n",
      "\u001b[1m61/61\u001b[0m \u001b[32m━━━━━━━━━━━━━━━━━━━━\u001b[0m\u001b[37m\u001b[0m \u001b[1m0s\u001b[0m 5ms/step - Precision: 0.7744 - Recall: 0.7723 - acc: 0.8385 - loss: 0.3554 - val_Precision: 0.7214 - val_Recall: 0.7882 - val_acc: 0.8123 - val_loss: 0.4133\n",
      "Epoch 46/100\n",
      "\u001b[1m61/61\u001b[0m \u001b[32m━━━━━━━━━━━━━━━━━━━━\u001b[0m\u001b[37m\u001b[0m \u001b[1m0s\u001b[0m 4ms/step - Precision: 0.7607 - Recall: 0.7792 - acc: 0.8331 - loss: 0.3528 - val_Precision: 0.7416 - val_Recall: 0.7756 - val_acc: 0.8201 - val_loss: 0.4132\n",
      "Epoch 47/100\n",
      "\u001b[1m61/61\u001b[0m \u001b[32m━━━━━━━━━━━━━━━━━━━━\u001b[0m\u001b[37m\u001b[0m \u001b[1m0s\u001b[0m 4ms/step - Precision: 0.7591 - Recall: 0.7613 - acc: 0.8314 - loss: 0.3623 - val_Precision: 0.7639 - val_Recall: 0.7231 - val_acc: 0.8180 - val_loss: 0.4151\n",
      "Epoch 48/100\n",
      "\u001b[1m61/61\u001b[0m \u001b[32m━━━━━━━━━━━━━━━━━━━━\u001b[0m\u001b[37m\u001b[0m \u001b[1m0s\u001b[0m 4ms/step - Precision: 0.7810 - Recall: 0.7493 - acc: 0.8392 - loss: 0.3486 - val_Precision: 0.7553 - val_Recall: 0.7723 - val_acc: 0.8262 - val_loss: 0.4054\n",
      "Epoch 49/100\n",
      "\u001b[1m61/61\u001b[0m \u001b[32m━━━━━━━━━━━━━━━━━━━━\u001b[0m\u001b[37m\u001b[0m \u001b[1m0s\u001b[0m 4ms/step - Precision: 0.8027 - Recall: 0.7428 - acc: 0.8405 - loss: 0.3475 - val_Precision: 0.7353 - val_Recall: 0.7740 - val_acc: 0.8165 - val_loss: 0.4161\n",
      "Epoch 50/100\n",
      "\u001b[1m61/61\u001b[0m \u001b[32m━━━━━━━━━━━━━━━━━━━━\u001b[0m\u001b[37m\u001b[0m \u001b[1m0s\u001b[0m 4ms/step - Precision: 0.7752 - Recall: 0.7773 - acc: 0.8394 - loss: 0.3489 - val_Precision: 0.7457 - val_Recall: 0.7581 - val_acc: 0.8180 - val_loss: 0.4052\n",
      "Epoch 51/100\n",
      "\u001b[1m61/61\u001b[0m \u001b[32m━━━━━━━━━━━━━━━━━━━━\u001b[0m\u001b[37m\u001b[0m \u001b[1m0s\u001b[0m 4ms/step - Precision: 0.7893 - Recall: 0.7789 - acc: 0.8458 - loss: 0.3379 - val_Precision: 0.7381 - val_Recall: 0.7990 - val_acc: 0.8238 - val_loss: 0.4081\n",
      "Epoch 52/100\n",
      "\u001b[1m61/61\u001b[0m \u001b[32m━━━━━━━━━━━━━━━━━━━━\u001b[0m\u001b[37m\u001b[0m \u001b[1m0s\u001b[0m 4ms/step - Precision: 0.7778 - Recall: 0.8087 - acc: 0.8488 - loss: 0.3404 - val_Precision: 0.7423 - val_Recall: 0.7807 - val_acc: 0.8217 - val_loss: 0.4049\n",
      "Epoch 53/100\n",
      "\u001b[1m61/61\u001b[0m \u001b[32m━━━━━━━━━━━━━━━━━━━━\u001b[0m\u001b[37m\u001b[0m \u001b[1m0s\u001b[0m 4ms/step - Precision: 0.7621 - Recall: 0.8224 - acc: 0.8425 - loss: 0.3494 - val_Precision: 0.7480 - val_Recall: 0.7798 - val_acc: 0.8244 - val_loss: 0.3991\n",
      "Epoch 54/100\n",
      "\u001b[1m61/61\u001b[0m \u001b[32m━━━━━━━━━━━━━━━━━━━━\u001b[0m\u001b[37m\u001b[0m \u001b[1m0s\u001b[0m 4ms/step - Precision: 0.7845 - Recall: 0.7713 - acc: 0.8408 - loss: 0.3426 - val_Precision: 0.7351 - val_Recall: 0.8007 - val_acc: 0.8226 - val_loss: 0.4170\n",
      "Epoch 55/100\n",
      "\u001b[1m61/61\u001b[0m \u001b[32m━━━━━━━━━━━━━━━━━━━━\u001b[0m\u001b[37m\u001b[0m \u001b[1m0s\u001b[0m 4ms/step - Precision: 0.7729 - Recall: 0.7942 - acc: 0.8395 - loss: 0.3434 - val_Precision: 0.7696 - val_Recall: 0.7440 - val_acc: 0.8259 - val_loss: 0.4005\n",
      "Epoch 56/100\n",
      "\u001b[1m61/61\u001b[0m \u001b[32m━━━━━━━━━━━━━━━━━━━━\u001b[0m\u001b[37m\u001b[0m \u001b[1m0s\u001b[0m 4ms/step - Precision: 0.7923 - Recall: 0.7753 - acc: 0.8446 - loss: 0.3343 - val_Precision: 0.7417 - val_Recall: 0.7857 - val_acc: 0.8226 - val_loss: 0.4082\n",
      "Epoch 57/100\n",
      "\u001b[1m61/61\u001b[0m \u001b[32m━━━━━━━━━━━━━━━━━━━━\u001b[0m\u001b[37m\u001b[0m \u001b[1m0s\u001b[0m 4ms/step - Precision: 0.7853 - Recall: 0.8126 - acc: 0.8496 - loss: 0.3341 - val_Precision: 0.7506 - val_Recall: 0.7781 - val_acc: 0.8253 - val_loss: 0.4098\n",
      "Epoch 58/100\n",
      "\u001b[1m61/61\u001b[0m \u001b[32m━━━━━━━━━━━━━━━━━━━━\u001b[0m\u001b[37m\u001b[0m \u001b[1m0s\u001b[0m 4ms/step - Precision: 0.7892 - Recall: 0.7917 - acc: 0.8513 - loss: 0.3362 - val_Precision: 0.7378 - val_Recall: 0.7932 - val_acc: 0.8223 - val_loss: 0.4024\n",
      "Epoch 59/100\n",
      "\u001b[1m61/61\u001b[0m \u001b[32m━━━━━━━━━━━━━━━━━━━━\u001b[0m\u001b[37m\u001b[0m \u001b[1m0s\u001b[0m 4ms/step - Precision: 0.7921 - Recall: 0.7925 - acc: 0.8509 - loss: 0.3306 - val_Precision: 0.7550 - val_Recall: 0.7815 - val_acc: 0.8283 - val_loss: 0.4021\n",
      "Epoch 60/100\n",
      "\u001b[1m61/61\u001b[0m \u001b[32m━━━━━━━━━━━━━━━━━━━━\u001b[0m\u001b[37m\u001b[0m \u001b[1m0s\u001b[0m 4ms/step - Precision: 0.7864 - Recall: 0.7922 - acc: 0.8494 - loss: 0.3218 - val_Precision: 0.7406 - val_Recall: 0.8048 - val_acc: 0.8265 - val_loss: 0.4032\n",
      "Epoch 61/100\n",
      "\u001b[1m61/61\u001b[0m \u001b[32m━━━━━━━━━━━━━━━━━━━━\u001b[0m\u001b[37m\u001b[0m \u001b[1m0s\u001b[0m 4ms/step - Precision: 0.8013 - Recall: 0.7845 - acc: 0.8504 - loss: 0.3269 - val_Precision: 0.7518 - val_Recall: 0.7932 - val_acc: 0.8295 - val_loss: 0.4088\n",
      "Epoch 62/100\n",
      "\u001b[1m61/61\u001b[0m \u001b[32m━━━━━━━━━━━━━━━━━━━━\u001b[0m\u001b[37m\u001b[0m \u001b[1m0s\u001b[0m 4ms/step - Precision: 0.7926 - Recall: 0.8109 - acc: 0.8569 - loss: 0.3225 - val_Precision: 0.7553 - val_Recall: 0.7798 - val_acc: 0.8280 - val_loss: 0.4054\n",
      "Epoch 63/100\n",
      "\u001b[1m61/61\u001b[0m \u001b[32m━━━━━━━━━━━━━━━━━━━━\u001b[0m\u001b[37m\u001b[0m \u001b[1m0s\u001b[0m 4ms/step - Precision: 0.7890 - Recall: 0.7865 - acc: 0.8497 - loss: 0.3254 - val_Precision: 0.7397 - val_Recall: 0.8198 - val_acc: 0.8295 - val_loss: 0.4158\n",
      "Epoch 64/100\n",
      "\u001b[1m61/61\u001b[0m \u001b[32m━━━━━━━━━━━━━━━━━━━━\u001b[0m\u001b[37m\u001b[0m \u001b[1m0s\u001b[0m 4ms/step - Precision: 0.7917 - Recall: 0.8110 - acc: 0.8526 - loss: 0.3330 - val_Precision: 0.7684 - val_Recall: 0.7665 - val_acc: 0.8311 - val_loss: 0.4003\n",
      "Epoch 65/100\n",
      "\u001b[1m61/61\u001b[0m \u001b[32m━━━━━━━━━━━━━━━━━━━━\u001b[0m\u001b[37m\u001b[0m \u001b[1m0s\u001b[0m 4ms/step - Precision: 0.8024 - Recall: 0.8022 - acc: 0.8566 - loss: 0.3230 - val_Precision: 0.7400 - val_Recall: 0.7882 - val_acc: 0.8223 - val_loss: 0.4117\n",
      "Epoch 66/100\n",
      "\u001b[1m61/61\u001b[0m \u001b[32m━━━━━━━━━━━━━━━━━━━━\u001b[0m\u001b[37m\u001b[0m \u001b[1m0s\u001b[0m 4ms/step - Precision: 0.7876 - Recall: 0.7943 - acc: 0.8502 - loss: 0.3244 - val_Precision: 0.7640 - val_Recall: 0.7857 - val_acc: 0.8338 - val_loss: 0.4029\n",
      "Epoch 67/100\n",
      "\u001b[1m61/61\u001b[0m \u001b[32m━━━━━━━━━━━━━━━━━━━━\u001b[0m\u001b[37m\u001b[0m \u001b[1m0s\u001b[0m 4ms/step - Precision: 0.7898 - Recall: 0.7753 - acc: 0.8419 - loss: 0.3331 - val_Precision: 0.7502 - val_Recall: 0.7915 - val_acc: 0.8283 - val_loss: 0.4097\n",
      "Epoch 68/100\n",
      "\u001b[1m61/61\u001b[0m \u001b[32m━━━━━━━━━━━━━━━━━━━━\u001b[0m\u001b[37m\u001b[0m \u001b[1m0s\u001b[0m 4ms/step - Precision: 0.7803 - Recall: 0.7988 - acc: 0.8494 - loss: 0.3259 - val_Precision: 0.7659 - val_Recall: 0.7640 - val_acc: 0.8292 - val_loss: 0.4031\n",
      "Epoch 69/100\n",
      "\u001b[1m61/61\u001b[0m \u001b[32m━━━━━━━━━━━━━━━━━━━━\u001b[0m\u001b[37m\u001b[0m \u001b[1m0s\u001b[0m 4ms/step - Precision: 0.8018 - Recall: 0.7863 - acc: 0.8554 - loss: 0.3180 - val_Precision: 0.7575 - val_Recall: 0.7815 - val_acc: 0.8295 - val_loss: 0.4098\n",
      "Epoch 70/100\n",
      "\u001b[1m61/61\u001b[0m \u001b[32m━━━━━━━━━━━━━━━━━━━━\u001b[0m\u001b[37m\u001b[0m \u001b[1m0s\u001b[0m 5ms/step - Precision: 0.8129 - Recall: 0.8107 - acc: 0.8606 - loss: 0.3101 - val_Precision: 0.7475 - val_Recall: 0.8073 - val_acc: 0.8308 - val_loss: 0.4074\n",
      "Epoch 71/100\n",
      "\u001b[1m61/61\u001b[0m \u001b[32m━━━━━━━━━━━━━━━━━━━━\u001b[0m\u001b[37m\u001b[0m \u001b[1m0s\u001b[0m 4ms/step - Precision: 0.7901 - Recall: 0.8126 - acc: 0.8546 - loss: 0.3200 - val_Precision: 0.7475 - val_Recall: 0.8123 - val_acc: 0.8320 - val_loss: 0.4067\n",
      "Epoch 72/100\n",
      "\u001b[1m61/61\u001b[0m \u001b[32m━━━━━━━━━━━━━━━━━━━━\u001b[0m\u001b[37m\u001b[0m \u001b[1m0s\u001b[0m 4ms/step - Precision: 0.7935 - Recall: 0.8242 - acc: 0.8592 - loss: 0.3130 - val_Precision: 0.7602 - val_Recall: 0.7640 - val_acc: 0.8265 - val_loss: 0.4072\n",
      "Epoch 73/100\n",
      "\u001b[1m61/61\u001b[0m \u001b[32m━━━━━━━━━━━━━━━━━━━━\u001b[0m\u001b[37m\u001b[0m \u001b[1m0s\u001b[0m 4ms/step - Precision: 0.7939 - Recall: 0.8039 - acc: 0.8566 - loss: 0.3148 - val_Precision: 0.7595 - val_Recall: 0.7848 - val_acc: 0.8314 - val_loss: 0.4032\n",
      "Epoch 74/100\n",
      "\u001b[1m61/61\u001b[0m \u001b[32m━━━━━━━━━━━━━━━━━━━━\u001b[0m\u001b[37m\u001b[0m \u001b[1m0s\u001b[0m 4ms/step - Precision: 0.8001 - Recall: 0.8027 - acc: 0.8581 - loss: 0.3108 - val_Precision: 0.7469 - val_Recall: 0.8073 - val_acc: 0.8305 - val_loss: 0.4252\n",
      "Epoch 75/100\n",
      "\u001b[1m61/61\u001b[0m \u001b[32m━━━━━━━━━━━━━━━━━━━━\u001b[0m\u001b[37m\u001b[0m \u001b[1m0s\u001b[0m 4ms/step - Precision: 0.7897 - Recall: 0.8105 - acc: 0.8543 - loss: 0.3145 - val_Precision: 0.7540 - val_Recall: 0.8232 - val_acc: 0.8380 - val_loss: 0.4105\n",
      "Epoch 76/100\n",
      "\u001b[1m61/61\u001b[0m \u001b[32m━━━━━━━━━━━━━━━━━━━━\u001b[0m\u001b[37m\u001b[0m \u001b[1m0s\u001b[0m 4ms/step - Precision: 0.8007 - Recall: 0.8160 - acc: 0.8619 - loss: 0.3126 - val_Precision: 0.7521 - val_Recall: 0.8123 - val_acc: 0.8344 - val_loss: 0.4007\n",
      "Epoch 77/100\n",
      "\u001b[1m61/61\u001b[0m \u001b[32m━━━━━━━━━━━━━━━━━━━━\u001b[0m\u001b[37m\u001b[0m \u001b[1m0s\u001b[0m 4ms/step - Precision: 0.7872 - Recall: 0.8187 - acc: 0.8580 - loss: 0.3071 - val_Precision: 0.7506 - val_Recall: 0.8032 - val_acc: 0.8314 - val_loss: 0.4001\n",
      "Epoch 78/100\n",
      "\u001b[1m61/61\u001b[0m \u001b[32m━━━━━━━━━━━━━━━━━━━━\u001b[0m\u001b[37m\u001b[0m \u001b[1m0s\u001b[0m 4ms/step - Precision: 0.8070 - Recall: 0.8117 - acc: 0.8592 - loss: 0.3101 - val_Precision: 0.7768 - val_Recall: 0.7723 - val_acc: 0.8365 - val_loss: 0.4081\n",
      "Epoch 79/100\n",
      "\u001b[1m61/61\u001b[0m \u001b[32m━━━━━━━━━━━━━━━━━━━━\u001b[0m\u001b[37m\u001b[0m \u001b[1m0s\u001b[0m 4ms/step - Precision: 0.8209 - Recall: 0.7894 - acc: 0.8626 - loss: 0.3000 - val_Precision: 0.7514 - val_Recall: 0.8040 - val_acc: 0.8320 - val_loss: 0.4125\n",
      "Epoch 80/100\n",
      "\u001b[1m61/61\u001b[0m \u001b[32m━━━━━━━━━━━━━━━━━━━━\u001b[0m\u001b[37m\u001b[0m \u001b[1m0s\u001b[0m 4ms/step - Precision: 0.8164 - Recall: 0.8123 - acc: 0.8659 - loss: 0.3110 - val_Precision: 0.7594 - val_Recall: 0.8082 - val_acc: 0.8371 - val_loss: 0.4071\n",
      "Epoch 81/100\n",
      "\u001b[1m61/61\u001b[0m \u001b[32m━━━━━━━━━━━━━━━━━━━━\u001b[0m\u001b[37m\u001b[0m \u001b[1m0s\u001b[0m 4ms/step - Precision: 0.7987 - Recall: 0.8148 - acc: 0.8568 - loss: 0.3123 - val_Precision: 0.7551 - val_Recall: 0.7973 - val_acc: 0.8323 - val_loss: 0.4097\n",
      "Epoch 82/100\n",
      "\u001b[1m61/61\u001b[0m \u001b[32m━━━━━━━━━━━━━━━━━━━━\u001b[0m\u001b[37m\u001b[0m \u001b[1m0s\u001b[0m 4ms/step - Precision: 0.8128 - Recall: 0.8231 - acc: 0.8651 - loss: 0.3021 - val_Precision: 0.7371 - val_Recall: 0.8207 - val_acc: 0.8283 - val_loss: 0.4190\n",
      "Epoch 83/100\n",
      "\u001b[1m61/61\u001b[0m \u001b[32m━━━━━━━━━━━━━━━━━━━━\u001b[0m\u001b[37m\u001b[0m \u001b[1m0s\u001b[0m 4ms/step - Precision: 0.7699 - Recall: 0.8273 - acc: 0.8492 - loss: 0.3114 - val_Precision: 0.7520 - val_Recall: 0.7990 - val_acc: 0.8311 - val_loss: 0.4123\n",
      "Epoch 84/100\n",
      "\u001b[1m61/61\u001b[0m \u001b[32m━━━━━━━━━━━━━━━━━━━━\u001b[0m\u001b[37m\u001b[0m \u001b[1m0s\u001b[0m 4ms/step - Precision: 0.8250 - Recall: 0.8173 - acc: 0.8679 - loss: 0.3051 - val_Precision: 0.7455 - val_Recall: 0.7990 - val_acc: 0.8277 - val_loss: 0.4205\n",
      "Epoch 85/100\n",
      "\u001b[1m61/61\u001b[0m \u001b[32m━━━━━━━━━━━━━━━━━━━━\u001b[0m\u001b[37m\u001b[0m \u001b[1m0s\u001b[0m 4ms/step - Precision: 0.8109 - Recall: 0.8094 - acc: 0.8611 - loss: 0.3017 - val_Precision: 0.7736 - val_Recall: 0.7923 - val_acc: 0.8402 - val_loss: 0.4040\n",
      "Epoch 86/100\n",
      "\u001b[1m61/61\u001b[0m \u001b[32m━━━━━━━━━━━━━━━━━━━━\u001b[0m\u001b[37m\u001b[0m \u001b[1m0s\u001b[0m 4ms/step - Precision: 0.8178 - Recall: 0.8116 - acc: 0.8665 - loss: 0.2993 - val_Precision: 0.7573 - val_Recall: 0.8015 - val_acc: 0.8344 - val_loss: 0.4105\n",
      "Epoch 87/100\n",
      "\u001b[1m61/61\u001b[0m \u001b[32m━━━━━━━━━━━━━━━━━━━━\u001b[0m\u001b[37m\u001b[0m \u001b[1m0s\u001b[0m 4ms/step - Precision: 0.8084 - Recall: 0.8087 - acc: 0.8622 - loss: 0.3038 - val_Precision: 0.7485 - val_Recall: 0.8115 - val_acc: 0.8323 - val_loss: 0.4202\n",
      "Epoch 88/100\n",
      "\u001b[1m61/61\u001b[0m \u001b[32m━━━━━━━━━━━━━━━━━━━━\u001b[0m\u001b[37m\u001b[0m \u001b[1m0s\u001b[0m 4ms/step - Precision: 0.8029 - Recall: 0.8468 - acc: 0.8713 - loss: 0.2968 - val_Precision: 0.7716 - val_Recall: 0.7890 - val_acc: 0.8383 - val_loss: 0.4183\n",
      "Epoch 89/100\n",
      "\u001b[1m61/61\u001b[0m \u001b[32m━━━━━━━━━━━━━━━━━━━━\u001b[0m\u001b[37m\u001b[0m \u001b[1m0s\u001b[0m 4ms/step - Precision: 0.8073 - Recall: 0.8068 - acc: 0.8612 - loss: 0.3024 - val_Precision: 0.7727 - val_Recall: 0.7965 - val_acc: 0.8408 - val_loss: 0.4033\n",
      "Epoch 90/100\n",
      "\u001b[1m61/61\u001b[0m \u001b[32m━━━━━━━━━━━━━━━━━━━━\u001b[0m\u001b[37m\u001b[0m \u001b[1m0s\u001b[0m 4ms/step - Precision: 0.8272 - Recall: 0.8302 - acc: 0.8746 - loss: 0.2843 - val_Precision: 0.7585 - val_Recall: 0.8198 - val_acc: 0.8396 - val_loss: 0.4097\n",
      "Epoch 91/100\n",
      "\u001b[1m61/61\u001b[0m \u001b[32m━━━━━━━━━━━━━━━━━━━━\u001b[0m\u001b[37m\u001b[0m \u001b[1m0s\u001b[0m 4ms/step - Precision: 0.7947 - Recall: 0.8025 - acc: 0.8546 - loss: 0.3100 - val_Precision: 0.7367 - val_Recall: 0.8215 - val_acc: 0.8283 - val_loss: 0.4164\n",
      "Epoch 92/100\n",
      "\u001b[1m61/61\u001b[0m \u001b[32m━━━━━━━━━━━━━━━━━━━━\u001b[0m\u001b[37m\u001b[0m \u001b[1m0s\u001b[0m 4ms/step - Precision: 0.8086 - Recall: 0.8383 - acc: 0.8708 - loss: 0.2864 - val_Precision: 0.7750 - val_Recall: 0.7898 - val_acc: 0.8402 - val_loss: 0.4050\n",
      "Epoch 93/100\n",
      "\u001b[1m61/61\u001b[0m \u001b[32m━━━━━━━━━━━━━━━━━━━━\u001b[0m\u001b[37m\u001b[0m \u001b[1m0s\u001b[0m 4ms/step - Precision: 0.8122 - Recall: 0.8268 - acc: 0.8698 - loss: 0.2859 - val_Precision: 0.7694 - val_Recall: 0.7957 - val_acc: 0.8389 - val_loss: 0.4174\n",
      "Epoch 94/100\n",
      "\u001b[1m61/61\u001b[0m \u001b[32m━━━━━━━━━━━━━━━━━━━━\u001b[0m\u001b[37m\u001b[0m \u001b[1m0s\u001b[0m 4ms/step - Precision: 0.8241 - Recall: 0.8058 - acc: 0.8696 - loss: 0.2899 - val_Precision: 0.7413 - val_Recall: 0.8198 - val_acc: 0.8305 - val_loss: 0.4151\n",
      "Epoch 95/100\n",
      "\u001b[1m61/61\u001b[0m \u001b[32m━━━━━━━━━━━━━━━━━━━━\u001b[0m\u001b[37m\u001b[0m \u001b[1m0s\u001b[0m 4ms/step - Precision: 0.8230 - Recall: 0.7989 - acc: 0.8659 - loss: 0.2881 - val_Precision: 0.7698 - val_Recall: 0.8007 - val_acc: 0.8405 - val_loss: 0.4024\n",
      "Epoch 96/100\n",
      "\u001b[1m61/61\u001b[0m \u001b[32m━━━━━━━━━━━━━━━━━━━━\u001b[0m\u001b[37m\u001b[0m \u001b[1m0s\u001b[0m 4ms/step - Precision: 0.8125 - Recall: 0.8218 - acc: 0.8663 - loss: 0.2978 - val_Precision: 0.7419 - val_Recall: 0.8173 - val_acc: 0.8301 - val_loss: 0.4194\n",
      "Epoch 97/100\n",
      "\u001b[1m61/61\u001b[0m \u001b[32m━━━━━━━━━━━━━━━━━━━━\u001b[0m\u001b[37m\u001b[0m \u001b[1m0s\u001b[0m 4ms/step - Precision: 0.8332 - Recall: 0.8416 - acc: 0.8800 - loss: 0.2795 - val_Precision: 0.7720 - val_Recall: 0.7765 - val_acc: 0.8353 - val_loss: 0.4101\n",
      "Epoch 98/100\n",
      "\u001b[1m61/61\u001b[0m \u001b[32m━━━━━━━━━━━━━━━━━━━━\u001b[0m\u001b[37m\u001b[0m \u001b[1m0s\u001b[0m 4ms/step - Precision: 0.8084 - Recall: 0.8270 - acc: 0.8683 - loss: 0.2868 - val_Precision: 0.7678 - val_Recall: 0.7915 - val_acc: 0.8371 - val_loss: 0.4156\n",
      "Epoch 99/100\n",
      "\u001b[1m61/61\u001b[0m \u001b[32m━━━━━━━━━━━━━━━━━━━━\u001b[0m\u001b[37m\u001b[0m \u001b[1m0s\u001b[0m 4ms/step - Precision: 0.8281 - Recall: 0.8294 - acc: 0.8757 - loss: 0.2803 - val_Precision: 0.7667 - val_Recall: 0.8057 - val_acc: 0.8402 - val_loss: 0.4211\n",
      "Epoch 100/100\n",
      "\u001b[1m61/61\u001b[0m \u001b[32m━━━━━━━━━━━━━━━━━━━━\u001b[0m\u001b[37m\u001b[0m \u001b[1m0s\u001b[0m 4ms/step - Precision: 0.8311 - Recall: 0.8152 - acc: 0.8732 - loss: 0.2819 - val_Precision: 0.7504 - val_Recall: 0.8274 - val_acc: 0.8371 - val_loss: 0.4239\n",
      "\u001b[1m104/104\u001b[0m \u001b[32m━━━━━━━━━━━━━━━━━━━━\u001b[0m\u001b[37m\u001b[0m \u001b[1m0s\u001b[0m 971us/step - Precision: 0.7589 - Recall: 0.8319 - acc: 0.8451 - loss: 0.4306\n"
     ]
    },
    {
     "data": {
      "text/plain": [
       "[0.42388156056404114,\n",
       " 0.8371246457099915,\n",
       " 0.8273561596870422,\n",
       " 0.7503781914710999]"
      ]
     },
     "execution_count": 38,
     "metadata": {},
     "output_type": "execute_result"
    }
   ],
   "source": [
    "n_input = X_train.shape[1]\n",
    "\n",
    "model = Sequential()\n",
    "model.add(BatchNormalization())\n",
    "model.add(Dense(256, input_shape=(n_input,), activation='relu'))\n",
    "model.add(Dropout(0.1))  # 增加 Dropout 率，避免過擬合\n",
    "model.add(Dense(512, activation='relu'))\n",
    "model.add(Dropout(0.1))  # Dropout 率可根據需要進行調整\n",
    "model.add(Dense(128, activation='relu'))\n",
    "model.add(Dropout(0.1))  # Dropout 率可根據需要進行調整\n",
    "model.add(Dense(1, activation='sigmoid'))\n",
    "\n",
    "\n",
    "# 模型optimizer 和 learning rate\n",
    "\n",
    "\n",
    "initial_lr = 0.001\n",
    "from tensorflow.keras.optimizers import schedules\n",
    "lr_schedule = schedules.ExponentialDecay(\n",
    "    initial_learning_rate=initial_lr,\n",
    "    decay_steps=100000,\n",
    "    decay_rate=0.96,\n",
    "    staircase=True)\n",
    "from tensorflow.keras.optimizers import Adam\n",
    "optimizer = Adam(learning_rate=lr_schedule)\n",
    "\n",
    "model.compile(loss='bce', optimizer=optimizer, metrics=['acc', 'Recall', 'Precision'])\n",
    "\n",
    "# EarlyStopping: 根據 val_loss 停止訓練\n",
    "early_stop = EarlyStopping(monitor='val_loss', patience=10, verbose=1, restore_best_weights=True)\n",
    "# ModelCheckpoint: 儲存最佳模型\n",
    "from tensorflow.keras.callbacks import ModelCheckpoint\n",
    "checkpoint = ModelCheckpoint('./models_temp/DNN_best_model.h5', monitor='val_loss', save_best_only=True, verbose=1)\n",
    "\n",
    "history = model.fit(X_train, y_train, validation_data=(X_test, y_test), epochs=100, batch_size=128, verbose=1)\n",
    "\n",
    "model.evaluate(X_test, y_test)"
   ]
  },
  {
   "cell_type": "code",
   "execution_count": 32,
   "id": "d4b1e3ac",
   "metadata": {},
   "outputs": [
    {
     "data": {
      "image/png": "[encoded data removed]",
      "text/plain": [
       "<Figure size 640x480 with 1 Axes>"
      ]
     },
     "metadata": {},
     "output_type": "display_data"
    },
    {
     "data": {
      "image/png": "[encoded data removed]",
      "text/plain": [
       "<Figure size 640x480 with 1 Axes>"
      ]
     },
     "metadata": {},
     "output_type": "display_data"
    }
   ],
   "source": [
    "import matplotlib.pyplot as plt\n",
    "\n",
    "# Loss 曲線\n",
    "plt.plot(history.history['loss'], label='Train Loss')\n",
    "plt.plot(history.history['val_loss'], label='Validation Loss')\n",
    "plt.xlabel('Epochs')\n",
    "plt.ylabel('Loss')\n",
    "plt.legend()\n",
    "plt.title('Loss over epochs')\n",
    "plt.show()\n",
    "\n",
    "# Accuracy 曲線\n",
    "plt.plot(history.history['acc'], label='Train Accuracy')\n",
    "plt.plot(history.history['val_acc'], label='Validation Accuracy')\n",
    "plt.xlabel('Epochs')\n",
    "plt.ylabel('Accuracy')\n",
    "plt.legend()\n",
    "plt.title('Accuracy over epochs')\n",
    "plt.show()"
   ]
  },
  {
   "cell_type": "code",
   "execution_count": 33,
   "id": "73c2dab2",
   "metadata": {},
   "outputs": [
    {
     "name": "stdout",
     "output_type": "stream",
     "text": [
      "\u001b[1m104/104\u001b[0m \u001b[32m━━━━━━━━━━━━━━━━━━━━\u001b[0m\u001b[37m\u001b[0m \u001b[1m0s\u001b[0m 1ms/step  \n"
     ]
    },
    {
     "data": {
      "image/png": "[encoded data removed]",
      "text/plain": [
       "<Figure size 600x600 with 2 Axes>"
      ]
     },
     "metadata": {},
     "output_type": "display_data"
    },
    {
     "name": "stdout",
     "output_type": "stream",
     "text": [
      "Classification Report:\n",
      "\n",
      "              precision    recall  f1-score   support\n",
      "\n",
      "           0     0.8820    0.8618    0.8717      2098\n",
      "           1     0.7674    0.7982    0.7825      1199\n",
      "\n",
      "    accuracy                         0.8386      3297\n",
      "   macro avg     0.8247    0.8300    0.8271      3297\n",
      "weighted avg     0.8403    0.8386    0.8393      3297\n",
      "\n"
     ]
    }
   ],
   "source": [
    "from sklearn.metrics import confusion_matrix\n",
    "import seaborn as sns\n",
    "import matplotlib.pyplot as plt\n",
    "\n",
    "# 預測結果\n",
    "y_pred = model.predict(X_test)\n",
    "y_pred_class = (y_pred > 0.5).astype(int)  # 轉換為二分類結果\n",
    "\n",
    "# 計算混淆矩陣\n",
    "cm_f = confusion_matrix(y_test, y_pred_class)\n",
    "\n",
    "# 繪製混淆矩陣\n",
    "plt.figure(figsize=(6, 6))\n",
    "sns.heatmap(cm_f, annot=True, fmt='d', cmap='Blues', xticklabels=[0, 1], yticklabels=[0, 1])\n",
    "plt.xlabel(\"Predicted\")\n",
    "plt.ylabel(\"Actual\")\n",
    "plt.title(\"Confusion Matrix\")\n",
    "plt.show()\n",
    "\n",
    "# classification report\n",
    "print(\"Classification Report:\\n\")\n",
    "print(classification_report(y_test, y_pred_class, digits=4))"
   ]
  },
  {
   "cell_type": "code",
   "execution_count": 34,
   "id": "d8f301ec-a95d-4d9c-b4da-29548b55ed39",
   "metadata": {},
   "outputs": [],
   "source": [
    "#history_df = pd.DataFrame(history.history)\n",
    "#history_df.sort_values(by='acc', ascending=False)"
   ]
  },
  {
   "cell_type": "markdown",
   "id": "dd19eab0",
   "metadata": {},
   "source": [
    "## Attention Mechanism"
   ]
  },
  {
   "cell_type": "code",
   "execution_count": null,
   "id": "fbe618ef",
   "metadata": {},
   "outputs": [
    {
     "data": {
      "text/html": [
       "<pre style=\"white-space:pre;overflow-x:auto;line-height:normal;font-family:Menlo,'DejaVu Sans Mono',consolas,'Courier New',monospace\"><span style=\"font-weight: bold\">Model: \"functional_4\"</span>\n",
       "</pre>\n"
      ],
      "text/plain": [
       "\u001b[1mModel: \"functional_4\"\u001b[0m\n"
      ]
     },
     "metadata": {},
     "output_type": "display_data"
    },
    {
     "data": {
      "text/html": [
       "<pre style=\"white-space:pre;overflow-x:auto;line-height:normal;font-family:Menlo,'DejaVu Sans Mono',consolas,'Courier New',monospace\">┏━━━━━━━━━━━━━━━━━━━━━┳━━━━━━━━━━━━━━━━━━━┳━━━━━━━━━━━━┳━━━━━━━━━━━━━━━━━━━┓\n",
       "┃<span style=\"font-weight: bold\"> Layer (type)        </span>┃<span style=\"font-weight: bold\"> Output Shape      </span>┃<span style=\"font-weight: bold\">    Param # </span>┃<span style=\"font-weight: bold\"> Connected to      </span>┃\n",
       "┡━━━━━━━━━━━━━━━━━━━━━╇━━━━━━━━━━━━━━━━━━━╇━━━━━━━━━━━━╇━━━━━━━━━━━━━━━━━━━┩\n",
       "│ input_layer_4       │ (<span style=\"color: #00d7ff; text-decoration-color: #00d7ff\">None</span>, <span style=\"color: #00af00; text-decoration-color: #00af00\">19</span>)        │          <span style=\"color: #00af00; text-decoration-color: #00af00\">0</span> │ -                 │\n",
       "│ (<span style=\"color: #0087ff; text-decoration-color: #0087ff\">InputLayer</span>)        │                   │            │                   │\n",
       "├─────────────────────┼───────────────────┼────────────┼───────────────────┤\n",
       "│ batch_normalizatio… │ (<span style=\"color: #00d7ff; text-decoration-color: #00d7ff\">None</span>, <span style=\"color: #00af00; text-decoration-color: #00af00\">19</span>)        │         <span style=\"color: #00af00; text-decoration-color: #00af00\">76</span> │ input_layer_4[<span style=\"color: #00af00; text-decoration-color: #00af00\">0</span>]… │\n",
       "│ (<span style=\"color: #0087ff; text-decoration-color: #0087ff\">BatchNormalizatio…</span> │                   │            │                   │\n",
       "├─────────────────────┼───────────────────┼────────────┼───────────────────┤\n",
       "│ dense_14 (<span style=\"color: #0087ff; text-decoration-color: #0087ff\">Dense</span>)    │ (<span style=\"color: #00d7ff; text-decoration-color: #00d7ff\">None</span>, <span style=\"color: #00af00; text-decoration-color: #00af00\">128</span>)       │      <span style=\"color: #00af00; text-decoration-color: #00af00\">2,560</span> │ batch_normalizat… │\n",
       "├─────────────────────┼───────────────────┼────────────┼───────────────────┤\n",
       "│ dropout_14          │ (<span style=\"color: #00d7ff; text-decoration-color: #00d7ff\">None</span>, <span style=\"color: #00af00; text-decoration-color: #00af00\">128</span>)       │          <span style=\"color: #00af00; text-decoration-color: #00af00\">0</span> │ dense_14[<span style=\"color: #00af00; text-decoration-color: #00af00\">0</span>][<span style=\"color: #00af00; text-decoration-color: #00af00\">0</span>]    │\n",
       "│ (<span style=\"color: #0087ff; text-decoration-color: #0087ff\">Dropout</span>)           │                   │            │                   │\n",
       "├─────────────────────┼───────────────────┼────────────┼───────────────────┤\n",
       "│ reshape_2 (<span style=\"color: #0087ff; text-decoration-color: #0087ff\">Reshape</span>) │ (<span style=\"color: #00d7ff; text-decoration-color: #00d7ff\">None</span>, <span style=\"color: #00af00; text-decoration-color: #00af00\">1</span>, <span style=\"color: #00af00; text-decoration-color: #00af00\">128</span>)    │          <span style=\"color: #00af00; text-decoration-color: #00af00\">0</span> │ dropout_14[<span style=\"color: #00af00; text-decoration-color: #00af00\">0</span>][<span style=\"color: #00af00; text-decoration-color: #00af00\">0</span>]  │\n",
       "├─────────────────────┼───────────────────┼────────────┼───────────────────┤\n",
       "│ multi_head_attenti… │ (<span style=\"color: #00d7ff; text-decoration-color: #00d7ff\">None</span>, <span style=\"color: #00af00; text-decoration-color: #00af00\">1</span>, <span style=\"color: #00af00; text-decoration-color: #00af00\">128</span>)    │     <span style=\"color: #00af00; text-decoration-color: #00af00\">66,048</span> │ reshape_2[<span style=\"color: #00af00; text-decoration-color: #00af00\">0</span>][<span style=\"color: #00af00; text-decoration-color: #00af00\">0</span>],  │\n",
       "│ (<span style=\"color: #0087ff; text-decoration-color: #0087ff\">MultiHeadAttentio…</span> │                   │            │ reshape_2[<span style=\"color: #00af00; text-decoration-color: #00af00\">0</span>][<span style=\"color: #00af00; text-decoration-color: #00af00\">0</span>]   │\n",
       "├─────────────────────┼───────────────────┼────────────┼───────────────────┤\n",
       "│ dropout_16          │ (<span style=\"color: #00d7ff; text-decoration-color: #00d7ff\">None</span>, <span style=\"color: #00af00; text-decoration-color: #00af00\">1</span>, <span style=\"color: #00af00; text-decoration-color: #00af00\">128</span>)    │          <span style=\"color: #00af00; text-decoration-color: #00af00\">0</span> │ multi_head_atten… │\n",
       "│ (<span style=\"color: #0087ff; text-decoration-color: #0087ff\">Dropout</span>)           │                   │            │                   │\n",
       "├─────────────────────┼───────────────────┼────────────┼───────────────────┤\n",
       "│ flatten_2 (<span style=\"color: #0087ff; text-decoration-color: #0087ff\">Flatten</span>) │ (<span style=\"color: #00d7ff; text-decoration-color: #00d7ff\">None</span>, <span style=\"color: #00af00; text-decoration-color: #00af00\">128</span>)       │          <span style=\"color: #00af00; text-decoration-color: #00af00\">0</span> │ dropout_16[<span style=\"color: #00af00; text-decoration-color: #00af00\">0</span>][<span style=\"color: #00af00; text-decoration-color: #00af00\">0</span>]  │\n",
       "├─────────────────────┼───────────────────┼────────────┼───────────────────┤\n",
       "│ dense_15 (<span style=\"color: #0087ff; text-decoration-color: #0087ff\">Dense</span>)    │ (<span style=\"color: #00d7ff; text-decoration-color: #00d7ff\">None</span>, <span style=\"color: #00af00; text-decoration-color: #00af00\">128</span>)       │     <span style=\"color: #00af00; text-decoration-color: #00af00\">16,512</span> │ flatten_2[<span style=\"color: #00af00; text-decoration-color: #00af00\">0</span>][<span style=\"color: #00af00; text-decoration-color: #00af00\">0</span>]   │\n",
       "├─────────────────────┼───────────────────┼────────────┼───────────────────┤\n",
       "│ dropout_17          │ (<span style=\"color: #00d7ff; text-decoration-color: #00d7ff\">None</span>, <span style=\"color: #00af00; text-decoration-color: #00af00\">128</span>)       │          <span style=\"color: #00af00; text-decoration-color: #00af00\">0</span> │ dense_15[<span style=\"color: #00af00; text-decoration-color: #00af00\">0</span>][<span style=\"color: #00af00; text-decoration-color: #00af00\">0</span>]    │\n",
       "│ (<span style=\"color: #0087ff; text-decoration-color: #0087ff\">Dropout</span>)           │                   │            │                   │\n",
       "├─────────────────────┼───────────────────┼────────────┼───────────────────┤\n",
       "│ dense_16 (<span style=\"color: #0087ff; text-decoration-color: #0087ff\">Dense</span>)    │ (<span style=\"color: #00d7ff; text-decoration-color: #00d7ff\">None</span>, <span style=\"color: #00af00; text-decoration-color: #00af00\">1</span>)         │        <span style=\"color: #00af00; text-decoration-color: #00af00\">129</span> │ dropout_17[<span style=\"color: #00af00; text-decoration-color: #00af00\">0</span>][<span style=\"color: #00af00; text-decoration-color: #00af00\">0</span>]  │\n",
       "└─────────────────────┴───────────────────┴────────────┴───────────────────┘\n",
       "</pre>\n"
      ],
      "text/plain": [
       "┏━━━━━━━━━━━━━━━━━━━━━┳━━━━━━━━━━━━━━━━━━━┳━━━━━━━━━━━━┳━━━━━━━━━━━━━━━━━━━┓\n",
       "┃\u001b[1m \u001b[0m\u001b[1mLayer (type)       \u001b[0m\u001b[1m \u001b[0m┃\u001b[1m \u001b[0m\u001b[1mOutput Shape     \u001b[0m\u001b[1m \u001b[0m┃\u001b[1m \u001b[0m\u001b[1m   Param #\u001b[0m\u001b[1m \u001b[0m┃\u001b[1m \u001b[0m\u001b[1mConnected to     \u001b[0m\u001b[1m \u001b[0m┃\n",
       "┡━━━━━━━━━━━━━━━━━━━━━╇━━━━━━━━━━━━━━━━━━━╇━━━━━━━━━━━━╇━━━━━━━━━━━━━━━━━━━┩\n",
       "│ input_layer_4       │ (\u001b[38;5;45mNone\u001b[0m, \u001b[38;5;34m19\u001b[0m)        │          \u001b[38;5;34m0\u001b[0m │ -                 │\n",
       "│ (\u001b[38;5;33mInputLayer\u001b[0m)        │                   │            │                   │\n",
       "├─────────────────────┼───────────────────┼────────────┼───────────────────┤\n",
       "│ batch_normalizatio… │ (\u001b[38;5;45mNone\u001b[0m, \u001b[38;5;34m19\u001b[0m)        │         \u001b[38;5;34m76\u001b[0m │ input_layer_4[\u001b[38;5;34m0\u001b[0m]… │\n",
       "│ (\u001b[38;5;33mBatchNormalizatio…\u001b[0m │                   │            │                   │\n",
       "├─────────────────────┼───────────────────┼────────────┼───────────────────┤\n",
       "│ dense_14 (\u001b[38;5;33mDense\u001b[0m)    │ (\u001b[38;5;45mNone\u001b[0m, \u001b[38;5;34m128\u001b[0m)       │      \u001b[38;5;34m2,560\u001b[0m │ batch_normalizat… │\n",
       "├─────────────────────┼───────────────────┼────────────┼───────────────────┤\n",
       "│ dropout_14          │ (\u001b[38;5;45mNone\u001b[0m, \u001b[38;5;34m128\u001b[0m)       │          \u001b[38;5;34m0\u001b[0m │ dense_14[\u001b[38;5;34m0\u001b[0m][\u001b[38;5;34m0\u001b[0m]    │\n",
       "│ (\u001b[38;5;33mDropout\u001b[0m)           │                   │            │                   │\n",
       "├─────────────────────┼───────────────────┼────────────┼───────────────────┤\n",
       "│ reshape_2 (\u001b[38;5;33mReshape\u001b[0m) │ (\u001b[38;5;45mNone\u001b[0m, \u001b[38;5;34m1\u001b[0m, \u001b[38;5;34m128\u001b[0m)    │          \u001b[38;5;34m0\u001b[0m │ dropout_14[\u001b[38;5;34m0\u001b[0m][\u001b[38;5;34m0\u001b[0m]  │\n",
       "├─────────────────────┼───────────────────┼────────────┼───────────────────┤\n",
       "│ multi_head_attenti… │ (\u001b[38;5;45mNone\u001b[0m, \u001b[38;5;34m1\u001b[0m, \u001b[38;5;34m128\u001b[0m)    │     \u001b[38;5;34m66,048\u001b[0m │ reshape_2[\u001b[38;5;34m0\u001b[0m][\u001b[38;5;34m0\u001b[0m],  │\n",
       "│ (\u001b[38;5;33mMultiHeadAttentio…\u001b[0m │                   │            │ reshape_2[\u001b[38;5;34m0\u001b[0m][\u001b[38;5;34m0\u001b[0m]   │\n",
       "├─────────────────────┼───────────────────┼────────────┼───────────────────┤\n",
       "│ dropout_16          │ (\u001b[38;5;45mNone\u001b[0m, \u001b[38;5;34m1\u001b[0m, \u001b[38;5;34m128\u001b[0m)    │          \u001b[38;5;34m0\u001b[0m │ multi_head_atten… │\n",
       "│ (\u001b[38;5;33mDropout\u001b[0m)           │                   │            │                   │\n",
       "├─────────────────────┼───────────────────┼────────────┼───────────────────┤\n",
       "│ flatten_2 (\u001b[38;5;33mFlatten\u001b[0m) │ (\u001b[38;5;45mNone\u001b[0m, \u001b[38;5;34m128\u001b[0m)       │          \u001b[38;5;34m0\u001b[0m │ dropout_16[\u001b[38;5;34m0\u001b[0m][\u001b[38;5;34m0\u001b[0m]  │\n",
       "├─────────────────────┼───────────────────┼────────────┼───────────────────┤\n",
       "│ dense_15 (\u001b[38;5;33mDense\u001b[0m)    │ (\u001b[38;5;45mNone\u001b[0m, \u001b[38;5;34m128\u001b[0m)       │     \u001b[38;5;34m16,512\u001b[0m │ flatten_2[\u001b[38;5;34m0\u001b[0m][\u001b[38;5;34m0\u001b[0m]   │\n",
       "├─────────────────────┼───────────────────┼────────────┼───────────────────┤\n",
       "│ dropout_17          │ (\u001b[38;5;45mNone\u001b[0m, \u001b[38;5;34m128\u001b[0m)       │          \u001b[38;5;34m0\u001b[0m │ dense_15[\u001b[38;5;34m0\u001b[0m][\u001b[38;5;34m0\u001b[0m]    │\n",
       "│ (\u001b[38;5;33mDropout\u001b[0m)           │                   │            │                   │\n",
       "├─────────────────────┼───────────────────┼────────────┼───────────────────┤\n",
       "│ dense_16 (\u001b[38;5;33mDense\u001b[0m)    │ (\u001b[38;5;45mNone\u001b[0m, \u001b[38;5;34m1\u001b[0m)         │        \u001b[38;5;34m129\u001b[0m │ dropout_17[\u001b[38;5;34m0\u001b[0m][\u001b[38;5;34m0\u001b[0m]  │\n",
       "└─────────────────────┴───────────────────┴────────────┴───────────────────┘\n"
      ]
     },
     "metadata": {},
     "output_type": "display_data"
    },
    {
     "data": {
      "text/html": [
       "<pre style=\"white-space:pre;overflow-x:auto;line-height:normal;font-family:Menlo,'DejaVu Sans Mono',consolas,'Courier New',monospace\"><span style=\"font-weight: bold\"> Total params: </span><span style=\"color: #00af00; text-decoration-color: #00af00\">85,325</span> (333.30 KB)\n",
       "</pre>\n"
      ],
      "text/plain": [
       "\u001b[1m Total params: \u001b[0m\u001b[38;5;34m85,325\u001b[0m (333.30 KB)\n"
      ]
     },
     "metadata": {},
     "output_type": "display_data"
    },
    {
     "data": {
      "text/html": [
       "<pre style=\"white-space:pre;overflow-x:auto;line-height:normal;font-family:Menlo,'DejaVu Sans Mono',consolas,'Courier New',monospace\"><span style=\"font-weight: bold\"> Trainable params: </span><span style=\"color: #00af00; text-decoration-color: #00af00\">85,287</span> (333.15 KB)\n",
       "</pre>\n"
      ],
      "text/plain": [
       "\u001b[1m Trainable params: \u001b[0m\u001b[38;5;34m85,287\u001b[0m (333.15 KB)\n"
      ]
     },
     "metadata": {},
     "output_type": "display_data"
    },
    {
     "data": {
      "text/html": [
       "<pre style=\"white-space:pre;overflow-x:auto;line-height:normal;font-family:Menlo,'DejaVu Sans Mono',consolas,'Courier New',monospace\"><span style=\"font-weight: bold\"> Non-trainable params: </span><span style=\"color: #00af00; text-decoration-color: #00af00\">38</span> (152.00 B)\n",
       "</pre>\n"
      ],
      "text/plain": [
       "\u001b[1m Non-trainable params: \u001b[0m\u001b[38;5;34m38\u001b[0m (152.00 B)\n"
      ]
     },
     "metadata": {},
     "output_type": "display_data"
    },
    {
     "name": "stdout",
     "output_type": "stream",
     "text": [
      "Epoch 1/100\n",
      "\u001b[1m57/61\u001b[0m \u001b[32m━━━━━━━━━━━━━━━━━━\u001b[0m\u001b[37m━━\u001b[0m \u001b[1m0s\u001b[0m 5ms/step - Precision: 0.5821 - Recall: 0.4863 - acc: 0.6927 - loss: 0.5502\n",
      "Epoch 1: val_loss improved from inf to 13.11737, saving model to ./models_temp/DANN_best_model.h5\n"
     ]
    },
    {
     "name": "stderr",
     "output_type": "stream",
     "text": [
      "WARNING:absl:You are saving your model as an HDF5 file via `model.save()` or `keras.saving.save_model(model)`. This file format is considered legacy. We recommend using instead the native Keras format, e.g. `model.save('my_model.keras')` or `keras.saving.save_model(model, 'my_model.keras')`. \n"
     ]
    },
    {
     "name": "stdout",
     "output_type": "stream",
     "text": [
      "\u001b[1m61/61\u001b[0m \u001b[32m━━━━━━━━━━━━━━━━━━━━\u001b[0m\u001b[37m\u001b[0m \u001b[1m2s\u001b[0m 11ms/step - Precision: 0.5851 - Recall: 0.4996 - acc: 0.6956 - loss: 0.5475 - val_Precision: 0.3637 - val_Recall: 1.0000 - val_acc: 0.3637 - val_loss: 13.1174\n",
      "Epoch 2/100\n",
      "\u001b[1m52/61\u001b[0m \u001b[32m━━━━━━━━━━━━━━━━━\u001b[0m\u001b[37m━━━\u001b[0m \u001b[1m0s\u001b[0m 6ms/step - Precision: 0.6603 - Recall: 0.6588 - acc: 0.7518 - loss: 0.4878\n",
      "Epoch 2: val_loss improved from 13.11737 to 4.10987, saving model to ./models_temp/DANN_best_model.h5\n"
     ]
    },
    {
     "name": "stderr",
     "output_type": "stream",
     "text": [
      "WARNING:absl:You are saving your model as an HDF5 file via `model.save()` or `keras.saving.save_model(model)`. This file format is considered legacy. We recommend using instead the native Keras format, e.g. `model.save('my_model.keras')` or `keras.saving.save_model(model, 'my_model.keras')`. \n"
     ]
    },
    {
     "name": "stdout",
     "output_type": "stream",
     "text": [
      "\u001b[1m61/61\u001b[0m \u001b[32m━━━━━━━━━━━━━━━━━━━━\u001b[0m\u001b[37m\u001b[0m \u001b[1m1s\u001b[0m 8ms/step - Precision: 0.6608 - Recall: 0.6574 - acc: 0.7522 - loss: 0.4871 - val_Precision: 0.3637 - val_Recall: 1.0000 - val_acc: 0.3637 - val_loss: 4.1099\n",
      "Epoch 3/100\n",
      "\u001b[1m53/61\u001b[0m \u001b[32m━━━━━━━━━━━━━━━━━\u001b[0m\u001b[37m━━━\u001b[0m \u001b[1m0s\u001b[0m 5ms/step - Precision: 0.6518 - Recall: 0.7045 - acc: 0.7562 - loss: 0.4857\n",
      "Epoch 3: val_loss improved from 4.10987 to 2.71797, saving model to ./models_temp/DANN_best_model.h5\n"
     ]
    },
    {
     "name": "stderr",
     "output_type": "stream",
     "text": [
      "WARNING:absl:You are saving your model as an HDF5 file via `model.save()` or `keras.saving.save_model(model)`. This file format is considered legacy. We recommend using instead the native Keras format, e.g. `model.save('my_model.keras')` or `keras.saving.save_model(model, 'my_model.keras')`. \n"
     ]
    },
    {
     "name": "stdout",
     "output_type": "stream",
     "text": [
      "\u001b[1m61/61\u001b[0m \u001b[32m━━━━━━━━━━━━━━━━━━━━\u001b[0m\u001b[37m\u001b[0m \u001b[1m0s\u001b[0m 7ms/step - Precision: 0.6530 - Recall: 0.7021 - acc: 0.7566 - loss: 0.4847 - val_Precision: 0.3679 - val_Recall: 1.0000 - val_acc: 0.3752 - val_loss: 2.7180\n",
      "Epoch 4/100\n",
      "\u001b[1m54/61\u001b[0m \u001b[32m━━━━━━━━━━━━━━━━━\u001b[0m\u001b[37m━━━\u001b[0m \u001b[1m0s\u001b[0m 5ms/step - Precision: 0.6389 - Recall: 0.6994 - acc: 0.7541 - loss: 0.4787\n",
      "Epoch 4: val_loss improved from 2.71797 to 0.61482, saving model to ./models_temp/DANN_best_model.h5\n"
     ]
    },
    {
     "name": "stderr",
     "output_type": "stream",
     "text": [
      "WARNING:absl:You are saving your model as an HDF5 file via `model.save()` or `keras.saving.save_model(model)`. This file format is considered legacy. We recommend using instead the native Keras format, e.g. `model.save('my_model.keras')` or `keras.saving.save_model(model, 'my_model.keras')`. \n"
     ]
    },
    {
     "name": "stdout",
     "output_type": "stream",
     "text": [
      "\u001b[1m61/61\u001b[0m \u001b[32m━━━━━━━━━━━━━━━━━━━━\u001b[0m\u001b[37m\u001b[0m \u001b[1m0s\u001b[0m 7ms/step - Precision: 0.6400 - Recall: 0.6998 - acc: 0.7540 - loss: 0.4793 - val_Precision: 0.8193 - val_Recall: 0.1134 - val_acc: 0.6685 - val_loss: 0.6148\n",
      "Epoch 5/100\n",
      "\u001b[1m57/61\u001b[0m \u001b[32m━━━━━━━━━━━━━━━━━━\u001b[0m\u001b[37m━━\u001b[0m \u001b[1m0s\u001b[0m 5ms/step - Precision: 0.6729 - Recall: 0.6296 - acc: 0.7576 - loss: 0.4712\n",
      "Epoch 5: val_loss did not improve from 0.61482\n",
      "\u001b[1m61/61\u001b[0m \u001b[32m━━━━━━━━━━━━━━━━━━━━\u001b[0m\u001b[37m\u001b[0m \u001b[1m0s\u001b[0m 6ms/step - Precision: 0.6724 - Recall: 0.6308 - acc: 0.7575 - loss: 0.4713 - val_Precision: 0.4702 - val_Recall: 0.9141 - val_acc: 0.5942 - val_loss: 0.7900\n",
      "Epoch 6/100\n",
      "\u001b[1m56/61\u001b[0m \u001b[32m━━━━━━━━━━━━━━━━━━\u001b[0m\u001b[37m━━\u001b[0m \u001b[1m0s\u001b[0m 5ms/step - Precision: 0.6712 - Recall: 0.7092 - acc: 0.7663 - loss: 0.4770\n",
      "Epoch 6: val_loss improved from 0.61482 to 0.54554, saving model to ./models_temp/DANN_best_model.h5\n"
     ]
    },
    {
     "name": "stderr",
     "output_type": "stream",
     "text": [
      "WARNING:absl:You are saving your model as an HDF5 file via `model.save()` or `keras.saving.save_model(model)`. This file format is considered legacy. We recommend using instead the native Keras format, e.g. `model.save('my_model.keras')` or `keras.saving.save_model(model, 'my_model.keras')`. \n"
     ]
    },
    {
     "name": "stdout",
     "output_type": "stream",
     "text": [
      "\u001b[1m61/61\u001b[0m \u001b[32m━━━━━━━━━━━━━━━━━━━━\u001b[0m\u001b[37m\u001b[0m \u001b[1m0s\u001b[0m 7ms/step - Precision: 0.6707 - Recall: 0.7073 - acc: 0.7659 - loss: 0.4767 - val_Precision: 0.6012 - val_Recall: 0.7681 - val_acc: 0.7304 - val_loss: 0.5455\n",
      "Epoch 7/100\n",
      "\u001b[1m56/61\u001b[0m \u001b[32m━━━━━━━━━━━━━━━━━━\u001b[0m\u001b[37m━━\u001b[0m \u001b[1m0s\u001b[0m 5ms/step - Precision: 0.6589 - Recall: 0.6730 - acc: 0.7666 - loss: 0.4675\n",
      "Epoch 7: val_loss did not improve from 0.54554\n",
      "\u001b[1m61/61\u001b[0m \u001b[32m━━━━━━━━━━━━━━━━━━━━\u001b[0m\u001b[37m\u001b[0m \u001b[1m0s\u001b[0m 6ms/step - Precision: 0.6594 - Recall: 0.6759 - acc: 0.7664 - loss: 0.4677 - val_Precision: 0.5591 - val_Recall: 0.7731 - val_acc: 0.6958 - val_loss: 0.6124\n",
      "Epoch 8/100\n",
      "\u001b[1m56/61\u001b[0m \u001b[32m━━━━━━━━━━━━━━━━━━\u001b[0m\u001b[37m━━\u001b[0m \u001b[1m0s\u001b[0m 5ms/step - Precision: 0.6514 - Recall: 0.6355 - acc: 0.7499 - loss: 0.4766\n",
      "Epoch 8: val_loss improved from 0.54554 to 0.48600, saving model to ./models_temp/DANN_best_model.h5\n"
     ]
    },
    {
     "name": "stderr",
     "output_type": "stream",
     "text": [
      "WARNING:absl:You are saving your model as an HDF5 file via `model.save()` or `keras.saving.save_model(model)`. This file format is considered legacy. We recommend using instead the native Keras format, e.g. `model.save('my_model.keras')` or `keras.saving.save_model(model, 'my_model.keras')`. \n"
     ]
    },
    {
     "name": "stdout",
     "output_type": "stream",
     "text": [
      "\u001b[1m61/61\u001b[0m \u001b[32m━━━━━━━━━━━━━━━━━━━━\u001b[0m\u001b[37m\u001b[0m \u001b[1m0s\u001b[0m 7ms/step - Precision: 0.6528 - Recall: 0.6389 - acc: 0.7508 - loss: 0.4761 - val_Precision: 0.6912 - val_Recall: 0.6197 - val_acc: 0.7610 - val_loss: 0.4860\n",
      "Epoch 9/100\n",
      "\u001b[1m53/61\u001b[0m \u001b[32m━━━━━━━━━━━━━━━━━\u001b[0m\u001b[37m━━━\u001b[0m \u001b[1m0s\u001b[0m 5ms/step - Precision: 0.7060 - Recall: 0.6607 - acc: 0.7737 - loss: 0.4714\n",
      "Epoch 9: val_loss improved from 0.48600 to 0.47890, saving model to ./models_temp/DANN_best_model.h5\n"
     ]
    },
    {
     "name": "stderr",
     "output_type": "stream",
     "text": [
      "WARNING:absl:You are saving your model as an HDF5 file via `model.save()` or `keras.saving.save_model(model)`. This file format is considered legacy. We recommend using instead the native Keras format, e.g. `model.save('my_model.keras')` or `keras.saving.save_model(model, 'my_model.keras')`. \n"
     ]
    },
    {
     "name": "stdout",
     "output_type": "stream",
     "text": [
      "\u001b[1m61/61\u001b[0m \u001b[32m━━━━━━━━━━━━━━━━━━━━\u001b[0m\u001b[37m\u001b[0m \u001b[1m0s\u001b[0m 7ms/step - Precision: 0.7022 - Recall: 0.6612 - acc: 0.7726 - loss: 0.4708 - val_Precision: 0.6907 - val_Recall: 0.6389 - val_acc: 0.7646 - val_loss: 0.4789\n",
      "Epoch 10/100\n",
      "\u001b[1m56/61\u001b[0m \u001b[32m━━━━━━━━━━━━━━━━━━\u001b[0m\u001b[37m━━\u001b[0m \u001b[1m0s\u001b[0m 6ms/step - Precision: 0.6714 - Recall: 0.6497 - acc: 0.7626 - loss: 0.4678\n",
      "Epoch 10: val_loss improved from 0.47890 to 0.47081, saving model to ./models_temp/DANN_best_model.h5\n"
     ]
    },
    {
     "name": "stderr",
     "output_type": "stream",
     "text": [
      "WARNING:absl:You are saving your model as an HDF5 file via `model.save()` or `keras.saving.save_model(model)`. This file format is considered legacy. We recommend using instead the native Keras format, e.g. `model.save('my_model.keras')` or `keras.saving.save_model(model, 'my_model.keras')`. \n"
     ]
    },
    {
     "name": "stdout",
     "output_type": "stream",
     "text": [
      "\u001b[1m61/61\u001b[0m \u001b[32m━━━━━━━━━━━━━━━━━━━━\u001b[0m\u001b[37m\u001b[0m \u001b[1m0s\u001b[0m 8ms/step - Precision: 0.6718 - Recall: 0.6504 - acc: 0.7626 - loss: 0.4678 - val_Precision: 0.6789 - val_Recall: 0.7231 - val_acc: 0.7749 - val_loss: 0.4708\n",
      "Epoch 11/100\n",
      "\u001b[1m53/61\u001b[0m \u001b[32m━━━━━━━━━━━━━━━━━\u001b[0m\u001b[37m━━━\u001b[0m \u001b[1m0s\u001b[0m 5ms/step - Precision: 0.6757 - Recall: 0.6898 - acc: 0.7658 - loss: 0.4678\n",
      "Epoch 11: val_loss improved from 0.47081 to 0.46955, saving model to ./models_temp/DANN_best_model.h5\n"
     ]
    },
    {
     "name": "stderr",
     "output_type": "stream",
     "text": [
      "WARNING:absl:You are saving your model as an HDF5 file via `model.save()` or `keras.saving.save_model(model)`. This file format is considered legacy. We recommend using instead the native Keras format, e.g. `model.save('my_model.keras')` or `keras.saving.save_model(model, 'my_model.keras')`. \n"
     ]
    },
    {
     "name": "stdout",
     "output_type": "stream",
     "text": [
      "\u001b[1m61/61\u001b[0m \u001b[32m━━━━━━━━━━━━━━━━━━━━\u001b[0m\u001b[37m\u001b[0m \u001b[1m0s\u001b[0m 7ms/step - Precision: 0.6758 - Recall: 0.6876 - acc: 0.7659 - loss: 0.4674 - val_Precision: 0.6823 - val_Recall: 0.7148 - val_acc: 0.7753 - val_loss: 0.4695\n",
      "Epoch 12/100\n",
      "\u001b[1m54/61\u001b[0m \u001b[32m━━━━━━━━━━━━━━━━━\u001b[0m\u001b[37m━━━\u001b[0m \u001b[1m0s\u001b[0m 5ms/step - Precision: 0.6718 - Recall: 0.6881 - acc: 0.7668 - loss: 0.4676\n",
      "Epoch 12: val_loss improved from 0.46955 to 0.46384, saving model to ./models_temp/DANN_best_model.h5\n"
     ]
    },
    {
     "name": "stderr",
     "output_type": "stream",
     "text": [
      "WARNING:absl:You are saving your model as an HDF5 file via `model.save()` or `keras.saving.save_model(model)`. This file format is considered legacy. We recommend using instead the native Keras format, e.g. `model.save('my_model.keras')` or `keras.saving.save_model(model, 'my_model.keras')`. \n"
     ]
    },
    {
     "name": "stdout",
     "output_type": "stream",
     "text": [
      "\u001b[1m61/61\u001b[0m \u001b[32m━━━━━━━━━━━━━━━━━━━━\u001b[0m\u001b[37m\u001b[0m \u001b[1m0s\u001b[0m 7ms/step - Precision: 0.6725 - Recall: 0.6871 - acc: 0.7670 - loss: 0.4675 - val_Precision: 0.7049 - val_Recall: 0.6772 - val_acc: 0.7795 - val_loss: 0.4638\n",
      "Epoch 13/100\n",
      "\u001b[1m54/61\u001b[0m \u001b[32m━━━━━━━━━━━━━━━━━\u001b[0m\u001b[37m━━━\u001b[0m \u001b[1m0s\u001b[0m 5ms/step - Precision: 0.6868 - Recall: 0.6700 - acc: 0.7695 - loss: 0.4716\n",
      "Epoch 13: val_loss improved from 0.46384 to 0.46314, saving model to ./models_temp/DANN_best_model.h5\n"
     ]
    },
    {
     "name": "stderr",
     "output_type": "stream",
     "text": [
      "WARNING:absl:You are saving your model as an HDF5 file via `model.save()` or `keras.saving.save_model(model)`. This file format is considered legacy. We recommend using instead the native Keras format, e.g. `model.save('my_model.keras')` or `keras.saving.save_model(model, 'my_model.keras')`. \n"
     ]
    },
    {
     "name": "stdout",
     "output_type": "stream",
     "text": [
      "\u001b[1m61/61\u001b[0m \u001b[32m━━━━━━━━━━━━━━━━━━━━\u001b[0m\u001b[37m\u001b[0m \u001b[1m0s\u001b[0m 7ms/step - Precision: 0.6863 - Recall: 0.6709 - acc: 0.7695 - loss: 0.4704 - val_Precision: 0.6967 - val_Recall: 0.6764 - val_acc: 0.7753 - val_loss: 0.4631\n",
      "Epoch 14/100\n",
      "\u001b[1m54/61\u001b[0m \u001b[32m━━━━━━━━━━━━━━━━━\u001b[0m\u001b[37m━━━\u001b[0m \u001b[1m0s\u001b[0m 5ms/step - Precision: 0.6953 - Recall: 0.7106 - acc: 0.7791 - loss: 0.4590\n",
      "Epoch 14: val_loss did not improve from 0.46314\n",
      "\u001b[1m61/61\u001b[0m \u001b[32m━━━━━━━━━━━━━━━━━━━━\u001b[0m\u001b[37m\u001b[0m \u001b[1m0s\u001b[0m 6ms/step - Precision: 0.6933 - Recall: 0.7091 - acc: 0.7782 - loss: 0.4596 - val_Precision: 0.7288 - val_Recall: 0.6163 - val_acc: 0.7771 - val_loss: 0.4655\n",
      "Epoch 15/100\n",
      "\u001b[1m53/61\u001b[0m \u001b[32m━━━━━━━━━━━━━━━━━\u001b[0m\u001b[37m━━━\u001b[0m \u001b[1m0s\u001b[0m 5ms/step - Precision: 0.6802 - Recall: 0.6568 - acc: 0.7688 - loss: 0.4550\n",
      "Epoch 15: val_loss improved from 0.46314 to 0.45936, saving model to ./models_temp/DANN_best_model.h5\n"
     ]
    },
    {
     "name": "stderr",
     "output_type": "stream",
     "text": [
      "WARNING:absl:You are saving your model as an HDF5 file via `model.save()` or `keras.saving.save_model(model)`. This file format is considered legacy. We recommend using instead the native Keras format, e.g. `model.save('my_model.keras')` or `keras.saving.save_model(model, 'my_model.keras')`. \n"
     ]
    },
    {
     "name": "stdout",
     "output_type": "stream",
     "text": [
      "\u001b[1m61/61\u001b[0m \u001b[32m━━━━━━━━━━━━━━━━━━━━\u001b[0m\u001b[37m\u001b[0m \u001b[1m0s\u001b[0m 7ms/step - Precision: 0.6793 - Recall: 0.6620 - acc: 0.7687 - loss: 0.4555 - val_Precision: 0.6757 - val_Recall: 0.7731 - val_acc: 0.7825 - val_loss: 0.4594\n",
      "Epoch 16/100\n",
      "\u001b[1m58/61\u001b[0m \u001b[32m━━━━━━━━━━━━━━━━━━━\u001b[0m\u001b[37m━\u001b[0m \u001b[1m0s\u001b[0m 5ms/step - Precision: 0.7058 - Recall: 0.6966 - acc: 0.7836 - loss: 0.4539\n",
      "Epoch 16: val_loss improved from 0.45936 to 0.45494, saving model to ./models_temp/DANN_best_model.h5\n"
     ]
    },
    {
     "name": "stderr",
     "output_type": "stream",
     "text": [
      "WARNING:absl:You are saving your model as an HDF5 file via `model.save()` or `keras.saving.save_model(model)`. This file format is considered legacy. We recommend using instead the native Keras format, e.g. `model.save('my_model.keras')` or `keras.saving.save_model(model, 'my_model.keras')`. \n"
     ]
    },
    {
     "name": "stdout",
     "output_type": "stream",
     "text": [
      "\u001b[1m61/61\u001b[0m \u001b[32m━━━━━━━━━━━━━━━━━━━━\u001b[0m\u001b[37m\u001b[0m \u001b[1m0s\u001b[0m 8ms/step - Precision: 0.7049 - Recall: 0.6956 - acc: 0.7831 - loss: 0.4542 - val_Precision: 0.7212 - val_Recall: 0.6731 - val_acc: 0.7865 - val_loss: 0.4549\n",
      "Epoch 17/100\n",
      "\u001b[1m53/61\u001b[0m \u001b[32m━━━━━━━━━━━━━━━━━\u001b[0m\u001b[37m━━━\u001b[0m \u001b[1m0s\u001b[0m 5ms/step - Precision: 0.7006 - Recall: 0.6794 - acc: 0.7741 - loss: 0.4639\n",
      "Epoch 17: val_loss did not improve from 0.45494\n",
      "\u001b[1m61/61\u001b[0m \u001b[32m━━━━━━━━━━━━━━━━━━━━\u001b[0m\u001b[37m\u001b[0m \u001b[1m0s\u001b[0m 6ms/step - Precision: 0.6991 - Recall: 0.6801 - acc: 0.7744 - loss: 0.4628 - val_Precision: 0.7052 - val_Recall: 0.6764 - val_acc: 0.7795 - val_loss: 0.4551\n",
      "Epoch 18/100\n",
      "\u001b[1m54/61\u001b[0m \u001b[32m━━━━━━━━━━━━━━━━━\u001b[0m\u001b[37m━━━\u001b[0m \u001b[1m0s\u001b[0m 5ms/step - Precision: 0.7002 - Recall: 0.6607 - acc: 0.7795 - loss: 0.4580\n",
      "Epoch 18: val_loss improved from 0.45494 to 0.45192, saving model to ./models_temp/DANN_best_model.h5\n"
     ]
    },
    {
     "name": "stderr",
     "output_type": "stream",
     "text": [
      "WARNING:absl:You are saving your model as an HDF5 file via `model.save()` or `keras.saving.save_model(model)`. This file format is considered legacy. We recommend using instead the native Keras format, e.g. `model.save('my_model.keras')` or `keras.saving.save_model(model, 'my_model.keras')`. \n"
     ]
    },
    {
     "name": "stdout",
     "output_type": "stream",
     "text": [
      "\u001b[1m61/61\u001b[0m \u001b[32m━━━━━━━━━━━━━━━━━━━━\u001b[0m\u001b[37m\u001b[0m \u001b[1m0s\u001b[0m 7ms/step - Precision: 0.7003 - Recall: 0.6620 - acc: 0.7794 - loss: 0.4571 - val_Precision: 0.7009 - val_Recall: 0.7231 - val_acc: 0.7871 - val_loss: 0.4519\n",
      "Epoch 19/100\n",
      "\u001b[1m53/61\u001b[0m \u001b[32m━━━━━━━━━━━━━━━━━\u001b[0m\u001b[37m━━━\u001b[0m \u001b[1m0s\u001b[0m 5ms/step - Precision: 0.6987 - Recall: 0.7112 - acc: 0.7811 - loss: 0.4554\n",
      "Epoch 19: val_loss improved from 0.45192 to 0.45039, saving model to ./models_temp/DANN_best_model.h5\n"
     ]
    },
    {
     "name": "stderr",
     "output_type": "stream",
     "text": [
      "WARNING:absl:You are saving your model as an HDF5 file via `model.save()` or `keras.saving.save_model(model)`. This file format is considered legacy. We recommend using instead the native Keras format, e.g. `model.save('my_model.keras')` or `keras.saving.save_model(model, 'my_model.keras')`. \n"
     ]
    },
    {
     "name": "stdout",
     "output_type": "stream",
     "text": [
      "\u001b[1m61/61\u001b[0m \u001b[32m━━━━━━━━━━━━━━━━━━━━\u001b[0m\u001b[37m\u001b[0m \u001b[1m0s\u001b[0m 7ms/step - Precision: 0.6981 - Recall: 0.7106 - acc: 0.7813 - loss: 0.4550 - val_Precision: 0.7153 - val_Recall: 0.6706 - val_acc: 0.7831 - val_loss: 0.4504\n",
      "Epoch 20/100\n",
      "\u001b[1m58/61\u001b[0m \u001b[32m━━━━━━━━━━━━━━━━━━━\u001b[0m\u001b[37m━\u001b[0m \u001b[1m0s\u001b[0m 5ms/step - Precision: 0.7040 - Recall: 0.6729 - acc: 0.7848 - loss: 0.4462\n",
      "Epoch 20: val_loss did not improve from 0.45039\n",
      "\u001b[1m61/61\u001b[0m \u001b[32m━━━━━━━━━━━━━━━━━━━━\u001b[0m\u001b[37m\u001b[0m \u001b[1m0s\u001b[0m 7ms/step - Precision: 0.7038 - Recall: 0.6735 - acc: 0.7845 - loss: 0.4465 - val_Precision: 0.6954 - val_Recall: 0.7273 - val_acc: 0.7850 - val_loss: 0.4506\n",
      "Epoch 21/100\n",
      "\u001b[1m60/61\u001b[0m \u001b[32m━━━━━━━━━━━━━━━━━━━\u001b[0m\u001b[37m━\u001b[0m \u001b[1m0s\u001b[0m 5ms/step - Precision: 0.6913 - Recall: 0.6759 - acc: 0.7730 - loss: 0.4620\n",
      "Epoch 21: val_loss did not improve from 0.45039\n",
      "\u001b[1m61/61\u001b[0m \u001b[32m━━━━━━━━━━━━━━━━━━━━\u001b[0m\u001b[37m\u001b[0m \u001b[1m0s\u001b[0m 7ms/step - Precision: 0.6918 - Recall: 0.6759 - acc: 0.7733 - loss: 0.4617 - val_Precision: 0.7014 - val_Recall: 0.7248 - val_acc: 0.7877 - val_loss: 0.4560\n",
      "Epoch 22/100\n",
      "\u001b[1m59/61\u001b[0m \u001b[32m━━━━━━━━━━━━━━━━━━━\u001b[0m\u001b[37m━\u001b[0m \u001b[1m0s\u001b[0m 5ms/step - Precision: 0.6816 - Recall: 0.6617 - acc: 0.7718 - loss: 0.4573\n",
      "Epoch 22: val_loss did not improve from 0.45039\n",
      "\u001b[1m61/61\u001b[0m \u001b[32m━━━━━━━━━━━━━━━━━━━━\u001b[0m\u001b[37m\u001b[0m \u001b[1m0s\u001b[0m 7ms/step - Precision: 0.6824 - Recall: 0.6625 - acc: 0.7721 - loss: 0.4570 - val_Precision: 0.6921 - val_Recall: 0.7406 - val_acc: 0.7859 - val_loss: 0.4558\n",
      "Epoch 23/100\n",
      "\u001b[1m59/61\u001b[0m \u001b[32m━━━━━━━━━━━━━━━━━━━\u001b[0m\u001b[37m━\u001b[0m \u001b[1m0s\u001b[0m 5ms/step - Precision: 0.7095 - Recall: 0.6996 - acc: 0.7818 - loss: 0.4498\n",
      "Epoch 23: val_loss did not improve from 0.45039\n",
      "\u001b[1m61/61\u001b[0m \u001b[32m━━━━━━━━━━━━━━━━━━━━\u001b[0m\u001b[37m\u001b[0m \u001b[1m0s\u001b[0m 7ms/step - Precision: 0.7090 - Recall: 0.6995 - acc: 0.7818 - loss: 0.4496 - val_Precision: 0.7215 - val_Recall: 0.6697 - val_acc: 0.7859 - val_loss: 0.4528\n",
      "Epoch 24/100\n",
      "\u001b[1m56/61\u001b[0m \u001b[32m━━━━━━━━━━━━━━━━━━\u001b[0m\u001b[37m━━\u001b[0m \u001b[1m0s\u001b[0m 6ms/step - Precision: 0.7220 - Recall: 0.6885 - acc: 0.7917 - loss: 0.4409\n",
      "Epoch 24: val_loss did not improve from 0.45039\n",
      "\u001b[1m61/61\u001b[0m \u001b[32m━━━━━━━━━━━━━━━━━━━━\u001b[0m\u001b[37m\u001b[0m \u001b[1m0s\u001b[0m 7ms/step - Precision: 0.7205 - Recall: 0.6886 - acc: 0.7910 - loss: 0.4415 - val_Precision: 0.7120 - val_Recall: 0.7073 - val_acc: 0.7895 - val_loss: 0.4504\n",
      "Epoch 25/100\n",
      "\u001b[1m60/61\u001b[0m \u001b[32m━━━━━━━━━━━━━━━━━━━\u001b[0m\u001b[37m━\u001b[0m \u001b[1m0s\u001b[0m 5ms/step - Precision: 0.6991 - Recall: 0.6839 - acc: 0.7804 - loss: 0.4503\n",
      "Epoch 25: val_loss did not improve from 0.45039\n",
      "\u001b[1m61/61\u001b[0m \u001b[32m━━━━━━━━━━━━━━━━━━━━\u001b[0m\u001b[37m\u001b[0m \u001b[1m0s\u001b[0m 7ms/step - Precision: 0.6993 - Recall: 0.6845 - acc: 0.7806 - loss: 0.4502 - val_Precision: 0.6985 - val_Recall: 0.7264 - val_acc: 0.7865 - val_loss: 0.4520\n",
      "Epoch 26/100\n",
      "\u001b[1m53/61\u001b[0m \u001b[32m━━━━━━━━━━━━━━━━━\u001b[0m\u001b[37m━━━\u001b[0m \u001b[1m0s\u001b[0m 5ms/step - Precision: 0.7129 - Recall: 0.6751 - acc: 0.7872 - loss: 0.4419\n",
      "Epoch 26: val_loss improved from 0.45039 to 0.44460, saving model to ./models_temp/DANN_best_model.h5\n"
     ]
    },
    {
     "name": "stderr",
     "output_type": "stream",
     "text": [
      "WARNING:absl:You are saving your model as an HDF5 file via `model.save()` or `keras.saving.save_model(model)`. This file format is considered legacy. We recommend using instead the native Keras format, e.g. `model.save('my_model.keras')` or `keras.saving.save_model(model, 'my_model.keras')`. \n"
     ]
    },
    {
     "name": "stdout",
     "output_type": "stream",
     "text": [
      "\u001b[1m61/61\u001b[0m \u001b[32m━━━━━━━━━━━━━━━━━━━━\u001b[0m\u001b[37m\u001b[0m \u001b[1m0s\u001b[0m 7ms/step - Precision: 0.7126 - Recall: 0.6765 - acc: 0.7869 - loss: 0.4424 - val_Precision: 0.7056 - val_Recall: 0.7456 - val_acc: 0.7944 - val_loss: 0.4446\n",
      "Epoch 27/100\n",
      "\u001b[1m56/61\u001b[0m \u001b[32m━━━━━━━━━━━━━━━━━━\u001b[0m\u001b[37m━━\u001b[0m \u001b[1m0s\u001b[0m 5ms/step - Precision: 0.7186 - Recall: 0.6826 - acc: 0.7873 - loss: 0.4405\n",
      "Epoch 27: val_loss did not improve from 0.44460\n",
      "\u001b[1m61/61\u001b[0m \u001b[32m━━━━━━━━━━━━━━━━━━━━\u001b[0m\u001b[37m\u001b[0m \u001b[1m0s\u001b[0m 6ms/step - Precision: 0.7177 - Recall: 0.6828 - acc: 0.7871 - loss: 0.4407 - val_Precision: 0.7332 - val_Recall: 0.6647 - val_acc: 0.7901 - val_loss: 0.4503\n",
      "Epoch 28/100\n",
      "\u001b[1m61/61\u001b[0m \u001b[32m━━━━━━━━━━━━━━━━━━━━\u001b[0m\u001b[37m\u001b[0m \u001b[1m0s\u001b[0m 5ms/step - Precision: 0.7020 - Recall: 0.6647 - acc: 0.7772 - loss: 0.4559\n",
      "Epoch 28: val_loss did not improve from 0.44460\n",
      "\u001b[1m61/61\u001b[0m \u001b[32m━━━━━━━━━━━━━━━━━━━━\u001b[0m\u001b[37m\u001b[0m \u001b[1m0s\u001b[0m 7ms/step - Precision: 0.7019 - Recall: 0.6652 - acc: 0.7773 - loss: 0.4558 - val_Precision: 0.7230 - val_Recall: 0.6856 - val_acc: 0.7901 - val_loss: 0.4511\n",
      "Epoch 29/100\n",
      "\u001b[1m56/61\u001b[0m \u001b[32m━━━━━━━━━━━━━━━━━━\u001b[0m\u001b[37m━━\u001b[0m \u001b[1m0s\u001b[0m 5ms/step - Precision: 0.7190 - Recall: 0.6971 - acc: 0.7946 - loss: 0.4256\n",
      "Epoch 29: val_loss did not improve from 0.44460\n",
      "\u001b[1m61/61\u001b[0m \u001b[32m━━━━━━━━━━━━━━━━━━━━\u001b[0m\u001b[37m\u001b[0m \u001b[1m0s\u001b[0m 6ms/step - Precision: 0.7181 - Recall: 0.6981 - acc: 0.7941 - loss: 0.4266 - val_Precision: 0.7036 - val_Recall: 0.7206 - val_acc: 0.7880 - val_loss: 0.4476\n",
      "Epoch 30/100\n",
      "\u001b[1m51/61\u001b[0m \u001b[32m━━━━━━━━━━━━━━━━\u001b[0m\u001b[37m━━━━\u001b[0m \u001b[1m0s\u001b[0m 5ms/step - Precision: 0.7218 - Recall: 0.7290 - acc: 0.7983 - loss: 0.4307\n",
      "Epoch 30: val_loss did not improve from 0.44460\n",
      "\u001b[1m61/61\u001b[0m \u001b[32m━━━━━━━━━━━━━━━━━━━━\u001b[0m\u001b[37m\u001b[0m \u001b[1m0s\u001b[0m 7ms/step - Precision: 0.7198 - Recall: 0.7257 - acc: 0.7969 - loss: 0.4318 - val_Precision: 0.7030 - val_Recall: 0.7306 - val_acc: 0.7898 - val_loss: 0.4460\n",
      "Epoch 31/100\n",
      "\u001b[1m56/61\u001b[0m \u001b[32m━━━━━━━━━━━━━━━━━━\u001b[0m\u001b[37m━━\u001b[0m \u001b[1m0s\u001b[0m 5ms/step - Precision: 0.7194 - Recall: 0.7073 - acc: 0.7955 - loss: 0.4321\n",
      "Epoch 31: val_loss improved from 0.44460 to 0.43955, saving model to ./models_temp/DANN_best_model.h5\n"
     ]
    },
    {
     "name": "stderr",
     "output_type": "stream",
     "text": [
      "WARNING:absl:You are saving your model as an HDF5 file via `model.save()` or `keras.saving.save_model(model)`. This file format is considered legacy. We recommend using instead the native Keras format, e.g. `model.save('my_model.keras')` or `keras.saving.save_model(model, 'my_model.keras')`. \n"
     ]
    },
    {
     "name": "stdout",
     "output_type": "stream",
     "text": [
      "\u001b[1m61/61\u001b[0m \u001b[32m━━━━━━━━━━━━━━━━━━━━\u001b[0m\u001b[37m\u001b[0m \u001b[1m0s\u001b[0m 7ms/step - Precision: 0.7185 - Recall: 0.7066 - acc: 0.7949 - loss: 0.4327 - val_Precision: 0.7021 - val_Recall: 0.7331 - val_acc: 0.7898 - val_loss: 0.4395\n",
      "Epoch 32/100\n",
      "\u001b[1m55/61\u001b[0m \u001b[32m━━━━━━━━━━━━━━━━━━\u001b[0m\u001b[37m━━\u001b[0m \u001b[1m0s\u001b[0m 5ms/step - Precision: 0.7122 - Recall: 0.6860 - acc: 0.7854 - loss: 0.4461\n",
      "Epoch 32: val_loss did not improve from 0.43955\n",
      "\u001b[1m61/61\u001b[0m \u001b[32m━━━━━━━━━━━━━━━━━━━━\u001b[0m\u001b[37m\u001b[0m \u001b[1m0s\u001b[0m 6ms/step - Precision: 0.7123 - Recall: 0.6866 - acc: 0.7857 - loss: 0.4456 - val_Precision: 0.7321 - val_Recall: 0.6814 - val_acc: 0.7934 - val_loss: 0.4399\n",
      "Epoch 33/100\n",
      "\u001b[1m57/61\u001b[0m \u001b[32m━━━━━━━━━━━━━━━━━━\u001b[0m\u001b[37m━━\u001b[0m \u001b[1m0s\u001b[0m 5ms/step - Precision: 0.7226 - Recall: 0.7226 - acc: 0.7934 - loss: 0.4312\n",
      "Epoch 33: val_loss did not improve from 0.43955\n",
      "\u001b[1m61/61\u001b[0m \u001b[32m━━━━━━━━━━━━━━━━━━━━\u001b[0m\u001b[37m\u001b[0m \u001b[1m0s\u001b[0m 6ms/step - Precision: 0.7215 - Recall: 0.7224 - acc: 0.7934 - loss: 0.4314 - val_Precision: 0.7325 - val_Recall: 0.6714 - val_acc: 0.7913 - val_loss: 0.4424\n",
      "Epoch 34/100\n",
      "\u001b[1m58/61\u001b[0m \u001b[32m━━━━━━━━━━━━━━━━━━━\u001b[0m\u001b[37m━\u001b[0m \u001b[1m0s\u001b[0m 5ms/step - Precision: 0.7001 - Recall: 0.6943 - acc: 0.7843 - loss: 0.4323\n",
      "Epoch 34: val_loss improved from 0.43955 to 0.43715, saving model to ./models_temp/DANN_best_model.h5\n"
     ]
    },
    {
     "name": "stderr",
     "output_type": "stream",
     "text": [
      "WARNING:absl:You are saving your model as an HDF5 file via `model.save()` or `keras.saving.save_model(model)`. This file format is considered legacy. We recommend using instead the native Keras format, e.g. `model.save('my_model.keras')` or `keras.saving.save_model(model, 'my_model.keras')`. \n"
     ]
    },
    {
     "name": "stdout",
     "output_type": "stream",
     "text": [
      "\u001b[1m61/61\u001b[0m \u001b[32m━━━━━━━━━━━━━━━━━━━━\u001b[0m\u001b[37m\u001b[0m \u001b[1m0s\u001b[0m 8ms/step - Precision: 0.7005 - Recall: 0.6950 - acc: 0.7845 - loss: 0.4323 - val_Precision: 0.7066 - val_Recall: 0.7189 - val_acc: 0.7892 - val_loss: 0.4372\n",
      "Epoch 35/100\n",
      "\u001b[1m56/61\u001b[0m \u001b[32m━━━━━━━━━━━━━━━━━━\u001b[0m\u001b[37m━━\u001b[0m \u001b[1m0s\u001b[0m 5ms/step - Precision: 0.6988 - Recall: 0.6921 - acc: 0.7846 - loss: 0.4349\n",
      "Epoch 35: val_loss did not improve from 0.43715\n",
      "\u001b[1m61/61\u001b[0m \u001b[32m━━━━━━━━━━━━━━━━━━━━\u001b[0m\u001b[37m\u001b[0m \u001b[1m0s\u001b[0m 6ms/step - Precision: 0.7004 - Recall: 0.6938 - acc: 0.7855 - loss: 0.4345 - val_Precision: 0.6978 - val_Recall: 0.7356 - val_acc: 0.7880 - val_loss: 0.4410\n",
      "Epoch 36/100\n",
      "\u001b[1m57/61\u001b[0m \u001b[32m━━━━━━━━━━━━━━━━━━\u001b[0m\u001b[37m━━\u001b[0m \u001b[1m0s\u001b[0m 6ms/step - Precision: 0.7182 - Recall: 0.7281 - acc: 0.7980 - loss: 0.4280\n",
      "Epoch 36: val_loss did not improve from 0.43715\n",
      "\u001b[1m61/61\u001b[0m \u001b[32m━━━━━━━━━━━━━━━━━━━━\u001b[0m\u001b[37m\u001b[0m \u001b[1m0s\u001b[0m 7ms/step - Precision: 0.7181 - Recall: 0.7265 - acc: 0.7976 - loss: 0.4282 - val_Precision: 0.7059 - val_Recall: 0.7448 - val_acc: 0.7944 - val_loss: 0.4380\n",
      "Epoch 37/100\n",
      "\u001b[1m54/61\u001b[0m \u001b[32m━━━━━━━━━━━━━━━━━\u001b[0m\u001b[37m━━━\u001b[0m \u001b[1m0s\u001b[0m 6ms/step - Precision: 0.7095 - Recall: 0.7415 - acc: 0.7999 - loss: 0.4234\n",
      "Epoch 37: val_loss did not improve from 0.43715\n",
      "\u001b[1m61/61\u001b[0m \u001b[32m━━━━━━━━━━━━━━━━━━━━\u001b[0m\u001b[37m\u001b[0m \u001b[1m0s\u001b[0m 7ms/step - Precision: 0.7101 - Recall: 0.7379 - acc: 0.7992 - loss: 0.4246 - val_Precision: 0.6933 - val_Recall: 0.7731 - val_acc: 0.7931 - val_loss: 0.4375\n",
      "Epoch 38/100\n",
      "\u001b[1m57/61\u001b[0m \u001b[32m━━━━━━━━━━━━━━━━━━\u001b[0m\u001b[37m━━\u001b[0m \u001b[1m0s\u001b[0m 6ms/step - Precision: 0.7030 - Recall: 0.7404 - acc: 0.7956 - loss: 0.4300\n",
      "Epoch 38: val_loss improved from 0.43715 to 0.43577, saving model to ./models_temp/DANN_best_model.h5\n"
     ]
    },
    {
     "name": "stderr",
     "output_type": "stream",
     "text": [
      "WARNING:absl:You are saving your model as an HDF5 file via `model.save()` or `keras.saving.save_model(model)`. This file format is considered legacy. We recommend using instead the native Keras format, e.g. `model.save('my_model.keras')` or `keras.saving.save_model(model, 'my_model.keras')`. \n"
     ]
    },
    {
     "name": "stdout",
     "output_type": "stream",
     "text": [
      "\u001b[1m61/61\u001b[0m \u001b[32m━━━━━━━━━━━━━━━━━━━━\u001b[0m\u001b[37m\u001b[0m \u001b[1m0s\u001b[0m 8ms/step - Precision: 0.7030 - Recall: 0.7392 - acc: 0.7952 - loss: 0.4301 - val_Precision: 0.7240 - val_Recall: 0.6981 - val_acc: 0.7934 - val_loss: 0.4358\n",
      "Epoch 39/100\n",
      "\u001b[1m59/61\u001b[0m \u001b[32m━━━━━━━━━━━━━━━━━━━\u001b[0m\u001b[37m━\u001b[0m \u001b[1m0s\u001b[0m 5ms/step - Precision: 0.7187 - Recall: 0.6919 - acc: 0.7934 - loss: 0.4288\n",
      "Epoch 39: val_loss did not improve from 0.43577\n",
      "\u001b[1m61/61\u001b[0m \u001b[32m━━━━━━━━━━━━━━━━━━━━\u001b[0m\u001b[37m\u001b[0m \u001b[1m0s\u001b[0m 7ms/step - Precision: 0.7186 - Recall: 0.6925 - acc: 0.7934 - loss: 0.4288 - val_Precision: 0.7615 - val_Recall: 0.6472 - val_acc: 0.7980 - val_loss: 0.4411\n",
      "Epoch 40/100\n",
      "\u001b[1m55/61\u001b[0m \u001b[32m━━━━━━━━━━━━━━━━━━\u001b[0m\u001b[37m━━\u001b[0m \u001b[1m0s\u001b[0m 5ms/step - Precision: 0.7209 - Recall: 0.6992 - acc: 0.7958 - loss: 0.4226\n",
      "Epoch 40: val_loss improved from 0.43577 to 0.43443, saving model to ./models_temp/DANN_best_model.h5\n"
     ]
    },
    {
     "name": "stderr",
     "output_type": "stream",
     "text": [
      "WARNING:absl:You are saving your model as an HDF5 file via `model.save()` or `keras.saving.save_model(model)`. This file format is considered legacy. We recommend using instead the native Keras format, e.g. `model.save('my_model.keras')` or `keras.saving.save_model(model, 'my_model.keras')`. \n"
     ]
    },
    {
     "name": "stdout",
     "output_type": "stream",
     "text": [
      "\u001b[1m61/61\u001b[0m \u001b[32m━━━━━━━━━━━━━━━━━━━━\u001b[0m\u001b[37m\u001b[0m \u001b[1m0s\u001b[0m 7ms/step - Precision: 0.7211 - Recall: 0.7014 - acc: 0.7962 - loss: 0.4229 - val_Precision: 0.7247 - val_Recall: 0.7223 - val_acc: 0.7992 - val_loss: 0.4344\n",
      "Epoch 41/100\n",
      "\u001b[1m56/61\u001b[0m \u001b[32m━━━━━━━━━━━━━━━━━━\u001b[0m\u001b[37m━━\u001b[0m \u001b[1m0s\u001b[0m 5ms/step - Precision: 0.7208 - Recall: 0.7009 - acc: 0.7959 - loss: 0.4178\n",
      "Epoch 41: val_loss did not improve from 0.43443\n",
      "\u001b[1m61/61\u001b[0m \u001b[32m━━━━━━━━━━━━━━━━━━━━\u001b[0m\u001b[37m\u001b[0m \u001b[1m0s\u001b[0m 6ms/step - Precision: 0.7209 - Recall: 0.7020 - acc: 0.7960 - loss: 0.4182 - val_Precision: 0.7565 - val_Recall: 0.6839 - val_acc: 0.8050 - val_loss: 0.4412\n",
      "Epoch 42/100\n",
      "\u001b[1m58/61\u001b[0m \u001b[32m━━━━━━━━━━━━━━━━━━━\u001b[0m\u001b[37m━\u001b[0m \u001b[1m0s\u001b[0m 5ms/step - Precision: 0.7444 - Recall: 0.6883 - acc: 0.8062 - loss: 0.4044\n",
      "Epoch 42: val_loss did not improve from 0.43443\n",
      "\u001b[1m61/61\u001b[0m \u001b[32m━━━━━━━━━━━━━━━━━━━━\u001b[0m\u001b[37m\u001b[0m \u001b[1m0s\u001b[0m 6ms/step - Precision: 0.7431 - Recall: 0.6889 - acc: 0.8055 - loss: 0.4059 - val_Precision: 0.7170 - val_Recall: 0.7164 - val_acc: 0.7941 - val_loss: 0.4379\n",
      "Epoch 43/100\n",
      "\u001b[1m60/61\u001b[0m \u001b[32m━━━━━━━━━━━━━━━━━━━\u001b[0m\u001b[37m━\u001b[0m \u001b[1m0s\u001b[0m 5ms/step - Precision: 0.7241 - Recall: 0.7170 - acc: 0.7968 - loss: 0.4273\n",
      "Epoch 43: val_loss did not improve from 0.43443\n",
      "\u001b[1m61/61\u001b[0m \u001b[32m━━━━━━━━━━━━━━━━━━━━\u001b[0m\u001b[37m\u001b[0m \u001b[1m0s\u001b[0m 7ms/step - Precision: 0.7242 - Recall: 0.7172 - acc: 0.7969 - loss: 0.4271 - val_Precision: 0.7045 - val_Recall: 0.7515 - val_acc: 0.7950 - val_loss: 0.4428\n",
      "Epoch 44/100\n",
      "\u001b[1m58/61\u001b[0m \u001b[32m━━━━━━━━━━━━━━━━━━━\u001b[0m\u001b[37m━\u001b[0m \u001b[1m0s\u001b[0m 5ms/step - Precision: 0.7231 - Recall: 0.7303 - acc: 0.7999 - loss: 0.4236\n",
      "Epoch 44: val_loss did not improve from 0.43443\n",
      "\u001b[1m61/61\u001b[0m \u001b[32m━━━━━━━━━━━━━━━━━━━━\u001b[0m\u001b[37m\u001b[0m \u001b[1m0s\u001b[0m 7ms/step - Precision: 0.7233 - Recall: 0.7293 - acc: 0.7999 - loss: 0.4233 - val_Precision: 0.7085 - val_Recall: 0.7298 - val_acc: 0.7925 - val_loss: 0.4392\n",
      "Epoch 45/100\n",
      "\u001b[1m53/61\u001b[0m \u001b[32m━━━━━━━━━━━━━━━━━\u001b[0m\u001b[37m━━━\u001b[0m \u001b[1m0s\u001b[0m 5ms/step - Precision: 0.7187 - Recall: 0.7021 - acc: 0.7949 - loss: 0.4232\n",
      "Epoch 45: val_loss improved from 0.43443 to 0.43030, saving model to ./models_temp/DANN_best_model.h5\n"
     ]
    },
    {
     "name": "stderr",
     "output_type": "stream",
     "text": [
      "WARNING:absl:You are saving your model as an HDF5 file via `model.save()` or `keras.saving.save_model(model)`. This file format is considered legacy. We recommend using instead the native Keras format, e.g. `model.save('my_model.keras')` or `keras.saving.save_model(model, 'my_model.keras')`. \n"
     ]
    },
    {
     "name": "stdout",
     "output_type": "stream",
     "text": [
      "\u001b[1m61/61\u001b[0m \u001b[32m━━━━━━━━━━━━━━━━━━━━\u001b[0m\u001b[37m\u001b[0m \u001b[1m0s\u001b[0m 7ms/step - Precision: 0.7193 - Recall: 0.7043 - acc: 0.7955 - loss: 0.4234 - val_Precision: 0.7116 - val_Recall: 0.7490 - val_acc: 0.7983 - val_loss: 0.4303\n",
      "Epoch 46/100\n",
      "\u001b[1m53/61\u001b[0m \u001b[32m━━━━━━━━━━━━━━━━━\u001b[0m\u001b[37m━━━\u001b[0m \u001b[1m0s\u001b[0m 5ms/step - Precision: 0.7365 - Recall: 0.7278 - acc: 0.8029 - loss: 0.4124\n",
      "Epoch 46: val_loss did not improve from 0.43030\n",
      "\u001b[1m61/61\u001b[0m \u001b[32m━━━━━━━━━━━━━━━━━━━━\u001b[0m\u001b[37m\u001b[0m \u001b[1m0s\u001b[0m 6ms/step - Precision: 0.7352 - Recall: 0.7270 - acc: 0.8027 - loss: 0.4132 - val_Precision: 0.7454 - val_Recall: 0.7156 - val_acc: 0.8077 - val_loss: 0.4305\n",
      "Epoch 47/100\n",
      "\u001b[1m50/61\u001b[0m \u001b[32m━━━━━━━━━━━━━━━━\u001b[0m\u001b[37m━━━━\u001b[0m \u001b[1m0s\u001b[0m 5ms/step - Precision: 0.7455 - Recall: 0.6892 - acc: 0.8046 - loss: 0.4142\n",
      "Epoch 47: val_loss improved from 0.43030 to 0.42395, saving model to ./models_temp/DANN_best_model.h5\n"
     ]
    },
    {
     "name": "stderr",
     "output_type": "stream",
     "text": [
      "WARNING:absl:You are saving your model as an HDF5 file via `model.save()` or `keras.saving.save_model(model)`. This file format is considered legacy. We recommend using instead the native Keras format, e.g. `model.save('my_model.keras')` or `keras.saving.save_model(model, 'my_model.keras')`. \n"
     ]
    },
    {
     "name": "stdout",
     "output_type": "stream",
     "text": [
      "\u001b[1m61/61\u001b[0m \u001b[32m━━━━━━━━━━━━━━━━━━━━\u001b[0m\u001b[37m\u001b[0m \u001b[1m0s\u001b[0m 7ms/step - Precision: 0.7437 - Recall: 0.6935 - acc: 0.8046 - loss: 0.4151 - val_Precision: 0.7329 - val_Recall: 0.7256 - val_acc: 0.8041 - val_loss: 0.4240\n",
      "Epoch 48/100\n",
      "\u001b[1m58/61\u001b[0m \u001b[32m━━━━━━━━━━━━━━━━━━━\u001b[0m\u001b[37m━\u001b[0m \u001b[1m0s\u001b[0m 5ms/step - Precision: 0.7344 - Recall: 0.7112 - acc: 0.8004 - loss: 0.4270\n",
      "Epoch 48: val_loss did not improve from 0.42395\n",
      "\u001b[1m61/61\u001b[0m \u001b[32m━━━━━━━━━━━━━━━━━━━━\u001b[0m\u001b[37m\u001b[0m \u001b[1m0s\u001b[0m 6ms/step - Precision: 0.7342 - Recall: 0.7111 - acc: 0.8005 - loss: 0.4264 - val_Precision: 0.7197 - val_Recall: 0.7281 - val_acc: 0.7980 - val_loss: 0.4345\n",
      "Epoch 49/100\n",
      "\u001b[1m56/61\u001b[0m \u001b[32m━━━━━━━━━━━━━━━━━━\u001b[0m\u001b[37m━━\u001b[0m \u001b[1m0s\u001b[0m 5ms/step - Precision: 0.7307 - Recall: 0.7198 - acc: 0.8047 - loss: 0.4215\n",
      "Epoch 49: val_loss did not improve from 0.42395\n",
      "\u001b[1m61/61\u001b[0m \u001b[32m━━━━━━━━━━━━━━━━━━━━\u001b[0m\u001b[37m\u001b[0m \u001b[1m0s\u001b[0m 6ms/step - Precision: 0.7309 - Recall: 0.7206 - acc: 0.8048 - loss: 0.4208 - val_Precision: 0.7287 - val_Recall: 0.7189 - val_acc: 0.8004 - val_loss: 0.4278\n",
      "Epoch 50/100\n",
      "\u001b[1m56/61\u001b[0m \u001b[32m━━━━━━━━━━━━━━━━━━\u001b[0m\u001b[37m━━\u001b[0m \u001b[1m0s\u001b[0m 5ms/step - Precision: 0.7282 - Recall: 0.7244 - acc: 0.8011 - loss: 0.4166\n",
      "Epoch 50: val_loss did not improve from 0.42395\n",
      "\u001b[1m61/61\u001b[0m \u001b[32m━━━━━━━━━━━━━━━━━━━━\u001b[0m\u001b[37m\u001b[0m \u001b[1m0s\u001b[0m 6ms/step - Precision: 0.7280 - Recall: 0.7244 - acc: 0.8012 - loss: 0.4164 - val_Precision: 0.7280 - val_Recall: 0.7231 - val_acc: 0.8010 - val_loss: 0.4282\n",
      "Epoch 51/100\n",
      "\u001b[1m53/61\u001b[0m \u001b[32m━━━━━━━━━━━━━━━━━\u001b[0m\u001b[37m━━━\u001b[0m \u001b[1m0s\u001b[0m 5ms/step - Precision: 0.7280 - Recall: 0.7155 - acc: 0.8046 - loss: 0.4156\n",
      "Epoch 51: val_loss did not improve from 0.42395\n",
      "\u001b[1m61/61\u001b[0m \u001b[32m━━━━━━━━━━━━━━━━━━━━\u001b[0m\u001b[37m\u001b[0m \u001b[1m0s\u001b[0m 6ms/step - Precision: 0.7296 - Recall: 0.7165 - acc: 0.8051 - loss: 0.4151 - val_Precision: 0.7464 - val_Recall: 0.6555 - val_acc: 0.7938 - val_loss: 0.4382\n",
      "Epoch 52/100\n",
      "\u001b[1m60/61\u001b[0m \u001b[32m━━━━━━━━━━━━━━━━━━━\u001b[0m\u001b[37m━\u001b[0m \u001b[1m0s\u001b[0m 5ms/step - Precision: 0.7340 - Recall: 0.7037 - acc: 0.8053 - loss: 0.4049\n",
      "Epoch 52: val_loss did not improve from 0.42395\n",
      "\u001b[1m61/61\u001b[0m \u001b[32m━━━━━━━━━━━━━━━━━━━━\u001b[0m\u001b[37m\u001b[0m \u001b[1m0s\u001b[0m 7ms/step - Precision: 0.7340 - Recall: 0.7041 - acc: 0.8052 - loss: 0.4052 - val_Precision: 0.7075 - val_Recall: 0.7506 - val_acc: 0.7965 - val_loss: 0.4350\n",
      "Epoch 53/100\n",
      "\u001b[1m53/61\u001b[0m \u001b[32m━━━━━━━━━━━━━━━━━\u001b[0m\u001b[37m━━━\u001b[0m \u001b[1m0s\u001b[0m 5ms/step - Precision: 0.7333 - Recall: 0.7013 - acc: 0.8047 - loss: 0.4109\n",
      "Epoch 53: val_loss did not improve from 0.42395\n",
      "\u001b[1m61/61\u001b[0m \u001b[32m━━━━━━━━━━━━━━━━━━━━\u001b[0m\u001b[37m\u001b[0m \u001b[1m0s\u001b[0m 6ms/step - Precision: 0.7335 - Recall: 0.7037 - acc: 0.8047 - loss: 0.4117 - val_Precision: 0.7394 - val_Recall: 0.7123 - val_acc: 0.8041 - val_loss: 0.4263\n",
      "Epoch 54/100\n",
      "\u001b[1m55/61\u001b[0m \u001b[32m━━━━━━━━━━━━━━━━━━\u001b[0m\u001b[37m━━\u001b[0m \u001b[1m0s\u001b[0m 5ms/step - Precision: 0.7484 - Recall: 0.7060 - acc: 0.8096 - loss: 0.4116\n",
      "Epoch 54: val_loss did not improve from 0.42395\n",
      "\u001b[1m61/61\u001b[0m \u001b[32m━━━━━━━━━━━━━━━━━━━━\u001b[0m\u001b[37m\u001b[0m \u001b[1m0s\u001b[0m 6ms/step - Precision: 0.7475 - Recall: 0.7056 - acc: 0.8089 - loss: 0.4116 - val_Precision: 0.7100 - val_Recall: 0.7473 - val_acc: 0.7971 - val_loss: 0.4330\n",
      "Epoch 55/100\n",
      "\u001b[1m57/61\u001b[0m \u001b[32m━━━━━━━━━━━━━━━━━━\u001b[0m\u001b[37m━━\u001b[0m \u001b[1m0s\u001b[0m 5ms/step - Precision: 0.7274 - Recall: 0.7276 - acc: 0.8023 - loss: 0.4089\n",
      "Epoch 55: val_loss did not improve from 0.42395\n",
      "\u001b[1m61/61\u001b[0m \u001b[32m━━━━━━━━━━━━━━━━━━━━\u001b[0m\u001b[37m\u001b[0m \u001b[1m0s\u001b[0m 6ms/step - Precision: 0.7278 - Recall: 0.7271 - acc: 0.8025 - loss: 0.4092 - val_Precision: 0.7019 - val_Recall: 0.7640 - val_acc: 0.7962 - val_loss: 0.4357\n",
      "Epoch 56/100\n",
      "\u001b[1m55/61\u001b[0m \u001b[32m━━━━━━━━━━━━━━━━━━\u001b[0m\u001b[37m━━\u001b[0m \u001b[1m0s\u001b[0m 5ms/step - Precision: 0.7172 - Recall: 0.7339 - acc: 0.7983 - loss: 0.4185\n",
      "Epoch 56: val_loss did not improve from 0.42395\n",
      "\u001b[1m61/61\u001b[0m \u001b[32m━━━━━━━━━━━━━━━━━━━━\u001b[0m\u001b[37m\u001b[0m \u001b[1m0s\u001b[0m 6ms/step - Precision: 0.7183 - Recall: 0.7338 - acc: 0.7990 - loss: 0.4176 - val_Precision: 0.7271 - val_Recall: 0.7223 - val_acc: 0.8004 - val_loss: 0.4319\n",
      "Epoch 57/100\n",
      "\u001b[1m58/61\u001b[0m \u001b[32m━━━━━━━━━━━━━━━━━━━\u001b[0m\u001b[37m━\u001b[0m \u001b[1m0s\u001b[0m 6ms/step - Precision: 0.7346 - Recall: 0.7347 - acc: 0.8113 - loss: 0.4029\n",
      "Epoch 57: val_loss did not improve from 0.42395\n",
      "\u001b[1m61/61\u001b[0m \u001b[32m━━━━━━━━━━━━━━━━━━━━\u001b[0m\u001b[37m\u001b[0m \u001b[1m0s\u001b[0m 8ms/step - Precision: 0.7342 - Recall: 0.7343 - acc: 0.8109 - loss: 0.4035 - val_Precision: 0.7131 - val_Recall: 0.7339 - val_acc: 0.7959 - val_loss: 0.4348\n",
      "Epoch 57: early stopping\n",
      "Restoring model weights from the end of the best epoch: 47.\n",
      "\u001b[1m104/104\u001b[0m \u001b[32m━━━━━━━━━━━━━━━━━━━━\u001b[0m\u001b[37m\u001b[0m \u001b[1m0s\u001b[0m 1ms/step - Precision: 0.7271 - Recall: 0.7098 - acc: 0.8003 - loss: 0.4293\n"
     ]
    },
    {
     "data": {
      "text/plain": [
       "[0.42395374178886414,\n",
       " 0.8040642738342285,\n",
       " 0.7256046533584595,\n",
       " 0.7329401969909668]"
      ]
     },
     "execution_count": 40,
     "metadata": {},
     "output_type": "execute_result"
    }
   ],
   "source": [
    "from tensorflow.keras.layers import Input, Dense, Dropout, BatchNormalization, MultiHeadAttention, Flatten, GlobalAveragePooling1D, Reshape\n",
    "from tensorflow.keras.models import Model\n",
    "\n",
    "n_input = X_train.shape[1]\n",
    "# Model\n",
    "# 定義模型\n",
    "input_layer = Input(shape=(n_input,))\n",
    "x = BatchNormalization()(input_layer)\n",
    "x = Dense(128, activation='relu')(x)\n",
    "x = Dropout(0.1)(x)\n",
    "# Reshape 輸入，以便進行注意力機制（將它變成三維張量）\n",
    "x = Reshape((1, 128))(x)  # 假設每個樣本有 128 個特徵，這樣就會有 1 個時間步\n",
    "# 添加多頭注意力層\n",
    "x_attention = MultiHeadAttention(num_heads=4, key_dim=32)(x, x)  # query, key 和 value 都是 x\n",
    "x_attention = Dropout(0.1)(x_attention)\n",
    "# 將注意力層的輸出展平\n",
    "x_flattened = Flatten()(x_attention)\n",
    "# 經過展平後的處理\n",
    "x = Dense(128, activation='relu')(x_flattened)\n",
    "x = Dropout(0.1)(x)\n",
    "output = Dense(1, activation='sigmoid')(x)\n",
    "\n",
    "\n",
    "# Model\n",
    "model = Model(inputs=input_layer, outputs=output)\n",
    "model.summary()\n",
    "# 模型optimizer 和 learning rate\n",
    "initial_lr = 0.001\n",
    "from tensorflow.keras.optimizers import schedules\n",
    "lr_schedule = schedules.ExponentialDecay(\n",
    "    initial_learning_rate=initial_lr,\n",
    "    decay_steps=100000,\n",
    "    decay_rate=0.96,\n",
    "    staircase=True)\n",
    "from tensorflow.keras.optimizers import Adam\n",
    "optimizer = Adam(learning_rate=lr_schedule)\n",
    "\n",
    "model.compile(loss='bce', optimizer=optimizer, metrics=['acc', 'Recall', 'Precision'])\n",
    "# EarlyStopping: 根據 val_loss 停止訓練\n",
    "early_stop = EarlyStopping(monitor='val_loss', patience=10, verbose=1, restore_best_weights=True)\n",
    "# ModelCheckpoint: 儲存最佳模型\n",
    "checkpoint = ModelCheckpoint('./models_temp/attention_best_model.h5', monitor='val_loss', save_best_only=True, verbose=1)\n",
    "history = model.fit(X_train, y_train, validation_data=(X_test, y_test), epochs=100, batch_size=128, verbose=1, callbacks=[early_stop, checkpoint])\n",
    "\n",
    "# 評估模型\n",
    "model.evaluate(X_test, y_test)"
   ]
  },
  {
   "cell_type": "code",
   "execution_count": 36,
   "id": "83d24b27",
   "metadata": {},
   "outputs": [
    {
     "data": {
      "image/png": "[encoded data removed]",
      "text/plain": [
       "<Figure size 640x480 with 1 Axes>"
      ]
     },
     "metadata": {},
     "output_type": "display_data"
    },
    {
     "data": {
      "image/png": "[encoded data removed]",
      "text/plain": [
       "<Figure size 640x480 with 1 Axes>"
      ]
     },
     "metadata": {},
     "output_type": "display_data"
    }
   ],
   "source": [
    "import matplotlib.pyplot as plt\n",
    "\n",
    "# Loss 曲線\n",
    "plt.plot(history.history['loss'], label='Train Loss')\n",
    "plt.plot(history.history['val_loss'], label='Validation Loss')\n",
    "plt.xlabel('Epochs')\n",
    "plt.ylabel('Loss')\n",
    "plt.legend()\n",
    "plt.title('Loss over epochs')\n",
    "plt.show()\n",
    "\n",
    "# Accuracy 曲線\n",
    "plt.plot(history.history['acc'], label='Train Accuracy')\n",
    "plt.plot(history.history['val_acc'], label='Validation Accuracy')\n",
    "plt.xlabel('Epochs')\n",
    "plt.ylabel('Accuracy')\n",
    "plt.legend()\n",
    "plt.title('Accuracy over epochs')\n",
    "plt.show()"
   ]
  },
  {
   "cell_type": "code",
   "execution_count": 37,
   "id": "3827d00b",
   "metadata": {},
   "outputs": [
    {
     "name": "stdout",
     "output_type": "stream",
     "text": [
      "\u001b[1m104/104\u001b[0m \u001b[32m━━━━━━━━━━━━━━━━━━━━\u001b[0m\u001b[37m\u001b[0m \u001b[1m0s\u001b[0m 2ms/step\n"
     ]
    },
    {
     "data": {
      "image/png": "[encoded data removed]",
      "text/plain": [
       "<Figure size 600x600 with 2 Axes>"
      ]
     },
     "metadata": {},
     "output_type": "display_data"
    },
    {
     "name": "stdout",
     "output_type": "stream",
     "text": [
      "Classification Report:\n",
      "\n",
      "              precision    recall  f1-score   support\n",
      "\n",
      "           0     0.8682    0.8227    0.8448      2098\n",
      "           1     0.7158    0.7815    0.7472      1199\n",
      "\n",
      "    accuracy                         0.8077      3297\n",
      "   macro avg     0.7920    0.8021    0.7960      3297\n",
      "weighted avg     0.8128    0.8077    0.8093      3297\n",
      "\n"
     ]
    }
   ],
   "source": [
    "from sklearn.metrics import confusion_matrix\n",
    "import seaborn as sns\n",
    "import matplotlib.pyplot as plt\n",
    "\n",
    "# 預測結果\n",
    "y_pred = model.predict(X_test)\n",
    "y_pred_class = (y_pred > 0.5).astype(int)  # 轉換為二分類結果\n",
    "\n",
    "# 計算混淆矩陣\n",
    "cm_a = confusion_matrix(y_test, y_pred_class)\n",
    "\n",
    "# 繪製混淆矩陣\n",
    "plt.figure(figsize=(6, 6))\n",
    "sns.heatmap(cm_a, annot=True, fmt='d', cmap='Blues', xticklabels=[0, 1], yticklabels=[0, 1])\n",
    "plt.xlabel(\"Predicted\")\n",
    "plt.ylabel(\"Actual\")\n",
    "plt.title(\"Confusion Matrix\")\n",
    "plt.show()\n",
    "\n",
    "# classification report\n",
    "print(\"Classification Report:\\n\")\n",
    "print(classification_report(y_test, y_pred_class, digits=4))"
   ]
  },
  {
   "cell_type": "code",
   "execution_count": null,
   "id": "11e0966a",
   "metadata": {},
   "outputs": [],
   "source": []
  }
 ],
 "metadata": {
  "kernelspec": {
   "display_name": "Python 3",
   "language": "python",
   "name": "python3"
  },
  "language_info": {
   "codemirror_mode": {
    "name": "ipython",
    "version": 3
   },
   "file_extension": ".py",
   "mimetype": "text/x-python",
   "name": "python",
   "nbconvert_exporter": "python",
   "pygments_lexer": "ipython3",
   "version": "3.11.9"
  }
 },
 "nbformat": 4,
 "nbformat_minor": 5
}
