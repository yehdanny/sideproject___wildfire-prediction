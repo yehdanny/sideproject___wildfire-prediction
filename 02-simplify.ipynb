{
 "cells": [
  {
   "cell_type": "code",
   "execution_count": null,
   "id": "65f5aaf6",
   "metadata": {},
   "outputs": [],
   "source": [
    "import pandas as pd\n",
    "from sklearn.model_selection import train_test_split\n",
    "\n",
    "# 讀取資料\n",
    "df = pd.read_csv('data/CA_Weather_Fire_Dataset_1984-2025.csv')\n",
    "\n",
    "df.head(5)\n",
    "DAY_DROP =1\n",
    "YEAR_DROP = 1\n",
    "Weight_Balance == 0\n",
    "Tryname = 'd1y1wb0' #balance weight\n",
    "\n"
   ]
  },
  {
   "cell_type": "code",
   "execution_count": 2,
   "id": "7a6a4521",
   "metadata": {},
   "outputs": [
    {
     "data": {
      "text/html": [
       "<div>\n",
       "<style scoped>\n",
       "    .dataframe tbody tr th:only-of-type {\n",
       "        vertical-align: middle;\n",
       "    }\n",
       "\n",
       "    .dataframe tbody tr th {\n",
       "        vertical-align: top;\n",
       "    }\n",
       "\n",
       "    .dataframe thead th {\n",
       "        text-align: right;\n",
       "    }\n",
       "</style>\n",
       "<table border=\"1\" class=\"dataframe\">\n",
       "  <thead>\n",
       "    <tr style=\"text-align: right;\">\n",
       "      <th></th>\n",
       "      <th>PRECIPITATION</th>\n",
       "      <th>MAX_TEMP</th>\n",
       "      <th>MIN_TEMP</th>\n",
       "      <th>AVG_WIND_SPEED</th>\n",
       "      <th>YEAR</th>\n",
       "      <th>TEMP_RANGE</th>\n",
       "      <th>WIND_TEMP_RATIO</th>\n",
       "      <th>MONTH</th>\n",
       "      <th>LAGGED_PRECIPITATION</th>\n",
       "      <th>LAGGED_AVG_WIND_SPEED</th>\n",
       "      <th>DAY_OF_YEAR</th>\n",
       "    </tr>\n",
       "  </thead>\n",
       "  <tbody>\n",
       "    <tr>\n",
       "      <th>count</th>\n",
       "      <td>14987.000000</td>\n",
       "      <td>14987.000000</td>\n",
       "      <td>14987.000000</td>\n",
       "      <td>14976.000000</td>\n",
       "      <td>14988.000000</td>\n",
       "      <td>14987.000000</td>\n",
       "      <td>14976.000000</td>\n",
       "      <td>14988.000000</td>\n",
       "      <td>14988.000000</td>\n",
       "      <td>14988.000000</td>\n",
       "      <td>14988.000000</td>\n",
       "    </tr>\n",
       "    <tr>\n",
       "      <th>mean</th>\n",
       "      <td>0.032315</td>\n",
       "      <td>70.534997</td>\n",
       "      <td>56.494095</td>\n",
       "      <td>7.435098</td>\n",
       "      <td>2004.016813</td>\n",
       "      <td>14.040902</td>\n",
       "      <td>0.107019</td>\n",
       "      <td>6.518281</td>\n",
       "      <td>0.226188</td>\n",
       "      <td>7.434198</td>\n",
       "      <td>182.992994</td>\n",
       "    </tr>\n",
       "    <tr>\n",
       "      <th>std</th>\n",
       "      <td>0.179544</td>\n",
       "      <td>7.263447</td>\n",
       "      <td>6.767685</td>\n",
       "      <td>2.129985</td>\n",
       "      <td>11.843342</td>\n",
       "      <td>5.995327</td>\n",
       "      <td>0.035630</td>\n",
       "      <td>3.451037</td>\n",
       "      <td>0.648705</td>\n",
       "      <td>1.387849</td>\n",
       "      <td>105.523627</td>\n",
       "    </tr>\n",
       "    <tr>\n",
       "      <th>min</th>\n",
       "      <td>0.000000</td>\n",
       "      <td>50.000000</td>\n",
       "      <td>33.000000</td>\n",
       "      <td>1.790000</td>\n",
       "      <td>1984.000000</td>\n",
       "      <td>2.000000</td>\n",
       "      <td>0.023553</td>\n",
       "      <td>1.000000</td>\n",
       "      <td>0.000000</td>\n",
       "      <td>3.227143</td>\n",
       "      <td>1.000000</td>\n",
       "    </tr>\n",
       "    <tr>\n",
       "      <th>25%</th>\n",
       "      <td>0.000000</td>\n",
       "      <td>65.000000</td>\n",
       "      <td>51.000000</td>\n",
       "      <td>6.040000</td>\n",
       "      <td>1994.000000</td>\n",
       "      <td>10.000000</td>\n",
       "      <td>0.085238</td>\n",
       "      <td>4.000000</td>\n",
       "      <td>0.000000</td>\n",
       "      <td>6.518571</td>\n",
       "      <td>92.000000</td>\n",
       "    </tr>\n",
       "    <tr>\n",
       "      <th>50%</th>\n",
       "      <td>0.000000</td>\n",
       "      <td>70.000000</td>\n",
       "      <td>57.000000</td>\n",
       "      <td>7.160000</td>\n",
       "      <td>2004.000000</td>\n",
       "      <td>12.000000</td>\n",
       "      <td>0.102222</td>\n",
       "      <td>7.000000</td>\n",
       "      <td>0.000000</td>\n",
       "      <td>7.478571</td>\n",
       "      <td>183.000000</td>\n",
       "    </tr>\n",
       "    <tr>\n",
       "      <th>75%</th>\n",
       "      <td>0.000000</td>\n",
       "      <td>75.000000</td>\n",
       "      <td>62.000000</td>\n",
       "      <td>8.500000</td>\n",
       "      <td>2014.000000</td>\n",
       "      <td>17.000000</td>\n",
       "      <td>0.120462</td>\n",
       "      <td>10.000000</td>\n",
       "      <td>0.060000</td>\n",
       "      <td>8.278571</td>\n",
       "      <td>274.000000</td>\n",
       "    </tr>\n",
       "    <tr>\n",
       "      <th>max</th>\n",
       "      <td>4.530000</td>\n",
       "      <td>106.000000</td>\n",
       "      <td>77.000000</td>\n",
       "      <td>26.170000</td>\n",
       "      <td>2025.000000</td>\n",
       "      <td>41.000000</td>\n",
       "      <td>0.459123</td>\n",
       "      <td>12.000000</td>\n",
       "      <td>8.180000</td>\n",
       "      <td>13.932857</td>\n",
       "      <td>366.000000</td>\n",
       "    </tr>\n",
       "  </tbody>\n",
       "</table>\n",
       "</div>"
      ],
      "text/plain": [
       "       PRECIPITATION      MAX_TEMP      MIN_TEMP  AVG_WIND_SPEED  \\\n",
       "count   14987.000000  14987.000000  14987.000000    14976.000000   \n",
       "mean        0.032315     70.534997     56.494095        7.435098   \n",
       "std         0.179544      7.263447      6.767685        2.129985   \n",
       "min         0.000000     50.000000     33.000000        1.790000   \n",
       "25%         0.000000     65.000000     51.000000        6.040000   \n",
       "50%         0.000000     70.000000     57.000000        7.160000   \n",
       "75%         0.000000     75.000000     62.000000        8.500000   \n",
       "max         4.530000    106.000000     77.000000       26.170000   \n",
       "\n",
       "               YEAR    TEMP_RANGE  WIND_TEMP_RATIO         MONTH  \\\n",
       "count  14988.000000  14987.000000     14976.000000  14988.000000   \n",
       "mean    2004.016813     14.040902         0.107019      6.518281   \n",
       "std       11.843342      5.995327         0.035630      3.451037   \n",
       "min     1984.000000      2.000000         0.023553      1.000000   \n",
       "25%     1994.000000     10.000000         0.085238      4.000000   \n",
       "50%     2004.000000     12.000000         0.102222      7.000000   \n",
       "75%     2014.000000     17.000000         0.120462     10.000000   \n",
       "max     2025.000000     41.000000         0.459123     12.000000   \n",
       "\n",
       "       LAGGED_PRECIPITATION  LAGGED_AVG_WIND_SPEED   DAY_OF_YEAR  \n",
       "count          14988.000000           14988.000000  14988.000000  \n",
       "mean               0.226188               7.434198    182.992994  \n",
       "std                0.648705               1.387849    105.523627  \n",
       "min                0.000000               3.227143      1.000000  \n",
       "25%                0.000000               6.518571     92.000000  \n",
       "50%                0.000000               7.478571    183.000000  \n",
       "75%                0.060000               8.278571    274.000000  \n",
       "max                8.180000              13.932857    366.000000  "
      ]
     },
     "execution_count": 2,
     "metadata": {},
     "output_type": "execute_result"
    }
   ],
   "source": [
    "df.describe()\n"
   ]
  },
  {
   "cell_type": "markdown",
   "id": "fade8477",
   "metadata": {},
   "source": [
    "| 欄位名稱               | 說明                                                                 |\n",
    "|------------------------|----------------------------------------------------------------------|\n",
    "| DATE                   | 當天的觀測日期                                                       |\n",
    "| PRECIPITATION          | 每日降水量（英吋）                                                   |\n",
    "| MAX_TEMP               | 每日最高氣溫（華氏）                                                 |\n",
    "| MIN_TEMP               | 每日最低氣溫（華氏）                                                 |\n",
    "| AVG_WIND_SPEED         | 每日平均風速（英里/小時）                                           |\n",
    "| FIRE_START_DAY         | 是否於該日發生野火（布林值：True/False）                            |\n",
    "| YEAR                   | 年份                                                                 |\n",
    "| TEMP_RANGE             | 當日最高與最低溫差，反映氣溫變化程度                                |\n",
    "| WIND_TEMP_RATIO        | 平均風速與最高溫度的比值，捕捉風與溫度間的動態關係                  |\n",
    "| MONTH                  | 月份（1–12）                                                        |\n",
    "| SEASON                 | 季節（Winter, Spring, Summer, Fall）                                |\n",
    "| LAGGED_PRECIPITATION   | 前 7 天的累積降水量，反映近一週的濕潤條件                            |\n",
    "| LAGGED_AVG_WIND_SPEED  | 前 7 天的平均風速，反映持續的風力狀況                                |\n",
    "| DAY_OF_YEAR            | 當年度中的天數（1–365 或 366）                                     |\n"
   ]
  },
  {
   "cell_type": "markdown",
   "id": "de57672e",
   "metadata": {},
   "source": [
    "<h5>\n",
    "\n",
    "- 對月份做 sin/cos 轉換  保留了數值間的連續性與週期性。\n",
    "  \n",
    "- 1 月與 12 月其實很接近，但 get_dummies() 會把它們視為完全無關。\n",
    "\n",
    "- 而 sin/cos 轉換會保留這種「循環性」。\n",
    "\n",
    "</h5>"
   ]
  },
  {
   "cell_type": "code",
   "execution_count": 3,
   "id": "a5005b8b",
   "metadata": {},
   "outputs": [],
   "source": [
    "import numpy as np\n",
    "\n",
    "df['MONTH_SIN'] = np.sin(2 * np.pi * df['MONTH'] / 12)\n",
    "df['MONTH_COS'] = np.cos(2 * np.pi * df['MONTH'] / 12)\n",
    "if DAY_DROP == 0:\n",
    "    df['DOY_SIN'] = np.sin(2 * np.pi * df['DAY_OF_YEAR'] / 366)\n",
    "    df['DOY_COS'] = np.cos(2 * np.pi * df['DAY_OF_YEAR'] / 366)\n",
    "\n",
    "# 將 FIRE_START_DAY 轉為整數型（0 或 1）\n",
    "df['FIRE_START_DAY'] = df['FIRE_START_DAY'].astype(int)"
   ]
  },
  {
   "cell_type": "markdown",
   "id": "5d9f3f57",
   "metadata": {},
   "source": [
    "<h5>\n",
    "\n",
    "- `PRECIPITATION`幾乎所有值都是 0（沒下雨），只有極少數是非零，所以我們轉成是否有下雨 \n",
    "\n",
    "- `TEMP_MEAN` 溫度範圍（TEMP_RANGE）差異滿大的，從 2 到 41，直接用溫度平均值，有時比分開的 MAX、MIN 更有區分力。\n",
    "\n",
    "</h5>"
   ]
  },
  {
   "cell_type": "code",
   "execution_count": 4,
   "id": "670d37f7",
   "metadata": {},
   "outputs": [],
   "source": [
    "df['IS_RAINING'] = (df['PRECIPITATION'] > 0).astype(int) #幾乎所有值都是 0（沒下雨），只有極少數是非零。\n",
    "df['TEMP_MEAN'] = (df['MAX_TEMP'] + df['MIN_TEMP'] / 2).astype(float) #溫度範圍（TEMP_RANGE）差異滿大的，從 2 到 41，直接用溫度平均值，有時比分開的 MAX、MIN 更有區分力。\n",
    "#df = df.drop(columns=['MAX_TEMP', 'MIN_TEMP','LAGGED_PRECIPITATION'])"
   ]
  },
  {
   "cell_type": "code",
   "execution_count": 5,
   "id": "a0e13859",
   "metadata": {},
   "outputs": [
    {
     "data": {
      "text/html": [
       "<div>\n",
       "<style scoped>\n",
       "    .dataframe tbody tr th:only-of-type {\n",
       "        vertical-align: middle;\n",
       "    }\n",
       "\n",
       "    .dataframe tbody tr th {\n",
       "        vertical-align: top;\n",
       "    }\n",
       "\n",
       "    .dataframe thead th {\n",
       "        text-align: right;\n",
       "    }\n",
       "</style>\n",
       "<table border=\"1\" class=\"dataframe\">\n",
       "  <thead>\n",
       "    <tr style=\"text-align: right;\">\n",
       "      <th></th>\n",
       "      <th>PRECIPITATION</th>\n",
       "      <th>MAX_TEMP</th>\n",
       "      <th>MIN_TEMP</th>\n",
       "      <th>AVG_WIND_SPEED</th>\n",
       "      <th>FIRE_START_DAY</th>\n",
       "      <th>YEAR</th>\n",
       "      <th>TEMP_RANGE</th>\n",
       "      <th>WIND_TEMP_RATIO</th>\n",
       "      <th>MONTH</th>\n",
       "      <th>LAGGED_PRECIPITATION</th>\n",
       "      <th>LAGGED_AVG_WIND_SPEED</th>\n",
       "      <th>DAY_OF_YEAR</th>\n",
       "      <th>MONTH_SIN</th>\n",
       "      <th>MONTH_COS</th>\n",
       "      <th>IS_RAINING</th>\n",
       "      <th>TEMP_MEAN</th>\n",
       "    </tr>\n",
       "  </thead>\n",
       "  <tbody>\n",
       "    <tr>\n",
       "      <th>count</th>\n",
       "      <td>14987.000000</td>\n",
       "      <td>14987.000000</td>\n",
       "      <td>14987.000000</td>\n",
       "      <td>14976.000000</td>\n",
       "      <td>14988.000000</td>\n",
       "      <td>14988.000000</td>\n",
       "      <td>14987.000000</td>\n",
       "      <td>14976.000000</td>\n",
       "      <td>14988.000000</td>\n",
       "      <td>14988.000000</td>\n",
       "      <td>14988.000000</td>\n",
       "      <td>14988.000000</td>\n",
       "      <td>1.498800e+04</td>\n",
       "      <td>1.498800e+04</td>\n",
       "      <td>14988.000000</td>\n",
       "      <td>14987.000000</td>\n",
       "    </tr>\n",
       "    <tr>\n",
       "      <th>mean</th>\n",
       "      <td>0.032315</td>\n",
       "      <td>70.534997</td>\n",
       "      <td>56.494095</td>\n",
       "      <td>7.435098</td>\n",
       "      <td>0.331665</td>\n",
       "      <td>2004.016813</td>\n",
       "      <td>14.040902</td>\n",
       "      <td>0.107019</td>\n",
       "      <td>6.518281</td>\n",
       "      <td>0.226188</td>\n",
       "      <td>7.434198</td>\n",
       "      <td>182.992994</td>\n",
       "      <td>-4.336929e-03</td>\n",
       "      <td>-1.308696e-03</td>\n",
       "      <td>0.092140</td>\n",
       "      <td>98.782044</td>\n",
       "    </tr>\n",
       "    <tr>\n",
       "      <th>std</th>\n",
       "      <td>0.179544</td>\n",
       "      <td>7.263447</td>\n",
       "      <td>6.767685</td>\n",
       "      <td>2.129985</td>\n",
       "      <td>0.470827</td>\n",
       "      <td>11.843342</td>\n",
       "      <td>5.995327</td>\n",
       "      <td>0.035630</td>\n",
       "      <td>3.451037</td>\n",
       "      <td>0.648705</td>\n",
       "      <td>1.387849</td>\n",
       "      <td>105.523627</td>\n",
       "      <td>7.056530e-01</td>\n",
       "      <td>7.085902e-01</td>\n",
       "      <td>0.289234</td>\n",
       "      <td>9.773213</td>\n",
       "    </tr>\n",
       "    <tr>\n",
       "      <th>min</th>\n",
       "      <td>0.000000</td>\n",
       "      <td>50.000000</td>\n",
       "      <td>33.000000</td>\n",
       "      <td>1.790000</td>\n",
       "      <td>0.000000</td>\n",
       "      <td>1984.000000</td>\n",
       "      <td>2.000000</td>\n",
       "      <td>0.023553</td>\n",
       "      <td>1.000000</td>\n",
       "      <td>0.000000</td>\n",
       "      <td>3.227143</td>\n",
       "      <td>1.000000</td>\n",
       "      <td>-1.000000e+00</td>\n",
       "      <td>-1.000000e+00</td>\n",
       "      <td>0.000000</td>\n",
       "      <td>68.500000</td>\n",
       "    </tr>\n",
       "    <tr>\n",
       "      <th>25%</th>\n",
       "      <td>0.000000</td>\n",
       "      <td>65.000000</td>\n",
       "      <td>51.000000</td>\n",
       "      <td>6.040000</td>\n",
       "      <td>0.000000</td>\n",
       "      <td>1994.000000</td>\n",
       "      <td>10.000000</td>\n",
       "      <td>0.085238</td>\n",
       "      <td>4.000000</td>\n",
       "      <td>0.000000</td>\n",
       "      <td>6.518571</td>\n",
       "      <td>92.000000</td>\n",
       "      <td>-8.660254e-01</td>\n",
       "      <td>-8.660254e-01</td>\n",
       "      <td>0.000000</td>\n",
       "      <td>91.500000</td>\n",
       "    </tr>\n",
       "    <tr>\n",
       "      <th>50%</th>\n",
       "      <td>0.000000</td>\n",
       "      <td>70.000000</td>\n",
       "      <td>57.000000</td>\n",
       "      <td>7.160000</td>\n",
       "      <td>0.000000</td>\n",
       "      <td>2004.000000</td>\n",
       "      <td>12.000000</td>\n",
       "      <td>0.102222</td>\n",
       "      <td>7.000000</td>\n",
       "      <td>0.000000</td>\n",
       "      <td>7.478571</td>\n",
       "      <td>183.000000</td>\n",
       "      <td>-2.449294e-16</td>\n",
       "      <td>-1.836970e-16</td>\n",
       "      <td>0.000000</td>\n",
       "      <td>99.000000</td>\n",
       "    </tr>\n",
       "    <tr>\n",
       "      <th>75%</th>\n",
       "      <td>0.000000</td>\n",
       "      <td>75.000000</td>\n",
       "      <td>62.000000</td>\n",
       "      <td>8.500000</td>\n",
       "      <td>1.000000</td>\n",
       "      <td>2014.000000</td>\n",
       "      <td>17.000000</td>\n",
       "      <td>0.120462</td>\n",
       "      <td>10.000000</td>\n",
       "      <td>0.060000</td>\n",
       "      <td>8.278571</td>\n",
       "      <td>274.000000</td>\n",
       "      <td>5.000000e-01</td>\n",
       "      <td>8.660254e-01</td>\n",
       "      <td>0.000000</td>\n",
       "      <td>105.500000</td>\n",
       "    </tr>\n",
       "    <tr>\n",
       "      <th>max</th>\n",
       "      <td>4.530000</td>\n",
       "      <td>106.000000</td>\n",
       "      <td>77.000000</td>\n",
       "      <td>26.170000</td>\n",
       "      <td>1.000000</td>\n",
       "      <td>2025.000000</td>\n",
       "      <td>41.000000</td>\n",
       "      <td>0.459123</td>\n",
       "      <td>12.000000</td>\n",
       "      <td>8.180000</td>\n",
       "      <td>13.932857</td>\n",
       "      <td>366.000000</td>\n",
       "      <td>1.000000e+00</td>\n",
       "      <td>1.000000e+00</td>\n",
       "      <td>1.000000</td>\n",
       "      <td>141.000000</td>\n",
       "    </tr>\n",
       "  </tbody>\n",
       "</table>\n",
       "</div>"
      ],
      "text/plain": [
       "       PRECIPITATION      MAX_TEMP      MIN_TEMP  AVG_WIND_SPEED  \\\n",
       "count   14987.000000  14987.000000  14987.000000    14976.000000   \n",
       "mean        0.032315     70.534997     56.494095        7.435098   \n",
       "std         0.179544      7.263447      6.767685        2.129985   \n",
       "min         0.000000     50.000000     33.000000        1.790000   \n",
       "25%         0.000000     65.000000     51.000000        6.040000   \n",
       "50%         0.000000     70.000000     57.000000        7.160000   \n",
       "75%         0.000000     75.000000     62.000000        8.500000   \n",
       "max         4.530000    106.000000     77.000000       26.170000   \n",
       "\n",
       "       FIRE_START_DAY          YEAR    TEMP_RANGE  WIND_TEMP_RATIO  \\\n",
       "count    14988.000000  14988.000000  14987.000000     14976.000000   \n",
       "mean         0.331665   2004.016813     14.040902         0.107019   \n",
       "std          0.470827     11.843342      5.995327         0.035630   \n",
       "min          0.000000   1984.000000      2.000000         0.023553   \n",
       "25%          0.000000   1994.000000     10.000000         0.085238   \n",
       "50%          0.000000   2004.000000     12.000000         0.102222   \n",
       "75%          1.000000   2014.000000     17.000000         0.120462   \n",
       "max          1.000000   2025.000000     41.000000         0.459123   \n",
       "\n",
       "              MONTH  LAGGED_PRECIPITATION  LAGGED_AVG_WIND_SPEED  \\\n",
       "count  14988.000000          14988.000000           14988.000000   \n",
       "mean       6.518281              0.226188               7.434198   \n",
       "std        3.451037              0.648705               1.387849   \n",
       "min        1.000000              0.000000               3.227143   \n",
       "25%        4.000000              0.000000               6.518571   \n",
       "50%        7.000000              0.000000               7.478571   \n",
       "75%       10.000000              0.060000               8.278571   \n",
       "max       12.000000              8.180000              13.932857   \n",
       "\n",
       "        DAY_OF_YEAR     MONTH_SIN     MONTH_COS    IS_RAINING     TEMP_MEAN  \n",
       "count  14988.000000  1.498800e+04  1.498800e+04  14988.000000  14987.000000  \n",
       "mean     182.992994 -4.336929e-03 -1.308696e-03      0.092140     98.782044  \n",
       "std      105.523627  7.056530e-01  7.085902e-01      0.289234      9.773213  \n",
       "min        1.000000 -1.000000e+00 -1.000000e+00      0.000000     68.500000  \n",
       "25%       92.000000 -8.660254e-01 -8.660254e-01      0.000000     91.500000  \n",
       "50%      183.000000 -2.449294e-16 -1.836970e-16      0.000000     99.000000  \n",
       "75%      274.000000  5.000000e-01  8.660254e-01      0.000000    105.500000  \n",
       "max      366.000000  1.000000e+00  1.000000e+00      1.000000    141.000000  "
      ]
     },
     "execution_count": 5,
     "metadata": {},
     "output_type": "execute_result"
    }
   ],
   "source": [
    "\n",
    "df.describe()"
   ]
  },
  {
   "cell_type": "markdown",
   "id": "0552091c",
   "metadata": {},
   "source": [
    "- 根據[NOAA](https://www.noaa.gov/noaa-wildfire)\n",
    "- 和[Climate](https://www.climate.gov/news-features/event-tracker/weather-and-climate-influences-january-2025-fires-around-los-angeles)\n",
    "\n",
    "- 1. 氣溫變異指數（Temperature Variation Index）  \n",
    "\n",
    "| **項目**      | **內容**                                                                                   |\n",
    "|---------------|--------------------------------------------------------------------------------------------|\n",
    "| **定義**      | 每日氣溫的變異程度，反映當天最高和最低氣溫之間的差異。較大的溫差可能與氣候極端性相關，進一步加劇火災風險。 |\n",
    "| **公式**      | `TEMP_VARIATION = MAX_TEMP - MIN_TEMP`                                                     |\n",
    "\n",
    "- 2. 降水與風速比率（Precipitation-Wind Ratio）  \n",
    "\n",
    "| **項目**      | **內容**                                                                                   |\n",
    "|---------------|--------------------------------------------------------------------------------------------|\n",
    "| **定義**      | 衡量降水量與風速之間的關聯。當降水量低且風速高時，通常意味著乾燥條件與強風並存，火災風險上升。            |\n",
    "| **公式**      | `PRECIPITATION_WIND_RATIO = PRECIPITATION / AVG_WIND_SPEED`                                |\n",
    "\n",
    "- 3. 季節性降水與風速關聯指數（Seasonal Precipitation-Wind Index）  \n",
    "\n",
    "| **項目**      | **內容**                                                                                   |\n",
    "|---------------|--------------------------------------------------------------------------------------------|\n",
    "| **定義**      | 綜合考量季節（SEASON）對降水與風速影響的指標。不同季節降水和風速的組合，會對火災風險產生不同作用。          |\n",
    "| **公式**      | `SEASONAL_PRECIP_WIND = (PRECIPITATION * (SEASON == 'Winter')) + (AVG_WIND_SPEED * (SEASON == 'Summer'))` |\n",
    "\n",
    "- 4. 季節性乾燥指數（Seasonal Dryness Index）  \n",
    "\n",
    "| **項目**      | **內容**                                                                                   |\n",
    "|---------------|--------------------------------------------------------------------------------------------|\n",
    "| **定義**      | 根據當季（秋季或冬季）的降水量與日溫差來評估乾燥程度。乾燥季節中的高乾燥值與火災風險高度相關。             |\n",
    "| **公式**      | `SEASONAL_DRYNESS = (PRECIPITATION * (SEASON == 'Fall' or SEASON == 'Winter')) / (MAX_TEMP - MIN_TEMP)` |\n",
    "\n",
    "- 5. 日中溫差與風速結合指數（Diurnal Temperature and Wind Speed Index） \n",
    "\n",
    "| **項目**      | **內容**                                                                                   |\n",
    "|---------------|--------------------------------------------------------------------------------------------|\n",
    "| **定義**      | 此指標將每日的氣溫差（即日間溫度變化）與風速結合，評估乾燥和高風速的條件下，火災風險的潛在性。            |\n",
    "| **公式**      | `DIURNAL_TEMP_WIND = (MAX_TEMP - MIN_TEMP) * AVG_WIND_SPEED` |\n"
   ]
  },
  {
   "cell_type": "code",
   "execution_count": 6,
   "id": "819cab74",
   "metadata": {},
   "outputs": [],
   "source": [
    "#--------------------------------------\n",
    "# 我分析而得的衍生指標 :\n",
    "\n",
    "\n",
    "\n",
    "\n",
    "df['PRECIPITATION_WIND_RATIO'] = df['PRECIPITATION'] / df['AVG_WIND_SPEED']\n",
    "df['SEASONAL_PRECIP_WIND'] = (df['PRECIPITATION'] * (df['SEASON'] == 'Winter')) + (df['AVG_WIND_SPEED'] * (df['SEASON'] == 'Summer'))\n",
    "df['SEASONAL_DRYNESS'] = (df['PRECIPITATION'] * ((df['SEASON'] == 'Fall') | (df['SEASON'] == 'Winter'))) / (df['MAX_TEMP'] - df['MIN_TEMP'])\n",
    "df['DIURNAL_TEMP_WIND'] = (df['MAX_TEMP'] - df['MIN_TEMP']) * df['AVG_WIND_SPEED']\n",
    "\n",
    "\n",
    "\n",
    "# One-Hot Encoding: SEASON\n",
    "df = pd.get_dummies(df, columns=['SEASON'])\n",
    "season_cols = ['SEASON_Fall', 'SEASON_Spring', 'SEASON_Summer', 'SEASON_Winter']\n",
    "df[season_cols] = df[season_cols].astype(int)"
   ]
  },
  {
   "cell_type": "code",
   "execution_count": 7,
   "id": "9696fefb",
   "metadata": {},
   "outputs": [],
   "source": [
    "LSdf = df\n",
    "df = df.drop(columns=['DATE', 'MONTH', 'DAY_OF_YEAR'])\n",
    "if YEAR_DROP == 1:\n",
    "    df = df.drop(columns=['YEAR']) # 這個是我們要預測的目標變數"
   ]
  },
  {
   "cell_type": "code",
   "execution_count": 8,
   "id": "54a4cee9",
   "metadata": {},
   "outputs": [],
   "source": [
    "# 特徵與目標分離\n",
    "X = df.drop(['FIRE_START_DAY'], axis=1)\n",
    "y = df['FIRE_START_DAY']"
   ]
  },
  {
   "cell_type": "code",
   "execution_count": 9,
   "id": "0d25e5f9",
   "metadata": {},
   "outputs": [
    {
     "name": "stdout",
     "output_type": "stream",
     "text": [
      "PRECIPITATION                1\n",
      "MAX_TEMP                     1\n",
      "MIN_TEMP                     1\n",
      "AVG_WIND_SPEED              12\n",
      "TEMP_RANGE                   1\n",
      "WIND_TEMP_RATIO             12\n",
      "LAGGED_PRECIPITATION         0\n",
      "LAGGED_AVG_WIND_SPEED        0\n",
      "MONTH_SIN                    0\n",
      "MONTH_COS                    0\n",
      "IS_RAINING                   0\n",
      "TEMP_MEAN                    1\n",
      "PRECIPITATION_WIND_RATIO    12\n",
      "SEASONAL_PRECIP_WIND        12\n",
      "SEASONAL_DRYNESS             1\n",
      "DIURNAL_TEMP_WIND           12\n",
      "SEASON_Fall                  0\n",
      "SEASON_Spring                0\n",
      "SEASON_Summer                0\n",
      "SEASON_Winter                0\n",
      "dtype: int64\n"
     ]
    }
   ],
   "source": [
    "print(X.isna().sum())\n",
    "X = X.fillna(X.median())\n",
    "assert X.isna().sum().sum() == 0, \"There are still missing values in the dataset.\""
   ]
  },
  {
   "cell_type": "markdown",
   "id": "0cb46795",
   "metadata": {},
   "source": [
    "2. 數值特徵標準化（Standardization）\n",
    "為避免某些欄位（如溫度或風速）對模型訓練造成不公平的權重，我們可以對所有數值特徵做 **Z-score** 標準化 **（均值為0，標準差為1）**，但不包含 One-Hot 欄位。"
   ]
  },
  {
   "cell_type": "code",
   "execution_count": 10,
   "id": "38bb768e",
   "metadata": {},
   "outputs": [
    {
     "data": {
      "text/plain": [
       "\"\\nfrom sklearn.preprocessing import StandardScaler\\n\\n# 找出所有數值欄位（排除 one-hot 和目標變數）\\nnumeric_cols = X.select_dtypes(include=['float64', 'int64']).columns\\n\\n# 建立標準化物件並套用於訓練集和測試集\\nscaler = StandardScaler()\\nX[numeric_cols] = scaler.fit_transform(X[numeric_cols])\\n\""
      ]
     },
     "execution_count": 10,
     "metadata": {},
     "output_type": "execute_result"
    }
   ],
   "source": [
    "'''\n",
    "from sklearn.preprocessing import StandardScaler\n",
    "\n",
    "# 找出所有數值欄位（排除 one-hot 和目標變數）\n",
    "numeric_cols = X.select_dtypes(include=['float64', 'int64']).columns\n",
    "\n",
    "# 建立標準化物件並套用於訓練集和測試集\n",
    "scaler = StandardScaler()\n",
    "X[numeric_cols] = scaler.fit_transform(X[numeric_cols])\n",
    "'''"
   ]
  },
  {
   "cell_type": "code",
   "execution_count": 11,
   "id": "23b7cd9b",
   "metadata": {},
   "outputs": [
    {
     "name": "stdout",
     "output_type": "stream",
     "text": [
      "<class 'pandas.core.frame.DataFrame'>\n",
      "RangeIndex: 14988 entries, 0 to 14987\n",
      "Data columns (total 20 columns):\n",
      " #   Column                    Non-Null Count  Dtype  \n",
      "---  ------                    --------------  -----  \n",
      " 0   PRECIPITATION             14988 non-null  float64\n",
      " 1   MAX_TEMP                  14988 non-null  float64\n",
      " 2   MIN_TEMP                  14988 non-null  float64\n",
      " 3   AVG_WIND_SPEED            14988 non-null  float64\n",
      " 4   TEMP_RANGE                14988 non-null  float64\n",
      " 5   WIND_TEMP_RATIO           14988 non-null  float64\n",
      " 6   LAGGED_PRECIPITATION      14988 non-null  float64\n",
      " 7   LAGGED_AVG_WIND_SPEED     14988 non-null  float64\n",
      " 8   MONTH_SIN                 14988 non-null  float64\n",
      " 9   MONTH_COS                 14988 non-null  float64\n",
      " 10  IS_RAINING                14988 non-null  int64  \n",
      " 11  TEMP_MEAN                 14988 non-null  float64\n",
      " 12  PRECIPITATION_WIND_RATIO  14988 non-null  float64\n",
      " 13  SEASONAL_PRECIP_WIND      14988 non-null  float64\n",
      " 14  SEASONAL_DRYNESS          14988 non-null  float64\n",
      " 15  DIURNAL_TEMP_WIND         14988 non-null  float64\n",
      " 16  SEASON_Fall               14988 non-null  int64  \n",
      " 17  SEASON_Spring             14988 non-null  int64  \n",
      " 18  SEASON_Summer             14988 non-null  int64  \n",
      " 19  SEASON_Winter             14988 non-null  int64  \n",
      "dtypes: float64(15), int64(5)\n",
      "memory usage: 2.3 MB\n"
     ]
    }
   ],
   "source": [
    "X.info()"
   ]
  },
  {
   "cell_type": "markdown",
   "id": "d995ff04",
   "metadata": {},
   "source": [
    "### 切割資料集"
   ]
  },
  {
   "cell_type": "code",
   "execution_count": 12,
   "id": "e398ca44",
   "metadata": {},
   "outputs": [],
   "source": [
    "X_train, X_test, y_train, y_test = train_test_split(X, y, random_state=42, test_size=0.3)"
   ]
  },
  {
   "cell_type": "code",
   "execution_count": 13,
   "id": "9ba4b1ad",
   "metadata": {},
   "outputs": [
    {
     "name": "stdout",
     "output_type": "stream",
     "text": [
      "FIRE_START_DAY\n",
      "0    0.668335\n",
      "1    0.331665\n",
      "Name: proportion, dtype: float64\n"
     ]
    }
   ],
   "source": [
    "print(y.value_counts(normalize=True))"
   ]
  },
  {
   "cell_type": "code",
   "execution_count": 14,
   "id": "ca0142e8",
   "metadata": {},
   "outputs": [
    {
     "data": {
      "text/html": [
       "<div>\n",
       "<style scoped>\n",
       "    .dataframe tbody tr th:only-of-type {\n",
       "        vertical-align: middle;\n",
       "    }\n",
       "\n",
       "    .dataframe tbody tr th {\n",
       "        vertical-align: top;\n",
       "    }\n",
       "\n",
       "    .dataframe thead th {\n",
       "        text-align: right;\n",
       "    }\n",
       "</style>\n",
       "<table border=\"1\" class=\"dataframe\">\n",
       "  <thead>\n",
       "    <tr style=\"text-align: right;\">\n",
       "      <th></th>\n",
       "      <th>PRECIPITATION</th>\n",
       "      <th>MAX_TEMP</th>\n",
       "      <th>MIN_TEMP</th>\n",
       "      <th>AVG_WIND_SPEED</th>\n",
       "      <th>TEMP_RANGE</th>\n",
       "      <th>WIND_TEMP_RATIO</th>\n",
       "      <th>LAGGED_PRECIPITATION</th>\n",
       "      <th>LAGGED_AVG_WIND_SPEED</th>\n",
       "      <th>MONTH_SIN</th>\n",
       "      <th>MONTH_COS</th>\n",
       "      <th>IS_RAINING</th>\n",
       "      <th>TEMP_MEAN</th>\n",
       "      <th>PRECIPITATION_WIND_RATIO</th>\n",
       "      <th>SEASONAL_PRECIP_WIND</th>\n",
       "      <th>SEASONAL_DRYNESS</th>\n",
       "      <th>DIURNAL_TEMP_WIND</th>\n",
       "      <th>SEASON_Fall</th>\n",
       "      <th>SEASON_Spring</th>\n",
       "      <th>SEASON_Summer</th>\n",
       "      <th>SEASON_Winter</th>\n",
       "    </tr>\n",
       "  </thead>\n",
       "  <tbody>\n",
       "    <tr>\n",
       "      <th>11798</th>\n",
       "      <td>0.0</td>\n",
       "      <td>81.0</td>\n",
       "      <td>59.0</td>\n",
       "      <td>7.61</td>\n",
       "      <td>22.0</td>\n",
       "      <td>0.093951</td>\n",
       "      <td>0.00</td>\n",
       "      <td>8.277143</td>\n",
       "      <td>0.866025</td>\n",
       "      <td>-0.500000</td>\n",
       "      <td>0</td>\n",
       "      <td>110.5</td>\n",
       "      <td>0.0</td>\n",
       "      <td>0.00</td>\n",
       "      <td>0.0</td>\n",
       "      <td>167.42</td>\n",
       "      <td>0</td>\n",
       "      <td>1</td>\n",
       "      <td>0</td>\n",
       "      <td>0</td>\n",
       "    </tr>\n",
       "    <tr>\n",
       "      <th>4885</th>\n",
       "      <td>0.0</td>\n",
       "      <td>74.0</td>\n",
       "      <td>63.0</td>\n",
       "      <td>8.50</td>\n",
       "      <td>11.0</td>\n",
       "      <td>0.114865</td>\n",
       "      <td>0.00</td>\n",
       "      <td>7.414286</td>\n",
       "      <td>0.500000</td>\n",
       "      <td>-0.866025</td>\n",
       "      <td>0</td>\n",
       "      <td>105.5</td>\n",
       "      <td>0.0</td>\n",
       "      <td>0.00</td>\n",
       "      <td>0.0</td>\n",
       "      <td>93.50</td>\n",
       "      <td>0</td>\n",
       "      <td>1</td>\n",
       "      <td>0</td>\n",
       "      <td>0</td>\n",
       "    </tr>\n",
       "    <tr>\n",
       "      <th>1572</th>\n",
       "      <td>0.0</td>\n",
       "      <td>64.0</td>\n",
       "      <td>50.0</td>\n",
       "      <td>8.50</td>\n",
       "      <td>14.0</td>\n",
       "      <td>0.132812</td>\n",
       "      <td>0.68</td>\n",
       "      <td>10.674286</td>\n",
       "      <td>0.866025</td>\n",
       "      <td>-0.500000</td>\n",
       "      <td>0</td>\n",
       "      <td>89.0</td>\n",
       "      <td>0.0</td>\n",
       "      <td>0.00</td>\n",
       "      <td>0.0</td>\n",
       "      <td>119.00</td>\n",
       "      <td>0</td>\n",
       "      <td>1</td>\n",
       "      <td>0</td>\n",
       "      <td>0</td>\n",
       "    </tr>\n",
       "    <tr>\n",
       "      <th>12985</th>\n",
       "      <td>0.0</td>\n",
       "      <td>72.0</td>\n",
       "      <td>63.0</td>\n",
       "      <td>10.07</td>\n",
       "      <td>9.0</td>\n",
       "      <td>0.139861</td>\n",
       "      <td>0.00</td>\n",
       "      <td>8.245714</td>\n",
       "      <td>-0.500000</td>\n",
       "      <td>-0.866025</td>\n",
       "      <td>0</td>\n",
       "      <td>103.5</td>\n",
       "      <td>0.0</td>\n",
       "      <td>10.07</td>\n",
       "      <td>0.0</td>\n",
       "      <td>90.63</td>\n",
       "      <td>0</td>\n",
       "      <td>0</td>\n",
       "      <td>1</td>\n",
       "      <td>0</td>\n",
       "    </tr>\n",
       "    <tr>\n",
       "      <th>879</th>\n",
       "      <td>0.0</td>\n",
       "      <td>71.0</td>\n",
       "      <td>60.0</td>\n",
       "      <td>8.05</td>\n",
       "      <td>11.0</td>\n",
       "      <td>0.113380</td>\n",
       "      <td>0.00</td>\n",
       "      <td>7.350000</td>\n",
       "      <td>0.500000</td>\n",
       "      <td>-0.866025</td>\n",
       "      <td>0</td>\n",
       "      <td>101.0</td>\n",
       "      <td>0.0</td>\n",
       "      <td>0.00</td>\n",
       "      <td>0.0</td>\n",
       "      <td>88.55</td>\n",
       "      <td>0</td>\n",
       "      <td>1</td>\n",
       "      <td>0</td>\n",
       "      <td>0</td>\n",
       "    </tr>\n",
       "  </tbody>\n",
       "</table>\n",
       "</div>"
      ],
      "text/plain": [
       "       PRECIPITATION  MAX_TEMP  MIN_TEMP  AVG_WIND_SPEED  TEMP_RANGE  \\\n",
       "11798            0.0      81.0      59.0            7.61        22.0   \n",
       "4885             0.0      74.0      63.0            8.50        11.0   \n",
       "1572             0.0      64.0      50.0            8.50        14.0   \n",
       "12985            0.0      72.0      63.0           10.07         9.0   \n",
       "879              0.0      71.0      60.0            8.05        11.0   \n",
       "\n",
       "       WIND_TEMP_RATIO  LAGGED_PRECIPITATION  LAGGED_AVG_WIND_SPEED  \\\n",
       "11798         0.093951                  0.00               8.277143   \n",
       "4885          0.114865                  0.00               7.414286   \n",
       "1572          0.132812                  0.68              10.674286   \n",
       "12985         0.139861                  0.00               8.245714   \n",
       "879           0.113380                  0.00               7.350000   \n",
       "\n",
       "       MONTH_SIN  MONTH_COS  IS_RAINING  TEMP_MEAN  PRECIPITATION_WIND_RATIO  \\\n",
       "11798   0.866025  -0.500000           0      110.5                       0.0   \n",
       "4885    0.500000  -0.866025           0      105.5                       0.0   \n",
       "1572    0.866025  -0.500000           0       89.0                       0.0   \n",
       "12985  -0.500000  -0.866025           0      103.5                       0.0   \n",
       "879     0.500000  -0.866025           0      101.0                       0.0   \n",
       "\n",
       "       SEASONAL_PRECIP_WIND  SEASONAL_DRYNESS  DIURNAL_TEMP_WIND  SEASON_Fall  \\\n",
       "11798                  0.00               0.0             167.42            0   \n",
       "4885                   0.00               0.0              93.50            0   \n",
       "1572                   0.00               0.0             119.00            0   \n",
       "12985                 10.07               0.0              90.63            0   \n",
       "879                    0.00               0.0              88.55            0   \n",
       "\n",
       "       SEASON_Spring  SEASON_Summer  SEASON_Winter  \n",
       "11798              1              0              0  \n",
       "4885               1              0              0  \n",
       "1572               1              0              0  \n",
       "12985              0              1              0  \n",
       "879                1              0              0  "
      ]
     },
     "execution_count": 14,
     "metadata": {},
     "output_type": "execute_result"
    }
   ],
   "source": [
    "X_train.head(5) "
   ]
  },
  {
   "cell_type": "code",
   "execution_count": 15,
   "id": "75fdb62b",
   "metadata": {},
   "outputs": [
    {
     "data": {
      "text/plain": [
       "<Experiment: artifact_location='file:///c:/Users/ygz08/Desktop/Git/localgit/MLOPs/Predictable_wildfire/mlruns/965674666610152778', creation_time=1746366518514, experiment_id='965674666610152778', last_update_time=1746366518514, lifecycle_stage='active', name='CA_Weather_Fire1', tags={}>"
      ]
     },
     "execution_count": 15,
     "metadata": {},
     "output_type": "execute_result"
    }
   ],
   "source": [
    "import mlflow\n",
    "from mlflow.tracking.client import MlflowClient\n",
    "mlflow.set_experiment(\"CA_Weather_Fire1\")"
   ]
  },
  {
   "cell_type": "markdown",
   "id": "4699d0fc",
   "metadata": {},
   "source": [
    "<hr>\n",
    "\n",
    "## LogisticRegression\n",
    "\n",
    "<h5>\n",
    "\n",
    "- 本模型使用 scikit-learn 的邏輯迴歸進行二元分類，適合處理線性可分的問題。\n",
    "\n",
    "- 採用 class_weight='balanced' 自動調整類別權重，改善不平衡資料的預測表現。\n",
    "\n",
    "- 輸入為數值特徵向量，經 sigmoid 函數輸出分類機率，訓練過程簡潔高效。\n",
    "\n",
    "</h5>"
   ]
  },
  {
   "cell_type": "code",
   "execution_count": null,
   "id": "7e192d8a",
   "metadata": {},
   "outputs": [
    {
     "name": "stderr",
     "output_type": "stream",
     "text": [
      "C:\\Users\\ygz08\\AppData\\Local\\Packages\\PythonSoftwareFoundation.Python.3.11_qbz5n2kfra8p0\\LocalCache\\local-packages\\Python311\\site-packages\\sklearn\\linear_model\\_logistic.py:465: ConvergenceWarning: lbfgs failed to converge (status=1):\n",
      "STOP: TOTAL NO. OF ITERATIONS REACHED LIMIT.\n",
      "\n",
      "Increase the number of iterations (max_iter) or scale the data as shown in:\n",
      "    https://scikit-learn.org/stable/modules/preprocessing.html\n",
      "Please also refer to the documentation for alternative solver options:\n",
      "    https://scikit-learn.org/stable/modules/linear_model.html#logistic-regression\n",
      "  n_iter_i = _check_optimize_result(\n"
     ]
    },
    {
     "name": "stdout",
     "output_type": "stream",
     "text": [
      "Model saved in run bd1e0c3ec5e64bdebd06aa216c836a6a\n",
      "Train score: 0.7530264035840244\n",
      "Test score: 0.7509450744941072\n"
     ]
    },
    {
     "name": "stderr",
     "output_type": "stream",
     "text": [
      "2025/05/05 11:11:41 WARNING mlflow.models.model: Model logged without a signature and input example. Please set `input_example` parameter when logging the model to auto infer the model signature.\n"
     ]
    },
    {
     "name": "stdout",
     "output_type": "stream",
     "text": [
      "{'0': {'precision': 0.882189607298691, 'recall': 0.7298982605841812, 'f1-score': 0.7988505747126436, 'support': 3047.0}, '1': {'precision': 0.583502024291498, 'recall': 0.7951724137931034, 'f1-score': 0.6730881494454174, 'support': 1450.0}, 'accuracy': 0.7509450744941072, 'macro avg': {'precision': 0.7328458157950946, 'recall': 0.7625353371886423, 'f1-score': 0.7359693620790305, 'support': 4497.0}, 'weighted avg': {'precision': 0.7858816252305502, 'recall': 0.7509450744941072, 'f1-score': 0.7583000929164511, 'support': 4497.0}}\n"
     ]
    },
    {
     "name": "stderr",
     "output_type": "stream",
     "text": [
      "Registered model 'LogisticRegression-model' already exists. Creating a new version of this model...\n",
      "Created version '24' of model 'LogisticRegression-model'.\n"
     ]
    }
   ],
   "source": [
    "from sklearn.linear_model import LogisticRegression\n",
    "\n",
    "run_name = Tryname + '_LogisticRegression'\n",
    "\n",
    "with mlflow.start_run(run_name='LogisticRegression'):#mlflow\n",
    "    mlflow.tensorflow.autolog()#mlflow\n",
    "    max_iter=1000 \n",
    "    if Weight_Balance == 1:\n",
    "        log_reg = LogisticRegression(max_iter=max_iter, class_weight='balanced')\n",
    "    else:\n",
    "        log_reg = LogisticRegression(max_iter=max_iter, class_weight=None)\n",
    "    log_reg.fit(X_train, y_train)\n",
    "    run_id = mlflow.active_run().info.run_id#mlflow\n",
    "    print(f\"Model saved in run {run_id}\")#mlflow\n",
    "    \n",
    "\n",
    "    # 檢查訓練與測試分數\n",
    "    print(\"Train score:\", log_reg.score(X_train, y_train))\n",
    "    print(\"Test score:\", log_reg.score(X_test, y_test))\n",
    "\n",
    "    mlflow.log_metric(\"Train score\", log_reg.score(X_train, y_train))#mlflow\n",
    "    mlflow.log_metric(\"Test score\", log_reg.score(X_test, y_test))#mlflow\n",
    "\n",
    "\n",
    "    # 存檔模型mlflow\n",
    "    model_name = \"LogisticRegression-model\"\n",
    "    mlflow.sklearn.log_model(     #mlflow.sklearn.log_model() #紀錄sklearn模型\n",
    "        sk_model=log_reg, \n",
    "        artifact_path=\"LogisticRegression-model\",\n",
    "        registered_model_name=model_name,  #\n",
    "    )\n",
    "\n",
    "    from sklearn.metrics import classification_report\n",
    "    report_dict = classification_report(y_test, log_reg.predict(X_test), output_dict=True)\n",
    "    print(report_dict)\n",
    "    for label, metrics in report_dict.items():\n",
    "        if isinstance(metrics, dict):  # 各分類或 avg 區段\n",
    "            for metric_name, value in metrics.items():\n",
    "                metric_key = f\"{label}_{metric_name}\".replace(\" \", \"_\")  # 去除空格\n",
    "                mlflow.log_metric(metric_key, value)\n",
    "        elif isinstance(metrics, (int, float)):  # accuracy 是 float\n",
    "            mlflow.log_metric(label, metrics)"
   ]
  },
  {
   "cell_type": "markdown",
   "id": "fbc8e488",
   "metadata": {},
   "source": [
    "<hr>\n",
    "\n",
    "## Random Forest\n",
    "\n",
    "<h5>\n",
    "\n",
    "- 本模型採用隨機森林進行二元分類，適用於處理非線性與特徵互動的問題。\n",
    "\n",
    "- 使用 150 顆決策樹與最大深度 15，並搭配 class_weight='balanced' 處理類別不平衡。\n",
    "\n",
    "- 模型可直接處理數值特徵，透過多樹投票提升穩定性與泛化能力。\n",
    "\n",
    "</h5>"
   ]
  },
  {
   "cell_type": "code",
   "execution_count": null,
   "id": "a8927047",
   "metadata": {},
   "outputs": [
    {
     "name": "stdout",
     "output_type": "stream",
     "text": [
      "Model saved in run 0305e8ddb9c14385ac4c0d14a4875358\n",
      "Train score: 0.8991516537984939\n",
      "Test score: 0.7680676006226373\n"
     ]
    },
    {
     "name": "stderr",
     "output_type": "stream",
     "text": [
      "2025/05/05 11:11:45 WARNING mlflow.models.model: Model logged without a signature and input example. Please set `input_example` parameter when logging the model to auto infer the model signature.\n"
     ]
    },
    {
     "name": "stdout",
     "output_type": "stream",
     "text": [
      "{'0': {'precision': 0.8520730850316234, 'recall': 0.7958647850344601, 'f1-score': 0.8230103512642117, 'support': 3047.0}, '1': {'precision': 0.6232586311326469, 'recall': 0.7096551724137931, 'f1-score': 0.6636568848758465, 'support': 1450.0}, 'accuracy': 0.7680676006226373, 'macro avg': {'precision': 0.7376658580821351, 'recall': 0.7527599787241266, 'f1-score': 0.7433336180700292, 'support': 4497.0}, 'weighted avg': {'precision': 0.7782947976948397, 'recall': 0.7680676006226373, 'f1-score': 0.7716288688841518, 'support': 4497.0}}\n"
     ]
    },
    {
     "name": "stderr",
     "output_type": "stream",
     "text": [
      "Registered model 'RandomForest-model' already exists. Creating a new version of this model...\n",
      "Created version '17' of model 'RandomForest-model'.\n"
     ]
    }
   ],
   "source": [
    "from sklearn.ensemble import RandomForestClassifier\n",
    "\n",
    "run_name = Tryname + '_RandomForest'\n",
    "\n",
    "with mlflow.start_run(run_name=run_name):#mlflow\n",
    "    mlflow.tensorflow.autolog()#mlflow\n",
    "    if Weight_Balance == 1:\n",
    "        rf = RandomForestClassifier(n_estimators=150, max_depth=15, class_weight='balanced')\n",
    "    else:\n",
    "        rf = RandomForestClassifier(n_estimators=150, max_depth=15, class_weight=None)\n",
    "    rf.fit(X_train, y_train)\n",
    "    run_id = mlflow.active_run().info.run_id#mlflow\n",
    "    print(f\"Model saved in run {run_id}\")#mlflow\n",
    "    \n",
    "\n",
    "    # 檢查訓練與測試分數\n",
    "    print(\"Train score:\", rf.score(X_train, y_train))\n",
    "    print(\"Test score:\", rf.score(X_test, y_test))\n",
    "\n",
    "    mlflow.log_metric(\"Train score\", rf.score(X_train, y_train))#mlflow\n",
    "    mlflow.log_metric(\"Test score\", rf.score(X_test, y_test))#mlflow\n",
    "\n",
    "\n",
    "    # 存檔模型mlflow\n",
    "    model_name = \"RandomForest-model\"\n",
    "    mlflow.sklearn.log_model(     #mlflow.sklearn.log_model() #紀錄sklearn模型\n",
    "        sk_model=rf, \n",
    "        artifact_path=\"RandomForest-model\",\n",
    "        registered_model_name=model_name,  #\n",
    "    )\n",
    "    \n",
    "    from sklearn.metrics import classification_report\n",
    "    report_dict = classification_report(y_test, rf.predict(X_test), output_dict=True)\n",
    "    print(report_dict)\n",
    "    for label, metrics in report_dict.items():\n",
    "        if isinstance(metrics, dict):  # 各分類或 avg 區段\n",
    "            for metric_name, value in metrics.items():\n",
    "                metric_key = f\"{label}_{metric_name}\".replace(\" \", \"_\")  # 去除空格\n",
    "                mlflow.log_metric(metric_key, value)\n",
    "        elif isinstance(metrics, (int, float)):  # accuracy 是 float\n",
    "            mlflow.log_metric(label, metrics)\n"
   ]
  },
  {
   "cell_type": "markdown",
   "id": "a23773b6",
   "metadata": {},
   "source": [
    "### 模型評估 :\n",
    "- Before Tuning\n",
    "  - **Train score: 1.0**\n",
    "  - **Test score: 0.7883033133199912**\n",
    "  - **accuracy  0.79**\n",
    "\n",
    "✅ 模型優勢\n",
    "- 對無火災類別（0）有較高的 precision 和 recall，尤其 recall 高達 0.88，模型能夠準確地識別大部分「無火災」的情況。\n",
    "- f1-score 達到了 0.85，代表模型對「無火災」的預測表現非常好。\n",
    "\n",
    "⚠️ 模型的挑戰\n",
    "- 對有火災（1）類別，precision 是 0.70，而 recall 只有 0.60，這意味著：\n",
    "    - 對有火災的預測還有進步空間，模型錯過了一部分火災案例，這對於防火系統來說是很關鍵的。"
   ]
  },
  {
   "cell_type": "code",
   "execution_count": 18,
   "id": "67925d92",
   "metadata": {},
   "outputs": [
    {
     "name": "stdout",
     "output_type": "stream",
     "text": [
      "Fitting 5 folds for each of 30 candidates, totalling 150 fits\n"
     ]
    },
    {
     "data": {
      "text/html": [
       "<style>#sk-container-id-1 {\n",
       "  /* Definition of color scheme common for light and dark mode */\n",
       "  --sklearn-color-text: #000;\n",
       "  --sklearn-color-text-muted: #666;\n",
       "  --sklearn-color-line: gray;\n",
       "  /* Definition of color scheme for unfitted estimators */\n",
       "  --sklearn-color-unfitted-level-0: #fff5e6;\n",
       "  --sklearn-color-unfitted-level-1: #f6e4d2;\n",
       "  --sklearn-color-unfitted-level-2: #ffe0b3;\n",
       "  --sklearn-color-unfitted-level-3: chocolate;\n",
       "  /* Definition of color scheme for fitted estimators */\n",
       "  --sklearn-color-fitted-level-0: #f0f8ff;\n",
       "  --sklearn-color-fitted-level-1: #d4ebff;\n",
       "  --sklearn-color-fitted-level-2: #b3dbfd;\n",
       "  --sklearn-color-fitted-level-3: cornflowerblue;\n",
       "\n",
       "  /* Specific color for light theme */\n",
       "  --sklearn-color-text-on-default-background: var(--sg-text-color, var(--theme-code-foreground, var(--jp-content-font-color1, black)));\n",
       "  --sklearn-color-background: var(--sg-background-color, var(--theme-background, var(--jp-layout-color0, white)));\n",
       "  --sklearn-color-border-box: var(--sg-text-color, var(--theme-code-foreground, var(--jp-content-font-color1, black)));\n",
       "  --sklearn-color-icon: #696969;\n",
       "\n",
       "  @media (prefers-color-scheme: dark) {\n",
       "    /* Redefinition of color scheme for dark theme */\n",
       "    --sklearn-color-text-on-default-background: var(--sg-text-color, var(--theme-code-foreground, var(--jp-content-font-color1, white)));\n",
       "    --sklearn-color-background: var(--sg-background-color, var(--theme-background, var(--jp-layout-color0, #111)));\n",
       "    --sklearn-color-border-box: var(--sg-text-color, var(--theme-code-foreground, var(--jp-content-font-color1, white)));\n",
       "    --sklearn-color-icon: #878787;\n",
       "  }\n",
       "}\n",
       "\n",
       "#sk-container-id-1 {\n",
       "  color: var(--sklearn-color-text);\n",
       "}\n",
       "\n",
       "#sk-container-id-1 pre {\n",
       "  padding: 0;\n",
       "}\n",
       "\n",
       "#sk-container-id-1 input.sk-hidden--visually {\n",
       "  border: 0;\n",
       "  clip: rect(1px 1px 1px 1px);\n",
       "  clip: rect(1px, 1px, 1px, 1px);\n",
       "  height: 1px;\n",
       "  margin: -1px;\n",
       "  overflow: hidden;\n",
       "  padding: 0;\n",
       "  position: absolute;\n",
       "  width: 1px;\n",
       "}\n",
       "\n",
       "#sk-container-id-1 div.sk-dashed-wrapped {\n",
       "  border: 1px dashed var(--sklearn-color-line);\n",
       "  margin: 0 0.4em 0.5em 0.4em;\n",
       "  box-sizing: border-box;\n",
       "  padding-bottom: 0.4em;\n",
       "  background-color: var(--sklearn-color-background);\n",
       "}\n",
       "\n",
       "#sk-container-id-1 div.sk-container {\n",
       "  /* jupyter's `normalize.less` sets `[hidden] { display: none; }`\n",
       "     but bootstrap.min.css set `[hidden] { display: none !important; }`\n",
       "     so we also need the `!important` here to be able to override the\n",
       "     default hidden behavior on the sphinx rendered scikit-learn.org.\n",
       "     See: https://github.com/scikit-learn/scikit-learn/issues/21755 */\n",
       "  display: inline-block !important;\n",
       "  position: relative;\n",
       "}\n",
       "\n",
       "#sk-container-id-1 div.sk-text-repr-fallback {\n",
       "  display: none;\n",
       "}\n",
       "\n",
       "div.sk-parallel-item,\n",
       "div.sk-serial,\n",
       "div.sk-item {\n",
       "  /* draw centered vertical line to link estimators */\n",
       "  background-image: linear-gradient(var(--sklearn-color-text-on-default-background), var(--sklearn-color-text-on-default-background));\n",
       "  background-size: 2px 100%;\n",
       "  background-repeat: no-repeat;\n",
       "  background-position: center center;\n",
       "}\n",
       "\n",
       "/* Parallel-specific style estimator block */\n",
       "\n",
       "#sk-container-id-1 div.sk-parallel-item::after {\n",
       "  content: \"\";\n",
       "  width: 100%;\n",
       "  border-bottom: 2px solid var(--sklearn-color-text-on-default-background);\n",
       "  flex-grow: 1;\n",
       "}\n",
       "\n",
       "#sk-container-id-1 div.sk-parallel {\n",
       "  display: flex;\n",
       "  align-items: stretch;\n",
       "  justify-content: center;\n",
       "  background-color: var(--sklearn-color-background);\n",
       "  position: relative;\n",
       "}\n",
       "\n",
       "#sk-container-id-1 div.sk-parallel-item {\n",
       "  display: flex;\n",
       "  flex-direction: column;\n",
       "}\n",
       "\n",
       "#sk-container-id-1 div.sk-parallel-item:first-child::after {\n",
       "  align-self: flex-end;\n",
       "  width: 50%;\n",
       "}\n",
       "\n",
       "#sk-container-id-1 div.sk-parallel-item:last-child::after {\n",
       "  align-self: flex-start;\n",
       "  width: 50%;\n",
       "}\n",
       "\n",
       "#sk-container-id-1 div.sk-parallel-item:only-child::after {\n",
       "  width: 0;\n",
       "}\n",
       "\n",
       "/* Serial-specific style estimator block */\n",
       "\n",
       "#sk-container-id-1 div.sk-serial {\n",
       "  display: flex;\n",
       "  flex-direction: column;\n",
       "  align-items: center;\n",
       "  background-color: var(--sklearn-color-background);\n",
       "  padding-right: 1em;\n",
       "  padding-left: 1em;\n",
       "}\n",
       "\n",
       "\n",
       "/* Toggleable style: style used for estimator/Pipeline/ColumnTransformer box that is\n",
       "clickable and can be expanded/collapsed.\n",
       "- Pipeline and ColumnTransformer use this feature and define the default style\n",
       "- Estimators will overwrite some part of the style using the `sk-estimator` class\n",
       "*/\n",
       "\n",
       "/* Pipeline and ColumnTransformer style (default) */\n",
       "\n",
       "#sk-container-id-1 div.sk-toggleable {\n",
       "  /* Default theme specific background. It is overwritten whether we have a\n",
       "  specific estimator or a Pipeline/ColumnTransformer */\n",
       "  background-color: var(--sklearn-color-background);\n",
       "}\n",
       "\n",
       "/* Toggleable label */\n",
       "#sk-container-id-1 label.sk-toggleable__label {\n",
       "  cursor: pointer;\n",
       "  display: flex;\n",
       "  width: 100%;\n",
       "  margin-bottom: 0;\n",
       "  padding: 0.5em;\n",
       "  box-sizing: border-box;\n",
       "  text-align: center;\n",
       "  align-items: start;\n",
       "  justify-content: space-between;\n",
       "  gap: 0.5em;\n",
       "}\n",
       "\n",
       "#sk-container-id-1 label.sk-toggleable__label .caption {\n",
       "  font-size: 0.6rem;\n",
       "  font-weight: lighter;\n",
       "  color: var(--sklearn-color-text-muted);\n",
       "}\n",
       "\n",
       "#sk-container-id-1 label.sk-toggleable__label-arrow:before {\n",
       "  /* Arrow on the left of the label */\n",
       "  content: \"▸\";\n",
       "  float: left;\n",
       "  margin-right: 0.25em;\n",
       "  color: var(--sklearn-color-icon);\n",
       "}\n",
       "\n",
       "#sk-container-id-1 label.sk-toggleable__label-arrow:hover:before {\n",
       "  color: var(--sklearn-color-text);\n",
       "}\n",
       "\n",
       "/* Toggleable content - dropdown */\n",
       "\n",
       "#sk-container-id-1 div.sk-toggleable__content {\n",
       "  max-height: 0;\n",
       "  max-width: 0;\n",
       "  overflow: hidden;\n",
       "  text-align: left;\n",
       "  /* unfitted */\n",
       "  background-color: var(--sklearn-color-unfitted-level-0);\n",
       "}\n",
       "\n",
       "#sk-container-id-1 div.sk-toggleable__content.fitted {\n",
       "  /* fitted */\n",
       "  background-color: var(--sklearn-color-fitted-level-0);\n",
       "}\n",
       "\n",
       "#sk-container-id-1 div.sk-toggleable__content pre {\n",
       "  margin: 0.2em;\n",
       "  border-radius: 0.25em;\n",
       "  color: var(--sklearn-color-text);\n",
       "  /* unfitted */\n",
       "  background-color: var(--sklearn-color-unfitted-level-0);\n",
       "}\n",
       "\n",
       "#sk-container-id-1 div.sk-toggleable__content.fitted pre {\n",
       "  /* unfitted */\n",
       "  background-color: var(--sklearn-color-fitted-level-0);\n",
       "}\n",
       "\n",
       "#sk-container-id-1 input.sk-toggleable__control:checked~div.sk-toggleable__content {\n",
       "  /* Expand drop-down */\n",
       "  max-height: 200px;\n",
       "  max-width: 100%;\n",
       "  overflow: auto;\n",
       "}\n",
       "\n",
       "#sk-container-id-1 input.sk-toggleable__control:checked~label.sk-toggleable__label-arrow:before {\n",
       "  content: \"▾\";\n",
       "}\n",
       "\n",
       "/* Pipeline/ColumnTransformer-specific style */\n",
       "\n",
       "#sk-container-id-1 div.sk-label input.sk-toggleable__control:checked~label.sk-toggleable__label {\n",
       "  color: var(--sklearn-color-text);\n",
       "  background-color: var(--sklearn-color-unfitted-level-2);\n",
       "}\n",
       "\n",
       "#sk-container-id-1 div.sk-label.fitted input.sk-toggleable__control:checked~label.sk-toggleable__label {\n",
       "  background-color: var(--sklearn-color-fitted-level-2);\n",
       "}\n",
       "\n",
       "/* Estimator-specific style */\n",
       "\n",
       "/* Colorize estimator box */\n",
       "#sk-container-id-1 div.sk-estimator input.sk-toggleable__control:checked~label.sk-toggleable__label {\n",
       "  /* unfitted */\n",
       "  background-color: var(--sklearn-color-unfitted-level-2);\n",
       "}\n",
       "\n",
       "#sk-container-id-1 div.sk-estimator.fitted input.sk-toggleable__control:checked~label.sk-toggleable__label {\n",
       "  /* fitted */\n",
       "  background-color: var(--sklearn-color-fitted-level-2);\n",
       "}\n",
       "\n",
       "#sk-container-id-1 div.sk-label label.sk-toggleable__label,\n",
       "#sk-container-id-1 div.sk-label label {\n",
       "  /* The background is the default theme color */\n",
       "  color: var(--sklearn-color-text-on-default-background);\n",
       "}\n",
       "\n",
       "/* On hover, darken the color of the background */\n",
       "#sk-container-id-1 div.sk-label:hover label.sk-toggleable__label {\n",
       "  color: var(--sklearn-color-text);\n",
       "  background-color: var(--sklearn-color-unfitted-level-2);\n",
       "}\n",
       "\n",
       "/* Label box, darken color on hover, fitted */\n",
       "#sk-container-id-1 div.sk-label.fitted:hover label.sk-toggleable__label.fitted {\n",
       "  color: var(--sklearn-color-text);\n",
       "  background-color: var(--sklearn-color-fitted-level-2);\n",
       "}\n",
       "\n",
       "/* Estimator label */\n",
       "\n",
       "#sk-container-id-1 div.sk-label label {\n",
       "  font-family: monospace;\n",
       "  font-weight: bold;\n",
       "  display: inline-block;\n",
       "  line-height: 1.2em;\n",
       "}\n",
       "\n",
       "#sk-container-id-1 div.sk-label-container {\n",
       "  text-align: center;\n",
       "}\n",
       "\n",
       "/* Estimator-specific */\n",
       "#sk-container-id-1 div.sk-estimator {\n",
       "  font-family: monospace;\n",
       "  border: 1px dotted var(--sklearn-color-border-box);\n",
       "  border-radius: 0.25em;\n",
       "  box-sizing: border-box;\n",
       "  margin-bottom: 0.5em;\n",
       "  /* unfitted */\n",
       "  background-color: var(--sklearn-color-unfitted-level-0);\n",
       "}\n",
       "\n",
       "#sk-container-id-1 div.sk-estimator.fitted {\n",
       "  /* fitted */\n",
       "  background-color: var(--sklearn-color-fitted-level-0);\n",
       "}\n",
       "\n",
       "/* on hover */\n",
       "#sk-container-id-1 div.sk-estimator:hover {\n",
       "  /* unfitted */\n",
       "  background-color: var(--sklearn-color-unfitted-level-2);\n",
       "}\n",
       "\n",
       "#sk-container-id-1 div.sk-estimator.fitted:hover {\n",
       "  /* fitted */\n",
       "  background-color: var(--sklearn-color-fitted-level-2);\n",
       "}\n",
       "\n",
       "/* Specification for estimator info (e.g. \"i\" and \"?\") */\n",
       "\n",
       "/* Common style for \"i\" and \"?\" */\n",
       "\n",
       ".sk-estimator-doc-link,\n",
       "a:link.sk-estimator-doc-link,\n",
       "a:visited.sk-estimator-doc-link {\n",
       "  float: right;\n",
       "  font-size: smaller;\n",
       "  line-height: 1em;\n",
       "  font-family: monospace;\n",
       "  background-color: var(--sklearn-color-background);\n",
       "  border-radius: 1em;\n",
       "  height: 1em;\n",
       "  width: 1em;\n",
       "  text-decoration: none !important;\n",
       "  margin-left: 0.5em;\n",
       "  text-align: center;\n",
       "  /* unfitted */\n",
       "  border: var(--sklearn-color-unfitted-level-1) 1pt solid;\n",
       "  color: var(--sklearn-color-unfitted-level-1);\n",
       "}\n",
       "\n",
       ".sk-estimator-doc-link.fitted,\n",
       "a:link.sk-estimator-doc-link.fitted,\n",
       "a:visited.sk-estimator-doc-link.fitted {\n",
       "  /* fitted */\n",
       "  border: var(--sklearn-color-fitted-level-1) 1pt solid;\n",
       "  color: var(--sklearn-color-fitted-level-1);\n",
       "}\n",
       "\n",
       "/* On hover */\n",
       "div.sk-estimator:hover .sk-estimator-doc-link:hover,\n",
       ".sk-estimator-doc-link:hover,\n",
       "div.sk-label-container:hover .sk-estimator-doc-link:hover,\n",
       ".sk-estimator-doc-link:hover {\n",
       "  /* unfitted */\n",
       "  background-color: var(--sklearn-color-unfitted-level-3);\n",
       "  color: var(--sklearn-color-background);\n",
       "  text-decoration: none;\n",
       "}\n",
       "\n",
       "div.sk-estimator.fitted:hover .sk-estimator-doc-link.fitted:hover,\n",
       ".sk-estimator-doc-link.fitted:hover,\n",
       "div.sk-label-container:hover .sk-estimator-doc-link.fitted:hover,\n",
       ".sk-estimator-doc-link.fitted:hover {\n",
       "  /* fitted */\n",
       "  background-color: var(--sklearn-color-fitted-level-3);\n",
       "  color: var(--sklearn-color-background);\n",
       "  text-decoration: none;\n",
       "}\n",
       "\n",
       "/* Span, style for the box shown on hovering the info icon */\n",
       ".sk-estimator-doc-link span {\n",
       "  display: none;\n",
       "  z-index: 9999;\n",
       "  position: relative;\n",
       "  font-weight: normal;\n",
       "  right: .2ex;\n",
       "  padding: .5ex;\n",
       "  margin: .5ex;\n",
       "  width: min-content;\n",
       "  min-width: 20ex;\n",
       "  max-width: 50ex;\n",
       "  color: var(--sklearn-color-text);\n",
       "  box-shadow: 2pt 2pt 4pt #999;\n",
       "  /* unfitted */\n",
       "  background: var(--sklearn-color-unfitted-level-0);\n",
       "  border: .5pt solid var(--sklearn-color-unfitted-level-3);\n",
       "}\n",
       "\n",
       ".sk-estimator-doc-link.fitted span {\n",
       "  /* fitted */\n",
       "  background: var(--sklearn-color-fitted-level-0);\n",
       "  border: var(--sklearn-color-fitted-level-3);\n",
       "}\n",
       "\n",
       ".sk-estimator-doc-link:hover span {\n",
       "  display: block;\n",
       "}\n",
       "\n",
       "/* \"?\"-specific style due to the `<a>` HTML tag */\n",
       "\n",
       "#sk-container-id-1 a.estimator_doc_link {\n",
       "  float: right;\n",
       "  font-size: 1rem;\n",
       "  line-height: 1em;\n",
       "  font-family: monospace;\n",
       "  background-color: var(--sklearn-color-background);\n",
       "  border-radius: 1rem;\n",
       "  height: 1rem;\n",
       "  width: 1rem;\n",
       "  text-decoration: none;\n",
       "  /* unfitted */\n",
       "  color: var(--sklearn-color-unfitted-level-1);\n",
       "  border: var(--sklearn-color-unfitted-level-1) 1pt solid;\n",
       "}\n",
       "\n",
       "#sk-container-id-1 a.estimator_doc_link.fitted {\n",
       "  /* fitted */\n",
       "  border: var(--sklearn-color-fitted-level-1) 1pt solid;\n",
       "  color: var(--sklearn-color-fitted-level-1);\n",
       "}\n",
       "\n",
       "/* On hover */\n",
       "#sk-container-id-1 a.estimator_doc_link:hover {\n",
       "  /* unfitted */\n",
       "  background-color: var(--sklearn-color-unfitted-level-3);\n",
       "  color: var(--sklearn-color-background);\n",
       "  text-decoration: none;\n",
       "}\n",
       "\n",
       "#sk-container-id-1 a.estimator_doc_link.fitted:hover {\n",
       "  /* fitted */\n",
       "  background-color: var(--sklearn-color-fitted-level-3);\n",
       "}\n",
       "</style><div id=\"sk-container-id-1\" class=\"sk-top-container\"><div class=\"sk-text-repr-fallback\"><pre>RandomizedSearchCV(cv=5, estimator=RandomForestClassifier(random_state=42),\n",
       "                   n_iter=30, n_jobs=-1,\n",
       "                   param_distributions={&#x27;bootstrap&#x27;: [True, False],\n",
       "                                        &#x27;max_depth&#x27;: [None, 5, 10, 20, 30],\n",
       "                                        &#x27;min_samples_leaf&#x27;: [1, 2, 4],\n",
       "                                        &#x27;min_samples_split&#x27;: [2, 5, 10],\n",
       "                                        &#x27;n_estimators&#x27;: [100, 200, 300, 400,\n",
       "                                                         500]},\n",
       "                   random_state=42, scoring=&#x27;roc_auc&#x27;, verbose=1)</pre><b>In a Jupyter environment, please rerun this cell to show the HTML representation or trust the notebook. <br />On GitHub, the HTML representation is unable to render, please try loading this page with nbviewer.org.</b></div><div class=\"sk-container\" hidden><div class=\"sk-item sk-dashed-wrapped\"><div class=\"sk-label-container\"><div class=\"sk-label fitted sk-toggleable\"><input class=\"sk-toggleable__control sk-hidden--visually\" id=\"sk-estimator-id-1\" type=\"checkbox\" ><label for=\"sk-estimator-id-1\" class=\"sk-toggleable__label fitted sk-toggleable__label-arrow\"><div><div>RandomizedSearchCV</div></div><div><a class=\"sk-estimator-doc-link fitted\" rel=\"noreferrer\" target=\"_blank\" href=\"https://scikit-learn.org/1.6/modules/generated/sklearn.model_selection.RandomizedSearchCV.html\">?<span>Documentation for RandomizedSearchCV</span></a><span class=\"sk-estimator-doc-link fitted\">i<span>Fitted</span></span></div></label><div class=\"sk-toggleable__content fitted\"><pre>RandomizedSearchCV(cv=5, estimator=RandomForestClassifier(random_state=42),\n",
       "                   n_iter=30, n_jobs=-1,\n",
       "                   param_distributions={&#x27;bootstrap&#x27;: [True, False],\n",
       "                                        &#x27;max_depth&#x27;: [None, 5, 10, 20, 30],\n",
       "                                        &#x27;min_samples_leaf&#x27;: [1, 2, 4],\n",
       "                                        &#x27;min_samples_split&#x27;: [2, 5, 10],\n",
       "                                        &#x27;n_estimators&#x27;: [100, 200, 300, 400,\n",
       "                                                         500]},\n",
       "                   random_state=42, scoring=&#x27;roc_auc&#x27;, verbose=1)</pre></div> </div></div><div class=\"sk-parallel\"><div class=\"sk-parallel-item\"><div class=\"sk-item\"><div class=\"sk-label-container\"><div class=\"sk-label fitted sk-toggleable\"><input class=\"sk-toggleable__control sk-hidden--visually\" id=\"sk-estimator-id-2\" type=\"checkbox\" ><label for=\"sk-estimator-id-2\" class=\"sk-toggleable__label fitted sk-toggleable__label-arrow\"><div><div>best_estimator_: RandomForestClassifier</div></div></label><div class=\"sk-toggleable__content fitted\"><pre>RandomForestClassifier(max_depth=10, min_samples_leaf=4, n_estimators=500,\n",
       "                       random_state=42)</pre></div> </div></div><div class=\"sk-serial\"><div class=\"sk-item\"><div class=\"sk-estimator fitted sk-toggleable\"><input class=\"sk-toggleable__control sk-hidden--visually\" id=\"sk-estimator-id-3\" type=\"checkbox\" ><label for=\"sk-estimator-id-3\" class=\"sk-toggleable__label fitted sk-toggleable__label-arrow\"><div><div>RandomForestClassifier</div></div><div><a class=\"sk-estimator-doc-link fitted\" rel=\"noreferrer\" target=\"_blank\" href=\"https://scikit-learn.org/1.6/modules/generated/sklearn.ensemble.RandomForestClassifier.html\">?<span>Documentation for RandomForestClassifier</span></a></div></label><div class=\"sk-toggleable__content fitted\"><pre>RandomForestClassifier(max_depth=10, min_samples_leaf=4, n_estimators=500,\n",
       "                       random_state=42)</pre></div> </div></div></div></div></div></div></div></div></div>"
      ],
      "text/plain": [
       "RandomizedSearchCV(cv=5, estimator=RandomForestClassifier(random_state=42),\n",
       "                   n_iter=30, n_jobs=-1,\n",
       "                   param_distributions={'bootstrap': [True, False],\n",
       "                                        'max_depth': [None, 5, 10, 20, 30],\n",
       "                                        'min_samples_leaf': [1, 2, 4],\n",
       "                                        'min_samples_split': [2, 5, 10],\n",
       "                                        'n_estimators': [100, 200, 300, 400,\n",
       "                                                         500]},\n",
       "                   random_state=42, scoring='roc_auc', verbose=1)"
      ]
     },
     "execution_count": 18,
     "metadata": {},
     "output_type": "execute_result"
    }
   ],
   "source": [
    "# Tuned Random Forest¶\n",
    "from sklearn.model_selection import  RandomizedSearchCV\n",
    "param_dist = {\n",
    "    'n_estimators': [100, 200, 300, 400, 500],\n",
    "    'max_depth': [None, 5, 10, 20, 30],\n",
    "    'min_samples_split': [2, 5, 10],\n",
    "    'min_samples_leaf': [1, 2, 4],\n",
    "    'bootstrap': [True, False]\n",
    "}\n",
    "\n",
    "# Set up the search\n",
    "random_search = RandomizedSearchCV(\n",
    "    estimator=RandomForestClassifier(random_state=42),\n",
    "    param_distributions=param_dist,\n",
    "    n_iter=30,\n",
    "    cv=5,\n",
    "    scoring='roc_auc',\n",
    "    verbose=1,\n",
    "    random_state=42,\n",
    "    n_jobs=-1\n",
    ")\n",
    "\n",
    "# Fit search\n",
    "random_search.fit(X_train, y_train)"
   ]
  },
  {
   "cell_type": "code",
   "execution_count": 19,
   "id": "ef60dd84",
   "metadata": {},
   "outputs": [
    {
     "name": "stdout",
     "output_type": "stream",
     "text": [
      "--- Best Random Forest (Tuned) ---\n",
      "Classification Report:\n",
      "               precision    recall  f1-score   support\n",
      "\n",
      "           0       0.83      0.85      0.84      3047\n",
      "           1       0.66      0.62      0.64      1450\n",
      "\n",
      "    accuracy                           0.77      4497\n",
      "   macro avg       0.74      0.74      0.74      4497\n",
      "weighted avg       0.77      0.77      0.77      4497\n",
      "\n",
      "Confusion Matrix:\n",
      " [[2578  469]\n",
      " [ 544  906]]\n",
      "ROC AUC Score: 0.8316814730147234\n"
     ]
    }
   ],
   "source": [
    "# Get the best model\n",
    "from sklearn.metrics import classification_report, confusion_matrix, accuracy_score, roc_auc_score\n",
    "best_rf = random_search.best_estimator_\n",
    "\n",
    "# Predict\n",
    "y_pred_best_rf = best_rf.predict(X_test)\n",
    "y_proba_best_rf = best_rf.predict_proba(X_test)[:, 1]\n",
    "\n",
    "# Evaluation\n",
    "print(\"--- Best Random Forest (Tuned) ---\")\n",
    "print(\"Classification Report:\\n\", classification_report(y_test, y_pred_best_rf))\n",
    "print(\"Confusion Matrix:\\n\", confusion_matrix(y_test, y_pred_best_rf))\n",
    "print(\"ROC AUC Score:\", roc_auc_score(y_test, y_proba_best_rf))"
   ]
  },
  {
   "cell_type": "markdown",
   "id": "66e0cd7f",
   "metadata": {},
   "source": [
    "### 結果分析：\n",
    "- After Tuning\n",
    "  - **accuracy  0.8**\n",
    "  - **ROC AUC  0.858**"
   ]
  },
  {
   "cell_type": "markdown",
   "id": "a642742d",
   "metadata": {},
   "source": [
    "<hr>\n",
    "\n",
    "## XG Boosting\n",
    "\n",
    "<h5>\n",
    "\n",
    "- 採用 XGBoost 分類器進行二元分類，具備強大處理非線性資料的能力。\n",
    "\n",
    "- 模型結合 100 顆深度為 6 的樹，搭配 L1/L2 正則化與學習率調整以防止過擬合。\n",
    "\n",
    "- 使用 class_weight='balanced' 解決類別不平衡問題，提升模型泛化能力。\n",
    "\n",
    "</h5>"
   ]
  },
  {
   "cell_type": "code",
   "execution_count": null,
   "id": "af317904",
   "metadata": {},
   "outputs": [
    {
     "name": "stderr",
     "output_type": "stream",
     "text": [
      "C:\\Users\\ygz08\\AppData\\Local\\Packages\\PythonSoftwareFoundation.Python.3.11_qbz5n2kfra8p0\\LocalCache\\local-packages\\Python311\\site-packages\\xgboost\\training.py:183: UserWarning: [11:12:48] WARNING: C:\\actions-runner\\_work\\xgboost\\xgboost\\src\\learner.cc:738: \n",
      "Parameters: { \"class_weight\", \"lambda_\" } are not used.\n",
      "\n",
      "  bst.update(dtrain, iteration=i, fobj=obj)\n"
     ]
    },
    {
     "name": "stdout",
     "output_type": "stream",
     "text": [
      "Model saved in run a24277ec6a714ec88bc9e12833bf1070\n",
      "Train score: 0.8149842722333429\n",
      "Test score: 0.7758505670446965\n"
     ]
    },
    {
     "name": "stderr",
     "output_type": "stream",
     "text": [
      "2025/05/05 11:12:51 WARNING mlflow.models.model: Model logged without a signature and input example. Please set `input_example` parameter when logging the model to auto infer the model signature.\n"
     ]
    },
    {
     "name": "stdout",
     "output_type": "stream",
     "text": [
      "{'0': {'precision': 0.831760494630654, 'recall': 0.8388578930095175, 'f1-score': 0.8352941176470589, 'support': 3047.0}, '1': {'precision': 0.6551966292134831, 'recall': 0.643448275862069, 'f1-score': 0.6492693110647182, 'support': 1450.0}, 'accuracy': 0.7758505670446965, 'macro avg': {'precision': 0.7434785619220685, 'recall': 0.7411530844357932, 'f1-score': 0.7422817143558885, 'support': 4497.0}, 'weighted avg': {'precision': 0.7748297397151775, 'recall': 0.7758505670446965, 'f1-score': 0.7753128035388991, 'support': 4497.0}}\n"
     ]
    },
    {
     "name": "stderr",
     "output_type": "stream",
     "text": [
      "Registered model 'XGBClassifier-model' already exists. Creating a new version of this model...\n",
      "Created version '18' of model 'XGBClassifier-model'.\n"
     ]
    }
   ],
   "source": [
    "from xgboost import XGBClassifier\n",
    "#Train score: 0.9090649127823849\n",
    "#Test score: 0.7820769401823437\n",
    "\n",
    "run_name = Tryname + '_XGBClassifier'\n",
    "\n",
    "with mlflow.start_run(run_name='XGBClassifier'):#mlflow\n",
    "    mlflow.tensorflow.autolog()#mlflow\n",
    "    max_iter=1000 \n",
    "    #mlflow.log_param(\"max_iter\", max_iter) #mlflow紀錄參數n_estimators\n",
    "# 方法四：使用 class_weight='balanced'\n",
    "    if Weight_Balance == 1:\n",
    "        xgb_model = XGBClassifier(\n",
    "            random_state=42, \n",
    "            class_weight='balanced',  # 對不平衡數據進行調整\n",
    "            alpha=0.1,  # L1 正則化強度，通常設為較小的正值\n",
    "            lambda_=1.0,  # L2 正則化強度，默認為1\n",
    "            n_estimators=100,  # 樹的數量\n",
    "            max_depth=6,  # 每棵樹的最大深度\n",
    "            learning_rate=0.1  # 學習率\n",
    "        )\n",
    "    else:\n",
    "        xgb_model = XGBClassifier(\n",
    "            random_state=42, \n",
    "            alpha=0.1,  # L1 正則化強度，通常設為較小的正值\n",
    "            lambda_=1.0,  # L2 正則化強度，默認為1\n",
    "            n_estimators=100,  # 樹的數量\n",
    "            max_depth=6,  # 每棵樹的最大深度\n",
    "            learning_rate=0.1  # 學習率\n",
    "        )\n",
    "    xgb_model.fit(X_train, y_train)\n",
    "    run_id = mlflow.active_run().info.run_id#mlflow\n",
    "    print(f\"Model saved in run {run_id}\")#mlflow\n",
    "    \n",
    "\n",
    "    # 檢查訓練與測試分數\n",
    "    print(\"Train score:\", xgb_model.score(X_train, y_train))\n",
    "    print(\"Test score:\", xgb_model.score(X_test, y_test))\n",
    "\n",
    "    mlflow.log_metric(\"Train score\", xgb_model.score(X_train, y_train))#mlflow\n",
    "    mlflow.log_metric(\"Test score\", xgb_model.score(X_test, y_test))#mlflow\n",
    "\n",
    "\n",
    "    # 存檔模型mlflow\n",
    "    model_name = \"XGBClassifier-model\"\n",
    "    mlflow.sklearn.log_model(     #mlflow.sklearn.log_model() #紀錄sklearn模型\n",
    "        sk_model=xgb_model, \n",
    "        artifact_path=\"XGBClassifier-model\",\n",
    "        registered_model_name=model_name,  #\n",
    "    )\n",
    "\n",
    "    from sklearn.metrics import classification_report\n",
    "    report_dict = classification_report(y_test, xgb_model.predict(X_test), output_dict=True)\n",
    "    print(report_dict)\n",
    "    for label, metrics in report_dict.items():\n",
    "        if isinstance(metrics, dict):  # 各分類或 avg 區段\n",
    "            for metric_name, value in metrics.items():\n",
    "                metric_key = f\"{label}_{metric_name}\".replace(\" \", \"_\")  # 去除空格\n",
    "                mlflow.log_metric(metric_key, value)\n",
    "        elif isinstance(metrics, (int, float)):  # accuracy 是 float\n",
    "            mlflow.log_metric(label, metrics)"
   ]
  },
  {
   "cell_type": "markdown",
   "id": "52c32dd5",
   "metadata": {},
   "source": [
    "### SHAP（SHapley Additive exPlanations）\n",
    "\n",
    "- 是一種解釋模型預測的工具，告訴你每個特徵對於每一筆資料的預測「貢獻度」。"
   ]
  },
  {
   "cell_type": "code",
   "execution_count": 21,
   "id": "bace16f3",
   "metadata": {},
   "outputs": [
    {
     "name": "stderr",
     "output_type": "stream",
     "text": [
      "C:\\Users\\ygz08\\AppData\\Local\\Packages\\PythonSoftwareFoundation.Python.3.11_qbz5n2kfra8p0\\LocalCache\\local-packages\\Python311\\site-packages\\tqdm\\auto.py:21: TqdmWarning: IProgress not found. Please update jupyter and ipywidgets. See https://ipywidgets.readthedocs.io/en/stable/user_install.html\n",
      "  from .autonotebook import tqdm as notebook_tqdm\n",
      " 99%|===================| 4463/4497 [00:11<00:00]       "
     ]
    },
    {
     "data": {
      "image/png": "[encoded data removed]",
      "text/plain": [
       "<Figure size 800x950 with 2 Axes>"
      ]
     },
     "metadata": {},
     "output_type": "display_data"
    },
    {
     "data": {
      "image/png": "[encoded data removed]",
      "text/plain": [
       "<Figure size 800x650 with 1 Axes>"
      ]
     },
     "metadata": {},
     "output_type": "display_data"
    },
    {
     "data": {
      "image/png": "[encoded data removed]",
      "text/plain": [
       "<Figure size 800x650 with 3 Axes>"
      ]
     },
     "metadata": {},
     "output_type": "display_data"
    }
   ],
   "source": [
    "import shap\n",
    "explainer = shap.Explainer(xgb_model, X_train)\n",
    "shap_values = explainer(X_test)\n",
    "\n",
    "# Summary plot：看整體特徵重要性\n",
    "shap.summary_plot(shap_values, X_test)\n",
    "\n",
    "# 2️⃣ Feature importance 排名（平均貢獻度）\n",
    "shap.plots.bar(shap_values)\n",
    "\n",
    "# 3️⃣ 解釋單一筆資料（local解釋）\n",
    "shap.plots.waterfall(shap_values[0])\n"
   ]
  },
  {
   "cell_type": "markdown",
   "id": "a03f2226",
   "metadata": {},
   "source": [
    "### 模型評估：\n",
    "\n",
    "- 精度 (Precision)：對於類別 0（負樣本），精度達到 0.84，對於類別 1（正樣本），精度為 0.70。這意味著模型在預測正樣本時可能有一些錯誤，可能會錯誤地標記一些負樣本為正樣本。\n",
    "\n",
    "- 召回率 (Recall)：對於類別 0，召回率為 0.87，這是比較好的，說明模型能夠正確標記大部分的負樣本。然而，對於類別 1，召回率是 0.64，意味著有相當一部分的正樣本未被成功預測出來，這可能是過擬合的跡象或者模型對某些特徵不夠敏感。\n",
    "\n",
    "- F1-score：在平衡精度和召回率後，類別 0 的 F1-score 是 0.85，而類別 1 的 F1-score 是 0.67，這表明模型對於類別 0 的預測表現要好於類別 1。"
   ]
  },
  {
   "cell_type": "code",
   "execution_count": 22,
   "id": "f7d0005b",
   "metadata": {},
   "outputs": [],
   "source": [
    "from sklearn.model_selection import train_test_split, RandomizedSearchCV, GridSearchCV"
   ]
  },
  {
   "cell_type": "code",
   "execution_count": 23,
   "id": "f1725fa6",
   "metadata": {},
   "outputs": [
    {
     "name": "stdout",
     "output_type": "stream",
     "text": [
      "Fitting 5 folds for each of 30 candidates, totalling 150 fits\n"
     ]
    },
    {
     "name": "stderr",
     "output_type": "stream",
     "text": [
      "C:\\Users\\ygz08\\AppData\\Local\\Packages\\PythonSoftwareFoundation.Python.3.11_qbz5n2kfra8p0\\LocalCache\\local-packages\\Python311\\site-packages\\xgboost\\training.py:183: UserWarning: [11:13:21] WARNING: C:\\actions-runner\\_work\\xgboost\\xgboost\\src\\learner.cc:738: \n",
      "Parameters: { \"lambda_\", \"use_label_encoder\" } are not used.\n",
      "\n",
      "  bst.update(dtrain, iteration=i, fobj=obj)\n"
     ]
    }
   ],
   "source": [
    "# 2) Tuned XGBoost via RandomizedSearchCV\n",
    "param_dist_xgb = {\n",
    "    'alpha' : [0.0, 0.1, 0.5, 1.0, 2.0],  # L1 正則化強度，通常設為較小的正值\n",
    "    'lambda_' : [0.0, 0.1, 0.5, 1.0, 2.0],  # L2 正則化強度，默認為1\n",
    "    'n_estimators': [100, 200, 300, 400, 500],\n",
    "    'max_depth': [3, 5, 7, 10, 15],\n",
    "    'learning_rate': [0.01, 0.05, 0.1, 0.2],\n",
    "    'subsample': [0.6, 0.8, 1.0],\n",
    "    'colsample_bytree': [0.6, 0.8, 1.0],\n",
    "    'gamma': [0, 0.1, 0.2, 0.5],\n",
    "    'min_child_weight': [1, 3, 5]\n",
    "}\n",
    "\n",
    "xgb_search = RandomizedSearchCV(\n",
    "    estimator=XGBClassifier(random_state=42, use_label_encoder=False, eval_metric='logloss'),\n",
    "    param_distributions=param_dist_xgb,\n",
    "    n_iter=30,\n",
    "    cv=5,\n",
    "    scoring='roc_auc',\n",
    "    verbose=1,\n",
    "    random_state=42,\n",
    "    n_jobs=-1\n",
    ")\n",
    "\n",
    "# Fit search\n",
    "xgb_search.fit(X_train, y_train)\n",
    "\n",
    "# Get the best model\n",
    "best_xgb = xgb_search.best_estimator_\n",
    "\n",
    "# Predict with best model\n",
    "y_pred_best_xgb = best_xgb.predict(X_test)\n",
    "y_proba_best_xgb = best_xgb.predict_proba(X_test)[:, 1]"
   ]
  },
  {
   "cell_type": "code",
   "execution_count": 24,
   "id": "37a2d98a",
   "metadata": {},
   "outputs": [
    {
     "name": "stdout",
     "output_type": "stream",
     "text": [
      "--- Best XGBoost (Tuned) ---\n",
      "Best Parameters: {'subsample': 0.8, 'n_estimators': 400, 'min_child_weight': 3, 'max_depth': 3, 'learning_rate': 0.01, 'lambda_': 1.0, 'gamma': 0.2, 'colsample_bytree': 0.6, 'alpha': 0.1}\n",
      "Classification Report:\n",
      "               precision    recall  f1-score   support\n",
      "\n",
      "           0       0.83      0.85      0.84      3047\n",
      "           1       0.66      0.63      0.65      1450\n",
      "\n",
      "    accuracy                           0.78      4497\n",
      "   macro avg       0.75      0.74      0.74      4497\n",
      "weighted avg       0.78      0.78      0.78      4497\n",
      "\n",
      "Confusion Matrix:\n",
      " [[2577  470]\n",
      " [ 531  919]]\n",
      "ROC AUC Score: 0.83236909113543\n"
     ]
    }
   ],
   "source": [
    "from sklearn.metrics import classification_report, confusion_matrix, accuracy_score, roc_auc_score\n",
    "print(\"--- Best XGBoost (Tuned) ---\")\n",
    "print(\"Best Parameters:\", xgb_search.best_params_)\n",
    "print(\"Classification Report:\\n\", classification_report(y_test, y_pred_best_xgb))\n",
    "print(\"Confusion Matrix:\\n\", confusion_matrix(y_test, y_pred_best_xgb))\n",
    "print(\"ROC AUC Score:\", roc_auc_score(y_test, y_proba_best_xgb))"
   ]
  },
  {
   "cell_type": "markdown",
   "id": "9abc23bd",
   "metadata": {},
   "source": [
    "### 結果分析：\n",
    "- 精度 (Precision)：\n",
    "\n",
    "    - 類別 0（沒有野火發生） precision: 0.84，這表明大部分被預測為沒有野火的樣本確實是沒有野火。\n",
    "\n",
    "    - 類別 1（有野火發生） precision: 0.70，這表示模型對於有野火的預測並不如對無野火的預測準確。\n",
    "\n",
    "- 召回率 (Recall)：\n",
    "\n",
    "    - 類別 0 recall: 0.87，這說明模型能夠有效地捕捉到大多數沒有野火的樣本。\n",
    "\n",
    "    - 類別 1 recall: 0.65，這表示對有野火的預測仍然有改進的空間，可能是因為過擬合或特徵選擇不夠充分。\n",
    "\n",
    "- F1 分數 (F1-Score)：\n",
    "\n",
    "    - 類別 0 F1-Score: 0.85，這說明對類別 0 的預測效果良好。\n",
    "\n",
    "    - 類別 1 F1-Score: 0.67，這顯示對類別 1 的預測仍然有提升的空間，可能需要更多針對該類別的特徵或優化。\n",
    "\n",
    "- ROC AUC Score：0.8619，這是衡量模型區分能力的指標，值較高，說明模型對區分兩類有較好的能力。"
   ]
  },
  {
   "cell_type": "markdown",
   "id": "ac104a58",
   "metadata": {},
   "source": [
    "<hr>\n",
    "\n",
    "## DNN\n",
    "\n",
    "<h5>\n",
    "\n",
    "- Keras Sequential 架構建構的全連接深度神經網路（DNN），適用於二元分類任務。\n",
    "\n",
    "- 包含三層 ReLU 隱藏層（256-512-128），每層均使用 L2 正則化與 Dropout(0.3) 以減少過擬合。\n",
    "\n",
    "- 輸入經過 Batch Normalization 處理，輸出為 sigmoid 函數對應的機率值。\n",
    "\n",
    "</h5>"
   ]
  },
  {
   "cell_type": "code",
   "execution_count": 25,
   "id": "7cdc51c9",
   "metadata": {},
   "outputs": [],
   "source": [
    "from tensorflow.keras.models import Sequential\n",
    "from tensorflow.keras.layers import Dense, Dropout, BatchNormalization\n",
    "from tensorflow.keras.callbacks import EarlyStopping\n",
    "from tensorflow.keras.regularizers import l1, l2, l1_l2\n",
    "from tensorflow.keras import regularizers"
   ]
  },
  {
   "cell_type": "code",
   "execution_count": 26,
   "id": "f576b002",
   "metadata": {},
   "outputs": [
    {
     "name": "stdout",
     "output_type": "stream",
     "text": [
      "Class Weights: {np.int64(0): np.float64(0.7525824964131994), np.int64(1): np.float64(1.4897756319227493)}\n"
     ]
    }
   ],
   "source": [
    "from sklearn.utils.class_weight import compute_class_weight\n",
    "import numpy as np\n",
    "classes = np.unique(y_train)\n",
    "class_weights = compute_class_weight(class_weight='balanced', classes=classes, y=y_train)\n",
    "class_weight_dict = dict(zip(classes, class_weights))\n",
    "\n",
    "# 查看結果\n",
    "print(\"Class Weights:\", class_weight_dict)"
   ]
  },
  {
   "cell_type": "code",
   "execution_count": null,
   "id": "46c0601b",
   "metadata": {},
   "outputs": [
    {
     "name": "stderr",
     "output_type": "stream",
     "text": [
      "C:\\Users\\ygz08\\AppData\\Local\\Packages\\PythonSoftwareFoundation.Python.3.11_qbz5n2kfra8p0\\LocalCache\\local-packages\\Python311\\site-packages\\keras\\src\\layers\\core\\dense.py:87: UserWarning: Do not pass an `input_shape`/`input_dim` argument to a layer. When using Sequential models, prefer using an `Input(shape)` object as the first layer in the model instead.\n",
      "  super().__init__(activity_regularizer=activity_regularizer, **kwargs)\n"
     ]
    },
    {
     "data": {
      "text/html": [
       "<pre style=\"white-space:pre;overflow-x:auto;line-height:normal;font-family:Menlo,'DejaVu Sans Mono',consolas,'Courier New',monospace\"><span style=\"font-weight: bold\">Model: \"sequential\"</span>\n",
       "</pre>\n"
      ],
      "text/plain": [
       "\u001b[1mModel: \"sequential\"\u001b[0m\n"
      ]
     },
     "metadata": {},
     "output_type": "display_data"
    },
    {
     "data": {
      "text/html": [
       "<pre style=\"white-space:pre;overflow-x:auto;line-height:normal;font-family:Menlo,'DejaVu Sans Mono',consolas,'Courier New',monospace\">┏━━━━━━━━━━━━━━━━━━━━━━━━━━━━━━━━━┳━━━━━━━━━━━━━━━━━━━━━━━━┳━━━━━━━━━━━━━━━┓\n",
       "┃<span style=\"font-weight: bold\"> Layer (type)                    </span>┃<span style=\"font-weight: bold\"> Output Shape           </span>┃<span style=\"font-weight: bold\">       Param # </span>┃\n",
       "┡━━━━━━━━━━━━━━━━━━━━━━━━━━━━━━━━━╇━━━━━━━━━━━━━━━━━━━━━━━━╇━━━━━━━━━━━━━━━┩\n",
       "│ batch_normalization             │ ?                      │   <span style=\"color: #00af00; text-decoration-color: #00af00\">0</span> (unbuilt) │\n",
       "│ (<span style=\"color: #0087ff; text-decoration-color: #0087ff\">BatchNormalization</span>)            │                        │               │\n",
       "├─────────────────────────────────┼────────────────────────┼───────────────┤\n",
       "│ dense (<span style=\"color: #0087ff; text-decoration-color: #0087ff\">Dense</span>)                   │ ?                      │   <span style=\"color: #00af00; text-decoration-color: #00af00\">0</span> (unbuilt) │\n",
       "├─────────────────────────────────┼────────────────────────┼───────────────┤\n",
       "│ dropout (<span style=\"color: #0087ff; text-decoration-color: #0087ff\">Dropout</span>)               │ ?                      │             <span style=\"color: #00af00; text-decoration-color: #00af00\">0</span> │\n",
       "├─────────────────────────────────┼────────────────────────┼───────────────┤\n",
       "│ dense_1 (<span style=\"color: #0087ff; text-decoration-color: #0087ff\">Dense</span>)                 │ ?                      │   <span style=\"color: #00af00; text-decoration-color: #00af00\">0</span> (unbuilt) │\n",
       "├─────────────────────────────────┼────────────────────────┼───────────────┤\n",
       "│ dropout_1 (<span style=\"color: #0087ff; text-decoration-color: #0087ff\">Dropout</span>)             │ ?                      │             <span style=\"color: #00af00; text-decoration-color: #00af00\">0</span> │\n",
       "├─────────────────────────────────┼────────────────────────┼───────────────┤\n",
       "│ dense_2 (<span style=\"color: #0087ff; text-decoration-color: #0087ff\">Dense</span>)                 │ ?                      │   <span style=\"color: #00af00; text-decoration-color: #00af00\">0</span> (unbuilt) │\n",
       "├─────────────────────────────────┼────────────────────────┼───────────────┤\n",
       "│ dropout_2 (<span style=\"color: #0087ff; text-decoration-color: #0087ff\">Dropout</span>)             │ ?                      │             <span style=\"color: #00af00; text-decoration-color: #00af00\">0</span> │\n",
       "├─────────────────────────────────┼────────────────────────┼───────────────┤\n",
       "│ dense_3 (<span style=\"color: #0087ff; text-decoration-color: #0087ff\">Dense</span>)                 │ ?                      │   <span style=\"color: #00af00; text-decoration-color: #00af00\">0</span> (unbuilt) │\n",
       "└─────────────────────────────────┴────────────────────────┴───────────────┘\n",
       "</pre>\n"
      ],
      "text/plain": [
       "┏━━━━━━━━━━━━━━━━━━━━━━━━━━━━━━━━━┳━━━━━━━━━━━━━━━━━━━━━━━━┳━━━━━━━━━━━━━━━┓\n",
       "┃\u001b[1m \u001b[0m\u001b[1mLayer (type)                   \u001b[0m\u001b[1m \u001b[0m┃\u001b[1m \u001b[0m\u001b[1mOutput Shape          \u001b[0m\u001b[1m \u001b[0m┃\u001b[1m \u001b[0m\u001b[1m      Param #\u001b[0m\u001b[1m \u001b[0m┃\n",
       "┡━━━━━━━━━━━━━━━━━━━━━━━━━━━━━━━━━╇━━━━━━━━━━━━━━━━━━━━━━━━╇━━━━━━━━━━━━━━━┩\n",
       "│ batch_normalization             │ ?                      │   \u001b[38;5;34m0\u001b[0m (unbuilt) │\n",
       "│ (\u001b[38;5;33mBatchNormalization\u001b[0m)            │                        │               │\n",
       "├─────────────────────────────────┼────────────────────────┼───────────────┤\n",
       "│ dense (\u001b[38;5;33mDense\u001b[0m)                   │ ?                      │   \u001b[38;5;34m0\u001b[0m (unbuilt) │\n",
       "├─────────────────────────────────┼────────────────────────┼───────────────┤\n",
       "│ dropout (\u001b[38;5;33mDropout\u001b[0m)               │ ?                      │             \u001b[38;5;34m0\u001b[0m │\n",
       "├─────────────────────────────────┼────────────────────────┼───────────────┤\n",
       "│ dense_1 (\u001b[38;5;33mDense\u001b[0m)                 │ ?                      │   \u001b[38;5;34m0\u001b[0m (unbuilt) │\n",
       "├─────────────────────────────────┼────────────────────────┼───────────────┤\n",
       "│ dropout_1 (\u001b[38;5;33mDropout\u001b[0m)             │ ?                      │             \u001b[38;5;34m0\u001b[0m │\n",
       "├─────────────────────────────────┼────────────────────────┼───────────────┤\n",
       "│ dense_2 (\u001b[38;5;33mDense\u001b[0m)                 │ ?                      │   \u001b[38;5;34m0\u001b[0m (unbuilt) │\n",
       "├─────────────────────────────────┼────────────────────────┼───────────────┤\n",
       "│ dropout_2 (\u001b[38;5;33mDropout\u001b[0m)             │ ?                      │             \u001b[38;5;34m0\u001b[0m │\n",
       "├─────────────────────────────────┼────────────────────────┼───────────────┤\n",
       "│ dense_3 (\u001b[38;5;33mDense\u001b[0m)                 │ ?                      │   \u001b[38;5;34m0\u001b[0m (unbuilt) │\n",
       "└─────────────────────────────────┴────────────────────────┴───────────────┘\n"
      ]
     },
     "metadata": {},
     "output_type": "display_data"
    },
    {
     "data": {
      "text/html": [
       "<pre style=\"white-space:pre;overflow-x:auto;line-height:normal;font-family:Menlo,'DejaVu Sans Mono',consolas,'Courier New',monospace\"><span style=\"font-weight: bold\"> Total params: </span><span style=\"color: #00af00; text-decoration-color: #00af00\">0</span> (0.00 B)\n",
       "</pre>\n"
      ],
      "text/plain": [
       "\u001b[1m Total params: \u001b[0m\u001b[38;5;34m0\u001b[0m (0.00 B)\n"
      ]
     },
     "metadata": {},
     "output_type": "display_data"
    },
    {
     "data": {
      "text/html": [
       "<pre style=\"white-space:pre;overflow-x:auto;line-height:normal;font-family:Menlo,'DejaVu Sans Mono',consolas,'Courier New',monospace\"><span style=\"font-weight: bold\"> Trainable params: </span><span style=\"color: #00af00; text-decoration-color: #00af00\">0</span> (0.00 B)\n",
       "</pre>\n"
      ],
      "text/plain": [
       "\u001b[1m Trainable params: \u001b[0m\u001b[38;5;34m0\u001b[0m (0.00 B)\n"
      ]
     },
     "metadata": {},
     "output_type": "display_data"
    },
    {
     "data": {
      "text/html": [
       "<pre style=\"white-space:pre;overflow-x:auto;line-height:normal;font-family:Menlo,'DejaVu Sans Mono',consolas,'Courier New',monospace\"><span style=\"font-weight: bold\"> Non-trainable params: </span><span style=\"color: #00af00; text-decoration-color: #00af00\">0</span> (0.00 B)\n",
       "</pre>\n"
      ],
      "text/plain": [
       "\u001b[1m Non-trainable params: \u001b[0m\u001b[38;5;34m0\u001b[0m (0.00 B)\n"
      ]
     },
     "metadata": {},
     "output_type": "display_data"
    },
    {
     "name": "stderr",
     "output_type": "stream",
     "text": [
      "2025/05/05 11:13:21 WARNING mlflow.tensorflow: Encountered unexpected error while inferring batch size from training dataset: Sequential model 'sequential' has no defined input shape yet.\n",
      "2025/05/05 11:13:21 WARNING mlflow.tensorflow: Unrecognized dataset type <class 'pandas.core.frame.DataFrame'>. Dataset logging skipped.\n",
      "2025/05/05 11:13:21 WARNING mlflow.tensorflow: Failed to log training dataset information to MLflow Tracking. Reason: 'DataFrame' object has no attribute 'flatten'\n"
     ]
    },
    {
     "data": {
      "text/html": [
       "<pre style=\"white-space:pre;overflow-x:auto;line-height:normal;font-family:Menlo,'DejaVu Sans Mono',consolas,'Courier New',monospace\"></pre>\n"
      ],
      "text/plain": []
     },
     "metadata": {},
     "output_type": "display_data"
    },
    {
     "name": "stdout",
     "output_type": "stream",
     "text": [
      "Epoch 1/100\n",
      "\u001b[1m77/82\u001b[0m \u001b[32m━━━━━━━━━━━━━━━━━━\u001b[0m\u001b[37m━━\u001b[0m \u001b[1m0s\u001b[0m 3ms/step - Precision: 0.5745 - Recall: 0.7291 - acc: 0.7297 - loss: 1.0497"
     ]
    },
    {
     "name": "stderr",
     "output_type": "stream",
     "text": [
      "WARNING:absl:You are saving your model as an HDF5 file via `model.save()` or `keras.saving.save_model(model)`. This file format is considered legacy. We recommend using instead the native Keras format, e.g. `model.save('my_model.keras')` or `keras.saving.save_model(model, 'my_model.keras')`. \n"
     ]
    },
    {
     "name": "stdout",
     "output_type": "stream",
     "text": [
      "\u001b[1m82/82\u001b[0m \u001b[32m━━━━━━━━━━━━━━━━━━━━\u001b[0m\u001b[37m\u001b[0m \u001b[1m2s\u001b[0m 10ms/step - Precision: 0.5752 - Recall: 0.7328 - acc: 0.7304 - loss: 1.0428 - val_Precision: 0.3269 - val_Recall: 1.0000 - val_acc: 0.3362 - val_loss: 1.8747\n",
      "Epoch 2/100\n",
      "\u001b[1m79/82\u001b[0m \u001b[32m━━━━━━━━━━━━━━━━━━━\u001b[0m\u001b[37m━\u001b[0m \u001b[1m0s\u001b[0m 3ms/step - Precision: 0.5936 - Recall: 0.7875 - acc: 0.7506 - loss: 0.7598"
     ]
    },
    {
     "name": "stderr",
     "output_type": "stream",
     "text": [
      "WARNING:absl:You are saving your model as an HDF5 file via `model.save()` or `keras.saving.save_model(model)`. This file format is considered legacy. We recommend using instead the native Keras format, e.g. `model.save('my_model.keras')` or `keras.saving.save_model(model, 'my_model.keras')`. \n"
     ]
    },
    {
     "name": "stdout",
     "output_type": "stream",
     "text": [
      "\u001b[1m82/82\u001b[0m \u001b[32m━━━━━━━━━━━━━━━━━━━━\u001b[0m\u001b[37m\u001b[0m \u001b[1m0s\u001b[0m 6ms/step - Precision: 0.5934 - Recall: 0.7879 - acc: 0.7503 - loss: 0.7585 - val_Precision: 0.4361 - val_Recall: 0.9345 - val_acc: 0.5893 - val_loss: 0.8851\n",
      "Epoch 3/100\n",
      "\u001b[1m73/82\u001b[0m \u001b[32m━━━━━━━━━━━━━━━━━\u001b[0m\u001b[37m━━━\u001b[0m \u001b[1m0s\u001b[0m 4ms/step - Precision: 0.6088 - Recall: 0.7919 - acc: 0.7603 - loss: 0.6444"
     ]
    },
    {
     "name": "stderr",
     "output_type": "stream",
     "text": [
      "WARNING:absl:You are saving your model as an HDF5 file via `model.save()` or `keras.saving.save_model(model)`. This file format is considered legacy. We recommend using instead the native Keras format, e.g. `model.save('my_model.keras')` or `keras.saving.save_model(model, 'my_model.keras')`. \n"
     ]
    },
    {
     "name": "stdout",
     "output_type": "stream",
     "text": [
      "\u001b[1m82/82\u001b[0m \u001b[32m━━━━━━━━━━━━━━━━━━━━\u001b[0m\u001b[37m\u001b[0m \u001b[1m0s\u001b[0m 6ms/step - Precision: 0.6076 - Recall: 0.7925 - acc: 0.7594 - loss: 0.6432 - val_Precision: 0.5247 - val_Recall: 0.8641 - val_acc: 0.7038 - val_loss: 0.6554\n",
      "Epoch 4/100\n",
      "\u001b[1m74/82\u001b[0m \u001b[32m━━━━━━━━━━━━━━━━━━\u001b[0m\u001b[37m━━\u001b[0m \u001b[1m0s\u001b[0m 3ms/step - Precision: 0.5859 - Recall: 0.7884 - acc: 0.7523 - loss: 0.5898"
     ]
    },
    {
     "name": "stderr",
     "output_type": "stream",
     "text": [
      "WARNING:absl:You are saving your model as an HDF5 file via `model.save()` or `keras.saving.save_model(model)`. This file format is considered legacy. We recommend using instead the native Keras format, e.g. `model.save('my_model.keras')` or `keras.saving.save_model(model, 'my_model.keras')`. \n"
     ]
    },
    {
     "name": "stdout",
     "output_type": "stream",
     "text": [
      "\u001b[1m82/82\u001b[0m \u001b[32m━━━━━━━━━━━━━━━━━━━━\u001b[0m\u001b[37m\u001b[0m \u001b[1m0s\u001b[0m 5ms/step - Precision: 0.5866 - Recall: 0.7890 - acc: 0.7517 - loss: 0.5896 - val_Precision: 0.5334 - val_Recall: 0.8538 - val_acc: 0.7120 - val_loss: 0.6083\n",
      "Epoch 5/100\n",
      "\u001b[1m75/82\u001b[0m \u001b[32m━━━━━━━━━━━━━━━━━━\u001b[0m\u001b[37m━━\u001b[0m \u001b[1m0s\u001b[0m 4ms/step - Precision: 0.5879 - Recall: 0.7929 - acc: 0.7462 - loss: 0.5692"
     ]
    },
    {
     "name": "stderr",
     "output_type": "stream",
     "text": [
      "WARNING:absl:You are saving your model as an HDF5 file via `model.save()` or `keras.saving.save_model(model)`. This file format is considered legacy. We recommend using instead the native Keras format, e.g. `model.save('my_model.keras')` or `keras.saving.save_model(model, 'my_model.keras')`. \n"
     ]
    },
    {
     "name": "stdout",
     "output_type": "stream",
     "text": [
      "\u001b[1m82/82\u001b[0m \u001b[32m━━━━━━━━━━━━━━━━━━━━\u001b[0m\u001b[37m\u001b[0m \u001b[1m0s\u001b[0m 6ms/step - Precision: 0.5889 - Recall: 0.7930 - acc: 0.7467 - loss: 0.5682 - val_Precision: 0.5515 - val_Recall: 0.8303 - val_acc: 0.7276 - val_loss: 0.5802\n",
      "Epoch 6/100\n",
      "\u001b[1m80/82\u001b[0m \u001b[32m━━━━━━━━━━━━━━━━━━━\u001b[0m\u001b[37m━\u001b[0m \u001b[1m0s\u001b[0m 4ms/step - Precision: 0.5890 - Recall: 0.7898 - acc: 0.7446 - loss: 0.5555"
     ]
    },
    {
     "name": "stderr",
     "output_type": "stream",
     "text": [
      "WARNING:absl:You are saving your model as an HDF5 file via `model.save()` or `keras.saving.save_model(model)`. This file format is considered legacy. We recommend using instead the native Keras format, e.g. `model.save('my_model.keras')` or `keras.saving.save_model(model, 'my_model.keras')`. \n"
     ]
    },
    {
     "name": "stdout",
     "output_type": "stream",
     "text": [
      "\u001b[1m82/82\u001b[0m \u001b[32m━━━━━━━━━━━━━━━━━━━━\u001b[0m\u001b[37m\u001b[0m \u001b[1m1s\u001b[0m 6ms/step - Precision: 0.5894 - Recall: 0.7900 - acc: 0.7450 - loss: 0.5550 - val_Precision: 0.5929 - val_Recall: 0.7766 - val_acc: 0.7561 - val_loss: 0.5312\n",
      "Epoch 7/100\n",
      "\u001b[1m76/82\u001b[0m \u001b[32m━━━━━━━━━━━━━━━━━━\u001b[0m\u001b[37m━━\u001b[0m \u001b[1m0s\u001b[0m 3ms/step - Precision: 0.6064 - Recall: 0.8063 - acc: 0.7525 - loss: 0.5347"
     ]
    },
    {
     "name": "stderr",
     "output_type": "stream",
     "text": [
      "WARNING:absl:You are saving your model as an HDF5 file via `model.save()` or `keras.saving.save_model(model)`. This file format is considered legacy. We recommend using instead the native Keras format, e.g. `model.save('my_model.keras')` or `keras.saving.save_model(model, 'my_model.keras')`. \n"
     ]
    },
    {
     "name": "stdout",
     "output_type": "stream",
     "text": [
      "\u001b[1m82/82\u001b[0m \u001b[32m━━━━━━━━━━━━━━━━━━━━\u001b[0m\u001b[37m\u001b[0m \u001b[1m0s\u001b[0m 6ms/step - Precision: 0.6055 - Recall: 0.8058 - acc: 0.7523 - loss: 0.5345 - val_Precision: 0.6000 - val_Recall: 0.7614 - val_acc: 0.7594 - val_loss: 0.5131\n",
      "Epoch 8/100\n",
      "\u001b[1m82/82\u001b[0m \u001b[32m━━━━━━━━━━━━━━━━━━━━\u001b[0m\u001b[37m\u001b[0m \u001b[1m1s\u001b[0m 6ms/step - Precision: 0.5954 - Recall: 0.7965 - acc: 0.7496 - loss: 0.5422 - val_Precision: 0.5582 - val_Recall: 0.8207 - val_acc: 0.7327 - val_loss: 0.5418\n",
      "Epoch 9/100\n",
      "\u001b[1m82/82\u001b[0m \u001b[32m━━━━━━━━━━━━━━━━━━━━\u001b[0m\u001b[37m\u001b[0m \u001b[1m0s\u001b[0m 6ms/step - Precision: 0.5897 - Recall: 0.8083 - acc: 0.7488 - loss: 0.5216 - val_Precision: 0.5686 - val_Recall: 0.8090 - val_acc: 0.7405 - val_loss: 0.5293\n",
      "Epoch 10/100\n",
      "\u001b[1m82/82\u001b[0m \u001b[32m━━━━━━━━━━━━━━━━━━━━\u001b[0m\u001b[37m\u001b[0m \u001b[1m0s\u001b[0m 5ms/step - Precision: 0.5829 - Recall: 0.8079 - acc: 0.7394 - loss: 0.5334 - val_Precision: 0.5773 - val_Recall: 0.8062 - val_acc: 0.7472 - val_loss: 0.5229\n",
      "Epoch 11/100\n",
      "\u001b[1m82/82\u001b[0m \u001b[32m━━━━━━━━━━━━━━━━━━━━\u001b[0m\u001b[37m\u001b[0m \u001b[1m0s\u001b[0m 5ms/step - Precision: 0.5920 - Recall: 0.7896 - acc: 0.7478 - loss: 0.5222 - val_Precision: 0.5666 - val_Recall: 0.8069 - val_acc: 0.7387 - val_loss: 0.5388\n",
      "Epoch 12/100\n",
      "\u001b[1m70/82\u001b[0m \u001b[32m━━━━━━━━━━━━━━━━━\u001b[0m\u001b[37m━━━\u001b[0m \u001b[1m0s\u001b[0m 4ms/step - Precision: 0.6210 - Recall: 0.7936 - acc: 0.7640 - loss: 0.5058"
     ]
    },
    {
     "name": "stderr",
     "output_type": "stream",
     "text": [
      "WARNING:absl:You are saving your model as an HDF5 file via `model.save()` or `keras.saving.save_model(model)`. This file format is considered legacy. We recommend using instead the native Keras format, e.g. `model.save('my_model.keras')` or `keras.saving.save_model(model, 'my_model.keras')`. \n"
     ]
    },
    {
     "name": "stdout",
     "output_type": "stream",
     "text": [
      "\u001b[1m82/82\u001b[0m \u001b[32m━━━━━━━━━━━━━━━━━━━━\u001b[0m\u001b[37m\u001b[0m \u001b[1m1s\u001b[0m 6ms/step - Precision: 0.6184 - Recall: 0.7935 - acc: 0.7627 - loss: 0.5073 - val_Precision: 0.5984 - val_Recall: 0.7759 - val_acc: 0.7598 - val_loss: 0.5126\n",
      "Epoch 13/100\n",
      "\u001b[1m82/82\u001b[0m \u001b[32m━━━━━━━━━━━━━━━━━━━━\u001b[0m\u001b[37m\u001b[0m \u001b[1m0s\u001b[0m 6ms/step - Precision: 0.5966 - Recall: 0.7896 - acc: 0.7529 - loss: 0.5222 - val_Precision: 0.5763 - val_Recall: 0.7972 - val_acc: 0.7456 - val_loss: 0.5323\n",
      "Epoch 14/100\n",
      "\u001b[1m82/82\u001b[0m \u001b[32m━━━━━━━━━━━━━━━━━━━━\u001b[0m\u001b[37m\u001b[0m \u001b[1m0s\u001b[0m 6ms/step - Precision: 0.5950 - Recall: 0.7944 - acc: 0.7456 - loss: 0.5237 - val_Precision: 0.5886 - val_Recall: 0.7883 - val_acc: 0.7541 - val_loss: 0.5191\n",
      "Epoch 15/100\n",
      "\u001b[1m82/82\u001b[0m \u001b[32m━━━━━━━━━━━━━━━━━━━━\u001b[0m\u001b[37m\u001b[0m \u001b[1m0s\u001b[0m 5ms/step - Precision: 0.5989 - Recall: 0.8008 - acc: 0.7543 - loss: 0.5191 - val_Precision: 0.5738 - val_Recall: 0.8041 - val_acc: 0.7443 - val_loss: 0.5320\n",
      "Epoch 16/100\n",
      "\u001b[1m82/82\u001b[0m \u001b[32m━━━━━━━━━━━━━━━━━━━━\u001b[0m\u001b[37m\u001b[0m \u001b[1m0s\u001b[0m 5ms/step - Precision: 0.6009 - Recall: 0.8093 - acc: 0.7502 - loss: 0.5116 - val_Precision: 0.5852 - val_Recall: 0.7959 - val_acc: 0.7523 - val_loss: 0.5167\n",
      "Epoch 17/100\n",
      "\u001b[1m75/82\u001b[0m \u001b[32m━━━━━━━━━━━━━━━━━━\u001b[0m\u001b[37m━━\u001b[0m \u001b[1m0s\u001b[0m 3ms/step - Precision: 0.5939 - Recall: 0.8065 - acc: 0.7474 - loss: 0.5133"
     ]
    },
    {
     "name": "stderr",
     "output_type": "stream",
     "text": [
      "WARNING:absl:You are saving your model as an HDF5 file via `model.save()` or `keras.saving.save_model(model)`. This file format is considered legacy. We recommend using instead the native Keras format, e.g. `model.save('my_model.keras')` or `keras.saving.save_model(model, 'my_model.keras')`. \n"
     ]
    },
    {
     "name": "stdout",
     "output_type": "stream",
     "text": [
      "\u001b[1m82/82\u001b[0m \u001b[32m━━━━━━━━━━━━━━━━━━━━\u001b[0m\u001b[37m\u001b[0m \u001b[1m0s\u001b[0m 6ms/step - Precision: 0.5944 - Recall: 0.8060 - acc: 0.7479 - loss: 0.5132 - val_Precision: 0.6070 - val_Recall: 0.7669 - val_acc: 0.7647 - val_loss: 0.5048\n",
      "Epoch 18/100\n",
      "\u001b[1m82/82\u001b[0m \u001b[32m━━━━━━━━━━━━━━━━━━━━\u001b[0m\u001b[37m\u001b[0m \u001b[1m0s\u001b[0m 5ms/step - Precision: 0.5976 - Recall: 0.7824 - acc: 0.7504 - loss: 0.5187 - val_Precision: 0.5859 - val_Recall: 0.7834 - val_acc: 0.7516 - val_loss: 0.5149\n",
      "Epoch 19/100\n",
      "\u001b[1m82/82\u001b[0m \u001b[32m━━━━━━━━━━━━━━━━━━━━\u001b[0m\u001b[37m\u001b[0m \u001b[1m0s\u001b[0m 5ms/step - Precision: 0.6003 - Recall: 0.8016 - acc: 0.7566 - loss: 0.5081 - val_Precision: 0.5820 - val_Recall: 0.7931 - val_acc: 0.7496 - val_loss: 0.5347\n",
      "Epoch 20/100\n",
      "\u001b[1m82/82\u001b[0m \u001b[32m━━━━━━━━━━━━━━━━━━━━\u001b[0m\u001b[37m\u001b[0m \u001b[1m0s\u001b[0m 5ms/step - Precision: 0.6016 - Recall: 0.7894 - acc: 0.7529 - loss: 0.5185 - val_Precision: 0.5736 - val_Recall: 0.8034 - val_acc: 0.7441 - val_loss: 0.5238\n",
      "Epoch 21/100\n",
      "\u001b[1m82/82\u001b[0m \u001b[32m━━━━━━━━━━━━━━━━━━━━\u001b[0m\u001b[37m\u001b[0m \u001b[1m0s\u001b[0m 5ms/step - Precision: 0.6081 - Recall: 0.8060 - acc: 0.7584 - loss: 0.5148 - val_Precision: 0.5823 - val_Recall: 0.7979 - val_acc: 0.7503 - val_loss: 0.5167\n",
      "Epoch 22/100\n",
      "\u001b[1m82/82\u001b[0m \u001b[32m━━━━━━━━━━━━━━━━━━━━\u001b[0m\u001b[37m\u001b[0m \u001b[1m0s\u001b[0m 5ms/step - Precision: 0.6059 - Recall: 0.7990 - acc: 0.7610 - loss: 0.5071 - val_Precision: 0.5807 - val_Recall: 0.8014 - val_acc: 0.7494 - val_loss: 0.5200\n",
      "Epoch 23/100\n",
      "\u001b[1m82/82\u001b[0m \u001b[32m━━━━━━━━━━━━━━━━━━━━\u001b[0m\u001b[37m\u001b[0m \u001b[1m0s\u001b[0m 5ms/step - Precision: 0.5855 - Recall: 0.8093 - acc: 0.7504 - loss: 0.5061 - val_Precision: 0.5712 - val_Recall: 0.8048 - val_acc: 0.7423 - val_loss: 0.5354\n",
      "Epoch 24/100\n",
      "\u001b[1m82/82\u001b[0m \u001b[32m━━━━━━━━━━━━━━━━━━━━\u001b[0m\u001b[37m\u001b[0m \u001b[1m0s\u001b[0m 5ms/step - Precision: 0.5995 - Recall: 0.8033 - acc: 0.7559 - loss: 0.5079 - val_Precision: 0.6010 - val_Recall: 0.7738 - val_acc: 0.7614 - val_loss: 0.5098\n",
      "Epoch 25/100\n",
      "\u001b[1m82/82\u001b[0m \u001b[32m━━━━━━━━━━━━━━━━━━━━\u001b[0m\u001b[37m\u001b[0m \u001b[1m0s\u001b[0m 5ms/step - Precision: 0.6094 - Recall: 0.7937 - acc: 0.7607 - loss: 0.5142 - val_Precision: 0.5625 - val_Recall: 0.8166 - val_acc: 0.7360 - val_loss: 0.5345\n",
      "Epoch 26/100\n",
      "\u001b[1m82/82\u001b[0m \u001b[32m━━━━━━━━━━━━━━━━━━━━\u001b[0m\u001b[37m\u001b[0m \u001b[1m0s\u001b[0m 5ms/step - Precision: 0.6137 - Recall: 0.8104 - acc: 0.7604 - loss: 0.5064 - val_Precision: 0.5949 - val_Recall: 0.7869 - val_acc: 0.7585 - val_loss: 0.5122\n",
      "Epoch 27/100\n",
      "\u001b[1m82/82\u001b[0m \u001b[32m━━━━━━━━━━━━━━━━━━━━\u001b[0m\u001b[37m\u001b[0m \u001b[1m0s\u001b[0m 6ms/step - Precision: 0.5945 - Recall: 0.8028 - acc: 0.7580 - loss: 0.5002 - val_Precision: 0.5875 - val_Recall: 0.7938 - val_acc: 0.7538 - val_loss: 0.5224\n",
      "Epoch 28/100\n",
      "\u001b[1m82/82\u001b[0m \u001b[32m━━━━━━━━━━━━━━━━━━━━\u001b[0m\u001b[37m\u001b[0m \u001b[1m0s\u001b[0m 6ms/step - Precision: 0.6008 - Recall: 0.8001 - acc: 0.7527 - loss: 0.5154 - val_Precision: 0.5905 - val_Recall: 0.7855 - val_acc: 0.7552 - val_loss: 0.5115\n",
      "Epoch 29/100\n",
      "\u001b[1m82/82\u001b[0m \u001b[32m━━━━━━━━━━━━━━━━━━━━\u001b[0m\u001b[37m\u001b[0m \u001b[1m0s\u001b[0m 5ms/step - Precision: 0.5958 - Recall: 0.7800 - acc: 0.7520 - loss: 0.5157 - val_Precision: 0.5936 - val_Recall: 0.7828 - val_acc: 0.7572 - val_loss: 0.5113\n",
      "Epoch 30/100\n",
      "\u001b[1m82/82\u001b[0m \u001b[32m━━━━━━━━━━━━━━━━━━━━\u001b[0m\u001b[37m\u001b[0m \u001b[1m0s\u001b[0m 5ms/step - Precision: 0.6048 - Recall: 0.7882 - acc: 0.7536 - loss: 0.5179 - val_Precision: 0.5835 - val_Recall: 0.7972 - val_acc: 0.7512 - val_loss: 0.5175\n",
      "Epoch 31/100\n",
      "\u001b[1m82/82\u001b[0m \u001b[32m━━━━━━━━━━━━━━━━━━━━\u001b[0m\u001b[37m\u001b[0m \u001b[1m0s\u001b[0m 5ms/step - Precision: 0.6044 - Recall: 0.8164 - acc: 0.7547 - loss: 0.5084 - val_Precision: 0.5817 - val_Recall: 0.8000 - val_acc: 0.7501 - val_loss: 0.5313\n",
      "Epoch 32/100\n",
      "\u001b[1m82/82\u001b[0m \u001b[32m━━━━━━━━━━━━━━━━━━━━\u001b[0m\u001b[37m\u001b[0m \u001b[1m0s\u001b[0m 5ms/step - Precision: 0.6042 - Recall: 0.7964 - acc: 0.7576 - loss: 0.5134 - val_Precision: 0.5942 - val_Recall: 0.7807 - val_acc: 0.7574 - val_loss: 0.5198\n",
      "Epoch 33/100\n",
      "\u001b[1m82/82\u001b[0m \u001b[32m━━━━━━━━━━━━━━━━━━━━\u001b[0m\u001b[37m\u001b[0m \u001b[1m0s\u001b[0m 6ms/step - Precision: 0.5988 - Recall: 0.7892 - acc: 0.7525 - loss: 0.5201 - val_Precision: 0.6009 - val_Recall: 0.7786 - val_acc: 0.7618 - val_loss: 0.5092\n",
      "Epoch 34/100\n",
      "\u001b[1m82/82\u001b[0m \u001b[32m━━━━━━━━━━━━━━━━━━━━\u001b[0m\u001b[37m\u001b[0m \u001b[1m0s\u001b[0m 5ms/step - Precision: 0.6107 - Recall: 0.7708 - acc: 0.7571 - loss: 0.5085 - val_Precision: 0.5745 - val_Recall: 0.8055 - val_acc: 0.7449 - val_loss: 0.5234\n",
      "Epoch 35/100\n",
      "\u001b[1m82/82\u001b[0m \u001b[32m━━━━━━━━━━━━━━━━━━━━\u001b[0m\u001b[37m\u001b[0m \u001b[1m0s\u001b[0m 5ms/step - Precision: 0.5993 - Recall: 0.7834 - acc: 0.7529 - loss: 0.5092 - val_Precision: 0.5779 - val_Recall: 0.7979 - val_acc: 0.7469 - val_loss: 0.5138\n",
      "Epoch 36/100\n",
      "\u001b[1m82/82\u001b[0m \u001b[32m━━━━━━━━━━━━━━━━━━━━\u001b[0m\u001b[37m\u001b[0m \u001b[1m0s\u001b[0m 5ms/step - Precision: 0.5857 - Recall: 0.7988 - acc: 0.7454 - loss: 0.5099 - val_Precision: 0.5914 - val_Recall: 0.7897 - val_acc: 0.7563 - val_loss: 0.5228\n",
      "Epoch 37/100\n",
      "\u001b[1m82/82\u001b[0m \u001b[32m━━━━━━━━━━━━━━━━━━━━\u001b[0m\u001b[37m\u001b[0m \u001b[1m0s\u001b[0m 5ms/step - Precision: 0.6053 - Recall: 0.8024 - acc: 0.7551 - loss: 0.5112 - val_Precision: 0.6014 - val_Recall: 0.7772 - val_acc: 0.7621 - val_loss: 0.5143\n",
      "Epoch 38/100\n",
      "\u001b[1m82/82\u001b[0m \u001b[32m━━━━━━━━━━━━━━━━━━━━\u001b[0m\u001b[37m\u001b[0m \u001b[1m0s\u001b[0m 5ms/step - Precision: 0.6051 - Recall: 0.7844 - acc: 0.7497 - loss: 0.5215 - val_Precision: 0.5838 - val_Recall: 0.7931 - val_acc: 0.7509 - val_loss: 0.5244\n",
      "Epoch 39/100\n",
      "\u001b[1m82/82\u001b[0m \u001b[32m━━━━━━━━━━━━━━━━━━━━\u001b[0m\u001b[37m\u001b[0m \u001b[1m0s\u001b[0m 5ms/step - Precision: 0.6108 - Recall: 0.8084 - acc: 0.7622 - loss: 0.5098 - val_Precision: 0.5830 - val_Recall: 0.7945 - val_acc: 0.7505 - val_loss: 0.5192\n",
      "Epoch 40/100\n",
      "\u001b[1m82/82\u001b[0m \u001b[32m━━━━━━━━━━━━━━━━━━━━\u001b[0m\u001b[37m\u001b[0m \u001b[1m0s\u001b[0m 6ms/step - Precision: 0.6118 - Recall: 0.7899 - acc: 0.7578 - loss: 0.5102 - val_Precision: 0.5813 - val_Recall: 0.7966 - val_acc: 0.7494 - val_loss: 0.5172\n",
      "Epoch 41/100\n",
      "\u001b[1m71/82\u001b[0m \u001b[32m━━━━━━━━━━━━━━━━━\u001b[0m\u001b[37m━━━\u001b[0m \u001b[1m0s\u001b[0m 4ms/step - Precision: 0.5991 - Recall: 0.7863 - acc: 0.7491 - loss: 0.5204"
     ]
    },
    {
     "name": "stderr",
     "output_type": "stream",
     "text": [
      "WARNING:absl:You are saving your model as an HDF5 file via `model.save()` or `keras.saving.save_model(model)`. This file format is considered legacy. We recommend using instead the native Keras format, e.g. `model.save('my_model.keras')` or `keras.saving.save_model(model, 'my_model.keras')`. \n"
     ]
    },
    {
     "name": "stdout",
     "output_type": "stream",
     "text": [
      "\u001b[1m82/82\u001b[0m \u001b[32m━━━━━━━━━━━━━━━━━━━━\u001b[0m\u001b[37m\u001b[0m \u001b[1m0s\u001b[0m 6ms/step - Precision: 0.5990 - Recall: 0.7872 - acc: 0.7494 - loss: 0.5199 - val_Precision: 0.6171 - val_Recall: 0.7559 - val_acc: 0.7701 - val_loss: 0.4983\n",
      "Epoch 42/100\n",
      "\u001b[1m82/82\u001b[0m \u001b[32m━━━━━━━━━━━━━━━━━━━━\u001b[0m\u001b[37m\u001b[0m \u001b[1m0s\u001b[0m 6ms/step - Precision: 0.6091 - Recall: 0.7799 - acc: 0.7578 - loss: 0.5170 - val_Precision: 0.5903 - val_Recall: 0.7910 - val_acc: 0.7556 - val_loss: 0.5128\n",
      "Epoch 43/100\n",
      "\u001b[1m82/82\u001b[0m \u001b[32m━━━━━━━━━━━━━━━━━━━━\u001b[0m\u001b[37m\u001b[0m \u001b[1m1s\u001b[0m 6ms/step - Precision: 0.5921 - Recall: 0.7924 - acc: 0.7505 - loss: 0.5081 - val_Precision: 0.5977 - val_Recall: 0.7766 - val_acc: 0.7594 - val_loss: 0.5100\n",
      "Epoch 44/100\n",
      "\u001b[1m82/82\u001b[0m \u001b[32m━━━━━━━━━━━━━━━━━━━━\u001b[0m\u001b[37m\u001b[0m \u001b[1m0s\u001b[0m 5ms/step - Precision: 0.6177 - Recall: 0.7961 - acc: 0.7621 - loss: 0.5104 - val_Precision: 0.5928 - val_Recall: 0.7772 - val_acc: 0.7561 - val_loss: 0.5086\n",
      "Epoch 45/100\n",
      "\u001b[1m82/82\u001b[0m \u001b[32m━━━━━━━━━━━━━━━━━━━━\u001b[0m\u001b[37m\u001b[0m \u001b[1m0s\u001b[0m 5ms/step - Precision: 0.6128 - Recall: 0.7963 - acc: 0.7666 - loss: 0.5013 - val_Precision: 0.5786 - val_Recall: 0.8069 - val_acc: 0.7483 - val_loss: 0.5259\n",
      "Epoch 46/100\n",
      "\u001b[1m82/82\u001b[0m \u001b[32m━━━━━━━━━━━━━━━━━━━━\u001b[0m\u001b[37m\u001b[0m \u001b[1m0s\u001b[0m 6ms/step - Precision: 0.6027 - Recall: 0.7936 - acc: 0.7559 - loss: 0.5048 - val_Precision: 0.6042 - val_Recall: 0.7821 - val_acc: 0.7645 - val_loss: 0.5040\n",
      "Epoch 47/100\n",
      "\u001b[1m82/82\u001b[0m \u001b[32m━━━━━━━━━━━━━━━━━━━━\u001b[0m\u001b[37m\u001b[0m \u001b[1m0s\u001b[0m 5ms/step - Precision: 0.6081 - Recall: 0.7893 - acc: 0.7638 - loss: 0.4987 - val_Precision: 0.5462 - val_Recall: 0.8317 - val_acc: 0.7229 - val_loss: 0.5463\n",
      "Epoch 48/100\n",
      "\u001b[1m82/82\u001b[0m \u001b[32m━━━━━━━━━━━━━━━━━━━━\u001b[0m\u001b[37m\u001b[0m \u001b[1m0s\u001b[0m 5ms/step - Precision: 0.5854 - Recall: 0.8135 - acc: 0.7492 - loss: 0.5064 - val_Precision: 0.5686 - val_Recall: 0.8034 - val_acc: 0.7400 - val_loss: 0.5300\n",
      "Epoch 49/100\n",
      "\u001b[1m82/82\u001b[0m \u001b[32m━━━━━━━━━━━━━━━━━━━━\u001b[0m\u001b[37m\u001b[0m \u001b[1m0s\u001b[0m 5ms/step - Precision: 0.5952 - Recall: 0.7843 - acc: 0.7509 - loss: 0.5152 - val_Precision: 0.5834 - val_Recall: 0.7938 - val_acc: 0.7507 - val_loss: 0.5173\n",
      "Epoch 50/100\n",
      "\u001b[1m82/82\u001b[0m \u001b[32m━━━━━━━━━━━━━━━━━━━━\u001b[0m\u001b[37m\u001b[0m \u001b[1m0s\u001b[0m 5ms/step - Precision: 0.5847 - Recall: 0.7908 - acc: 0.7505 - loss: 0.5110 - val_Precision: 0.5925 - val_Recall: 0.7931 - val_acc: 0.7574 - val_loss: 0.5206\n",
      "Epoch 51/100\n",
      "\u001b[1m82/82\u001b[0m \u001b[32m━━━━━━━━━━━━━━━━━━━━\u001b[0m\u001b[37m\u001b[0m \u001b[1m0s\u001b[0m 5ms/step - Precision: 0.6033 - Recall: 0.7912 - acc: 0.7581 - loss: 0.5045 - val_Precision: 0.6020 - val_Recall: 0.7731 - val_acc: 0.7621 - val_loss: 0.5017\n",
      "Epoch 52/100\n",
      "\u001b[1m82/82\u001b[0m \u001b[32m━━━━━━━━━━━━━━━━━━━━\u001b[0m\u001b[37m\u001b[0m \u001b[1m1s\u001b[0m 6ms/step - Precision: 0.6145 - Recall: 0.7890 - acc: 0.7598 - loss: 0.5085 - val_Precision: 0.5822 - val_Recall: 0.7966 - val_acc: 0.7501 - val_loss: 0.5168\n",
      "Epoch 53/100\n",
      "\u001b[1m82/82\u001b[0m \u001b[32m━━━━━━━━━━━━━━━━━━━━\u001b[0m\u001b[37m\u001b[0m \u001b[1m0s\u001b[0m 5ms/step - Precision: 0.5925 - Recall: 0.7834 - acc: 0.7578 - loss: 0.5092 - val_Precision: 0.5702 - val_Recall: 0.8124 - val_acc: 0.7421 - val_loss: 0.5195\n",
      "Epoch 54/100\n",
      "\u001b[1m82/82\u001b[0m \u001b[32m━━━━━━━━━━━━━━━━━━━━\u001b[0m\u001b[37m\u001b[0m \u001b[1m1s\u001b[0m 7ms/step - Precision: 0.5936 - Recall: 0.7921 - acc: 0.7472 - loss: 0.5134 - val_Precision: 0.5800 - val_Recall: 0.8021 - val_acc: 0.7489 - val_loss: 0.5290\n",
      "Epoch 55/100\n",
      "\u001b[1m82/82\u001b[0m \u001b[32m━━━━━━━━━━━━━━━━━━━━\u001b[0m\u001b[37m\u001b[0m \u001b[1m1s\u001b[0m 6ms/step - Precision: 0.6069 - Recall: 0.7959 - acc: 0.7605 - loss: 0.5053 - val_Precision: 0.5684 - val_Recall: 0.8083 - val_acc: 0.7403 - val_loss: 0.5396\n",
      "Epoch 56/100\n",
      "\u001b[1m82/82\u001b[0m \u001b[32m━━━━━━━━━━━━━━━━━━━━\u001b[0m\u001b[37m\u001b[0m \u001b[1m0s\u001b[0m 5ms/step - Precision: 0.5990 - Recall: 0.8102 - acc: 0.7565 - loss: 0.5071 - val_Precision: 0.6010 - val_Recall: 0.7738 - val_acc: 0.7614 - val_loss: 0.5079\n",
      "Epoch 57/100\n",
      "\u001b[1m82/82\u001b[0m \u001b[32m━━━━━━━━━━━━━━━━━━━━\u001b[0m\u001b[37m\u001b[0m \u001b[1m0s\u001b[0m 5ms/step - Precision: 0.6028 - Recall: 0.8017 - acc: 0.7558 - loss: 0.5078 - val_Precision: 0.5829 - val_Recall: 0.7979 - val_acc: 0.7507 - val_loss: 0.5149\n",
      "Epoch 58/100\n",
      "\u001b[1m82/82\u001b[0m \u001b[32m━━━━━━━━━━━━━━━━━━━━\u001b[0m\u001b[37m\u001b[0m \u001b[1m1s\u001b[0m 6ms/step - Precision: 0.5983 - Recall: 0.7832 - acc: 0.7553 - loss: 0.5092 - val_Precision: 0.5855 - val_Recall: 0.7938 - val_acc: 0.7523 - val_loss: 0.5106\n",
      "Epoch 59/100\n",
      "\u001b[1m82/82\u001b[0m \u001b[32m━━━━━━━━━━━━━━━━━━━━\u001b[0m\u001b[37m\u001b[0m \u001b[1m1s\u001b[0m 6ms/step - Precision: 0.6022 - Recall: 0.7996 - acc: 0.7523 - loss: 0.5100 - val_Precision: 0.5905 - val_Recall: 0.7855 - val_acc: 0.7552 - val_loss: 0.5338\n",
      "Epoch 60/100\n",
      "\u001b[1m82/82\u001b[0m \u001b[32m━━━━━━━━━━━━━━━━━━━━\u001b[0m\u001b[37m\u001b[0m \u001b[1m1s\u001b[0m 6ms/step - Precision: 0.6010 - Recall: 0.7779 - acc: 0.7553 - loss: 0.5181 - val_Precision: 0.5827 - val_Recall: 0.7993 - val_acc: 0.7507 - val_loss: 0.5226\n",
      "Epoch 61/100\n",
      "\u001b[1m82/82\u001b[0m \u001b[32m━━━━━━━━━━━━━━━━━━━━\u001b[0m\u001b[37m\u001b[0m \u001b[1m0s\u001b[0m 5ms/step - Precision: 0.6050 - Recall: 0.7895 - acc: 0.7588 - loss: 0.5126 - val_Precision: 0.5650 - val_Recall: 0.8152 - val_acc: 0.7380 - val_loss: 0.5406\n",
      "Epoch 62/100\n",
      "\u001b[1m82/82\u001b[0m \u001b[32m━━━━━━━━━━━━━━━━━━━━\u001b[0m\u001b[37m\u001b[0m \u001b[1m1s\u001b[0m 6ms/step - Precision: 0.6015 - Recall: 0.7985 - acc: 0.7561 - loss: 0.5055 - val_Precision: 0.6015 - val_Recall: 0.7745 - val_acc: 0.7618 - val_loss: 0.5012\n",
      "Epoch 63/100\n",
      "\u001b[1m82/82\u001b[0m \u001b[32m━━━━━━━━━━━━━━━━━━━━\u001b[0m\u001b[37m\u001b[0m \u001b[1m0s\u001b[0m 6ms/step - Precision: 0.6056 - Recall: 0.7885 - acc: 0.7508 - loss: 0.5195 - val_Precision: 0.5720 - val_Recall: 0.8186 - val_acc: 0.7441 - val_loss: 0.5282\n",
      "Epoch 64/100\n",
      "\u001b[1m82/82\u001b[0m \u001b[32m━━━━━━━━━━━━━━━━━━━━\u001b[0m\u001b[37m\u001b[0m \u001b[1m0s\u001b[0m 5ms/step - Precision: 0.5986 - Recall: 0.7916 - acc: 0.7514 - loss: 0.5143 - val_Precision: 0.5798 - val_Recall: 0.8069 - val_acc: 0.7492 - val_loss: 0.5216\n",
      "Epoch 65/100\n",
      "\u001b[1m82/82\u001b[0m \u001b[32m━━━━━━━━━━━━━━━━━━━━\u001b[0m\u001b[37m\u001b[0m \u001b[1m0s\u001b[0m 5ms/step - Precision: 0.5990 - Recall: 0.7885 - acc: 0.7524 - loss: 0.5069 - val_Precision: 0.5932 - val_Recall: 0.7834 - val_acc: 0.7569 - val_loss: 0.5047\n",
      "Epoch 66/100\n",
      "\u001b[1m82/82\u001b[0m \u001b[32m━━━━━━━━━━━━━━━━━━━━\u001b[0m\u001b[37m\u001b[0m \u001b[1m0s\u001b[0m 5ms/step - Precision: 0.6081 - Recall: 0.7936 - acc: 0.7596 - loss: 0.5065 - val_Precision: 0.6010 - val_Recall: 0.7759 - val_acc: 0.7616 - val_loss: 0.5041\n",
      "Epoch 67/100\n",
      "\u001b[1m82/82\u001b[0m \u001b[32m━━━━━━━━━━━━━━━━━━━━\u001b[0m\u001b[37m\u001b[0m \u001b[1m0s\u001b[0m 5ms/step - Precision: 0.5955 - Recall: 0.7894 - acc: 0.7497 - loss: 0.5156 - val_Precision: 0.5787 - val_Recall: 0.7938 - val_acc: 0.7472 - val_loss: 0.5271\n",
      "Epoch 68/100\n",
      "\u001b[1m82/82\u001b[0m \u001b[32m━━━━━━━━━━━━━━━━━━━━\u001b[0m\u001b[37m\u001b[0m \u001b[1m0s\u001b[0m 5ms/step - Precision: 0.5962 - Recall: 0.7850 - acc: 0.7492 - loss: 0.5096 - val_Precision: 0.5948 - val_Recall: 0.7917 - val_acc: 0.7590 - val_loss: 0.5169\n",
      "Epoch 69/100\n",
      "\u001b[1m82/82\u001b[0m \u001b[32m━━━━━━━━━━━━━━━━━━━━\u001b[0m\u001b[37m\u001b[0m \u001b[1m0s\u001b[0m 5ms/step - Precision: 0.6078 - Recall: 0.7878 - acc: 0.7587 - loss: 0.5022 - val_Precision: 0.5787 - val_Recall: 0.8014 - val_acc: 0.7478 - val_loss: 0.5197\n",
      "Epoch 70/100\n",
      "\u001b[1m82/82\u001b[0m \u001b[32m━━━━━━━━━━━━━━━━━━━━\u001b[0m\u001b[37m\u001b[0m \u001b[1m0s\u001b[0m 5ms/step - Precision: 0.6039 - Recall: 0.8019 - acc: 0.7577 - loss: 0.5068 - val_Precision: 0.5760 - val_Recall: 0.8048 - val_acc: 0.7461 - val_loss: 0.5132\n",
      "Epoch 71/100\n",
      "\u001b[1m82/82\u001b[0m \u001b[32m━━━━━━━━━━━━━━━━━━━━\u001b[0m\u001b[37m\u001b[0m \u001b[1m0s\u001b[0m 6ms/step - Precision: 0.6069 - Recall: 0.8051 - acc: 0.7590 - loss: 0.5073 - val_Precision: 0.5849 - val_Recall: 0.7938 - val_acc: 0.7518 - val_loss: 0.5091\n",
      "Epoch 72/100\n",
      "\u001b[1m82/82\u001b[0m \u001b[32m━━━━━━━━━━━━━━━━━━━━\u001b[0m\u001b[37m\u001b[0m \u001b[1m0s\u001b[0m 5ms/step - Precision: 0.5903 - Recall: 0.7851 - acc: 0.7470 - loss: 0.5144 - val_Precision: 0.5792 - val_Recall: 0.8041 - val_acc: 0.7485 - val_loss: 0.5382\n",
      "Epoch 73/100\n",
      "\u001b[1m82/82\u001b[0m \u001b[32m━━━━━━━━━━━━━━━━━━━━\u001b[0m\u001b[37m\u001b[0m \u001b[1m0s\u001b[0m 5ms/step - Precision: 0.6168 - Recall: 0.7902 - acc: 0.7634 - loss: 0.5052 - val_Precision: 0.5674 - val_Recall: 0.8124 - val_acc: 0.7398 - val_loss: 0.5147\n",
      "Epoch 74/100\n",
      "\u001b[1m82/82\u001b[0m \u001b[32m━━━━━━━━━━━━━━━━━━━━\u001b[0m\u001b[37m\u001b[0m \u001b[1m0s\u001b[0m 5ms/step - Precision: 0.5946 - Recall: 0.7980 - acc: 0.7511 - loss: 0.5122 - val_Precision: 0.5559 - val_Recall: 0.8297 - val_acc: 0.7314 - val_loss: 0.5441\n",
      "Epoch 75/100\n",
      "\u001b[1m82/82\u001b[0m \u001b[32m━━━━━━━━━━━━━━━━━━━━\u001b[0m\u001b[37m\u001b[0m \u001b[1m0s\u001b[0m 5ms/step - Precision: 0.5836 - Recall: 0.7894 - acc: 0.7439 - loss: 0.5169 - val_Precision: 0.5830 - val_Recall: 0.8021 - val_acc: 0.7512 - val_loss: 0.5163\n",
      "Epoch 76/100\n",
      "\u001b[1m82/82\u001b[0m \u001b[32m━━━━━━━━━━━━━━━━━━━━\u001b[0m\u001b[37m\u001b[0m \u001b[1m0s\u001b[0m 6ms/step - Precision: 0.6018 - Recall: 0.8053 - acc: 0.7564 - loss: 0.5064 - val_Precision: 0.5740 - val_Recall: 0.8103 - val_acc: 0.7449 - val_loss: 0.5220\n",
      "Epoch 77/100\n",
      "\u001b[1m82/82\u001b[0m \u001b[32m━━━━━━━━━━━━━━━━━━━━\u001b[0m\u001b[37m\u001b[0m \u001b[1m0s\u001b[0m 6ms/step - Precision: 0.5965 - Recall: 0.7882 - acc: 0.7513 - loss: 0.5067 - val_Precision: 0.5982 - val_Recall: 0.7752 - val_acc: 0.7596 - val_loss: 0.5082\n",
      "Epoch 78/100\n",
      "\u001b[1m82/82\u001b[0m \u001b[32m━━━━━━━━━━━━━━━━━━━━\u001b[0m\u001b[37m\u001b[0m \u001b[1m0s\u001b[0m 5ms/step - Precision: 0.6060 - Recall: 0.7885 - acc: 0.7575 - loss: 0.5089 - val_Precision: 0.5958 - val_Recall: 0.7848 - val_acc: 0.7590 - val_loss: 0.5025\n",
      "Epoch 79/100\n",
      "\u001b[1m82/82\u001b[0m \u001b[32m━━━━━━━━━━━━━━━━━━━━\u001b[0m\u001b[37m\u001b[0m \u001b[1m0s\u001b[0m 5ms/step - Precision: 0.6001 - Recall: 0.7989 - acc: 0.7494 - loss: 0.5175 - val_Precision: 0.6023 - val_Recall: 0.7855 - val_acc: 0.7636 - val_loss: 0.5087\n",
      "Epoch 80/100\n",
      "\u001b[1m82/82\u001b[0m \u001b[32m━━━━━━━━━━━━━━━━━━━━\u001b[0m\u001b[37m\u001b[0m \u001b[1m0s\u001b[0m 5ms/step - Precision: 0.6063 - Recall: 0.7903 - acc: 0.7569 - loss: 0.5107 - val_Precision: 0.5889 - val_Recall: 0.7883 - val_acc: 0.7543 - val_loss: 0.5114\n",
      "Epoch 81/100\n",
      "\u001b[1m82/82\u001b[0m \u001b[32m━━━━━━━━━━━━━━━━━━━━\u001b[0m\u001b[37m\u001b[0m \u001b[1m0s\u001b[0m 5ms/step - Precision: 0.5981 - Recall: 0.8066 - acc: 0.7560 - loss: 0.4975 - val_Precision: 0.5835 - val_Recall: 0.7972 - val_acc: 0.7512 - val_loss: 0.5294\n",
      "Epoch 82/100\n",
      "\u001b[1m82/82\u001b[0m \u001b[32m━━━━━━━━━━━━━━━━━━━━\u001b[0m\u001b[37m\u001b[0m \u001b[1m0s\u001b[0m 6ms/step - Precision: 0.6117 - Recall: 0.7873 - acc: 0.7597 - loss: 0.5067 - val_Precision: 0.5891 - val_Recall: 0.7979 - val_acc: 0.7554 - val_loss: 0.5186\n",
      "Epoch 83/100\n",
      "\u001b[1m82/82\u001b[0m \u001b[32m━━━━━━━━━━━━━━━━━━━━\u001b[0m\u001b[37m\u001b[0m \u001b[1m0s\u001b[0m 5ms/step - Precision: 0.6013 - Recall: 0.7980 - acc: 0.7540 - loss: 0.5111 - val_Precision: 0.5883 - val_Recall: 0.7993 - val_acc: 0.7549 - val_loss: 0.5256\n",
      "Epoch 84/100\n",
      "\u001b[1m82/82\u001b[0m \u001b[32m━━━━━━━━━━━━━━━━━━━━\u001b[0m\u001b[37m\u001b[0m \u001b[1m0s\u001b[0m 5ms/step - Precision: 0.6046 - Recall: 0.7873 - acc: 0.7538 - loss: 0.5112 - val_Precision: 0.5849 - val_Recall: 0.7910 - val_acc: 0.7516 - val_loss: 0.5244\n",
      "Epoch 85/100\n",
      "\u001b[1m82/82\u001b[0m \u001b[32m━━━━━━━━━━━━━━━━━━━━\u001b[0m\u001b[37m\u001b[0m \u001b[1m0s\u001b[0m 6ms/step - Precision: 0.6163 - Recall: 0.7865 - acc: 0.7606 - loss: 0.5110 - val_Precision: 0.5962 - val_Recall: 0.7862 - val_acc: 0.7594 - val_loss: 0.5052\n",
      "Epoch 86/100\n",
      "\u001b[1m82/82\u001b[0m \u001b[32m━━━━━━━━━━━━━━━━━━━━\u001b[0m\u001b[37m\u001b[0m \u001b[1m0s\u001b[0m 5ms/step - Precision: 0.6066 - Recall: 0.7745 - acc: 0.7565 - loss: 0.5093 - val_Precision: 0.5916 - val_Recall: 0.7903 - val_acc: 0.7565 - val_loss: 0.5195\n",
      "Epoch 87/100\n",
      "\u001b[1m82/82\u001b[0m \u001b[32m━━━━━━━━━━━━━━━━━━━━\u001b[0m\u001b[37m\u001b[0m \u001b[1m0s\u001b[0m 5ms/step - Precision: 0.5923 - Recall: 0.7828 - acc: 0.7552 - loss: 0.5091 - val_Precision: 0.5948 - val_Recall: 0.7855 - val_acc: 0.7583 - val_loss: 0.5001\n",
      "Epoch 88/100\n",
      "\u001b[1m82/82\u001b[0m \u001b[32m━━━━━━━━━━━━━━━━━━━━\u001b[0m\u001b[37m\u001b[0m \u001b[1m0s\u001b[0m 5ms/step - Precision: 0.6060 - Recall: 0.7870 - acc: 0.7593 - loss: 0.5065 - val_Precision: 0.5838 - val_Recall: 0.8000 - val_acc: 0.7516 - val_loss: 0.5239\n",
      "Epoch 89/100\n",
      "\u001b[1m78/82\u001b[0m \u001b[32m━━━━━━━━━━━━━━━━━━━\u001b[0m\u001b[37m━\u001b[0m \u001b[1m0s\u001b[0m 3ms/step - Precision: 0.6163 - Recall: 0.7950 - acc: 0.7629 - loss: 0.5048"
     ]
    },
    {
     "name": "stderr",
     "output_type": "stream",
     "text": [
      "WARNING:absl:You are saving your model as an HDF5 file via `model.save()` or `keras.saving.save_model(model)`. This file format is considered legacy. We recommend using instead the native Keras format, e.g. `model.save('my_model.keras')` or `keras.saving.save_model(model, 'my_model.keras')`. \n"
     ]
    },
    {
     "name": "stdout",
     "output_type": "stream",
     "text": [
      "\u001b[1m82/82\u001b[0m \u001b[32m━━━━━━━━━━━━━━━━━━━━\u001b[0m\u001b[37m\u001b[0m \u001b[1m0s\u001b[0m 6ms/step - Precision: 0.6156 - Recall: 0.7946 - acc: 0.7624 - loss: 0.5050 - val_Precision: 0.6034 - val_Recall: 0.7648 - val_acc: 0.7621 - val_loss: 0.4946\n",
      "Epoch 90/100\n",
      "\u001b[1m82/82\u001b[0m \u001b[32m━━━━━━━━━━━━━━━━━━━━\u001b[0m\u001b[37m\u001b[0m \u001b[1m0s\u001b[0m 5ms/step - Precision: 0.6042 - Recall: 0.7788 - acc: 0.7543 - loss: 0.5136 - val_Precision: 0.6018 - val_Recall: 0.7828 - val_acc: 0.7630 - val_loss: 0.5085\n",
      "Epoch 91/100\n",
      "\u001b[1m82/82\u001b[0m \u001b[32m━━━━━━━━━━━━━━━━━━━━\u001b[0m\u001b[37m\u001b[0m \u001b[1m0s\u001b[0m 5ms/step - Precision: 0.6150 - Recall: 0.7868 - acc: 0.7608 - loss: 0.5115 - val_Precision: 0.5861 - val_Recall: 0.7931 - val_acc: 0.7527 - val_loss: 0.5178\n",
      "Epoch 92/100\n",
      "\u001b[1m82/82\u001b[0m \u001b[32m━━━━━━━━━━━━━━━━━━━━\u001b[0m\u001b[37m\u001b[0m \u001b[1m0s\u001b[0m 5ms/step - Precision: 0.6012 - Recall: 0.8004 - acc: 0.7562 - loss: 0.5104 - val_Precision: 0.5765 - val_Recall: 0.8028 - val_acc: 0.7463 - val_loss: 0.5298\n",
      "Epoch 93/100\n",
      "\u001b[1m82/82\u001b[0m \u001b[32m━━━━━━━━━━━━━━━━━━━━\u001b[0m\u001b[37m\u001b[0m \u001b[1m0s\u001b[0m 5ms/step - Precision: 0.6011 - Recall: 0.7929 - acc: 0.7566 - loss: 0.5106 - val_Precision: 0.5957 - val_Recall: 0.7876 - val_acc: 0.7592 - val_loss: 0.5210\n",
      "Epoch 94/100\n",
      "\u001b[1m82/82\u001b[0m \u001b[32m━━━━━━━━━━━━━━━━━━━━\u001b[0m\u001b[37m\u001b[0m \u001b[1m0s\u001b[0m 5ms/step - Precision: 0.6059 - Recall: 0.7988 - acc: 0.7635 - loss: 0.5108 - val_Precision: 0.5764 - val_Recall: 0.8034 - val_acc: 0.7463 - val_loss: 0.5364\n",
      "Epoch 95/100\n",
      "\u001b[1m82/82\u001b[0m \u001b[32m━━━━━━━━━━━━━━━━━━━━\u001b[0m\u001b[37m\u001b[0m \u001b[1m0s\u001b[0m 6ms/step - Precision: 0.6057 - Recall: 0.7869 - acc: 0.7561 - loss: 0.5076 - val_Precision: 0.6136 - val_Recall: 0.7655 - val_acc: 0.7690 - val_loss: 0.4989\n",
      "Epoch 96/100\n",
      "\u001b[1m82/82\u001b[0m \u001b[32m━━━━━━━━━━━━━━━━━━━━\u001b[0m\u001b[37m\u001b[0m \u001b[1m0s\u001b[0m 5ms/step - Precision: 0.6116 - Recall: 0.7835 - acc: 0.7612 - loss: 0.5073 - val_Precision: 0.5690 - val_Recall: 0.8103 - val_acc: 0.7409 - val_loss: 0.5427\n",
      "Epoch 97/100\n",
      "\u001b[1m82/82\u001b[0m \u001b[32m━━━━━━━━━━━━━━━━━━━━\u001b[0m\u001b[37m\u001b[0m \u001b[1m0s\u001b[0m 5ms/step - Precision: 0.6041 - Recall: 0.7961 - acc: 0.7549 - loss: 0.5122 - val_Precision: 0.6052 - val_Recall: 0.7738 - val_acc: 0.7643 - val_loss: 0.5044\n",
      "Epoch 98/100\n",
      "\u001b[1m82/82\u001b[0m \u001b[32m━━━━━━━━━━━━━━━━━━━━\u001b[0m\u001b[37m\u001b[0m \u001b[1m0s\u001b[0m 6ms/step - Precision: 0.6041 - Recall: 0.7777 - acc: 0.7587 - loss: 0.5122 - val_Precision: 0.5948 - val_Recall: 0.7897 - val_acc: 0.7587 - val_loss: 0.5094\n",
      "Epoch 99/100\n",
      "\u001b[1m82/82\u001b[0m \u001b[32m━━━━━━━━━━━━━━━━━━━━\u001b[0m\u001b[37m\u001b[0m \u001b[1m0s\u001b[0m 5ms/step - Precision: 0.6104 - Recall: 0.7978 - acc: 0.7648 - loss: 0.4957 - val_Precision: 0.5568 - val_Recall: 0.8283 - val_acc: 0.7320 - val_loss: 0.5491\n",
      "Epoch 100/100\n",
      "\u001b[1m82/82\u001b[0m \u001b[32m━━━━━━━━━━━━━━━━━━━━\u001b[0m\u001b[37m\u001b[0m \u001b[1m0s\u001b[0m 6ms/step - Precision: 0.6002 - Recall: 0.7960 - acc: 0.7516 - loss: 0.5135 - val_Precision: 0.6022 - val_Recall: 0.7821 - val_acc: 0.7632 - val_loss: 0.5036\n"
     ]
    },
    {
     "name": "stderr",
     "output_type": "stream",
     "text": [
      "2025/05/05 11:14:11 WARNING mlflow.tensorflow: Failed to infer model signature: could not sample data to infer model signature: Cannot log input example or model signature for input with type <class 'pandas.core.frame.DataFrame'>. TensorFlow Keras autologging can only log input examples and model signatures for the following input types: numpy.ndarray, dict[string -> numpy.ndarray], tensorflow.keras.utils.Sequence, and tensorflow.data.Dataset (TensorFlow >= 2.1.0 required)\n",
      "2025/05/05 11:14:11 WARNING mlflow.tensorflow: You are saving a TensorFlow Core model or Keras model without a signature. Inference with mlflow.pyfunc.spark_udf() will not work unless the model's pyfunc representation accepts pandas DataFrames as inference inputs.\n",
      "2025/05/05 11:14:17 WARNING mlflow.models.model: Model logged without a signature and input example. Please set `input_example` parameter when logging the model to auto infer the model signature.\n",
      "Registered model 'DNN-model' already exists. Creating a new version of this model...\n",
      "Created version '17' of model 'DNN-model'.\n"
     ]
    },
    {
     "name": "stdout",
     "output_type": "stream",
     "text": [
      "\u001b[1m141/141\u001b[0m \u001b[32m━━━━━━━━━━━━━━━━━━━━\u001b[0m\u001b[37m\u001b[0m \u001b[1m0s\u001b[0m 1ms/step  \n",
      "{'0': {'precision': 0.8791124713083397, 'recall': 0.7541844437151296, 'f1-score': 0.8118706942236354, 'support': 3047.0}, '1': {'precision': 0.6022304832713755, 'recall': 0.7820689655172414, 'f1-score': 0.6804680468046804, 'support': 1450.0}, 'accuracy': 0.7631754503002002, 'macro avg': {'precision': 0.7406714772898576, 'recall': 0.7681267046161855, 'f1-score': 0.7461693705141579, 'support': 4497.0}, 'weighted avg': {'precision': 0.7898354237980888, 'recall': 0.7631754503002002, 'f1-score': 0.7695015951003344, 'support': 4497.0}}\n",
      "\u001b[1m141/141\u001b[0m \u001b[32m━━━━━━━━━━━━━━━━━━━━\u001b[0m\u001b[37m\u001b[0m \u001b[1m0s\u001b[0m 1ms/step - Precision: 0.6063 - Recall: 0.7525 - acc: 0.7606 - loss: 0.5081\n"
     ]
    }
   ],
   "source": [
    "run_name = Tryname + '_DNN'\n",
    "\n",
    "with mlflow.start_run(run_name='DNN'):#mlflow\n",
    "    mlflow.tensorflow.autolog()#mlflow    \n",
    "\n",
    "    n_input = X_train.shape[1]\n",
    "\n",
    "    model = Sequential()\n",
    "    model.add(BatchNormalization())\n",
    "    model.add(Dense(256, input_shape=(n_input,), activation='relu',\n",
    "                    kernel_regularizer=regularizers.l2(0.001)))  # L2\n",
    "    model.add(Dropout(0.3))  # 增加 Dropout\n",
    "    model.add(Dense(512, activation='relu', kernel_regularizer=regularizers.l2(0.001)))\n",
    "    model.add(Dropout(0.3))\n",
    "    model.add(Dense(128, activation='relu', kernel_regularizer=regularizers.l2(0.001)))\n",
    "    model.add(Dropout(0.3))\n",
    "    model.add(Dense(1, activation='sigmoid'))\n",
    "\n",
    "\n",
    "    # 模型optimizer 和 learning rate\n",
    "\n",
    "\n",
    "    initial_lr = 0.001\n",
    "    from tensorflow.keras.optimizers import schedules\n",
    "    lr_schedule = schedules.ExponentialDecay(\n",
    "        initial_learning_rate=initial_lr,\n",
    "        decay_steps=100000,\n",
    "        decay_rate=0.96,\n",
    "        staircase=True)\n",
    "    from tensorflow.keras.optimizers import Adam\n",
    "    optimizer = Adam(learning_rate=lr_schedule)\n",
    "    model.summary()\n",
    "\n",
    "    mlflow.log_param(\"loss\", 'bce') #mlflow\n",
    "    model.compile(loss='bce', optimizer=optimizer, metrics=['acc', 'Recall', 'Precision'])\n",
    "\n",
    "    # EarlyStopping: 根據 val_loss 停止訓練\n",
    "    early_stop = EarlyStopping(monitor='val_loss', patience=10, verbose=1, restore_best_weights=True)\n",
    "    # ModelCheckpoint: 儲存最佳模型\n",
    "    from tensorflow.keras.callbacks import ModelCheckpoint\n",
    "    checkpoint = ModelCheckpoint('./models_temp/DNN_best_model.h5', monitor='val_loss', save_best_only=True, verbose=1)\n",
    "\n",
    "    if Weight_Balance == 1:\n",
    "        history = model.fit(X_train, y_train, validation_data=(X_test, y_test), epochs=100, batch_size=128, verbose=1, class_weight=class_weight_dict)\n",
    "    else:\n",
    "        history = model.fit(X_train, y_train, validation_data=(X_test, y_test), epochs=100, batch_size=128, verbose=1)\n",
    "\n",
    "    train_loss, train_acc, train_recall, train_precision = model.evaluate(X_train, y_train, verbose=0)\n",
    "    test_loss, test_acc, test_recall, test_precision = model.evaluate(X_test, y_test, verbose=0)\n",
    "    mlflow.log_metric(\"Train score\", train_acc)#mlflow\n",
    "    mlflow.log_metric(\"Test score\", test_acc)#mlflow\n",
    "    #註冊模型\n",
    "    run_id = mlflow.active_run().info.run_id#mlflow\n",
    "    result = mlflow.register_model(\n",
    "        model_uri=f\"runs:/{run_id}/model\",  # 你要用 mlflow.log_model 存的位置\n",
    "        name=\"DNN-model\"              # 註冊後的 model name\n",
    "    )\n",
    "    #confusion matrix\n",
    "    from sklearn.metrics import classification_report\n",
    "    y_pred = model.predict(X_test)\n",
    "    y_pred_class = (y_pred > 0.5).astype(int) \n",
    "    report_dict = classification_report(y_test, y_pred_class, output_dict=True)\n",
    "    print(report_dict)\n",
    "    for label, metrics in report_dict.items():\n",
    "        if isinstance(metrics, dict):  # 各分類或 avg 區段\n",
    "            for metric_name, value in metrics.items():\n",
    "                metric_key = f\"{label}_{metric_name}\".replace(\" \", \"_\")  # 去除空格\n",
    "                mlflow.log_metric(metric_key, value)\n",
    "        elif isinstance(metrics, (int, float)):  # accuracy 是 float\n",
    "            mlflow.log_metric(label, metrics)\n",
    "    \n",
    "    model.evaluate(X_test, y_test)"
   ]
  },
  {
   "cell_type": "markdown",
   "id": "e95b5e33",
   "metadata": {},
   "source": [
    "### 結果分析：\n",
    "- Recall 提升了不少\n",
    "\n",
    "    - Recall（靈敏度）高達 ~82%，這對於偵測火災（正類）是好事，表示較少漏判火災發生。\n",
    "\n",
    "- Precision 稍低，但在接受範圍內\n",
    "\n",
    "    - Precision 約 57%，代表有一些假陽性，但 Recall 更重要時（例如防災應用），這是可以接受的 trade-off。\n",
    "\n",
    "- class_weight 有明顯效果\n",
    "\n",
    "\n"
   ]
  },
  {
   "cell_type": "markdown",
   "id": "1b93e2b5",
   "metadata": {},
   "source": [
    "<hr>\n",
    "\n",
    "## Attention mechanism\n",
    "\n",
    "<h5>\n",
    "\n",
    "- 本模型為結合注意力機制的深度神經網路，設計用於處理二元分類任務。\n",
    "\n",
    "- 模型架構包含全連接層與多頭注意力層，強化特徵間的關聯學習能力。\n",
    "\n",
    "- 輸入特徵先經 Batch Normalization 與 Dense 處理後，透過 Reshape 轉為序列格式，接入 Multi-Head Attention 抽取關鍵特徵。\n",
    "\n",
    "</h5>\n"
   ]
  },
  {
   "cell_type": "code",
   "execution_count": 28,
   "id": "1069101e",
   "metadata": {},
   "outputs": [],
   "source": [
    "X = df.drop(['FIRE_START_DAY'], axis=1)\n",
    "y = df['FIRE_START_DAY']\n",
    "X = X.fillna(X.median())\n",
    "assert X.isna().sum().sum() == 0, \"There are still missing values in the dataset.\"\n",
    "X_train, X_test, y_train, y_test = train_test_split(X, y, random_state=42, test_size=0.3)"
   ]
  },
  {
   "cell_type": "code",
   "execution_count": null,
   "id": "ea275db2",
   "metadata": {},
   "outputs": [
    {
     "data": {
      "text/html": [
       "<pre style=\"white-space:pre;overflow-x:auto;line-height:normal;font-family:Menlo,'DejaVu Sans Mono',consolas,'Courier New',monospace\"><span style=\"font-weight: bold\">Model: \"functional_1\"</span>\n",
       "</pre>\n"
      ],
      "text/plain": [
       "\u001b[1mModel: \"functional_1\"\u001b[0m\n"
      ]
     },
     "metadata": {},
     "output_type": "display_data"
    },
    {
     "data": {
      "text/html": [
       "<pre style=\"white-space:pre;overflow-x:auto;line-height:normal;font-family:Menlo,'DejaVu Sans Mono',consolas,'Courier New',monospace\">┏━━━━━━━━━━━━━━━━━━━━━┳━━━━━━━━━━━━━━━━━━━┳━━━━━━━━━━━━┳━━━━━━━━━━━━━━━━━━━┓\n",
       "┃<span style=\"font-weight: bold\"> Layer (type)        </span>┃<span style=\"font-weight: bold\"> Output Shape      </span>┃<span style=\"font-weight: bold\">    Param # </span>┃<span style=\"font-weight: bold\"> Connected to      </span>┃\n",
       "┡━━━━━━━━━━━━━━━━━━━━━╇━━━━━━━━━━━━━━━━━━━╇━━━━━━━━━━━━╇━━━━━━━━━━━━━━━━━━━┩\n",
       "│ input_layer_1       │ (<span style=\"color: #00d7ff; text-decoration-color: #00d7ff\">None</span>, <span style=\"color: #00af00; text-decoration-color: #00af00\">20</span>)        │          <span style=\"color: #00af00; text-decoration-color: #00af00\">0</span> │ -                 │\n",
       "│ (<span style=\"color: #0087ff; text-decoration-color: #0087ff\">InputLayer</span>)        │                   │            │                   │\n",
       "├─────────────────────┼───────────────────┼────────────┼───────────────────┤\n",
       "│ batch_normalizatio… │ (<span style=\"color: #00d7ff; text-decoration-color: #00d7ff\">None</span>, <span style=\"color: #00af00; text-decoration-color: #00af00\">20</span>)        │         <span style=\"color: #00af00; text-decoration-color: #00af00\">80</span> │ input_layer_1[<span style=\"color: #00af00; text-decoration-color: #00af00\">0</span>]… │\n",
       "│ (<span style=\"color: #0087ff; text-decoration-color: #0087ff\">BatchNormalizatio…</span> │                   │            │                   │\n",
       "├─────────────────────┼───────────────────┼────────────┼───────────────────┤\n",
       "│ dense_4 (<span style=\"color: #0087ff; text-decoration-color: #0087ff\">Dense</span>)     │ (<span style=\"color: #00d7ff; text-decoration-color: #00d7ff\">None</span>, <span style=\"color: #00af00; text-decoration-color: #00af00\">128</span>)       │      <span style=\"color: #00af00; text-decoration-color: #00af00\">2,688</span> │ batch_normalizat… │\n",
       "├─────────────────────┼───────────────────┼────────────┼───────────────────┤\n",
       "│ dropout_3 (<span style=\"color: #0087ff; text-decoration-color: #0087ff\">Dropout</span>) │ (<span style=\"color: #00d7ff; text-decoration-color: #00d7ff\">None</span>, <span style=\"color: #00af00; text-decoration-color: #00af00\">128</span>)       │          <span style=\"color: #00af00; text-decoration-color: #00af00\">0</span> │ dense_4[<span style=\"color: #00af00; text-decoration-color: #00af00\">0</span>][<span style=\"color: #00af00; text-decoration-color: #00af00\">0</span>]     │\n",
       "├─────────────────────┼───────────────────┼────────────┼───────────────────┤\n",
       "│ reshape (<span style=\"color: #0087ff; text-decoration-color: #0087ff\">Reshape</span>)   │ (<span style=\"color: #00d7ff; text-decoration-color: #00d7ff\">None</span>, <span style=\"color: #00af00; text-decoration-color: #00af00\">1</span>, <span style=\"color: #00af00; text-decoration-color: #00af00\">128</span>)    │          <span style=\"color: #00af00; text-decoration-color: #00af00\">0</span> │ dropout_3[<span style=\"color: #00af00; text-decoration-color: #00af00\">0</span>][<span style=\"color: #00af00; text-decoration-color: #00af00\">0</span>]   │\n",
       "├─────────────────────┼───────────────────┼────────────┼───────────────────┤\n",
       "│ multi_head_attenti… │ (<span style=\"color: #00d7ff; text-decoration-color: #00d7ff\">None</span>, <span style=\"color: #00af00; text-decoration-color: #00af00\">1</span>, <span style=\"color: #00af00; text-decoration-color: #00af00\">128</span>)    │     <span style=\"color: #00af00; text-decoration-color: #00af00\">66,048</span> │ reshape[<span style=\"color: #00af00; text-decoration-color: #00af00\">0</span>][<span style=\"color: #00af00; text-decoration-color: #00af00\">0</span>],    │\n",
       "│ (<span style=\"color: #0087ff; text-decoration-color: #0087ff\">MultiHeadAttentio…</span> │                   │            │ reshape[<span style=\"color: #00af00; text-decoration-color: #00af00\">0</span>][<span style=\"color: #00af00; text-decoration-color: #00af00\">0</span>]     │\n",
       "├─────────────────────┼───────────────────┼────────────┼───────────────────┤\n",
       "│ dropout_5 (<span style=\"color: #0087ff; text-decoration-color: #0087ff\">Dropout</span>) │ (<span style=\"color: #00d7ff; text-decoration-color: #00d7ff\">None</span>, <span style=\"color: #00af00; text-decoration-color: #00af00\">1</span>, <span style=\"color: #00af00; text-decoration-color: #00af00\">128</span>)    │          <span style=\"color: #00af00; text-decoration-color: #00af00\">0</span> │ multi_head_atten… │\n",
       "├─────────────────────┼───────────────────┼────────────┼───────────────────┤\n",
       "│ flatten (<span style=\"color: #0087ff; text-decoration-color: #0087ff\">Flatten</span>)   │ (<span style=\"color: #00d7ff; text-decoration-color: #00d7ff\">None</span>, <span style=\"color: #00af00; text-decoration-color: #00af00\">128</span>)       │          <span style=\"color: #00af00; text-decoration-color: #00af00\">0</span> │ dropout_5[<span style=\"color: #00af00; text-decoration-color: #00af00\">0</span>][<span style=\"color: #00af00; text-decoration-color: #00af00\">0</span>]   │\n",
       "├─────────────────────┼───────────────────┼────────────┼───────────────────┤\n",
       "│ dense_5 (<span style=\"color: #0087ff; text-decoration-color: #0087ff\">Dense</span>)     │ (<span style=\"color: #00d7ff; text-decoration-color: #00d7ff\">None</span>, <span style=\"color: #00af00; text-decoration-color: #00af00\">128</span>)       │     <span style=\"color: #00af00; text-decoration-color: #00af00\">16,512</span> │ flatten[<span style=\"color: #00af00; text-decoration-color: #00af00\">0</span>][<span style=\"color: #00af00; text-decoration-color: #00af00\">0</span>]     │\n",
       "├─────────────────────┼───────────────────┼────────────┼───────────────────┤\n",
       "│ dropout_6 (<span style=\"color: #0087ff; text-decoration-color: #0087ff\">Dropout</span>) │ (<span style=\"color: #00d7ff; text-decoration-color: #00d7ff\">None</span>, <span style=\"color: #00af00; text-decoration-color: #00af00\">128</span>)       │          <span style=\"color: #00af00; text-decoration-color: #00af00\">0</span> │ dense_5[<span style=\"color: #00af00; text-decoration-color: #00af00\">0</span>][<span style=\"color: #00af00; text-decoration-color: #00af00\">0</span>]     │\n",
       "├─────────────────────┼───────────────────┼────────────┼───────────────────┤\n",
       "│ dense_6 (<span style=\"color: #0087ff; text-decoration-color: #0087ff\">Dense</span>)     │ (<span style=\"color: #00d7ff; text-decoration-color: #00d7ff\">None</span>, <span style=\"color: #00af00; text-decoration-color: #00af00\">1</span>)         │        <span style=\"color: #00af00; text-decoration-color: #00af00\">129</span> │ dropout_6[<span style=\"color: #00af00; text-decoration-color: #00af00\">0</span>][<span style=\"color: #00af00; text-decoration-color: #00af00\">0</span>]   │\n",
       "└─────────────────────┴───────────────────┴────────────┴───────────────────┘\n",
       "</pre>\n"
      ],
      "text/plain": [
       "┏━━━━━━━━━━━━━━━━━━━━━┳━━━━━━━━━━━━━━━━━━━┳━━━━━━━━━━━━┳━━━━━━━━━━━━━━━━━━━┓\n",
       "┃\u001b[1m \u001b[0m\u001b[1mLayer (type)       \u001b[0m\u001b[1m \u001b[0m┃\u001b[1m \u001b[0m\u001b[1mOutput Shape     \u001b[0m\u001b[1m \u001b[0m┃\u001b[1m \u001b[0m\u001b[1m   Param #\u001b[0m\u001b[1m \u001b[0m┃\u001b[1m \u001b[0m\u001b[1mConnected to     \u001b[0m\u001b[1m \u001b[0m┃\n",
       "┡━━━━━━━━━━━━━━━━━━━━━╇━━━━━━━━━━━━━━━━━━━╇━━━━━━━━━━━━╇━━━━━━━━━━━━━━━━━━━┩\n",
       "│ input_layer_1       │ (\u001b[38;5;45mNone\u001b[0m, \u001b[38;5;34m20\u001b[0m)        │          \u001b[38;5;34m0\u001b[0m │ -                 │\n",
       "│ (\u001b[38;5;33mInputLayer\u001b[0m)        │                   │            │                   │\n",
       "├─────────────────────┼───────────────────┼────────────┼───────────────────┤\n",
       "│ batch_normalizatio… │ (\u001b[38;5;45mNone\u001b[0m, \u001b[38;5;34m20\u001b[0m)        │         \u001b[38;5;34m80\u001b[0m │ input_layer_1[\u001b[38;5;34m0\u001b[0m]… │\n",
       "│ (\u001b[38;5;33mBatchNormalizatio…\u001b[0m │                   │            │                   │\n",
       "├─────────────────────┼───────────────────┼────────────┼───────────────────┤\n",
       "│ dense_4 (\u001b[38;5;33mDense\u001b[0m)     │ (\u001b[38;5;45mNone\u001b[0m, \u001b[38;5;34m128\u001b[0m)       │      \u001b[38;5;34m2,688\u001b[0m │ batch_normalizat… │\n",
       "├─────────────────────┼───────────────────┼────────────┼───────────────────┤\n",
       "│ dropout_3 (\u001b[38;5;33mDropout\u001b[0m) │ (\u001b[38;5;45mNone\u001b[0m, \u001b[38;5;34m128\u001b[0m)       │          \u001b[38;5;34m0\u001b[0m │ dense_4[\u001b[38;5;34m0\u001b[0m][\u001b[38;5;34m0\u001b[0m]     │\n",
       "├─────────────────────┼───────────────────┼────────────┼───────────────────┤\n",
       "│ reshape (\u001b[38;5;33mReshape\u001b[0m)   │ (\u001b[38;5;45mNone\u001b[0m, \u001b[38;5;34m1\u001b[0m, \u001b[38;5;34m128\u001b[0m)    │          \u001b[38;5;34m0\u001b[0m │ dropout_3[\u001b[38;5;34m0\u001b[0m][\u001b[38;5;34m0\u001b[0m]   │\n",
       "├─────────────────────┼───────────────────┼────────────┼───────────────────┤\n",
       "│ multi_head_attenti… │ (\u001b[38;5;45mNone\u001b[0m, \u001b[38;5;34m1\u001b[0m, \u001b[38;5;34m128\u001b[0m)    │     \u001b[38;5;34m66,048\u001b[0m │ reshape[\u001b[38;5;34m0\u001b[0m][\u001b[38;5;34m0\u001b[0m],    │\n",
       "│ (\u001b[38;5;33mMultiHeadAttentio…\u001b[0m │                   │            │ reshape[\u001b[38;5;34m0\u001b[0m][\u001b[38;5;34m0\u001b[0m]     │\n",
       "├─────────────────────┼───────────────────┼────────────┼───────────────────┤\n",
       "│ dropout_5 (\u001b[38;5;33mDropout\u001b[0m) │ (\u001b[38;5;45mNone\u001b[0m, \u001b[38;5;34m1\u001b[0m, \u001b[38;5;34m128\u001b[0m)    │          \u001b[38;5;34m0\u001b[0m │ multi_head_atten… │\n",
       "├─────────────────────┼───────────────────┼────────────┼───────────────────┤\n",
       "│ flatten (\u001b[38;5;33mFlatten\u001b[0m)   │ (\u001b[38;5;45mNone\u001b[0m, \u001b[38;5;34m128\u001b[0m)       │          \u001b[38;5;34m0\u001b[0m │ dropout_5[\u001b[38;5;34m0\u001b[0m][\u001b[38;5;34m0\u001b[0m]   │\n",
       "├─────────────────────┼───────────────────┼────────────┼───────────────────┤\n",
       "│ dense_5 (\u001b[38;5;33mDense\u001b[0m)     │ (\u001b[38;5;45mNone\u001b[0m, \u001b[38;5;34m128\u001b[0m)       │     \u001b[38;5;34m16,512\u001b[0m │ flatten[\u001b[38;5;34m0\u001b[0m][\u001b[38;5;34m0\u001b[0m]     │\n",
       "├─────────────────────┼───────────────────┼────────────┼───────────────────┤\n",
       "│ dropout_6 (\u001b[38;5;33mDropout\u001b[0m) │ (\u001b[38;5;45mNone\u001b[0m, \u001b[38;5;34m128\u001b[0m)       │          \u001b[38;5;34m0\u001b[0m │ dense_5[\u001b[38;5;34m0\u001b[0m][\u001b[38;5;34m0\u001b[0m]     │\n",
       "├─────────────────────┼───────────────────┼────────────┼───────────────────┤\n",
       "│ dense_6 (\u001b[38;5;33mDense\u001b[0m)     │ (\u001b[38;5;45mNone\u001b[0m, \u001b[38;5;34m1\u001b[0m)         │        \u001b[38;5;34m129\u001b[0m │ dropout_6[\u001b[38;5;34m0\u001b[0m][\u001b[38;5;34m0\u001b[0m]   │\n",
       "└─────────────────────┴───────────────────┴────────────┴───────────────────┘\n"
      ]
     },
     "metadata": {},
     "output_type": "display_data"
    },
    {
     "data": {
      "text/html": [
       "<pre style=\"white-space:pre;overflow-x:auto;line-height:normal;font-family:Menlo,'DejaVu Sans Mono',consolas,'Courier New',monospace\"><span style=\"font-weight: bold\"> Total params: </span><span style=\"color: #00af00; text-decoration-color: #00af00\">85,457</span> (333.82 KB)\n",
       "</pre>\n"
      ],
      "text/plain": [
       "\u001b[1m Total params: \u001b[0m\u001b[38;5;34m85,457\u001b[0m (333.82 KB)\n"
      ]
     },
     "metadata": {},
     "output_type": "display_data"
    },
    {
     "data": {
      "text/html": [
       "<pre style=\"white-space:pre;overflow-x:auto;line-height:normal;font-family:Menlo,'DejaVu Sans Mono',consolas,'Courier New',monospace\"><span style=\"font-weight: bold\"> Trainable params: </span><span style=\"color: #00af00; text-decoration-color: #00af00\">85,417</span> (333.66 KB)\n",
       "</pre>\n"
      ],
      "text/plain": [
       "\u001b[1m Trainable params: \u001b[0m\u001b[38;5;34m85,417\u001b[0m (333.66 KB)\n"
      ]
     },
     "metadata": {},
     "output_type": "display_data"
    },
    {
     "data": {
      "text/html": [
       "<pre style=\"white-space:pre;overflow-x:auto;line-height:normal;font-family:Menlo,'DejaVu Sans Mono',consolas,'Courier New',monospace\"><span style=\"font-weight: bold\"> Non-trainable params: </span><span style=\"color: #00af00; text-decoration-color: #00af00\">40</span> (160.00 B)\n",
       "</pre>\n"
      ],
      "text/plain": [
       "\u001b[1m Non-trainable params: \u001b[0m\u001b[38;5;34m40\u001b[0m (160.00 B)\n"
      ]
     },
     "metadata": {},
     "output_type": "display_data"
    },
    {
     "name": "stderr",
     "output_type": "stream",
     "text": [
      "2025/05/05 11:14:19 WARNING mlflow.tensorflow: Unrecognized dataset type <class 'pandas.core.frame.DataFrame'>. Dataset logging skipped.\n",
      "2025/05/05 11:14:19 WARNING mlflow.tensorflow: Failed to log training dataset information to MLflow Tracking. Reason: 'DataFrame' object has no attribute 'flatten'\n"
     ]
    },
    {
     "data": {
      "text/html": [
       "<pre style=\"white-space:pre;overflow-x:auto;line-height:normal;font-family:Menlo,'DejaVu Sans Mono',consolas,'Courier New',monospace\"></pre>\n"
      ],
      "text/plain": []
     },
     "metadata": {},
     "output_type": "display_data"
    },
    {
     "name": "stdout",
     "output_type": "stream",
     "text": [
      "Epoch 1/100\n",
      "\u001b[1m76/82\u001b[0m \u001b[32m━━━━━━━━━━━━━━━━━━\u001b[0m\u001b[37m━━\u001b[0m \u001b[1m0s\u001b[0m 6ms/step - Precision: 0.5820 - Recall: 0.6863 - acc: 0.7370 - loss: 0.5521\n",
      "Epoch 1: val_loss improved from inf to 1.11867, saving model to ./models_temp/attention_best_model.h5\n"
     ]
    },
    {
     "name": "stderr",
     "output_type": "stream",
     "text": [
      "WARNING:absl:You are saving your model as an HDF5 file via `model.save()` or `keras.saving.save_model(model)`. This file format is considered legacy. We recommend using instead the native Keras format, e.g. `model.save('my_model.keras')` or `keras.saving.save_model(model, 'my_model.keras')`. \n",
      "WARNING:absl:You are saving your model as an HDF5 file via `model.save()` or `keras.saving.save_model(model)`. This file format is considered legacy. We recommend using instead the native Keras format, e.g. `model.save('my_model.keras')` or `keras.saving.save_model(model, 'my_model.keras')`. \n"
     ]
    },
    {
     "name": "stdout",
     "output_type": "stream",
     "text": [
      "\u001b[1m82/82\u001b[0m \u001b[32m━━━━━━━━━━━━━━━━━━━━\u001b[0m\u001b[37m\u001b[0m \u001b[1m3s\u001b[0m 13ms/step - Precision: 0.5824 - Recall: 0.6935 - acc: 0.7374 - loss: 0.5499 - val_Precision: 0.3402 - val_Recall: 0.9993 - val_acc: 0.3749 - val_loss: 1.1187\n",
      "Epoch 2/100\n",
      "\u001b[1m79/82\u001b[0m \u001b[32m━━━━━━━━━━━━━━━━━━━\u001b[0m\u001b[37m━\u001b[0m \u001b[1m0s\u001b[0m 6ms/step - Precision: 0.5839 - Recall: 0.7874 - acc: 0.7436 - loss: 0.5088\n",
      "Epoch 2: val_loss improved from 1.11867 to 0.62617, saving model to ./models_temp/attention_best_model.h5\n"
     ]
    },
    {
     "name": "stderr",
     "output_type": "stream",
     "text": [
      "WARNING:absl:You are saving your model as an HDF5 file via `model.save()` or `keras.saving.save_model(model)`. This file format is considered legacy. We recommend using instead the native Keras format, e.g. `model.save('my_model.keras')` or `keras.saving.save_model(model, 'my_model.keras')`. \n",
      "WARNING:absl:You are saving your model as an HDF5 file via `model.save()` or `keras.saving.save_model(model)`. This file format is considered legacy. We recommend using instead the native Keras format, e.g. `model.save('my_model.keras')` or `keras.saving.save_model(model, 'my_model.keras')`. \n"
     ]
    },
    {
     "name": "stdout",
     "output_type": "stream",
     "text": [
      "\u001b[1m82/82\u001b[0m \u001b[32m━━━━━━━━━━━━━━━━━━━━\u001b[0m\u001b[37m\u001b[0m \u001b[1m1s\u001b[0m 9ms/step - Precision: 0.5842 - Recall: 0.7878 - acc: 0.7437 - loss: 0.5088 - val_Precision: 0.4753 - val_Recall: 0.9007 - val_acc: 0.6473 - val_loss: 0.6262\n",
      "Epoch 3/100\n",
      "\u001b[1m80/82\u001b[0m \u001b[32m━━━━━━━━━━━━━━━━━━━\u001b[0m\u001b[37m━\u001b[0m \u001b[1m0s\u001b[0m 7ms/step - Precision: 0.5999 - Recall: 0.7881 - acc: 0.7566 - loss: 0.5058\n",
      "Epoch 3: val_loss improved from 0.62617 to 0.58110, saving model to ./models_temp/attention_best_model.h5\n"
     ]
    },
    {
     "name": "stderr",
     "output_type": "stream",
     "text": [
      "WARNING:absl:You are saving your model as an HDF5 file via `model.save()` or `keras.saving.save_model(model)`. This file format is considered legacy. We recommend using instead the native Keras format, e.g. `model.save('my_model.keras')` or `keras.saving.save_model(model, 'my_model.keras')`. \n",
      "WARNING:absl:You are saving your model as an HDF5 file via `model.save()` or `keras.saving.save_model(model)`. This file format is considered legacy. We recommend using instead the native Keras format, e.g. `model.save('my_model.keras')` or `keras.saving.save_model(model, 'my_model.keras')`. \n"
     ]
    },
    {
     "name": "stdout",
     "output_type": "stream",
     "text": [
      "\u001b[1m82/82\u001b[0m \u001b[32m━━━━━━━━━━━━━━━━━━━━\u001b[0m\u001b[37m\u001b[0m \u001b[1m1s\u001b[0m 10ms/step - Precision: 0.5999 - Recall: 0.7883 - acc: 0.7565 - loss: 0.5058 - val_Precision: 0.5302 - val_Recall: 0.8600 - val_acc: 0.7091 - val_loss: 0.5811\n",
      "Epoch 4/100\n",
      "\u001b[1m82/82\u001b[0m \u001b[32m━━━━━━━━━━━━━━━━━━━━\u001b[0m\u001b[37m\u001b[0m \u001b[1m0s\u001b[0m 7ms/step - Precision: 0.6079 - Recall: 0.8027 - acc: 0.7561 - loss: 0.5057\n",
      "Epoch 4: val_loss improved from 0.58110 to 0.54584, saving model to ./models_temp/attention_best_model.h5\n"
     ]
    },
    {
     "name": "stderr",
     "output_type": "stream",
     "text": [
      "WARNING:absl:You are saving your model as an HDF5 file via `model.save()` or `keras.saving.save_model(model)`. This file format is considered legacy. We recommend using instead the native Keras format, e.g. `model.save('my_model.keras')` or `keras.saving.save_model(model, 'my_model.keras')`. \n",
      "WARNING:absl:You are saving your model as an HDF5 file via `model.save()` or `keras.saving.save_model(model)`. This file format is considered legacy. We recommend using instead the native Keras format, e.g. `model.save('my_model.keras')` or `keras.saving.save_model(model, 'my_model.keras')`. \n"
     ]
    },
    {
     "name": "stdout",
     "output_type": "stream",
     "text": [
      "\u001b[1m82/82\u001b[0m \u001b[32m━━━━━━━━━━━━━━━━━━━━\u001b[0m\u001b[37m\u001b[0m \u001b[1m1s\u001b[0m 9ms/step - Precision: 0.6078 - Recall: 0.8026 - acc: 0.7561 - loss: 0.5057 - val_Precision: 0.5460 - val_Recall: 0.8386 - val_acc: 0.7231 - val_loss: 0.5458\n",
      "Epoch 5/100\n",
      "\u001b[1m79/82\u001b[0m \u001b[32m━━━━━━━━━━━━━━━━━━━\u001b[0m\u001b[37m━\u001b[0m \u001b[1m0s\u001b[0m 6ms/step - Precision: 0.5965 - Recall: 0.7977 - acc: 0.7500 - loss: 0.5022\n",
      "Epoch 5: val_loss improved from 0.54584 to 0.49304, saving model to ./models_temp/attention_best_model.h5\n"
     ]
    },
    {
     "name": "stderr",
     "output_type": "stream",
     "text": [
      "WARNING:absl:You are saving your model as an HDF5 file via `model.save()` or `keras.saving.save_model(model)`. This file format is considered legacy. We recommend using instead the native Keras format, e.g. `model.save('my_model.keras')` or `keras.saving.save_model(model, 'my_model.keras')`. \n",
      "WARNING:absl:You are saving your model as an HDF5 file via `model.save()` or `keras.saving.save_model(model)`. This file format is considered legacy. We recommend using instead the native Keras format, e.g. `model.save('my_model.keras')` or `keras.saving.save_model(model, 'my_model.keras')`. \n"
     ]
    },
    {
     "name": "stdout",
     "output_type": "stream",
     "text": [
      "\u001b[1m82/82\u001b[0m \u001b[32m━━━━━━━━━━━━━━━━━━━━\u001b[0m\u001b[37m\u001b[0m \u001b[1m1s\u001b[0m 9ms/step - Precision: 0.5964 - Recall: 0.7976 - acc: 0.7500 - loss: 0.5023 - val_Precision: 0.6004 - val_Recall: 0.7628 - val_acc: 0.7598 - val_loss: 0.4930\n",
      "Epoch 6/100\n",
      "\u001b[1m75/82\u001b[0m \u001b[32m━━━━━━━━━━━━━━━━━━\u001b[0m\u001b[37m━━\u001b[0m \u001b[1m0s\u001b[0m 6ms/step - Precision: 0.6147 - Recall: 0.7949 - acc: 0.7658 - loss: 0.4964\n",
      "Epoch 6: val_loss did not improve from 0.49304\n",
      "\u001b[1m82/82\u001b[0m \u001b[32m━━━━━━━━━━━━━━━━━━━━\u001b[0m\u001b[37m\u001b[0m \u001b[1m1s\u001b[0m 8ms/step - Precision: 0.6137 - Recall: 0.7948 - acc: 0.7649 - loss: 0.4970 - val_Precision: 0.5626 - val_Recall: 0.8152 - val_acc: 0.7360 - val_loss: 0.5491\n",
      "Epoch 7/100\n",
      "\u001b[1m75/82\u001b[0m \u001b[32m━━━━━━━━━━━━━━━━━━\u001b[0m\u001b[37m━━\u001b[0m \u001b[1m0s\u001b[0m 6ms/step - Precision: 0.5947 - Recall: 0.8032 - acc: 0.7484 - loss: 0.5005\n",
      "Epoch 7: val_loss did not improve from 0.49304\n",
      "\u001b[1m82/82\u001b[0m \u001b[32m━━━━━━━━━━━━━━━━━━━━\u001b[0m\u001b[37m\u001b[0m \u001b[1m1s\u001b[0m 8ms/step - Precision: 0.5950 - Recall: 0.8030 - acc: 0.7488 - loss: 0.5007 - val_Precision: 0.5968 - val_Recall: 0.7759 - val_acc: 0.7587 - val_loss: 0.4972\n",
      "Epoch 8/100\n",
      "\u001b[1m82/82\u001b[0m \u001b[32m━━━━━━━━━━━━━━━━━━━━\u001b[0m\u001b[37m\u001b[0m \u001b[1m0s\u001b[0m 6ms/step - Precision: 0.6121 - Recall: 0.7889 - acc: 0.7585 - loss: 0.5043\n",
      "Epoch 8: val_loss did not improve from 0.49304\n",
      "\u001b[1m82/82\u001b[0m \u001b[32m━━━━━━━━━━━━━━━━━━━━\u001b[0m\u001b[37m\u001b[0m \u001b[1m1s\u001b[0m 8ms/step - Precision: 0.6119 - Recall: 0.7889 - acc: 0.7584 - loss: 0.5043 - val_Precision: 0.5636 - val_Recall: 0.8124 - val_acc: 0.7367 - val_loss: 0.5223\n",
      "Epoch 9/100\n",
      "\u001b[1m81/82\u001b[0m \u001b[32m━━━━━━━━━━━━━━━━━━━\u001b[0m\u001b[37m━\u001b[0m \u001b[1m0s\u001b[0m 7ms/step - Precision: 0.6035 - Recall: 0.8096 - acc: 0.7574 - loss: 0.4953\n",
      "Epoch 9: val_loss did not improve from 0.49304\n",
      "\u001b[1m82/82\u001b[0m \u001b[32m━━━━━━━━━━━━━━━━━━━━\u001b[0m\u001b[37m\u001b[0m \u001b[1m1s\u001b[0m 9ms/step - Precision: 0.6034 - Recall: 0.8093 - acc: 0.7573 - loss: 0.4954 - val_Precision: 0.5765 - val_Recall: 0.7924 - val_acc: 0.7454 - val_loss: 0.5199\n",
      "Epoch 10/100\n",
      "\u001b[1m78/82\u001b[0m \u001b[32m━━━━━━━━━━━━━━━━━━━\u001b[0m\u001b[37m━\u001b[0m \u001b[1m0s\u001b[0m 7ms/step - Precision: 0.6080 - Recall: 0.8070 - acc: 0.7595 - loss: 0.4976\n",
      "Epoch 10: val_loss did not improve from 0.49304\n",
      "\u001b[1m82/82\u001b[0m \u001b[32m━━━━━━━━━━━━━━━━━━━━\u001b[0m\u001b[37m\u001b[0m \u001b[1m1s\u001b[0m 9ms/step - Precision: 0.6077 - Recall: 0.8061 - acc: 0.7592 - loss: 0.4979 - val_Precision: 0.5863 - val_Recall: 0.7848 - val_acc: 0.7521 - val_loss: 0.5053\n",
      "Epoch 11/100\n",
      "\u001b[1m82/82\u001b[0m \u001b[32m━━━━━━━━━━━━━━━━━━━━\u001b[0m\u001b[37m\u001b[0m \u001b[1m0s\u001b[0m 6ms/step - Precision: 0.5951 - Recall: 0.7911 - acc: 0.7496 - loss: 0.5081\n",
      "Epoch 11: val_loss did not improve from 0.49304\n",
      "\u001b[1m82/82\u001b[0m \u001b[32m━━━━━━━━━━━━━━━━━━━━\u001b[0m\u001b[37m\u001b[0m \u001b[1m1s\u001b[0m 8ms/step - Precision: 0.5952 - Recall: 0.7911 - acc: 0.7497 - loss: 0.5080 - val_Precision: 0.5876 - val_Recall: 0.7910 - val_acc: 0.7536 - val_loss: 0.5096\n",
      "Epoch 12/100\n",
      "\u001b[1m78/82\u001b[0m \u001b[32m━━━━━━━━━━━━━━━━━━━\u001b[0m\u001b[37m━\u001b[0m \u001b[1m0s\u001b[0m 7ms/step - Precision: 0.6031 - Recall: 0.8043 - acc: 0.7525 - loss: 0.5020\n",
      "Epoch 12: val_loss did not improve from 0.49304\n",
      "\u001b[1m82/82\u001b[0m \u001b[32m━━━━━━━━━━━━━━━━━━━━\u001b[0m\u001b[37m\u001b[0m \u001b[1m1s\u001b[0m 8ms/step - Precision: 0.6030 - Recall: 0.8040 - acc: 0.7526 - loss: 0.5019 - val_Precision: 0.5860 - val_Recall: 0.7869 - val_acc: 0.7521 - val_loss: 0.5052\n",
      "Epoch 13/100\n",
      "\u001b[1m80/82\u001b[0m \u001b[32m━━━━━━━━━━━━━━━━━━━\u001b[0m\u001b[37m━\u001b[0m \u001b[1m0s\u001b[0m 7ms/step - Precision: 0.6087 - Recall: 0.7909 - acc: 0.7577 - loss: 0.4973\n",
      "Epoch 13: val_loss did not improve from 0.49304\n",
      "\u001b[1m82/82\u001b[0m \u001b[32m━━━━━━━━━━━━━━━━━━━━\u001b[0m\u001b[37m\u001b[0m \u001b[1m1s\u001b[0m 9ms/step - Precision: 0.6085 - Recall: 0.7910 - acc: 0.7576 - loss: 0.4973 - val_Precision: 0.6141 - val_Recall: 0.7607 - val_acc: 0.7687 - val_loss: 0.4938\n",
      "Epoch 14/100\n",
      "\u001b[1m79/82\u001b[0m \u001b[32m━━━━━━━━━━━━━━━━━━━\u001b[0m\u001b[37m━\u001b[0m \u001b[1m0s\u001b[0m 7ms/step - Precision: 0.6186 - Recall: 0.7905 - acc: 0.7624 - loss: 0.5024\n",
      "Epoch 14: val_loss did not improve from 0.49304\n",
      "\u001b[1m82/82\u001b[0m \u001b[32m━━━━━━━━━━━━━━━━━━━━\u001b[0m\u001b[37m\u001b[0m \u001b[1m1s\u001b[0m 9ms/step - Precision: 0.6181 - Recall: 0.7908 - acc: 0.7623 - loss: 0.5023 - val_Precision: 0.5780 - val_Recall: 0.8021 - val_acc: 0.7474 - val_loss: 0.5169\n",
      "Epoch 15/100\n",
      "\u001b[1m79/82\u001b[0m \u001b[32m━━━━━━━━━━━━━━━━━━━\u001b[0m\u001b[37m━\u001b[0m \u001b[1m0s\u001b[0m 6ms/step - Precision: 0.5980 - Recall: 0.7931 - acc: 0.7503 - loss: 0.5088\n",
      "Epoch 15: val_loss did not improve from 0.49304\n",
      "\u001b[1m82/82\u001b[0m \u001b[32m━━━━━━━━━━━━━━━━━━━━\u001b[0m\u001b[37m\u001b[0m \u001b[1m1s\u001b[0m 8ms/step - Precision: 0.5984 - Recall: 0.7935 - acc: 0.7507 - loss: 0.5082 - val_Precision: 0.5770 - val_Recall: 0.8007 - val_acc: 0.7465 - val_loss: 0.5156\n",
      "Epoch 15: early stopping\n",
      "Restoring model weights from the end of the best epoch: 5.\n"
     ]
    },
    {
     "name": "stderr",
     "output_type": "stream",
     "text": [
      "2025/05/05 11:14:32 WARNING mlflow.tensorflow: Failed to infer model signature: could not sample data to infer model signature: Cannot log input example or model signature for input with type <class 'pandas.core.frame.DataFrame'>. TensorFlow Keras autologging can only log input examples and model signatures for the following input types: numpy.ndarray, dict[string -> numpy.ndarray], tensorflow.keras.utils.Sequence, and tensorflow.data.Dataset (TensorFlow >= 2.1.0 required)\n",
      "2025/05/05 11:14:32 WARNING mlflow.tensorflow: You are saving a TensorFlow Core model or Keras model without a signature. Inference with mlflow.pyfunc.spark_udf() will not work unless the model's pyfunc representation accepts pandas DataFrames as inference inputs.\n",
      "2025/05/05 11:14:37 WARNING mlflow.models.model: Model logged without a signature and input example. Please set `input_example` parameter when logging the model to auto infer the model signature.\n",
      "Registered model 'attention-model' already exists. Creating a new version of this model...\n",
      "Created version '16' of model 'attention-model'.\n"
     ]
    },
    {
     "name": "stdout",
     "output_type": "stream",
     "text": [
      "\u001b[1m141/141\u001b[0m \u001b[32m━━━━━━━━━━━━━━━━━━━━\u001b[0m\u001b[37m\u001b[0m \u001b[1m0s\u001b[0m 2ms/step\n",
      "{'0': {'precision': 0.8704331450094162, 'recall': 0.7584509353462422, 'f1-score': 0.8105927744650999, 'support': 3047.0}, '1': {'precision': 0.6004343105320304, 'recall': 0.7627586206896552, 'f1-score': 0.6719319562575942, 'support': 1450.0}, 'accuracy': 0.7598398932621748, 'macro avg': {'precision': 0.7354337277707232, 'recall': 0.7606047780179487, 'f1-score': 0.741262365361347, 'support': 4497.0}, 'weighted avg': {'precision': 0.7833754821247799, 'recall': 0.7598398932621748, 'f1-score': 0.7658833712182945, 'support': 4497.0}}\n",
      "\u001b[1m141/141\u001b[0m \u001b[32m━━━━━━━━━━━━━━━━━━━━\u001b[0m\u001b[37m\u001b[0m \u001b[1m0s\u001b[0m 1ms/step - Precision: 0.6030 - Recall: 0.7355 - acc: 0.7566 - loss: 0.4973\n"
     ]
    }
   ],
   "source": [
    "from tensorflow.keras.layers import Input, Dense, Dropout, BatchNormalization, MultiHeadAttention, Flatten, GlobalAveragePooling1D, Reshape\n",
    "from tensorflow.keras.models import Model\n",
    "\n",
    "run_name = Tryname + '_AttentionMechanisim'\n",
    "\n",
    "with mlflow.start_run(run_name='AttentionMechanisim'):#mlflow\n",
    "    mlflow.tensorflow.autolog()#mlflow    \n",
    "    n_input = X_train.shape[1]\n",
    "    # Model\n",
    "    # 定義模型\n",
    "    input_layer = Input(shape=(n_input,))\n",
    "    x = BatchNormalization()(input_layer)\n",
    "    x = Dense(128, activation='relu')(x)\n",
    "    x = Dropout(0.1)(x)\n",
    "    # Reshape 輸入，以便進行注意力機制（將它變成三維張量）\n",
    "    x = Reshape((1, 128))(x)  # 假設每個樣本有 128 個特徵，這樣就會有 1 個時間步\n",
    "    # 添加多頭注意力層\n",
    "    x_attention = MultiHeadAttention(num_heads=4, key_dim=32)(x, x)  # query, key 和 value 都是 x\n",
    "    x_attention = Dropout(0.1)(x_attention)\n",
    "    # 將注意力層的輸出展平\n",
    "    x_flattened = Flatten()(x_attention)\n",
    "    # 經過展平後的處理\n",
    "    x = Dense(128, activation='relu')(x_flattened)\n",
    "    x = Dropout(0.1)(x)\n",
    "    output = Dense(1, activation='sigmoid')(x)\n",
    "\n",
    "\n",
    "    # Model\n",
    "    model = Model(inputs=input_layer, outputs=output)\n",
    "    model.summary()\n",
    "    # 模型optimizer 和 learning rate\n",
    "    initial_lr = 0.001\n",
    "    from tensorflow.keras.optimizers import schedules\n",
    "    lr_schedule = schedules.ExponentialDecay(\n",
    "        initial_learning_rate=initial_lr,\n",
    "        decay_steps=100000,\n",
    "        decay_rate=0.96,\n",
    "        staircase=True)\n",
    "    from tensorflow.keras.optimizers import Adam\n",
    "    optimizer = Adam(learning_rate=lr_schedule)\n",
    "\n",
    "    model.compile(loss='bce', optimizer=optimizer, metrics=['acc', 'Recall', 'Precision'])\n",
    "    # EarlyStopping: 根據 val_loss 停止訓練\n",
    "    early_stop = EarlyStopping(monitor='val_loss', patience=10, verbose=1, restore_best_weights=True)\n",
    "    # ModelCheckpoint: 儲存最佳模型\n",
    "    checkpoint = ModelCheckpoint('./models_temp/attention_best_model.h5', monitor='val_loss', save_best_only=True, verbose=1)\n",
    "    if Weight_Balance == 1:\n",
    "        history = model.fit(X_train, y_train, validation_data=(X_test, y_test), epochs=100, batch_size=128, verbose=1, callbacks=[early_stop, checkpoint], class_weight=class_weight_dict)\n",
    "    else:\n",
    "        history = model.fit(X_train, y_train, validation_data=(X_test, y_test), epochs=100, batch_size=128, verbose=1, callbacks=[early_stop, checkpoint])\n",
    "    train_loss, train_acc, train_recall, train_precision = model.evaluate(X_train, y_train, verbose=0)\n",
    "    test_loss, test_acc, test_recall, test_precision = model.evaluate(X_test, y_test, verbose=0)\n",
    "    mlflow.log_metric(\"Train score\", train_acc)#mlflow\n",
    "    mlflow.log_metric(\"Test score\", test_acc)#mlflow\n",
    "    #註冊模型\n",
    "    run_id = mlflow.active_run().info.run_id#mlflow\n",
    "    result = mlflow.register_model(\n",
    "        model_uri=f\"runs:/{run_id}/model\",  # 你要用 mlflow.log_model 存的位置\n",
    "        name=\"attention-model\"              # 註冊後的 model name\n",
    "    )\n",
    "    \n",
    "    #confusion matrix\n",
    "    from sklearn.metrics import classification_report\n",
    "    y_pred = model.predict(X_test)\n",
    "    y_pred_class = (y_pred > 0.5).astype(int) \n",
    "    report_dict = classification_report(y_test, y_pred_class, output_dict=True)\n",
    "    print(report_dict)\n",
    "    for label, metrics in report_dict.items():\n",
    "        if isinstance(metrics, dict):  # 各分類或 avg 區段\n",
    "            for metric_name, value in metrics.items():\n",
    "                try:\n",
    "                    label_key = str(int(label))  # 嘗試轉成數字型的 label\n",
    "                except ValueError:\n",
    "                    label_key = label.replace(\" \", \"_\")  # 否則保留原樣但移除空格\n",
    "\n",
    "                metric_key = f\"{label_key}_{metric_name}\".replace(\" \", \"_\")\n",
    "                mlflow.log_metric(metric_key, value)\n",
    "        elif isinstance(metrics, (int, float)):  # accuracy 是 float\n",
    "            mlflow.log_metric(label, metrics)\n",
    "\n",
    "\n",
    "    # 評估模型\n",
    "    model.evaluate(X_test, y_test)"
   ]
  },
  {
   "cell_type": "markdown",
   "id": "8e3d5638",
   "metadata": {},
   "source": [
    "<hr>\n",
    "\n",
    "## LSTM\n",
    "\n",
    "<h5>\n",
    "\n",
    "- 本模型採用雙層 LSTM 結構，設計用於處理序列型輸入的二元分類任務。\n",
    "\n",
    "- 模型包含兩層 LSTM（64 與 32 單元）搭配 Dropout 與 L2 正則化，有效防止過擬合。\n",
    "\n",
    "- 輸入為三維時間序列資料，經 LSTM 擷取時序特徵後，輸出 sigmoid 機率作為預測結果。\n",
    "\n",
    "</h5>"
   ]
  },
  {
   "cell_type": "code",
   "execution_count": 30,
   "id": "97836e68",
   "metadata": {},
   "outputs": [],
   "source": [
    "import numpy as np\n",
    "from tensorflow.keras.models import Sequential\n",
    "from tensorflow.keras.layers import LSTM, Dense, Dropout\n",
    "from tensorflow.keras.optimizers import Adam\n",
    "from tensorflow.keras.callbacks import EarlyStopping\n",
    "from sklearn.metrics import classification_report, accuracy_score, roc_auc_score\n",
    "from sklearn.model_selection import train_test_split\n",
    "import matplotlib.pyplot as plt"
   ]
  },
  {
   "cell_type": "code",
   "execution_count": 31,
   "id": "b01a9cc7",
   "metadata": {},
   "outputs": [],
   "source": [
    "#準備序列數據 (Prepare sequences)\n",
    "LSdf = LSdf.drop(columns=['DATE', 'DAY_OF_YEAR']) #刪除不必要的欄位\n",
    "df_seq = LSdf.sort_values(by=['YEAR', 'MONTH']).reset_index(drop=True)\n",
    "X_all = df_seq.drop(columns=['YEAR', 'MONTH', 'FIRE_START_DAY'])\n",
    "X_all = X_all.fillna(X.median())\n",
    "assert X_all.isna().sum().sum() == 0, \"There are still missing values in the dataset.\"\n",
    "y_all = df_seq['FIRE_START_DAY']\n",
    "def create_sequences(X, y, time_steps=12): #時間步長為12\n",
    "    Xs, ys = [], []\n",
    "    for i in range(len(X) - time_steps): #(11980, 12, 17) \n",
    "        Xs.append(X[i:(i + time_steps)])#(11980, 12, 17)\n",
    "        ys.append(y[i + time_steps])#(11980,)\n",
    "    #X[i:(i + time_steps)] 會取出從 i 到 i+time_steps 的資料，這樣就能夠形成一個時間序列的樣本。\n",
    "    return np.array(Xs), np.array(ys)\n",
    "\n",
    "#對於每個樣本，Xs 會包含過去12個時刻的特徵，而 ys 會包含12個時間步長後的目標變數。\n",
    "time_steps  = 12\n",
    "X_seq, y_seq = create_sequences(X_all, y_all, time_steps=time_steps)\n",
    "\n",
    "#訓練/測試集切分 (Train/test split)\n",
    "X_train, X_test, y_train, y_test = train_test_split(\n",
    "    X_seq, y_seq,\n",
    "    test_size=0.2,\n",
    "    random_state=42,\n",
    "    stratify=y_seq\n",
    ")"
   ]
  },
  {
   "cell_type": "code",
   "execution_count": 32,
   "id": "38eca2b7",
   "metadata": {},
   "outputs": [
    {
     "name": "stdout",
     "output_type": "stream",
     "text": [
      "<class 'pandas.core.frame.DataFrame'>\n",
      "RangeIndex: 14988 entries, 0 to 14987\n",
      "Data columns (total 20 columns):\n",
      " #   Column                    Non-Null Count  Dtype  \n",
      "---  ------                    --------------  -----  \n",
      " 0   PRECIPITATION             14988 non-null  float64\n",
      " 1   MAX_TEMP                  14988 non-null  float64\n",
      " 2   MIN_TEMP                  14988 non-null  float64\n",
      " 3   AVG_WIND_SPEED            14988 non-null  float64\n",
      " 4   TEMP_RANGE                14988 non-null  float64\n",
      " 5   WIND_TEMP_RATIO           14988 non-null  float64\n",
      " 6   LAGGED_PRECIPITATION      14988 non-null  float64\n",
      " 7   LAGGED_AVG_WIND_SPEED     14988 non-null  float64\n",
      " 8   MONTH_SIN                 14988 non-null  float64\n",
      " 9   MONTH_COS                 14988 non-null  float64\n",
      " 10  IS_RAINING                14988 non-null  int64  \n",
      " 11  TEMP_MEAN                 14988 non-null  float64\n",
      " 12  PRECIPITATION_WIND_RATIO  14988 non-null  float64\n",
      " 13  SEASONAL_PRECIP_WIND      14988 non-null  float64\n",
      " 14  SEASONAL_DRYNESS          14988 non-null  float64\n",
      " 15  DIURNAL_TEMP_WIND         14988 non-null  float64\n",
      " 16  SEASON_Fall               14988 non-null  int64  \n",
      " 17  SEASON_Spring             14988 non-null  int64  \n",
      " 18  SEASON_Summer             14988 non-null  int64  \n",
      " 19  SEASON_Winter             14988 non-null  int64  \n",
      "dtypes: float64(15), int64(5)\n",
      "memory usage: 2.3 MB\n"
     ]
    }
   ],
   "source": [
    "X_all.info()"
   ]
  },
  {
   "cell_type": "code",
   "execution_count": null,
   "id": "7c3809d6",
   "metadata": {},
   "outputs": [
    {
     "name": "stderr",
     "output_type": "stream",
     "text": [
      "C:\\Users\\ygz08\\AppData\\Local\\Packages\\PythonSoftwareFoundation.Python.3.11_qbz5n2kfra8p0\\LocalCache\\local-packages\\Python311\\site-packages\\keras\\src\\layers\\rnn\\rnn.py:200: UserWarning: Do not pass an `input_shape`/`input_dim` argument to a layer. When using Sequential models, prefer using an `Input(shape)` object as the first layer in the model instead.\n",
      "  super().__init__(**kwargs)\n"
     ]
    },
    {
     "data": {
      "text/html": [
       "<pre style=\"white-space:pre;overflow-x:auto;line-height:normal;font-family:Menlo,'DejaVu Sans Mono',consolas,'Courier New',monospace\"><span style=\"font-weight: bold\">Model: \"sequential_1\"</span>\n",
       "</pre>\n"
      ],
      "text/plain": [
       "\u001b[1mModel: \"sequential_1\"\u001b[0m\n"
      ]
     },
     "metadata": {},
     "output_type": "display_data"
    },
    {
     "data": {
      "text/html": [
       "<pre style=\"white-space:pre;overflow-x:auto;line-height:normal;font-family:Menlo,'DejaVu Sans Mono',consolas,'Courier New',monospace\">┏━━━━━━━━━━━━━━━━━━━━━━━━━━━━━━━━━┳━━━━━━━━━━━━━━━━━━━━━━━━┳━━━━━━━━━━━━━━━┓\n",
       "┃<span style=\"font-weight: bold\"> Layer (type)                    </span>┃<span style=\"font-weight: bold\"> Output Shape           </span>┃<span style=\"font-weight: bold\">       Param # </span>┃\n",
       "┡━━━━━━━━━━━━━━━━━━━━━━━━━━━━━━━━━╇━━━━━━━━━━━━━━━━━━━━━━━━╇━━━━━━━━━━━━━━━┩\n",
       "│ lstm (<span style=\"color: #0087ff; text-decoration-color: #0087ff\">LSTM</span>)                     │ (<span style=\"color: #00d7ff; text-decoration-color: #00d7ff\">None</span>, <span style=\"color: #00af00; text-decoration-color: #00af00\">12</span>, <span style=\"color: #00af00; text-decoration-color: #00af00\">64</span>)         │        <span style=\"color: #00af00; text-decoration-color: #00af00\">21,760</span> │\n",
       "├─────────────────────────────────┼────────────────────────┼───────────────┤\n",
       "│ dropout_7 (<span style=\"color: #0087ff; text-decoration-color: #0087ff\">Dropout</span>)             │ (<span style=\"color: #00d7ff; text-decoration-color: #00d7ff\">None</span>, <span style=\"color: #00af00; text-decoration-color: #00af00\">12</span>, <span style=\"color: #00af00; text-decoration-color: #00af00\">64</span>)         │             <span style=\"color: #00af00; text-decoration-color: #00af00\">0</span> │\n",
       "├─────────────────────────────────┼────────────────────────┼───────────────┤\n",
       "│ lstm_1 (<span style=\"color: #0087ff; text-decoration-color: #0087ff\">LSTM</span>)                   │ (<span style=\"color: #00d7ff; text-decoration-color: #00d7ff\">None</span>, <span style=\"color: #00af00; text-decoration-color: #00af00\">32</span>)             │        <span style=\"color: #00af00; text-decoration-color: #00af00\">12,416</span> │\n",
       "├─────────────────────────────────┼────────────────────────┼───────────────┤\n",
       "│ dropout_8 (<span style=\"color: #0087ff; text-decoration-color: #0087ff\">Dropout</span>)             │ (<span style=\"color: #00d7ff; text-decoration-color: #00d7ff\">None</span>, <span style=\"color: #00af00; text-decoration-color: #00af00\">32</span>)             │             <span style=\"color: #00af00; text-decoration-color: #00af00\">0</span> │\n",
       "├─────────────────────────────────┼────────────────────────┼───────────────┤\n",
       "│ dense_7 (<span style=\"color: #0087ff; text-decoration-color: #0087ff\">Dense</span>)                 │ (<span style=\"color: #00d7ff; text-decoration-color: #00d7ff\">None</span>, <span style=\"color: #00af00; text-decoration-color: #00af00\">1</span>)              │            <span style=\"color: #00af00; text-decoration-color: #00af00\">33</span> │\n",
       "└─────────────────────────────────┴────────────────────────┴───────────────┘\n",
       "</pre>\n"
      ],
      "text/plain": [
       "┏━━━━━━━━━━━━━━━━━━━━━━━━━━━━━━━━━┳━━━━━━━━━━━━━━━━━━━━━━━━┳━━━━━━━━━━━━━━━┓\n",
       "┃\u001b[1m \u001b[0m\u001b[1mLayer (type)                   \u001b[0m\u001b[1m \u001b[0m┃\u001b[1m \u001b[0m\u001b[1mOutput Shape          \u001b[0m\u001b[1m \u001b[0m┃\u001b[1m \u001b[0m\u001b[1m      Param #\u001b[0m\u001b[1m \u001b[0m┃\n",
       "┡━━━━━━━━━━━━━━━━━━━━━━━━━━━━━━━━━╇━━━━━━━━━━━━━━━━━━━━━━━━╇━━━━━━━━━━━━━━━┩\n",
       "│ lstm (\u001b[38;5;33mLSTM\u001b[0m)                     │ (\u001b[38;5;45mNone\u001b[0m, \u001b[38;5;34m12\u001b[0m, \u001b[38;5;34m64\u001b[0m)         │        \u001b[38;5;34m21,760\u001b[0m │\n",
       "├─────────────────────────────────┼────────────────────────┼───────────────┤\n",
       "│ dropout_7 (\u001b[38;5;33mDropout\u001b[0m)             │ (\u001b[38;5;45mNone\u001b[0m, \u001b[38;5;34m12\u001b[0m, \u001b[38;5;34m64\u001b[0m)         │             \u001b[38;5;34m0\u001b[0m │\n",
       "├─────────────────────────────────┼────────────────────────┼───────────────┤\n",
       "│ lstm_1 (\u001b[38;5;33mLSTM\u001b[0m)                   │ (\u001b[38;5;45mNone\u001b[0m, \u001b[38;5;34m32\u001b[0m)             │        \u001b[38;5;34m12,416\u001b[0m │\n",
       "├─────────────────────────────────┼────────────────────────┼───────────────┤\n",
       "│ dropout_8 (\u001b[38;5;33mDropout\u001b[0m)             │ (\u001b[38;5;45mNone\u001b[0m, \u001b[38;5;34m32\u001b[0m)             │             \u001b[38;5;34m0\u001b[0m │\n",
       "├─────────────────────────────────┼────────────────────────┼───────────────┤\n",
       "│ dense_7 (\u001b[38;5;33mDense\u001b[0m)                 │ (\u001b[38;5;45mNone\u001b[0m, \u001b[38;5;34m1\u001b[0m)              │            \u001b[38;5;34m33\u001b[0m │\n",
       "└─────────────────────────────────┴────────────────────────┴───────────────┘\n"
      ]
     },
     "metadata": {},
     "output_type": "display_data"
    },
    {
     "data": {
      "text/html": [
       "<pre style=\"white-space:pre;overflow-x:auto;line-height:normal;font-family:Menlo,'DejaVu Sans Mono',consolas,'Courier New',monospace\"><span style=\"font-weight: bold\"> Total params: </span><span style=\"color: #00af00; text-decoration-color: #00af00\">34,209</span> (133.63 KB)\n",
       "</pre>\n"
      ],
      "text/plain": [
       "\u001b[1m Total params: \u001b[0m\u001b[38;5;34m34,209\u001b[0m (133.63 KB)\n"
      ]
     },
     "metadata": {},
     "output_type": "display_data"
    },
    {
     "data": {
      "text/html": [
       "<pre style=\"white-space:pre;overflow-x:auto;line-height:normal;font-family:Menlo,'DejaVu Sans Mono',consolas,'Courier New',monospace\"><span style=\"font-weight: bold\"> Trainable params: </span><span style=\"color: #00af00; text-decoration-color: #00af00\">34,209</span> (133.63 KB)\n",
       "</pre>\n"
      ],
      "text/plain": [
       "\u001b[1m Trainable params: \u001b[0m\u001b[38;5;34m34,209\u001b[0m (133.63 KB)\n"
      ]
     },
     "metadata": {},
     "output_type": "display_data"
    },
    {
     "data": {
      "text/html": [
       "<pre style=\"white-space:pre;overflow-x:auto;line-height:normal;font-family:Menlo,'DejaVu Sans Mono',consolas,'Courier New',monospace\"><span style=\"font-weight: bold\"> Non-trainable params: </span><span style=\"color: #00af00; text-decoration-color: #00af00\">0</span> (0.00 B)\n",
       "</pre>\n"
      ],
      "text/plain": [
       "\u001b[1m Non-trainable params: \u001b[0m\u001b[38;5;34m0\u001b[0m (0.00 B)\n"
      ]
     },
     "metadata": {},
     "output_type": "display_data"
    },
    {
     "data": {
      "text/html": [
       "<pre style=\"white-space:pre;overflow-x:auto;line-height:normal;font-family:Menlo,'DejaVu Sans Mono',consolas,'Courier New',monospace\"></pre>\n"
      ],
      "text/plain": []
     },
     "metadata": {},
     "output_type": "display_data"
    },
    {
     "name": "stdout",
     "output_type": "stream",
     "text": [
      "Epoch 1/100\n",
      "\u001b[1m91/94\u001b[0m \u001b[32m━━━━━━━━━━━━━━━━━━━\u001b[0m\u001b[37m━\u001b[0m \u001b[1m0s\u001b[0m 8ms/step - Precision: 0.4158 - Recall: 0.5898 - acc: 0.5883 - loss: 0.7695\n",
      "Epoch 1: val_loss improved from inf to 0.66073, saving model to ./models_temp/LSTM_best_model.h5\n"
     ]
    },
    {
     "name": "stderr",
     "output_type": "stream",
     "text": [
      "WARNING:absl:You are saving your model as an HDF5 file via `model.save()` or `keras.saving.save_model(model)`. This file format is considered legacy. We recommend using instead the native Keras format, e.g. `model.save('my_model.keras')` or `keras.saving.save_model(model, 'my_model.keras')`. \n",
      "WARNING:absl:You are saving your model as an HDF5 file via `model.save()` or `keras.saving.save_model(model)`. This file format is considered legacy. We recommend using instead the native Keras format, e.g. `model.save('my_model.keras')` or `keras.saving.save_model(model, 'my_model.keras')`. \n"
     ]
    },
    {
     "name": "stdout",
     "output_type": "stream",
     "text": [
      "\u001b[1m94/94\u001b[0m \u001b[32m━━━━━━━━━━━━━━━━━━━━\u001b[0m\u001b[37m\u001b[0m \u001b[1m4s\u001b[0m 15ms/step - Precision: 0.4192 - Recall: 0.5925 - acc: 0.5915 - loss: 0.7671 - val_Precision: 0.5850 - val_Recall: 0.7203 - val_acc: 0.7377 - val_loss: 0.6607\n",
      "Epoch 2/100\n",
      "\u001b[1m89/94\u001b[0m \u001b[32m━━━━━━━━━━━━━━━━━━\u001b[0m\u001b[37m━━\u001b[0m \u001b[1m0s\u001b[0m 8ms/step - Precision: 0.5925 - Recall: 0.6969 - acc: 0.7443 - loss: 0.6234\n",
      "Epoch 2: val_loss improved from 0.66073 to 0.59579, saving model to ./models_temp/LSTM_best_model.h5\n"
     ]
    },
    {
     "name": "stderr",
     "output_type": "stream",
     "text": [
      "WARNING:absl:You are saving your model as an HDF5 file via `model.save()` or `keras.saving.save_model(model)`. This file format is considered legacy. We recommend using instead the native Keras format, e.g. `model.save('my_model.keras')` or `keras.saving.save_model(model, 'my_model.keras')`. \n",
      "WARNING:absl:You are saving your model as an HDF5 file via `model.save()` or `keras.saving.save_model(model)`. This file format is considered legacy. We recommend using instead the native Keras format, e.g. `model.save('my_model.keras')` or `keras.saving.save_model(model, 'my_model.keras')`. \n"
     ]
    },
    {
     "name": "stdout",
     "output_type": "stream",
     "text": [
      "\u001b[1m94/94\u001b[0m \u001b[32m━━━━━━━━━━━━━━━━━━━━\u001b[0m\u001b[37m\u001b[0m \u001b[1m1s\u001b[0m 11ms/step - Precision: 0.5931 - Recall: 0.6973 - acc: 0.7445 - loss: 0.6226 - val_Precision: 0.5993 - val_Recall: 0.7072 - val_acc: 0.7460 - val_loss: 0.5958\n",
      "Epoch 3/100\n",
      "\u001b[1m89/94\u001b[0m \u001b[32m━━━━━━━━━━━━━━━━━━\u001b[0m\u001b[37m━━\u001b[0m \u001b[1m0s\u001b[0m 9ms/step - Precision: 0.5877 - Recall: 0.6953 - acc: 0.7363 - loss: 0.5942\n",
      "Epoch 3: val_loss improved from 0.59579 to 0.57705, saving model to ./models_temp/LSTM_best_model.h5\n"
     ]
    },
    {
     "name": "stderr",
     "output_type": "stream",
     "text": [
      "WARNING:absl:You are saving your model as an HDF5 file via `model.save()` or `keras.saving.save_model(model)`. This file format is considered legacy. We recommend using instead the native Keras format, e.g. `model.save('my_model.keras')` or `keras.saving.save_model(model, 'my_model.keras')`. \n",
      "WARNING:absl:You are saving your model as an HDF5 file via `model.save()` or `keras.saving.save_model(model)`. This file format is considered legacy. We recommend using instead the native Keras format, e.g. `model.save('my_model.keras')` or `keras.saving.save_model(model, 'my_model.keras')`. \n"
     ]
    },
    {
     "name": "stdout",
     "output_type": "stream",
     "text": [
      "\u001b[1m94/94\u001b[0m \u001b[32m━━━━━━━━━━━━━━━━━━━━\u001b[0m\u001b[37m\u001b[0m \u001b[1m1s\u001b[0m 12ms/step - Precision: 0.5886 - Recall: 0.6971 - acc: 0.7371 - loss: 0.5931 - val_Precision: 0.5903 - val_Recall: 0.7435 - val_acc: 0.7437 - val_loss: 0.5771\n",
      "Epoch 4/100\n",
      "\u001b[1m92/94\u001b[0m \u001b[32m━━━━━━━━━━━━━━━━━━━\u001b[0m\u001b[37m━\u001b[0m \u001b[1m0s\u001b[0m 9ms/step - Precision: 0.5847 - Recall: 0.7306 - acc: 0.7418 - loss: 0.5700\n",
      "Epoch 4: val_loss improved from 0.57705 to 0.56008, saving model to ./models_temp/LSTM_best_model.h5\n"
     ]
    },
    {
     "name": "stderr",
     "output_type": "stream",
     "text": [
      "WARNING:absl:You are saving your model as an HDF5 file via `model.save()` or `keras.saving.save_model(model)`. This file format is considered legacy. We recommend using instead the native Keras format, e.g. `model.save('my_model.keras')` or `keras.saving.save_model(model, 'my_model.keras')`. \n",
      "WARNING:absl:You are saving your model as an HDF5 file via `model.save()` or `keras.saving.save_model(model)`. This file format is considered legacy. We recommend using instead the native Keras format, e.g. `model.save('my_model.keras')` or `keras.saving.save_model(model, 'my_model.keras')`. \n"
     ]
    },
    {
     "name": "stdout",
     "output_type": "stream",
     "text": [
      "\u001b[1m94/94\u001b[0m \u001b[32m━━━━━━━━━━━━━━━━━━━━\u001b[0m\u001b[37m\u001b[0m \u001b[1m1s\u001b[0m 11ms/step - Precision: 0.5850 - Recall: 0.7311 - acc: 0.7420 - loss: 0.5697 - val_Precision: 0.5944 - val_Recall: 0.7475 - val_acc: 0.7470 - val_loss: 0.5601\n",
      "Epoch 5/100\n",
      "\u001b[1m89/94\u001b[0m \u001b[32m━━━━━━━━━━━━━━━━━━\u001b[0m\u001b[37m━━\u001b[0m \u001b[1m0s\u001b[0m 8ms/step - Precision: 0.5929 - Recall: 0.7598 - acc: 0.7431 - loss: 0.5566\n",
      "Epoch 5: val_loss improved from 0.56008 to 0.53497, saving model to ./models_temp/LSTM_best_model.h5\n"
     ]
    },
    {
     "name": "stderr",
     "output_type": "stream",
     "text": [
      "WARNING:absl:You are saving your model as an HDF5 file via `model.save()` or `keras.saving.save_model(model)`. This file format is considered legacy. We recommend using instead the native Keras format, e.g. `model.save('my_model.keras')` or `keras.saving.save_model(model, 'my_model.keras')`. \n",
      "WARNING:absl:You are saving your model as an HDF5 file via `model.save()` or `keras.saving.save_model(model)`. This file format is considered legacy. We recommend using instead the native Keras format, e.g. `model.save('my_model.keras')` or `keras.saving.save_model(model, 'my_model.keras')`. \n"
     ]
    },
    {
     "name": "stdout",
     "output_type": "stream",
     "text": [
      "\u001b[1m94/94\u001b[0m \u001b[32m━━━━━━━━━━━━━━━━━━━━\u001b[0m\u001b[37m\u001b[0m \u001b[1m1s\u001b[0m 11ms/step - Precision: 0.5929 - Recall: 0.7594 - acc: 0.7433 - loss: 0.5564 - val_Precision: 0.6134 - val_Recall: 0.6992 - val_acc: 0.7540 - val_loss: 0.5350\n",
      "Epoch 6/100\n",
      "\u001b[1m91/94\u001b[0m \u001b[32m━━━━━━━━━━━━━━━━━━━\u001b[0m\u001b[37m━\u001b[0m \u001b[1m0s\u001b[0m 8ms/step - Precision: 0.6094 - Recall: 0.7518 - acc: 0.7534 - loss: 0.5451\n",
      "Epoch 6: val_loss did not improve from 0.53497\n",
      "\u001b[1m94/94\u001b[0m \u001b[32m━━━━━━━━━━━━━━━━━━━━\u001b[0m\u001b[37m\u001b[0m \u001b[1m1s\u001b[0m 10ms/step - Precision: 0.6089 - Recall: 0.7518 - acc: 0.7532 - loss: 0.5452 - val_Precision: 0.5814 - val_Recall: 0.7726 - val_acc: 0.7400 - val_loss: 0.5503\n",
      "Epoch 7/100\n",
      "\u001b[1m91/94\u001b[0m \u001b[32m━━━━━━━━━━━━━━━━━━━\u001b[0m\u001b[37m━\u001b[0m \u001b[1m0s\u001b[0m 8ms/step - Precision: 0.6071 - Recall: 0.7599 - acc: 0.7579 - loss: 0.5384\n",
      "Epoch 7: val_loss did not improve from 0.53497\n",
      "\u001b[1m94/94\u001b[0m \u001b[32m━━━━━━━━━━━━━━━━━━━━\u001b[0m\u001b[37m\u001b[0m \u001b[1m1s\u001b[0m 10ms/step - Precision: 0.6066 - Recall: 0.7600 - acc: 0.7576 - loss: 0.5386 - val_Precision: 0.5682 - val_Recall: 0.8048 - val_acc: 0.7323 - val_loss: 0.5630\n",
      "Epoch 8/100\n",
      "\u001b[1m92/94\u001b[0m \u001b[32m━━━━━━━━━━━━━━━━━━━\u001b[0m\u001b[37m━\u001b[0m \u001b[1m0s\u001b[0m 8ms/step - Precision: 0.5922 - Recall: 0.7715 - acc: 0.7459 - loss: 0.5435\n",
      "Epoch 8: val_loss did not improve from 0.53497\n",
      "\u001b[1m94/94\u001b[0m \u001b[32m━━━━━━━━━━━━━━━━━━━━\u001b[0m\u001b[37m\u001b[0m \u001b[1m1s\u001b[0m 10ms/step - Precision: 0.5922 - Recall: 0.7714 - acc: 0.7459 - loss: 0.5434 - val_Precision: 0.5782 - val_Recall: 0.7998 - val_acc: 0.7400 - val_loss: 0.5488\n",
      "Epoch 9/100\n",
      "\u001b[1m91/94\u001b[0m \u001b[32m━━━━━━━━━━━━━━━━━━━\u001b[0m\u001b[37m━\u001b[0m \u001b[1m0s\u001b[0m 8ms/step - Precision: 0.5918 - Recall: 0.7572 - acc: 0.7478 - loss: 0.5406\n",
      "Epoch 9: val_loss improved from 0.53497 to 0.52122, saving model to ./models_temp/LSTM_best_model.h5\n"
     ]
    },
    {
     "name": "stderr",
     "output_type": "stream",
     "text": [
      "WARNING:absl:You are saving your model as an HDF5 file via `model.save()` or `keras.saving.save_model(model)`. This file format is considered legacy. We recommend using instead the native Keras format, e.g. `model.save('my_model.keras')` or `keras.saving.save_model(model, 'my_model.keras')`. \n",
      "WARNING:absl:You are saving your model as an HDF5 file via `model.save()` or `keras.saving.save_model(model)`. This file format is considered legacy. We recommend using instead the native Keras format, e.g. `model.save('my_model.keras')` or `keras.saving.save_model(model, 'my_model.keras')`. \n"
     ]
    },
    {
     "name": "stdout",
     "output_type": "stream",
     "text": [
      "\u001b[1m94/94\u001b[0m \u001b[32m━━━━━━━━━━━━━━━━━━━━\u001b[0m\u001b[37m\u001b[0m \u001b[1m1s\u001b[0m 10ms/step - Precision: 0.5920 - Recall: 0.7576 - acc: 0.7479 - loss: 0.5403 - val_Precision: 0.6179 - val_Recall: 0.7012 - val_acc: 0.7570 - val_loss: 0.5212\n",
      "Epoch 10/100\n",
      "\u001b[1m90/94\u001b[0m \u001b[32m━━━━━━━━━━━━━━━━━━━\u001b[0m\u001b[37m━\u001b[0m \u001b[1m0s\u001b[0m 8ms/step - Precision: 0.6004 - Recall: 0.7682 - acc: 0.7576 - loss: 0.5339\n",
      "Epoch 10: val_loss did not improve from 0.52122\n",
      "\u001b[1m94/94\u001b[0m \u001b[32m━━━━━━━━━━━━━━━━━━━━\u001b[0m\u001b[37m\u001b[0m \u001b[1m1s\u001b[0m 10ms/step - Precision: 0.6002 - Recall: 0.7687 - acc: 0.7574 - loss: 0.5339 - val_Precision: 0.5703 - val_Recall: 0.7958 - val_acc: 0.7333 - val_loss: 0.5523\n",
      "Epoch 11/100\n",
      "\u001b[1m93/94\u001b[0m \u001b[32m━━━━━━━━━━━━━━━━━━━\u001b[0m\u001b[37m━\u001b[0m \u001b[1m0s\u001b[0m 8ms/step - Precision: 0.6170 - Recall: 0.7700 - acc: 0.7595 - loss: 0.5289\n",
      "Epoch 11: val_loss did not improve from 0.52122\n",
      "\u001b[1m94/94\u001b[0m \u001b[32m━━━━━━━━━━━━━━━━━━━━\u001b[0m\u001b[37m\u001b[0m \u001b[1m1s\u001b[0m 10ms/step - Precision: 0.6167 - Recall: 0.7700 - acc: 0.7594 - loss: 0.5289 - val_Precision: 0.5679 - val_Recall: 0.8038 - val_acc: 0.7320 - val_loss: 0.5449\n",
      "Epoch 12/100\n",
      "\u001b[1m92/94\u001b[0m \u001b[32m━━━━━━━━━━━━━━━━━━━\u001b[0m\u001b[37m━\u001b[0m \u001b[1m0s\u001b[0m 7ms/step - Precision: 0.5809 - Recall: 0.7815 - acc: 0.7472 - loss: 0.5239\n",
      "Epoch 12: val_loss did not improve from 0.52122\n",
      "\u001b[1m94/94\u001b[0m \u001b[32m━━━━━━━━━━━━━━━━━━━━\u001b[0m\u001b[37m\u001b[0m \u001b[1m1s\u001b[0m 9ms/step - Precision: 0.5810 - Recall: 0.7813 - acc: 0.7471 - loss: 0.5242 - val_Precision: 0.5911 - val_Recall: 0.7606 - val_acc: 0.7460 - val_loss: 0.5400\n",
      "Epoch 13/100\n",
      "\u001b[1m92/94\u001b[0m \u001b[32m━━━━━━━━━━━━━━━━━━━\u001b[0m\u001b[37m━\u001b[0m \u001b[1m0s\u001b[0m 8ms/step - Precision: 0.5934 - Recall: 0.7682 - acc: 0.7443 - loss: 0.5358\n",
      "Epoch 13: val_loss did not improve from 0.52122\n",
      "\u001b[1m94/94\u001b[0m \u001b[32m━━━━━━━━━━━━━━━━━━━━\u001b[0m\u001b[37m\u001b[0m \u001b[1m1s\u001b[0m 10ms/step - Precision: 0.5934 - Recall: 0.7682 - acc: 0.7444 - loss: 0.5357 - val_Precision: 0.5893 - val_Recall: 0.7565 - val_acc: 0.7443 - val_loss: 0.5336\n",
      "Epoch 14/100\n",
      "\u001b[1m91/94\u001b[0m \u001b[32m━━━━━━━━━━━━━━━━━━━\u001b[0m\u001b[37m━\u001b[0m \u001b[1m0s\u001b[0m 8ms/step - Precision: 0.5918 - Recall: 0.7801 - acc: 0.7480 - loss: 0.5280\n",
      "Epoch 14: val_loss improved from 0.52122 to 0.51393, saving model to ./models_temp/LSTM_best_model.h5\n"
     ]
    },
    {
     "name": "stderr",
     "output_type": "stream",
     "text": [
      "WARNING:absl:You are saving your model as an HDF5 file via `model.save()` or `keras.saving.save_model(model)`. This file format is considered legacy. We recommend using instead the native Keras format, e.g. `model.save('my_model.keras')` or `keras.saving.save_model(model, 'my_model.keras')`. \n",
      "WARNING:absl:You are saving your model as an HDF5 file via `model.save()` or `keras.saving.save_model(model)`. This file format is considered legacy. We recommend using instead the native Keras format, e.g. `model.save('my_model.keras')` or `keras.saving.save_model(model, 'my_model.keras')`. \n"
     ]
    },
    {
     "name": "stdout",
     "output_type": "stream",
     "text": [
      "\u001b[1m94/94\u001b[0m \u001b[32m━━━━━━━━━━━━━━━━━━━━\u001b[0m\u001b[37m\u001b[0m \u001b[1m1s\u001b[0m 10ms/step - Precision: 0.5919 - Recall: 0.7797 - acc: 0.7481 - loss: 0.5281 - val_Precision: 0.6299 - val_Recall: 0.6952 - val_acc: 0.7634 - val_loss: 0.5139\n",
      "Epoch 15/100\n",
      "\u001b[1m93/94\u001b[0m \u001b[32m━━━━━━━━━━━━━━━━━━━\u001b[0m\u001b[37m━\u001b[0m \u001b[1m0s\u001b[0m 8ms/step - Precision: 0.6125 - Recall: 0.7709 - acc: 0.7590 - loss: 0.5264\n",
      "Epoch 15: val_loss improved from 0.51393 to 0.50083, saving model to ./models_temp/LSTM_best_model.h5\n"
     ]
    },
    {
     "name": "stderr",
     "output_type": "stream",
     "text": [
      "WARNING:absl:You are saving your model as an HDF5 file via `model.save()` or `keras.saving.save_model(model)`. This file format is considered legacy. We recommend using instead the native Keras format, e.g. `model.save('my_model.keras')` or `keras.saving.save_model(model, 'my_model.keras')`. \n",
      "WARNING:absl:You are saving your model as an HDF5 file via `model.save()` or `keras.saving.save_model(model)`. This file format is considered legacy. We recommend using instead the native Keras format, e.g. `model.save('my_model.keras')` or `keras.saving.save_model(model, 'my_model.keras')`. \n"
     ]
    },
    {
     "name": "stdout",
     "output_type": "stream",
     "text": [
      "\u001b[1m94/94\u001b[0m \u001b[32m━━━━━━━━━━━━━━━━━━━━\u001b[0m\u001b[37m\u001b[0m \u001b[1m1s\u001b[0m 11ms/step - Precision: 0.6121 - Recall: 0.7710 - acc: 0.7587 - loss: 0.5265 - val_Precision: 0.6678 - val_Recall: 0.6066 - val_acc: 0.7694 - val_loss: 0.5008\n",
      "Epoch 16/100\n",
      "\u001b[1m89/94\u001b[0m \u001b[32m━━━━━━━━━━━━━━━━━━\u001b[0m\u001b[37m━━\u001b[0m \u001b[1m0s\u001b[0m 8ms/step - Precision: 0.5909 - Recall: 0.7462 - acc: 0.7420 - loss: 0.5415\n",
      "Epoch 16: val_loss did not improve from 0.50083\n",
      "\u001b[1m94/94\u001b[0m \u001b[32m━━━━━━━━━━━━━━━━━━━━\u001b[0m\u001b[37m\u001b[0m \u001b[1m1s\u001b[0m 10ms/step - Precision: 0.5907 - Recall: 0.7474 - acc: 0.7422 - loss: 0.5409 - val_Precision: 0.5879 - val_Recall: 0.7706 - val_acc: 0.7447 - val_loss: 0.5331\n",
      "Epoch 17/100\n",
      "\u001b[1m89/94\u001b[0m \u001b[32m━━━━━━━━━━━━━━━━━━\u001b[0m\u001b[37m━━\u001b[0m \u001b[1m0s\u001b[0m 9ms/step - Precision: 0.5790 - Recall: 0.7740 - acc: 0.7356 - loss: 0.5381\n",
      "Epoch 17: val_loss did not improve from 0.50083\n",
      "\u001b[1m94/94\u001b[0m \u001b[32m━━━━━━━━━━━━━━━━━━━━\u001b[0m\u001b[37m\u001b[0m \u001b[1m1s\u001b[0m 10ms/step - Precision: 0.5795 - Recall: 0.7736 - acc: 0.7361 - loss: 0.5377 - val_Precision: 0.6018 - val_Recall: 0.7404 - val_acc: 0.7513 - val_loss: 0.5263\n",
      "Epoch 18/100\n",
      "\u001b[1m89/94\u001b[0m \u001b[32m━━━━━━━━━━━━━━━━━━\u001b[0m\u001b[37m━━\u001b[0m \u001b[1m0s\u001b[0m 8ms/step - Precision: 0.5953 - Recall: 0.7752 - acc: 0.7508 - loss: 0.5278\n",
      "Epoch 18: val_loss did not improve from 0.50083\n",
      "\u001b[1m94/94\u001b[0m \u001b[32m━━━━━━━━━━━━━━━━━━━━\u001b[0m\u001b[37m\u001b[0m \u001b[1m1s\u001b[0m 10ms/step - Precision: 0.5955 - Recall: 0.7751 - acc: 0.7510 - loss: 0.5276 - val_Precision: 0.6250 - val_Recall: 0.7093 - val_acc: 0.7623 - val_loss: 0.5105\n",
      "Epoch 19/100\n",
      "\u001b[1m90/94\u001b[0m \u001b[32m━━━━━━━━━━━━━━━━━━━\u001b[0m\u001b[37m━\u001b[0m \u001b[1m0s\u001b[0m 8ms/step - Precision: 0.5782 - Recall: 0.7757 - acc: 0.7361 - loss: 0.5345\n",
      "Epoch 19: val_loss did not improve from 0.50083\n",
      "\u001b[1m94/94\u001b[0m \u001b[32m━━━━━━━━━━━━━━━━━━━━\u001b[0m\u001b[37m\u001b[0m \u001b[1m1s\u001b[0m 10ms/step - Precision: 0.5789 - Recall: 0.7759 - acc: 0.7367 - loss: 0.5340 - val_Precision: 0.5670 - val_Recall: 0.8129 - val_acc: 0.7320 - val_loss: 0.5573\n",
      "Epoch 20/100\n",
      "\u001b[1m90/94\u001b[0m \u001b[32m━━━━━━━━━━━━━━━━━━━\u001b[0m\u001b[37m━\u001b[0m \u001b[1m0s\u001b[0m 8ms/step - Precision: 0.5901 - Recall: 0.7827 - acc: 0.7374 - loss: 0.5399\n",
      "Epoch 20: val_loss did not improve from 0.50083\n",
      "\u001b[1m94/94\u001b[0m \u001b[32m━━━━━━━━━━━━━━━━━━━━\u001b[0m\u001b[37m\u001b[0m \u001b[1m1s\u001b[0m 10ms/step - Precision: 0.5903 - Recall: 0.7825 - acc: 0.7381 - loss: 0.5391 - val_Precision: 0.5946 - val_Recall: 0.7686 - val_acc: 0.7493 - val_loss: 0.5224\n",
      "Epoch 21/100\n",
      "\u001b[1m89/94\u001b[0m \u001b[32m━━━━━━━━━━━━━━━━━━\u001b[0m\u001b[37m━━\u001b[0m \u001b[1m0s\u001b[0m 8ms/step - Precision: 0.5920 - Recall: 0.7802 - acc: 0.7501 - loss: 0.5272\n",
      "Epoch 21: val_loss did not improve from 0.50083\n",
      "\u001b[1m94/94\u001b[0m \u001b[32m━━━━━━━━━━━━━━━━━━━━\u001b[0m\u001b[37m\u001b[0m \u001b[1m1s\u001b[0m 10ms/step - Precision: 0.5920 - Recall: 0.7802 - acc: 0.7501 - loss: 0.5269 - val_Precision: 0.5816 - val_Recall: 0.7998 - val_acc: 0.7427 - val_loss: 0.5338\n",
      "Epoch 22/100\n",
      "\u001b[1m90/94\u001b[0m \u001b[32m━━━━━━━━━━━━━━━━━━━\u001b[0m\u001b[37m━\u001b[0m \u001b[1m0s\u001b[0m 8ms/step - Precision: 0.5977 - Recall: 0.8067 - acc: 0.7524 - loss: 0.5154\n",
      "Epoch 22: val_loss did not improve from 0.50083\n",
      "\u001b[1m94/94\u001b[0m \u001b[32m━━━━━━━━━━━━━━━━━━━━\u001b[0m\u001b[37m\u001b[0m \u001b[1m1s\u001b[0m 10ms/step - Precision: 0.5973 - Recall: 0.8055 - acc: 0.7522 - loss: 0.5159 - val_Precision: 0.6232 - val_Recall: 0.7123 - val_acc: 0.7617 - val_loss: 0.5212\n",
      "Epoch 23/100\n",
      "\u001b[1m92/94\u001b[0m \u001b[32m━━━━━━━━━━━━━━━━━━━\u001b[0m\u001b[37m━\u001b[0m \u001b[1m0s\u001b[0m 8ms/step - Precision: 0.6072 - Recall: 0.7768 - acc: 0.7559 - loss: 0.5240\n",
      "Epoch 23: val_loss did not improve from 0.50083\n",
      "\u001b[1m94/94\u001b[0m \u001b[32m━━━━━━━━━━━━━━━━━━━━\u001b[0m\u001b[37m\u001b[0m \u001b[1m1s\u001b[0m 10ms/step - Precision: 0.6069 - Recall: 0.7768 - acc: 0.7558 - loss: 0.5239 - val_Precision: 0.6304 - val_Recall: 0.7002 - val_acc: 0.7644 - val_loss: 0.5039\n",
      "Epoch 24/100\n",
      "\u001b[1m89/94\u001b[0m \u001b[32m━━━━━━━━━━━━━━━━━━\u001b[0m\u001b[37m━━\u001b[0m \u001b[1m0s\u001b[0m 8ms/step - Precision: 0.6039 - Recall: 0.7801 - acc: 0.7647 - loss: 0.5115\n",
      "Epoch 24: val_loss did not improve from 0.50083\n",
      "\u001b[1m94/94\u001b[0m \u001b[32m━━━━━━━━━━━━━━━━━━━━\u001b[0m\u001b[37m\u001b[0m \u001b[1m1s\u001b[0m 10ms/step - Precision: 0.6033 - Recall: 0.7801 - acc: 0.7637 - loss: 0.5124 - val_Precision: 0.6057 - val_Recall: 0.7435 - val_acc: 0.7543 - val_loss: 0.5155\n",
      "Epoch 25/100\n",
      "\u001b[1m93/94\u001b[0m \u001b[32m━━━━━━━━━━━━━━━━━━━\u001b[0m\u001b[37m━\u001b[0m \u001b[1m0s\u001b[0m 8ms/step - Precision: 0.6113 - Recall: 0.7924 - acc: 0.7574 - loss: 0.5198\n",
      "Epoch 25: val_loss improved from 0.50083 to 0.49552, saving model to ./models_temp/LSTM_best_model.h5\n"
     ]
    },
    {
     "name": "stderr",
     "output_type": "stream",
     "text": [
      "WARNING:absl:You are saving your model as an HDF5 file via `model.save()` or `keras.saving.save_model(model)`. This file format is considered legacy. We recommend using instead the native Keras format, e.g. `model.save('my_model.keras')` or `keras.saving.save_model(model, 'my_model.keras')`. \n",
      "WARNING:absl:You are saving your model as an HDF5 file via `model.save()` or `keras.saving.save_model(model)`. This file format is considered legacy. We recommend using instead the native Keras format, e.g. `model.save('my_model.keras')` or `keras.saving.save_model(model, 'my_model.keras')`. \n"
     ]
    },
    {
     "name": "stdout",
     "output_type": "stream",
     "text": [
      "\u001b[1m94/94\u001b[0m \u001b[32m━━━━━━━━━━━━━━━━━━━━\u001b[0m\u001b[37m\u001b[0m \u001b[1m1s\u001b[0m 11ms/step - Precision: 0.6109 - Recall: 0.7922 - acc: 0.7573 - loss: 0.5198 - val_Precision: 0.6670 - val_Recall: 0.6147 - val_acc: 0.7704 - val_loss: 0.4955\n",
      "Epoch 26/100\n",
      "\u001b[1m90/94\u001b[0m \u001b[32m━━━━━━━━━━━━━━━━━━━\u001b[0m\u001b[37m━\u001b[0m \u001b[1m0s\u001b[0m 9ms/step - Precision: 0.5936 - Recall: 0.7639 - acc: 0.7448 - loss: 0.5376\n",
      "Epoch 26: val_loss did not improve from 0.49552\n",
      "\u001b[1m94/94\u001b[0m \u001b[32m━━━━━━━━━━━━━━━━━━━━\u001b[0m\u001b[37m\u001b[0m \u001b[1m1s\u001b[0m 10ms/step - Precision: 0.5937 - Recall: 0.7647 - acc: 0.7451 - loss: 0.5369 - val_Precision: 0.5796 - val_Recall: 0.8058 - val_acc: 0.7417 - val_loss: 0.5367\n",
      "Epoch 27/100\n",
      "\u001b[1m92/94\u001b[0m \u001b[32m━━━━━━━━━━━━━━━━━━━\u001b[0m\u001b[37m━\u001b[0m \u001b[1m0s\u001b[0m 8ms/step - Precision: 0.5978 - Recall: 0.7779 - acc: 0.7527 - loss: 0.5209\n",
      "Epoch 27: val_loss did not improve from 0.49552\n",
      "\u001b[1m94/94\u001b[0m \u001b[32m━━━━━━━━━━━━━━━━━━━━\u001b[0m\u001b[37m\u001b[0m \u001b[1m1s\u001b[0m 10ms/step - Precision: 0.5978 - Recall: 0.7780 - acc: 0.7527 - loss: 0.5210 - val_Precision: 0.6070 - val_Recall: 0.7364 - val_acc: 0.7543 - val_loss: 0.5097\n",
      "Epoch 28/100\n",
      "\u001b[1m91/94\u001b[0m \u001b[32m━━━━━━━━━━━━━━━━━━━\u001b[0m\u001b[37m━\u001b[0m \u001b[1m0s\u001b[0m 8ms/step - Precision: 0.5958 - Recall: 0.7887 - acc: 0.7566 - loss: 0.5142\n",
      "Epoch 28: val_loss did not improve from 0.49552\n",
      "\u001b[1m94/94\u001b[0m \u001b[32m━━━━━━━━━━━━━━━━━━━━\u001b[0m\u001b[37m\u001b[0m \u001b[1m1s\u001b[0m 10ms/step - Precision: 0.5960 - Recall: 0.7885 - acc: 0.7566 - loss: 0.5144 - val_Precision: 0.5536 - val_Recall: 0.8421 - val_acc: 0.7223 - val_loss: 0.5567\n",
      "Epoch 29/100\n",
      "\u001b[1m90/94\u001b[0m \u001b[32m━━━━━━━━━━━━━━━━━━━\u001b[0m\u001b[37m━\u001b[0m \u001b[1m0s\u001b[0m 8ms/step - Precision: 0.5892 - Recall: 0.7968 - acc: 0.7441 - loss: 0.5279\n",
      "Epoch 29: val_loss did not improve from 0.49552\n",
      "\u001b[1m94/94\u001b[0m \u001b[32m━━━━━━━━━━━━━━━━━━━━\u001b[0m\u001b[37m\u001b[0m \u001b[1m1s\u001b[0m 10ms/step - Precision: 0.5895 - Recall: 0.7960 - acc: 0.7445 - loss: 0.5276 - val_Precision: 0.5555 - val_Recall: 0.8410 - val_acc: 0.7240 - val_loss: 0.5667\n",
      "Epoch 30/100\n",
      "\u001b[1m89/94\u001b[0m \u001b[32m━━━━━━━━━━━━━━━━━━\u001b[0m\u001b[37m━━\u001b[0m \u001b[1m0s\u001b[0m 8ms/step - Precision: 0.5858 - Recall: 0.7893 - acc: 0.7457 - loss: 0.5220\n",
      "Epoch 30: val_loss did not improve from 0.49552\n",
      "\u001b[1m94/94\u001b[0m \u001b[32m━━━━━━━━━━━━━━━━━━━━\u001b[0m\u001b[37m\u001b[0m \u001b[1m1s\u001b[0m 10ms/step - Precision: 0.5864 - Recall: 0.7889 - acc: 0.7461 - loss: 0.5219 - val_Precision: 0.5985 - val_Recall: 0.7797 - val_acc: 0.7533 - val_loss: 0.5263\n",
      "Epoch 31/100\n",
      "\u001b[1m94/94\u001b[0m \u001b[32m━━━━━━━━━━━━━━━━━━━━\u001b[0m\u001b[37m\u001b[0m \u001b[1m0s\u001b[0m 8ms/step - Precision: 0.6055 - Recall: 0.7853 - acc: 0.7626 - loss: 0.5040\n",
      "Epoch 31: val_loss did not improve from 0.49552\n",
      "\u001b[1m94/94\u001b[0m \u001b[32m━━━━━━━━━━━━━━━━━━━━\u001b[0m\u001b[37m\u001b[0m \u001b[1m1s\u001b[0m 10ms/step - Precision: 0.6054 - Recall: 0.7852 - acc: 0.7625 - loss: 0.5041 - val_Precision: 0.6205 - val_Recall: 0.7123 - val_acc: 0.7600 - val_loss: 0.5029\n",
      "Epoch 32/100\n",
      "\u001b[1m93/94\u001b[0m \u001b[32m━━━━━━━━━━━━━━━━━━━\u001b[0m\u001b[37m━\u001b[0m \u001b[1m0s\u001b[0m 8ms/step - Precision: 0.5991 - Recall: 0.7894 - acc: 0.7526 - loss: 0.5194\n",
      "Epoch 32: val_loss did not improve from 0.49552\n",
      "\u001b[1m94/94\u001b[0m \u001b[32m━━━━━━━━━━━━━━━━━━━━\u001b[0m\u001b[37m\u001b[0m \u001b[1m1s\u001b[0m 10ms/step - Precision: 0.5990 - Recall: 0.7894 - acc: 0.7526 - loss: 0.5194 - val_Precision: 0.6102 - val_Recall: 0.7465 - val_acc: 0.7577 - val_loss: 0.5123\n",
      "Epoch 33/100\n",
      "\u001b[1m91/94\u001b[0m \u001b[32m━━━━━━━━━━━━━━━━━━━\u001b[0m\u001b[37m━\u001b[0m \u001b[1m0s\u001b[0m 8ms/step - Precision: 0.5986 - Recall: 0.8013 - acc: 0.7549 - loss: 0.5122\n",
      "Epoch 33: val_loss did not improve from 0.49552\n",
      "\u001b[1m94/94\u001b[0m \u001b[32m━━━━━━━━━━━━━━━━━━━━\u001b[0m\u001b[37m\u001b[0m \u001b[1m1s\u001b[0m 10ms/step - Precision: 0.5985 - Recall: 0.8006 - acc: 0.7548 - loss: 0.5124 - val_Precision: 0.5400 - val_Recall: 0.8622 - val_acc: 0.7106 - val_loss: 0.5814\n",
      "Epoch 34/100\n",
      "\u001b[1m89/94\u001b[0m \u001b[32m━━━━━━━━━━━━━━━━━━\u001b[0m\u001b[37m━━\u001b[0m \u001b[1m0s\u001b[0m 8ms/step - Precision: 0.5792 - Recall: 0.7969 - acc: 0.7419 - loss: 0.5198\n",
      "Epoch 34: val_loss did not improve from 0.49552\n",
      "\u001b[1m94/94\u001b[0m \u001b[32m━━━━━━━━━━━━━━━━━━━━\u001b[0m\u001b[37m\u001b[0m \u001b[1m1s\u001b[0m 10ms/step - Precision: 0.5800 - Recall: 0.7964 - acc: 0.7423 - loss: 0.5199 - val_Precision: 0.5982 - val_Recall: 0.7535 - val_acc: 0.7503 - val_loss: 0.5275\n",
      "Epoch 35/100\n",
      "\u001b[1m93/94\u001b[0m \u001b[32m━━━━━━━━━━━━━━━━━━━\u001b[0m\u001b[37m━\u001b[0m \u001b[1m0s\u001b[0m 8ms/step - Precision: 0.6003 - Recall: 0.7812 - acc: 0.7514 - loss: 0.5162\n",
      "Epoch 35: val_loss did not improve from 0.49552\n",
      "\u001b[1m94/94\u001b[0m \u001b[32m━━━━━━━━━━━━━━━━━━━━\u001b[0m\u001b[37m\u001b[0m \u001b[1m1s\u001b[0m 10ms/step - Precision: 0.6002 - Recall: 0.7813 - acc: 0.7514 - loss: 0.5162 - val_Precision: 0.6149 - val_Recall: 0.7243 - val_acc: 0.7580 - val_loss: 0.5057\n",
      "Epoch 35: early stopping\n",
      "Restoring model weights from the end of the best epoch: 25.\n",
      "\u001b[1m1/1\u001b[0m \u001b[32m━━━━━━━━━━━━━━━━━━━━\u001b[0m\u001b[37m\u001b[0m \u001b[1m0s\u001b[0m 190ms/step\n"
     ]
    },
    {
     "name": "stderr",
     "output_type": "stream",
     "text": [
      "Registered model 'LSTM-model' already exists. Creating a new version of this model...\n",
      "Created version '20' of model 'LSTM-model'.\n"
     ]
    },
    {
     "name": "stdout",
     "output_type": "stream",
     "text": [
      "\u001b[1m94/94\u001b[0m \u001b[32m━━━━━━━━━━━━━━━━━━━━\u001b[0m\u001b[37m\u001b[0m \u001b[1m0s\u001b[0m 2ms/step\n",
      "{'0': {'precision': 0.8158653846153846, 'recall': 0.8476523476523476, 'f1-score': 0.8314551690347869, 'support': 2002.0}, '1': {'precision': 0.6670305676855895, 'recall': 0.6146881287726358, 'f1-score': 0.6397905759162303, 'support': 994.0}, 'accuracy': 0.7703604806408545, 'macro_avg': {'precision': 0.7414479761504871, 'recall': 0.7311702382124917, 'f1-score': 0.7356228724755086, 'support': 2996.0}, 'weighted_avg': {'precision': 0.766485608905032, 'recall': 0.7703604806408545, 'f1-score': 0.7678655143085368, 'support': 2996.0}}\n",
      "              precision    recall  f1-score   support\n",
      "\n",
      "         0.0       0.82      0.85      0.83      2002\n",
      "         1.0       0.67      0.61      0.64       994\n",
      "\n",
      "    accuracy                           0.77      2996\n",
      "   macro avg       0.74      0.73      0.74      2996\n",
      "weighted avg       0.77      0.77      0.77      2996\n",
      "\n"
     ]
    }
   ],
   "source": [
    "import numpy as np\n",
    "import mlflow\n",
    "import mlflow.tensorflow\n",
    "from tensorflow.keras.models import Sequential\n",
    "from tensorflow.keras.layers import LSTM, Dense, Dropout\n",
    "from tensorflow.keras.regularizers import l2\n",
    "from tensorflow.keras.optimizers import Adam\n",
    "from tensorflow.keras.callbacks import EarlyStopping, ModelCheckpoint\n",
    "from sklearn.utils.class_weight import compute_class_weight\n",
    "\n",
    "# ⚠️ 確保 y 是 numpy array 且為 float32\n",
    "y_train = y_train.astype(np.float32)\n",
    "y_test = y_test.astype(np.float32)\n",
    "X_test = X_test.astype(np.float32)\n",
    "X_train = X_train.astype(np.float32)\n",
    "\n",
    "# ⚖️ 計算 class_weight\n",
    "classes = np.unique(y_train)\n",
    "class_weights = compute_class_weight(class_weight='balanced', classes=classes, y=y_train)\n",
    "class_weight_dict = dict(zip(classes, class_weights))\n",
    "\n",
    "run_name = Tryname + '_LSTM'\n",
    "\n",
    "# 🎯 模型訓練\n",
    "with mlflow.start_run(run_name='LSTM'):\n",
    "    mlflow.tensorflow.autolog()\n",
    "\n",
    "    model = Sequential([\n",
    "        LSTM(64, input_shape=(X_train.shape[1], X_train.shape[2]), return_sequences=True,\n",
    "             kernel_regularizer=l2(0.001)),\n",
    "        Dropout(0.3),\n",
    "        LSTM(32, kernel_regularizer=l2(0.001)),\n",
    "        Dropout(0.3),\n",
    "        Dense(1, activation='sigmoid', kernel_regularizer=l2(0.001))\n",
    "    ])\n",
    "    model.summary()\n",
    "\n",
    "    model.compile(loss='bce', optimizer=Adam(learning_rate=0.0005), metrics=['acc', 'Recall', 'Precision'])\n",
    "\n",
    "    early_stop = EarlyStopping(monitor='val_loss', patience=10, verbose=1, restore_best_weights=True)\n",
    "    checkpoint = ModelCheckpoint('./models_temp/LSTM_best_model.h5', monitor='val_loss', save_best_only=True, verbose=1)\n",
    "\n",
    "    history = model.fit(\n",
    "        X_train, y_train,\n",
    "        validation_data=(X_test, y_test),\n",
    "        epochs=100,\n",
    "        batch_size=128,\n",
    "        callbacks=[early_stop, checkpoint],\n",
    "        class_weight=class_weight_dict,\n",
    "        verbose=1\n",
    "    )\n",
    "\n",
    "    # 評估\n",
    "    train_loss, train_acc, train_recall, train_precision = model.evaluate(X_train, y_train, verbose=0)\n",
    "    test_loss, test_acc, test_recall, test_precision = model.evaluate(X_test, y_test, verbose=0)\n",
    "    mlflow.log_metric(\"Train score\", train_acc)#mlflow\n",
    "    mlflow.log_metric(\"Test score\", test_acc)#mlflow\n",
    "    #註冊模型\n",
    "    run_id = mlflow.active_run().info.run_id#mlflow\n",
    "    result = mlflow.register_model(\n",
    "        model_uri=f\"runs:/{run_id}/model\",  # 你要用 mlflow.log_model 存的位置\n",
    "        name=\"LSTM-model\"              # 註冊後的 model name\n",
    "    )\n",
    "    \n",
    "    #confusion matrix\n",
    "    from sklearn.metrics import classification_report\n",
    "    y_pred = model.predict(X_test)\n",
    "    y_pred_class = (y_pred > 0.5).astype(int) \n",
    "    report_dict = classification_report(y_test, y_pred_class , output_dict=True)\n",
    "    \n",
    "\n",
    "    clean_report = {}\n",
    "    for raw_label, metrics in report_dict.items():\n",
    "        try:\n",
    "            # 如果 raw_label 能轉成 float，再轉成 int，就把 '0.0' → 0 → '0'\n",
    "            clean_label = str(int(float(raw_label)))\n",
    "        except ValueError:\n",
    "            # 否則把空格換底線：'macro avg' → 'macro_avg'\n",
    "            clean_label = raw_label.replace(\" \", \"_\")\n",
    "\n",
    "        clean_report[clean_label] = metrics\n",
    "    for label, metrics in clean_report.items():\n",
    "        if isinstance(metrics, dict):\n",
    "            for metric_name, value in metrics.items():\n",
    "                metric_key = f\"{label}_{metric_name}\"\n",
    "                mlflow.log_metric(metric_key, value)\n",
    "        else:\n",
    "            # accuracy 之類的單一 float\n",
    "            mlflow.log_metric(label, metrics)\n",
    "    print(clean_report)\n",
    "    print(classification_report(y_test, y_pred_class))\n",
    "\n"
   ]
  },
  {
   "cell_type": "markdown",
   "id": "bc17272b",
   "metadata": {},
   "source": [
    "### 模型評估指標\n",
    "\n",
    "---\n",
    "\n",
    "- **accuracy**：\n",
    "  - 整體正確率，即模型預測正確的比例（所有類別加總後的平均）。  \n",
    "  - **高值** 代表模型整體預測正確率高，所有類別都處理得不錯。  \n",
    "  - **低值** 代表整體表現差，尤其在類別不平衡時易被誤導。\n",
    "\n",
    "\n",
    "- **Test_score**：\n",
    "  - 模型在測試資料上的準確率，反映模型的泛化能力。  \n",
    "  - **高值** 代表模型能夠準確預測新資料，沒有過擬合。  \n",
    "  - **低值** 代表模型泛化能力差，可能只學會了訓練資料的特性。\n",
    "\n",
    "\n",
    "- **Train_score**：\n",
    "  - 模型在訓練資料上的準確率，反映學習能力。  \n",
    "  - **高值** 代表模型已充分學會訓練資料的模式。  \n",
    "  - 若高但 **Test_score** 低，則可能出現過擬合；若低則代表模型學習不足。\n",
    "\n",
    "---\n",
    "\n",
    "- **0_f1_score**：\n",
    "  - 衡量模型在預測類別 0（負類）時 **Precision** 和 **Recall** 的綜合表現。  \n",
    "  - **高值** 代表模型能穩定且準確地識別負類。  \n",
    "  - **低值** 代表模型常把負類誤判為正類，或預測不穩定。\n",
    "\n",
    "\n",
    "- **0_precision**：\n",
    "  - 在所有預測為類別 0 的樣本中，有多少實際是正確的。  \n",
    "  - **高值** 代表預測為負類時很少誤判，誤判為 0 的樣本不多。  \n",
    "  - **低值** 代表模型常把正類誤判為負類，降低了可信度。\n",
    "\n",
    "\n",
    "- **0_recall**：\n",
    "  - 在所有實際為類別 0 的樣本中，有多少被正確預測出來。  \n",
    "  - **高值** 代表模型幾乎能抓到所有負類樣本，漏判少。  \n",
    "  - **低值** 代表很多負類樣本沒被模型識別出來。\n",
    "\n",
    "---\n",
    "\n",
    "- **1_f1_score**：\n",
    "  - 衡量模型在預測類別 1（正類）時 **Precision** 和 **Recall** 的綜合表現。  \n",
    "  - **高值** 代表模型能穩定且準確地識別正類。  \n",
    "  - **低值** 代表模型常漏判正類，或預測不穩定。\n",
    "\n",
    "\n",
    "- **1_precision**：\n",
    "  - 在所有預測為類別 1 的樣本中，有多少是實際正類。  \n",
    "  - **高值** 代表預測為正類時很少誤判，誤判為 1 的樣本不多。  \n",
    "  - **低值** 代表模型常把負類誤判為正類，造成誤報。\n",
    "\n",
    "\n",
    "- **1_recall**：\n",
    "  - 在所有實際為類別 1 的樣本中，有多少被正確預測出來。  \n",
    "  - **高值** 代表模型能成功捕捉大部分正類樣本。  \n",
    "  - **低值** 代表模型漏判大量正類樣本，可能導致漏報風險。\n",
    "\n",
    "---"
   ]
  },
  {
   "cell_type": "markdown",
   "id": "1b37cf7b",
   "metadata": {},
   "source": []
  }
 ],
 "metadata": {
  "kernelspec": {
   "display_name": "Python 3",
   "language": "python",
   "name": "python3"
  },
  "language_info": {
   "codemirror_mode": {
    "name": "ipython",
    "version": 3
   },
   "file_extension": ".py",
   "mimetype": "text/x-python",
   "name": "python",
   "nbconvert_exporter": "python",
   "pygments_lexer": "ipython3",
   "version": "3.11.9"
  }
 },
 "nbformat": 4,
 "nbformat_minor": 5
}
