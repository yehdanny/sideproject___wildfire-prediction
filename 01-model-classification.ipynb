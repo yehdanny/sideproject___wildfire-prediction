{
 "cells": [
  {
   "cell_type": "code",
   "execution_count": 1,
   "id": "250c3ea3-6f2f-458c-9ae7-9dea44ba5c47",
   "metadata": {},
   "outputs": [],
   "source": [
    "import pandas as pd\n",
    "import numpy as np\n",
    "import datetime\n",
    "import time\n",
    "\n",
    "from sklearn.model_selection import train_test_split, GridSearchCV\n",
    "from sklearn.pipeline import Pipeline\n",
    "from sklearn.preprocessing import StandardScaler\n",
    "from sklearn.linear_model import LinearRegression, LogisticRegression\n",
    "from sklearn.ensemble import RandomForestClassifier, VotingClassifier, AdaBoostClassifier, GradientBoostingClassifier\n",
    "from sklearn.neighbors import KNeighborsClassifier\n",
    "from sklearn.naive_bayes import MultinomialNB\n",
    "from sklearn import metrics\n",
    "\n",
    "from xgboost import XGBRegressor\n",
    "\n",
    "from tensorflow.keras.models import Sequential\n",
    "from tensorflow.keras.layers import Dense, Dropout, BatchNormalization\n",
    "from tensorflow.keras.callbacks import EarlyStopping\n",
    "from tensorflow.keras.regularizers import l1, l2, l1_l2\n",
    "\n",
    "%matplotlib inline"
   ]
  },
  {
   "cell_type": "markdown",
   "id": "e66d9f16-e599-4efc-a78a-91077e180fe0",
   "metadata": {},
   "source": [
    "### Data\n",
    "---"
   ]
  },
  {
   "cell_type": "code",
   "execution_count": 2,
   "id": "e54d3c3d-5a8e-4846-ab47-4f5c374b9857",
   "metadata": {},
   "outputs": [],
   "source": [
    "df = pd.read_csv('./data/combined.csv')"
   ]
  },
  {
   "cell_type": "code",
   "execution_count": 3,
   "id": "74234481-2c74-46ef-8b53-84a6a682d6e9",
   "metadata": {},
   "outputs": [
    {
     "data": {
      "text/html": [
       "<div>\n",
       "<style scoped>\n",
       "    .dataframe tbody tr th:only-of-type {\n",
       "        vertical-align: middle;\n",
       "    }\n",
       "\n",
       "    .dataframe tbody tr th {\n",
       "        vertical-align: top;\n",
       "    }\n",
       "\n",
       "    .dataframe thead th {\n",
       "        text-align: right;\n",
       "    }\n",
       "</style>\n",
       "<table border=\"1\" class=\"dataframe\">\n",
       "  <thead>\n",
       "    <tr style=\"text-align: right;\">\n",
       "      <th></th>\n",
       "      <th>date</th>\n",
       "      <th>county</th>\n",
       "      <th>maxtempF</th>\n",
       "      <th>mintempF</th>\n",
       "      <th>avgtempF</th>\n",
       "      <th>totalSnow</th>\n",
       "      <th>humid</th>\n",
       "      <th>wind</th>\n",
       "      <th>precip</th>\n",
       "      <th>q_avgtempF</th>\n",
       "      <th>q_avghumid</th>\n",
       "      <th>q_sumprecip</th>\n",
       "      <th>sunHour</th>\n",
       "      <th>FIRE_NAME</th>\n",
       "      <th>CAUSE</th>\n",
       "      <th>lat</th>\n",
       "      <th>long</th>\n",
       "      <th>GIS_ACRES</th>\n",
       "    </tr>\n",
       "  </thead>\n",
       "  <tbody>\n",
       "    <tr>\n",
       "      <th>0</th>\n",
       "      <td>2008-07</td>\n",
       "      <td>Santa Barbara County</td>\n",
       "      <td>89.129032</td>\n",
       "      <td>59.709677</td>\n",
       "      <td>80.548387</td>\n",
       "      <td>0.0</td>\n",
       "      <td>41.451613</td>\n",
       "      <td>7.354839</td>\n",
       "      <td>0.0</td>\n",
       "      <td>72.937634</td>\n",
       "      <td>34.079570</td>\n",
       "      <td>0.010000</td>\n",
       "      <td>13.164516</td>\n",
       "      <td>no_fire</td>\n",
       "      <td>0.0</td>\n",
       "      <td>34.54</td>\n",
       "      <td>-120.04</td>\n",
       "      <td>0.000000</td>\n",
       "    </tr>\n",
       "    <tr>\n",
       "      <th>1</th>\n",
       "      <td>2008-07</td>\n",
       "      <td>Calaveras County</td>\n",
       "      <td>96.419355</td>\n",
       "      <td>51.290323</td>\n",
       "      <td>87.032258</td>\n",
       "      <td>0.0</td>\n",
       "      <td>33.580645</td>\n",
       "      <td>5.387097</td>\n",
       "      <td>0.0</td>\n",
       "      <td>65.217204</td>\n",
       "      <td>38.434409</td>\n",
       "      <td>0.068065</td>\n",
       "      <td>14.022581</td>\n",
       "      <td>SERPENTINE</td>\n",
       "      <td>1.0</td>\n",
       "      <td>38.18</td>\n",
       "      <td>-120.56</td>\n",
       "      <td>176.763400</td>\n",
       "    </tr>\n",
       "    <tr>\n",
       "      <th>2</th>\n",
       "      <td>2008-07</td>\n",
       "      <td>Calaveras County</td>\n",
       "      <td>96.419355</td>\n",
       "      <td>51.290323</td>\n",
       "      <td>87.032258</td>\n",
       "      <td>0.0</td>\n",
       "      <td>33.580645</td>\n",
       "      <td>5.387097</td>\n",
       "      <td>0.0</td>\n",
       "      <td>65.217204</td>\n",
       "      <td>38.434409</td>\n",
       "      <td>0.068065</td>\n",
       "      <td>14.022581</td>\n",
       "      <td>POOL 2 - MAIN</td>\n",
       "      <td>10.0</td>\n",
       "      <td>38.18</td>\n",
       "      <td>-120.56</td>\n",
       "      <td>73.444778</td>\n",
       "    </tr>\n",
       "    <tr>\n",
       "      <th>3</th>\n",
       "      <td>2008-07</td>\n",
       "      <td>Calaveras County</td>\n",
       "      <td>96.419355</td>\n",
       "      <td>51.290323</td>\n",
       "      <td>87.032258</td>\n",
       "      <td>0.0</td>\n",
       "      <td>33.580645</td>\n",
       "      <td>5.387097</td>\n",
       "      <td>0.0</td>\n",
       "      <td>65.217204</td>\n",
       "      <td>38.434409</td>\n",
       "      <td>0.068065</td>\n",
       "      <td>14.022581</td>\n",
       "      <td>FRENCH</td>\n",
       "      <td>14.0</td>\n",
       "      <td>38.18</td>\n",
       "      <td>-120.56</td>\n",
       "      <td>101.074150</td>\n",
       "    </tr>\n",
       "    <tr>\n",
       "      <th>4</th>\n",
       "      <td>2008-07</td>\n",
       "      <td>Calaveras County</td>\n",
       "      <td>96.419355</td>\n",
       "      <td>51.290323</td>\n",
       "      <td>87.032258</td>\n",
       "      <td>0.0</td>\n",
       "      <td>33.580645</td>\n",
       "      <td>5.387097</td>\n",
       "      <td>0.0</td>\n",
       "      <td>65.217204</td>\n",
       "      <td>38.434409</td>\n",
       "      <td>0.068065</td>\n",
       "      <td>14.022581</td>\n",
       "      <td>EVANS</td>\n",
       "      <td>6.0</td>\n",
       "      <td>38.18</td>\n",
       "      <td>-120.56</td>\n",
       "      <td>103.968050</td>\n",
       "    </tr>\n",
       "  </tbody>\n",
       "</table>\n",
       "</div>"
      ],
      "text/plain": [
       "      date                county   maxtempF   mintempF   avgtempF  totalSnow  \\\n",
       "0  2008-07  Santa Barbara County  89.129032  59.709677  80.548387        0.0   \n",
       "1  2008-07      Calaveras County  96.419355  51.290323  87.032258        0.0   \n",
       "2  2008-07      Calaveras County  96.419355  51.290323  87.032258        0.0   \n",
       "3  2008-07      Calaveras County  96.419355  51.290323  87.032258        0.0   \n",
       "4  2008-07      Calaveras County  96.419355  51.290323  87.032258        0.0   \n",
       "\n",
       "       humid      wind  precip  q_avgtempF  q_avghumid  q_sumprecip  \\\n",
       "0  41.451613  7.354839     0.0   72.937634   34.079570     0.010000   \n",
       "1  33.580645  5.387097     0.0   65.217204   38.434409     0.068065   \n",
       "2  33.580645  5.387097     0.0   65.217204   38.434409     0.068065   \n",
       "3  33.580645  5.387097     0.0   65.217204   38.434409     0.068065   \n",
       "4  33.580645  5.387097     0.0   65.217204   38.434409     0.068065   \n",
       "\n",
       "     sunHour       FIRE_NAME  CAUSE    lat    long   GIS_ACRES  \n",
       "0  13.164516         no_fire    0.0  34.54 -120.04    0.000000  \n",
       "1  14.022581      SERPENTINE    1.0  38.18 -120.56  176.763400  \n",
       "2  14.022581  POOL 2 - MAIN    10.0  38.18 -120.56   73.444778  \n",
       "3  14.022581          FRENCH   14.0  38.18 -120.56  101.074150  \n",
       "4  14.022581           EVANS    6.0  38.18 -120.56  103.968050  "
      ]
     },
     "execution_count": 3,
     "metadata": {},
     "output_type": "execute_result"
    }
   ],
   "source": [
    "df.head()"
   ]
  },
  {
   "cell_type": "code",
   "execution_count": 4,
   "id": "c7605f37-1c0d-4c65-b158-b724353ebed1",
   "metadata": {},
   "outputs": [],
   "source": [
    "df = df.drop(columns=['FIRE_NAME', 'lat', 'long'])"
   ]
  },
  {
   "cell_type": "code",
   "execution_count": 5,
   "id": "753548e6-d868-436b-b281-aeb31d529ba5",
   "metadata": {},
   "outputs": [
    {
     "data": {
      "text/html": [
       "<div>\n",
       "<style scoped>\n",
       "    .dataframe tbody tr th:only-of-type {\n",
       "        vertical-align: middle;\n",
       "    }\n",
       "\n",
       "    .dataframe tbody tr th {\n",
       "        vertical-align: top;\n",
       "    }\n",
       "\n",
       "    .dataframe thead th {\n",
       "        text-align: right;\n",
       "    }\n",
       "</style>\n",
       "<table border=\"1\" class=\"dataframe\">\n",
       "  <thead>\n",
       "    <tr style=\"text-align: right;\">\n",
       "      <th></th>\n",
       "      <th>date</th>\n",
       "      <th>county</th>\n",
       "      <th>maxtempF</th>\n",
       "      <th>mintempF</th>\n",
       "      <th>avgtempF</th>\n",
       "      <th>totalSnow</th>\n",
       "      <th>humid</th>\n",
       "      <th>wind</th>\n",
       "      <th>precip</th>\n",
       "      <th>q_avgtempF</th>\n",
       "      <th>q_avghumid</th>\n",
       "      <th>q_sumprecip</th>\n",
       "      <th>sunHour</th>\n",
       "      <th>CAUSE</th>\n",
       "      <th>GIS_ACRES</th>\n",
       "      <th>bool</th>\n",
       "    </tr>\n",
       "  </thead>\n",
       "  <tbody>\n",
       "    <tr>\n",
       "      <th>0</th>\n",
       "      <td>2008-07</td>\n",
       "      <td>Santa Barbara County</td>\n",
       "      <td>89.129032</td>\n",
       "      <td>59.709677</td>\n",
       "      <td>80.548387</td>\n",
       "      <td>0.0</td>\n",
       "      <td>41.451613</td>\n",
       "      <td>7.354839</td>\n",
       "      <td>0.0</td>\n",
       "      <td>72.937634</td>\n",
       "      <td>34.07957</td>\n",
       "      <td>0.01</td>\n",
       "      <td>13.164516</td>\n",
       "      <td>0.0</td>\n",
       "      <td>0.0</td>\n",
       "      <td>0</td>\n",
       "    </tr>\n",
       "  </tbody>\n",
       "</table>\n",
       "</div>"
      ],
      "text/plain": [
       "      date                county   maxtempF   mintempF   avgtempF  totalSnow  \\\n",
       "0  2008-07  Santa Barbara County  89.129032  59.709677  80.548387        0.0   \n",
       "\n",
       "       humid      wind  precip  q_avgtempF  q_avghumid  q_sumprecip  \\\n",
       "0  41.451613  7.354839     0.0   72.937634    34.07957         0.01   \n",
       "\n",
       "     sunHour  CAUSE  GIS_ACRES  bool  \n",
       "0  13.164516    0.0        0.0     0  "
      ]
     },
     "execution_count": 5,
     "metadata": {},
     "output_type": "execute_result"
    }
   ],
   "source": [
    "df['bool'] = (df['GIS_ACRES'] > 0) * 1\n",
    "df.head(1)"
   ]
  },
  {
   "cell_type": "code",
   "execution_count": 6,
   "id": "8882bd35-ee47-40d0-9888-a52b31ebc265",
   "metadata": {},
   "outputs": [
    {
     "data": {
      "text/html": [
       "<div>\n",
       "<style scoped>\n",
       "    .dataframe tbody tr th:only-of-type {\n",
       "        vertical-align: middle;\n",
       "    }\n",
       "\n",
       "    .dataframe tbody tr th {\n",
       "        vertical-align: top;\n",
       "    }\n",
       "\n",
       "    .dataframe thead th {\n",
       "        text-align: right;\n",
       "    }\n",
       "</style>\n",
       "<table border=\"1\" class=\"dataframe\">\n",
       "  <thead>\n",
       "    <tr style=\"text-align: right;\">\n",
       "      <th></th>\n",
       "      <th>date</th>\n",
       "      <th>county</th>\n",
       "      <th>maxtempF</th>\n",
       "      <th>mintempF</th>\n",
       "      <th>avgtempF</th>\n",
       "      <th>totalSnow</th>\n",
       "      <th>humid</th>\n",
       "      <th>wind</th>\n",
       "      <th>precip</th>\n",
       "      <th>q_avgtempF</th>\n",
       "      <th>q_avghumid</th>\n",
       "      <th>q_sumprecip</th>\n",
       "      <th>sunHour</th>\n",
       "      <th>CAUSE</th>\n",
       "      <th>GIS_ACRES</th>\n",
       "      <th>bool</th>\n",
       "    </tr>\n",
       "  </thead>\n",
       "  <tbody>\n",
       "    <tr>\n",
       "      <th>0</th>\n",
       "      <td>[2008, 07]</td>\n",
       "      <td>Santa Barbara County</td>\n",
       "      <td>89.129032</td>\n",
       "      <td>59.709677</td>\n",
       "      <td>80.548387</td>\n",
       "      <td>0.0</td>\n",
       "      <td>41.451613</td>\n",
       "      <td>7.354839</td>\n",
       "      <td>0.0</td>\n",
       "      <td>72.937634</td>\n",
       "      <td>34.07957</td>\n",
       "      <td>0.01</td>\n",
       "      <td>13.164516</td>\n",
       "      <td>0.0</td>\n",
       "      <td>0.0</td>\n",
       "      <td>0</td>\n",
       "    </tr>\n",
       "  </tbody>\n",
       "</table>\n",
       "</div>"
      ],
      "text/plain": [
       "         date                county   maxtempF   mintempF   avgtempF  \\\n",
       "0  [2008, 07]  Santa Barbara County  89.129032  59.709677  80.548387   \n",
       "\n",
       "   totalSnow      humid      wind  precip  q_avgtempF  q_avghumid  \\\n",
       "0        0.0  41.451613  7.354839     0.0   72.937634    34.07957   \n",
       "\n",
       "   q_sumprecip    sunHour  CAUSE  GIS_ACRES  bool  \n",
       "0         0.01  13.164516    0.0        0.0     0  "
      ]
     },
     "execution_count": 6,
     "metadata": {},
     "output_type": "execute_result"
    }
   ],
   "source": [
    "df['date'] = [x.split('-') for x in df['date']]\n",
    "df.head(1)"
   ]
  },
  {
   "cell_type": "code",
   "execution_count": 7,
   "id": "8a2bd009-ab33-4f71-a04d-e764d1994a1b",
   "metadata": {},
   "outputs": [
    {
     "data": {
      "text/html": [
       "<div>\n",
       "<style scoped>\n",
       "    .dataframe tbody tr th:only-of-type {\n",
       "        vertical-align: middle;\n",
       "    }\n",
       "\n",
       "    .dataframe tbody tr th {\n",
       "        vertical-align: top;\n",
       "    }\n",
       "\n",
       "    .dataframe thead th {\n",
       "        text-align: right;\n",
       "    }\n",
       "</style>\n",
       "<table border=\"1\" class=\"dataframe\">\n",
       "  <thead>\n",
       "    <tr style=\"text-align: right;\">\n",
       "      <th></th>\n",
       "      <th>date</th>\n",
       "      <th>county</th>\n",
       "      <th>maxtempF</th>\n",
       "      <th>mintempF</th>\n",
       "      <th>avgtempF</th>\n",
       "      <th>totalSnow</th>\n",
       "      <th>humid</th>\n",
       "      <th>wind</th>\n",
       "      <th>precip</th>\n",
       "      <th>q_avgtempF</th>\n",
       "      <th>q_avghumid</th>\n",
       "      <th>q_sumprecip</th>\n",
       "      <th>sunHour</th>\n",
       "      <th>CAUSE</th>\n",
       "      <th>GIS_ACRES</th>\n",
       "      <th>bool</th>\n",
       "      <th>year</th>\n",
       "    </tr>\n",
       "  </thead>\n",
       "  <tbody>\n",
       "    <tr>\n",
       "      <th>0</th>\n",
       "      <td>[2008, 07]</td>\n",
       "      <td>Santa Barbara County</td>\n",
       "      <td>89.129032</td>\n",
       "      <td>59.709677</td>\n",
       "      <td>80.548387</td>\n",
       "      <td>0.0</td>\n",
       "      <td>41.451613</td>\n",
       "      <td>7.354839</td>\n",
       "      <td>0.0</td>\n",
       "      <td>72.937634</td>\n",
       "      <td>34.07957</td>\n",
       "      <td>0.01</td>\n",
       "      <td>13.164516</td>\n",
       "      <td>0.0</td>\n",
       "      <td>0.0</td>\n",
       "      <td>0</td>\n",
       "      <td>2008</td>\n",
       "    </tr>\n",
       "  </tbody>\n",
       "</table>\n",
       "</div>"
      ],
      "text/plain": [
       "         date                county   maxtempF   mintempF   avgtempF  \\\n",
       "0  [2008, 07]  Santa Barbara County  89.129032  59.709677  80.548387   \n",
       "\n",
       "   totalSnow      humid      wind  precip  q_avgtempF  q_avghumid  \\\n",
       "0        0.0  41.451613  7.354839     0.0   72.937634    34.07957   \n",
       "\n",
       "   q_sumprecip    sunHour  CAUSE  GIS_ACRES  bool  year  \n",
       "0         0.01  13.164516    0.0        0.0     0  2008  "
      ]
     },
     "execution_count": 7,
     "metadata": {},
     "output_type": "execute_result"
    }
   ],
   "source": [
    "df['year'] = [int(x[0]) for x in df['date']]\n",
    "df.head(1)"
   ]
  },
  {
   "cell_type": "code",
   "execution_count": 8,
   "id": "5a61f7ac-cee6-4645-aeb6-198ee32c8098",
   "metadata": {},
   "outputs": [
    {
     "data": {
      "text/html": [
       "<div>\n",
       "<style scoped>\n",
       "    .dataframe tbody tr th:only-of-type {\n",
       "        vertical-align: middle;\n",
       "    }\n",
       "\n",
       "    .dataframe tbody tr th {\n",
       "        vertical-align: top;\n",
       "    }\n",
       "\n",
       "    .dataframe thead th {\n",
       "        text-align: right;\n",
       "    }\n",
       "</style>\n",
       "<table border=\"1\" class=\"dataframe\">\n",
       "  <thead>\n",
       "    <tr style=\"text-align: right;\">\n",
       "      <th></th>\n",
       "      <th>date</th>\n",
       "      <th>county</th>\n",
       "      <th>maxtempF</th>\n",
       "      <th>mintempF</th>\n",
       "      <th>avgtempF</th>\n",
       "      <th>totalSnow</th>\n",
       "      <th>humid</th>\n",
       "      <th>wind</th>\n",
       "      <th>precip</th>\n",
       "      <th>q_avgtempF</th>\n",
       "      <th>q_avghumid</th>\n",
       "      <th>q_sumprecip</th>\n",
       "      <th>sunHour</th>\n",
       "      <th>CAUSE</th>\n",
       "      <th>GIS_ACRES</th>\n",
       "      <th>bool</th>\n",
       "      <th>year</th>\n",
       "      <th>month</th>\n",
       "    </tr>\n",
       "  </thead>\n",
       "  <tbody>\n",
       "    <tr>\n",
       "      <th>0</th>\n",
       "      <td>[2008, 07]</td>\n",
       "      <td>Santa Barbara County</td>\n",
       "      <td>89.129032</td>\n",
       "      <td>59.709677</td>\n",
       "      <td>80.548387</td>\n",
       "      <td>0.0</td>\n",
       "      <td>41.451613</td>\n",
       "      <td>7.354839</td>\n",
       "      <td>0.0</td>\n",
       "      <td>72.937634</td>\n",
       "      <td>34.07957</td>\n",
       "      <td>0.01</td>\n",
       "      <td>13.164516</td>\n",
       "      <td>0.0</td>\n",
       "      <td>0.0</td>\n",
       "      <td>0</td>\n",
       "      <td>2008</td>\n",
       "      <td>7</td>\n",
       "    </tr>\n",
       "  </tbody>\n",
       "</table>\n",
       "</div>"
      ],
      "text/plain": [
       "         date                county   maxtempF   mintempF   avgtempF  \\\n",
       "0  [2008, 07]  Santa Barbara County  89.129032  59.709677  80.548387   \n",
       "\n",
       "   totalSnow      humid      wind  precip  q_avgtempF  q_avghumid  \\\n",
       "0        0.0  41.451613  7.354839     0.0   72.937634    34.07957   \n",
       "\n",
       "   q_sumprecip    sunHour  CAUSE  GIS_ACRES  bool  year  month  \n",
       "0         0.01  13.164516    0.0        0.0     0  2008      7  "
      ]
     },
     "execution_count": 8,
     "metadata": {},
     "output_type": "execute_result"
    }
   ],
   "source": [
    "df['month'] = [int(x[1]) for x in df['date']]\n",
    "df.head(1)"
   ]
  },
  {
   "cell_type": "code",
   "execution_count": 9,
   "id": "c9597054-c05e-4096-ac0c-de65abad7015",
   "metadata": {},
   "outputs": [
    {
     "data": {
      "text/plain": [
       "(10988, 18)"
      ]
     },
     "execution_count": 9,
     "metadata": {},
     "output_type": "execute_result"
    }
   ],
   "source": [
    "df.shape"
   ]
  },
  {
   "cell_type": "code",
   "execution_count": 10,
   "id": "18ccd776-ef23-47d7-875c-47ce34e5c03a",
   "metadata": {},
   "outputs": [
    {
     "data": {
      "text/html": [
       "<div>\n",
       "<style scoped>\n",
       "    .dataframe tbody tr th:only-of-type {\n",
       "        vertical-align: middle;\n",
       "    }\n",
       "\n",
       "    .dataframe tbody tr th {\n",
       "        vertical-align: top;\n",
       "    }\n",
       "\n",
       "    .dataframe thead th {\n",
       "        text-align: right;\n",
       "    }\n",
       "</style>\n",
       "<table border=\"1\" class=\"dataframe\">\n",
       "  <thead>\n",
       "    <tr style=\"text-align: right;\">\n",
       "      <th></th>\n",
       "      <th>date</th>\n",
       "      <th>county</th>\n",
       "      <th>maxtempF</th>\n",
       "      <th>mintempF</th>\n",
       "      <th>avgtempF</th>\n",
       "      <th>totalSnow</th>\n",
       "      <th>humid</th>\n",
       "      <th>wind</th>\n",
       "      <th>precip</th>\n",
       "      <th>q_avgtempF</th>\n",
       "      <th>q_avghumid</th>\n",
       "      <th>q_sumprecip</th>\n",
       "      <th>sunHour</th>\n",
       "      <th>CAUSE</th>\n",
       "      <th>GIS_ACRES</th>\n",
       "      <th>bool</th>\n",
       "      <th>year</th>\n",
       "      <th>month</th>\n",
       "    </tr>\n",
       "  </thead>\n",
       "  <tbody>\n",
       "    <tr>\n",
       "      <th>0</th>\n",
       "      <td>[2008, 07]</td>\n",
       "      <td>Santa Barbara County</td>\n",
       "      <td>89.129032</td>\n",
       "      <td>59.709677</td>\n",
       "      <td>80.548387</td>\n",
       "      <td>0.0</td>\n",
       "      <td>41.451613</td>\n",
       "      <td>7.354839</td>\n",
       "      <td>0.0</td>\n",
       "      <td>72.937634</td>\n",
       "      <td>34.07957</td>\n",
       "      <td>0.01</td>\n",
       "      <td>13.164516</td>\n",
       "      <td>0.0</td>\n",
       "      <td>0.0</td>\n",
       "      <td>0</td>\n",
       "      <td>2008</td>\n",
       "      <td>7</td>\n",
       "    </tr>\n",
       "  </tbody>\n",
       "</table>\n",
       "</div>"
      ],
      "text/plain": [
       "         date                county   maxtempF   mintempF   avgtempF  \\\n",
       "0  [2008, 07]  Santa Barbara County  89.129032  59.709677  80.548387   \n",
       "\n",
       "   totalSnow      humid      wind  precip  q_avgtempF  q_avghumid  \\\n",
       "0        0.0  41.451613  7.354839     0.0   72.937634    34.07957   \n",
       "\n",
       "   q_sumprecip    sunHour  CAUSE  GIS_ACRES  bool  year  month  \n",
       "0         0.01  13.164516    0.0        0.0     0  2008      7  "
      ]
     },
     "execution_count": 10,
     "metadata": {},
     "output_type": "execute_result"
    }
   ],
   "source": [
    "df_dummy = pd.get_dummies(df, columns=['month'])\n",
    "df.head(1)"
   ]
  },
  {
   "cell_type": "code",
   "execution_count": 11,
   "id": "fcf1d470",
   "metadata": {},
   "outputs": [
    {
     "data": {
      "text/html": [
       "<div>\n",
       "<style scoped>\n",
       "    .dataframe tbody tr th:only-of-type {\n",
       "        vertical-align: middle;\n",
       "    }\n",
       "\n",
       "    .dataframe tbody tr th {\n",
       "        vertical-align: top;\n",
       "    }\n",
       "\n",
       "    .dataframe thead th {\n",
       "        text-align: right;\n",
       "    }\n",
       "</style>\n",
       "<table border=\"1\" class=\"dataframe\">\n",
       "  <thead>\n",
       "    <tr style=\"text-align: right;\">\n",
       "      <th></th>\n",
       "      <th>date</th>\n",
       "      <th>county</th>\n",
       "      <th>maxtempF</th>\n",
       "      <th>mintempF</th>\n",
       "      <th>avgtempF</th>\n",
       "      <th>totalSnow</th>\n",
       "      <th>humid</th>\n",
       "      <th>wind</th>\n",
       "      <th>precip</th>\n",
       "      <th>q_avgtempF</th>\n",
       "      <th>...</th>\n",
       "      <th>month_3</th>\n",
       "      <th>month_4</th>\n",
       "      <th>month_5</th>\n",
       "      <th>month_6</th>\n",
       "      <th>month_7</th>\n",
       "      <th>month_8</th>\n",
       "      <th>month_9</th>\n",
       "      <th>month_10</th>\n",
       "      <th>month_11</th>\n",
       "      <th>month_12</th>\n",
       "    </tr>\n",
       "  </thead>\n",
       "  <tbody>\n",
       "    <tr>\n",
       "      <th>0</th>\n",
       "      <td>[2008, 07]</td>\n",
       "      <td>Santa Barbara County</td>\n",
       "      <td>89.129032</td>\n",
       "      <td>59.709677</td>\n",
       "      <td>80.548387</td>\n",
       "      <td>0.0</td>\n",
       "      <td>41.451613</td>\n",
       "      <td>7.354839</td>\n",
       "      <td>0.0</td>\n",
       "      <td>72.937634</td>\n",
       "      <td>...</td>\n",
       "      <td>False</td>\n",
       "      <td>False</td>\n",
       "      <td>False</td>\n",
       "      <td>False</td>\n",
       "      <td>True</td>\n",
       "      <td>False</td>\n",
       "      <td>False</td>\n",
       "      <td>False</td>\n",
       "      <td>False</td>\n",
       "      <td>False</td>\n",
       "    </tr>\n",
       "  </tbody>\n",
       "</table>\n",
       "<p>1 rows × 29 columns</p>\n",
       "</div>"
      ],
      "text/plain": [
       "         date                county   maxtempF   mintempF   avgtempF  \\\n",
       "0  [2008, 07]  Santa Barbara County  89.129032  59.709677  80.548387   \n",
       "\n",
       "   totalSnow      humid      wind  precip  q_avgtempF  ...  month_3  month_4  \\\n",
       "0        0.0  41.451613  7.354839     0.0   72.937634  ...    False    False   \n",
       "\n",
       "   month_5  month_6  month_7  month_8  month_9  month_10  month_11  month_12  \n",
       "0    False    False     True    False    False     False     False     False  \n",
       "\n",
       "[1 rows x 29 columns]"
      ]
     },
     "execution_count": 11,
     "metadata": {},
     "output_type": "execute_result"
    }
   ],
   "source": [
    "df_dummy.head(1)"
   ]
  },
  {
   "cell_type": "code",
   "execution_count": 12,
   "id": "bdd6355d-e1f4-40fb-aef9-9763193f6ef2",
   "metadata": {},
   "outputs": [],
   "source": [
    "# test = ['2008', '07']\n",
    "# datetime.datetime(int(test[0]), int(test[1]), 1).timestamp()"
   ]
  },
  {
   "cell_type": "code",
   "execution_count": 13,
   "id": "ef641c33-7dbe-433d-bda1-a9383d8d7590",
   "metadata": {},
   "outputs": [
    {
     "name": "stdout",
     "output_type": "stream",
     "text": [
      "<class 'pandas.core.frame.DataFrame'>\n",
      "RangeIndex: 10988 entries, 0 to 10987\n",
      "Data columns (total 29 columns):\n",
      " #   Column       Non-Null Count  Dtype  \n",
      "---  ------       --------------  -----  \n",
      " 0   date         10988 non-null  object \n",
      " 1   county       10988 non-null  object \n",
      " 2   maxtempF     10988 non-null  float64\n",
      " 3   mintempF     10988 non-null  float64\n",
      " 4   avgtempF     10988 non-null  float64\n",
      " 5   totalSnow    10988 non-null  float64\n",
      " 6   humid        10988 non-null  float64\n",
      " 7   wind         10988 non-null  float64\n",
      " 8   precip       10988 non-null  float64\n",
      " 9   q_avgtempF   10988 non-null  float64\n",
      " 10  q_avghumid   10988 non-null  float64\n",
      " 11  q_sumprecip  10988 non-null  float64\n",
      " 12  sunHour      10988 non-null  float64\n",
      " 13  CAUSE        10988 non-null  float64\n",
      " 14  GIS_ACRES    10988 non-null  float64\n",
      " 15  bool         10988 non-null  int64  \n",
      " 16  year         10988 non-null  int64  \n",
      " 17  month_1      10988 non-null  bool   \n",
      " 18  month_2      10988 non-null  bool   \n",
      " 19  month_3      10988 non-null  bool   \n",
      " 20  month_4      10988 non-null  bool   \n",
      " 21  month_5      10988 non-null  bool   \n",
      " 22  month_6      10988 non-null  bool   \n",
      " 23  month_7      10988 non-null  bool   \n",
      " 24  month_8      10988 non-null  bool   \n",
      " 25  month_9      10988 non-null  bool   \n",
      " 26  month_10     10988 non-null  bool   \n",
      " 27  month_11     10988 non-null  bool   \n",
      " 28  month_12     10988 non-null  bool   \n",
      "dtypes: bool(12), float64(13), int64(2), object(2)\n",
      "memory usage: 1.6+ MB\n"
     ]
    }
   ],
   "source": [
    "df_dummy.info()"
   ]
  },
  {
   "cell_type": "code",
   "execution_count": 14,
   "id": "54132a6c-61dd-4c4f-bad4-942ffa5b6c17",
   "metadata": {},
   "outputs": [
    {
     "data": {
      "text/html": [
       "<div>\n",
       "<style scoped>\n",
       "    .dataframe tbody tr th:only-of-type {\n",
       "        vertical-align: middle;\n",
       "    }\n",
       "\n",
       "    .dataframe tbody tr th {\n",
       "        vertical-align: top;\n",
       "    }\n",
       "\n",
       "    .dataframe thead th {\n",
       "        text-align: right;\n",
       "    }\n",
       "</style>\n",
       "<table border=\"1\" class=\"dataframe\">\n",
       "  <thead>\n",
       "    <tr style=\"text-align: right;\">\n",
       "      <th></th>\n",
       "      <th>date</th>\n",
       "      <th>county</th>\n",
       "      <th>maxtempF</th>\n",
       "      <th>mintempF</th>\n",
       "      <th>avgtempF</th>\n",
       "      <th>totalSnow</th>\n",
       "      <th>humid</th>\n",
       "      <th>wind</th>\n",
       "      <th>precip</th>\n",
       "      <th>q_avgtempF</th>\n",
       "      <th>...</th>\n",
       "      <th>month_3</th>\n",
       "      <th>month_4</th>\n",
       "      <th>month_5</th>\n",
       "      <th>month_6</th>\n",
       "      <th>month_7</th>\n",
       "      <th>month_8</th>\n",
       "      <th>month_9</th>\n",
       "      <th>month_10</th>\n",
       "      <th>month_11</th>\n",
       "      <th>month_12</th>\n",
       "    </tr>\n",
       "  </thead>\n",
       "  <tbody>\n",
       "    <tr>\n",
       "      <th>0</th>\n",
       "      <td>[2008, 07]</td>\n",
       "      <td>Santa Barbara County</td>\n",
       "      <td>89.129032</td>\n",
       "      <td>59.709677</td>\n",
       "      <td>80.548387</td>\n",
       "      <td>0.0</td>\n",
       "      <td>41.451613</td>\n",
       "      <td>7.354839</td>\n",
       "      <td>0.0</td>\n",
       "      <td>72.937634</td>\n",
       "      <td>...</td>\n",
       "      <td>False</td>\n",
       "      <td>False</td>\n",
       "      <td>False</td>\n",
       "      <td>False</td>\n",
       "      <td>True</td>\n",
       "      <td>False</td>\n",
       "      <td>False</td>\n",
       "      <td>False</td>\n",
       "      <td>False</td>\n",
       "      <td>False</td>\n",
       "    </tr>\n",
       "    <tr>\n",
       "      <th>1</th>\n",
       "      <td>[2008, 07]</td>\n",
       "      <td>Calaveras County</td>\n",
       "      <td>96.419355</td>\n",
       "      <td>51.290323</td>\n",
       "      <td>87.032258</td>\n",
       "      <td>0.0</td>\n",
       "      <td>33.580645</td>\n",
       "      <td>5.387097</td>\n",
       "      <td>0.0</td>\n",
       "      <td>65.217204</td>\n",
       "      <td>...</td>\n",
       "      <td>False</td>\n",
       "      <td>False</td>\n",
       "      <td>False</td>\n",
       "      <td>False</td>\n",
       "      <td>True</td>\n",
       "      <td>False</td>\n",
       "      <td>False</td>\n",
       "      <td>False</td>\n",
       "      <td>False</td>\n",
       "      <td>False</td>\n",
       "    </tr>\n",
       "    <tr>\n",
       "      <th>2</th>\n",
       "      <td>[2008, 07]</td>\n",
       "      <td>Calaveras County</td>\n",
       "      <td>96.419355</td>\n",
       "      <td>51.290323</td>\n",
       "      <td>87.032258</td>\n",
       "      <td>0.0</td>\n",
       "      <td>33.580645</td>\n",
       "      <td>5.387097</td>\n",
       "      <td>0.0</td>\n",
       "      <td>65.217204</td>\n",
       "      <td>...</td>\n",
       "      <td>False</td>\n",
       "      <td>False</td>\n",
       "      <td>False</td>\n",
       "      <td>False</td>\n",
       "      <td>True</td>\n",
       "      <td>False</td>\n",
       "      <td>False</td>\n",
       "      <td>False</td>\n",
       "      <td>False</td>\n",
       "      <td>False</td>\n",
       "    </tr>\n",
       "    <tr>\n",
       "      <th>3</th>\n",
       "      <td>[2008, 07]</td>\n",
       "      <td>Calaveras County</td>\n",
       "      <td>96.419355</td>\n",
       "      <td>51.290323</td>\n",
       "      <td>87.032258</td>\n",
       "      <td>0.0</td>\n",
       "      <td>33.580645</td>\n",
       "      <td>5.387097</td>\n",
       "      <td>0.0</td>\n",
       "      <td>65.217204</td>\n",
       "      <td>...</td>\n",
       "      <td>False</td>\n",
       "      <td>False</td>\n",
       "      <td>False</td>\n",
       "      <td>False</td>\n",
       "      <td>True</td>\n",
       "      <td>False</td>\n",
       "      <td>False</td>\n",
       "      <td>False</td>\n",
       "      <td>False</td>\n",
       "      <td>False</td>\n",
       "    </tr>\n",
       "    <tr>\n",
       "      <th>4</th>\n",
       "      <td>[2008, 07]</td>\n",
       "      <td>Calaveras County</td>\n",
       "      <td>96.419355</td>\n",
       "      <td>51.290323</td>\n",
       "      <td>87.032258</td>\n",
       "      <td>0.0</td>\n",
       "      <td>33.580645</td>\n",
       "      <td>5.387097</td>\n",
       "      <td>0.0</td>\n",
       "      <td>65.217204</td>\n",
       "      <td>...</td>\n",
       "      <td>False</td>\n",
       "      <td>False</td>\n",
       "      <td>False</td>\n",
       "      <td>False</td>\n",
       "      <td>True</td>\n",
       "      <td>False</td>\n",
       "      <td>False</td>\n",
       "      <td>False</td>\n",
       "      <td>False</td>\n",
       "      <td>False</td>\n",
       "    </tr>\n",
       "  </tbody>\n",
       "</table>\n",
       "<p>5 rows × 29 columns</p>\n",
       "</div>"
      ],
      "text/plain": [
       "         date                county   maxtempF   mintempF   avgtempF  \\\n",
       "0  [2008, 07]  Santa Barbara County  89.129032  59.709677  80.548387   \n",
       "1  [2008, 07]      Calaveras County  96.419355  51.290323  87.032258   \n",
       "2  [2008, 07]      Calaveras County  96.419355  51.290323  87.032258   \n",
       "3  [2008, 07]      Calaveras County  96.419355  51.290323  87.032258   \n",
       "4  [2008, 07]      Calaveras County  96.419355  51.290323  87.032258   \n",
       "\n",
       "   totalSnow      humid      wind  precip  q_avgtempF  ...  month_3  month_4  \\\n",
       "0        0.0  41.451613  7.354839     0.0   72.937634  ...    False    False   \n",
       "1        0.0  33.580645  5.387097     0.0   65.217204  ...    False    False   \n",
       "2        0.0  33.580645  5.387097     0.0   65.217204  ...    False    False   \n",
       "3        0.0  33.580645  5.387097     0.0   65.217204  ...    False    False   \n",
       "4        0.0  33.580645  5.387097     0.0   65.217204  ...    False    False   \n",
       "\n",
       "   month_5  month_6  month_7  month_8  month_9  month_10  month_11  month_12  \n",
       "0    False    False     True    False    False     False     False     False  \n",
       "1    False    False     True    False    False     False     False     False  \n",
       "2    False    False     True    False    False     False     False     False  \n",
       "3    False    False     True    False    False     False     False     False  \n",
       "4    False    False     True    False    False     False     False     False  \n",
       "\n",
       "[5 rows x 29 columns]"
      ]
     },
     "execution_count": 14,
     "metadata": {},
     "output_type": "execute_result"
    }
   ],
   "source": [
    "df_dummy.head()"
   ]
  },
  {
   "cell_type": "markdown",
   "id": "74a7547f-0440-49d7-97c4-86b2f78c868b",
   "metadata": {},
   "source": [
    "### Classification\n",
    "---"
   ]
  },
  {
   "cell_type": "code",
   "execution_count": 15,
   "id": "9964fafa-e2d0-455f-849b-e1e52ab7f692",
   "metadata": {},
   "outputs": [],
   "source": [
    "X = df_dummy.drop(columns=['GIS_ACRES', 'date', 'q_avgtempF', 'q_avghumid', 'q_sumprecip', 'maxtempF', 'mintempF', 'CAUSE', 'bool', 'county'])\n",
    "y = df_dummy['bool']\n",
    "\n",
    "X_train, X_test, y_train, y_test = train_test_split(X, y, random_state=42, test_size=0.3)"
   ]
  },
  {
   "cell_type": "code",
   "execution_count": 16,
   "id": "25acb2f5-098d-4102-9c44-9a197c123a82",
   "metadata": {},
   "outputs": [
    {
     "data": {
      "text/plain": [
       "bool\n",
       "0    0.638424\n",
       "1    0.361576\n",
       "Name: proportion, dtype: float64"
      ]
     },
     "execution_count": 16,
     "metadata": {},
     "output_type": "execute_result"
    }
   ],
   "source": [
    "df['bool'].value_counts(normalize=True) #Unbalanced data"
   ]
  },
  {
   "cell_type": "markdown",
   "id": "6ade8769",
   "metadata": {},
   "source": [
    "## mlflow\n",
    "\n",
    "import mlflow"
   ]
  },
  {
   "cell_type": "code",
   "execution_count": 17,
   "id": "3ca6b83e",
   "metadata": {},
   "outputs": [
    {
     "data": {
      "text/plain": [
       "<Experiment: artifact_location='file:///c:/Users/ygz08/Desktop/Git/localgit/MLOPs/Predictable_wildfire/mlruns/805848653222892541', creation_time=1746175907264, experiment_id='805848653222892541', last_update_time=1746175907264, lifecycle_stage='active', name='wildfire-prediction', tags={}>"
      ]
     },
     "execution_count": 17,
     "metadata": {},
     "output_type": "execute_result"
    }
   ],
   "source": [
    "import mlflow\n",
    "from mlflow.tracking.client import MlflowClient\n",
    "mlflow.set_experiment(\"wildfire-prediction\")"
   ]
  },
  {
   "cell_type": "markdown",
   "id": "c0b93b8c",
   "metadata": {},
   "source": [
    "## 羅吉斯回歸"
   ]
  },
  {
   "cell_type": "code",
   "execution_count": 18,
   "id": "d4876001",
   "metadata": {},
   "outputs": [
    {
     "name": "stderr",
     "output_type": "stream",
     "text": [
      "C:\\Users\\ygz08\\AppData\\Local\\Packages\\PythonSoftwareFoundation.Python.3.11_qbz5n2kfra8p0\\LocalCache\\local-packages\\Python311\\site-packages\\sklearn\\linear_model\\_logistic.py:465: ConvergenceWarning: lbfgs failed to converge (status=1):\n",
      "STOP: TOTAL NO. OF ITERATIONS REACHED LIMIT.\n",
      "\n",
      "Increase the number of iterations (max_iter) or scale the data as shown in:\n",
      "    https://scikit-learn.org/stable/modules/preprocessing.html\n",
      "Please also refer to the documentation for alternative solver options:\n",
      "    https://scikit-learn.org/stable/modules/linear_model.html#logistic-regression\n",
      "  n_iter_i = _check_optimize_result(\n"
     ]
    },
    {
     "name": "stdout",
     "output_type": "stream",
     "text": [
      "Model saved in run 0194c7540ed1476893cb81fe00ba3b5f\n",
      "Train score: 0.7434663892861787\n",
      "Test score: 0.7573551713679102\n"
     ]
    },
    {
     "name": "stderr",
     "output_type": "stream",
     "text": [
      "2025/05/02 19:05:04 WARNING mlflow.models.model: Model logged without a signature and input example. Please set `input_example` parameter when logging the model to auto infer the model signature.\n",
      "Registered model 'LogisticRegression-model' already exists. Creating a new version of this model...\n",
      "Created version '3' of model 'LogisticRegression-model'.\n"
     ]
    }
   ],
   "source": [
    "from sklearn.linear_model import LogisticRegression\n",
    "\n",
    "with mlflow.start_run(run_name='LogisticRegression'):#mlflow\n",
    "    mlflow.tensorflow.autolog()#mlflow\n",
    "    max_iter=1000 \n",
    "    #mlflow.log_param(\"max_iter\", max_iter) #mlflow紀錄參數n_estimators\n",
    "# 方法四：使用 class_weight='balanced'\n",
    "    log_reg = LogisticRegression(max_iter=max_iter, class_weight='balanced')\n",
    "    log_reg.fit(X_train, y_train)\n",
    "    run_id = mlflow.active_run().info.run_id#mlflow\n",
    "    print(f\"Model saved in run {run_id}\")#mlflow\n",
    "    \n",
    "\n",
    "    # 檢查訓練與測試分數\n",
    "    print(\"Train score:\", log_reg.score(X_train, y_train))\n",
    "    print(\"Test score:\", log_reg.score(X_test, y_test))\n",
    "\n",
    "    mlflow.log_metric(\"Train score\", log_reg.score(X_train, y_train))#mlflow\n",
    "    mlflow.log_metric(\"Test score\", log_reg.score(X_test, y_test))#mlflow\n",
    "\n",
    "\n",
    "    # 存檔模型mlflow\n",
    "    model_name = \"LogisticRegression-model\"\n",
    "    mlflow.sklearn.log_model(     #mlflow.sklearn.log_model() #紀錄sklearn模型\n",
    "        sk_model=log_reg, \n",
    "        artifact_path=\"LogisticRegression-model\",\n",
    "        registered_model_name=model_name,  #\n",
    "    )\n",
    "\n"
   ]
  },
  {
   "cell_type": "code",
   "execution_count": 19,
   "id": "82a321c5",
   "metadata": {},
   "outputs": [],
   "source": [
    "#description=\"Logistic Regression model with class_weight='balanced'\"\n"
   ]
  },
  {
   "cell_type": "markdown",
   "id": "a80c81dc",
   "metadata": {},
   "source": [
    "###  羅吉斯回歸-混淆矩陣"
   ]
  },
  {
   "cell_type": "code",
   "execution_count": 20,
   "id": "e2cf4943",
   "metadata": {},
   "outputs": [
    {
     "data": {
      "image/png": "[encoded data removed]",
      "text/plain": [
       "<Figure size 640x480 with 2 Axes>"
      ]
     },
     "metadata": {},
     "output_type": "display_data"
    },
    {
     "name": "stdout",
     "output_type": "stream",
     "text": [
      "Classification Report:\n",
      "\n",
      "              precision    recall  f1-score   support\n",
      "\n",
      "           0     0.8778    0.7188    0.7904      2098\n",
      "           1     0.6263    0.8249    0.7120      1199\n",
      "\n",
      "    accuracy                         0.7574      3297\n",
      "   macro avg     0.7521    0.7718    0.7512      3297\n",
      "weighted avg     0.7863    0.7574    0.7619      3297\n",
      "\n"
     ]
    }
   ],
   "source": [
    "from sklearn.linear_model import LogisticRegression\n",
    "from sklearn.metrics import confusion_matrix, classification_report\n",
    "import matplotlib.pyplot as plt\n",
    "import seaborn as sns\n",
    "\n",
    "y_pred = log_reg.predict(X_test)\n",
    "\n",
    "# 混淆矩陣\n",
    "cm = confusion_matrix(y_test, y_pred)\n",
    "sns.heatmap(cm, annot=True, fmt='d', cmap='Blues', xticklabels=[0,1], yticklabels=[0,1])\n",
    "plt.xlabel(\"Predicted\")\n",
    "plt.ylabel(\"Actual\")\n",
    "plt.title(\"Confusion Matrix\")\n",
    "plt.show()\n",
    "\n",
    "# classification report（包含 precision, recall, f1-score）\n",
    "print(\"Classification Report:\\n\")\n",
    "print(classification_report(y_test, y_pred, digits=4))"
   ]
  },
  {
   "cell_type": "code",
   "execution_count": 21,
   "id": "513588e1-7dd0-49b8-be16-d26a13e9f9e3",
   "metadata": {},
   "outputs": [],
   "source": [
    "pd.set_option('display.max_row', None)"
   ]
  },
  {
   "cell_type": "code",
   "execution_count": 22,
   "id": "ff5f8af5-b3c6-455b-a5e1-df59e1d3087d",
   "metadata": {},
   "outputs": [
    {
     "data": {
      "text/html": [
       "<div>\n",
       "<style scoped>\n",
       "    .dataframe tbody tr th:only-of-type {\n",
       "        vertical-align: middle;\n",
       "    }\n",
       "\n",
       "    .dataframe tbody tr th {\n",
       "        vertical-align: top;\n",
       "    }\n",
       "\n",
       "    .dataframe thead th {\n",
       "        text-align: right;\n",
       "    }\n",
       "</style>\n",
       "<table border=\"1\" class=\"dataframe\">\n",
       "  <thead>\n",
       "    <tr style=\"text-align: right;\">\n",
       "      <th></th>\n",
       "      <th>0</th>\n",
       "    </tr>\n",
       "  </thead>\n",
       "  <tbody>\n",
       "    <tr>\n",
       "      <th>month_8</th>\n",
       "      <td>1.088163</td>\n",
       "    </tr>\n",
       "    <tr>\n",
       "      <th>month_11</th>\n",
       "      <td>0.647992</td>\n",
       "    </tr>\n",
       "    <tr>\n",
       "      <th>month_9</th>\n",
       "      <td>0.551165</td>\n",
       "    </tr>\n",
       "    <tr>\n",
       "      <th>sunHour</th>\n",
       "      <td>0.542979</td>\n",
       "    </tr>\n",
       "    <tr>\n",
       "      <th>month_12</th>\n",
       "      <td>0.468268</td>\n",
       "    </tr>\n",
       "    <tr>\n",
       "      <th>month_7</th>\n",
       "      <td>0.265440</td>\n",
       "    </tr>\n",
       "    <tr>\n",
       "      <th>month_10</th>\n",
       "      <td>0.086014</td>\n",
       "    </tr>\n",
       "    <tr>\n",
       "      <th>totalSnow</th>\n",
       "      <td>0.009221</td>\n",
       "    </tr>\n",
       "    <tr>\n",
       "      <th>year</th>\n",
       "      <td>-0.001591</td>\n",
       "    </tr>\n",
       "    <tr>\n",
       "      <th>avgtempF</th>\n",
       "      <td>-0.006095</td>\n",
       "    </tr>\n",
       "    <tr>\n",
       "      <th>humid</th>\n",
       "      <td>-0.025933</td>\n",
       "    </tr>\n",
       "    <tr>\n",
       "      <th>wind</th>\n",
       "      <td>-0.269691</td>\n",
       "    </tr>\n",
       "    <tr>\n",
       "      <th>month_6</th>\n",
       "      <td>-0.278308</td>\n",
       "    </tr>\n",
       "    <tr>\n",
       "      <th>month_4</th>\n",
       "      <td>-0.373681</td>\n",
       "    </tr>\n",
       "    <tr>\n",
       "      <th>precip</th>\n",
       "      <td>-0.439664</td>\n",
       "    </tr>\n",
       "    <tr>\n",
       "      <th>month_5</th>\n",
       "      <td>-0.451514</td>\n",
       "    </tr>\n",
       "    <tr>\n",
       "      <th>month_1</th>\n",
       "      <td>-0.524014</td>\n",
       "    </tr>\n",
       "    <tr>\n",
       "      <th>month_3</th>\n",
       "      <td>-0.597550</td>\n",
       "    </tr>\n",
       "    <tr>\n",
       "      <th>month_2</th>\n",
       "      <td>-0.917220</td>\n",
       "    </tr>\n",
       "  </tbody>\n",
       "</table>\n",
       "</div>"
      ],
      "text/plain": [
       "                  0\n",
       "month_8    1.088163\n",
       "month_11   0.647992\n",
       "month_9    0.551165\n",
       "sunHour    0.542979\n",
       "month_12   0.468268\n",
       "month_7    0.265440\n",
       "month_10   0.086014\n",
       "totalSnow  0.009221\n",
       "year      -0.001591\n",
       "avgtempF  -0.006095\n",
       "humid     -0.025933\n",
       "wind      -0.269691\n",
       "month_6   -0.278308\n",
       "month_4   -0.373681\n",
       "precip    -0.439664\n",
       "month_5   -0.451514\n",
       "month_1   -0.524014\n",
       "month_3   -0.597550\n",
       "month_2   -0.917220"
      ]
     },
     "execution_count": 22,
     "metadata": {},
     "output_type": "execute_result"
    }
   ],
   "source": [
    "coef_df = pd.DataFrame(log_reg.coef_, columns=X.columns)\n",
    "coef_df.T.sort_values(by=0, ascending=False).head(77)"
   ]
  },
  {
   "cell_type": "code",
   "execution_count": 23,
   "id": "89ebe5d6-1eb1-4d25-b4e3-013dc86be1b9",
   "metadata": {},
   "outputs": [
    {
     "data": {
      "text/plain": [
       "array([[-0.00609488,  0.00922107, -0.02593307, -0.26969065, -0.43966367,\n",
       "         0.54297853, -0.00159086, -0.5240136 , -0.91722015, -0.59754993,\n",
       "        -0.37368111, -0.45151369, -0.27830824,  0.2654397 ,  1.08816347,\n",
       "         0.55116498,  0.08601395,  0.64799208,  0.46826796]])"
      ]
     },
     "execution_count": 23,
     "metadata": {},
     "output_type": "execute_result"
    }
   ],
   "source": [
    "log_reg.coef_"
   ]
  },
  {
   "cell_type": "markdown",
   "id": "92764719",
   "metadata": {},
   "source": [
    "- 這段程式碼是在對特徵進行標準化（`Standardization）`，讓每個特徵轉換成平均值為 0、標準差為 `1 的分佈，這對像是 Logistic Regression、SVM、KNN` 等模型尤其重要。"
   ]
  },
  {
   "cell_type": "code",
   "execution_count": 24,
   "id": "1da6ec89-d91b-467a-9765-832ae93589c9",
   "metadata": {},
   "outputs": [],
   "source": [
    "sc = StandardScaler()\n",
    "X_train_sc = sc.fit_transform(X_train)\n",
    "X_test_sc = sc.transform(X_test)"
   ]
  },
  {
   "cell_type": "markdown",
   "id": "016a45e8",
   "metadata": {},
   "source": [
    "## KNN"
   ]
  },
  {
   "cell_type": "code",
   "execution_count": null,
   "id": "8610e030-e1b3-4937-abdb-f49ec296fcdc",
   "metadata": {},
   "outputs": [
    {
     "name": "stdout",
     "output_type": "stream",
     "text": [
      "Model saved in run 4e3035177dfb4f688bf5da9c0d495c3c\n",
      "Train Accuracy: 0.9986997789624236\n",
      "Test Accuracy: 0.8492569002123143\n"
     ]
    },
    {
     "name": "stderr",
     "output_type": "stream",
     "text": [
      "2025/05/02 19:05:07 WARNING mlflow.models.model: Model logged without a signature and input example. Please set `input_example` parameter when logging the model to auto infer the model signature.\n",
      "Registered model 'knn-model' already exists. Creating a new version of this model...\n",
      "Created version '3' of model 'knn-model'.\n"
     ]
    },
    {
     "data": {
      "image/png": "[encoded data removed]",
      "text/plain": [
       "<Figure size 640x480 with 2 Axes>"
      ]
     },
     "metadata": {},
     "output_type": "display_data"
    },
    {
     "name": "stdout",
     "output_type": "stream",
     "text": [
      "Classification Report:\n",
      "\n",
      "              precision    recall  f1-score   support\n",
      "\n",
      "           0     0.9185    0.8375    0.8761      2098\n",
      "           1     0.7536    0.8699    0.8076      1199\n",
      "\n",
      "    accuracy                         0.8493      3297\n",
      "   macro avg     0.8360    0.8537    0.8418      3297\n",
      "weighted avg     0.8585    0.8493    0.8512      3297\n",
      "\n"
     ]
    }
   ],
   "source": [
    "\n",
    "#KNN \n",
    "# N=3\n",
    "#Train Accuracy: 0.9986997789624236\n",
    "#Test Accuracy: 0.8495602062481044\n",
    "with mlflow.start_run(run_name='knn'):#mlflow\n",
    "    mlflow.log_param(\"n_neighbors\", 5)\n",
    "    mlflow.log_param(\"weights\", \"distance\")\n",
    "\n",
    "    knn = KNeighborsClassifier(n_neighbors=5, weights='distance')\n",
    "    knn.fit(X_train_sc, y_train)\n",
    "    \n",
    "    run_id = mlflow.active_run().info.run_id#mlflow\n",
    "    print(f\"Model saved in run {run_id}\")#mlflow\n",
    "\n",
    "    # 預測\n",
    "    y_pred_knn = knn.predict(X_test_sc)\n",
    "\n",
    "    # Train / Test accuracy\n",
    "    print(\"Train Accuracy:\", knn.score(X_train_sc, y_train))\n",
    "    print(\"Test Accuracy:\", knn.score(X_test_sc, y_test))\n",
    "\n",
    "    #mlflow\n",
    "    mlflow.log_metric(\"Train score\", knn.score(X_train_sc, y_train))#mlflow\n",
    "    mlflow.log_metric(\"Test score\", knn.score(X_test_sc, y_test))#mlflow\n",
    "    mlflow.sklearn.log_model(     #mlflow.sklearn.log_model() #紀錄sklearn模型\n",
    "        sk_model=knn, \n",
    "        artifact_path=\"knn-model\",\n",
    "        registered_model_name=\"knn-model\",  #\n",
    "    )\n",
    "\n",
    "\n",
    "    # 混淆矩陣\n",
    "    cm2 = confusion_matrix(y_test, y_pred_knn)\n",
    "    sns.heatmap(cm2, annot=True, fmt='d', cmap='Greens', xticklabels=[0, 1], yticklabels=[0, 1])\n",
    "    plt.xlabel(\"Predicted\")\n",
    "    plt.ylabel(\"Actual\")\n",
    "    plt.title(\"KNN Confusion Matrix\")\n",
    "    plt.show()\n",
    "\n",
    "    # classification report\n",
    "    print(\"Classification Report:\\n\")\n",
    "    print(classification_report(y_test, y_pred_knn, digits=4))"
   ]
  },
  {
   "cell_type": "markdown",
   "id": "84f2faf2",
   "metadata": {},
   "source": [
    "## RF 隨機森林"
   ]
  },
  {
   "cell_type": "code",
   "execution_count": null,
   "id": "53c37ce4-5f08-4fd6-93de-479c4c59d5bc",
   "metadata": {},
   "outputs": [
    {
     "name": "stdout",
     "output_type": "stream",
     "text": [
      "Train Accuracy: 0.9668443635418021\n",
      "Test Accuracy: 0.8707916287534122\n"
     ]
    },
    {
     "name": "stderr",
     "output_type": "stream",
     "text": [
      "2025/05/02 19:05:11 WARNING mlflow.models.model: Model logged without a signature and input example. Please set `input_example` parameter when logging the model to auto infer the model signature.\n",
      "Successfully registered model 'RandomForest-model'.\n",
      "Created version '1' of model 'RandomForest-model'.\n"
     ]
    },
    {
     "data": {
      "image/png": "[encoded data removed]",
      "text/plain": [
       "<Figure size 640x480 with 2 Axes>"
      ]
     },
     "metadata": {},
     "output_type": "display_data"
    },
    {
     "name": "stdout",
     "output_type": "stream",
     "text": [
      "Classification Report:\n",
      "\n",
      "              precision    recall  f1-score   support\n",
      "\n",
      "           0     0.9188    0.8742    0.8959      2098\n",
      "           1     0.7971    0.8649    0.8296      1199\n",
      "\n",
      "    accuracy                         0.8708      3297\n",
      "   macro avg     0.8580    0.8695    0.8628      3297\n",
      "weighted avg     0.8746    0.8708    0.8718      3297\n",
      "\n"
     ]
    }
   ],
   "source": [
    "#Random Forest 隨機森林\n",
    "\n",
    "#Train Accuracy: 0.9837472370302951\n",
    "#Test Accuracy: 0.8823172581134364\n",
    "with mlflow.start_run(run_name='RandomForest'):#mlflow\n",
    "    n_estimators = 150 #樹的數量\n",
    "    max_depth = 15 #樹的深度\n",
    "    \n",
    "    mlflow.log_param(\"n_estimators\", n_estimators) #mlflow\n",
    "    mlflow.log_param(\"max_depth\", max_depth) #mlflow\n",
    "    rf = RandomForestClassifier(n_estimators=n_estimators, max_depth=max_depth, class_weight='balanced')\n",
    "    rf.fit(X_train, y_train)\n",
    "\n",
    "    # 預測\n",
    "    y_pred_rf = rf.predict(X_test)\n",
    "\n",
    "    # 準確率\n",
    "    print(\"Train Accuracy:\", rf.score(X_train, y_train))\n",
    "    print(\"Test Accuracy:\", rf.score(X_test, y_test))\n",
    "\n",
    "    mlflow.log_metric(\"Train score\", rf.score(X_train, y_train))#mlflow\n",
    "    mlflow.log_metric(\"Test score\", rf.score(X_test, y_test))#mlflow\n",
    "\n",
    "    mlflow.sklearn.log_model(     #mlflow.sklearn.log_model() #紀錄sklearn模型\n",
    "        sk_model=log_reg, \n",
    "        artifact_path=\"RandomForest-model\",\n",
    "        registered_model_name='RandomForest-model',  \n",
    "    )   \n",
    "\n",
    "    # 混淆矩陣\n",
    "    cm3 = confusion_matrix(y_test, y_pred_rf)\n",
    "    sns.heatmap(cm3, annot=True, fmt='d', cmap='Oranges', xticklabels=[0,1], yticklabels=[0,1])\n",
    "    plt.xlabel(\"Predicted\")\n",
    "    plt.ylabel(\"Actual\")\n",
    "    plt.title(\"Random Forest Confusion Matrix\")\n",
    "    plt.show()\n",
    "\n",
    "    # classification report\n",
    "    print(\"Classification Report:\\n\")\n",
    "    print(classification_report(y_test, y_pred_rf, digits=4))"
   ]
  },
  {
   "cell_type": "code",
   "execution_count": 27,
   "id": "f3924e0c-fefb-4356-875a-b19ad3cfac99",
   "metadata": {},
   "outputs": [
    {
     "data": {
      "text/plain": [
       "array([0.19149289, 0.01691991, 0.20101253, 0.12372848, 0.10338974,\n",
       "       0.21563326, 0.06335045, 0.00510869, 0.00443624, 0.00375368,\n",
       "       0.00700569, 0.0066325 , 0.00538288, 0.02156181, 0.00814198,\n",
       "       0.00786354, 0.00706465, 0.00361259, 0.00390849])"
      ]
     },
     "execution_count": 27,
     "metadata": {},
     "output_type": "execute_result"
    }
   ],
   "source": [
    "rf.feature_importances_"
   ]
  },
  {
   "cell_type": "code",
   "execution_count": 28,
   "id": "800491df-7fac-43b9-99bd-47e97957f748",
   "metadata": {},
   "outputs": [
    {
     "data": {
      "text/html": [
       "<div>\n",
       "<style scoped>\n",
       "    .dataframe tbody tr th:only-of-type {\n",
       "        vertical-align: middle;\n",
       "    }\n",
       "\n",
       "    .dataframe tbody tr th {\n",
       "        vertical-align: top;\n",
       "    }\n",
       "\n",
       "    .dataframe thead th {\n",
       "        text-align: right;\n",
       "    }\n",
       "</style>\n",
       "<table border=\"1\" class=\"dataframe\">\n",
       "  <thead>\n",
       "    <tr style=\"text-align: right;\">\n",
       "      <th></th>\n",
       "      <th>0</th>\n",
       "    </tr>\n",
       "  </thead>\n",
       "  <tbody>\n",
       "    <tr>\n",
       "      <th>sunHour</th>\n",
       "      <td>0.215633</td>\n",
       "    </tr>\n",
       "    <tr>\n",
       "      <th>humid</th>\n",
       "      <td>0.201013</td>\n",
       "    </tr>\n",
       "    <tr>\n",
       "      <th>avgtempF</th>\n",
       "      <td>0.191493</td>\n",
       "    </tr>\n",
       "    <tr>\n",
       "      <th>wind</th>\n",
       "      <td>0.123728</td>\n",
       "    </tr>\n",
       "    <tr>\n",
       "      <th>precip</th>\n",
       "      <td>0.103390</td>\n",
       "    </tr>\n",
       "    <tr>\n",
       "      <th>year</th>\n",
       "      <td>0.063350</td>\n",
       "    </tr>\n",
       "    <tr>\n",
       "      <th>month_7</th>\n",
       "      <td>0.021562</td>\n",
       "    </tr>\n",
       "    <tr>\n",
       "      <th>totalSnow</th>\n",
       "      <td>0.016920</td>\n",
       "    </tr>\n",
       "    <tr>\n",
       "      <th>month_8</th>\n",
       "      <td>0.008142</td>\n",
       "    </tr>\n",
       "    <tr>\n",
       "      <th>month_9</th>\n",
       "      <td>0.007864</td>\n",
       "    </tr>\n",
       "    <tr>\n",
       "      <th>month_10</th>\n",
       "      <td>0.007065</td>\n",
       "    </tr>\n",
       "    <tr>\n",
       "      <th>month_4</th>\n",
       "      <td>0.007006</td>\n",
       "    </tr>\n",
       "    <tr>\n",
       "      <th>month_5</th>\n",
       "      <td>0.006633</td>\n",
       "    </tr>\n",
       "    <tr>\n",
       "      <th>month_6</th>\n",
       "      <td>0.005383</td>\n",
       "    </tr>\n",
       "    <tr>\n",
       "      <th>month_1</th>\n",
       "      <td>0.005109</td>\n",
       "    </tr>\n",
       "    <tr>\n",
       "      <th>month_2</th>\n",
       "      <td>0.004436</td>\n",
       "    </tr>\n",
       "    <tr>\n",
       "      <th>month_12</th>\n",
       "      <td>0.003908</td>\n",
       "    </tr>\n",
       "    <tr>\n",
       "      <th>month_3</th>\n",
       "      <td>0.003754</td>\n",
       "    </tr>\n",
       "    <tr>\n",
       "      <th>month_11</th>\n",
       "      <td>0.003613</td>\n",
       "    </tr>\n",
       "  </tbody>\n",
       "</table>\n",
       "</div>"
      ],
      "text/plain": [
       "                  0\n",
       "sunHour    0.215633\n",
       "humid      0.201013\n",
       "avgtempF   0.191493\n",
       "wind       0.123728\n",
       "precip     0.103390\n",
       "year       0.063350\n",
       "month_7    0.021562\n",
       "totalSnow  0.016920\n",
       "month_8    0.008142\n",
       "month_9    0.007864\n",
       "month_10   0.007065\n",
       "month_4    0.007006\n",
       "month_5    0.006633\n",
       "month_6    0.005383\n",
       "month_1    0.005109\n",
       "month_2    0.004436\n",
       "month_12   0.003908\n",
       "month_3    0.003754\n",
       "month_11   0.003613"
      ]
     },
     "execution_count": 28,
     "metadata": {},
     "output_type": "execute_result"
    }
   ],
   "source": [
    "feature_df = pd.DataFrame(rf.feature_importances_, index=X.columns)\n",
    "feature_df.sort_values(by=0, ascending=False)"
   ]
  },
  {
   "cell_type": "code",
   "execution_count": 29,
   "id": "5dae7742-8790-4660-a235-161b88e1ad34",
   "metadata": {},
   "outputs": [
    {
     "name": "stderr",
     "output_type": "stream",
     "text": [
      "C:\\Users\\ygz08\\AppData\\Local\\Packages\\PythonSoftwareFoundation.Python.3.11_qbz5n2kfra8p0\\LocalCache\\local-packages\\Python311\\site-packages\\sklearn\\utils\\validation.py:2732: UserWarning: X has feature names, but KNeighborsClassifier was fitted without feature names\n",
      "  warnings.warn(\n"
     ]
    },
    {
     "data": {
      "text/plain": [
       "array([1, 0, 0, ..., 0, 0, 0])"
      ]
     },
     "execution_count": 29,
     "metadata": {},
     "output_type": "execute_result"
    }
   ],
   "source": [
    "log_reg.predict(X_test)\n",
    "knn.predict(X_test)\n",
    "rf.predict(X_test)"
   ]
  },
  {
   "cell_type": "code",
   "execution_count": 30,
   "id": "54f0af54-62ed-43c1-9502-f1ccc1bca05b",
   "metadata": {},
   "outputs": [
    {
     "name": "stderr",
     "output_type": "stream",
     "text": [
      "C:\\Users\\ygz08\\AppData\\Local\\Packages\\PythonSoftwareFoundation.Python.3.11_qbz5n2kfra8p0\\LocalCache\\local-packages\\Python311\\site-packages\\sklearn\\utils\\validation.py:2732: UserWarning: X has feature names, but KNeighborsClassifier was fitted without feature names\n",
      "  warnings.warn(\n"
     ]
    },
    {
     "data": {
      "text/html": [
       "<div>\n",
       "<style scoped>\n",
       "    .dataframe tbody tr th:only-of-type {\n",
       "        vertical-align: middle;\n",
       "    }\n",
       "\n",
       "    .dataframe tbody tr th {\n",
       "        vertical-align: top;\n",
       "    }\n",
       "\n",
       "    .dataframe thead th {\n",
       "        text-align: right;\n",
       "    }\n",
       "</style>\n",
       "<table border=\"1\" class=\"dataframe\">\n",
       "  <thead>\n",
       "    <tr style=\"text-align: right;\">\n",
       "      <th></th>\n",
       "      <th>log_reg</th>\n",
       "      <th>knn</th>\n",
       "      <th>rf</th>\n",
       "      <th>ensemble</th>\n",
       "    </tr>\n",
       "  </thead>\n",
       "  <tbody>\n",
       "    <tr>\n",
       "      <th>0</th>\n",
       "      <td>1</td>\n",
       "      <td>0</td>\n",
       "      <td>1</td>\n",
       "      <td>1.0</td>\n",
       "    </tr>\n",
       "    <tr>\n",
       "      <th>1</th>\n",
       "      <td>0</td>\n",
       "      <td>0</td>\n",
       "      <td>0</td>\n",
       "      <td>0.0</td>\n",
       "    </tr>\n",
       "    <tr>\n",
       "      <th>2</th>\n",
       "      <td>0</td>\n",
       "      <td>0</td>\n",
       "      <td>0</td>\n",
       "      <td>0.0</td>\n",
       "    </tr>\n",
       "    <tr>\n",
       "      <th>3</th>\n",
       "      <td>1</td>\n",
       "      <td>0</td>\n",
       "      <td>1</td>\n",
       "      <td>1.0</td>\n",
       "    </tr>\n",
       "    <tr>\n",
       "      <th>4</th>\n",
       "      <td>0</td>\n",
       "      <td>0</td>\n",
       "      <td>0</td>\n",
       "      <td>0.0</td>\n",
       "    </tr>\n",
       "  </tbody>\n",
       "</table>\n",
       "</div>"
      ],
      "text/plain": [
       "   log_reg  knn  rf  ensemble\n",
       "0        1    0   1       1.0\n",
       "1        0    0   0       0.0\n",
       "2        0    0   0       0.0\n",
       "3        1    0   1       1.0\n",
       "4        0    0   0       0.0"
      ]
     },
     "execution_count": 30,
     "metadata": {},
     "output_type": "execute_result"
    }
   ],
   "source": [
    "pred_df = pd.DataFrame(columns=['log_reg', 'knn', 'rf'])\n",
    "pred_df['log_reg'] = log_reg.predict(X_test)\n",
    "pred_df['knn'] = knn.predict(X_test)\n",
    "pred_df['rf'] = rf.predict(X_test)\n",
    "pred_df['ensemble'] = (pred_df.sum(axis=1)/3).round(0)\n",
    "pred_df.head()"
   ]
  },
  {
   "cell_type": "code",
   "execution_count": 31,
   "id": "5d379734-b929-4721-83d0-60ccd3ebda17",
   "metadata": {},
   "outputs": [
    {
     "data": {
      "text/plain": [
       "0.8089171974522293"
      ]
     },
     "execution_count": 31,
     "metadata": {},
     "output_type": "execute_result"
    }
   ],
   "source": [
    "metrics.accuracy_score(pred_df['ensemble'], y_test)"
   ]
  },
  {
   "cell_type": "code",
   "execution_count": 32,
   "id": "fb59202f-a60b-447c-a97e-2439aae10a14",
   "metadata": {},
   "outputs": [
    {
     "data": {
      "text/plain": [
       "<sklearn.metrics._plot.roc_curve.RocCurveDisplay at 0x184fc3cd3d0>"
      ]
     },
     "execution_count": 32,
     "metadata": {},
     "output_type": "execute_result"
    },
    {
     "data": {
      "image/png": "[encoded data removed]",
      "text/plain": [
       "<Figure size 640x480 with 1 Axes>"
      ]
     },
     "metadata": {},
     "output_type": "display_data"
    }
   ],
   "source": [
    "from sklearn.metrics import RocCurveDisplay\n",
    "RocCurveDisplay.from_estimator(rf, X_test, y_test)"
   ]
  },
  {
   "cell_type": "code",
   "execution_count": null,
   "id": "188df070-deeb-4987-854c-667dc143384e",
   "metadata": {},
   "outputs": [],
   "source": []
  },
  {
   "cell_type": "code",
   "execution_count": null,
   "id": "4fd19032-b9a5-4051-87d2-96f069605733",
   "metadata": {},
   "outputs": [],
   "source": []
  },
  {
   "cell_type": "markdown",
   "id": "d2f2af19",
   "metadata": {},
   "source": [
    "## DNN"
   ]
  },
  {
   "cell_type": "code",
   "execution_count": null,
   "id": "77b5e61b-57d3-4072-86f4-cc6eef337a1c",
   "metadata": {},
   "outputs": [
    {
     "name": "stderr",
     "output_type": "stream",
     "text": [
      "C:\\Users\\ygz08\\AppData\\Local\\Packages\\PythonSoftwareFoundation.Python.3.11_qbz5n2kfra8p0\\LocalCache\\local-packages\\Python311\\site-packages\\keras\\src\\layers\\core\\dense.py:87: UserWarning: Do not pass an `input_shape`/`input_dim` argument to a layer. When using Sequential models, prefer using an `Input(shape)` object as the first layer in the model instead.\n",
      "  super().__init__(activity_regularizer=activity_regularizer, **kwargs)\n",
      "2025/05/02 19:05:12 INFO mlflow.utils.autologging_utils: Created MLflow autologging run with ID '40aba217ad75463ea1d2f86d1d9ce688', which will track hyperparameters, performance metrics, model artifacts, and lineage information for the current tensorflow workflow\n",
      "2025/05/02 19:05:12 WARNING mlflow.tensorflow: Encountered unexpected error while inferring batch size from training dataset: Sequential model 'sequential' has no defined input shape yet.\n",
      "2025/05/02 19:05:12 WARNING mlflow.tensorflow: Unrecognized dataset type <class 'pandas.core.frame.DataFrame'>. Dataset logging skipped.\n",
      "2025/05/02 19:05:12 WARNING mlflow.tensorflow: Failed to log training dataset information to MLflow Tracking. Reason: 'DataFrame' object has no attribute 'flatten'\n"
     ]
    },
    {
     "data": {
      "text/html": [
       "<pre style=\"white-space:pre;overflow-x:auto;line-height:normal;font-family:Menlo,'DejaVu Sans Mono',consolas,'Courier New',monospace\"></pre>\n"
      ],
      "text/plain": []
     },
     "metadata": {},
     "output_type": "display_data"
    },
    {
     "name": "stdout",
     "output_type": "stream",
     "text": [
      "Epoch 1/100\n",
      "\u001b[1m50/61\u001b[0m \u001b[32m━━━━━━━━━━━━━━━━\u001b[0m\u001b[37m━━━━\u001b[0m \u001b[1m0s\u001b[0m 3ms/step - Precision: 0.6266 - Recall: 0.5298 - acc: 0.7196 - loss: 0.5293"
     ]
    },
    {
     "name": "stderr",
     "output_type": "stream",
     "text": [
      "WARNING:absl:You are saving your model as an HDF5 file via `model.save()` or `keras.saving.save_model(model)`. This file format is considered legacy. We recommend using instead the native Keras format, e.g. `model.save('my_model.keras')` or `keras.saving.save_model(model, 'my_model.keras')`. \n"
     ]
    },
    {
     "name": "stdout",
     "output_type": "stream",
     "text": [
      "\u001b[1m61/61\u001b[0m \u001b[32m━━━━━━━━━━━━━━━━━━━━\u001b[0m\u001b[37m\u001b[0m \u001b[1m3s\u001b[0m 10ms/step - Precision: 0.6298 - Recall: 0.5531 - acc: 0.7241 - loss: 0.5242 - val_Precision: 0.3637 - val_Recall: 1.0000 - val_acc: 0.3637 - val_loss: 3.6370\n",
      "Epoch 2/100\n",
      "\u001b[1m61/61\u001b[0m \u001b[32m━━━━━━━━━━━━━━━━━━━━\u001b[0m\u001b[37m\u001b[0m \u001b[1m0s\u001b[0m 5ms/step - Precision: 0.6664 - Recall: 0.6734 - acc: 0.7598 - loss: 0.4811 - val_Precision: 0.3637 - val_Recall: 1.0000 - val_acc: 0.3637 - val_loss: 16.0516\n",
      "Epoch 3/100\n",
      "\u001b[1m50/61\u001b[0m \u001b[32m━━━━━━━━━━━━━━━━\u001b[0m\u001b[37m━━━━\u001b[0m \u001b[1m0s\u001b[0m 3ms/step - Precision: 0.6497 - Recall: 0.6788 - acc: 0.7565 - loss: 0.4788"
     ]
    },
    {
     "name": "stderr",
     "output_type": "stream",
     "text": [
      "WARNING:absl:You are saving your model as an HDF5 file via `model.save()` or `keras.saving.save_model(model)`. This file format is considered legacy. We recommend using instead the native Keras format, e.g. `model.save('my_model.keras')` or `keras.saving.save_model(model, 'my_model.keras')`. \n"
     ]
    },
    {
     "name": "stdout",
     "output_type": "stream",
     "text": [
      "\u001b[1m61/61\u001b[0m \u001b[32m━━━━━━━━━━━━━━━━━━━━\u001b[0m\u001b[37m\u001b[0m \u001b[1m0s\u001b[0m 6ms/step - Precision: 0.6518 - Recall: 0.6803 - acc: 0.7571 - loss: 0.4780 - val_Precision: 0.3868 - val_Recall: 0.9892 - val_acc: 0.4258 - val_loss: 1.5652\n",
      "Epoch 4/100\n",
      "\u001b[1m51/61\u001b[0m \u001b[32m━━━━━━━━━━━━━━━━\u001b[0m\u001b[37m━━━━\u001b[0m \u001b[1m0s\u001b[0m 3ms/step - Precision: 0.6642 - Recall: 0.7037 - acc: 0.7647 - loss: 0.4567"
     ]
    },
    {
     "name": "stderr",
     "output_type": "stream",
     "text": [
      "WARNING:absl:You are saving your model as an HDF5 file via `model.save()` or `keras.saving.save_model(model)`. This file format is considered legacy. We recommend using instead the native Keras format, e.g. `model.save('my_model.keras')` or `keras.saving.save_model(model, 'my_model.keras')`. \n"
     ]
    },
    {
     "name": "stdout",
     "output_type": "stream",
     "text": [
      "\u001b[1m61/61\u001b[0m \u001b[32m━━━━━━━━━━━━━━━━━━━━\u001b[0m\u001b[37m\u001b[0m \u001b[1m0s\u001b[0m 5ms/step - Precision: 0.6645 - Recall: 0.7002 - acc: 0.7644 - loss: 0.4598 - val_Precision: 0.4973 - val_Recall: 0.9199 - val_acc: 0.6327 - val_loss: 0.9144\n",
      "Epoch 5/100\n",
      "\u001b[1m61/61\u001b[0m \u001b[32m━━━━━━━━━━━━━━━━━━━━\u001b[0m\u001b[37m\u001b[0m \u001b[1m0s\u001b[0m 5ms/step - Precision: 0.6680 - Recall: 0.7253 - acc: 0.7684 - loss: 0.4767 - val_Precision: 0.4169 - val_Recall: 0.9399 - val_acc: 0.5002 - val_loss: 1.0947\n",
      "Epoch 6/100\n",
      "\u001b[1m61/61\u001b[0m \u001b[32m━━━━━━━━━━━━━━━━━━━━\u001b[0m\u001b[37m\u001b[0m \u001b[1m0s\u001b[0m 5ms/step - Precision: 0.6725 - Recall: 0.7372 - acc: 0.7726 - loss: 0.4663 - val_Precision: 0.4082 - val_Recall: 0.9516 - val_acc: 0.4807 - val_loss: 1.2521\n",
      "Epoch 7/100\n",
      "\u001b[1m61/61\u001b[0m \u001b[32m━━━━━━━━━━━━━━━━━━━━\u001b[0m\u001b[37m\u001b[0m \u001b[1m0s\u001b[0m 3ms/step - Precision: 0.6695 - Recall: 0.6886 - acc: 0.7641 - loss: 0.4680"
     ]
    },
    {
     "name": "stderr",
     "output_type": "stream",
     "text": [
      "WARNING:absl:You are saving your model as an HDF5 file via `model.save()` or `keras.saving.save_model(model)`. This file format is considered legacy. We recommend using instead the native Keras format, e.g. `model.save('my_model.keras')` or `keras.saving.save_model(model, 'my_model.keras')`. \n"
     ]
    },
    {
     "name": "stdout",
     "output_type": "stream",
     "text": [
      "\u001b[1m61/61\u001b[0m \u001b[32m━━━━━━━━━━━━━━━━━━━━\u001b[0m\u001b[37m\u001b[0m \u001b[1m0s\u001b[0m 6ms/step - Precision: 0.6696 - Recall: 0.6886 - acc: 0.7641 - loss: 0.4679 - val_Precision: 0.6307 - val_Recall: 0.7306 - val_acc: 0.7464 - val_loss: 0.5721\n",
      "Epoch 8/100\n",
      "\u001b[1m46/61\u001b[0m \u001b[32m━━━━━━━━━━━━━━━\u001b[0m\u001b[37m━━━━━\u001b[0m \u001b[1m0s\u001b[0m 3ms/step - Precision: 0.6821 - Recall: 0.6644 - acc: 0.7655 - loss: 0.4577"
     ]
    },
    {
     "name": "stderr",
     "output_type": "stream",
     "text": [
      "WARNING:absl:You are saving your model as an HDF5 file via `model.save()` or `keras.saving.save_model(model)`. This file format is considered legacy. We recommend using instead the native Keras format, e.g. `model.save('my_model.keras')` or `keras.saving.save_model(model, 'my_model.keras')`. \n"
     ]
    },
    {
     "name": "stdout",
     "output_type": "stream",
     "text": [
      "\u001b[1m61/61\u001b[0m \u001b[32m━━━━━━━━━━━━━━━━━━━━\u001b[0m\u001b[37m\u001b[0m \u001b[1m0s\u001b[0m 6ms/step - Precision: 0.6820 - Recall: 0.6646 - acc: 0.7659 - loss: 0.4580 - val_Precision: 0.6961 - val_Recall: 0.6322 - val_acc: 0.7658 - val_loss: 0.4920\n",
      "Epoch 9/100\n",
      "\u001b[1m49/61\u001b[0m \u001b[32m━━━━━━━━━━━━━━━━\u001b[0m\u001b[37m━━━━\u001b[0m \u001b[1m0s\u001b[0m 3ms/step - Precision: 0.6922 - Recall: 0.6693 - acc: 0.7718 - loss: 0.4565"
     ]
    },
    {
     "name": "stderr",
     "output_type": "stream",
     "text": [
      "WARNING:absl:You are saving your model as an HDF5 file via `model.save()` or `keras.saving.save_model(model)`. This file format is considered legacy. We recommend using instead the native Keras format, e.g. `model.save('my_model.keras')` or `keras.saving.save_model(model, 'my_model.keras')`. \n"
     ]
    },
    {
     "name": "stdout",
     "output_type": "stream",
     "text": [
      "\u001b[1m61/61\u001b[0m \u001b[32m━━━━━━━━━━━━━━━━━━━━\u001b[0m\u001b[37m\u001b[0m \u001b[1m0s\u001b[0m 6ms/step - Precision: 0.6907 - Recall: 0.6730 - acc: 0.7721 - loss: 0.4568 - val_Precision: 0.6907 - val_Recall: 0.6464 - val_acc: 0.7662 - val_loss: 0.4702\n",
      "Epoch 10/100\n",
      "\u001b[1m61/61\u001b[0m \u001b[32m━━━━━━━━━━━━━━━━━━━━\u001b[0m\u001b[37m\u001b[0m \u001b[1m0s\u001b[0m 5ms/step - Precision: 0.6945 - Recall: 0.6840 - acc: 0.7768 - loss: 0.4502 - val_Precision: 0.6618 - val_Recall: 0.7506 - val_acc: 0.7698 - val_loss: 0.4791\n",
      "Epoch 11/100\n",
      "\u001b[1m53/61\u001b[0m \u001b[32m━━━━━━━━━━━━━━━━━\u001b[0m\u001b[37m━━━\u001b[0m \u001b[1m0s\u001b[0m 3ms/step - Precision: 0.6724 - Recall: 0.7072 - acc: 0.7717 - loss: 0.4589"
     ]
    },
    {
     "name": "stderr",
     "output_type": "stream",
     "text": [
      "WARNING:absl:You are saving your model as an HDF5 file via `model.save()` or `keras.saving.save_model(model)`. This file format is considered legacy. We recommend using instead the native Keras format, e.g. `model.save('my_model.keras')` or `keras.saving.save_model(model, 'my_model.keras')`. \n"
     ]
    },
    {
     "name": "stdout",
     "output_type": "stream",
     "text": [
      "\u001b[1m61/61\u001b[0m \u001b[32m━━━━━━━━━━━━━━━━━━━━\u001b[0m\u001b[37m\u001b[0m \u001b[1m0s\u001b[0m 6ms/step - Precision: 0.6745 - Recall: 0.7070 - acc: 0.7725 - loss: 0.4585 - val_Precision: 0.6884 - val_Recall: 0.7148 - val_acc: 0.7786 - val_loss: 0.4563\n",
      "Epoch 12/100\n",
      "\u001b[1m47/61\u001b[0m \u001b[32m━━━━━━━━━━━━━━━\u001b[0m\u001b[37m━━━━━\u001b[0m \u001b[1m0s\u001b[0m 3ms/step - Precision: 0.6820 - Recall: 0.6720 - acc: 0.7736 - loss: 0.4503"
     ]
    },
    {
     "name": "stderr",
     "output_type": "stream",
     "text": [
      "WARNING:absl:You are saving your model as an HDF5 file via `model.save()` or `keras.saving.save_model(model)`. This file format is considered legacy. We recommend using instead the native Keras format, e.g. `model.save('my_model.keras')` or `keras.saving.save_model(model, 'my_model.keras')`. \n"
     ]
    },
    {
     "name": "stdout",
     "output_type": "stream",
     "text": [
      "\u001b[1m61/61\u001b[0m \u001b[32m━━━━━━━━━━━━━━━━━━━━\u001b[0m\u001b[37m\u001b[0m \u001b[1m0s\u001b[0m 6ms/step - Precision: 0.6839 - Recall: 0.6791 - acc: 0.7750 - loss: 0.4496 - val_Precision: 0.6791 - val_Recall: 0.7465 - val_acc: 0.7795 - val_loss: 0.4546\n",
      "Epoch 13/100\n",
      "\u001b[1m49/61\u001b[0m \u001b[32m━━━━━━━━━━━━━━━━\u001b[0m\u001b[37m━━━━\u001b[0m \u001b[1m0s\u001b[0m 3ms/step - Precision: 0.6999 - Recall: 0.6726 - acc: 0.7808 - loss: 0.4460"
     ]
    },
    {
     "name": "stderr",
     "output_type": "stream",
     "text": [
      "WARNING:absl:You are saving your model as an HDF5 file via `model.save()` or `keras.saving.save_model(model)`. This file format is considered legacy. We recommend using instead the native Keras format, e.g. `model.save('my_model.keras')` or `keras.saving.save_model(model, 'my_model.keras')`. \n"
     ]
    },
    {
     "name": "stdout",
     "output_type": "stream",
     "text": [
      "\u001b[1m61/61\u001b[0m \u001b[32m━━━━━━━━━━━━━━━━━━━━\u001b[0m\u001b[37m\u001b[0m \u001b[1m0s\u001b[0m 6ms/step - Precision: 0.7002 - Recall: 0.6776 - acc: 0.7814 - loss: 0.4457 - val_Precision: 0.7041 - val_Recall: 0.7164 - val_acc: 0.7874 - val_loss: 0.4530\n",
      "Epoch 14/100\n",
      "\u001b[1m49/61\u001b[0m \u001b[32m━━━━━━━━━━━━━━━━\u001b[0m\u001b[37m━━━━\u001b[0m \u001b[1m0s\u001b[0m 3ms/step - Precision: 0.6949 - Recall: 0.6825 - acc: 0.7808 - loss: 0.4454"
     ]
    },
    {
     "name": "stderr",
     "output_type": "stream",
     "text": [
      "WARNING:absl:You are saving your model as an HDF5 file via `model.save()` or `keras.saving.save_model(model)`. This file format is considered legacy. We recommend using instead the native Keras format, e.g. `model.save('my_model.keras')` or `keras.saving.save_model(model, 'my_model.keras')`. \n"
     ]
    },
    {
     "name": "stdout",
     "output_type": "stream",
     "text": [
      "\u001b[1m61/61\u001b[0m \u001b[32m━━━━━━━━━━━━━━━━━━━━\u001b[0m\u001b[37m\u001b[0m \u001b[1m0s\u001b[0m 6ms/step - Precision: 0.6958 - Recall: 0.6856 - acc: 0.7815 - loss: 0.4444 - val_Precision: 0.6831 - val_Recall: 0.7731 - val_acc: 0.7871 - val_loss: 0.4505\n",
      "Epoch 15/100\n",
      "\u001b[1m61/61\u001b[0m \u001b[32m━━━━━━━━━━━━━━━━━━━━\u001b[0m\u001b[37m\u001b[0m \u001b[1m0s\u001b[0m 5ms/step - Precision: 0.6956 - Recall: 0.7471 - acc: 0.7914 - loss: 0.4248 - val_Precision: 0.6686 - val_Recall: 0.7873 - val_acc: 0.7807 - val_loss: 0.4527\n",
      "Epoch 16/100\n",
      "\u001b[1m50/61\u001b[0m \u001b[32m━━━━━━━━━━━━━━━━\u001b[0m\u001b[37m━━━━\u001b[0m \u001b[1m0s\u001b[0m 3ms/step - Precision: 0.7181 - Recall: 0.7316 - acc: 0.7995 - loss: 0.4357"
     ]
    },
    {
     "name": "stderr",
     "output_type": "stream",
     "text": [
      "WARNING:absl:You are saving your model as an HDF5 file via `model.save()` or `keras.saving.save_model(model)`. This file format is considered legacy. We recommend using instead the native Keras format, e.g. `model.save('my_model.keras')` or `keras.saving.save_model(model, 'my_model.keras')`. \n"
     ]
    },
    {
     "name": "stdout",
     "output_type": "stream",
     "text": [
      "\u001b[1m61/61\u001b[0m \u001b[32m━━━━━━━━━━━━━━━━━━━━\u001b[0m\u001b[37m\u001b[0m \u001b[1m0s\u001b[0m 5ms/step - Precision: 0.7179 - Recall: 0.7302 - acc: 0.7990 - loss: 0.4360 - val_Precision: 0.6923 - val_Recall: 0.7431 - val_acc: 0.7865 - val_loss: 0.4460\n",
      "Epoch 17/100\n",
      "\u001b[1m54/61\u001b[0m \u001b[32m━━━━━━━━━━━━━━━━━\u001b[0m\u001b[37m━━━\u001b[0m \u001b[1m0s\u001b[0m 3ms/step - Precision: 0.7019 - Recall: 0.7241 - acc: 0.7937 - loss: 0.4267"
     ]
    },
    {
     "name": "stderr",
     "output_type": "stream",
     "text": [
      "WARNING:absl:You are saving your model as an HDF5 file via `model.save()` or `keras.saving.save_model(model)`. This file format is considered legacy. We recommend using instead the native Keras format, e.g. `model.save('my_model.keras')` or `keras.saving.save_model(model, 'my_model.keras')`. \n"
     ]
    },
    {
     "name": "stdout",
     "output_type": "stream",
     "text": [
      "\u001b[1m61/61\u001b[0m \u001b[32m━━━━━━━━━━━━━━━━━━━━\u001b[0m\u001b[37m\u001b[0m \u001b[1m0s\u001b[0m 5ms/step - Precision: 0.7031 - Recall: 0.7243 - acc: 0.7938 - loss: 0.4272 - val_Precision: 0.6836 - val_Recall: 0.7731 - val_acc: 0.7874 - val_loss: 0.4388\n",
      "Epoch 18/100\n",
      "\u001b[1m61/61\u001b[0m \u001b[32m━━━━━━━━━━━━━━━━━━━━\u001b[0m\u001b[37m\u001b[0m \u001b[1m0s\u001b[0m 5ms/step - Precision: 0.7143 - Recall: 0.7263 - acc: 0.7988 - loss: 0.4257 - val_Precision: 0.6808 - val_Recall: 0.7756 - val_acc: 0.7862 - val_loss: 0.4451\n",
      "Epoch 19/100\n",
      "\u001b[1m47/61\u001b[0m \u001b[32m━━━━━━━━━━━━━━━\u001b[0m\u001b[37m━━━━━\u001b[0m \u001b[1m0s\u001b[0m 3ms/step - Precision: 0.7045 - Recall: 0.7682 - acc: 0.8025 - loss: 0.4192"
     ]
    },
    {
     "name": "stderr",
     "output_type": "stream",
     "text": [
      "WARNING:absl:You are saving your model as an HDF5 file via `model.save()` or `keras.saving.save_model(model)`. This file format is considered legacy. We recommend using instead the native Keras format, e.g. `model.save('my_model.keras')` or `keras.saving.save_model(model, 'my_model.keras')`. \n"
     ]
    },
    {
     "name": "stdout",
     "output_type": "stream",
     "text": [
      "\u001b[1m61/61\u001b[0m \u001b[32m━━━━━━━━━━━━━━━━━━━━\u001b[0m\u001b[37m\u001b[0m \u001b[1m0s\u001b[0m 6ms/step - Precision: 0.7061 - Recall: 0.7623 - acc: 0.8015 - loss: 0.4201 - val_Precision: 0.7183 - val_Recall: 0.7189 - val_acc: 0.7953 - val_loss: 0.4336\n",
      "Epoch 20/100\n",
      "\u001b[1m61/61\u001b[0m \u001b[32m━━━━━━━━━━━━━━━━━━━━\u001b[0m\u001b[37m\u001b[0m \u001b[1m0s\u001b[0m 5ms/step - Precision: 0.7138 - Recall: 0.7004 - acc: 0.7867 - loss: 0.4377 - val_Precision: 0.6914 - val_Recall: 0.7923 - val_acc: 0.7959 - val_loss: 0.4381\n",
      "Epoch 21/100\n",
      "\u001b[1m61/61\u001b[0m \u001b[32m━━━━━━━━━━━━━━━━━━━━\u001b[0m\u001b[37m\u001b[0m \u001b[1m0s\u001b[0m 5ms/step - Precision: 0.6905 - Recall: 0.7740 - acc: 0.7941 - loss: 0.4264 - val_Precision: 0.6997 - val_Recall: 0.7423 - val_acc: 0.7904 - val_loss: 0.4390\n",
      "Epoch 22/100\n",
      "\u001b[1m52/61\u001b[0m \u001b[32m━━━━━━━━━━━━━━━━━\u001b[0m\u001b[37m━━━\u001b[0m \u001b[1m0s\u001b[0m 3ms/step - Precision: 0.6955 - Recall: 0.7465 - acc: 0.7950 - loss: 0.4215"
     ]
    },
    {
     "name": "stderr",
     "output_type": "stream",
     "text": [
      "WARNING:absl:You are saving your model as an HDF5 file via `model.save()` or `keras.saving.save_model(model)`. This file format is considered legacy. We recommend using instead the native Keras format, e.g. `model.save('my_model.keras')` or `keras.saving.save_model(model, 'my_model.keras')`. \n"
     ]
    },
    {
     "name": "stdout",
     "output_type": "stream",
     "text": [
      "\u001b[1m61/61\u001b[0m \u001b[32m━━━━━━━━━━━━━━━━━━━━\u001b[0m\u001b[37m\u001b[0m \u001b[1m0s\u001b[0m 6ms/step - Precision: 0.6968 - Recall: 0.7474 - acc: 0.7952 - loss: 0.4212 - val_Precision: 0.7247 - val_Recall: 0.7048 - val_acc: 0.7953 - val_loss: 0.4308\n",
      "Epoch 23/100\n",
      "\u001b[1m61/61\u001b[0m \u001b[32m━━━━━━━━━━━━━━━━━━━━\u001b[0m\u001b[37m\u001b[0m \u001b[1m0s\u001b[0m 5ms/step - Precision: 0.7309 - Recall: 0.7257 - acc: 0.8066 - loss: 0.4051 - val_Precision: 0.7114 - val_Recall: 0.7339 - val_acc: 0.7950 - val_loss: 0.4323\n",
      "Epoch 24/100\n",
      "\u001b[1m61/61\u001b[0m \u001b[32m━━━━━━━━━━━━━━━━━━━━\u001b[0m\u001b[37m\u001b[0m \u001b[1m0s\u001b[0m 6ms/step - Precision: 0.7353 - Recall: 0.7546 - acc: 0.8167 - loss: 0.3968 - val_Precision: 0.6979 - val_Recall: 0.7648 - val_acc: 0.7941 - val_loss: 0.4374\n",
      "Epoch 25/100\n",
      "\u001b[1m61/61\u001b[0m \u001b[32m━━━━━━━━━━━━━━━━━━━━\u001b[0m\u001b[37m\u001b[0m \u001b[1m0s\u001b[0m 5ms/step - Precision: 0.7249 - Recall: 0.7513 - acc: 0.8050 - loss: 0.4061 - val_Precision: 0.6803 - val_Recall: 0.7756 - val_acc: 0.7859 - val_loss: 0.4372\n",
      "Epoch 26/100\n",
      "\u001b[1m61/61\u001b[0m \u001b[32m━━━━━━━━━━━━━━━━━━━━\u001b[0m\u001b[37m\u001b[0m \u001b[1m0s\u001b[0m 5ms/step - Precision: 0.7223 - Recall: 0.7414 - acc: 0.8071 - loss: 0.4075 - val_Precision: 0.7156 - val_Recall: 0.7198 - val_acc: 0.7941 - val_loss: 0.4328\n",
      "Epoch 27/100\n",
      "\u001b[1m51/61\u001b[0m \u001b[32m━━━━━━━━━━━━━━━━\u001b[0m\u001b[37m━━━━\u001b[0m \u001b[1m0s\u001b[0m 3ms/step - Precision: 0.7326 - Recall: 0.7323 - acc: 0.8066 - loss: 0.3978"
     ]
    },
    {
     "name": "stderr",
     "output_type": "stream",
     "text": [
      "WARNING:absl:You are saving your model as an HDF5 file via `model.save()` or `keras.saving.save_model(model)`. This file format is considered legacy. We recommend using instead the native Keras format, e.g. `model.save('my_model.keras')` or `keras.saving.save_model(model, 'my_model.keras')`. \n"
     ]
    },
    {
     "name": "stdout",
     "output_type": "stream",
     "text": [
      "\u001b[1m61/61\u001b[0m \u001b[32m━━━━━━━━━━━━━━━━━━━━\u001b[0m\u001b[37m\u001b[0m \u001b[1m0s\u001b[0m 6ms/step - Precision: 0.7312 - Recall: 0.7326 - acc: 0.8060 - loss: 0.3997 - val_Precision: 0.7467 - val_Recall: 0.7106 - val_acc: 0.8071 - val_loss: 0.4304\n",
      "Epoch 28/100\n",
      "\u001b[1m50/61\u001b[0m \u001b[32m━━━━━━━━━━━━━━━━\u001b[0m\u001b[37m━━━━\u001b[0m \u001b[1m0s\u001b[0m 3ms/step - Precision: 0.7308 - Recall: 0.7102 - acc: 0.8052 - loss: 0.3945"
     ]
    },
    {
     "name": "stderr",
     "output_type": "stream",
     "text": [
      "WARNING:absl:You are saving your model as an HDF5 file via `model.save()` or `keras.saving.save_model(model)`. This file format is considered legacy. We recommend using instead the native Keras format, e.g. `model.save('my_model.keras')` or `keras.saving.save_model(model, 'my_model.keras')`. \n"
     ]
    },
    {
     "name": "stdout",
     "output_type": "stream",
     "text": [
      "\u001b[1m61/61\u001b[0m \u001b[32m━━━━━━━━━━━━━━━━━━━━\u001b[0m\u001b[37m\u001b[0m \u001b[1m0s\u001b[0m 6ms/step - Precision: 0.7313 - Recall: 0.7150 - acc: 0.8057 - loss: 0.3955 - val_Precision: 0.7071 - val_Recall: 0.7531 - val_acc: 0.7968 - val_loss: 0.4280\n",
      "Epoch 29/100\n",
      "\u001b[1m61/61\u001b[0m \u001b[32m━━━━━━━━━━━━━━━━━━━━\u001b[0m\u001b[37m\u001b[0m \u001b[1m0s\u001b[0m 5ms/step - Precision: 0.7288 - Recall: 0.7523 - acc: 0.8115 - loss: 0.3890 - val_Precision: 0.6821 - val_Recall: 0.7873 - val_acc: 0.7892 - val_loss: 0.4320\n",
      "Epoch 30/100\n",
      "\u001b[1m50/61\u001b[0m \u001b[32m━━━━━━━━━━━━━━━━\u001b[0m\u001b[37m━━━━\u001b[0m \u001b[1m0s\u001b[0m 3ms/step - Precision: 0.7343 - Recall: 0.7666 - acc: 0.8106 - loss: 0.3889"
     ]
    },
    {
     "name": "stderr",
     "output_type": "stream",
     "text": [
      "WARNING:absl:You are saving your model as an HDF5 file via `model.save()` or `keras.saving.save_model(model)`. This file format is considered legacy. We recommend using instead the native Keras format, e.g. `model.save('my_model.keras')` or `keras.saving.save_model(model, 'my_model.keras')`. \n"
     ]
    },
    {
     "name": "stdout",
     "output_type": "stream",
     "text": [
      "\u001b[1m61/61\u001b[0m \u001b[32m━━━━━━━━━━━━━━━━━━━━\u001b[0m\u001b[37m\u001b[0m \u001b[1m0s\u001b[0m 6ms/step - Precision: 0.7343 - Recall: 0.7637 - acc: 0.8109 - loss: 0.3903 - val_Precision: 0.7270 - val_Recall: 0.7398 - val_acc: 0.8044 - val_loss: 0.4227\n",
      "Epoch 31/100\n",
      "\u001b[1m47/61\u001b[0m \u001b[32m━━━━━━━━━━━━━━━\u001b[0m\u001b[37m━━━━━\u001b[0m \u001b[1m0s\u001b[0m 3ms/step - Precision: 0.7254 - Recall: 0.7565 - acc: 0.8136 - loss: 0.3927"
     ]
    },
    {
     "name": "stderr",
     "output_type": "stream",
     "text": [
      "WARNING:absl:You are saving your model as an HDF5 file via `model.save()` or `keras.saving.save_model(model)`. This file format is considered legacy. We recommend using instead the native Keras format, e.g. `model.save('my_model.keras')` or `keras.saving.save_model(model, 'my_model.keras')`. \n"
     ]
    },
    {
     "name": "stdout",
     "output_type": "stream",
     "text": [
      "\u001b[1m61/61\u001b[0m \u001b[32m━━━━━━━━━━━━━━━━━━━━\u001b[0m\u001b[37m\u001b[0m \u001b[1m0s\u001b[0m 6ms/step - Precision: 0.7272 - Recall: 0.7563 - acc: 0.8132 - loss: 0.3934 - val_Precision: 0.7317 - val_Recall: 0.7573 - val_acc: 0.8107 - val_loss: 0.4160\n",
      "Epoch 32/100\n",
      "\u001b[1m61/61\u001b[0m \u001b[32m━━━━━━━━━━━━━━━━━━━━\u001b[0m\u001b[37m\u001b[0m \u001b[1m0s\u001b[0m 5ms/step - Precision: 0.7606 - Recall: 0.7525 - acc: 0.8242 - loss: 0.3764 - val_Precision: 0.7256 - val_Recall: 0.7565 - val_acc: 0.8074 - val_loss: 0.4197\n",
      "Epoch 33/100\n",
      "\u001b[1m61/61\u001b[0m \u001b[32m━━━━━━━━━━━━━━━━━━━━\u001b[0m\u001b[37m\u001b[0m \u001b[1m0s\u001b[0m 5ms/step - Precision: 0.7499 - Recall: 0.7518 - acc: 0.8235 - loss: 0.3787 - val_Precision: 0.7385 - val_Recall: 0.7231 - val_acc: 0.8062 - val_loss: 0.4184\n",
      "Epoch 34/100\n",
      "\u001b[1m61/61\u001b[0m \u001b[32m━━━━━━━━━━━━━━━━━━━━\u001b[0m\u001b[37m\u001b[0m \u001b[1m0s\u001b[0m 5ms/step - Precision: 0.7512 - Recall: 0.7415 - acc: 0.8151 - loss: 0.3899 - val_Precision: 0.7007 - val_Recall: 0.8007 - val_acc: 0.8032 - val_loss: 0.4197\n",
      "Epoch 35/100\n",
      "\u001b[1m61/61\u001b[0m \u001b[32m━━━━━━━━━━━━━━━━━━━━\u001b[0m\u001b[37m\u001b[0m \u001b[1m0s\u001b[0m 5ms/step - Precision: 0.7401 - Recall: 0.7750 - acc: 0.8216 - loss: 0.3845 - val_Precision: 0.7142 - val_Recall: 0.7773 - val_acc: 0.8059 - val_loss: 0.4183\n",
      "Epoch 36/100\n",
      "\u001b[1m51/61\u001b[0m \u001b[32m━━━━━━━━━━━━━━━━\u001b[0m\u001b[37m━━━━\u001b[0m \u001b[1m0s\u001b[0m 3ms/step - Precision: 0.7386 - Recall: 0.7852 - acc: 0.8248 - loss: 0.3804"
     ]
    },
    {
     "name": "stderr",
     "output_type": "stream",
     "text": [
      "WARNING:absl:You are saving your model as an HDF5 file via `model.save()` or `keras.saving.save_model(model)`. This file format is considered legacy. We recommend using instead the native Keras format, e.g. `model.save('my_model.keras')` or `keras.saving.save_model(model, 'my_model.keras')`. \n"
     ]
    },
    {
     "name": "stdout",
     "output_type": "stream",
     "text": [
      "\u001b[1m61/61\u001b[0m \u001b[32m━━━━━━━━━━━━━━━━━━━━\u001b[0m\u001b[37m\u001b[0m \u001b[1m0s\u001b[0m 6ms/step - Precision: 0.7395 - Recall: 0.7789 - acc: 0.8234 - loss: 0.3816 - val_Precision: 0.7252 - val_Recall: 0.7681 - val_acc: 0.8098 - val_loss: 0.4141\n",
      "Epoch 37/100\n",
      "\u001b[1m61/61\u001b[0m \u001b[32m━━━━━━━━━━━━━━━━━━━━\u001b[0m\u001b[37m\u001b[0m \u001b[1m0s\u001b[0m 5ms/step - Precision: 0.7387 - Recall: 0.7766 - acc: 0.8208 - loss: 0.3835 - val_Precision: 0.7436 - val_Recall: 0.7064 - val_acc: 0.8047 - val_loss: 0.4189\n",
      "Epoch 38/100\n",
      "\u001b[1m61/61\u001b[0m \u001b[32m━━━━━━━━━━━━━━━━━━━━\u001b[0m\u001b[37m\u001b[0m \u001b[1m0s\u001b[0m 5ms/step - Precision: 0.7606 - Recall: 0.7434 - acc: 0.8240 - loss: 0.3863 - val_Precision: 0.7285 - val_Recall: 0.7364 - val_acc: 0.8044 - val_loss: 0.4169\n",
      "Epoch 39/100\n",
      "\u001b[1m49/61\u001b[0m \u001b[32m━━━━━━━━━━━━━━━━\u001b[0m\u001b[37m━━━━\u001b[0m \u001b[1m0s\u001b[0m 3ms/step - Precision: 0.7577 - Recall: 0.7778 - acc: 0.8302 - loss: 0.3672"
     ]
    },
    {
     "name": "stderr",
     "output_type": "stream",
     "text": [
      "WARNING:absl:You are saving your model as an HDF5 file via `model.save()` or `keras.saving.save_model(model)`. This file format is considered legacy. We recommend using instead the native Keras format, e.g. `model.save('my_model.keras')` or `keras.saving.save_model(model, 'my_model.keras')`. \n"
     ]
    },
    {
     "name": "stdout",
     "output_type": "stream",
     "text": [
      "\u001b[1m61/61\u001b[0m \u001b[32m━━━━━━━━━━━━━━━━━━━━\u001b[0m\u001b[37m\u001b[0m \u001b[1m0s\u001b[0m 6ms/step - Precision: 0.7582 - Recall: 0.7749 - acc: 0.8295 - loss: 0.3686 - val_Precision: 0.7516 - val_Recall: 0.7064 - val_acc: 0.8083 - val_loss: 0.4128\n",
      "Epoch 40/100\n",
      "\u001b[1m61/61\u001b[0m \u001b[32m━━━━━━━━━━━━━━━━━━━━\u001b[0m\u001b[37m\u001b[0m \u001b[1m0s\u001b[0m 5ms/step - Precision: 0.7662 - Recall: 0.7446 - acc: 0.8295 - loss: 0.3641 - val_Precision: 0.7224 - val_Recall: 0.7790 - val_acc: 0.8107 - val_loss: 0.4219\n",
      "Epoch 41/100\n",
      "\u001b[1m61/61\u001b[0m \u001b[32m━━━━━━━━━━━━━━━━━━━━\u001b[0m\u001b[37m\u001b[0m \u001b[1m0s\u001b[0m 5ms/step - Precision: 0.7603 - Recall: 0.7505 - acc: 0.8246 - loss: 0.3780 - val_Precision: 0.6928 - val_Recall: 0.7882 - val_acc: 0.7959 - val_loss: 0.4252\n",
      "Epoch 42/100\n",
      "\u001b[1m48/61\u001b[0m \u001b[32m━━━━━━━━━━━━━━━\u001b[0m\u001b[37m━━━━━\u001b[0m \u001b[1m0s\u001b[0m 3ms/step - Precision: 0.7633 - Recall: 0.8002 - acc: 0.8359 - loss: 0.3692"
     ]
    },
    {
     "name": "stderr",
     "output_type": "stream",
     "text": [
      "WARNING:absl:You are saving your model as an HDF5 file via `model.save()` or `keras.saving.save_model(model)`. This file format is considered legacy. We recommend using instead the native Keras format, e.g. `model.save('my_model.keras')` or `keras.saving.save_model(model, 'my_model.keras')`. \n"
     ]
    },
    {
     "name": "stdout",
     "output_type": "stream",
     "text": [
      "\u001b[1m61/61\u001b[0m \u001b[32m━━━━━━━━━━━━━━━━━━━━\u001b[0m\u001b[37m\u001b[0m \u001b[1m0s\u001b[0m 6ms/step - Precision: 0.7646 - Recall: 0.7947 - acc: 0.8357 - loss: 0.3685 - val_Precision: 0.7492 - val_Recall: 0.7448 - val_acc: 0.8165 - val_loss: 0.4126\n",
      "Epoch 43/100\n",
      "\u001b[1m61/61\u001b[0m \u001b[32m━━━━━━━━━━━━━━━━━━━━\u001b[0m\u001b[37m\u001b[0m \u001b[1m0s\u001b[0m 5ms/step - Precision: 0.7505 - Recall: 0.7750 - acc: 0.8257 - loss: 0.3714 - val_Precision: 0.7310 - val_Recall: 0.7456 - val_acc: 0.8077 - val_loss: 0.4160\n",
      "Epoch 44/100\n",
      "\u001b[1m61/61\u001b[0m \u001b[32m━━━━━━━━━━━━━━━━━━━━\u001b[0m\u001b[37m\u001b[0m \u001b[1m0s\u001b[0m 5ms/step - Precision: 0.7562 - Recall: 0.7268 - acc: 0.8195 - loss: 0.3708 - val_Precision: 0.7257 - val_Recall: 0.7523 - val_acc: 0.8065 - val_loss: 0.4141\n",
      "Epoch 45/100\n",
      "\u001b[1m61/61\u001b[0m \u001b[32m━━━━━━━━━━━━━━━━━━━━\u001b[0m\u001b[37m\u001b[0m \u001b[1m0s\u001b[0m 5ms/step - Precision: 0.7763 - Recall: 0.7543 - acc: 0.8324 - loss: 0.3553 - val_Precision: 0.7439 - val_Recall: 0.7314 - val_acc: 0.8107 - val_loss: 0.4189\n",
      "Epoch 46/100\n",
      "\u001b[1m61/61\u001b[0m \u001b[32m━━━━━━━━━━━━━━━━━━━━\u001b[0m\u001b[37m\u001b[0m \u001b[1m0s\u001b[0m 5ms/step - Precision: 0.7789 - Recall: 0.7680 - acc: 0.8358 - loss: 0.3473 - val_Precision: 0.7288 - val_Recall: 0.7823 - val_acc: 0.8150 - val_loss: 0.4130\n",
      "Epoch 47/100\n",
      "\u001b[1m49/61\u001b[0m \u001b[32m━━━━━━━━━━━━━━━━\u001b[0m\u001b[37m━━━━\u001b[0m \u001b[1m0s\u001b[0m 3ms/step - Precision: 0.7829 - Recall: 0.7933 - acc: 0.8427 - loss: 0.3499"
     ]
    },
    {
     "name": "stderr",
     "output_type": "stream",
     "text": [
      "WARNING:absl:You are saving your model as an HDF5 file via `model.save()` or `keras.saving.save_model(model)`. This file format is considered legacy. We recommend using instead the native Keras format, e.g. `model.save('my_model.keras')` or `keras.saving.save_model(model, 'my_model.keras')`. \n"
     ]
    },
    {
     "name": "stdout",
     "output_type": "stream",
     "text": [
      "\u001b[1m61/61\u001b[0m \u001b[32m━━━━━━━━━━━━━━━━━━━━\u001b[0m\u001b[37m\u001b[0m \u001b[1m0s\u001b[0m 6ms/step - Precision: 0.7800 - Recall: 0.7890 - acc: 0.8409 - loss: 0.3517 - val_Precision: 0.7408 - val_Recall: 0.7556 - val_acc: 0.8150 - val_loss: 0.4113\n",
      "Epoch 48/100\n",
      "\u001b[1m51/61\u001b[0m \u001b[32m━━━━━━━━━━━━━━━━\u001b[0m\u001b[37m━━━━\u001b[0m \u001b[1m0s\u001b[0m 3ms/step - Precision: 0.7781 - Recall: 0.7763 - acc: 0.8378 - loss: 0.3638"
     ]
    },
    {
     "name": "stderr",
     "output_type": "stream",
     "text": [
      "WARNING:absl:You are saving your model as an HDF5 file via `model.save()` or `keras.saving.save_model(model)`. This file format is considered legacy. We recommend using instead the native Keras format, e.g. `model.save('my_model.keras')` or `keras.saving.save_model(model, 'my_model.keras')`. \n"
     ]
    },
    {
     "name": "stdout",
     "output_type": "stream",
     "text": [
      "\u001b[1m61/61\u001b[0m \u001b[32m━━━━━━━━━━━━━━━━━━━━\u001b[0m\u001b[37m\u001b[0m \u001b[1m0s\u001b[0m 5ms/step - Precision: 0.7769 - Recall: 0.7764 - acc: 0.8374 - loss: 0.3628 - val_Precision: 0.7469 - val_Recall: 0.7456 - val_acc: 0.8156 - val_loss: 0.4110\n",
      "Epoch 49/100\n",
      "\u001b[1m49/61\u001b[0m \u001b[32m━━━━━━━━━━━━━━━━\u001b[0m\u001b[37m━━━━\u001b[0m \u001b[1m0s\u001b[0m 3ms/step - Precision: 0.7880 - Recall: 0.7774 - acc: 0.8388 - loss: 0.3561"
     ]
    },
    {
     "name": "stderr",
     "output_type": "stream",
     "text": [
      "WARNING:absl:You are saving your model as an HDF5 file via `model.save()` or `keras.saving.save_model(model)`. This file format is considered legacy. We recommend using instead the native Keras format, e.g. `model.save('my_model.keras')` or `keras.saving.save_model(model, 'my_model.keras')`. \n"
     ]
    },
    {
     "name": "stdout",
     "output_type": "stream",
     "text": [
      "\u001b[1m61/61\u001b[0m \u001b[32m━━━━━━━━━━━━━━━━━━━━\u001b[0m\u001b[37m\u001b[0m \u001b[1m0s\u001b[0m 5ms/step - Precision: 0.7842 - Recall: 0.7758 - acc: 0.8378 - loss: 0.3565 - val_Precision: 0.7310 - val_Recall: 0.7615 - val_acc: 0.8113 - val_loss: 0.4090\n",
      "Epoch 50/100\n",
      "\u001b[1m48/61\u001b[0m \u001b[32m━━━━━━━━━━━━━━━\u001b[0m\u001b[37m━━━━━\u001b[0m \u001b[1m0s\u001b[0m 3ms/step - Precision: 0.7739 - Recall: 0.7769 - acc: 0.8390 - loss: 0.3477"
     ]
    },
    {
     "name": "stderr",
     "output_type": "stream",
     "text": [
      "WARNING:absl:You are saving your model as an HDF5 file via `model.save()` or `keras.saving.save_model(model)`. This file format is considered legacy. We recommend using instead the native Keras format, e.g. `model.save('my_model.keras')` or `keras.saving.save_model(model, 'my_model.keras')`. \n"
     ]
    },
    {
     "name": "stdout",
     "output_type": "stream",
     "text": [
      "\u001b[1m61/61\u001b[0m \u001b[32m━━━━━━━━━━━━━━━━━━━━\u001b[0m\u001b[37m\u001b[0m \u001b[1m0s\u001b[0m 6ms/step - Precision: 0.7747 - Recall: 0.7754 - acc: 0.8388 - loss: 0.3494 - val_Precision: 0.7289 - val_Recall: 0.7848 - val_acc: 0.8156 - val_loss: 0.4088\n",
      "Epoch 51/100\n",
      "\u001b[1m61/61\u001b[0m \u001b[32m━━━━━━━━━━━━━━━━━━━━\u001b[0m\u001b[37m\u001b[0m \u001b[1m0s\u001b[0m 5ms/step - Precision: 0.7499 - Recall: 0.8008 - acc: 0.8282 - loss: 0.3658 - val_Precision: 0.7263 - val_Recall: 0.7723 - val_acc: 0.8113 - val_loss: 0.4157\n",
      "Epoch 52/100\n",
      "\u001b[1m61/61\u001b[0m \u001b[32m━━━━━━━━━━━━━━━━━━━━\u001b[0m\u001b[37m\u001b[0m \u001b[1m0s\u001b[0m 5ms/step - Precision: 0.7622 - Recall: 0.7967 - acc: 0.8388 - loss: 0.3553 - val_Precision: 0.7444 - val_Recall: 0.7698 - val_acc: 0.8201 - val_loss: 0.4133\n",
      "Epoch 53/100\n",
      "\u001b[1m61/61\u001b[0m \u001b[32m━━━━━━━━━━━━━━━━━━━━\u001b[0m\u001b[37m\u001b[0m \u001b[1m0s\u001b[0m 5ms/step - Precision: 0.7688 - Recall: 0.7843 - acc: 0.8356 - loss: 0.3512 - val_Precision: 0.7456 - val_Recall: 0.7748 - val_acc: 0.8220 - val_loss: 0.4137\n",
      "Epoch 54/100\n",
      "\u001b[1m53/61\u001b[0m \u001b[32m━━━━━━━━━━━━━━━━━\u001b[0m\u001b[37m━━━\u001b[0m \u001b[1m0s\u001b[0m 3ms/step - Precision: 0.7712 - Recall: 0.7775 - acc: 0.8358 - loss: 0.3553"
     ]
    },
    {
     "name": "stderr",
     "output_type": "stream",
     "text": [
      "WARNING:absl:You are saving your model as an HDF5 file via `model.save()` or `keras.saving.save_model(model)`. This file format is considered legacy. We recommend using instead the native Keras format, e.g. `model.save('my_model.keras')` or `keras.saving.save_model(model, 'my_model.keras')`. \n"
     ]
    },
    {
     "name": "stdout",
     "output_type": "stream",
     "text": [
      "\u001b[1m61/61\u001b[0m \u001b[32m━━━━━━━━━━━━━━━━━━━━\u001b[0m\u001b[37m\u001b[0m \u001b[1m0s\u001b[0m 6ms/step - Precision: 0.7718 - Recall: 0.7784 - acc: 0.8364 - loss: 0.3547 - val_Precision: 0.7522 - val_Recall: 0.7673 - val_acc: 0.8235 - val_loss: 0.4076\n",
      "Epoch 55/100\n",
      "\u001b[1m61/61\u001b[0m \u001b[32m━━━━━━━━━━━━━━━━━━━━\u001b[0m\u001b[37m\u001b[0m \u001b[1m1s\u001b[0m 11ms/step - Precision: 0.7877 - Recall: 0.7837 - acc: 0.8481 - loss: 0.3389 - val_Precision: 0.7274 - val_Recall: 0.7990 - val_acc: 0.8180 - val_loss: 0.4165\n",
      "Epoch 56/100\n",
      "\u001b[1m61/61\u001b[0m \u001b[32m━━━━━━━━━━━━━━━━━━━━\u001b[0m\u001b[37m\u001b[0m \u001b[1m0s\u001b[0m 5ms/step - Precision: 0.7621 - Recall: 0.8118 - acc: 0.8387 - loss: 0.3449 - val_Precision: 0.7448 - val_Recall: 0.7448 - val_acc: 0.8144 - val_loss: 0.4127\n",
      "Epoch 57/100\n",
      "\u001b[1m44/61\u001b[0m \u001b[32m━━━━━━━━━━━━━━\u001b[0m\u001b[37m━━━━━━\u001b[0m \u001b[1m0s\u001b[0m 4ms/step - Precision: 0.7939 - Recall: 0.8061 - acc: 0.8544 - loss: 0.3267"
     ]
    },
    {
     "name": "stderr",
     "output_type": "stream",
     "text": [
      "WARNING:absl:You are saving your model as an HDF5 file via `model.save()` or `keras.saving.save_model(model)`. This file format is considered legacy. We recommend using instead the native Keras format, e.g. `model.save('my_model.keras')` or `keras.saving.save_model(model, 'my_model.keras')`. \n"
     ]
    },
    {
     "name": "stdout",
     "output_type": "stream",
     "text": [
      "\u001b[1m61/61\u001b[0m \u001b[32m━━━━━━━━━━━━━━━━━━━━\u001b[0m\u001b[37m\u001b[0m \u001b[1m0s\u001b[0m 5ms/step - Precision: 0.7912 - Recall: 0.8039 - acc: 0.8527 - loss: 0.3294 - val_Precision: 0.7540 - val_Recall: 0.7798 - val_acc: 0.8274 - val_loss: 0.4038\n",
      "Epoch 58/100\n",
      "\u001b[1m61/61\u001b[0m \u001b[32m━━━━━━━━━━━━━━━━━━━━\u001b[0m\u001b[37m\u001b[0m \u001b[1m0s\u001b[0m 5ms/step - Precision: 0.8020 - Recall: 0.8013 - acc: 0.8565 - loss: 0.3197 - val_Precision: 0.7471 - val_Recall: 0.7615 - val_acc: 0.8195 - val_loss: 0.4079\n",
      "Epoch 59/100\n",
      "\u001b[1m61/61\u001b[0m \u001b[32m━━━━━━━━━━━━━━━━━━━━\u001b[0m\u001b[37m\u001b[0m \u001b[1m0s\u001b[0m 5ms/step - Precision: 0.7848 - Recall: 0.7905 - acc: 0.8454 - loss: 0.3435 - val_Precision: 0.7458 - val_Recall: 0.7490 - val_acc: 0.8159 - val_loss: 0.4083\n",
      "Epoch 60/100\n",
      "\u001b[1m59/61\u001b[0m \u001b[32m━━━━━━━━━━━━━━━━━━━\u001b[0m\u001b[37m━\u001b[0m \u001b[1m0s\u001b[0m 4ms/step - Precision: 0.7958 - Recall: 0.7914 - acc: 0.8517 - loss: 0.3364"
     ]
    },
    {
     "name": "stderr",
     "output_type": "stream",
     "text": [
      "WARNING:absl:You are saving your model as an HDF5 file via `model.save()` or `keras.saving.save_model(model)`. This file format is considered legacy. We recommend using instead the native Keras format, e.g. `model.save('my_model.keras')` or `keras.saving.save_model(model, 'my_model.keras')`. \n"
     ]
    },
    {
     "name": "stdout",
     "output_type": "stream",
     "text": [
      "\u001b[1m61/61\u001b[0m \u001b[32m━━━━━━━━━━━━━━━━━━━━\u001b[0m\u001b[37m\u001b[0m \u001b[1m0s\u001b[0m 6ms/step - Precision: 0.7954 - Recall: 0.7912 - acc: 0.8515 - loss: 0.3364 - val_Precision: 0.7675 - val_Recall: 0.7598 - val_acc: 0.8289 - val_loss: 0.4024\n",
      "Epoch 61/100\n",
      "\u001b[1m61/61\u001b[0m \u001b[32m━━━━━━━━━━━━━━━━━━━━\u001b[0m\u001b[37m\u001b[0m \u001b[1m0s\u001b[0m 5ms/step - Precision: 0.8043 - Recall: 0.7832 - acc: 0.8561 - loss: 0.3225 - val_Precision: 0.7482 - val_Recall: 0.7882 - val_acc: 0.8265 - val_loss: 0.4062\n",
      "Epoch 62/100\n",
      "\u001b[1m50/61\u001b[0m \u001b[32m━━━━━━━━━━━━━━━━\u001b[0m\u001b[37m━━━━\u001b[0m \u001b[1m0s\u001b[0m 3ms/step - Precision: 0.7913 - Recall: 0.7913 - acc: 0.8453 - loss: 0.3347"
     ]
    },
    {
     "name": "stderr",
     "output_type": "stream",
     "text": [
      "WARNING:absl:You are saving your model as an HDF5 file via `model.save()` or `keras.saving.save_model(model)`. This file format is considered legacy. We recommend using instead the native Keras format, e.g. `model.save('my_model.keras')` or `keras.saving.save_model(model, 'my_model.keras')`. \n"
     ]
    },
    {
     "name": "stdout",
     "output_type": "stream",
     "text": [
      "\u001b[1m61/61\u001b[0m \u001b[32m━━━━━━━━━━━━━━━━━━━━\u001b[0m\u001b[37m\u001b[0m \u001b[1m0s\u001b[0m 6ms/step - Precision: 0.7906 - Recall: 0.7901 - acc: 0.8455 - loss: 0.3349 - val_Precision: 0.7574 - val_Recall: 0.7681 - val_acc: 0.8262 - val_loss: 0.3982\n",
      "Epoch 63/100\n",
      "\u001b[1m61/61\u001b[0m \u001b[32m━━━━━━━━━━━━━━━━━━━━\u001b[0m\u001b[37m\u001b[0m \u001b[1m0s\u001b[0m 5ms/step - Precision: 0.7951 - Recall: 0.7935 - acc: 0.8488 - loss: 0.3316 - val_Precision: 0.7320 - val_Recall: 0.7882 - val_acc: 0.8180 - val_loss: 0.4116\n",
      "Epoch 64/100\n",
      "\u001b[1m61/61\u001b[0m \u001b[32m━━━━━━━━━━━━━━━━━━━━\u001b[0m\u001b[37m\u001b[0m \u001b[1m0s\u001b[0m 5ms/step - Precision: 0.7960 - Recall: 0.7842 - acc: 0.8510 - loss: 0.3359 - val_Precision: 0.7518 - val_Recall: 0.7681 - val_acc: 0.8235 - val_loss: 0.4000\n",
      "Epoch 65/100\n",
      "\u001b[1m61/61\u001b[0m \u001b[32m━━━━━━━━━━━━━━━━━━━━\u001b[0m\u001b[37m\u001b[0m \u001b[1m0s\u001b[0m 5ms/step - Precision: 0.7971 - Recall: 0.7730 - acc: 0.8522 - loss: 0.3186 - val_Precision: 0.7539 - val_Recall: 0.7715 - val_acc: 0.8253 - val_loss: 0.4029\n",
      "Epoch 66/100\n",
      "\u001b[1m61/61\u001b[0m \u001b[32m━━━━━━━━━━━━━━━━━━━━\u001b[0m\u001b[37m\u001b[0m \u001b[1m0s\u001b[0m 6ms/step - Precision: 0.8067 - Recall: 0.8048 - acc: 0.8583 - loss: 0.3187 - val_Precision: 0.7630 - val_Recall: 0.7490 - val_acc: 0.8241 - val_loss: 0.4061\n",
      "Epoch 67/100\n",
      "\u001b[1m61/61\u001b[0m \u001b[32m━━━━━━━━━━━━━━━━━━━━\u001b[0m\u001b[37m\u001b[0m \u001b[1m0s\u001b[0m 5ms/step - Precision: 0.7696 - Recall: 0.7938 - acc: 0.8416 - loss: 0.3438 - val_Precision: 0.7553 - val_Recall: 0.8007 - val_acc: 0.8332 - val_loss: 0.4049\n",
      "Epoch 68/100\n",
      "\u001b[1m61/61\u001b[0m \u001b[32m━━━━━━━━━━━━━━━━━━━━\u001b[0m\u001b[37m\u001b[0m \u001b[1m0s\u001b[0m 6ms/step - Precision: 0.7979 - Recall: 0.7802 - acc: 0.8485 - loss: 0.3253 - val_Precision: 0.7421 - val_Recall: 0.7990 - val_acc: 0.8259 - val_loss: 0.4031\n",
      "Epoch 69/100\n",
      "\u001b[1m61/61\u001b[0m \u001b[32m━━━━━━━━━━━━━━━━━━━━\u001b[0m\u001b[37m\u001b[0m \u001b[1m0s\u001b[0m 5ms/step - Precision: 0.7966 - Recall: 0.7932 - acc: 0.8497 - loss: 0.3149 - val_Precision: 0.7460 - val_Recall: 0.8157 - val_acc: 0.8320 - val_loss: 0.4043\n",
      "Epoch 70/100\n",
      "\u001b[1m61/61\u001b[0m \u001b[32m━━━━━━━━━━━━━━━━━━━━\u001b[0m\u001b[37m\u001b[0m \u001b[1m0s\u001b[0m 5ms/step - Precision: 0.8086 - Recall: 0.7975 - acc: 0.8589 - loss: 0.3069 - val_Precision: 0.7793 - val_Recall: 0.7715 - val_acc: 0.8374 - val_loss: 0.3986\n",
      "Epoch 71/100\n",
      "\u001b[1m61/61\u001b[0m \u001b[32m━━━━━━━━━━━━━━━━━━━━\u001b[0m\u001b[37m\u001b[0m \u001b[1m0s\u001b[0m 5ms/step - Precision: 0.8023 - Recall: 0.7775 - acc: 0.8471 - loss: 0.3291 - val_Precision: 0.7701 - val_Recall: 0.7515 - val_acc: 0.8280 - val_loss: 0.4090\n",
      "Epoch 72/100\n",
      "\u001b[1m61/61\u001b[0m \u001b[32m━━━━━━━━━━━━━━━━━━━━\u001b[0m\u001b[37m\u001b[0m \u001b[1m0s\u001b[0m 5ms/step - Precision: 0.8146 - Recall: 0.7940 - acc: 0.8616 - loss: 0.3148 - val_Precision: 0.7362 - val_Recall: 0.8148 - val_acc: 0.8265 - val_loss: 0.4056\n",
      "Epoch 73/100\n",
      "\u001b[1m61/61\u001b[0m \u001b[32m━━━━━━━━━━━━━━━━━━━━\u001b[0m\u001b[37m\u001b[0m \u001b[1m0s\u001b[0m 5ms/step - Precision: 0.7966 - Recall: 0.8131 - acc: 0.8590 - loss: 0.3078 - val_Precision: 0.7222 - val_Recall: 0.8240 - val_acc: 0.8207 - val_loss: 0.4118\n",
      "Epoch 74/100\n",
      "\u001b[1m61/61\u001b[0m \u001b[32m━━━━━━━━━━━━━━━━━━━━\u001b[0m\u001b[37m\u001b[0m \u001b[1m0s\u001b[0m 5ms/step - Precision: 0.7890 - Recall: 0.8317 - acc: 0.8575 - loss: 0.3238 - val_Precision: 0.7622 - val_Recall: 0.7940 - val_acc: 0.8350 - val_loss: 0.4134\n",
      "Epoch 75/100\n",
      "\u001b[1m61/61\u001b[0m \u001b[32m━━━━━━━━━━━━━━━━━━━━\u001b[0m\u001b[37m\u001b[0m \u001b[1m0s\u001b[0m 5ms/step - Precision: 0.8027 - Recall: 0.8145 - acc: 0.8608 - loss: 0.3179 - val_Precision: 0.7735 - val_Recall: 0.7748 - val_acc: 0.8356 - val_loss: 0.4040\n",
      "Epoch 76/100\n",
      "\u001b[1m61/61\u001b[0m \u001b[32m━━━━━━━━━━━━━━━━━━━━\u001b[0m\u001b[37m\u001b[0m \u001b[1m0s\u001b[0m 5ms/step - Precision: 0.8040 - Recall: 0.8037 - acc: 0.8601 - loss: 0.3057 - val_Precision: 0.7577 - val_Recall: 0.7957 - val_acc: 0.8332 - val_loss: 0.4069\n",
      "Epoch 77/100\n",
      "\u001b[1m61/61\u001b[0m \u001b[32m━━━━━━━━━━━━━━━━━━━━\u001b[0m\u001b[37m\u001b[0m \u001b[1m0s\u001b[0m 5ms/step - Precision: 0.8111 - Recall: 0.8168 - acc: 0.8642 - loss: 0.3058 - val_Precision: 0.7418 - val_Recall: 0.8073 - val_acc: 0.8277 - val_loss: 0.4050\n",
      "Epoch 78/100\n",
      "\u001b[1m61/61\u001b[0m \u001b[32m━━━━━━━━━━━━━━━━━━━━\u001b[0m\u001b[37m\u001b[0m \u001b[1m0s\u001b[0m 5ms/step - Precision: 0.7974 - Recall: 0.8290 - acc: 0.8602 - loss: 0.3075 - val_Precision: 0.7633 - val_Recall: 0.7907 - val_acc: 0.8347 - val_loss: 0.4103\n",
      "Epoch 79/100\n",
      "\u001b[1m61/61\u001b[0m \u001b[32m━━━━━━━━━━━━━━━━━━━━\u001b[0m\u001b[37m\u001b[0m \u001b[1m0s\u001b[0m 5ms/step - Precision: 0.8048 - Recall: 0.8017 - acc: 0.8573 - loss: 0.3069 - val_Precision: 0.7477 - val_Recall: 0.8132 - val_acc: 0.8323 - val_loss: 0.4035\n",
      "Epoch 80/100\n",
      "\u001b[1m61/61\u001b[0m \u001b[32m━━━━━━━━━━━━━━━━━━━━\u001b[0m\u001b[37m\u001b[0m \u001b[1m0s\u001b[0m 5ms/step - Precision: 0.8128 - Recall: 0.8181 - acc: 0.8678 - loss: 0.2997 - val_Precision: 0.7270 - val_Recall: 0.8240 - val_acc: 0.8235 - val_loss: 0.4130\n",
      "Epoch 81/100\n",
      "\u001b[1m61/61\u001b[0m \u001b[32m━━━━━━━━━━━━━━━━━━━━\u001b[0m\u001b[37m\u001b[0m \u001b[1m0s\u001b[0m 5ms/step - Precision: 0.7881 - Recall: 0.8233 - acc: 0.8560 - loss: 0.3197 - val_Precision: 0.7425 - val_Recall: 0.8249 - val_acc: 0.8323 - val_loss: 0.4205\n",
      "Epoch 82/100\n",
      "\u001b[1m61/61\u001b[0m \u001b[32m━━━━━━━━━━━━━━━━━━━━\u001b[0m\u001b[37m\u001b[0m \u001b[1m0s\u001b[0m 5ms/step - Precision: 0.8007 - Recall: 0.8269 - acc: 0.8630 - loss: 0.3013 - val_Precision: 0.7361 - val_Recall: 0.8257 - val_acc: 0.8289 - val_loss: 0.4034\n",
      "Epoch 83/100\n",
      "\u001b[1m61/61\u001b[0m \u001b[32m━━━━━━━━━━━━━━━━━━━━\u001b[0m\u001b[37m\u001b[0m \u001b[1m0s\u001b[0m 5ms/step - Precision: 0.7918 - Recall: 0.8282 - acc: 0.8602 - loss: 0.3088 - val_Precision: 0.7628 - val_Recall: 0.7965 - val_acc: 0.8359 - val_loss: 0.4095\n",
      "Epoch 84/100\n",
      "\u001b[1m61/61\u001b[0m \u001b[32m━━━━━━━━━━━━━━━━━━━━\u001b[0m\u001b[37m\u001b[0m \u001b[1m0s\u001b[0m 7ms/step - Precision: 0.8137 - Recall: 0.8207 - acc: 0.8677 - loss: 0.3004 - val_Precision: 0.7698 - val_Recall: 0.7865 - val_acc: 0.8368 - val_loss: 0.4000\n",
      "Epoch 85/100\n",
      "\u001b[1m61/61\u001b[0m \u001b[32m━━━━━━━━━━━━━━━━━━━━\u001b[0m\u001b[37m\u001b[0m \u001b[1m0s\u001b[0m 5ms/step - Precision: 0.8126 - Recall: 0.8262 - acc: 0.8691 - loss: 0.2935 - val_Precision: 0.7643 - val_Recall: 0.8032 - val_acc: 0.8383 - val_loss: 0.4044\n",
      "Epoch 86/100\n",
      "\u001b[1m61/61\u001b[0m \u001b[32m━━━━━━━━━━━━━━━━━━━━\u001b[0m\u001b[37m\u001b[0m \u001b[1m0s\u001b[0m 5ms/step - Precision: 0.8141 - Recall: 0.8113 - acc: 0.8657 - loss: 0.2949 - val_Precision: 0.7328 - val_Recall: 0.8190 - val_acc: 0.8256 - val_loss: 0.4168\n",
      "Epoch 87/100\n",
      "\u001b[1m61/61\u001b[0m \u001b[32m━━━━━━━━━━━━━━━━━━━━\u001b[0m\u001b[37m\u001b[0m \u001b[1m0s\u001b[0m 5ms/step - Precision: 0.7982 - Recall: 0.8359 - acc: 0.8643 - loss: 0.3074 - val_Precision: 0.7582 - val_Recall: 0.7948 - val_acc: 0.8332 - val_loss: 0.4083\n",
      "Epoch 88/100\n",
      "\u001b[1m61/61\u001b[0m \u001b[32m━━━━━━━━━━━━━━━━━━━━\u001b[0m\u001b[37m\u001b[0m \u001b[1m0s\u001b[0m 5ms/step - Precision: 0.8034 - Recall: 0.8290 - acc: 0.8672 - loss: 0.2991 - val_Precision: 0.7351 - val_Recall: 0.8307 - val_acc: 0.8295 - val_loss: 0.4217\n",
      "Epoch 89/100\n",
      "\u001b[1m61/61\u001b[0m \u001b[32m━━━━━━━━━━━━━━━━━━━━\u001b[0m\u001b[37m\u001b[0m \u001b[1m0s\u001b[0m 5ms/step - Precision: 0.8067 - Recall: 0.8394 - acc: 0.8696 - loss: 0.2874 - val_Precision: 0.7365 - val_Recall: 0.8299 - val_acc: 0.8301 - val_loss: 0.4122\n",
      "Epoch 90/100\n",
      "\u001b[1m61/61\u001b[0m \u001b[32m━━━━━━━━━━━━━━━━━━━━\u001b[0m\u001b[37m\u001b[0m \u001b[1m0s\u001b[0m 6ms/step - Precision: 0.7958 - Recall: 0.8436 - acc: 0.8660 - loss: 0.3022 - val_Precision: 0.7616 - val_Recall: 0.8048 - val_acc: 0.8374 - val_loss: 0.4045\n",
      "Epoch 91/100\n",
      "\u001b[1m61/61\u001b[0m \u001b[32m━━━━━━━━━━━━━━━━━━━━\u001b[0m\u001b[37m\u001b[0m \u001b[1m0s\u001b[0m 5ms/step - Precision: 0.8189 - Recall: 0.8299 - acc: 0.8716 - loss: 0.2929 - val_Precision: 0.7563 - val_Recall: 0.8207 - val_acc: 0.8386 - val_loss: 0.4050\n",
      "Epoch 92/100\n",
      "\u001b[1m61/61\u001b[0m \u001b[32m━━━━━━━━━━━━━━━━━━━━\u001b[0m\u001b[37m\u001b[0m \u001b[1m0s\u001b[0m 5ms/step - Precision: 0.8057 - Recall: 0.8229 - acc: 0.8642 - loss: 0.2964 - val_Precision: 0.7429 - val_Recall: 0.8315 - val_acc: 0.8341 - val_loss: 0.4156\n",
      "Epoch 93/100\n",
      "\u001b[1m61/61\u001b[0m \u001b[32m━━━━━━━━━━━━━━━━━━━━\u001b[0m\u001b[37m\u001b[0m \u001b[1m0s\u001b[0m 5ms/step - Precision: 0.8176 - Recall: 0.8237 - acc: 0.8709 - loss: 0.2945 - val_Precision: 0.7724 - val_Recall: 0.7982 - val_acc: 0.8411 - val_loss: 0.4043\n",
      "Epoch 94/100\n",
      "\u001b[1m61/61\u001b[0m \u001b[32m━━━━━━━━━━━━━━━━━━━━\u001b[0m\u001b[37m\u001b[0m \u001b[1m0s\u001b[0m 5ms/step - Precision: 0.8288 - Recall: 0.8093 - acc: 0.8713 - loss: 0.2781 - val_Precision: 0.7604 - val_Recall: 0.8098 - val_acc: 0.8380 - val_loss: 0.4076\n",
      "Epoch 95/100\n",
      "\u001b[1m61/61\u001b[0m \u001b[32m━━━━━━━━━━━━━━━━━━━━\u001b[0m\u001b[37m\u001b[0m \u001b[1m0s\u001b[0m 5ms/step - Precision: 0.8162 - Recall: 0.8329 - acc: 0.8694 - loss: 0.2896 - val_Precision: 0.7517 - val_Recall: 0.8132 - val_acc: 0.8344 - val_loss: 0.4079\n",
      "Epoch 96/100\n",
      "\u001b[1m61/61\u001b[0m \u001b[32m━━━━━━━━━━━━━━━━━━━━\u001b[0m\u001b[37m\u001b[0m \u001b[1m0s\u001b[0m 5ms/step - Precision: 0.8176 - Recall: 0.8431 - acc: 0.8757 - loss: 0.2829 - val_Precision: 0.7508 - val_Recall: 0.8215 - val_acc: 0.8359 - val_loss: 0.4139\n",
      "Epoch 97/100\n",
      "\u001b[1m61/61\u001b[0m \u001b[32m━━━━━━━━━━━━━━━━━━━━\u001b[0m\u001b[37m\u001b[0m \u001b[1m0s\u001b[0m 5ms/step - Precision: 0.8185 - Recall: 0.8256 - acc: 0.8729 - loss: 0.2806 - val_Precision: 0.7715 - val_Recall: 0.7940 - val_acc: 0.8396 - val_loss: 0.4063\n",
      "Epoch 98/100\n",
      "\u001b[1m61/61\u001b[0m \u001b[32m━━━━━━━━━━━━━━━━━━━━\u001b[0m\u001b[37m\u001b[0m \u001b[1m0s\u001b[0m 5ms/step - Precision: 0.8280 - Recall: 0.8029 - acc: 0.8710 - loss: 0.2788 - val_Precision: 0.7424 - val_Recall: 0.8315 - val_acc: 0.8338 - val_loss: 0.4078\n",
      "Epoch 99/100\n",
      "\u001b[1m61/61\u001b[0m \u001b[32m━━━━━━━━━━━━━━━━━━━━\u001b[0m\u001b[37m\u001b[0m \u001b[1m0s\u001b[0m 5ms/step - Precision: 0.8303 - Recall: 0.8336 - acc: 0.8797 - loss: 0.2713 - val_Precision: 0.7504 - val_Recall: 0.8224 - val_acc: 0.8359 - val_loss: 0.4169\n",
      "Epoch 100/100\n",
      "\u001b[1m61/61\u001b[0m \u001b[32m━━━━━━━━━━━━━━━━━━━━\u001b[0m\u001b[37m\u001b[0m \u001b[1m0s\u001b[0m 5ms/step - Precision: 0.7964 - Recall: 0.8211 - acc: 0.8593 - loss: 0.3124 - val_Precision: 0.7564 - val_Recall: 0.8157 - val_acc: 0.8374 - val_loss: 0.4092\n"
     ]
    },
    {
     "name": "stderr",
     "output_type": "stream",
     "text": [
      "2025/05/02 19:05:50 WARNING mlflow.tensorflow: Failed to infer model signature: could not sample data to infer model signature: Cannot log input example or model signature for input with type <class 'pandas.core.frame.DataFrame'>. TensorFlow Keras autologging can only log input examples and model signatures for the following input types: numpy.ndarray, dict[string -> numpy.ndarray], tensorflow.keras.utils.Sequence, and tensorflow.data.Dataset (TensorFlow >= 2.1.0 required)\n",
      "2025/05/02 19:05:50 WARNING mlflow.tensorflow: You are saving a TensorFlow Core model or Keras model without a signature. Inference with mlflow.pyfunc.spark_udf() will not work unless the model's pyfunc representation accepts pandas DataFrames as inference inputs.\n",
      "2025/05/02 19:05:55 WARNING mlflow.models.model: Model logged without a signature and input example. Please set `input_example` parameter when logging the model to auto infer the model signature.\n"
     ]
    },
    {
     "name": "stdout",
     "output_type": "stream",
     "text": [
      "\u001b[1m104/104\u001b[0m \u001b[32m━━━━━━━━━━━━━━━━━━━━\u001b[0m\u001b[37m\u001b[0m \u001b[1m0s\u001b[0m 990us/step - Precision: 0.7622 - Recall: 0.8164 - acc: 0.8430 - loss: 0.4112\n"
     ]
    },
    {
     "data": {
      "text/plain": [
       "[0.4092269241809845,\n",
       " 0.8374279737472534,\n",
       " 0.8156797289848328,\n",
       " 0.7563804984092712]"
      ]
     },
     "execution_count": 33,
     "metadata": {},
     "output_type": "execute_result"
    }
   ],
   "source": [
    "with mlflow.start_run(run_name='DNN'):#mlflow\n",
    "    mlflow.tensorflow.autolog()#mlflow    \n",
    "\n",
    "    n_input = X_train.shape[1]\n",
    "\n",
    "    model = Sequential()\n",
    "    model.add(BatchNormalization())\n",
    "    model.add(Dense(256, input_shape=(n_input,), activation='relu'))\n",
    "    model.add(Dropout(0.1))  # 增加 Dropout 率，避免過擬合\n",
    "    model.add(Dense(512, activation='relu'))\n",
    "    model.add(Dropout(0.1))  # Dropout 率可根據需要進行調整\n",
    "    model.add(Dense(128, activation='relu'))\n",
    "    model.add(Dropout(0.1))  # Dropout 率可根據需要進行調整\n",
    "    model.add(Dense(1, activation='sigmoid'))\n",
    "\n",
    "\n",
    "    # 模型optimizer 和 learning rate\n",
    "\n",
    "\n",
    "    initial_lr = 0.001\n",
    "    from tensorflow.keras.optimizers import schedules\n",
    "    lr_schedule = schedules.ExponentialDecay(\n",
    "        initial_learning_rate=initial_lr,\n",
    "        decay_steps=100000,\n",
    "        decay_rate=0.96,\n",
    "        staircase=True)\n",
    "    from tensorflow.keras.optimizers import Adam\n",
    "    optimizer = Adam(learning_rate=lr_schedule)\n",
    "\n",
    "    mlflow.log_param(\"loss\", 'bce') #mlflow\n",
    "    model.compile(loss='bce', optimizer=optimizer, metrics=['acc', 'Recall', 'Precision'])\n",
    "\n",
    "    # EarlyStopping: 根據 val_loss 停止訓練\n",
    "    early_stop = EarlyStopping(monitor='val_loss', patience=10, verbose=1, restore_best_weights=True)\n",
    "    # ModelCheckpoint: 儲存最佳模型\n",
    "    from tensorflow.keras.callbacks import ModelCheckpoint\n",
    "    checkpoint = ModelCheckpoint('./models_temp/DNN_best_model.h5', monitor='val_loss', save_best_only=True, verbose=1)\n",
    "\n",
    "    history = model.fit(X_train, y_train, validation_data=(X_test, y_test), epochs=100, batch_size=128, verbose=1)\n",
    "\n",
    "    model.evaluate(X_test, y_test)"
   ]
  },
  {
   "cell_type": "code",
   "execution_count": 34,
   "id": "d4b1e3ac",
   "metadata": {},
   "outputs": [
    {
     "data": {
      "image/png": "[encoded data removed]",
      "text/plain": [
       "<Figure size 640x480 with 1 Axes>"
      ]
     },
     "metadata": {},
     "output_type": "display_data"
    },
    {
     "data": {
      "image/png": "[encoded data removed]",
      "text/plain": [
       "<Figure size 640x480 with 1 Axes>"
      ]
     },
     "metadata": {},
     "output_type": "display_data"
    }
   ],
   "source": [
    "import matplotlib.pyplot as plt\n",
    "\n",
    "# Loss 曲線\n",
    "plt.plot(history.history['loss'], label='Train Loss')\n",
    "plt.plot(history.history['val_loss'], label='Validation Loss')\n",
    "plt.xlabel('Epochs')\n",
    "plt.ylabel('Loss')\n",
    "plt.legend()\n",
    "plt.title('Loss over epochs')\n",
    "plt.show()\n",
    "\n",
    "# Accuracy 曲線\n",
    "plt.plot(history.history['acc'], label='Train Accuracy')\n",
    "plt.plot(history.history['val_acc'], label='Validation Accuracy')\n",
    "plt.xlabel('Epochs')\n",
    "plt.ylabel('Accuracy')\n",
    "plt.legend()\n",
    "plt.title('Accuracy over epochs')\n",
    "plt.show()"
   ]
  },
  {
   "cell_type": "code",
   "execution_count": 35,
   "id": "73c2dab2",
   "metadata": {},
   "outputs": [
    {
     "name": "stdout",
     "output_type": "stream",
     "text": [
      "\u001b[1m104/104\u001b[0m \u001b[32m━━━━━━━━━━━━━━━━━━━━\u001b[0m\u001b[37m\u001b[0m \u001b[1m0s\u001b[0m 1ms/step  \n"
     ]
    },
    {
     "data": {
      "image/png": "[encoded data removed]",
      "text/plain": [
       "<Figure size 600x600 with 2 Axes>"
      ]
     },
     "metadata": {},
     "output_type": "display_data"
    },
    {
     "name": "stdout",
     "output_type": "stream",
     "text": [
      "Classification Report:\n",
      "\n",
      "              precision    recall  f1-score   support\n",
      "\n",
      "           0     0.8897    0.8499    0.8693      2098\n",
      "           1     0.7564    0.8157    0.7849      1199\n",
      "\n",
      "    accuracy                         0.8374      3297\n",
      "   macro avg     0.8231    0.8328    0.8271      3297\n",
      "weighted avg     0.8412    0.8374    0.8386      3297\n",
      "\n"
     ]
    }
   ],
   "source": [
    "from sklearn.metrics import confusion_matrix\n",
    "import seaborn as sns\n",
    "import matplotlib.pyplot as plt\n",
    "\n",
    "# 預測結果\n",
    "y_pred = model.predict(X_test)\n",
    "y_pred_class = (y_pred > 0.5).astype(int)  # 轉換為二分類結果\n",
    "\n",
    "# 計算混淆矩陣\n",
    "cm_f = confusion_matrix(y_test, y_pred_class)\n",
    "\n",
    "# 繪製混淆矩陣\n",
    "plt.figure(figsize=(6, 6))\n",
    "sns.heatmap(cm_f, annot=True, fmt='d', cmap='Blues', xticklabels=[0, 1], yticklabels=[0, 1])\n",
    "plt.xlabel(\"Predicted\")\n",
    "plt.ylabel(\"Actual\")\n",
    "plt.title(\"Confusion Matrix\")\n",
    "plt.show()\n",
    "\n",
    "# classification report\n",
    "print(\"Classification Report:\\n\")\n",
    "print(classification_report(y_test, y_pred_class, digits=4))"
   ]
  },
  {
   "cell_type": "code",
   "execution_count": 36,
   "id": "d8f301ec-a95d-4d9c-b4da-29548b55ed39",
   "metadata": {},
   "outputs": [],
   "source": [
    "#history_df = pd.DataFrame(history.history)\n",
    "#history_df.sort_values(by='acc', ascending=False)"
   ]
  },
  {
   "cell_type": "markdown",
   "id": "dd19eab0",
   "metadata": {},
   "source": [
    "## Attention Mechanism"
   ]
  },
  {
   "cell_type": "code",
   "execution_count": null,
   "id": "fbe618ef",
   "metadata": {},
   "outputs": [
    {
     "data": {
      "text/html": [
       "<pre style=\"white-space:pre;overflow-x:auto;line-height:normal;font-family:Menlo,'DejaVu Sans Mono',consolas,'Courier New',monospace\"><span style=\"font-weight: bold\">Model: \"functional_1\"</span>\n",
       "</pre>\n"
      ],
      "text/plain": [
       "\u001b[1mModel: \"functional_1\"\u001b[0m\n"
      ]
     },
     "metadata": {},
     "output_type": "display_data"
    },
    {
     "data": {
      "text/html": [
       "<pre style=\"white-space:pre;overflow-x:auto;line-height:normal;font-family:Menlo,'DejaVu Sans Mono',consolas,'Courier New',monospace\">┏━━━━━━━━━━━━━━━━━━━━━┳━━━━━━━━━━━━━━━━━━━┳━━━━━━━━━━━━┳━━━━━━━━━━━━━━━━━━━┓\n",
       "┃<span style=\"font-weight: bold\"> Layer (type)        </span>┃<span style=\"font-weight: bold\"> Output Shape      </span>┃<span style=\"font-weight: bold\">    Param # </span>┃<span style=\"font-weight: bold\"> Connected to      </span>┃\n",
       "┡━━━━━━━━━━━━━━━━━━━━━╇━━━━━━━━━━━━━━━━━━━╇━━━━━━━━━━━━╇━━━━━━━━━━━━━━━━━━━┩\n",
       "│ input_layer_1       │ (<span style=\"color: #00d7ff; text-decoration-color: #00d7ff\">None</span>, <span style=\"color: #00af00; text-decoration-color: #00af00\">19</span>)        │          <span style=\"color: #00af00; text-decoration-color: #00af00\">0</span> │ -                 │\n",
       "│ (<span style=\"color: #0087ff; text-decoration-color: #0087ff\">InputLayer</span>)        │                   │            │                   │\n",
       "├─────────────────────┼───────────────────┼────────────┼───────────────────┤\n",
       "│ batch_normalizatio… │ (<span style=\"color: #00d7ff; text-decoration-color: #00d7ff\">None</span>, <span style=\"color: #00af00; text-decoration-color: #00af00\">19</span>)        │         <span style=\"color: #00af00; text-decoration-color: #00af00\">76</span> │ input_layer_1[<span style=\"color: #00af00; text-decoration-color: #00af00\">0</span>]… │\n",
       "│ (<span style=\"color: #0087ff; text-decoration-color: #0087ff\">BatchNormalizatio…</span> │                   │            │                   │\n",
       "├─────────────────────┼───────────────────┼────────────┼───────────────────┤\n",
       "│ dense_4 (<span style=\"color: #0087ff; text-decoration-color: #0087ff\">Dense</span>)     │ (<span style=\"color: #00d7ff; text-decoration-color: #00d7ff\">None</span>, <span style=\"color: #00af00; text-decoration-color: #00af00\">128</span>)       │      <span style=\"color: #00af00; text-decoration-color: #00af00\">2,560</span> │ batch_normalizat… │\n",
       "├─────────────────────┼───────────────────┼────────────┼───────────────────┤\n",
       "│ dropout_3 (<span style=\"color: #0087ff; text-decoration-color: #0087ff\">Dropout</span>) │ (<span style=\"color: #00d7ff; text-decoration-color: #00d7ff\">None</span>, <span style=\"color: #00af00; text-decoration-color: #00af00\">128</span>)       │          <span style=\"color: #00af00; text-decoration-color: #00af00\">0</span> │ dense_4[<span style=\"color: #00af00; text-decoration-color: #00af00\">0</span>][<span style=\"color: #00af00; text-decoration-color: #00af00\">0</span>]     │\n",
       "├─────────────────────┼───────────────────┼────────────┼───────────────────┤\n",
       "│ reshape (<span style=\"color: #0087ff; text-decoration-color: #0087ff\">Reshape</span>)   │ (<span style=\"color: #00d7ff; text-decoration-color: #00d7ff\">None</span>, <span style=\"color: #00af00; text-decoration-color: #00af00\">1</span>, <span style=\"color: #00af00; text-decoration-color: #00af00\">128</span>)    │          <span style=\"color: #00af00; text-decoration-color: #00af00\">0</span> │ dropout_3[<span style=\"color: #00af00; text-decoration-color: #00af00\">0</span>][<span style=\"color: #00af00; text-decoration-color: #00af00\">0</span>]   │\n",
       "├─────────────────────┼───────────────────┼────────────┼───────────────────┤\n",
       "│ multi_head_attenti… │ (<span style=\"color: #00d7ff; text-decoration-color: #00d7ff\">None</span>, <span style=\"color: #00af00; text-decoration-color: #00af00\">1</span>, <span style=\"color: #00af00; text-decoration-color: #00af00\">128</span>)    │     <span style=\"color: #00af00; text-decoration-color: #00af00\">66,048</span> │ reshape[<span style=\"color: #00af00; text-decoration-color: #00af00\">0</span>][<span style=\"color: #00af00; text-decoration-color: #00af00\">0</span>],    │\n",
       "│ (<span style=\"color: #0087ff; text-decoration-color: #0087ff\">MultiHeadAttentio…</span> │                   │            │ reshape[<span style=\"color: #00af00; text-decoration-color: #00af00\">0</span>][<span style=\"color: #00af00; text-decoration-color: #00af00\">0</span>]     │\n",
       "├─────────────────────┼───────────────────┼────────────┼───────────────────┤\n",
       "│ dropout_5 (<span style=\"color: #0087ff; text-decoration-color: #0087ff\">Dropout</span>) │ (<span style=\"color: #00d7ff; text-decoration-color: #00d7ff\">None</span>, <span style=\"color: #00af00; text-decoration-color: #00af00\">1</span>, <span style=\"color: #00af00; text-decoration-color: #00af00\">128</span>)    │          <span style=\"color: #00af00; text-decoration-color: #00af00\">0</span> │ multi_head_atten… │\n",
       "├─────────────────────┼───────────────────┼────────────┼───────────────────┤\n",
       "│ flatten (<span style=\"color: #0087ff; text-decoration-color: #0087ff\">Flatten</span>)   │ (<span style=\"color: #00d7ff; text-decoration-color: #00d7ff\">None</span>, <span style=\"color: #00af00; text-decoration-color: #00af00\">128</span>)       │          <span style=\"color: #00af00; text-decoration-color: #00af00\">0</span> │ dropout_5[<span style=\"color: #00af00; text-decoration-color: #00af00\">0</span>][<span style=\"color: #00af00; text-decoration-color: #00af00\">0</span>]   │\n",
       "├─────────────────────┼───────────────────┼────────────┼───────────────────┤\n",
       "│ dense_5 (<span style=\"color: #0087ff; text-decoration-color: #0087ff\">Dense</span>)     │ (<span style=\"color: #00d7ff; text-decoration-color: #00d7ff\">None</span>, <span style=\"color: #00af00; text-decoration-color: #00af00\">128</span>)       │     <span style=\"color: #00af00; text-decoration-color: #00af00\">16,512</span> │ flatten[<span style=\"color: #00af00; text-decoration-color: #00af00\">0</span>][<span style=\"color: #00af00; text-decoration-color: #00af00\">0</span>]     │\n",
       "├─────────────────────┼───────────────────┼────────────┼───────────────────┤\n",
       "│ dropout_6 (<span style=\"color: #0087ff; text-decoration-color: #0087ff\">Dropout</span>) │ (<span style=\"color: #00d7ff; text-decoration-color: #00d7ff\">None</span>, <span style=\"color: #00af00; text-decoration-color: #00af00\">128</span>)       │          <span style=\"color: #00af00; text-decoration-color: #00af00\">0</span> │ dense_5[<span style=\"color: #00af00; text-decoration-color: #00af00\">0</span>][<span style=\"color: #00af00; text-decoration-color: #00af00\">0</span>]     │\n",
       "├─────────────────────┼───────────────────┼────────────┼───────────────────┤\n",
       "│ dense_6 (<span style=\"color: #0087ff; text-decoration-color: #0087ff\">Dense</span>)     │ (<span style=\"color: #00d7ff; text-decoration-color: #00d7ff\">None</span>, <span style=\"color: #00af00; text-decoration-color: #00af00\">1</span>)         │        <span style=\"color: #00af00; text-decoration-color: #00af00\">129</span> │ dropout_6[<span style=\"color: #00af00; text-decoration-color: #00af00\">0</span>][<span style=\"color: #00af00; text-decoration-color: #00af00\">0</span>]   │\n",
       "└─────────────────────┴───────────────────┴────────────┴───────────────────┘\n",
       "</pre>\n"
      ],
      "text/plain": [
       "┏━━━━━━━━━━━━━━━━━━━━━┳━━━━━━━━━━━━━━━━━━━┳━━━━━━━━━━━━┳━━━━━━━━━━━━━━━━━━━┓\n",
       "┃\u001b[1m \u001b[0m\u001b[1mLayer (type)       \u001b[0m\u001b[1m \u001b[0m┃\u001b[1m \u001b[0m\u001b[1mOutput Shape     \u001b[0m\u001b[1m \u001b[0m┃\u001b[1m \u001b[0m\u001b[1m   Param #\u001b[0m\u001b[1m \u001b[0m┃\u001b[1m \u001b[0m\u001b[1mConnected to     \u001b[0m\u001b[1m \u001b[0m┃\n",
       "┡━━━━━━━━━━━━━━━━━━━━━╇━━━━━━━━━━━━━━━━━━━╇━━━━━━━━━━━━╇━━━━━━━━━━━━━━━━━━━┩\n",
       "│ input_layer_1       │ (\u001b[38;5;45mNone\u001b[0m, \u001b[38;5;34m19\u001b[0m)        │          \u001b[38;5;34m0\u001b[0m │ -                 │\n",
       "│ (\u001b[38;5;33mInputLayer\u001b[0m)        │                   │            │                   │\n",
       "├─────────────────────┼───────────────────┼────────────┼───────────────────┤\n",
       "│ batch_normalizatio… │ (\u001b[38;5;45mNone\u001b[0m, \u001b[38;5;34m19\u001b[0m)        │         \u001b[38;5;34m76\u001b[0m │ input_layer_1[\u001b[38;5;34m0\u001b[0m]… │\n",
       "│ (\u001b[38;5;33mBatchNormalizatio…\u001b[0m │                   │            │                   │\n",
       "├─────────────────────┼───────────────────┼────────────┼───────────────────┤\n",
       "│ dense_4 (\u001b[38;5;33mDense\u001b[0m)     │ (\u001b[38;5;45mNone\u001b[0m, \u001b[38;5;34m128\u001b[0m)       │      \u001b[38;5;34m2,560\u001b[0m │ batch_normalizat… │\n",
       "├─────────────────────┼───────────────────┼────────────┼───────────────────┤\n",
       "│ dropout_3 (\u001b[38;5;33mDropout\u001b[0m) │ (\u001b[38;5;45mNone\u001b[0m, \u001b[38;5;34m128\u001b[0m)       │          \u001b[38;5;34m0\u001b[0m │ dense_4[\u001b[38;5;34m0\u001b[0m][\u001b[38;5;34m0\u001b[0m]     │\n",
       "├─────────────────────┼───────────────────┼────────────┼───────────────────┤\n",
       "│ reshape (\u001b[38;5;33mReshape\u001b[0m)   │ (\u001b[38;5;45mNone\u001b[0m, \u001b[38;5;34m1\u001b[0m, \u001b[38;5;34m128\u001b[0m)    │          \u001b[38;5;34m0\u001b[0m │ dropout_3[\u001b[38;5;34m0\u001b[0m][\u001b[38;5;34m0\u001b[0m]   │\n",
       "├─────────────────────┼───────────────────┼────────────┼───────────────────┤\n",
       "│ multi_head_attenti… │ (\u001b[38;5;45mNone\u001b[0m, \u001b[38;5;34m1\u001b[0m, \u001b[38;5;34m128\u001b[0m)    │     \u001b[38;5;34m66,048\u001b[0m │ reshape[\u001b[38;5;34m0\u001b[0m][\u001b[38;5;34m0\u001b[0m],    │\n",
       "│ (\u001b[38;5;33mMultiHeadAttentio…\u001b[0m │                   │            │ reshape[\u001b[38;5;34m0\u001b[0m][\u001b[38;5;34m0\u001b[0m]     │\n",
       "├─────────────────────┼───────────────────┼────────────┼───────────────────┤\n",
       "│ dropout_5 (\u001b[38;5;33mDropout\u001b[0m) │ (\u001b[38;5;45mNone\u001b[0m, \u001b[38;5;34m1\u001b[0m, \u001b[38;5;34m128\u001b[0m)    │          \u001b[38;5;34m0\u001b[0m │ multi_head_atten… │\n",
       "├─────────────────────┼───────────────────┼────────────┼───────────────────┤\n",
       "│ flatten (\u001b[38;5;33mFlatten\u001b[0m)   │ (\u001b[38;5;45mNone\u001b[0m, \u001b[38;5;34m128\u001b[0m)       │          \u001b[38;5;34m0\u001b[0m │ dropout_5[\u001b[38;5;34m0\u001b[0m][\u001b[38;5;34m0\u001b[0m]   │\n",
       "├─────────────────────┼───────────────────┼────────────┼───────────────────┤\n",
       "│ dense_5 (\u001b[38;5;33mDense\u001b[0m)     │ (\u001b[38;5;45mNone\u001b[0m, \u001b[38;5;34m128\u001b[0m)       │     \u001b[38;5;34m16,512\u001b[0m │ flatten[\u001b[38;5;34m0\u001b[0m][\u001b[38;5;34m0\u001b[0m]     │\n",
       "├─────────────────────┼───────────────────┼────────────┼───────────────────┤\n",
       "│ dropout_6 (\u001b[38;5;33mDropout\u001b[0m) │ (\u001b[38;5;45mNone\u001b[0m, \u001b[38;5;34m128\u001b[0m)       │          \u001b[38;5;34m0\u001b[0m │ dense_5[\u001b[38;5;34m0\u001b[0m][\u001b[38;5;34m0\u001b[0m]     │\n",
       "├─────────────────────┼───────────────────┼────────────┼───────────────────┤\n",
       "│ dense_6 (\u001b[38;5;33mDense\u001b[0m)     │ (\u001b[38;5;45mNone\u001b[0m, \u001b[38;5;34m1\u001b[0m)         │        \u001b[38;5;34m129\u001b[0m │ dropout_6[\u001b[38;5;34m0\u001b[0m][\u001b[38;5;34m0\u001b[0m]   │\n",
       "└─────────────────────┴───────────────────┴────────────┴───────────────────┘\n"
      ]
     },
     "metadata": {},
     "output_type": "display_data"
    },
    {
     "data": {
      "text/html": [
       "<pre style=\"white-space:pre;overflow-x:auto;line-height:normal;font-family:Menlo,'DejaVu Sans Mono',consolas,'Courier New',monospace\"><span style=\"font-weight: bold\"> Total params: </span><span style=\"color: #00af00; text-decoration-color: #00af00\">85,325</span> (333.30 KB)\n",
       "</pre>\n"
      ],
      "text/plain": [
       "\u001b[1m Total params: \u001b[0m\u001b[38;5;34m85,325\u001b[0m (333.30 KB)\n"
      ]
     },
     "metadata": {},
     "output_type": "display_data"
    },
    {
     "data": {
      "text/html": [
       "<pre style=\"white-space:pre;overflow-x:auto;line-height:normal;font-family:Menlo,'DejaVu Sans Mono',consolas,'Courier New',monospace\"><span style=\"font-weight: bold\"> Trainable params: </span><span style=\"color: #00af00; text-decoration-color: #00af00\">85,287</span> (333.15 KB)\n",
       "</pre>\n"
      ],
      "text/plain": [
       "\u001b[1m Trainable params: \u001b[0m\u001b[38;5;34m85,287\u001b[0m (333.15 KB)\n"
      ]
     },
     "metadata": {},
     "output_type": "display_data"
    },
    {
     "data": {
      "text/html": [
       "<pre style=\"white-space:pre;overflow-x:auto;line-height:normal;font-family:Menlo,'DejaVu Sans Mono',consolas,'Courier New',monospace\"><span style=\"font-weight: bold\"> Non-trainable params: </span><span style=\"color: #00af00; text-decoration-color: #00af00\">38</span> (152.00 B)\n",
       "</pre>\n"
      ],
      "text/plain": [
       "\u001b[1m Non-trainable params: \u001b[0m\u001b[38;5;34m38\u001b[0m (152.00 B)\n"
      ]
     },
     "metadata": {},
     "output_type": "display_data"
    },
    {
     "name": "stderr",
     "output_type": "stream",
     "text": [
      "2025/05/02 19:05:56 INFO mlflow.utils.autologging_utils: Created MLflow autologging run with ID '73d1695fa1f94240b2e65d6311422f28', which will track hyperparameters, performance metrics, model artifacts, and lineage information for the current tensorflow workflow\n",
      "2025/05/02 19:05:56 WARNING mlflow.tensorflow: Unrecognized dataset type <class 'pandas.core.frame.DataFrame'>. Dataset logging skipped.\n",
      "2025/05/02 19:05:56 WARNING mlflow.tensorflow: Failed to log training dataset information to MLflow Tracking. Reason: 'DataFrame' object has no attribute 'flatten'\n"
     ]
    },
    {
     "data": {
      "text/html": [
       "<pre style=\"white-space:pre;overflow-x:auto;line-height:normal;font-family:Menlo,'DejaVu Sans Mono',consolas,'Courier New',monospace\"></pre>\n"
      ],
      "text/plain": []
     },
     "metadata": {},
     "output_type": "display_data"
    },
    {
     "name": "stdout",
     "output_type": "stream",
     "text": [
      "Epoch 1/100\n",
      "\u001b[1m61/61\u001b[0m \u001b[32m━━━━━━━━━━━━━━━━━━━━\u001b[0m\u001b[37m\u001b[0m \u001b[1m0s\u001b[0m 5ms/step - Precision: 0.5753 - Recall: 0.4996 - acc: 0.6935 - loss: 0.5476\n",
      "Epoch 1: val_loss improved from inf to 23.58389, saving model to ./models_temp/attention_best_model.h5\n"
     ]
    },
    {
     "name": "stderr",
     "output_type": "stream",
     "text": [
      "WARNING:absl:You are saving your model as an HDF5 file via `model.save()` or `keras.saving.save_model(model)`. This file format is considered legacy. We recommend using instead the native Keras format, e.g. `model.save('my_model.keras')` or `keras.saving.save_model(model, 'my_model.keras')`. \n",
      "WARNING:absl:You are saving your model as an HDF5 file via `model.save()` or `keras.saving.save_model(model)`. This file format is considered legacy. We recommend using instead the native Keras format, e.g. `model.save('my_model.keras')` or `keras.saving.save_model(model, 'my_model.keras')`. \n"
     ]
    },
    {
     "name": "stdout",
     "output_type": "stream",
     "text": [
      "\u001b[1m61/61\u001b[0m \u001b[32m━━━━━━━━━━━━━━━━━━━━\u001b[0m\u001b[37m\u001b[0m \u001b[1m3s\u001b[0m 13ms/step - Precision: 0.5762 - Recall: 0.5018 - acc: 0.6942 - loss: 0.5470 - val_Precision: 0.3637 - val_Recall: 1.0000 - val_acc: 0.3637 - val_loss: 23.5839\n",
      "Epoch 2/100\n",
      "\u001b[1m59/61\u001b[0m \u001b[32m━━━━━━━━━━━━━━━━━━━\u001b[0m\u001b[37m━\u001b[0m \u001b[1m0s\u001b[0m 6ms/step - Precision: 0.6438 - Recall: 0.6936 - acc: 0.7551 - loss: 0.4770\n",
      "Epoch 2: val_loss improved from 23.58389 to 13.15800, saving model to ./models_temp/attention_best_model.h5\n"
     ]
    },
    {
     "name": "stderr",
     "output_type": "stream",
     "text": [
      "WARNING:absl:You are saving your model as an HDF5 file via `model.save()` or `keras.saving.save_model(model)`. This file format is considered legacy. We recommend using instead the native Keras format, e.g. `model.save('my_model.keras')` or `keras.saving.save_model(model, 'my_model.keras')`. \n",
      "WARNING:absl:You are saving your model as an HDF5 file via `model.save()` or `keras.saving.save_model(model)`. This file format is considered legacy. We recommend using instead the native Keras format, e.g. `model.save('my_model.keras')` or `keras.saving.save_model(model, 'my_model.keras')`. \n"
     ]
    },
    {
     "name": "stdout",
     "output_type": "stream",
     "text": [
      "\u001b[1m61/61\u001b[0m \u001b[32m━━━━━━━━━━━━━━━━━━━━\u001b[0m\u001b[37m\u001b[0m \u001b[1m1s\u001b[0m 8ms/step - Precision: 0.6439 - Recall: 0.6928 - acc: 0.7549 - loss: 0.4774 - val_Precision: 0.3637 - val_Recall: 1.0000 - val_acc: 0.3637 - val_loss: 13.1580\n",
      "Epoch 3/100\n",
      "\u001b[1m54/61\u001b[0m \u001b[32m━━━━━━━━━━━━━━━━━\u001b[0m\u001b[37m━━━\u001b[0m \u001b[1m0s\u001b[0m 5ms/step - Precision: 0.6734 - Recall: 0.6590 - acc: 0.7596 - loss: 0.4813\n",
      "Epoch 3: val_loss improved from 13.15800 to 7.62061, saving model to ./models_temp/attention_best_model.h5\n"
     ]
    },
    {
     "name": "stderr",
     "output_type": "stream",
     "text": [
      "WARNING:absl:You are saving your model as an HDF5 file via `model.save()` or `keras.saving.save_model(model)`. This file format is considered legacy. We recommend using instead the native Keras format, e.g. `model.save('my_model.keras')` or `keras.saving.save_model(model, 'my_model.keras')`. \n",
      "WARNING:absl:You are saving your model as an HDF5 file via `model.save()` or `keras.saving.save_model(model)`. This file format is considered legacy. We recommend using instead the native Keras format, e.g. `model.save('my_model.keras')` or `keras.saving.save_model(model, 'my_model.keras')`. \n"
     ]
    },
    {
     "name": "stdout",
     "output_type": "stream",
     "text": [
      "\u001b[1m61/61\u001b[0m \u001b[32m━━━━━━━━━━━━━━━━━━━━\u001b[0m\u001b[37m\u001b[0m \u001b[1m1s\u001b[0m 8ms/step - Precision: 0.6720 - Recall: 0.6602 - acc: 0.7594 - loss: 0.4812 - val_Precision: 0.3637 - val_Recall: 1.0000 - val_acc: 0.3637 - val_loss: 7.6206\n",
      "Epoch 4/100\n",
      "\u001b[1m60/61\u001b[0m \u001b[32m━━━━━━━━━━━━━━━━━━━\u001b[0m\u001b[37m━\u001b[0m \u001b[1m0s\u001b[0m 5ms/step - Precision: 0.6631 - Recall: 0.7042 - acc: 0.7624 - loss: 0.4744\n",
      "Epoch 4: val_loss improved from 7.62061 to 0.49745, saving model to ./models_temp/attention_best_model.h5\n"
     ]
    },
    {
     "name": "stderr",
     "output_type": "stream",
     "text": [
      "WARNING:absl:You are saving your model as an HDF5 file via `model.save()` or `keras.saving.save_model(model)`. This file format is considered legacy. We recommend using instead the native Keras format, e.g. `model.save('my_model.keras')` or `keras.saving.save_model(model, 'my_model.keras')`. \n",
      "WARNING:absl:You are saving your model as an HDF5 file via `model.save()` or `keras.saving.save_model(model)`. This file format is considered legacy. We recommend using instead the native Keras format, e.g. `model.save('my_model.keras')` or `keras.saving.save_model(model, 'my_model.keras')`. \n"
     ]
    },
    {
     "name": "stdout",
     "output_type": "stream",
     "text": [
      "\u001b[1m61/61\u001b[0m \u001b[32m━━━━━━━━━━━━━━━━━━━━\u001b[0m\u001b[37m\u001b[0m \u001b[1m1s\u001b[0m 9ms/step - Precision: 0.6631 - Recall: 0.7036 - acc: 0.7623 - loss: 0.4744 - val_Precision: 0.6962 - val_Recall: 0.6422 - val_acc: 0.7680 - val_loss: 0.4974\n",
      "Epoch 5/100\n",
      "\u001b[1m58/61\u001b[0m \u001b[32m━━━━━━━━━━━━━━━━━━━\u001b[0m\u001b[37m━\u001b[0m \u001b[1m0s\u001b[0m 6ms/step - Precision: 0.6517 - Recall: 0.6967 - acc: 0.7555 - loss: 0.4781\n",
      "Epoch 5: val_loss did not improve from 0.49745\n",
      "\u001b[1m61/61\u001b[0m \u001b[32m━━━━━━━━━━━━━━━━━━━━\u001b[0m\u001b[37m\u001b[0m \u001b[1m0s\u001b[0m 8ms/step - Precision: 0.6521 - Recall: 0.6960 - acc: 0.7556 - loss: 0.4780 - val_Precision: 0.3720 - val_Recall: 1.0000 - val_acc: 0.3861 - val_loss: 2.2394\n",
      "Epoch 6/100\n",
      "\u001b[1m54/61\u001b[0m \u001b[32m━━━━━━━━━━━━━━━━━\u001b[0m\u001b[37m━━━\u001b[0m \u001b[1m0s\u001b[0m 6ms/step - Precision: 0.6637 - Recall: 0.6706 - acc: 0.7605 - loss: 0.4756\n",
      "Epoch 6: val_loss did not improve from 0.49745\n",
      "\u001b[1m61/61\u001b[0m \u001b[32m━━━━━━━━━━━━━━━━━━━━\u001b[0m\u001b[37m\u001b[0m \u001b[1m1s\u001b[0m 10ms/step - Precision: 0.6636 - Recall: 0.6701 - acc: 0.7601 - loss: 0.4754 - val_Precision: 0.3910 - val_Recall: 0.9883 - val_acc: 0.4359 - val_loss: 1.4356\n",
      "Epoch 7/100\n",
      "\u001b[1m61/61\u001b[0m \u001b[32m━━━━━━━━━━━━━━━━━━━━\u001b[0m\u001b[37m\u001b[0m \u001b[1m0s\u001b[0m 5ms/step - Precision: 0.6768 - Recall: 0.6851 - acc: 0.7656 - loss: 0.4713\n",
      "Epoch 7: val_loss did not improve from 0.49745\n",
      "\u001b[1m61/61\u001b[0m \u001b[32m━━━━━━━━━━━━━━━━━━━━\u001b[0m\u001b[37m\u001b[0m \u001b[1m1s\u001b[0m 8ms/step - Precision: 0.6766 - Recall: 0.6848 - acc: 0.7655 - loss: 0.4713 - val_Precision: 0.5821 - val_Recall: 0.8282 - val_acc: 0.7213 - val_loss: 0.5938\n",
      "Epoch 8/100\n",
      "\u001b[1m53/61\u001b[0m \u001b[32m━━━━━━━━━━━━━━━━━\u001b[0m\u001b[37m━━━\u001b[0m \u001b[1m0s\u001b[0m 6ms/step - Precision: 0.6709 - Recall: 0.7164 - acc: 0.7707 - loss: 0.4633\n",
      "Epoch 8: val_loss did not improve from 0.49745\n",
      "\u001b[1m61/61\u001b[0m \u001b[32m━━━━━━━━━━━━━━━━━━━━\u001b[0m\u001b[37m\u001b[0m \u001b[1m1s\u001b[0m 8ms/step - Precision: 0.6701 - Recall: 0.7139 - acc: 0.7697 - loss: 0.4639 - val_Precision: 0.6171 - val_Recall: 0.7957 - val_acc: 0.7461 - val_loss: 0.5414\n",
      "Epoch 9/100\n",
      "\u001b[1m52/61\u001b[0m \u001b[32m━━━━━━━━━━━━━━━━━\u001b[0m\u001b[37m━━━\u001b[0m \u001b[1m0s\u001b[0m 5ms/step - Precision: 0.6769 - Recall: 0.6746 - acc: 0.7712 - loss: 0.4612\n",
      "Epoch 9: val_loss improved from 0.49745 to 0.48999, saving model to ./models_temp/attention_best_model.h5\n"
     ]
    },
    {
     "name": "stderr",
     "output_type": "stream",
     "text": [
      "WARNING:absl:You are saving your model as an HDF5 file via `model.save()` or `keras.saving.save_model(model)`. This file format is considered legacy. We recommend using instead the native Keras format, e.g. `model.save('my_model.keras')` or `keras.saving.save_model(model, 'my_model.keras')`. \n",
      "WARNING:absl:You are saving your model as an HDF5 file via `model.save()` or `keras.saving.save_model(model)`. This file format is considered legacy. We recommend using instead the native Keras format, e.g. `model.save('my_model.keras')` or `keras.saving.save_model(model, 'my_model.keras')`. \n"
     ]
    },
    {
     "name": "stdout",
     "output_type": "stream",
     "text": [
      "\u001b[1m61/61\u001b[0m \u001b[32m━━━━━━━━━━━━━━━━━━━━\u001b[0m\u001b[37m\u001b[0m \u001b[1m1s\u001b[0m 8ms/step - Precision: 0.6766 - Recall: 0.6744 - acc: 0.7705 - loss: 0.4620 - val_Precision: 0.6517 - val_Recall: 0.7506 - val_acc: 0.7634 - val_loss: 0.4900\n",
      "Epoch 10/100\n",
      "\u001b[1m57/61\u001b[0m \u001b[32m━━━━━━━━━━━━━━━━━━\u001b[0m\u001b[37m━━\u001b[0m \u001b[1m0s\u001b[0m 6ms/step - Precision: 0.6578 - Recall: 0.7502 - acc: 0.7696 - loss: 0.4618\n",
      "Epoch 10: val_loss improved from 0.48999 to 0.46861, saving model to ./models_temp/attention_best_model.h5\n"
     ]
    },
    {
     "name": "stderr",
     "output_type": "stream",
     "text": [
      "WARNING:absl:You are saving your model as an HDF5 file via `model.save()` or `keras.saving.save_model(model)`. This file format is considered legacy. We recommend using instead the native Keras format, e.g. `model.save('my_model.keras')` or `keras.saving.save_model(model, 'my_model.keras')`. \n",
      "WARNING:absl:You are saving your model as an HDF5 file via `model.save()` or `keras.saving.save_model(model)`. This file format is considered legacy. We recommend using instead the native Keras format, e.g. `model.save('my_model.keras')` or `keras.saving.save_model(model, 'my_model.keras')`. \n"
     ]
    },
    {
     "name": "stdout",
     "output_type": "stream",
     "text": [
      "\u001b[1m61/61\u001b[0m \u001b[32m━━━━━━━━━━━━━━━━━━━━\u001b[0m\u001b[37m\u001b[0m \u001b[1m1s\u001b[0m 9ms/step - Precision: 0.6581 - Recall: 0.7472 - acc: 0.7692 - loss: 0.4622 - val_Precision: 0.6872 - val_Recall: 0.6797 - val_acc: 0.7710 - val_loss: 0.4686\n",
      "Epoch 11/100\n",
      "\u001b[1m59/61\u001b[0m \u001b[32m━━━━━━━━━━━━━━━━━━━\u001b[0m\u001b[37m━\u001b[0m \u001b[1m0s\u001b[0m 5ms/step - Precision: 0.6857 - Recall: 0.6709 - acc: 0.7728 - loss: 0.4588\n",
      "Epoch 11: val_loss did not improve from 0.46861\n",
      "\u001b[1m61/61\u001b[0m \u001b[32m━━━━━━━━━━━━━━━━━━━━\u001b[0m\u001b[37m\u001b[0m \u001b[1m0s\u001b[0m 7ms/step - Precision: 0.6858 - Recall: 0.6710 - acc: 0.7728 - loss: 0.4590 - val_Precision: 0.6393 - val_Recall: 0.7982 - val_acc: 0.7628 - val_loss: 0.4823\n",
      "Epoch 12/100\n",
      "\u001b[1m55/61\u001b[0m \u001b[32m━━━━━━━━━━━━━━━━━━\u001b[0m\u001b[37m━━\u001b[0m \u001b[1m0s\u001b[0m 5ms/step - Precision: 0.6636 - Recall: 0.6947 - acc: 0.7636 - loss: 0.4691\n",
      "Epoch 12: val_loss improved from 0.46861 to 0.46081, saving model to ./models_temp/attention_best_model.h5\n"
     ]
    },
    {
     "name": "stderr",
     "output_type": "stream",
     "text": [
      "WARNING:absl:You are saving your model as an HDF5 file via `model.save()` or `keras.saving.save_model(model)`. This file format is considered legacy. We recommend using instead the native Keras format, e.g. `model.save('my_model.keras')` or `keras.saving.save_model(model, 'my_model.keras')`. \n",
      "WARNING:absl:You are saving your model as an HDF5 file via `model.save()` or `keras.saving.save_model(model)`. This file format is considered legacy. We recommend using instead the native Keras format, e.g. `model.save('my_model.keras')` or `keras.saving.save_model(model, 'my_model.keras')`. \n"
     ]
    },
    {
     "name": "stdout",
     "output_type": "stream",
     "text": [
      "\u001b[1m61/61\u001b[0m \u001b[32m━━━━━━━━━━━━━━━━━━━━\u001b[0m\u001b[37m\u001b[0m \u001b[1m0s\u001b[0m 8ms/step - Precision: 0.6651 - Recall: 0.6941 - acc: 0.7642 - loss: 0.4688 - val_Precision: 0.6884 - val_Recall: 0.7314 - val_acc: 0.7819 - val_loss: 0.4608\n",
      "Epoch 13/100\n",
      "\u001b[1m52/61\u001b[0m \u001b[32m━━━━━━━━━━━━━━━━━\u001b[0m\u001b[37m━━━\u001b[0m \u001b[1m0s\u001b[0m 5ms/step - Precision: 0.6644 - Recall: 0.7025 - acc: 0.7654 - loss: 0.4687\n",
      "Epoch 13: val_loss improved from 0.46081 to 0.45857, saving model to ./models_temp/attention_best_model.h5\n"
     ]
    },
    {
     "name": "stderr",
     "output_type": "stream",
     "text": [
      "WARNING:absl:You are saving your model as an HDF5 file via `model.save()` or `keras.saving.save_model(model)`. This file format is considered legacy. We recommend using instead the native Keras format, e.g. `model.save('my_model.keras')` or `keras.saving.save_model(model, 'my_model.keras')`. \n",
      "WARNING:absl:You are saving your model as an HDF5 file via `model.save()` or `keras.saving.save_model(model)`. This file format is considered legacy. We recommend using instead the native Keras format, e.g. `model.save('my_model.keras')` or `keras.saving.save_model(model, 'my_model.keras')`. \n"
     ]
    },
    {
     "name": "stdout",
     "output_type": "stream",
     "text": [
      "\u001b[1m61/61\u001b[0m \u001b[32m━━━━━━━━━━━━━━━━━━━━\u001b[0m\u001b[37m\u001b[0m \u001b[1m0s\u001b[0m 8ms/step - Precision: 0.6656 - Recall: 0.7012 - acc: 0.7656 - loss: 0.4680 - val_Precision: 0.6963 - val_Recall: 0.6997 - val_acc: 0.7798 - val_loss: 0.4586\n",
      "Epoch 14/100\n",
      "\u001b[1m60/61\u001b[0m \u001b[32m━━━━━━━━━━━━━━━━━━━\u001b[0m\u001b[37m━\u001b[0m \u001b[1m0s\u001b[0m 5ms/step - Precision: 0.6753 - Recall: 0.7016 - acc: 0.7742 - loss: 0.4614\n",
      "Epoch 14: val_loss improved from 0.45857 to 0.45700, saving model to ./models_temp/attention_best_model.h5\n"
     ]
    },
    {
     "name": "stderr",
     "output_type": "stream",
     "text": [
      "WARNING:absl:You are saving your model as an HDF5 file via `model.save()` or `keras.saving.save_model(model)`. This file format is considered legacy. We recommend using instead the native Keras format, e.g. `model.save('my_model.keras')` or `keras.saving.save_model(model, 'my_model.keras')`. \n",
      "WARNING:absl:You are saving your model as an HDF5 file via `model.save()` or `keras.saving.save_model(model)`. This file format is considered legacy. We recommend using instead the native Keras format, e.g. `model.save('my_model.keras')` or `keras.saving.save_model(model, 'my_model.keras')`. \n"
     ]
    },
    {
     "name": "stdout",
     "output_type": "stream",
     "text": [
      "\u001b[1m61/61\u001b[0m \u001b[32m━━━━━━━━━━━━━━━━━━━━\u001b[0m\u001b[37m\u001b[0m \u001b[1m1s\u001b[0m 8ms/step - Precision: 0.6754 - Recall: 0.7017 - acc: 0.7741 - loss: 0.4615 - val_Precision: 0.6907 - val_Recall: 0.7039 - val_acc: 0.7777 - val_loss: 0.4570\n",
      "Epoch 15/100\n",
      "\u001b[1m51/61\u001b[0m \u001b[32m━━━━━━━━━━━━━━━━\u001b[0m\u001b[37m━━━━\u001b[0m \u001b[1m0s\u001b[0m 5ms/step - Precision: 0.6705 - Recall: 0.6814 - acc: 0.7665 - loss: 0.4721\n",
      "Epoch 15: val_loss improved from 0.45700 to 0.45294, saving model to ./models_temp/attention_best_model.h5\n"
     ]
    },
    {
     "name": "stderr",
     "output_type": "stream",
     "text": [
      "WARNING:absl:You are saving your model as an HDF5 file via `model.save()` or `keras.saving.save_model(model)`. This file format is considered legacy. We recommend using instead the native Keras format, e.g. `model.save('my_model.keras')` or `keras.saving.save_model(model, 'my_model.keras')`. \n",
      "WARNING:absl:You are saving your model as an HDF5 file via `model.save()` or `keras.saving.save_model(model)`. This file format is considered legacy. We recommend using instead the native Keras format, e.g. `model.save('my_model.keras')` or `keras.saving.save_model(model, 'my_model.keras')`. \n"
     ]
    },
    {
     "name": "stdout",
     "output_type": "stream",
     "text": [
      "\u001b[1m61/61\u001b[0m \u001b[32m━━━━━━━━━━━━━━━━━━━━\u001b[0m\u001b[37m\u001b[0m \u001b[1m1s\u001b[0m 8ms/step - Precision: 0.6732 - Recall: 0.6838 - acc: 0.7682 - loss: 0.4696 - val_Precision: 0.6889 - val_Recall: 0.7481 - val_acc: 0.7856 - val_loss: 0.4529\n",
      "Epoch 16/100\n",
      "\u001b[1m54/61\u001b[0m \u001b[32m━━━━━━━━━━━━━━━━━\u001b[0m\u001b[37m━━━\u001b[0m \u001b[1m0s\u001b[0m 5ms/step - Precision: 0.6854 - Recall: 0.7295 - acc: 0.7813 - loss: 0.4514\n",
      "Epoch 16: val_loss did not improve from 0.45294\n",
      "\u001b[1m61/61\u001b[0m \u001b[32m━━━━━━━━━━━━━━━━━━━━\u001b[0m\u001b[37m\u001b[0m \u001b[1m0s\u001b[0m 7ms/step - Precision: 0.6847 - Recall: 0.7256 - acc: 0.7801 - loss: 0.4524 - val_Precision: 0.7185 - val_Recall: 0.6555 - val_acc: 0.7813 - val_loss: 0.4581\n",
      "Epoch 17/100\n",
      "\u001b[1m52/61\u001b[0m \u001b[32m━━━━━━━━━━━━━━━━━\u001b[0m\u001b[37m━━━\u001b[0m \u001b[1m0s\u001b[0m 5ms/step - Precision: 0.7117 - Recall: 0.6754 - acc: 0.7826 - loss: 0.4525\n",
      "Epoch 17: val_loss improved from 0.45294 to 0.45243, saving model to ./models_temp/attention_best_model.h5\n"
     ]
    },
    {
     "name": "stderr",
     "output_type": "stream",
     "text": [
      "WARNING:absl:You are saving your model as an HDF5 file via `model.save()` or `keras.saving.save_model(model)`. This file format is considered legacy. We recommend using instead the native Keras format, e.g. `model.save('my_model.keras')` or `keras.saving.save_model(model, 'my_model.keras')`. \n",
      "WARNING:absl:You are saving your model as an HDF5 file via `model.save()` or `keras.saving.save_model(model)`. This file format is considered legacy. We recommend using instead the native Keras format, e.g. `model.save('my_model.keras')` or `keras.saving.save_model(model, 'my_model.keras')`. \n"
     ]
    },
    {
     "name": "stdout",
     "output_type": "stream",
     "text": [
      "\u001b[1m61/61\u001b[0m \u001b[32m━━━━━━━━━━━━━━━━━━━━\u001b[0m\u001b[37m\u001b[0m \u001b[1m0s\u001b[0m 8ms/step - Precision: 0.7087 - Recall: 0.6761 - acc: 0.7814 - loss: 0.4531 - val_Precision: 0.6934 - val_Recall: 0.7148 - val_acc: 0.7813 - val_loss: 0.4524\n",
      "Epoch 18/100\n",
      "\u001b[1m60/61\u001b[0m \u001b[32m━━━━━━━━━━━━━━━━━━━\u001b[0m\u001b[37m━\u001b[0m \u001b[1m0s\u001b[0m 5ms/step - Precision: 0.6891 - Recall: 0.6866 - acc: 0.7752 - loss: 0.4535\n",
      "Epoch 18: val_loss did not improve from 0.45243\n",
      "\u001b[1m61/61\u001b[0m \u001b[32m━━━━━━━━━━━━━━━━━━━━\u001b[0m\u001b[37m\u001b[0m \u001b[1m0s\u001b[0m 7ms/step - Precision: 0.6890 - Recall: 0.6870 - acc: 0.7752 - loss: 0.4534 - val_Precision: 0.6999 - val_Recall: 0.6906 - val_acc: 0.7798 - val_loss: 0.4574\n",
      "Epoch 19/100\n",
      "\u001b[1m53/61\u001b[0m \u001b[32m━━━━━━━━━━━━━━━━━\u001b[0m\u001b[37m━━━\u001b[0m \u001b[1m0s\u001b[0m 5ms/step - Precision: 0.7108 - Recall: 0.6781 - acc: 0.7829 - loss: 0.4497\n",
      "Epoch 19: val_loss improved from 0.45243 to 0.44858, saving model to ./models_temp/attention_best_model.h5\n"
     ]
    },
    {
     "name": "stderr",
     "output_type": "stream",
     "text": [
      "WARNING:absl:You are saving your model as an HDF5 file via `model.save()` or `keras.saving.save_model(model)`. This file format is considered legacy. We recommend using instead the native Keras format, e.g. `model.save('my_model.keras')` or `keras.saving.save_model(model, 'my_model.keras')`. \n",
      "WARNING:absl:You are saving your model as an HDF5 file via `model.save()` or `keras.saving.save_model(model)`. This file format is considered legacy. We recommend using instead the native Keras format, e.g. `model.save('my_model.keras')` or `keras.saving.save_model(model, 'my_model.keras')`. \n"
     ]
    },
    {
     "name": "stdout",
     "output_type": "stream",
     "text": [
      "\u001b[1m61/61\u001b[0m \u001b[32m━━━━━━━━━━━━━━━━━━━━\u001b[0m\u001b[37m\u001b[0m \u001b[1m1s\u001b[0m 8ms/step - Precision: 0.7087 - Recall: 0.6799 - acc: 0.7823 - loss: 0.4498 - val_Precision: 0.7074 - val_Recall: 0.6997 - val_acc: 0.7856 - val_loss: 0.4486\n",
      "Epoch 20/100\n",
      "\u001b[1m56/61\u001b[0m \u001b[32m━━━━━━━━━━━━━━━━━━\u001b[0m\u001b[37m━━\u001b[0m \u001b[1m0s\u001b[0m 5ms/step - Precision: 0.6971 - Recall: 0.7269 - acc: 0.7900 - loss: 0.4450\n",
      "Epoch 20: val_loss did not improve from 0.44858\n",
      "\u001b[1m61/61\u001b[0m \u001b[32m━━━━━━━━━━━━━━━━━━━━\u001b[0m\u001b[37m\u001b[0m \u001b[1m0s\u001b[0m 7ms/step - Precision: 0.6968 - Recall: 0.7255 - acc: 0.7893 - loss: 0.4455 - val_Precision: 0.6936 - val_Recall: 0.7098 - val_acc: 0.7804 - val_loss: 0.4496\n",
      "Epoch 21/100\n",
      "\u001b[1m52/61\u001b[0m \u001b[32m━━━━━━━━━━━━━━━━━\u001b[0m\u001b[37m━━━\u001b[0m \u001b[1m0s\u001b[0m 5ms/step - Precision: 0.6763 - Recall: 0.7116 - acc: 0.7758 - loss: 0.4451\n",
      "Epoch 21: val_loss did not improve from 0.44858\n",
      "\u001b[1m61/61\u001b[0m \u001b[32m━━━━━━━━━━━━━━━━━━━━\u001b[0m\u001b[37m\u001b[0m \u001b[1m0s\u001b[0m 7ms/step - Precision: 0.6783 - Recall: 0.7117 - acc: 0.7764 - loss: 0.4458 - val_Precision: 0.6929 - val_Recall: 0.7039 - val_acc: 0.7789 - val_loss: 0.4544\n",
      "Epoch 22/100\n",
      "\u001b[1m52/61\u001b[0m \u001b[32m━━━━━━━━━━━━━━━━━\u001b[0m\u001b[37m━━━\u001b[0m \u001b[1m0s\u001b[0m 5ms/step - Precision: 0.6945 - Recall: 0.6889 - acc: 0.7832 - loss: 0.4402\n",
      "Epoch 22: val_loss improved from 0.44858 to 0.44815, saving model to ./models_temp/attention_best_model.h5\n"
     ]
    },
    {
     "name": "stderr",
     "output_type": "stream",
     "text": [
      "WARNING:absl:You are saving your model as an HDF5 file via `model.save()` or `keras.saving.save_model(model)`. This file format is considered legacy. We recommend using instead the native Keras format, e.g. `model.save('my_model.keras')` or `keras.saving.save_model(model, 'my_model.keras')`. \n",
      "WARNING:absl:You are saving your model as an HDF5 file via `model.save()` or `keras.saving.save_model(model)`. This file format is considered legacy. We recommend using instead the native Keras format, e.g. `model.save('my_model.keras')` or `keras.saving.save_model(model, 'my_model.keras')`. \n"
     ]
    },
    {
     "name": "stdout",
     "output_type": "stream",
     "text": [
      "\u001b[1m61/61\u001b[0m \u001b[32m━━━━━━━━━━━━━━━━━━━━\u001b[0m\u001b[37m\u001b[0m \u001b[1m1s\u001b[0m 8ms/step - Precision: 0.6946 - Recall: 0.6925 - acc: 0.7832 - loss: 0.4413 - val_Precision: 0.6996 - val_Recall: 0.7264 - val_acc: 0.7871 - val_loss: 0.4481\n",
      "Epoch 23/100\n",
      "\u001b[1m53/61\u001b[0m \u001b[32m━━━━━━━━━━━━━━━━━\u001b[0m\u001b[37m━━━\u001b[0m \u001b[1m0s\u001b[0m 6ms/step - Precision: 0.7045 - Recall: 0.7200 - acc: 0.7889 - loss: 0.4398\n",
      "Epoch 23: val_loss did not improve from 0.44815\n",
      "\u001b[1m61/61\u001b[0m \u001b[32m━━━━━━━━━━━━━━━━━━━━\u001b[0m\u001b[37m\u001b[0m \u001b[1m0s\u001b[0m 8ms/step - Precision: 0.7036 - Recall: 0.7173 - acc: 0.7880 - loss: 0.4409 - val_Precision: 0.6904 - val_Recall: 0.7440 - val_acc: 0.7856 - val_loss: 0.4510\n",
      "Epoch 24/100\n",
      "\u001b[1m50/61\u001b[0m \u001b[32m━━━━━━━━━━━━━━━━\u001b[0m\u001b[37m━━━━\u001b[0m \u001b[1m0s\u001b[0m 5ms/step - Precision: 0.6836 - Recall: 0.7521 - acc: 0.7852 - loss: 0.4433\n",
      "Epoch 24: val_loss did not improve from 0.44815\n",
      "\u001b[1m61/61\u001b[0m \u001b[32m━━━━━━━━━━━━━━━━━━━━\u001b[0m\u001b[37m\u001b[0m \u001b[1m0s\u001b[0m 7ms/step - Precision: 0.6858 - Recall: 0.7468 - acc: 0.7851 - loss: 0.4440 - val_Precision: 0.7013 - val_Recall: 0.7031 - val_acc: 0.7831 - val_loss: 0.4627\n",
      "Epoch 25/100\n",
      "\u001b[1m60/61\u001b[0m \u001b[32m━━━━━━━━━━━━━━━━━━━\u001b[0m\u001b[37m━\u001b[0m \u001b[1m0s\u001b[0m 5ms/step - Precision: 0.7143 - Recall: 0.7101 - acc: 0.7903 - loss: 0.4492\n",
      "Epoch 25: val_loss improved from 0.44815 to 0.44704, saving model to ./models_temp/attention_best_model.h5\n"
     ]
    },
    {
     "name": "stderr",
     "output_type": "stream",
     "text": [
      "WARNING:absl:You are saving your model as an HDF5 file via `model.save()` or `keras.saving.save_model(model)`. This file format is considered legacy. We recommend using instead the native Keras format, e.g. `model.save('my_model.keras')` or `keras.saving.save_model(model, 'my_model.keras')`. \n",
      "WARNING:absl:You are saving your model as an HDF5 file via `model.save()` or `keras.saving.save_model(model)`. This file format is considered legacy. We recommend using instead the native Keras format, e.g. `model.save('my_model.keras')` or `keras.saving.save_model(model, 'my_model.keras')`. \n"
     ]
    },
    {
     "name": "stdout",
     "output_type": "stream",
     "text": [
      "\u001b[1m61/61\u001b[0m \u001b[32m━━━━━━━━━━━━━━━━━━━━\u001b[0m\u001b[37m\u001b[0m \u001b[1m1s\u001b[0m 8ms/step - Precision: 0.7139 - Recall: 0.7098 - acc: 0.7901 - loss: 0.4491 - val_Precision: 0.7033 - val_Recall: 0.7256 - val_acc: 0.7889 - val_loss: 0.4470\n",
      "Epoch 26/100\n",
      "\u001b[1m59/61\u001b[0m \u001b[32m━━━━━━━━━━━━━━━━━━━\u001b[0m\u001b[37m━\u001b[0m \u001b[1m0s\u001b[0m 5ms/step - Precision: 0.7106 - Recall: 0.7055 - acc: 0.7892 - loss: 0.4414\n",
      "Epoch 26: val_loss improved from 0.44704 to 0.44254, saving model to ./models_temp/attention_best_model.h5\n"
     ]
    },
    {
     "name": "stderr",
     "output_type": "stream",
     "text": [
      "WARNING:absl:You are saving your model as an HDF5 file via `model.save()` or `keras.saving.save_model(model)`. This file format is considered legacy. We recommend using instead the native Keras format, e.g. `model.save('my_model.keras')` or `keras.saving.save_model(model, 'my_model.keras')`. \n",
      "WARNING:absl:You are saving your model as an HDF5 file via `model.save()` or `keras.saving.save_model(model)`. This file format is considered legacy. We recommend using instead the native Keras format, e.g. `model.save('my_model.keras')` or `keras.saving.save_model(model, 'my_model.keras')`. \n"
     ]
    },
    {
     "name": "stdout",
     "output_type": "stream",
     "text": [
      "\u001b[1m61/61\u001b[0m \u001b[32m━━━━━━━━━━━━━━━━━━━━\u001b[0m\u001b[37m\u001b[0m \u001b[1m1s\u001b[0m 8ms/step - Precision: 0.7104 - Recall: 0.7055 - acc: 0.7891 - loss: 0.4414 - val_Precision: 0.7150 - val_Recall: 0.6947 - val_acc: 0.7883 - val_loss: 0.4425\n",
      "Epoch 27/100\n",
      "\u001b[1m60/61\u001b[0m \u001b[32m━━━━━━━━━━━━━━━━━━━\u001b[0m\u001b[37m━\u001b[0m \u001b[1m0s\u001b[0m 5ms/step - Precision: 0.7087 - Recall: 0.6604 - acc: 0.7799 - loss: 0.4442\n",
      "Epoch 27: val_loss did not improve from 0.44254\n",
      "\u001b[1m61/61\u001b[0m \u001b[32m━━━━━━━━━━━━━━━━━━━━\u001b[0m\u001b[37m\u001b[0m \u001b[1m0s\u001b[0m 8ms/step - Precision: 0.7087 - Recall: 0.6615 - acc: 0.7801 - loss: 0.4441 - val_Precision: 0.7190 - val_Recall: 0.7064 - val_acc: 0.7928 - val_loss: 0.4444\n",
      "Epoch 28/100\n",
      "\u001b[1m57/61\u001b[0m \u001b[32m━━━━━━━━━━━━━━━━━━\u001b[0m\u001b[37m━━\u001b[0m \u001b[1m0s\u001b[0m 6ms/step - Precision: 0.7060 - Recall: 0.6978 - acc: 0.7835 - loss: 0.4439\n",
      "Epoch 28: val_loss did not improve from 0.44254\n",
      "\u001b[1m61/61\u001b[0m \u001b[32m━━━━━━━━━━━━━━━━━━━━\u001b[0m\u001b[37m\u001b[0m \u001b[1m0s\u001b[0m 7ms/step - Precision: 0.7054 - Recall: 0.6987 - acc: 0.7836 - loss: 0.4440 - val_Precision: 0.6989 - val_Recall: 0.7473 - val_acc: 0.7910 - val_loss: 0.4435\n",
      "Epoch 29/100\n",
      "\u001b[1m58/61\u001b[0m \u001b[32m━━━━━━━━━━━━━━━━━━━\u001b[0m\u001b[37m━\u001b[0m \u001b[1m0s\u001b[0m 6ms/step - Precision: 0.7029 - Recall: 0.6919 - acc: 0.7881 - loss: 0.4465\n",
      "Epoch 29: val_loss did not improve from 0.44254\n",
      "\u001b[1m61/61\u001b[0m \u001b[32m━━━━━━━━━━━━━━━━━━━━\u001b[0m\u001b[37m\u001b[0m \u001b[1m1s\u001b[0m 8ms/step - Precision: 0.7029 - Recall: 0.6931 - acc: 0.7880 - loss: 0.4462 - val_Precision: 0.7119 - val_Recall: 0.7173 - val_acc: 0.7916 - val_loss: 0.4458\n",
      "Epoch 30/100\n",
      "\u001b[1m54/61\u001b[0m \u001b[32m━━━━━━━━━━━━━━━━━\u001b[0m\u001b[37m━━━\u001b[0m \u001b[1m0s\u001b[0m 5ms/step - Precision: 0.6980 - Recall: 0.7273 - acc: 0.7892 - loss: 0.4427\n",
      "Epoch 30: val_loss did not improve from 0.44254\n",
      "\u001b[1m61/61\u001b[0m \u001b[32m━━━━━━━━━━━━━━━━━━━━\u001b[0m\u001b[37m\u001b[0m \u001b[1m0s\u001b[0m 7ms/step - Precision: 0.6979 - Recall: 0.7278 - acc: 0.7890 - loss: 0.4424 - val_Precision: 0.7002 - val_Recall: 0.7423 - val_acc: 0.7907 - val_loss: 0.4448\n",
      "Epoch 31/100\n",
      "\u001b[1m53/61\u001b[0m \u001b[32m━━━━━━━━━━━━━━━━━\u001b[0m\u001b[37m━━━\u001b[0m \u001b[1m0s\u001b[0m 5ms/step - Precision: 0.7180 - Recall: 0.6795 - acc: 0.7825 - loss: 0.4379\n",
      "Epoch 31: val_loss did not improve from 0.44254\n",
      "\u001b[1m61/61\u001b[0m \u001b[32m━━━━━━━━━━━━━━━━━━━━\u001b[0m\u001b[37m\u001b[0m \u001b[1m0s\u001b[0m 7ms/step - Precision: 0.7169 - Recall: 0.6812 - acc: 0.7830 - loss: 0.4379 - val_Precision: 0.7006 - val_Recall: 0.7298 - val_acc: 0.7883 - val_loss: 0.4437\n",
      "Epoch 32/100\n",
      "\u001b[1m61/61\u001b[0m \u001b[32m━━━━━━━━━━━━━━━━━━━━\u001b[0m\u001b[37m\u001b[0m \u001b[1m0s\u001b[0m 5ms/step - Precision: 0.7122 - Recall: 0.7266 - acc: 0.7919 - loss: 0.4335\n",
      "Epoch 32: val_loss improved from 0.44254 to 0.44209, saving model to ./models_temp/attention_best_model.h5\n"
     ]
    },
    {
     "name": "stderr",
     "output_type": "stream",
     "text": [
      "WARNING:absl:You are saving your model as an HDF5 file via `model.save()` or `keras.saving.save_model(model)`. This file format is considered legacy. We recommend using instead the native Keras format, e.g. `model.save('my_model.keras')` or `keras.saving.save_model(model, 'my_model.keras')`. \n",
      "WARNING:absl:You are saving your model as an HDF5 file via `model.save()` or `keras.saving.save_model(model)`. This file format is considered legacy. We recommend using instead the native Keras format, e.g. `model.save('my_model.keras')` or `keras.saving.save_model(model, 'my_model.keras')`. \n"
     ]
    },
    {
     "name": "stdout",
     "output_type": "stream",
     "text": [
      "\u001b[1m61/61\u001b[0m \u001b[32m━━━━━━━━━━━━━━━━━━━━\u001b[0m\u001b[37m\u001b[0m \u001b[1m1s\u001b[0m 9ms/step - Precision: 0.7121 - Recall: 0.7264 - acc: 0.7919 - loss: 0.4335 - val_Precision: 0.6935 - val_Recall: 0.7339 - val_acc: 0.7853 - val_loss: 0.4421\n",
      "Epoch 33/100\n",
      "\u001b[1m52/61\u001b[0m \u001b[32m━━━━━━━━━━━━━━━━━\u001b[0m\u001b[37m━━━\u001b[0m \u001b[1m0s\u001b[0m 6ms/step - Precision: 0.6962 - Recall: 0.7326 - acc: 0.7911 - loss: 0.4323\n",
      "Epoch 33: val_loss improved from 0.44209 to 0.44167, saving model to ./models_temp/attention_best_model.h5\n"
     ]
    },
    {
     "name": "stderr",
     "output_type": "stream",
     "text": [
      "WARNING:absl:You are saving your model as an HDF5 file via `model.save()` or `keras.saving.save_model(model)`. This file format is considered legacy. We recommend using instead the native Keras format, e.g. `model.save('my_model.keras')` or `keras.saving.save_model(model, 'my_model.keras')`. \n",
      "WARNING:absl:You are saving your model as an HDF5 file via `model.save()` or `keras.saving.save_model(model)`. This file format is considered legacy. We recommend using instead the native Keras format, e.g. `model.save('my_model.keras')` or `keras.saving.save_model(model, 'my_model.keras')`. \n"
     ]
    },
    {
     "name": "stdout",
     "output_type": "stream",
     "text": [
      "\u001b[1m61/61\u001b[0m \u001b[32m━━━━━━━━━━━━━━━━━━━━\u001b[0m\u001b[37m\u001b[0m \u001b[1m1s\u001b[0m 9ms/step - Precision: 0.6968 - Recall: 0.7309 - acc: 0.7905 - loss: 0.4337 - val_Precision: 0.6970 - val_Recall: 0.7598 - val_acc: 0.7925 - val_loss: 0.4417\n",
      "Epoch 34/100\n",
      "\u001b[1m60/61\u001b[0m \u001b[32m━━━━━━━━━━━━━━━━━━━\u001b[0m\u001b[37m━\u001b[0m \u001b[1m0s\u001b[0m 5ms/step - Precision: 0.7115 - Recall: 0.7070 - acc: 0.7888 - loss: 0.4398\n",
      "Epoch 34: val_loss did not improve from 0.44167\n",
      "\u001b[1m61/61\u001b[0m \u001b[32m━━━━━━━━━━━━━━━━━━━━\u001b[0m\u001b[37m\u001b[0m \u001b[1m0s\u001b[0m 7ms/step - Precision: 0.7117 - Recall: 0.7074 - acc: 0.7890 - loss: 0.4395 - val_Precision: 0.7055 - val_Recall: 0.7273 - val_acc: 0.7904 - val_loss: 0.4465\n",
      "Epoch 35/100\n",
      "\u001b[1m55/61\u001b[0m \u001b[32m━━━━━━━━━━━━━━━━━━\u001b[0m\u001b[37m━━\u001b[0m \u001b[1m0s\u001b[0m 6ms/step - Precision: 0.7102 - Recall: 0.7099 - acc: 0.7925 - loss: 0.4433\n",
      "Epoch 35: val_loss improved from 0.44167 to 0.44108, saving model to ./models_temp/attention_best_model.h5\n"
     ]
    },
    {
     "name": "stderr",
     "output_type": "stream",
     "text": [
      "WARNING:absl:You are saving your model as an HDF5 file via `model.save()` or `keras.saving.save_model(model)`. This file format is considered legacy. We recommend using instead the native Keras format, e.g. `model.save('my_model.keras')` or `keras.saving.save_model(model, 'my_model.keras')`. \n",
      "WARNING:absl:You are saving your model as an HDF5 file via `model.save()` or `keras.saving.save_model(model)`. This file format is considered legacy. We recommend using instead the native Keras format, e.g. `model.save('my_model.keras')` or `keras.saving.save_model(model, 'my_model.keras')`. \n"
     ]
    },
    {
     "name": "stdout",
     "output_type": "stream",
     "text": [
      "\u001b[1m61/61\u001b[0m \u001b[32m━━━━━━━━━━━━━━━━━━━━\u001b[0m\u001b[37m\u001b[0m \u001b[1m1s\u001b[0m 9ms/step - Precision: 0.7101 - Recall: 0.7105 - acc: 0.7925 - loss: 0.4428 - val_Precision: 0.6923 - val_Recall: 0.7731 - val_acc: 0.7925 - val_loss: 0.4411\n",
      "Epoch 36/100\n",
      "\u001b[1m53/61\u001b[0m \u001b[32m━━━━━━━━━━━━━━━━━\u001b[0m\u001b[37m━━━\u001b[0m \u001b[1m0s\u001b[0m 5ms/step - Precision: 0.7150 - Recall: 0.7441 - acc: 0.7960 - loss: 0.4301\n",
      "Epoch 36: val_loss improved from 0.44108 to 0.43515, saving model to ./models_temp/attention_best_model.h5\n"
     ]
    },
    {
     "name": "stderr",
     "output_type": "stream",
     "text": [
      "WARNING:absl:You are saving your model as an HDF5 file via `model.save()` or `keras.saving.save_model(model)`. This file format is considered legacy. We recommend using instead the native Keras format, e.g. `model.save('my_model.keras')` or `keras.saving.save_model(model, 'my_model.keras')`. \n",
      "WARNING:absl:You are saving your model as an HDF5 file via `model.save()` or `keras.saving.save_model(model)`. This file format is considered legacy. We recommend using instead the native Keras format, e.g. `model.save('my_model.keras')` or `keras.saving.save_model(model, 'my_model.keras')`. \n"
     ]
    },
    {
     "name": "stdout",
     "output_type": "stream",
     "text": [
      "\u001b[1m61/61\u001b[0m \u001b[32m━━━━━━━━━━━━━━━━━━━━\u001b[0m\u001b[37m\u001b[0m \u001b[1m1s\u001b[0m 8ms/step - Precision: 0.7141 - Recall: 0.7418 - acc: 0.7958 - loss: 0.4308 - val_Precision: 0.7048 - val_Recall: 0.7548 - val_acc: 0.7959 - val_loss: 0.4351\n",
      "Epoch 37/100\n",
      "\u001b[1m52/61\u001b[0m \u001b[32m━━━━━━━━━━━━━━━━━\u001b[0m\u001b[37m━━━\u001b[0m \u001b[1m0s\u001b[0m 5ms/step - Precision: 0.7092 - Recall: 0.6750 - acc: 0.7837 - loss: 0.4399\n",
      "Epoch 37: val_loss did not improve from 0.43515\n",
      "\u001b[1m61/61\u001b[0m \u001b[32m━━━━━━━━━━━━━━━━━━━━\u001b[0m\u001b[37m\u001b[0m \u001b[1m0s\u001b[0m 7ms/step - Precision: 0.7104 - Recall: 0.6801 - acc: 0.7852 - loss: 0.4384 - val_Precision: 0.7074 - val_Recall: 0.7339 - val_acc: 0.7928 - val_loss: 0.4418\n",
      "Epoch 38/100\n",
      "\u001b[1m55/61\u001b[0m \u001b[32m━━━━━━━━━━━━━━━━━━\u001b[0m\u001b[37m━━\u001b[0m \u001b[1m0s\u001b[0m 6ms/step - Precision: 0.7016 - Recall: 0.6889 - acc: 0.7875 - loss: 0.4365\n",
      "Epoch 38: val_loss did not improve from 0.43515\n",
      "\u001b[1m61/61\u001b[0m \u001b[32m━━━━━━━━━━━━━━━━━━━━\u001b[0m\u001b[37m\u001b[0m \u001b[1m0s\u001b[0m 8ms/step - Precision: 0.7033 - Recall: 0.6911 - acc: 0.7882 - loss: 0.4359 - val_Precision: 0.6966 - val_Recall: 0.7256 - val_acc: 0.7853 - val_loss: 0.4421\n",
      "Epoch 39/100\n",
      "\u001b[1m52/61\u001b[0m \u001b[32m━━━━━━━━━━━━━━━━━\u001b[0m\u001b[37m━━━\u001b[0m \u001b[1m0s\u001b[0m 5ms/step - Precision: 0.6986 - Recall: 0.7212 - acc: 0.7890 - loss: 0.4335\n",
      "Epoch 39: val_loss did not improve from 0.43515\n",
      "\u001b[1m61/61\u001b[0m \u001b[32m━━━━━━━━━━━━━━━━━━━━\u001b[0m\u001b[37m\u001b[0m \u001b[1m0s\u001b[0m 7ms/step - Precision: 0.6994 - Recall: 0.7199 - acc: 0.7889 - loss: 0.4340 - val_Precision: 0.7066 - val_Recall: 0.7473 - val_acc: 0.7953 - val_loss: 0.4359\n",
      "Epoch 40/100\n",
      "\u001b[1m52/61\u001b[0m \u001b[32m━━━━━━━━━━━━━━━━━\u001b[0m\u001b[37m━━━\u001b[0m \u001b[1m0s\u001b[0m 5ms/step - Precision: 0.7261 - Recall: 0.7290 - acc: 0.8044 - loss: 0.4217\n",
      "Epoch 40: val_loss did not improve from 0.43515\n",
      "\u001b[1m61/61\u001b[0m \u001b[32m━━━━━━━━━━━━━━━━━━━━\u001b[0m\u001b[37m\u001b[0m \u001b[1m0s\u001b[0m 7ms/step - Precision: 0.7237 - Recall: 0.7270 - acc: 0.8025 - loss: 0.4233 - val_Precision: 0.7062 - val_Recall: 0.7656 - val_acc: 0.7989 - val_loss: 0.4352\n",
      "Epoch 41/100\n",
      "\u001b[1m54/61\u001b[0m \u001b[32m━━━━━━━━━━━━━━━━━\u001b[0m\u001b[37m━━━\u001b[0m \u001b[1m0s\u001b[0m 5ms/step - Precision: 0.7139 - Recall: 0.7517 - acc: 0.7942 - loss: 0.4234\n",
      "Epoch 41: val_loss improved from 0.43515 to 0.43397, saving model to ./models_temp/attention_best_model.h5\n"
     ]
    },
    {
     "name": "stderr",
     "output_type": "stream",
     "text": [
      "WARNING:absl:You are saving your model as an HDF5 file via `model.save()` or `keras.saving.save_model(model)`. This file format is considered legacy. We recommend using instead the native Keras format, e.g. `model.save('my_model.keras')` or `keras.saving.save_model(model, 'my_model.keras')`. \n",
      "WARNING:absl:You are saving your model as an HDF5 file via `model.save()` or `keras.saving.save_model(model)`. This file format is considered legacy. We recommend using instead the native Keras format, e.g. `model.save('my_model.keras')` or `keras.saving.save_model(model, 'my_model.keras')`. \n"
     ]
    },
    {
     "name": "stdout",
     "output_type": "stream",
     "text": [
      "\u001b[1m61/61\u001b[0m \u001b[32m━━━━━━━━━━━━━━━━━━━━\u001b[0m\u001b[37m\u001b[0m \u001b[1m1s\u001b[0m 8ms/step - Precision: 0.7129 - Recall: 0.7493 - acc: 0.7941 - loss: 0.4240 - val_Precision: 0.7241 - val_Recall: 0.7223 - val_acc: 0.7989 - val_loss: 0.4340\n",
      "Epoch 42/100\n",
      "\u001b[1m54/61\u001b[0m \u001b[32m━━━━━━━━━━━━━━━━━\u001b[0m\u001b[37m━━━\u001b[0m \u001b[1m0s\u001b[0m 5ms/step - Precision: 0.7100 - Recall: 0.7260 - acc: 0.7924 - loss: 0.4440\n",
      "Epoch 42: val_loss did not improve from 0.43397\n",
      "\u001b[1m61/61\u001b[0m \u001b[32m━━━━━━━━━━━━━━━━━━━━\u001b[0m\u001b[37m\u001b[0m \u001b[1m0s\u001b[0m 7ms/step - Precision: 0.7103 - Recall: 0.7269 - acc: 0.7929 - loss: 0.4421 - val_Precision: 0.7296 - val_Recall: 0.6931 - val_acc: 0.7950 - val_loss: 0.4412\n",
      "Epoch 43/100\n",
      "\u001b[1m52/61\u001b[0m \u001b[32m━━━━━━━━━━━━━━━━━\u001b[0m\u001b[37m━━━\u001b[0m \u001b[1m0s\u001b[0m 5ms/step - Precision: 0.7374 - Recall: 0.7279 - acc: 0.8005 - loss: 0.4305\n",
      "Epoch 43: val_loss did not improve from 0.43397\n",
      "\u001b[1m61/61\u001b[0m \u001b[32m━━━━━━━━━━━━━━━━━━━━\u001b[0m\u001b[37m\u001b[0m \u001b[1m0s\u001b[0m 7ms/step - Precision: 0.7339 - Recall: 0.7262 - acc: 0.7995 - loss: 0.4299 - val_Precision: 0.7138 - val_Recall: 0.7198 - val_acc: 0.7931 - val_loss: 0.4372\n",
      "Epoch 44/100\n",
      "\u001b[1m55/61\u001b[0m \u001b[32m━━━━━━━━━━━━━━━━━━\u001b[0m\u001b[37m━━\u001b[0m \u001b[1m0s\u001b[0m 5ms/step - Precision: 0.7218 - Recall: 0.7025 - acc: 0.7978 - loss: 0.4257\n",
      "Epoch 44: val_loss improved from 0.43397 to 0.43077, saving model to ./models_temp/attention_best_model.h5\n"
     ]
    },
    {
     "name": "stderr",
     "output_type": "stream",
     "text": [
      "WARNING:absl:You are saving your model as an HDF5 file via `model.save()` or `keras.saving.save_model(model)`. This file format is considered legacy. We recommend using instead the native Keras format, e.g. `model.save('my_model.keras')` or `keras.saving.save_model(model, 'my_model.keras')`. \n",
      "WARNING:absl:You are saving your model as an HDF5 file via `model.save()` or `keras.saving.save_model(model)`. This file format is considered legacy. We recommend using instead the native Keras format, e.g. `model.save('my_model.keras')` or `keras.saving.save_model(model, 'my_model.keras')`. \n"
     ]
    },
    {
     "name": "stdout",
     "output_type": "stream",
     "text": [
      "\u001b[1m61/61\u001b[0m \u001b[32m━━━━━━━━━━━━━━━━━━━━\u001b[0m\u001b[37m\u001b[0m \u001b[1m1s\u001b[0m 8ms/step - Precision: 0.7216 - Recall: 0.7043 - acc: 0.7978 - loss: 0.4259 - val_Precision: 0.7113 - val_Recall: 0.7314 - val_acc: 0.7944 - val_loss: 0.4308\n",
      "Epoch 45/100\n",
      "\u001b[1m54/61\u001b[0m \u001b[32m━━━━━━━━━━━━━━━━━\u001b[0m\u001b[37m━━━\u001b[0m \u001b[1m0s\u001b[0m 6ms/step - Precision: 0.7134 - Recall: 0.6940 - acc: 0.7948 - loss: 0.4232\n",
      "Epoch 45: val_loss did not improve from 0.43077\n",
      "\u001b[1m61/61\u001b[0m \u001b[32m━━━━━━━━━━━━━━━━━━━━\u001b[0m\u001b[37m\u001b[0m \u001b[1m1s\u001b[0m 8ms/step - Precision: 0.7143 - Recall: 0.6971 - acc: 0.7952 - loss: 0.4239 - val_Precision: 0.6892 - val_Recall: 0.7731 - val_acc: 0.7907 - val_loss: 0.4348\n",
      "Epoch 46/100\n",
      "\u001b[1m60/61\u001b[0m \u001b[32m━━━━━━━━━━━━━━━━━━━\u001b[0m\u001b[37m━\u001b[0m \u001b[1m0s\u001b[0m 5ms/step - Precision: 0.7172 - Recall: 0.7492 - acc: 0.8040 - loss: 0.4251\n",
      "Epoch 46: val_loss did not improve from 0.43077\n",
      "\u001b[1m61/61\u001b[0m \u001b[32m━━━━━━━━━━━━━━━━━━━━\u001b[0m\u001b[37m\u001b[0m \u001b[1m0s\u001b[0m 7ms/step - Precision: 0.7174 - Recall: 0.7487 - acc: 0.8039 - loss: 0.4250 - val_Precision: 0.7168 - val_Recall: 0.7556 - val_acc: 0.8025 - val_loss: 0.4338\n",
      "Epoch 47/100\n",
      "\u001b[1m54/61\u001b[0m \u001b[32m━━━━━━━━━━━━━━━━━\u001b[0m\u001b[37m━━━\u001b[0m \u001b[1m0s\u001b[0m 5ms/step - Precision: 0.6979 - Recall: 0.7425 - acc: 0.7948 - loss: 0.4333\n",
      "Epoch 47: val_loss improved from 0.43077 to 0.42984, saving model to ./models_temp/attention_best_model.h5\n"
     ]
    },
    {
     "name": "stderr",
     "output_type": "stream",
     "text": [
      "WARNING:absl:You are saving your model as an HDF5 file via `model.save()` or `keras.saving.save_model(model)`. This file format is considered legacy. We recommend using instead the native Keras format, e.g. `model.save('my_model.keras')` or `keras.saving.save_model(model, 'my_model.keras')`. \n",
      "WARNING:absl:You are saving your model as an HDF5 file via `model.save()` or `keras.saving.save_model(model)`. This file format is considered legacy. We recommend using instead the native Keras format, e.g. `model.save('my_model.keras')` or `keras.saving.save_model(model, 'my_model.keras')`. \n"
     ]
    },
    {
     "name": "stdout",
     "output_type": "stream",
     "text": [
      "\u001b[1m61/61\u001b[0m \u001b[32m━━━━━━━━━━━━━━━━━━━━\u001b[0m\u001b[37m\u001b[0m \u001b[1m1s\u001b[0m 8ms/step - Precision: 0.6995 - Recall: 0.7418 - acc: 0.7950 - loss: 0.4328 - val_Precision: 0.7337 - val_Recall: 0.7306 - val_acc: 0.8056 - val_loss: 0.4298\n",
      "Epoch 48/100\n",
      "\u001b[1m54/61\u001b[0m \u001b[32m━━━━━━━━━━━━━━━━━\u001b[0m\u001b[37m━━━\u001b[0m \u001b[1m0s\u001b[0m 5ms/step - Precision: 0.7106 - Recall: 0.7069 - acc: 0.7900 - loss: 0.4220\n",
      "Epoch 48: val_loss did not improve from 0.42984\n",
      "\u001b[1m61/61\u001b[0m \u001b[32m━━━━━━━━━━━━━━━━━━━━\u001b[0m\u001b[37m\u001b[0m \u001b[1m0s\u001b[0m 7ms/step - Precision: 0.7115 - Recall: 0.7085 - acc: 0.7909 - loss: 0.4220 - val_Precision: 0.7163 - val_Recall: 0.7456 - val_acc: 0.8001 - val_loss: 0.4322\n",
      "Epoch 49/100\n",
      "\u001b[1m53/61\u001b[0m \u001b[32m━━━━━━━━━━━━━━━━━\u001b[0m\u001b[37m━━━\u001b[0m \u001b[1m0s\u001b[0m 5ms/step - Precision: 0.7068 - Recall: 0.7034 - acc: 0.7914 - loss: 0.4240\n",
      "Epoch 49: val_loss did not improve from 0.42984\n",
      "\u001b[1m61/61\u001b[0m \u001b[32m━━━━━━━━━━━━━━━━━━━━\u001b[0m\u001b[37m\u001b[0m \u001b[1m0s\u001b[0m 7ms/step - Precision: 0.7086 - Recall: 0.7055 - acc: 0.7924 - loss: 0.4239 - val_Precision: 0.6987 - val_Recall: 0.7640 - val_acc: 0.7944 - val_loss: 0.4344\n",
      "Epoch 50/100\n",
      "\u001b[1m61/61\u001b[0m \u001b[32m━━━━━━━━━━━━━━━━━━━━\u001b[0m\u001b[37m\u001b[0m \u001b[1m0s\u001b[0m 5ms/step - Precision: 0.7261 - Recall: 0.7528 - acc: 0.8112 - loss: 0.4186\n",
      "Epoch 50: val_loss did not improve from 0.42984\n",
      "\u001b[1m61/61\u001b[0m \u001b[32m━━━━━━━━━━━━━━━━━━━━\u001b[0m\u001b[37m\u001b[0m \u001b[1m0s\u001b[0m 7ms/step - Precision: 0.7260 - Recall: 0.7525 - acc: 0.8110 - loss: 0.4187 - val_Precision: 0.7303 - val_Recall: 0.6864 - val_acc: 0.7938 - val_loss: 0.4305\n",
      "Epoch 51/100\n",
      "\u001b[1m51/61\u001b[0m \u001b[32m━━━━━━━━━━━━━━━━\u001b[0m\u001b[37m━━━━\u001b[0m \u001b[1m0s\u001b[0m 5ms/step - Precision: 0.7093 - Recall: 0.7544 - acc: 0.8015 - loss: 0.4199\n",
      "Epoch 51: val_loss did not improve from 0.42984\n",
      "\u001b[1m61/61\u001b[0m \u001b[32m━━━━━━━━━━━━━━━━━━━━\u001b[0m\u001b[37m\u001b[0m \u001b[1m0s\u001b[0m 7ms/step - Precision: 0.7093 - Recall: 0.7504 - acc: 0.8005 - loss: 0.4210 - val_Precision: 0.6911 - val_Recall: 0.7781 - val_acc: 0.7928 - val_loss: 0.4385\n",
      "Epoch 52/100\n",
      "\u001b[1m53/61\u001b[0m \u001b[32m━━━━━━━━━━━━━━━━━\u001b[0m\u001b[37m━━━\u001b[0m \u001b[1m0s\u001b[0m 5ms/step - Precision: 0.7207 - Recall: 0.7520 - acc: 0.8056 - loss: 0.4164\n",
      "Epoch 52: val_loss did not improve from 0.42984\n",
      "\u001b[1m61/61\u001b[0m \u001b[32m━━━━━━━━━━━━━━━━━━━━\u001b[0m\u001b[37m\u001b[0m \u001b[1m0s\u001b[0m 7ms/step - Precision: 0.7205 - Recall: 0.7486 - acc: 0.8047 - loss: 0.4172 - val_Precision: 0.7066 - val_Recall: 0.7673 - val_acc: 0.7995 - val_loss: 0.4312\n",
      "Epoch 53/100\n",
      "\u001b[1m58/61\u001b[0m \u001b[32m━━━━━━━━━━━━━━━━━━━\u001b[0m\u001b[37m━\u001b[0m \u001b[1m0s\u001b[0m 6ms/step - Precision: 0.7206 - Recall: 0.7453 - acc: 0.8025 - loss: 0.4221\n",
      "Epoch 53: val_loss improved from 0.42984 to 0.42816, saving model to ./models_temp/attention_best_model.h5\n"
     ]
    },
    {
     "name": "stderr",
     "output_type": "stream",
     "text": [
      "WARNING:absl:You are saving your model as an HDF5 file via `model.save()` or `keras.saving.save_model(model)`. This file format is considered legacy. We recommend using instead the native Keras format, e.g. `model.save('my_model.keras')` or `keras.saving.save_model(model, 'my_model.keras')`. \n",
      "WARNING:absl:You are saving your model as an HDF5 file via `model.save()` or `keras.saving.save_model(model)`. This file format is considered legacy. We recommend using instead the native Keras format, e.g. `model.save('my_model.keras')` or `keras.saving.save_model(model, 'my_model.keras')`. \n"
     ]
    },
    {
     "name": "stdout",
     "output_type": "stream",
     "text": [
      "\u001b[1m61/61\u001b[0m \u001b[32m━━━━━━━━━━━━━━━━━━━━\u001b[0m\u001b[37m\u001b[0m \u001b[1m1s\u001b[0m 8ms/step - Precision: 0.7206 - Recall: 0.7441 - acc: 0.8024 - loss: 0.4221 - val_Precision: 0.7241 - val_Recall: 0.7289 - val_acc: 0.8004 - val_loss: 0.4282\n",
      "Epoch 54/100\n",
      "\u001b[1m58/61\u001b[0m \u001b[32m━━━━━━━━━━━━━━━━━━━\u001b[0m\u001b[37m━\u001b[0m \u001b[1m0s\u001b[0m 6ms/step - Precision: 0.7234 - Recall: 0.7426 - acc: 0.8061 - loss: 0.4152\n",
      "Epoch 54: val_loss did not improve from 0.42816\n",
      "\u001b[1m61/61\u001b[0m \u001b[32m━━━━━━━━━━━━━━━━━━━━\u001b[0m\u001b[37m\u001b[0m \u001b[1m0s\u001b[0m 8ms/step - Precision: 0.7237 - Recall: 0.7423 - acc: 0.8060 - loss: 0.4154 - val_Precision: 0.7296 - val_Recall: 0.7248 - val_acc: 0.8022 - val_loss: 0.4325\n",
      "Epoch 55/100\n",
      "\u001b[1m53/61\u001b[0m \u001b[32m━━━━━━━━━━━━━━━━━\u001b[0m\u001b[37m━━━\u001b[0m \u001b[1m0s\u001b[0m 5ms/step - Precision: 0.7233 - Recall: 0.7193 - acc: 0.7980 - loss: 0.4166\n",
      "Epoch 55: val_loss did not improve from 0.42816\n",
      "\u001b[1m61/61\u001b[0m \u001b[32m━━━━━━━━━━━━━━━━━━━━\u001b[0m\u001b[37m\u001b[0m \u001b[1m0s\u001b[0m 7ms/step - Precision: 0.7234 - Recall: 0.7199 - acc: 0.7985 - loss: 0.4167 - val_Precision: 0.6903 - val_Recall: 0.7807 - val_acc: 0.7928 - val_loss: 0.4338\n",
      "Epoch 56/100\n",
      "\u001b[1m60/61\u001b[0m \u001b[32m━━━━━━━━━━━━━━━━━━━\u001b[0m\u001b[37m━\u001b[0m \u001b[1m0s\u001b[0m 5ms/step - Precision: 0.7101 - Recall: 0.7473 - acc: 0.8028 - loss: 0.4205\n",
      "Epoch 56: val_loss improved from 0.42816 to 0.42707, saving model to ./models_temp/attention_best_model.h5\n"
     ]
    },
    {
     "name": "stderr",
     "output_type": "stream",
     "text": [
      "WARNING:absl:You are saving your model as an HDF5 file via `model.save()` or `keras.saving.save_model(model)`. This file format is considered legacy. We recommend using instead the native Keras format, e.g. `model.save('my_model.keras')` or `keras.saving.save_model(model, 'my_model.keras')`. \n",
      "WARNING:absl:You are saving your model as an HDF5 file via `model.save()` or `keras.saving.save_model(model)`. This file format is considered legacy. We recommend using instead the native Keras format, e.g. `model.save('my_model.keras')` or `keras.saving.save_model(model, 'my_model.keras')`. \n"
     ]
    },
    {
     "name": "stdout",
     "output_type": "stream",
     "text": [
      "\u001b[1m61/61\u001b[0m \u001b[32m━━━━━━━━━━━━━━━━━━━━\u001b[0m\u001b[37m\u001b[0m \u001b[1m1s\u001b[0m 9ms/step - Precision: 0.7105 - Recall: 0.7468 - acc: 0.8027 - loss: 0.4205 - val_Precision: 0.7088 - val_Recall: 0.7815 - val_acc: 0.8038 - val_loss: 0.4271\n",
      "Epoch 57/100\n",
      "\u001b[1m58/61\u001b[0m \u001b[32m━━━━━━━━━━━━━━━━━━━\u001b[0m\u001b[37m━\u001b[0m \u001b[1m0s\u001b[0m 5ms/step - Precision: 0.7137 - Recall: 0.7340 - acc: 0.7990 - loss: 0.4190\n",
      "Epoch 57: val_loss did not improve from 0.42707\n",
      "\u001b[1m61/61\u001b[0m \u001b[32m━━━━━━━━━━━━━━━━━━━━\u001b[0m\u001b[37m\u001b[0m \u001b[1m0s\u001b[0m 8ms/step - Precision: 0.7141 - Recall: 0.7335 - acc: 0.7991 - loss: 0.4191 - val_Precision: 0.7348 - val_Recall: 0.7048 - val_acc: 0.8001 - val_loss: 0.4410\n",
      "Epoch 58/100\n",
      "\u001b[1m52/61\u001b[0m \u001b[32m━━━━━━━━━━━━━━━━━\u001b[0m\u001b[37m━━━\u001b[0m \u001b[1m0s\u001b[0m 5ms/step - Precision: 0.7462 - Recall: 0.6707 - acc: 0.8029 - loss: 0.4208\n",
      "Epoch 58: val_loss did not improve from 0.42707\n",
      "\u001b[1m61/61\u001b[0m \u001b[32m━━━━━━━━━━━━━━━━━━━━\u001b[0m\u001b[37m\u001b[0m \u001b[1m0s\u001b[0m 7ms/step - Precision: 0.7445 - Recall: 0.6782 - acc: 0.8032 - loss: 0.4211 - val_Precision: 0.7006 - val_Recall: 0.7690 - val_acc: 0.7965 - val_loss: 0.4304\n",
      "Epoch 59/100\n",
      "\u001b[1m54/61\u001b[0m \u001b[32m━━━━━━━━━━━━━━━━━\u001b[0m\u001b[37m━━━\u001b[0m \u001b[1m0s\u001b[0m 5ms/step - Precision: 0.7307 - Recall: 0.7459 - acc: 0.8084 - loss: 0.4117\n",
      "Epoch 59: val_loss improved from 0.42707 to 0.42619, saving model to ./models_temp/attention_best_model.h5\n"
     ]
    },
    {
     "name": "stderr",
     "output_type": "stream",
     "text": [
      "WARNING:absl:You are saving your model as an HDF5 file via `model.save()` or `keras.saving.save_model(model)`. This file format is considered legacy. We recommend using instead the native Keras format, e.g. `model.save('my_model.keras')` or `keras.saving.save_model(model, 'my_model.keras')`. \n",
      "WARNING:absl:You are saving your model as an HDF5 file via `model.save()` or `keras.saving.save_model(model)`. This file format is considered legacy. We recommend using instead the native Keras format, e.g. `model.save('my_model.keras')` or `keras.saving.save_model(model, 'my_model.keras')`. \n"
     ]
    },
    {
     "name": "stdout",
     "output_type": "stream",
     "text": [
      "\u001b[1m61/61\u001b[0m \u001b[32m━━━━━━━━━━━━━━━━━━━━\u001b[0m\u001b[37m\u001b[0m \u001b[1m1s\u001b[0m 8ms/step - Precision: 0.7307 - Recall: 0.7451 - acc: 0.8083 - loss: 0.4118 - val_Precision: 0.7098 - val_Recall: 0.7648 - val_acc: 0.8007 - val_loss: 0.4262\n",
      "Epoch 60/100\n",
      "\u001b[1m52/61\u001b[0m \u001b[32m━━━━━━━━━━━━━━━━━\u001b[0m\u001b[37m━━━\u001b[0m \u001b[1m0s\u001b[0m 5ms/step - Precision: 0.7323 - Recall: 0.7418 - acc: 0.8105 - loss: 0.4132\n",
      "Epoch 60: val_loss improved from 0.42619 to 0.42567, saving model to ./models_temp/attention_best_model.h5\n"
     ]
    },
    {
     "name": "stderr",
     "output_type": "stream",
     "text": [
      "WARNING:absl:You are saving your model as an HDF5 file via `model.save()` or `keras.saving.save_model(model)`. This file format is considered legacy. We recommend using instead the native Keras format, e.g. `model.save('my_model.keras')` or `keras.saving.save_model(model, 'my_model.keras')`. \n",
      "WARNING:absl:You are saving your model as an HDF5 file via `model.save()` or `keras.saving.save_model(model)`. This file format is considered legacy. We recommend using instead the native Keras format, e.g. `model.save('my_model.keras')` or `keras.saving.save_model(model, 'my_model.keras')`. \n"
     ]
    },
    {
     "name": "stdout",
     "output_type": "stream",
     "text": [
      "\u001b[1m61/61\u001b[0m \u001b[32m━━━━━━━━━━━━━━━━━━━━\u001b[0m\u001b[37m\u001b[0m \u001b[1m1s\u001b[0m 8ms/step - Precision: 0.7324 - Recall: 0.7402 - acc: 0.8101 - loss: 0.4140 - val_Precision: 0.7273 - val_Recall: 0.7473 - val_acc: 0.8062 - val_loss: 0.4257\n",
      "Epoch 61/100\n",
      "\u001b[1m52/61\u001b[0m \u001b[32m━━━━━━━━━━━━━━━━━\u001b[0m\u001b[37m━━━\u001b[0m \u001b[1m0s\u001b[0m 5ms/step - Precision: 0.7227 - Recall: 0.6890 - acc: 0.7938 - loss: 0.4265\n",
      "Epoch 61: val_loss did not improve from 0.42567\n",
      "\u001b[1m61/61\u001b[0m \u001b[32m━━━━━━━━━━━━━━━━━━━━\u001b[0m\u001b[37m\u001b[0m \u001b[1m0s\u001b[0m 7ms/step - Precision: 0.7235 - Recall: 0.6937 - acc: 0.7950 - loss: 0.4250 - val_Precision: 0.7186 - val_Recall: 0.7498 - val_acc: 0.8022 - val_loss: 0.4288\n",
      "Epoch 62/100\n",
      "\u001b[1m54/61\u001b[0m \u001b[32m━━━━━━━━━━━━━━━━━\u001b[0m\u001b[37m━━━\u001b[0m \u001b[1m0s\u001b[0m 5ms/step - Precision: 0.7195 - Recall: 0.7381 - acc: 0.8009 - loss: 0.4128\n",
      "Epoch 62: val_loss improved from 0.42567 to 0.42451, saving model to ./models_temp/attention_best_model.h5\n"
     ]
    },
    {
     "name": "stderr",
     "output_type": "stream",
     "text": [
      "WARNING:absl:You are saving your model as an HDF5 file via `model.save()` or `keras.saving.save_model(model)`. This file format is considered legacy. We recommend using instead the native Keras format, e.g. `model.save('my_model.keras')` or `keras.saving.save_model(model, 'my_model.keras')`. \n",
      "WARNING:absl:You are saving your model as an HDF5 file via `model.save()` or `keras.saving.save_model(model)`. This file format is considered legacy. We recommend using instead the native Keras format, e.g. `model.save('my_model.keras')` or `keras.saving.save_model(model, 'my_model.keras')`. \n"
     ]
    },
    {
     "name": "stdout",
     "output_type": "stream",
     "text": [
      "\u001b[1m61/61\u001b[0m \u001b[32m━━━━━━━━━━━━━━━━━━━━\u001b[0m\u001b[37m\u001b[0m \u001b[1m1s\u001b[0m 8ms/step - Precision: 0.7202 - Recall: 0.7375 - acc: 0.8013 - loss: 0.4130 - val_Precision: 0.7192 - val_Recall: 0.7498 - val_acc: 0.8025 - val_loss: 0.4245\n",
      "Epoch 63/100\n",
      "\u001b[1m52/61\u001b[0m \u001b[32m━━━━━━━━━━━━━━━━━\u001b[0m\u001b[37m━━━\u001b[0m \u001b[1m0s\u001b[0m 5ms/step - Precision: 0.7439 - Recall: 0.7341 - acc: 0.8105 - loss: 0.4112\n",
      "Epoch 63: val_loss did not improve from 0.42451\n",
      "\u001b[1m61/61\u001b[0m \u001b[32m━━━━━━━━━━━━━━━━━━━━\u001b[0m\u001b[37m\u001b[0m \u001b[1m0s\u001b[0m 7ms/step - Precision: 0.7427 - Recall: 0.7338 - acc: 0.8103 - loss: 0.4114 - val_Precision: 0.7288 - val_Recall: 0.7373 - val_acc: 0.8047 - val_loss: 0.4294\n",
      "Epoch 64/100\n",
      "\u001b[1m59/61\u001b[0m \u001b[32m━━━━━━━━━━━━━━━━━━━\u001b[0m\u001b[37m━\u001b[0m \u001b[1m0s\u001b[0m 6ms/step - Precision: 0.7248 - Recall: 0.7404 - acc: 0.8060 - loss: 0.4068\n",
      "Epoch 64: val_loss did not improve from 0.42451\n",
      "\u001b[1m61/61\u001b[0m \u001b[32m━━━━━━━━━━━━━━━━━━━━\u001b[0m\u001b[37m\u001b[0m \u001b[1m0s\u001b[0m 7ms/step - Precision: 0.7250 - Recall: 0.7399 - acc: 0.8059 - loss: 0.4070 - val_Precision: 0.6888 - val_Recall: 0.7773 - val_acc: 0.7913 - val_loss: 0.4386\n",
      "Epoch 65/100\n",
      "\u001b[1m53/61\u001b[0m \u001b[32m━━━━━━━━━━━━━━━━━\u001b[0m\u001b[37m━━━\u001b[0m \u001b[1m0s\u001b[0m 5ms/step - Precision: 0.7157 - Recall: 0.6900 - acc: 0.7929 - loss: 0.4283\n",
      "Epoch 65: val_loss did not improve from 0.42451\n",
      "\u001b[1m61/61\u001b[0m \u001b[32m━━━━━━━━━━━━━━━━━━━━\u001b[0m\u001b[37m\u001b[0m \u001b[1m0s\u001b[0m 7ms/step - Precision: 0.7182 - Recall: 0.6958 - acc: 0.7948 - loss: 0.4264 - val_Precision: 0.7301 - val_Recall: 0.7131 - val_acc: 0.7998 - val_loss: 0.4377\n",
      "Epoch 66/100\n",
      "\u001b[1m60/61\u001b[0m \u001b[32m━━━━━━━━━━━━━━━━━━━\u001b[0m\u001b[37m━\u001b[0m \u001b[1m0s\u001b[0m 5ms/step - Precision: 0.7474 - Recall: 0.7126 - acc: 0.8064 - loss: 0.4089\n",
      "Epoch 66: val_loss improved from 0.42451 to 0.42439, saving model to ./models_temp/attention_best_model.h5\n"
     ]
    },
    {
     "name": "stderr",
     "output_type": "stream",
     "text": [
      "WARNING:absl:You are saving your model as an HDF5 file via `model.save()` or `keras.saving.save_model(model)`. This file format is considered legacy. We recommend using instead the native Keras format, e.g. `model.save('my_model.keras')` or `keras.saving.save_model(model, 'my_model.keras')`. \n",
      "WARNING:absl:You are saving your model as an HDF5 file via `model.save()` or `keras.saving.save_model(model)`. This file format is considered legacy. We recommend using instead the native Keras format, e.g. `model.save('my_model.keras')` or `keras.saving.save_model(model, 'my_model.keras')`. \n"
     ]
    },
    {
     "name": "stdout",
     "output_type": "stream",
     "text": [
      "\u001b[1m61/61\u001b[0m \u001b[32m━━━━━━━━━━━━━━━━━━━━\u001b[0m\u001b[37m\u001b[0m \u001b[1m1s\u001b[0m 10ms/step - Precision: 0.7471 - Recall: 0.7130 - acc: 0.8064 - loss: 0.4090 - val_Precision: 0.7362 - val_Recall: 0.7331 - val_acc: 0.8074 - val_loss: 0.4244\n",
      "Epoch 67/100\n",
      "\u001b[1m61/61\u001b[0m \u001b[32m━━━━━━━━━━━━━━━━━━━━\u001b[0m\u001b[37m\u001b[0m \u001b[1m0s\u001b[0m 5ms/step - Precision: 0.7298 - Recall: 0.7256 - acc: 0.8035 - loss: 0.4105\n",
      "Epoch 67: val_loss did not improve from 0.42439\n",
      "\u001b[1m61/61\u001b[0m \u001b[32m━━━━━━━━━━━━━━━━━━━━\u001b[0m\u001b[37m\u001b[0m \u001b[1m0s\u001b[0m 7ms/step - Precision: 0.7297 - Recall: 0.7257 - acc: 0.8035 - loss: 0.4104 - val_Precision: 0.7396 - val_Recall: 0.7273 - val_acc: 0.8077 - val_loss: 0.4281\n",
      "Epoch 68/100\n",
      "\u001b[1m52/61\u001b[0m \u001b[32m━━━━━━━━━━━━━━━━━\u001b[0m\u001b[37m━━━\u001b[0m \u001b[1m0s\u001b[0m 5ms/step - Precision: 0.7459 - Recall: 0.7313 - acc: 0.8124 - loss: 0.4050\n",
      "Epoch 68: val_loss improved from 0.42439 to 0.42245, saving model to ./models_temp/attention_best_model.h5\n"
     ]
    },
    {
     "name": "stderr",
     "output_type": "stream",
     "text": [
      "WARNING:absl:You are saving your model as an HDF5 file via `model.save()` or `keras.saving.save_model(model)`. This file format is considered legacy. We recommend using instead the native Keras format, e.g. `model.save('my_model.keras')` or `keras.saving.save_model(model, 'my_model.keras')`. \n",
      "WARNING:absl:You are saving your model as an HDF5 file via `model.save()` or `keras.saving.save_model(model)`. This file format is considered legacy. We recommend using instead the native Keras format, e.g. `model.save('my_model.keras')` or `keras.saving.save_model(model, 'my_model.keras')`. \n"
     ]
    },
    {
     "name": "stdout",
     "output_type": "stream",
     "text": [
      "\u001b[1m61/61\u001b[0m \u001b[32m━━━━━━━━━━━━━━━━━━━━\u001b[0m\u001b[37m\u001b[0m \u001b[1m1s\u001b[0m 12ms/step - Precision: 0.7447 - Recall: 0.7307 - acc: 0.8117 - loss: 0.4055 - val_Precision: 0.7529 - val_Recall: 0.7014 - val_acc: 0.8077 - val_loss: 0.4225\n",
      "Epoch 69/100\n",
      "\u001b[1m51/61\u001b[0m \u001b[32m━━━━━━━━━━━━━━━━\u001b[0m\u001b[37m━━━━\u001b[0m \u001b[1m0s\u001b[0m 5ms/step - Precision: 0.7748 - Recall: 0.7427 - acc: 0.8262 - loss: 0.3949\n",
      "Epoch 69: val_loss improved from 0.42245 to 0.42239, saving model to ./models_temp/attention_best_model.h5\n"
     ]
    },
    {
     "name": "stderr",
     "output_type": "stream",
     "text": [
      "WARNING:absl:You are saving your model as an HDF5 file via `model.save()` or `keras.saving.save_model(model)`. This file format is considered legacy. We recommend using instead the native Keras format, e.g. `model.save('my_model.keras')` or `keras.saving.save_model(model, 'my_model.keras')`. \n",
      "WARNING:absl:You are saving your model as an HDF5 file via `model.save()` or `keras.saving.save_model(model)`. This file format is considered legacy. We recommend using instead the native Keras format, e.g. `model.save('my_model.keras')` or `keras.saving.save_model(model, 'my_model.keras')`. \n"
     ]
    },
    {
     "name": "stdout",
     "output_type": "stream",
     "text": [
      "\u001b[1m61/61\u001b[0m \u001b[32m━━━━━━━━━━━━━━━━━━━━\u001b[0m\u001b[37m\u001b[0m \u001b[1m1s\u001b[0m 8ms/step - Precision: 0.7696 - Recall: 0.7403 - acc: 0.8237 - loss: 0.3973 - val_Precision: 0.7365 - val_Recall: 0.6947 - val_acc: 0.7986 - val_loss: 0.4224\n",
      "Epoch 70/100\n",
      "\u001b[1m54/61\u001b[0m \u001b[32m━━━━━━━━━━━━━━━━━\u001b[0m\u001b[37m━━━\u001b[0m \u001b[1m0s\u001b[0m 5ms/step - Precision: 0.7317 - Recall: 0.7192 - acc: 0.8077 - loss: 0.4038\n",
      "Epoch 70: val_loss improved from 0.42239 to 0.42199, saving model to ./models_temp/attention_best_model.h5\n"
     ]
    },
    {
     "name": "stderr",
     "output_type": "stream",
     "text": [
      "WARNING:absl:You are saving your model as an HDF5 file via `model.save()` or `keras.saving.save_model(model)`. This file format is considered legacy. We recommend using instead the native Keras format, e.g. `model.save('my_model.keras')` or `keras.saving.save_model(model, 'my_model.keras')`. \n",
      "WARNING:absl:You are saving your model as an HDF5 file via `model.save()` or `keras.saving.save_model(model)`. This file format is considered legacy. We recommend using instead the native Keras format, e.g. `model.save('my_model.keras')` or `keras.saving.save_model(model, 'my_model.keras')`. \n"
     ]
    },
    {
     "name": "stdout",
     "output_type": "stream",
     "text": [
      "\u001b[1m61/61\u001b[0m \u001b[32m━━━━━━━━━━━━━━━━━━━━\u001b[0m\u001b[37m\u001b[0m \u001b[1m1s\u001b[0m 8ms/step - Precision: 0.7321 - Recall: 0.7207 - acc: 0.8077 - loss: 0.4040 - val_Precision: 0.7322 - val_Recall: 0.7273 - val_acc: 0.8041 - val_loss: 0.4220\n",
      "Epoch 71/100\n",
      "\u001b[1m56/61\u001b[0m \u001b[32m━━━━━━━━━━━━━━━━━━\u001b[0m\u001b[37m━━\u001b[0m \u001b[1m0s\u001b[0m 6ms/step - Precision: 0.7513 - Recall: 0.7300 - acc: 0.8158 - loss: 0.3957\n",
      "Epoch 71: val_loss improved from 0.42199 to 0.42096, saving model to ./models_temp/attention_best_model.h5\n"
     ]
    },
    {
     "name": "stderr",
     "output_type": "stream",
     "text": [
      "WARNING:absl:You are saving your model as an HDF5 file via `model.save()` or `keras.saving.save_model(model)`. This file format is considered legacy. We recommend using instead the native Keras format, e.g. `model.save('my_model.keras')` or `keras.saving.save_model(model, 'my_model.keras')`. \n",
      "WARNING:absl:You are saving your model as an HDF5 file via `model.save()` or `keras.saving.save_model(model)`. This file format is considered legacy. We recommend using instead the native Keras format, e.g. `model.save('my_model.keras')` or `keras.saving.save_model(model, 'my_model.keras')`. \n"
     ]
    },
    {
     "name": "stdout",
     "output_type": "stream",
     "text": [
      "\u001b[1m61/61\u001b[0m \u001b[32m━━━━━━━━━━━━━━━━━━━━\u001b[0m\u001b[37m\u001b[0m \u001b[1m1s\u001b[0m 9ms/step - Precision: 0.7506 - Recall: 0.7295 - acc: 0.8153 - loss: 0.3970 - val_Precision: 0.7602 - val_Recall: 0.7114 - val_acc: 0.8135 - val_loss: 0.4210\n",
      "Epoch 72/100\n",
      "\u001b[1m61/61\u001b[0m \u001b[32m━━━━━━━━━━━━━━━━━━━━\u001b[0m\u001b[37m\u001b[0m \u001b[1m0s\u001b[0m 5ms/step - Precision: 0.7507 - Recall: 0.7433 - acc: 0.8208 - loss: 0.4001\n",
      "Epoch 72: val_loss improved from 0.42096 to 0.42062, saving model to ./models_temp/attention_best_model.h5\n"
     ]
    },
    {
     "name": "stderr",
     "output_type": "stream",
     "text": [
      "WARNING:absl:You are saving your model as an HDF5 file via `model.save()` or `keras.saving.save_model(model)`. This file format is considered legacy. We recommend using instead the native Keras format, e.g. `model.save('my_model.keras')` or `keras.saving.save_model(model, 'my_model.keras')`. \n",
      "WARNING:absl:You are saving your model as an HDF5 file via `model.save()` or `keras.saving.save_model(model)`. This file format is considered legacy. We recommend using instead the native Keras format, e.g. `model.save('my_model.keras')` or `keras.saving.save_model(model, 'my_model.keras')`. \n"
     ]
    },
    {
     "name": "stdout",
     "output_type": "stream",
     "text": [
      "\u001b[1m61/61\u001b[0m \u001b[32m━━━━━━━━━━━━━━━━━━━━\u001b[0m\u001b[37m\u001b[0m \u001b[1m1s\u001b[0m 9ms/step - Precision: 0.7505 - Recall: 0.7431 - acc: 0.8206 - loss: 0.4002 - val_Precision: 0.7536 - val_Recall: 0.6914 - val_acc: 0.8056 - val_loss: 0.4206\n",
      "Epoch 73/100\n",
      "\u001b[1m54/61\u001b[0m \u001b[32m━━━━━━━━━━━━━━━━━\u001b[0m\u001b[37m━━━\u001b[0m \u001b[1m0s\u001b[0m 5ms/step - Precision: 0.7482 - Recall: 0.7447 - acc: 0.8149 - loss: 0.4061\n",
      "Epoch 73: val_loss did not improve from 0.42062\n",
      "\u001b[1m61/61\u001b[0m \u001b[32m━━━━━━━━━━━━━━━━━━━━\u001b[0m\u001b[37m\u001b[0m \u001b[1m0s\u001b[0m 7ms/step - Precision: 0.7474 - Recall: 0.7442 - acc: 0.8148 - loss: 0.4058 - val_Precision: 0.7210 - val_Recall: 0.7306 - val_acc: 0.7992 - val_loss: 0.4270\n",
      "Epoch 74/100\n",
      "\u001b[1m50/61\u001b[0m \u001b[32m━━━━━━━━━━━━━━━━\u001b[0m\u001b[37m━━━━\u001b[0m \u001b[1m0s\u001b[0m 5ms/step - Precision: 0.7365 - Recall: 0.7452 - acc: 0.8097 - loss: 0.4037\n",
      "Epoch 74: val_loss did not improve from 0.42062\n",
      "\u001b[1m61/61\u001b[0m \u001b[32m━━━━━━━━━━━━━━━━━━━━\u001b[0m\u001b[37m\u001b[0m \u001b[1m0s\u001b[0m 7ms/step - Precision: 0.7358 - Recall: 0.7418 - acc: 0.8089 - loss: 0.4042 - val_Precision: 0.7258 - val_Recall: 0.7064 - val_acc: 0.7962 - val_loss: 0.4234\n",
      "Epoch 75/100\n",
      "\u001b[1m54/61\u001b[0m \u001b[32m━━━━━━━━━━━━━━━━━\u001b[0m\u001b[37m━━━\u001b[0m \u001b[1m0s\u001b[0m 5ms/step - Precision: 0.7482 - Recall: 0.7331 - acc: 0.8178 - loss: 0.3915\n",
      "Epoch 75: val_loss did not improve from 0.42062\n",
      "\u001b[1m61/61\u001b[0m \u001b[32m━━━━━━━━━━━━━━━━━━━━\u001b[0m\u001b[37m\u001b[0m \u001b[1m0s\u001b[0m 7ms/step - Precision: 0.7484 - Recall: 0.7327 - acc: 0.8175 - loss: 0.3927 - val_Precision: 0.7127 - val_Recall: 0.7698 - val_acc: 0.8035 - val_loss: 0.4228\n",
      "Epoch 76/100\n",
      "\u001b[1m52/61\u001b[0m \u001b[32m━━━━━━━━━━━━━━━━━\u001b[0m\u001b[37m━━━\u001b[0m \u001b[1m0s\u001b[0m 5ms/step - Precision: 0.7523 - Recall: 0.7149 - acc: 0.8142 - loss: 0.3945\n",
      "Epoch 76: val_loss did not improve from 0.42062\n",
      "\u001b[1m61/61\u001b[0m \u001b[32m━━━━━━━━━━━━━━━━━━━━\u001b[0m\u001b[37m\u001b[0m \u001b[1m0s\u001b[0m 7ms/step - Precision: 0.7515 - Recall: 0.7162 - acc: 0.8138 - loss: 0.3961 - val_Precision: 0.7247 - val_Recall: 0.7531 - val_acc: 0.8062 - val_loss: 0.4248\n",
      "Epoch 77/100\n",
      "\u001b[1m57/61\u001b[0m \u001b[32m━━━━━━━━━━━━━━━━━━\u001b[0m\u001b[37m━━\u001b[0m \u001b[1m0s\u001b[0m 6ms/step - Precision: 0.7273 - Recall: 0.7385 - acc: 0.8073 - loss: 0.4168\n",
      "Epoch 77: val_loss did not improve from 0.42062\n",
      "\u001b[1m61/61\u001b[0m \u001b[32m━━━━━━━━━━━━━━━━━━━━\u001b[0m\u001b[37m\u001b[0m \u001b[1m0s\u001b[0m 8ms/step - Precision: 0.7286 - Recall: 0.7383 - acc: 0.8077 - loss: 0.4160 - val_Precision: 0.7428 - val_Recall: 0.7106 - val_acc: 0.8053 - val_loss: 0.4301\n",
      "Epoch 78/100\n",
      "\u001b[1m60/61\u001b[0m \u001b[32m━━━━━━━━━━━━━━━━━━━\u001b[0m\u001b[37m━\u001b[0m \u001b[1m0s\u001b[0m 5ms/step - Precision: 0.7532 - Recall: 0.6942 - acc: 0.8092 - loss: 0.4211\n",
      "Epoch 78: val_loss did not improve from 0.42062\n",
      "\u001b[1m61/61\u001b[0m \u001b[32m━━━━━━━━━━━━━━━━━━━━\u001b[0m\u001b[37m\u001b[0m \u001b[1m0s\u001b[0m 7ms/step - Precision: 0.7531 - Recall: 0.6953 - acc: 0.8093 - loss: 0.4206 - val_Precision: 0.7365 - val_Recall: 0.7156 - val_acc: 0.8035 - val_loss: 0.4240\n",
      "Epoch 79/100\n",
      "\u001b[1m54/61\u001b[0m \u001b[32m━━━━━━━━━━━━━━━━━\u001b[0m\u001b[37m━━━\u001b[0m \u001b[1m0s\u001b[0m 5ms/step - Precision: 0.7626 - Recall: 0.7192 - acc: 0.8181 - loss: 0.3957\n",
      "Epoch 79: val_loss improved from 0.42062 to 0.41731, saving model to ./models_temp/attention_best_model.h5\n"
     ]
    },
    {
     "name": "stderr",
     "output_type": "stream",
     "text": [
      "WARNING:absl:You are saving your model as an HDF5 file via `model.save()` or `keras.saving.save_model(model)`. This file format is considered legacy. We recommend using instead the native Keras format, e.g. `model.save('my_model.keras')` or `keras.saving.save_model(model, 'my_model.keras')`. \n",
      "WARNING:absl:You are saving your model as an HDF5 file via `model.save()` or `keras.saving.save_model(model)`. This file format is considered legacy. We recommend using instead the native Keras format, e.g. `model.save('my_model.keras')` or `keras.saving.save_model(model, 'my_model.keras')`. \n"
     ]
    },
    {
     "name": "stdout",
     "output_type": "stream",
     "text": [
      "\u001b[1m61/61\u001b[0m \u001b[32m━━━━━━━━━━━━━━━━━━━━\u001b[0m\u001b[37m\u001b[0m \u001b[1m1s\u001b[0m 8ms/step - Precision: 0.7618 - Recall: 0.7196 - acc: 0.8178 - loss: 0.3962 - val_Precision: 0.7262 - val_Recall: 0.7631 - val_acc: 0.8092 - val_loss: 0.4173\n",
      "Epoch 80/100\n",
      "\u001b[1m55/61\u001b[0m \u001b[32m━━━━━━━━━━━━━━━━━━\u001b[0m\u001b[37m━━\u001b[0m \u001b[1m0s\u001b[0m 5ms/step - Precision: 0.7570 - Recall: 0.7380 - acc: 0.8190 - loss: 0.3907\n",
      "Epoch 80: val_loss improved from 0.41731 to 0.41731, saving model to ./models_temp/attention_best_model.h5\n"
     ]
    },
    {
     "name": "stderr",
     "output_type": "stream",
     "text": [
      "WARNING:absl:You are saving your model as an HDF5 file via `model.save()` or `keras.saving.save_model(model)`. This file format is considered legacy. We recommend using instead the native Keras format, e.g. `model.save('my_model.keras')` or `keras.saving.save_model(model, 'my_model.keras')`. \n",
      "WARNING:absl:You are saving your model as an HDF5 file via `model.save()` or `keras.saving.save_model(model)`. This file format is considered legacy. We recommend using instead the native Keras format, e.g. `model.save('my_model.keras')` or `keras.saving.save_model(model, 'my_model.keras')`. \n"
     ]
    },
    {
     "name": "stdout",
     "output_type": "stream",
     "text": [
      "\u001b[1m61/61\u001b[0m \u001b[32m━━━━━━━━━━━━━━━━━━━━\u001b[0m\u001b[37m\u001b[0m \u001b[1m1s\u001b[0m 8ms/step - Precision: 0.7553 - Recall: 0.7354 - acc: 0.8177 - loss: 0.3916 - val_Precision: 0.7391 - val_Recall: 0.7206 - val_acc: 0.8059 - val_loss: 0.4173\n",
      "Epoch 81/100\n",
      "\u001b[1m60/61\u001b[0m \u001b[32m━━━━━━━━━━━━━━━━━━━\u001b[0m\u001b[37m━\u001b[0m \u001b[1m0s\u001b[0m 5ms/step - Precision: 0.7480 - Recall: 0.7303 - acc: 0.8169 - loss: 0.3907\n",
      "Epoch 81: val_loss did not improve from 0.41731\n",
      "\u001b[1m61/61\u001b[0m \u001b[32m━━━━━━━━━━━━━━━━━━━━\u001b[0m\u001b[37m\u001b[0m \u001b[1m0s\u001b[0m 7ms/step - Precision: 0.7478 - Recall: 0.7302 - acc: 0.8166 - loss: 0.3911 - val_Precision: 0.7514 - val_Recall: 0.6731 - val_acc: 0.8001 - val_loss: 0.4210\n",
      "Epoch 82/100\n",
      "\u001b[1m52/61\u001b[0m \u001b[32m━━━━━━━━━━━━━━━━━\u001b[0m\u001b[37m━━━\u001b[0m \u001b[1m0s\u001b[0m 5ms/step - Precision: 0.7312 - Recall: 0.6726 - acc: 0.7949 - loss: 0.4100\n",
      "Epoch 82: val_loss did not improve from 0.41731\n",
      "\u001b[1m61/61\u001b[0m \u001b[32m━━━━━━━━━━━━━━━━━━━━\u001b[0m\u001b[37m\u001b[0m \u001b[1m0s\u001b[0m 7ms/step - Precision: 0.7334 - Recall: 0.6775 - acc: 0.7966 - loss: 0.4095 - val_Precision: 0.7211 - val_Recall: 0.7656 - val_acc: 0.8071 - val_loss: 0.4214\n",
      "Epoch 83/100\n",
      "\u001b[1m53/61\u001b[0m \u001b[32m━━━━━━━━━━━━━━━━━\u001b[0m\u001b[37m━━━\u001b[0m \u001b[1m0s\u001b[0m 5ms/step - Precision: 0.7382 - Recall: 0.7515 - acc: 0.8129 - loss: 0.3984\n",
      "Epoch 83: val_loss did not improve from 0.41731\n",
      "\u001b[1m61/61\u001b[0m \u001b[32m━━━━━━━━━━━━━━━━━━━━\u001b[0m\u001b[37m\u001b[0m \u001b[1m0s\u001b[0m 7ms/step - Precision: 0.7383 - Recall: 0.7478 - acc: 0.8122 - loss: 0.3996 - val_Precision: 0.7365 - val_Recall: 0.7481 - val_acc: 0.8110 - val_loss: 0.4240\n",
      "Epoch 84/100\n",
      "\u001b[1m53/61\u001b[0m \u001b[32m━━━━━━━━━━━━━━━━━\u001b[0m\u001b[37m━━━\u001b[0m \u001b[1m0s\u001b[0m 5ms/step - Precision: 0.7363 - Recall: 0.7532 - acc: 0.8126 - loss: 0.3992\n",
      "Epoch 84: val_loss did not improve from 0.41731\n",
      "\u001b[1m61/61\u001b[0m \u001b[32m━━━━━━━━━━━━━━━━━━━━\u001b[0m\u001b[37m\u001b[0m \u001b[1m0s\u001b[0m 7ms/step - Precision: 0.7369 - Recall: 0.7507 - acc: 0.8124 - loss: 0.3995 - val_Precision: 0.7143 - val_Recall: 0.7798 - val_acc: 0.8065 - val_loss: 0.4197\n",
      "Epoch 85/100\n",
      "\u001b[1m51/61\u001b[0m \u001b[32m━━━━━━━━━━━━━━━━\u001b[0m\u001b[37m━━━━\u001b[0m \u001b[1m0s\u001b[0m 5ms/step - Precision: 0.7443 - Recall: 0.7564 - acc: 0.8213 - loss: 0.3891\n",
      "Epoch 85: val_loss did not improve from 0.41731\n",
      "\u001b[1m61/61\u001b[0m \u001b[32m━━━━━━━━━━━━━━━━━━━━\u001b[0m\u001b[37m\u001b[0m \u001b[1m0s\u001b[0m 8ms/step - Precision: 0.7445 - Recall: 0.7514 - acc: 0.8197 - loss: 0.3921 - val_Precision: 0.7133 - val_Recall: 0.7615 - val_acc: 0.8019 - val_loss: 0.4204\n",
      "Epoch 86/100\n",
      "\u001b[1m52/61\u001b[0m \u001b[32m━━━━━━━━━━━━━━━━━\u001b[0m\u001b[37m━━━\u001b[0m \u001b[1m0s\u001b[0m 5ms/step - Precision: 0.7374 - Recall: 0.7319 - acc: 0.8131 - loss: 0.4011\n",
      "Epoch 86: val_loss did not improve from 0.41731\n",
      "\u001b[1m61/61\u001b[0m \u001b[32m━━━━━━━━━━━━━━━━━━━━\u001b[0m\u001b[37m\u001b[0m \u001b[1m0s\u001b[0m 7ms/step - Precision: 0.7384 - Recall: 0.7317 - acc: 0.8129 - loss: 0.4014 - val_Precision: 0.7270 - val_Recall: 0.7373 - val_acc: 0.8038 - val_loss: 0.4199\n",
      "Epoch 87/100\n",
      "\u001b[1m57/61\u001b[0m \u001b[32m━━━━━━━━━━━━━━━━━━\u001b[0m\u001b[37m━━\u001b[0m \u001b[1m0s\u001b[0m 6ms/step - Precision: 0.7473 - Recall: 0.6808 - acc: 0.8046 - loss: 0.4037\n",
      "Epoch 87: val_loss did not improve from 0.41731\n",
      "\u001b[1m61/61\u001b[0m \u001b[32m━━━━━━━━━━━━━━━━━━━━\u001b[0m\u001b[37m\u001b[0m \u001b[1m0s\u001b[0m 8ms/step - Precision: 0.7467 - Recall: 0.6835 - acc: 0.8048 - loss: 0.4036 - val_Precision: 0.7293 - val_Recall: 0.7415 - val_acc: 0.8059 - val_loss: 0.4198\n",
      "Epoch 88/100\n",
      "\u001b[1m54/61\u001b[0m \u001b[32m━━━━━━━━━━━━━━━━━\u001b[0m\u001b[37m━━━\u001b[0m \u001b[1m0s\u001b[0m 5ms/step - Precision: 0.7573 - Recall: 0.7274 - acc: 0.8153 - loss: 0.4058\n",
      "Epoch 88: val_loss did not improve from 0.41731\n",
      "\u001b[1m61/61\u001b[0m \u001b[32m━━━━━━━━━━━━━━━━━━━━\u001b[0m\u001b[37m\u001b[0m \u001b[1m0s\u001b[0m 7ms/step - Precision: 0.7569 - Recall: 0.7269 - acc: 0.8153 - loss: 0.4058 - val_Precision: 0.7189 - val_Recall: 0.7765 - val_acc: 0.8083 - val_loss: 0.4241\n",
      "Epoch 89/100\n",
      "\u001b[1m55/61\u001b[0m \u001b[32m━━━━━━━━━━━━━━━━━━\u001b[0m\u001b[37m━━\u001b[0m \u001b[1m0s\u001b[0m 5ms/step - Precision: 0.7280 - Recall: 0.7108 - acc: 0.8044 - loss: 0.4034\n",
      "Epoch 89: val_loss did not improve from 0.41731\n",
      "\u001b[1m61/61\u001b[0m \u001b[32m━━━━━━━━━━━━━━━━━━━━\u001b[0m\u001b[37m\u001b[0m \u001b[1m0s\u001b[0m 6ms/step - Precision: 0.7299 - Recall: 0.7114 - acc: 0.8050 - loss: 0.4027 - val_Precision: 0.7166 - val_Recall: 0.7865 - val_acc: 0.8092 - val_loss: 0.4211\n",
      "Epoch 90/100\n",
      "\u001b[1m54/61\u001b[0m \u001b[32m━━━━━━━━━━━━━━━━━\u001b[0m\u001b[37m━━━\u001b[0m \u001b[1m0s\u001b[0m 5ms/step - Precision: 0.7231 - Recall: 0.7413 - acc: 0.8035 - loss: 0.4144\n",
      "Epoch 90: val_loss did not improve from 0.41731\n",
      "\u001b[1m61/61\u001b[0m \u001b[32m━━━━━━━━━━━━━━━━━━━━\u001b[0m\u001b[37m\u001b[0m \u001b[1m0s\u001b[0m 7ms/step - Precision: 0.7247 - Recall: 0.7398 - acc: 0.8040 - loss: 0.4138 - val_Precision: 0.7166 - val_Recall: 0.7656 - val_acc: 0.8047 - val_loss: 0.4185\n",
      "Epoch 90: early stopping\n",
      "Restoring model weights from the end of the best epoch: 80.\n"
     ]
    },
    {
     "name": "stderr",
     "output_type": "stream",
     "text": [
      "2025/05/02 19:06:43 WARNING mlflow.tensorflow: Failed to infer model signature: could not sample data to infer model signature: Cannot log input example or model signature for input with type <class 'pandas.core.frame.DataFrame'>. TensorFlow Keras autologging can only log input examples and model signatures for the following input types: numpy.ndarray, dict[string -> numpy.ndarray], tensorflow.keras.utils.Sequence, and tensorflow.data.Dataset (TensorFlow >= 2.1.0 required)\n",
      "2025/05/02 19:06:43 WARNING mlflow.tensorflow: You are saving a TensorFlow Core model or Keras model without a signature. Inference with mlflow.pyfunc.spark_udf() will not work unless the model's pyfunc representation accepts pandas DataFrames as inference inputs.\n",
      "2025/05/02 19:06:48 WARNING mlflow.models.model: Model logged without a signature and input example. Please set `input_example` parameter when logging the model to auto infer the model signature.\n"
     ]
    },
    {
     "name": "stdout",
     "output_type": "stream",
     "text": [
      "\u001b[1m104/104\u001b[0m \u001b[32m━━━━━━━━━━━━━━━━━━━━\u001b[0m\u001b[37m\u001b[0m \u001b[1m0s\u001b[0m 1ms/step - Precision: 0.7392 - Recall: 0.7204 - acc: 0.8088 - loss: 0.4185\n"
     ]
    },
    {
     "data": {
      "text/plain": [
       "[0.4173050820827484,\n",
       " 0.8058841228485107,\n",
       " 0.7206004858016968,\n",
       " 0.7390932440757751]"
      ]
     },
     "execution_count": 37,
     "metadata": {},
     "output_type": "execute_result"
    }
   ],
   "source": [
    "from tensorflow.keras.layers import Input, Dense, Dropout, BatchNormalization, MultiHeadAttention, Flatten, GlobalAveragePooling1D, Reshape\n",
    "from tensorflow.keras.models import Model\n",
    "\n",
    "#\n",
    "with mlflow.start_run(run_name='AttentionMechanisim'):#mlflow\n",
    "    mlflow.tensorflow.autolog()#mlflow    \n",
    "    n_input = X_train.shape[1]\n",
    "    # Model\n",
    "    # 定義模型\n",
    "    input_layer = Input(shape=(n_input,))\n",
    "    x = BatchNormalization()(input_layer)\n",
    "    x = Dense(128, activation='relu')(x)\n",
    "    x = Dropout(0.1)(x)\n",
    "    # Reshape 輸入，以便進行注意力機制（將它變成三維張量）\n",
    "    x = Reshape((1, 128))(x)  # 假設每個樣本有 128 個特徵，這樣就會有 1 個時間步\n",
    "    # 添加多頭注意力層\n",
    "    x_attention = MultiHeadAttention(num_heads=4, key_dim=32)(x, x)  # query, key 和 value 都是 x\n",
    "    x_attention = Dropout(0.1)(x_attention)\n",
    "    # 將注意力層的輸出展平\n",
    "    x_flattened = Flatten()(x_attention)\n",
    "    # 經過展平後的處理\n",
    "    x = Dense(128, activation='relu')(x_flattened)\n",
    "    x = Dropout(0.1)(x)\n",
    "    output = Dense(1, activation='sigmoid')(x)\n",
    "\n",
    "\n",
    "    # Model\n",
    "    model = Model(inputs=input_layer, outputs=output)\n",
    "    model.summary()\n",
    "    # 模型optimizer 和 learning rate\n",
    "    initial_lr = 0.001\n",
    "    from tensorflow.keras.optimizers import schedules\n",
    "    lr_schedule = schedules.ExponentialDecay(\n",
    "        initial_learning_rate=initial_lr,\n",
    "        decay_steps=100000,\n",
    "        decay_rate=0.96,\n",
    "        staircase=True)\n",
    "    from tensorflow.keras.optimizers import Adam\n",
    "    optimizer = Adam(learning_rate=lr_schedule)\n",
    "\n",
    "    model.compile(loss='bce', optimizer=optimizer, metrics=['acc', 'Recall', 'Precision'])\n",
    "    # EarlyStopping: 根據 val_loss 停止訓練\n",
    "    early_stop = EarlyStopping(monitor='val_loss', patience=10, verbose=1, restore_best_weights=True)\n",
    "    # ModelCheckpoint: 儲存最佳模型\n",
    "    checkpoint = ModelCheckpoint('./models_temp/attention_best_model.h5', monitor='val_loss', save_best_only=True, verbose=1)\n",
    "    history = model.fit(X_train, y_train, validation_data=(X_test, y_test), epochs=200, batch_size=128, verbose=1, callbacks=[early_stop, checkpoint])\n",
    "\n",
    "    # 評估模型\n",
    "    model.evaluate(X_test, y_test)"
   ]
  },
  {
   "cell_type": "code",
   "execution_count": 38,
   "id": "83d24b27",
   "metadata": {},
   "outputs": [
    {
     "data": {
      "image/png": "[encoded data removed]",
      "text/plain": [
       "<Figure size 640x480 with 1 Axes>"
      ]
     },
     "metadata": {},
     "output_type": "display_data"
    },
    {
     "data": {
      "image/png": "[encoded data removed]",
      "text/plain": [
       "<Figure size 640x480 with 1 Axes>"
      ]
     },
     "metadata": {},
     "output_type": "display_data"
    }
   ],
   "source": [
    "import matplotlib.pyplot as plt\n",
    "\n",
    "# Loss 曲線\n",
    "plt.plot(history.history['loss'], label='Train Loss')\n",
    "plt.plot(history.history['val_loss'], label='Validation Loss')\n",
    "plt.xlabel('Epochs')\n",
    "plt.ylabel('Loss')\n",
    "plt.legend()\n",
    "plt.title('Loss over epochs')\n",
    "plt.show()\n",
    "\n",
    "# Accuracy 曲線\n",
    "plt.plot(history.history['acc'], label='Train Accuracy')\n",
    "plt.plot(history.history['val_acc'], label='Validation Accuracy')\n",
    "plt.xlabel('Epochs')\n",
    "plt.ylabel('Accuracy')\n",
    "plt.legend()\n",
    "plt.title('Accuracy over epochs')\n",
    "plt.show()"
   ]
  },
  {
   "cell_type": "code",
   "execution_count": 39,
   "id": "3827d00b",
   "metadata": {},
   "outputs": [
    {
     "name": "stdout",
     "output_type": "stream",
     "text": [
      "\u001b[1m104/104\u001b[0m \u001b[32m━━━━━━━━━━━━━━━━━━━━\u001b[0m\u001b[37m\u001b[0m \u001b[1m0s\u001b[0m 1ms/step\n"
     ]
    },
    {
     "data": {
      "image/png": "[encoded data removed]",
      "text/plain": [
       "<Figure size 600x600 with 2 Axes>"
      ]
     },
     "metadata": {},
     "output_type": "display_data"
    },
    {
     "name": "stdout",
     "output_type": "stream",
     "text": [
      "Classification Report:\n",
      "\n",
      "              precision    recall  f1-score   support\n",
      "\n",
      "           0     0.8426    0.8546    0.8486      2098\n",
      "           1     0.7391    0.7206    0.7297      1199\n",
      "\n",
      "    accuracy                         0.8059      3297\n",
      "   macro avg     0.7908    0.7876    0.7891      3297\n",
      "weighted avg     0.8049    0.8059    0.8053      3297\n",
      "\n"
     ]
    }
   ],
   "source": [
    "from sklearn.metrics import confusion_matrix\n",
    "import seaborn as sns\n",
    "import matplotlib.pyplot as plt\n",
    "\n",
    "# 預測結果\n",
    "y_pred = model.predict(X_test)\n",
    "y_pred_class = (y_pred > 0.5).astype(int)  # 轉換為二分類結果\n",
    "\n",
    "# 計算混淆矩陣\n",
    "cm_a = confusion_matrix(y_test, y_pred_class)\n",
    "\n",
    "# 繪製混淆矩陣\n",
    "plt.figure(figsize=(6, 6))\n",
    "sns.heatmap(cm_a, annot=True, fmt='d', cmap='Blues', xticklabels=[0, 1], yticklabels=[0, 1])\n",
    "plt.xlabel(\"Predicted\")\n",
    "plt.ylabel(\"Actual\")\n",
    "plt.title(\"Confusion Matrix\")\n",
    "plt.show()\n",
    "\n",
    "# classification report\n",
    "print(\"Classification Report:\\n\")\n",
    "print(classification_report(y_test, y_pred_class, digits=4))"
   ]
  },
  {
   "cell_type": "code",
   "execution_count": null,
   "id": "11e0966a",
   "metadata": {},
   "outputs": [],
   "source": []
  }
 ],
 "metadata": {
  "kernelspec": {
   "display_name": "Python 3",
   "language": "python",
   "name": "python3"
  },
  "language_info": {
   "codemirror_mode": {
    "name": "ipython",
    "version": 3
   },
   "file_extension": ".py",
   "mimetype": "text/x-python",
   "name": "python",
   "nbconvert_exporter": "python",
   "pygments_lexer": "ipython3",
   "version": "3.11.9"
  }
 },
 "nbformat": 4,
 "nbformat_minor": 5
}
