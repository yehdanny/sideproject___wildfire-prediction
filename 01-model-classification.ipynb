{
 "cells": [
  {
   "cell_type": "code",
   "execution_count": 1,
   "id": "250c3ea3-6f2f-458c-9ae7-9dea44ba5c47",
   "metadata": {},
   "outputs": [],
   "source": [
    "import pandas as pd\n",
    "import numpy as np\n",
    "import datetime\n",
    "import time\n",
    "\n",
    "from sklearn.model_selection import train_test_split, GridSearchCV\n",
    "from sklearn.pipeline import Pipeline\n",
    "from sklearn.preprocessing import StandardScaler\n",
    "from sklearn.linear_model import LinearRegression, LogisticRegression\n",
    "from sklearn.ensemble import RandomForestClassifier, VotingClassifier, AdaBoostClassifier, GradientBoostingClassifier\n",
    "from sklearn.neighbors import KNeighborsClassifier\n",
    "from sklearn.naive_bayes import MultinomialNB\n",
    "from sklearn import metrics\n",
    "\n",
    "from xgboost import XGBRegressor\n",
    "\n",
    "from tensorflow.keras.models import Sequential\n",
    "from tensorflow.keras.layers import Dense, Dropout, BatchNormalization\n",
    "from tensorflow.keras.callbacks import EarlyStopping\n",
    "from tensorflow.keras.regularizers import l1, l2, l1_l2\n",
    "\n",
    "%matplotlib inline"
   ]
  },
  {
   "cell_type": "markdown",
   "id": "e66d9f16-e599-4efc-a78a-91077e180fe0",
   "metadata": {},
   "source": [
    "### Data\n",
    "---"
   ]
  },
  {
   "cell_type": "code",
   "execution_count": 2,
   "id": "e54d3c3d-5a8e-4846-ab47-4f5c374b9857",
   "metadata": {},
   "outputs": [],
   "source": [
    "df = pd.read_csv('./data/combined.csv')"
   ]
  },
  {
   "cell_type": "code",
   "execution_count": 3,
   "id": "74234481-2c74-46ef-8b53-84a6a682d6e9",
   "metadata": {},
   "outputs": [
    {
     "data": {
      "text/html": [
       "<div>\n",
       "<style scoped>\n",
       "    .dataframe tbody tr th:only-of-type {\n",
       "        vertical-align: middle;\n",
       "    }\n",
       "\n",
       "    .dataframe tbody tr th {\n",
       "        vertical-align: top;\n",
       "    }\n",
       "\n",
       "    .dataframe thead th {\n",
       "        text-align: right;\n",
       "    }\n",
       "</style>\n",
       "<table border=\"1\" class=\"dataframe\">\n",
       "  <thead>\n",
       "    <tr style=\"text-align: right;\">\n",
       "      <th></th>\n",
       "      <th>date</th>\n",
       "      <th>county</th>\n",
       "      <th>maxtempF</th>\n",
       "      <th>mintempF</th>\n",
       "      <th>avgtempF</th>\n",
       "      <th>totalSnow</th>\n",
       "      <th>humid</th>\n",
       "      <th>wind</th>\n",
       "      <th>precip</th>\n",
       "      <th>q_avgtempF</th>\n",
       "      <th>q_avghumid</th>\n",
       "      <th>q_sumprecip</th>\n",
       "      <th>sunHour</th>\n",
       "      <th>FIRE_NAME</th>\n",
       "      <th>CAUSE</th>\n",
       "      <th>lat</th>\n",
       "      <th>long</th>\n",
       "      <th>GIS_ACRES</th>\n",
       "    </tr>\n",
       "  </thead>\n",
       "  <tbody>\n",
       "    <tr>\n",
       "      <th>0</th>\n",
       "      <td>2008-07</td>\n",
       "      <td>Santa Barbara County</td>\n",
       "      <td>89.129032</td>\n",
       "      <td>59.709677</td>\n",
       "      <td>80.548387</td>\n",
       "      <td>0.0</td>\n",
       "      <td>41.451613</td>\n",
       "      <td>7.354839</td>\n",
       "      <td>0.0</td>\n",
       "      <td>72.937634</td>\n",
       "      <td>34.079570</td>\n",
       "      <td>0.010000</td>\n",
       "      <td>13.164516</td>\n",
       "      <td>no_fire</td>\n",
       "      <td>0.0</td>\n",
       "      <td>34.54</td>\n",
       "      <td>-120.04</td>\n",
       "      <td>0.000000</td>\n",
       "    </tr>\n",
       "    <tr>\n",
       "      <th>1</th>\n",
       "      <td>2008-07</td>\n",
       "      <td>Calaveras County</td>\n",
       "      <td>96.419355</td>\n",
       "      <td>51.290323</td>\n",
       "      <td>87.032258</td>\n",
       "      <td>0.0</td>\n",
       "      <td>33.580645</td>\n",
       "      <td>5.387097</td>\n",
       "      <td>0.0</td>\n",
       "      <td>65.217204</td>\n",
       "      <td>38.434409</td>\n",
       "      <td>0.068065</td>\n",
       "      <td>14.022581</td>\n",
       "      <td>SERPENTINE</td>\n",
       "      <td>1.0</td>\n",
       "      <td>38.18</td>\n",
       "      <td>-120.56</td>\n",
       "      <td>176.763400</td>\n",
       "    </tr>\n",
       "    <tr>\n",
       "      <th>2</th>\n",
       "      <td>2008-07</td>\n",
       "      <td>Calaveras County</td>\n",
       "      <td>96.419355</td>\n",
       "      <td>51.290323</td>\n",
       "      <td>87.032258</td>\n",
       "      <td>0.0</td>\n",
       "      <td>33.580645</td>\n",
       "      <td>5.387097</td>\n",
       "      <td>0.0</td>\n",
       "      <td>65.217204</td>\n",
       "      <td>38.434409</td>\n",
       "      <td>0.068065</td>\n",
       "      <td>14.022581</td>\n",
       "      <td>POOL 2 - MAIN</td>\n",
       "      <td>10.0</td>\n",
       "      <td>38.18</td>\n",
       "      <td>-120.56</td>\n",
       "      <td>73.444778</td>\n",
       "    </tr>\n",
       "    <tr>\n",
       "      <th>3</th>\n",
       "      <td>2008-07</td>\n",
       "      <td>Calaveras County</td>\n",
       "      <td>96.419355</td>\n",
       "      <td>51.290323</td>\n",
       "      <td>87.032258</td>\n",
       "      <td>0.0</td>\n",
       "      <td>33.580645</td>\n",
       "      <td>5.387097</td>\n",
       "      <td>0.0</td>\n",
       "      <td>65.217204</td>\n",
       "      <td>38.434409</td>\n",
       "      <td>0.068065</td>\n",
       "      <td>14.022581</td>\n",
       "      <td>FRENCH</td>\n",
       "      <td>14.0</td>\n",
       "      <td>38.18</td>\n",
       "      <td>-120.56</td>\n",
       "      <td>101.074150</td>\n",
       "    </tr>\n",
       "    <tr>\n",
       "      <th>4</th>\n",
       "      <td>2008-07</td>\n",
       "      <td>Calaveras County</td>\n",
       "      <td>96.419355</td>\n",
       "      <td>51.290323</td>\n",
       "      <td>87.032258</td>\n",
       "      <td>0.0</td>\n",
       "      <td>33.580645</td>\n",
       "      <td>5.387097</td>\n",
       "      <td>0.0</td>\n",
       "      <td>65.217204</td>\n",
       "      <td>38.434409</td>\n",
       "      <td>0.068065</td>\n",
       "      <td>14.022581</td>\n",
       "      <td>EVANS</td>\n",
       "      <td>6.0</td>\n",
       "      <td>38.18</td>\n",
       "      <td>-120.56</td>\n",
       "      <td>103.968050</td>\n",
       "    </tr>\n",
       "  </tbody>\n",
       "</table>\n",
       "</div>"
      ],
      "text/plain": [
       "      date                county   maxtempF   mintempF   avgtempF  totalSnow  \\\n",
       "0  2008-07  Santa Barbara County  89.129032  59.709677  80.548387        0.0   \n",
       "1  2008-07      Calaveras County  96.419355  51.290323  87.032258        0.0   \n",
       "2  2008-07      Calaveras County  96.419355  51.290323  87.032258        0.0   \n",
       "3  2008-07      Calaveras County  96.419355  51.290323  87.032258        0.0   \n",
       "4  2008-07      Calaveras County  96.419355  51.290323  87.032258        0.0   \n",
       "\n",
       "       humid      wind  precip  q_avgtempF  q_avghumid  q_sumprecip  \\\n",
       "0  41.451613  7.354839     0.0   72.937634   34.079570     0.010000   \n",
       "1  33.580645  5.387097     0.0   65.217204   38.434409     0.068065   \n",
       "2  33.580645  5.387097     0.0   65.217204   38.434409     0.068065   \n",
       "3  33.580645  5.387097     0.0   65.217204   38.434409     0.068065   \n",
       "4  33.580645  5.387097     0.0   65.217204   38.434409     0.068065   \n",
       "\n",
       "     sunHour       FIRE_NAME  CAUSE    lat    long   GIS_ACRES  \n",
       "0  13.164516         no_fire    0.0  34.54 -120.04    0.000000  \n",
       "1  14.022581      SERPENTINE    1.0  38.18 -120.56  176.763400  \n",
       "2  14.022581  POOL 2 - MAIN    10.0  38.18 -120.56   73.444778  \n",
       "3  14.022581          FRENCH   14.0  38.18 -120.56  101.074150  \n",
       "4  14.022581           EVANS    6.0  38.18 -120.56  103.968050  "
      ]
     },
     "execution_count": 3,
     "metadata": {},
     "output_type": "execute_result"
    }
   ],
   "source": [
    "df.head()"
   ]
  },
  {
   "cell_type": "code",
   "execution_count": 4,
   "id": "c7605f37-1c0d-4c65-b158-b724353ebed1",
   "metadata": {},
   "outputs": [],
   "source": [
    "df = df.drop(columns=['FIRE_NAME', 'lat', 'long'])"
   ]
  },
  {
   "cell_type": "code",
   "execution_count": 5,
   "id": "753548e6-d868-436b-b281-aeb31d529ba5",
   "metadata": {},
   "outputs": [
    {
     "data": {
      "text/html": [
       "<div>\n",
       "<style scoped>\n",
       "    .dataframe tbody tr th:only-of-type {\n",
       "        vertical-align: middle;\n",
       "    }\n",
       "\n",
       "    .dataframe tbody tr th {\n",
       "        vertical-align: top;\n",
       "    }\n",
       "\n",
       "    .dataframe thead th {\n",
       "        text-align: right;\n",
       "    }\n",
       "</style>\n",
       "<table border=\"1\" class=\"dataframe\">\n",
       "  <thead>\n",
       "    <tr style=\"text-align: right;\">\n",
       "      <th></th>\n",
       "      <th>date</th>\n",
       "      <th>county</th>\n",
       "      <th>maxtempF</th>\n",
       "      <th>mintempF</th>\n",
       "      <th>avgtempF</th>\n",
       "      <th>totalSnow</th>\n",
       "      <th>humid</th>\n",
       "      <th>wind</th>\n",
       "      <th>precip</th>\n",
       "      <th>q_avgtempF</th>\n",
       "      <th>q_avghumid</th>\n",
       "      <th>q_sumprecip</th>\n",
       "      <th>sunHour</th>\n",
       "      <th>CAUSE</th>\n",
       "      <th>GIS_ACRES</th>\n",
       "      <th>bool</th>\n",
       "    </tr>\n",
       "  </thead>\n",
       "  <tbody>\n",
       "    <tr>\n",
       "      <th>0</th>\n",
       "      <td>2008-07</td>\n",
       "      <td>Santa Barbara County</td>\n",
       "      <td>89.129032</td>\n",
       "      <td>59.709677</td>\n",
       "      <td>80.548387</td>\n",
       "      <td>0.0</td>\n",
       "      <td>41.451613</td>\n",
       "      <td>7.354839</td>\n",
       "      <td>0.0</td>\n",
       "      <td>72.937634</td>\n",
       "      <td>34.07957</td>\n",
       "      <td>0.01</td>\n",
       "      <td>13.164516</td>\n",
       "      <td>0.0</td>\n",
       "      <td>0.0</td>\n",
       "      <td>0</td>\n",
       "    </tr>\n",
       "  </tbody>\n",
       "</table>\n",
       "</div>"
      ],
      "text/plain": [
       "      date                county   maxtempF   mintempF   avgtempF  totalSnow  \\\n",
       "0  2008-07  Santa Barbara County  89.129032  59.709677  80.548387        0.0   \n",
       "\n",
       "       humid      wind  precip  q_avgtempF  q_avghumid  q_sumprecip  \\\n",
       "0  41.451613  7.354839     0.0   72.937634    34.07957         0.01   \n",
       "\n",
       "     sunHour  CAUSE  GIS_ACRES  bool  \n",
       "0  13.164516    0.0        0.0     0  "
      ]
     },
     "execution_count": 5,
     "metadata": {},
     "output_type": "execute_result"
    }
   ],
   "source": [
    "df['bool'] = (df['GIS_ACRES'] > 0) * 1\n",
    "df.head(1)"
   ]
  },
  {
   "cell_type": "code",
   "execution_count": 6,
   "id": "8882bd35-ee47-40d0-9888-a52b31ebc265",
   "metadata": {},
   "outputs": [
    {
     "data": {
      "text/html": [
       "<div>\n",
       "<style scoped>\n",
       "    .dataframe tbody tr th:only-of-type {\n",
       "        vertical-align: middle;\n",
       "    }\n",
       "\n",
       "    .dataframe tbody tr th {\n",
       "        vertical-align: top;\n",
       "    }\n",
       "\n",
       "    .dataframe thead th {\n",
       "        text-align: right;\n",
       "    }\n",
       "</style>\n",
       "<table border=\"1\" class=\"dataframe\">\n",
       "  <thead>\n",
       "    <tr style=\"text-align: right;\">\n",
       "      <th></th>\n",
       "      <th>date</th>\n",
       "      <th>county</th>\n",
       "      <th>maxtempF</th>\n",
       "      <th>mintempF</th>\n",
       "      <th>avgtempF</th>\n",
       "      <th>totalSnow</th>\n",
       "      <th>humid</th>\n",
       "      <th>wind</th>\n",
       "      <th>precip</th>\n",
       "      <th>q_avgtempF</th>\n",
       "      <th>q_avghumid</th>\n",
       "      <th>q_sumprecip</th>\n",
       "      <th>sunHour</th>\n",
       "      <th>CAUSE</th>\n",
       "      <th>GIS_ACRES</th>\n",
       "      <th>bool</th>\n",
       "    </tr>\n",
       "  </thead>\n",
       "  <tbody>\n",
       "    <tr>\n",
       "      <th>0</th>\n",
       "      <td>[2008, 07]</td>\n",
       "      <td>Santa Barbara County</td>\n",
       "      <td>89.129032</td>\n",
       "      <td>59.709677</td>\n",
       "      <td>80.548387</td>\n",
       "      <td>0.0</td>\n",
       "      <td>41.451613</td>\n",
       "      <td>7.354839</td>\n",
       "      <td>0.0</td>\n",
       "      <td>72.937634</td>\n",
       "      <td>34.07957</td>\n",
       "      <td>0.01</td>\n",
       "      <td>13.164516</td>\n",
       "      <td>0.0</td>\n",
       "      <td>0.0</td>\n",
       "      <td>0</td>\n",
       "    </tr>\n",
       "  </tbody>\n",
       "</table>\n",
       "</div>"
      ],
      "text/plain": [
       "         date                county   maxtempF   mintempF   avgtempF  \\\n",
       "0  [2008, 07]  Santa Barbara County  89.129032  59.709677  80.548387   \n",
       "\n",
       "   totalSnow      humid      wind  precip  q_avgtempF  q_avghumid  \\\n",
       "0        0.0  41.451613  7.354839     0.0   72.937634    34.07957   \n",
       "\n",
       "   q_sumprecip    sunHour  CAUSE  GIS_ACRES  bool  \n",
       "0         0.01  13.164516    0.0        0.0     0  "
      ]
     },
     "execution_count": 6,
     "metadata": {},
     "output_type": "execute_result"
    }
   ],
   "source": [
    "df['date'] = [x.split('-') for x in df['date']]\n",
    "df.head(1)"
   ]
  },
  {
   "cell_type": "code",
   "execution_count": 7,
   "id": "8a2bd009-ab33-4f71-a04d-e764d1994a1b",
   "metadata": {},
   "outputs": [
    {
     "data": {
      "text/html": [
       "<div>\n",
       "<style scoped>\n",
       "    .dataframe tbody tr th:only-of-type {\n",
       "        vertical-align: middle;\n",
       "    }\n",
       "\n",
       "    .dataframe tbody tr th {\n",
       "        vertical-align: top;\n",
       "    }\n",
       "\n",
       "    .dataframe thead th {\n",
       "        text-align: right;\n",
       "    }\n",
       "</style>\n",
       "<table border=\"1\" class=\"dataframe\">\n",
       "  <thead>\n",
       "    <tr style=\"text-align: right;\">\n",
       "      <th></th>\n",
       "      <th>date</th>\n",
       "      <th>county</th>\n",
       "      <th>maxtempF</th>\n",
       "      <th>mintempF</th>\n",
       "      <th>avgtempF</th>\n",
       "      <th>totalSnow</th>\n",
       "      <th>humid</th>\n",
       "      <th>wind</th>\n",
       "      <th>precip</th>\n",
       "      <th>q_avgtempF</th>\n",
       "      <th>q_avghumid</th>\n",
       "      <th>q_sumprecip</th>\n",
       "      <th>sunHour</th>\n",
       "      <th>CAUSE</th>\n",
       "      <th>GIS_ACRES</th>\n",
       "      <th>bool</th>\n",
       "      <th>year</th>\n",
       "    </tr>\n",
       "  </thead>\n",
       "  <tbody>\n",
       "    <tr>\n",
       "      <th>0</th>\n",
       "      <td>[2008, 07]</td>\n",
       "      <td>Santa Barbara County</td>\n",
       "      <td>89.129032</td>\n",
       "      <td>59.709677</td>\n",
       "      <td>80.548387</td>\n",
       "      <td>0.0</td>\n",
       "      <td>41.451613</td>\n",
       "      <td>7.354839</td>\n",
       "      <td>0.0</td>\n",
       "      <td>72.937634</td>\n",
       "      <td>34.07957</td>\n",
       "      <td>0.01</td>\n",
       "      <td>13.164516</td>\n",
       "      <td>0.0</td>\n",
       "      <td>0.0</td>\n",
       "      <td>0</td>\n",
       "      <td>2008</td>\n",
       "    </tr>\n",
       "  </tbody>\n",
       "</table>\n",
       "</div>"
      ],
      "text/plain": [
       "         date                county   maxtempF   mintempF   avgtempF  \\\n",
       "0  [2008, 07]  Santa Barbara County  89.129032  59.709677  80.548387   \n",
       "\n",
       "   totalSnow      humid      wind  precip  q_avgtempF  q_avghumid  \\\n",
       "0        0.0  41.451613  7.354839     0.0   72.937634    34.07957   \n",
       "\n",
       "   q_sumprecip    sunHour  CAUSE  GIS_ACRES  bool  year  \n",
       "0         0.01  13.164516    0.0        0.0     0  2008  "
      ]
     },
     "execution_count": 7,
     "metadata": {},
     "output_type": "execute_result"
    }
   ],
   "source": [
    "df['year'] = [int(x[0]) for x in df['date']]\n",
    "df.head(1)"
   ]
  },
  {
   "cell_type": "code",
   "execution_count": 8,
   "id": "5a61f7ac-cee6-4645-aeb6-198ee32c8098",
   "metadata": {},
   "outputs": [
    {
     "data": {
      "text/html": [
       "<div>\n",
       "<style scoped>\n",
       "    .dataframe tbody tr th:only-of-type {\n",
       "        vertical-align: middle;\n",
       "    }\n",
       "\n",
       "    .dataframe tbody tr th {\n",
       "        vertical-align: top;\n",
       "    }\n",
       "\n",
       "    .dataframe thead th {\n",
       "        text-align: right;\n",
       "    }\n",
       "</style>\n",
       "<table border=\"1\" class=\"dataframe\">\n",
       "  <thead>\n",
       "    <tr style=\"text-align: right;\">\n",
       "      <th></th>\n",
       "      <th>date</th>\n",
       "      <th>county</th>\n",
       "      <th>maxtempF</th>\n",
       "      <th>mintempF</th>\n",
       "      <th>avgtempF</th>\n",
       "      <th>totalSnow</th>\n",
       "      <th>humid</th>\n",
       "      <th>wind</th>\n",
       "      <th>precip</th>\n",
       "      <th>q_avgtempF</th>\n",
       "      <th>q_avghumid</th>\n",
       "      <th>q_sumprecip</th>\n",
       "      <th>sunHour</th>\n",
       "      <th>CAUSE</th>\n",
       "      <th>GIS_ACRES</th>\n",
       "      <th>bool</th>\n",
       "      <th>year</th>\n",
       "      <th>month</th>\n",
       "    </tr>\n",
       "  </thead>\n",
       "  <tbody>\n",
       "    <tr>\n",
       "      <th>0</th>\n",
       "      <td>[2008, 07]</td>\n",
       "      <td>Santa Barbara County</td>\n",
       "      <td>89.129032</td>\n",
       "      <td>59.709677</td>\n",
       "      <td>80.548387</td>\n",
       "      <td>0.0</td>\n",
       "      <td>41.451613</td>\n",
       "      <td>7.354839</td>\n",
       "      <td>0.0</td>\n",
       "      <td>72.937634</td>\n",
       "      <td>34.07957</td>\n",
       "      <td>0.01</td>\n",
       "      <td>13.164516</td>\n",
       "      <td>0.0</td>\n",
       "      <td>0.0</td>\n",
       "      <td>0</td>\n",
       "      <td>2008</td>\n",
       "      <td>7</td>\n",
       "    </tr>\n",
       "  </tbody>\n",
       "</table>\n",
       "</div>"
      ],
      "text/plain": [
       "         date                county   maxtempF   mintempF   avgtempF  \\\n",
       "0  [2008, 07]  Santa Barbara County  89.129032  59.709677  80.548387   \n",
       "\n",
       "   totalSnow      humid      wind  precip  q_avgtempF  q_avghumid  \\\n",
       "0        0.0  41.451613  7.354839     0.0   72.937634    34.07957   \n",
       "\n",
       "   q_sumprecip    sunHour  CAUSE  GIS_ACRES  bool  year  month  \n",
       "0         0.01  13.164516    0.0        0.0     0  2008      7  "
      ]
     },
     "execution_count": 8,
     "metadata": {},
     "output_type": "execute_result"
    }
   ],
   "source": [
    "df['month'] = [int(x[1]) for x in df['date']]\n",
    "df.head(1)"
   ]
  },
  {
   "cell_type": "code",
   "execution_count": 9,
   "id": "c9597054-c05e-4096-ac0c-de65abad7015",
   "metadata": {},
   "outputs": [
    {
     "data": {
      "text/plain": [
       "(10988, 18)"
      ]
     },
     "execution_count": 9,
     "metadata": {},
     "output_type": "execute_result"
    }
   ],
   "source": [
    "df.shape"
   ]
  },
  {
   "cell_type": "code",
   "execution_count": 10,
   "id": "18ccd776-ef23-47d7-875c-47ce34e5c03a",
   "metadata": {},
   "outputs": [
    {
     "data": {
      "text/html": [
       "<div>\n",
       "<style scoped>\n",
       "    .dataframe tbody tr th:only-of-type {\n",
       "        vertical-align: middle;\n",
       "    }\n",
       "\n",
       "    .dataframe tbody tr th {\n",
       "        vertical-align: top;\n",
       "    }\n",
       "\n",
       "    .dataframe thead th {\n",
       "        text-align: right;\n",
       "    }\n",
       "</style>\n",
       "<table border=\"1\" class=\"dataframe\">\n",
       "  <thead>\n",
       "    <tr style=\"text-align: right;\">\n",
       "      <th></th>\n",
       "      <th>date</th>\n",
       "      <th>county</th>\n",
       "      <th>maxtempF</th>\n",
       "      <th>mintempF</th>\n",
       "      <th>avgtempF</th>\n",
       "      <th>totalSnow</th>\n",
       "      <th>humid</th>\n",
       "      <th>wind</th>\n",
       "      <th>precip</th>\n",
       "      <th>q_avgtempF</th>\n",
       "      <th>q_avghumid</th>\n",
       "      <th>q_sumprecip</th>\n",
       "      <th>sunHour</th>\n",
       "      <th>CAUSE</th>\n",
       "      <th>GIS_ACRES</th>\n",
       "      <th>bool</th>\n",
       "      <th>year</th>\n",
       "      <th>month</th>\n",
       "    </tr>\n",
       "  </thead>\n",
       "  <tbody>\n",
       "    <tr>\n",
       "      <th>0</th>\n",
       "      <td>[2008, 07]</td>\n",
       "      <td>Santa Barbara County</td>\n",
       "      <td>89.129032</td>\n",
       "      <td>59.709677</td>\n",
       "      <td>80.548387</td>\n",
       "      <td>0.0</td>\n",
       "      <td>41.451613</td>\n",
       "      <td>7.354839</td>\n",
       "      <td>0.0</td>\n",
       "      <td>72.937634</td>\n",
       "      <td>34.07957</td>\n",
       "      <td>0.01</td>\n",
       "      <td>13.164516</td>\n",
       "      <td>0.0</td>\n",
       "      <td>0.0</td>\n",
       "      <td>0</td>\n",
       "      <td>2008</td>\n",
       "      <td>7</td>\n",
       "    </tr>\n",
       "  </tbody>\n",
       "</table>\n",
       "</div>"
      ],
      "text/plain": [
       "         date                county   maxtempF   mintempF   avgtempF  \\\n",
       "0  [2008, 07]  Santa Barbara County  89.129032  59.709677  80.548387   \n",
       "\n",
       "   totalSnow      humid      wind  precip  q_avgtempF  q_avghumid  \\\n",
       "0        0.0  41.451613  7.354839     0.0   72.937634    34.07957   \n",
       "\n",
       "   q_sumprecip    sunHour  CAUSE  GIS_ACRES  bool  year  month  \n",
       "0         0.01  13.164516    0.0        0.0     0  2008      7  "
      ]
     },
     "execution_count": 10,
     "metadata": {},
     "output_type": "execute_result"
    }
   ],
   "source": [
    "df_dummy = pd.get_dummies(df, columns=['month'])\n",
    "df.head(1)"
   ]
  },
  {
   "cell_type": "code",
   "execution_count": 11,
   "id": "fcf1d470",
   "metadata": {},
   "outputs": [
    {
     "data": {
      "text/html": [
       "<div>\n",
       "<style scoped>\n",
       "    .dataframe tbody tr th:only-of-type {\n",
       "        vertical-align: middle;\n",
       "    }\n",
       "\n",
       "    .dataframe tbody tr th {\n",
       "        vertical-align: top;\n",
       "    }\n",
       "\n",
       "    .dataframe thead th {\n",
       "        text-align: right;\n",
       "    }\n",
       "</style>\n",
       "<table border=\"1\" class=\"dataframe\">\n",
       "  <thead>\n",
       "    <tr style=\"text-align: right;\">\n",
       "      <th></th>\n",
       "      <th>date</th>\n",
       "      <th>county</th>\n",
       "      <th>maxtempF</th>\n",
       "      <th>mintempF</th>\n",
       "      <th>avgtempF</th>\n",
       "      <th>totalSnow</th>\n",
       "      <th>humid</th>\n",
       "      <th>wind</th>\n",
       "      <th>precip</th>\n",
       "      <th>q_avgtempF</th>\n",
       "      <th>...</th>\n",
       "      <th>month_3</th>\n",
       "      <th>month_4</th>\n",
       "      <th>month_5</th>\n",
       "      <th>month_6</th>\n",
       "      <th>month_7</th>\n",
       "      <th>month_8</th>\n",
       "      <th>month_9</th>\n",
       "      <th>month_10</th>\n",
       "      <th>month_11</th>\n",
       "      <th>month_12</th>\n",
       "    </tr>\n",
       "  </thead>\n",
       "  <tbody>\n",
       "    <tr>\n",
       "      <th>0</th>\n",
       "      <td>[2008, 07]</td>\n",
       "      <td>Santa Barbara County</td>\n",
       "      <td>89.129032</td>\n",
       "      <td>59.709677</td>\n",
       "      <td>80.548387</td>\n",
       "      <td>0.0</td>\n",
       "      <td>41.451613</td>\n",
       "      <td>7.354839</td>\n",
       "      <td>0.0</td>\n",
       "      <td>72.937634</td>\n",
       "      <td>...</td>\n",
       "      <td>False</td>\n",
       "      <td>False</td>\n",
       "      <td>False</td>\n",
       "      <td>False</td>\n",
       "      <td>True</td>\n",
       "      <td>False</td>\n",
       "      <td>False</td>\n",
       "      <td>False</td>\n",
       "      <td>False</td>\n",
       "      <td>False</td>\n",
       "    </tr>\n",
       "  </tbody>\n",
       "</table>\n",
       "<p>1 rows × 29 columns</p>\n",
       "</div>"
      ],
      "text/plain": [
       "         date                county   maxtempF   mintempF   avgtempF  \\\n",
       "0  [2008, 07]  Santa Barbara County  89.129032  59.709677  80.548387   \n",
       "\n",
       "   totalSnow      humid      wind  precip  q_avgtempF  ...  month_3  month_4  \\\n",
       "0        0.0  41.451613  7.354839     0.0   72.937634  ...    False    False   \n",
       "\n",
       "   month_5  month_6  month_7  month_8  month_9  month_10  month_11  month_12  \n",
       "0    False    False     True    False    False     False     False     False  \n",
       "\n",
       "[1 rows x 29 columns]"
      ]
     },
     "execution_count": 11,
     "metadata": {},
     "output_type": "execute_result"
    }
   ],
   "source": [
    "df_dummy.head(1)"
   ]
  },
  {
   "cell_type": "code",
   "execution_count": 12,
   "id": "bdd6355d-e1f4-40fb-aef9-9763193f6ef2",
   "metadata": {},
   "outputs": [],
   "source": [
    "# test = ['2008', '07']\n",
    "# datetime.datetime(int(test[0]), int(test[1]), 1).timestamp()"
   ]
  },
  {
   "cell_type": "code",
   "execution_count": 13,
   "id": "ef641c33-7dbe-433d-bda1-a9383d8d7590",
   "metadata": {},
   "outputs": [
    {
     "name": "stdout",
     "output_type": "stream",
     "text": [
      "<class 'pandas.core.frame.DataFrame'>\n",
      "RangeIndex: 10988 entries, 0 to 10987\n",
      "Data columns (total 29 columns):\n",
      " #   Column       Non-Null Count  Dtype  \n",
      "---  ------       --------------  -----  \n",
      " 0   date         10988 non-null  object \n",
      " 1   county       10988 non-null  object \n",
      " 2   maxtempF     10988 non-null  float64\n",
      " 3   mintempF     10988 non-null  float64\n",
      " 4   avgtempF     10988 non-null  float64\n",
      " 5   totalSnow    10988 non-null  float64\n",
      " 6   humid        10988 non-null  float64\n",
      " 7   wind         10988 non-null  float64\n",
      " 8   precip       10988 non-null  float64\n",
      " 9   q_avgtempF   10988 non-null  float64\n",
      " 10  q_avghumid   10988 non-null  float64\n",
      " 11  q_sumprecip  10988 non-null  float64\n",
      " 12  sunHour      10988 non-null  float64\n",
      " 13  CAUSE        10988 non-null  float64\n",
      " 14  GIS_ACRES    10988 non-null  float64\n",
      " 15  bool         10988 non-null  int64  \n",
      " 16  year         10988 non-null  int64  \n",
      " 17  month_1      10988 non-null  bool   \n",
      " 18  month_2      10988 non-null  bool   \n",
      " 19  month_3      10988 non-null  bool   \n",
      " 20  month_4      10988 non-null  bool   \n",
      " 21  month_5      10988 non-null  bool   \n",
      " 22  month_6      10988 non-null  bool   \n",
      " 23  month_7      10988 non-null  bool   \n",
      " 24  month_8      10988 non-null  bool   \n",
      " 25  month_9      10988 non-null  bool   \n",
      " 26  month_10     10988 non-null  bool   \n",
      " 27  month_11     10988 non-null  bool   \n",
      " 28  month_12     10988 non-null  bool   \n",
      "dtypes: bool(12), float64(13), int64(2), object(2)\n",
      "memory usage: 1.6+ MB\n"
     ]
    }
   ],
   "source": [
    "df_dummy.info()"
   ]
  },
  {
   "cell_type": "code",
   "execution_count": 14,
   "id": "54132a6c-61dd-4c4f-bad4-942ffa5b6c17",
   "metadata": {},
   "outputs": [
    {
     "data": {
      "text/html": [
       "<div>\n",
       "<style scoped>\n",
       "    .dataframe tbody tr th:only-of-type {\n",
       "        vertical-align: middle;\n",
       "    }\n",
       "\n",
       "    .dataframe tbody tr th {\n",
       "        vertical-align: top;\n",
       "    }\n",
       "\n",
       "    .dataframe thead th {\n",
       "        text-align: right;\n",
       "    }\n",
       "</style>\n",
       "<table border=\"1\" class=\"dataframe\">\n",
       "  <thead>\n",
       "    <tr style=\"text-align: right;\">\n",
       "      <th></th>\n",
       "      <th>date</th>\n",
       "      <th>county</th>\n",
       "      <th>maxtempF</th>\n",
       "      <th>mintempF</th>\n",
       "      <th>avgtempF</th>\n",
       "      <th>totalSnow</th>\n",
       "      <th>humid</th>\n",
       "      <th>wind</th>\n",
       "      <th>precip</th>\n",
       "      <th>q_avgtempF</th>\n",
       "      <th>...</th>\n",
       "      <th>month_3</th>\n",
       "      <th>month_4</th>\n",
       "      <th>month_5</th>\n",
       "      <th>month_6</th>\n",
       "      <th>month_7</th>\n",
       "      <th>month_8</th>\n",
       "      <th>month_9</th>\n",
       "      <th>month_10</th>\n",
       "      <th>month_11</th>\n",
       "      <th>month_12</th>\n",
       "    </tr>\n",
       "  </thead>\n",
       "  <tbody>\n",
       "    <tr>\n",
       "      <th>0</th>\n",
       "      <td>[2008, 07]</td>\n",
       "      <td>Santa Barbara County</td>\n",
       "      <td>89.129032</td>\n",
       "      <td>59.709677</td>\n",
       "      <td>80.548387</td>\n",
       "      <td>0.0</td>\n",
       "      <td>41.451613</td>\n",
       "      <td>7.354839</td>\n",
       "      <td>0.0</td>\n",
       "      <td>72.937634</td>\n",
       "      <td>...</td>\n",
       "      <td>False</td>\n",
       "      <td>False</td>\n",
       "      <td>False</td>\n",
       "      <td>False</td>\n",
       "      <td>True</td>\n",
       "      <td>False</td>\n",
       "      <td>False</td>\n",
       "      <td>False</td>\n",
       "      <td>False</td>\n",
       "      <td>False</td>\n",
       "    </tr>\n",
       "    <tr>\n",
       "      <th>1</th>\n",
       "      <td>[2008, 07]</td>\n",
       "      <td>Calaveras County</td>\n",
       "      <td>96.419355</td>\n",
       "      <td>51.290323</td>\n",
       "      <td>87.032258</td>\n",
       "      <td>0.0</td>\n",
       "      <td>33.580645</td>\n",
       "      <td>5.387097</td>\n",
       "      <td>0.0</td>\n",
       "      <td>65.217204</td>\n",
       "      <td>...</td>\n",
       "      <td>False</td>\n",
       "      <td>False</td>\n",
       "      <td>False</td>\n",
       "      <td>False</td>\n",
       "      <td>True</td>\n",
       "      <td>False</td>\n",
       "      <td>False</td>\n",
       "      <td>False</td>\n",
       "      <td>False</td>\n",
       "      <td>False</td>\n",
       "    </tr>\n",
       "    <tr>\n",
       "      <th>2</th>\n",
       "      <td>[2008, 07]</td>\n",
       "      <td>Calaveras County</td>\n",
       "      <td>96.419355</td>\n",
       "      <td>51.290323</td>\n",
       "      <td>87.032258</td>\n",
       "      <td>0.0</td>\n",
       "      <td>33.580645</td>\n",
       "      <td>5.387097</td>\n",
       "      <td>0.0</td>\n",
       "      <td>65.217204</td>\n",
       "      <td>...</td>\n",
       "      <td>False</td>\n",
       "      <td>False</td>\n",
       "      <td>False</td>\n",
       "      <td>False</td>\n",
       "      <td>True</td>\n",
       "      <td>False</td>\n",
       "      <td>False</td>\n",
       "      <td>False</td>\n",
       "      <td>False</td>\n",
       "      <td>False</td>\n",
       "    </tr>\n",
       "    <tr>\n",
       "      <th>3</th>\n",
       "      <td>[2008, 07]</td>\n",
       "      <td>Calaveras County</td>\n",
       "      <td>96.419355</td>\n",
       "      <td>51.290323</td>\n",
       "      <td>87.032258</td>\n",
       "      <td>0.0</td>\n",
       "      <td>33.580645</td>\n",
       "      <td>5.387097</td>\n",
       "      <td>0.0</td>\n",
       "      <td>65.217204</td>\n",
       "      <td>...</td>\n",
       "      <td>False</td>\n",
       "      <td>False</td>\n",
       "      <td>False</td>\n",
       "      <td>False</td>\n",
       "      <td>True</td>\n",
       "      <td>False</td>\n",
       "      <td>False</td>\n",
       "      <td>False</td>\n",
       "      <td>False</td>\n",
       "      <td>False</td>\n",
       "    </tr>\n",
       "    <tr>\n",
       "      <th>4</th>\n",
       "      <td>[2008, 07]</td>\n",
       "      <td>Calaveras County</td>\n",
       "      <td>96.419355</td>\n",
       "      <td>51.290323</td>\n",
       "      <td>87.032258</td>\n",
       "      <td>0.0</td>\n",
       "      <td>33.580645</td>\n",
       "      <td>5.387097</td>\n",
       "      <td>0.0</td>\n",
       "      <td>65.217204</td>\n",
       "      <td>...</td>\n",
       "      <td>False</td>\n",
       "      <td>False</td>\n",
       "      <td>False</td>\n",
       "      <td>False</td>\n",
       "      <td>True</td>\n",
       "      <td>False</td>\n",
       "      <td>False</td>\n",
       "      <td>False</td>\n",
       "      <td>False</td>\n",
       "      <td>False</td>\n",
       "    </tr>\n",
       "  </tbody>\n",
       "</table>\n",
       "<p>5 rows × 29 columns</p>\n",
       "</div>"
      ],
      "text/plain": [
       "         date                county   maxtempF   mintempF   avgtempF  \\\n",
       "0  [2008, 07]  Santa Barbara County  89.129032  59.709677  80.548387   \n",
       "1  [2008, 07]      Calaveras County  96.419355  51.290323  87.032258   \n",
       "2  [2008, 07]      Calaveras County  96.419355  51.290323  87.032258   \n",
       "3  [2008, 07]      Calaveras County  96.419355  51.290323  87.032258   \n",
       "4  [2008, 07]      Calaveras County  96.419355  51.290323  87.032258   \n",
       "\n",
       "   totalSnow      humid      wind  precip  q_avgtempF  ...  month_3  month_4  \\\n",
       "0        0.0  41.451613  7.354839     0.0   72.937634  ...    False    False   \n",
       "1        0.0  33.580645  5.387097     0.0   65.217204  ...    False    False   \n",
       "2        0.0  33.580645  5.387097     0.0   65.217204  ...    False    False   \n",
       "3        0.0  33.580645  5.387097     0.0   65.217204  ...    False    False   \n",
       "4        0.0  33.580645  5.387097     0.0   65.217204  ...    False    False   \n",
       "\n",
       "   month_5  month_6  month_7  month_8  month_9  month_10  month_11  month_12  \n",
       "0    False    False     True    False    False     False     False     False  \n",
       "1    False    False     True    False    False     False     False     False  \n",
       "2    False    False     True    False    False     False     False     False  \n",
       "3    False    False     True    False    False     False     False     False  \n",
       "4    False    False     True    False    False     False     False     False  \n",
       "\n",
       "[5 rows x 29 columns]"
      ]
     },
     "execution_count": 14,
     "metadata": {},
     "output_type": "execute_result"
    }
   ],
   "source": [
    "df_dummy.head()"
   ]
  },
  {
   "cell_type": "markdown",
   "id": "74a7547f-0440-49d7-97c4-86b2f78c868b",
   "metadata": {},
   "source": [
    "### Classification\n",
    "---"
   ]
  },
  {
   "cell_type": "code",
   "execution_count": 15,
   "id": "9964fafa-e2d0-455f-849b-e1e52ab7f692",
   "metadata": {},
   "outputs": [],
   "source": [
    "X = df_dummy.drop(columns=['GIS_ACRES', 'date', 'q_avgtempF', 'q_avghumid', 'q_sumprecip', 'maxtempF', 'mintempF', 'CAUSE', 'bool', 'county'])\n",
    "y = df_dummy['bool']\n",
    "\n",
    "X_train, X_test, y_train, y_test = train_test_split(X, y, random_state=42, test_size=0.3)"
   ]
  },
  {
   "cell_type": "code",
   "execution_count": 16,
   "id": "25acb2f5-098d-4102-9c44-9a197c123a82",
   "metadata": {},
   "outputs": [
    {
     "data": {
      "text/plain": [
       "bool\n",
       "0    0.638424\n",
       "1    0.361576\n",
       "Name: proportion, dtype: float64"
      ]
     },
     "execution_count": 16,
     "metadata": {},
     "output_type": "execute_result"
    }
   ],
   "source": [
    "df['bool'].value_counts(normalize=True) #Unbalanced data"
   ]
  },
  {
   "cell_type": "markdown",
   "id": "6ade8769",
   "metadata": {},
   "source": [
    "## mlflow\n",
    "\n",
    "import mlflow"
   ]
  },
  {
   "cell_type": "code",
   "execution_count": 17,
   "id": "3ca6b83e",
   "metadata": {},
   "outputs": [
    {
     "data": {
      "text/plain": [
       "<Experiment: artifact_location='file:///c:/Users/ygz08/Desktop/Git/localgit/MLOPs/Predictable_wildfire/mlruns/805848653222892541', creation_time=1746175907264, experiment_id='805848653222892541', last_update_time=1746175907264, lifecycle_stage='active', name='wildfire-prediction', tags={}>"
      ]
     },
     "execution_count": 17,
     "metadata": {},
     "output_type": "execute_result"
    }
   ],
   "source": [
    "import mlflow\n",
    "from mlflow.tracking.client import MlflowClient\n",
    "mlflow.set_experiment(\"wildfire-prediction\")"
   ]
  },
  {
   "cell_type": "markdown",
   "id": "c0b93b8c",
   "metadata": {},
   "source": [
    "## 羅吉斯回歸"
   ]
  },
  {
   "cell_type": "code",
   "execution_count": 18,
   "id": "d4876001",
   "metadata": {},
   "outputs": [
    {
     "name": "stderr",
     "output_type": "stream",
     "text": [
      "C:\\Users\\ygz08\\AppData\\Local\\Packages\\PythonSoftwareFoundation.Python.3.11_qbz5n2kfra8p0\\LocalCache\\local-packages\\Python311\\site-packages\\sklearn\\linear_model\\_logistic.py:465: ConvergenceWarning: lbfgs failed to converge (status=1):\n",
      "STOP: TOTAL NO. OF ITERATIONS REACHED LIMIT.\n",
      "\n",
      "Increase the number of iterations (max_iter) or scale the data as shown in:\n",
      "    https://scikit-learn.org/stable/modules/preprocessing.html\n",
      "Please also refer to the documentation for alternative solver options:\n",
      "    https://scikit-learn.org/stable/modules/linear_model.html#logistic-regression\n",
      "  n_iter_i = _check_optimize_result(\n"
     ]
    },
    {
     "name": "stdout",
     "output_type": "stream",
     "text": [
      "Model saved in run 5084c6bd37594f3e8c12feacc6ec553c\n",
      "Train score: 0.7434663892861787\n",
      "Test score: 0.7573551713679102\n"
     ]
    },
    {
     "name": "stderr",
     "output_type": "stream",
     "text": [
      "2025/05/02 21:41:18 WARNING mlflow.models.model: Model logged without a signature and input example. Please set `input_example` parameter when logging the model to auto infer the model signature.\n",
      "Successfully registered model 'LogisticRegression-model'.\n",
      "Created version '1' of model 'LogisticRegression-model'.\n"
     ]
    }
   ],
   "source": [
    "from sklearn.linear_model import LogisticRegression\n",
    "\n",
    "with mlflow.start_run(run_name='LogisticRegression'):#mlflow\n",
    "    mlflow.tensorflow.autolog()#mlflow\n",
    "    max_iter=1000 \n",
    "    #mlflow.log_param(\"max_iter\", max_iter) #mlflow紀錄參數n_estimators\n",
    "# 方法四：使用 class_weight='balanced'\n",
    "    log_reg = LogisticRegression(max_iter=max_iter, class_weight='balanced')\n",
    "    log_reg.fit(X_train, y_train)\n",
    "    run_id = mlflow.active_run().info.run_id#mlflow\n",
    "    print(f\"Model saved in run {run_id}\")#mlflow\n",
    "    \n",
    "\n",
    "    # 檢查訓練與測試分數\n",
    "    print(\"Train score:\", log_reg.score(X_train, y_train))\n",
    "    print(\"Test score:\", log_reg.score(X_test, y_test))\n",
    "\n",
    "    mlflow.log_metric(\"Train score\", log_reg.score(X_train, y_train))#mlflow\n",
    "    mlflow.log_metric(\"Test score\", log_reg.score(X_test, y_test))#mlflow\n",
    "\n",
    "\n",
    "    # 存檔模型mlflow\n",
    "    model_name = \"LogisticRegression-model\"\n",
    "    mlflow.sklearn.log_model(     #mlflow.sklearn.log_model() #紀錄sklearn模型\n",
    "        sk_model=log_reg, \n",
    "        artifact_path=\"LogisticRegression-model\",\n",
    "        registered_model_name=model_name,  #\n",
    "    )\n",
    "\n"
   ]
  },
  {
   "cell_type": "code",
   "execution_count": 19,
   "id": "82a321c5",
   "metadata": {},
   "outputs": [],
   "source": [
    "#description=\"Logistic Regression model with class_weight='balanced'\"\n"
   ]
  },
  {
   "cell_type": "markdown",
   "id": "a80c81dc",
   "metadata": {},
   "source": [
    "###  羅吉斯回歸-混淆矩陣"
   ]
  },
  {
   "cell_type": "code",
   "execution_count": 20,
   "id": "e2cf4943",
   "metadata": {},
   "outputs": [
    {
     "data": {
      "image/png": "[encoded data removed]",
      "text/plain": [
       "<Figure size 640x480 with 2 Axes>"
      ]
     },
     "metadata": {},
     "output_type": "display_data"
    },
    {
     "name": "stdout",
     "output_type": "stream",
     "text": [
      "Classification Report:\n",
      "\n",
      "              precision    recall  f1-score   support\n",
      "\n",
      "           0     0.8778    0.7188    0.7904      2098\n",
      "           1     0.6263    0.8249    0.7120      1199\n",
      "\n",
      "    accuracy                         0.7574      3297\n",
      "   macro avg     0.7521    0.7718    0.7512      3297\n",
      "weighted avg     0.7863    0.7574    0.7619      3297\n",
      "\n"
     ]
    }
   ],
   "source": [
    "from sklearn.linear_model import LogisticRegression\n",
    "from sklearn.metrics import confusion_matrix, classification_report\n",
    "import matplotlib.pyplot as plt\n",
    "import seaborn as sns\n",
    "\n",
    "y_pred = log_reg.predict(X_test)\n",
    "\n",
    "# 混淆矩陣\n",
    "cm = confusion_matrix(y_test, y_pred)\n",
    "sns.heatmap(cm, annot=True, fmt='d', cmap='Blues', xticklabels=[0,1], yticklabels=[0,1])\n",
    "plt.xlabel(\"Predicted\")\n",
    "plt.ylabel(\"Actual\")\n",
    "plt.title(\"Confusion Matrix\")\n",
    "plt.show()\n",
    "\n",
    "# classification report（包含 precision, recall, f1-score）\n",
    "print(\"Classification Report:\\n\")\n",
    "print(classification_report(y_test, y_pred, digits=4))"
   ]
  },
  {
   "cell_type": "code",
   "execution_count": 21,
   "id": "513588e1-7dd0-49b8-be16-d26a13e9f9e3",
   "metadata": {},
   "outputs": [],
   "source": [
    "pd.set_option('display.max_row', None)"
   ]
  },
  {
   "cell_type": "code",
   "execution_count": 22,
   "id": "ff5f8af5-b3c6-455b-a5e1-df59e1d3087d",
   "metadata": {},
   "outputs": [
    {
     "data": {
      "text/html": [
       "<div>\n",
       "<style scoped>\n",
       "    .dataframe tbody tr th:only-of-type {\n",
       "        vertical-align: middle;\n",
       "    }\n",
       "\n",
       "    .dataframe tbody tr th {\n",
       "        vertical-align: top;\n",
       "    }\n",
       "\n",
       "    .dataframe thead th {\n",
       "        text-align: right;\n",
       "    }\n",
       "</style>\n",
       "<table border=\"1\" class=\"dataframe\">\n",
       "  <thead>\n",
       "    <tr style=\"text-align: right;\">\n",
       "      <th></th>\n",
       "      <th>0</th>\n",
       "    </tr>\n",
       "  </thead>\n",
       "  <tbody>\n",
       "    <tr>\n",
       "      <th>month_8</th>\n",
       "      <td>1.088163</td>\n",
       "    </tr>\n",
       "    <tr>\n",
       "      <th>month_11</th>\n",
       "      <td>0.647992</td>\n",
       "    </tr>\n",
       "    <tr>\n",
       "      <th>month_9</th>\n",
       "      <td>0.551165</td>\n",
       "    </tr>\n",
       "    <tr>\n",
       "      <th>sunHour</th>\n",
       "      <td>0.542979</td>\n",
       "    </tr>\n",
       "    <tr>\n",
       "      <th>month_12</th>\n",
       "      <td>0.468268</td>\n",
       "    </tr>\n",
       "    <tr>\n",
       "      <th>month_7</th>\n",
       "      <td>0.265440</td>\n",
       "    </tr>\n",
       "    <tr>\n",
       "      <th>month_10</th>\n",
       "      <td>0.086014</td>\n",
       "    </tr>\n",
       "    <tr>\n",
       "      <th>totalSnow</th>\n",
       "      <td>0.009221</td>\n",
       "    </tr>\n",
       "    <tr>\n",
       "      <th>year</th>\n",
       "      <td>-0.001591</td>\n",
       "    </tr>\n",
       "    <tr>\n",
       "      <th>avgtempF</th>\n",
       "      <td>-0.006095</td>\n",
       "    </tr>\n",
       "    <tr>\n",
       "      <th>humid</th>\n",
       "      <td>-0.025933</td>\n",
       "    </tr>\n",
       "    <tr>\n",
       "      <th>wind</th>\n",
       "      <td>-0.269691</td>\n",
       "    </tr>\n",
       "    <tr>\n",
       "      <th>month_6</th>\n",
       "      <td>-0.278308</td>\n",
       "    </tr>\n",
       "    <tr>\n",
       "      <th>month_4</th>\n",
       "      <td>-0.373681</td>\n",
       "    </tr>\n",
       "    <tr>\n",
       "      <th>precip</th>\n",
       "      <td>-0.439664</td>\n",
       "    </tr>\n",
       "    <tr>\n",
       "      <th>month_5</th>\n",
       "      <td>-0.451514</td>\n",
       "    </tr>\n",
       "    <tr>\n",
       "      <th>month_1</th>\n",
       "      <td>-0.524014</td>\n",
       "    </tr>\n",
       "    <tr>\n",
       "      <th>month_3</th>\n",
       "      <td>-0.597550</td>\n",
       "    </tr>\n",
       "    <tr>\n",
       "      <th>month_2</th>\n",
       "      <td>-0.917220</td>\n",
       "    </tr>\n",
       "  </tbody>\n",
       "</table>\n",
       "</div>"
      ],
      "text/plain": [
       "                  0\n",
       "month_8    1.088163\n",
       "month_11   0.647992\n",
       "month_9    0.551165\n",
       "sunHour    0.542979\n",
       "month_12   0.468268\n",
       "month_7    0.265440\n",
       "month_10   0.086014\n",
       "totalSnow  0.009221\n",
       "year      -0.001591\n",
       "avgtempF  -0.006095\n",
       "humid     -0.025933\n",
       "wind      -0.269691\n",
       "month_6   -0.278308\n",
       "month_4   -0.373681\n",
       "precip    -0.439664\n",
       "month_5   -0.451514\n",
       "month_1   -0.524014\n",
       "month_3   -0.597550\n",
       "month_2   -0.917220"
      ]
     },
     "execution_count": 22,
     "metadata": {},
     "output_type": "execute_result"
    }
   ],
   "source": [
    "coef_df = pd.DataFrame(log_reg.coef_, columns=X.columns)\n",
    "coef_df.T.sort_values(by=0, ascending=False).head(77)"
   ]
  },
  {
   "cell_type": "code",
   "execution_count": 23,
   "id": "89ebe5d6-1eb1-4d25-b4e3-013dc86be1b9",
   "metadata": {},
   "outputs": [
    {
     "data": {
      "text/plain": [
       "array([[-0.00609488,  0.00922107, -0.02593307, -0.26969065, -0.43966367,\n",
       "         0.54297853, -0.00159086, -0.5240136 , -0.91722015, -0.59754993,\n",
       "        -0.37368111, -0.45151369, -0.27830824,  0.2654397 ,  1.08816347,\n",
       "         0.55116498,  0.08601395,  0.64799208,  0.46826796]])"
      ]
     },
     "execution_count": 23,
     "metadata": {},
     "output_type": "execute_result"
    }
   ],
   "source": [
    "log_reg.coef_"
   ]
  },
  {
   "cell_type": "markdown",
   "id": "92764719",
   "metadata": {},
   "source": [
    "- 這段程式碼是在對特徵進行標準化（`Standardization）`，讓每個特徵轉換成平均值為 0、標準差為 `1 的分佈，這對像是 Logistic Regression、SVM、KNN` 等模型尤其重要。"
   ]
  },
  {
   "cell_type": "code",
   "execution_count": 24,
   "id": "1da6ec89-d91b-467a-9765-832ae93589c9",
   "metadata": {},
   "outputs": [],
   "source": [
    "sc = StandardScaler()\n",
    "X_train_sc = sc.fit_transform(X_train)\n",
    "X_test_sc = sc.transform(X_test)"
   ]
  },
  {
   "cell_type": "markdown",
   "id": "016a45e8",
   "metadata": {},
   "source": [
    "## KNN"
   ]
  },
  {
   "cell_type": "code",
   "execution_count": 25,
   "id": "8610e030-e1b3-4937-abdb-f49ec296fcdc",
   "metadata": {},
   "outputs": [
    {
     "name": "stdout",
     "output_type": "stream",
     "text": [
      "Model saved in run 7b248524522645c997858d064be01bcf\n",
      "Train Accuracy: 0.9986997789624236\n",
      "Test Accuracy: 0.8492569002123143\n"
     ]
    },
    {
     "name": "stderr",
     "output_type": "stream",
     "text": [
      "2025/05/02 21:41:21 WARNING mlflow.models.model: Model logged without a signature and input example. Please set `input_example` parameter when logging the model to auto infer the model signature.\n",
      "Successfully registered model 'knn-model'.\n",
      "Created version '1' of model 'knn-model'.\n"
     ]
    },
    {
     "data": {
      "image/png": "[encoded data removed]",
      "text/plain": [
       "<Figure size 640x480 with 2 Axes>"
      ]
     },
     "metadata": {},
     "output_type": "display_data"
    },
    {
     "name": "stdout",
     "output_type": "stream",
     "text": [
      "Classification Report:\n",
      "\n",
      "              precision    recall  f1-score   support\n",
      "\n",
      "           0     0.9185    0.8375    0.8761      2098\n",
      "           1     0.7536    0.8699    0.8076      1199\n",
      "\n",
      "    accuracy                         0.8493      3297\n",
      "   macro avg     0.8360    0.8537    0.8418      3297\n",
      "weighted avg     0.8585    0.8493    0.8512      3297\n",
      "\n"
     ]
    }
   ],
   "source": [
    "\n",
    "#KNN \n",
    "# N=3\n",
    "#Train Accuracy: 0.9986997789624236\n",
    "#Test Accuracy: 0.8495602062481044\n",
    "with mlflow.start_run(run_name='knn'):#mlflow\n",
    "    mlflow.log_param(\"n_neighbors\", 5)\n",
    "    mlflow.log_param(\"weights\", \"distance\")\n",
    "\n",
    "    knn = KNeighborsClassifier(n_neighbors=5, weights='distance')\n",
    "    knn.fit(X_train_sc, y_train)\n",
    "    \n",
    "    run_id = mlflow.active_run().info.run_id#mlflow\n",
    "    print(f\"Model saved in run {run_id}\")#mlflow\n",
    "\n",
    "    # 預測\n",
    "    y_pred_knn = knn.predict(X_test_sc)\n",
    "\n",
    "    # Train / Test accuracy\n",
    "    print(\"Train Accuracy:\", knn.score(X_train_sc, y_train))\n",
    "    print(\"Test Accuracy:\", knn.score(X_test_sc, y_test))\n",
    "\n",
    "    #mlflow\n",
    "    mlflow.log_metric(\"Train score\", knn.score(X_train_sc, y_train))#mlflow\n",
    "    mlflow.log_metric(\"Test score\", knn.score(X_test_sc, y_test))#mlflow\n",
    "    mlflow.sklearn.log_model(     #mlflow.sklearn.log_model() #紀錄sklearn模型\n",
    "        sk_model=knn, \n",
    "        artifact_path=\"knn-model\",\n",
    "        registered_model_name=\"knn-model\",  #\n",
    "    )\n",
    "\n",
    "\n",
    "    # 混淆矩陣\n",
    "    cm2 = confusion_matrix(y_test, y_pred_knn)\n",
    "    sns.heatmap(cm2, annot=True, fmt='d', cmap='Greens', xticklabels=[0, 1], yticklabels=[0, 1])\n",
    "    plt.xlabel(\"Predicted\")\n",
    "    plt.ylabel(\"Actual\")\n",
    "    plt.title(\"KNN Confusion Matrix\")\n",
    "    plt.show()\n",
    "\n",
    "    # classification report\n",
    "    print(\"Classification Report:\\n\")\n",
    "    print(classification_report(y_test, y_pred_knn, digits=4))"
   ]
  },
  {
   "cell_type": "markdown",
   "id": "84f2faf2",
   "metadata": {},
   "source": [
    "## RF 隨機森林"
   ]
  },
  {
   "cell_type": "code",
   "execution_count": 26,
   "id": "53c37ce4-5f08-4fd6-93de-479c4c59d5bc",
   "metadata": {},
   "outputs": [
    {
     "name": "stdout",
     "output_type": "stream",
     "text": [
      "Train Accuracy: 0.9713951371733195\n",
      "Test Accuracy: 0.8738246891113133\n"
     ]
    },
    {
     "name": "stderr",
     "output_type": "stream",
     "text": [
      "2025/05/02 21:41:25 WARNING mlflow.models.model: Model logged without a signature and input example. Please set `input_example` parameter when logging the model to auto infer the model signature.\n",
      "Successfully registered model 'RandomForest-model'.\n",
      "Created version '1' of model 'RandomForest-model'.\n"
     ]
    },
    {
     "data": {
      "image/png": "[encoded data removed]",
      "text/plain": [
       "<Figure size 640x480 with 2 Axes>"
      ]
     },
     "metadata": {},
     "output_type": "display_data"
    },
    {
     "name": "stdout",
     "output_type": "stream",
     "text": [
      "Classification Report:\n",
      "\n",
      "              precision    recall  f1-score   support\n",
      "\n",
      "           0     0.9176    0.8808    0.8988      2098\n",
      "           1     0.8051    0.8616    0.8324      1199\n",
      "\n",
      "    accuracy                         0.8738      3297\n",
      "   macro avg     0.8614    0.8712    0.8656      3297\n",
      "weighted avg     0.8767    0.8738    0.8747      3297\n",
      "\n"
     ]
    }
   ],
   "source": [
    "#Random Forest 隨機森林\n",
    "\n",
    "#Train Accuracy: 0.9837472370302951\n",
    "#Test Accuracy: 0.8823172581134364\n",
    "with mlflow.start_run(run_name='RandomForest'):#mlflow\n",
    "    n_estimators = 150 #樹的數量\n",
    "    max_depth = 15 #樹的深度\n",
    "    \n",
    "    mlflow.log_param(\"n_estimators\", n_estimators) #mlflow\n",
    "    mlflow.log_param(\"max_depth\", max_depth) #mlflow\n",
    "    rf = RandomForestClassifier(n_estimators=n_estimators, max_depth=max_depth, class_weight='balanced')\n",
    "    rf.fit(X_train, y_train)\n",
    "\n",
    "    # 預測\n",
    "    y_pred_rf = rf.predict(X_test)\n",
    "\n",
    "    # 準確率\n",
    "    print(\"Train Accuracy:\", rf.score(X_train, y_train))\n",
    "    print(\"Test Accuracy:\", rf.score(X_test, y_test))\n",
    "\n",
    "    mlflow.log_metric(\"Train score\", rf.score(X_train, y_train))#mlflow\n",
    "    mlflow.log_metric(\"Test score\", rf.score(X_test, y_test))#mlflow\n",
    "\n",
    "    mlflow.sklearn.log_model(     #mlflow.sklearn.log_model() #紀錄sklearn模型\n",
    "        sk_model=log_reg, \n",
    "        artifact_path=\"RandomForest-model\",\n",
    "        registered_model_name='RandomForest-model',  \n",
    "    )   \n",
    "\n",
    "    # 混淆矩陣\n",
    "    cm3 = confusion_matrix(y_test, y_pred_rf)\n",
    "    sns.heatmap(cm3, annot=True, fmt='d', cmap='Oranges', xticklabels=[0,1], yticklabels=[0,1])\n",
    "    plt.xlabel(\"Predicted\")\n",
    "    plt.ylabel(\"Actual\")\n",
    "    plt.title(\"Random Forest Confusion Matrix\")\n",
    "    plt.show()\n",
    "\n",
    "    # classification report\n",
    "    print(\"Classification Report:\\n\")\n",
    "    print(classification_report(y_test, y_pred_rf, digits=4))"
   ]
  },
  {
   "cell_type": "code",
   "execution_count": 27,
   "id": "f3924e0c-fefb-4356-875a-b19ad3cfac99",
   "metadata": {},
   "outputs": [
    {
     "data": {
      "text/plain": [
       "array([0.2163437 , 0.01557556, 0.18585838, 0.12422079, 0.09686764,\n",
       "       0.21700056, 0.06405259, 0.00477509, 0.00395362, 0.00297158,\n",
       "       0.00655754, 0.00681671, 0.00603357, 0.01872042, 0.00989598,\n",
       "       0.00709565, 0.00661707, 0.00326182, 0.00338173])"
      ]
     },
     "execution_count": 27,
     "metadata": {},
     "output_type": "execute_result"
    }
   ],
   "source": [
    "rf.feature_importances_"
   ]
  },
  {
   "cell_type": "code",
   "execution_count": 28,
   "id": "800491df-7fac-43b9-99bd-47e97957f748",
   "metadata": {},
   "outputs": [
    {
     "data": {
      "text/html": [
       "<div>\n",
       "<style scoped>\n",
       "    .dataframe tbody tr th:only-of-type {\n",
       "        vertical-align: middle;\n",
       "    }\n",
       "\n",
       "    .dataframe tbody tr th {\n",
       "        vertical-align: top;\n",
       "    }\n",
       "\n",
       "    .dataframe thead th {\n",
       "        text-align: right;\n",
       "    }\n",
       "</style>\n",
       "<table border=\"1\" class=\"dataframe\">\n",
       "  <thead>\n",
       "    <tr style=\"text-align: right;\">\n",
       "      <th></th>\n",
       "      <th>0</th>\n",
       "    </tr>\n",
       "  </thead>\n",
       "  <tbody>\n",
       "    <tr>\n",
       "      <th>sunHour</th>\n",
       "      <td>0.217001</td>\n",
       "    </tr>\n",
       "    <tr>\n",
       "      <th>avgtempF</th>\n",
       "      <td>0.216344</td>\n",
       "    </tr>\n",
       "    <tr>\n",
       "      <th>humid</th>\n",
       "      <td>0.185858</td>\n",
       "    </tr>\n",
       "    <tr>\n",
       "      <th>wind</th>\n",
       "      <td>0.124221</td>\n",
       "    </tr>\n",
       "    <tr>\n",
       "      <th>precip</th>\n",
       "      <td>0.096868</td>\n",
       "    </tr>\n",
       "    <tr>\n",
       "      <th>year</th>\n",
       "      <td>0.064053</td>\n",
       "    </tr>\n",
       "    <tr>\n",
       "      <th>month_7</th>\n",
       "      <td>0.018720</td>\n",
       "    </tr>\n",
       "    <tr>\n",
       "      <th>totalSnow</th>\n",
       "      <td>0.015576</td>\n",
       "    </tr>\n",
       "    <tr>\n",
       "      <th>month_8</th>\n",
       "      <td>0.009896</td>\n",
       "    </tr>\n",
       "    <tr>\n",
       "      <th>month_9</th>\n",
       "      <td>0.007096</td>\n",
       "    </tr>\n",
       "    <tr>\n",
       "      <th>month_5</th>\n",
       "      <td>0.006817</td>\n",
       "    </tr>\n",
       "    <tr>\n",
       "      <th>month_10</th>\n",
       "      <td>0.006617</td>\n",
       "    </tr>\n",
       "    <tr>\n",
       "      <th>month_4</th>\n",
       "      <td>0.006558</td>\n",
       "    </tr>\n",
       "    <tr>\n",
       "      <th>month_6</th>\n",
       "      <td>0.006034</td>\n",
       "    </tr>\n",
       "    <tr>\n",
       "      <th>month_1</th>\n",
       "      <td>0.004775</td>\n",
       "    </tr>\n",
       "    <tr>\n",
       "      <th>month_2</th>\n",
       "      <td>0.003954</td>\n",
       "    </tr>\n",
       "    <tr>\n",
       "      <th>month_12</th>\n",
       "      <td>0.003382</td>\n",
       "    </tr>\n",
       "    <tr>\n",
       "      <th>month_11</th>\n",
       "      <td>0.003262</td>\n",
       "    </tr>\n",
       "    <tr>\n",
       "      <th>month_3</th>\n",
       "      <td>0.002972</td>\n",
       "    </tr>\n",
       "  </tbody>\n",
       "</table>\n",
       "</div>"
      ],
      "text/plain": [
       "                  0\n",
       "sunHour    0.217001\n",
       "avgtempF   0.216344\n",
       "humid      0.185858\n",
       "wind       0.124221\n",
       "precip     0.096868\n",
       "year       0.064053\n",
       "month_7    0.018720\n",
       "totalSnow  0.015576\n",
       "month_8    0.009896\n",
       "month_9    0.007096\n",
       "month_5    0.006817\n",
       "month_10   0.006617\n",
       "month_4    0.006558\n",
       "month_6    0.006034\n",
       "month_1    0.004775\n",
       "month_2    0.003954\n",
       "month_12   0.003382\n",
       "month_11   0.003262\n",
       "month_3    0.002972"
      ]
     },
     "execution_count": 28,
     "metadata": {},
     "output_type": "execute_result"
    }
   ],
   "source": [
    "feature_df = pd.DataFrame(rf.feature_importances_, index=X.columns)\n",
    "feature_df.sort_values(by=0, ascending=False)"
   ]
  },
  {
   "cell_type": "code",
   "execution_count": 29,
   "id": "5dae7742-8790-4660-a235-161b88e1ad34",
   "metadata": {},
   "outputs": [
    {
     "name": "stderr",
     "output_type": "stream",
     "text": [
      "C:\\Users\\ygz08\\AppData\\Local\\Packages\\PythonSoftwareFoundation.Python.3.11_qbz5n2kfra8p0\\LocalCache\\local-packages\\Python311\\site-packages\\sklearn\\utils\\validation.py:2732: UserWarning: X has feature names, but KNeighborsClassifier was fitted without feature names\n",
      "  warnings.warn(\n"
     ]
    },
    {
     "data": {
      "text/plain": [
       "array([1, 0, 0, ..., 0, 0, 0])"
      ]
     },
     "execution_count": 29,
     "metadata": {},
     "output_type": "execute_result"
    }
   ],
   "source": [
    "log_reg.predict(X_test)\n",
    "knn.predict(X_test)\n",
    "rf.predict(X_test)"
   ]
  },
  {
   "cell_type": "code",
   "execution_count": 30,
   "id": "54f0af54-62ed-43c1-9502-f1ccc1bca05b",
   "metadata": {},
   "outputs": [
    {
     "name": "stderr",
     "output_type": "stream",
     "text": [
      "C:\\Users\\ygz08\\AppData\\Local\\Packages\\PythonSoftwareFoundation.Python.3.11_qbz5n2kfra8p0\\LocalCache\\local-packages\\Python311\\site-packages\\sklearn\\utils\\validation.py:2732: UserWarning: X has feature names, but KNeighborsClassifier was fitted without feature names\n",
      "  warnings.warn(\n"
     ]
    },
    {
     "data": {
      "text/html": [
       "<div>\n",
       "<style scoped>\n",
       "    .dataframe tbody tr th:only-of-type {\n",
       "        vertical-align: middle;\n",
       "    }\n",
       "\n",
       "    .dataframe tbody tr th {\n",
       "        vertical-align: top;\n",
       "    }\n",
       "\n",
       "    .dataframe thead th {\n",
       "        text-align: right;\n",
       "    }\n",
       "</style>\n",
       "<table border=\"1\" class=\"dataframe\">\n",
       "  <thead>\n",
       "    <tr style=\"text-align: right;\">\n",
       "      <th></th>\n",
       "      <th>log_reg</th>\n",
       "      <th>knn</th>\n",
       "      <th>rf</th>\n",
       "      <th>ensemble</th>\n",
       "    </tr>\n",
       "  </thead>\n",
       "  <tbody>\n",
       "    <tr>\n",
       "      <th>0</th>\n",
       "      <td>1</td>\n",
       "      <td>0</td>\n",
       "      <td>1</td>\n",
       "      <td>1.0</td>\n",
       "    </tr>\n",
       "    <tr>\n",
       "      <th>1</th>\n",
       "      <td>0</td>\n",
       "      <td>0</td>\n",
       "      <td>0</td>\n",
       "      <td>0.0</td>\n",
       "    </tr>\n",
       "    <tr>\n",
       "      <th>2</th>\n",
       "      <td>0</td>\n",
       "      <td>0</td>\n",
       "      <td>0</td>\n",
       "      <td>0.0</td>\n",
       "    </tr>\n",
       "    <tr>\n",
       "      <th>3</th>\n",
       "      <td>1</td>\n",
       "      <td>0</td>\n",
       "      <td>1</td>\n",
       "      <td>1.0</td>\n",
       "    </tr>\n",
       "    <tr>\n",
       "      <th>4</th>\n",
       "      <td>0</td>\n",
       "      <td>0</td>\n",
       "      <td>0</td>\n",
       "      <td>0.0</td>\n",
       "    </tr>\n",
       "  </tbody>\n",
       "</table>\n",
       "</div>"
      ],
      "text/plain": [
       "   log_reg  knn  rf  ensemble\n",
       "0        1    0   1       1.0\n",
       "1        0    0   0       0.0\n",
       "2        0    0   0       0.0\n",
       "3        1    0   1       1.0\n",
       "4        0    0   0       0.0"
      ]
     },
     "execution_count": 30,
     "metadata": {},
     "output_type": "execute_result"
    }
   ],
   "source": [
    "pred_df = pd.DataFrame(columns=['log_reg', 'knn', 'rf'])\n",
    "pred_df['log_reg'] = log_reg.predict(X_test)\n",
    "pred_df['knn'] = knn.predict(X_test)\n",
    "pred_df['rf'] = rf.predict(X_test)\n",
    "pred_df['ensemble'] = (pred_df.sum(axis=1)/3).round(0)\n",
    "pred_df.head()"
   ]
  },
  {
   "cell_type": "code",
   "execution_count": 31,
   "id": "5d379734-b929-4721-83d0-60ccd3ebda17",
   "metadata": {},
   "outputs": [
    {
     "data": {
      "text/plain": [
       "0.8092205034880194"
      ]
     },
     "execution_count": 31,
     "metadata": {},
     "output_type": "execute_result"
    }
   ],
   "source": [
    "metrics.accuracy_score(pred_df['ensemble'], y_test)"
   ]
  },
  {
   "cell_type": "code",
   "execution_count": 32,
   "id": "fb59202f-a60b-447c-a97e-2439aae10a14",
   "metadata": {},
   "outputs": [
    {
     "data": {
      "text/plain": [
       "<sklearn.metrics._plot.roc_curve.RocCurveDisplay at 0x1d13f3cf110>"
      ]
     },
     "execution_count": 32,
     "metadata": {},
     "output_type": "execute_result"
    },
    {
     "data": {
      "image/png": "[encoded data removed]",
      "text/plain": [
       "<Figure size 640x480 with 1 Axes>"
      ]
     },
     "metadata": {},
     "output_type": "display_data"
    }
   ],
   "source": [
    "from sklearn.metrics import RocCurveDisplay\n",
    "RocCurveDisplay.from_estimator(rf, X_test, y_test)"
   ]
  },
  {
   "cell_type": "markdown",
   "id": "d2f2af19",
   "metadata": {},
   "source": [
    "## DNN"
   ]
  },
  {
   "cell_type": "code",
   "execution_count": 33,
   "id": "77b5e61b-57d3-4072-86f4-cc6eef337a1c",
   "metadata": {},
   "outputs": [
    {
     "name": "stderr",
     "output_type": "stream",
     "text": [
      "C:\\Users\\ygz08\\AppData\\Local\\Packages\\PythonSoftwareFoundation.Python.3.11_qbz5n2kfra8p0\\LocalCache\\local-packages\\Python311\\site-packages\\keras\\src\\layers\\core\\dense.py:87: UserWarning: Do not pass an `input_shape`/`input_dim` argument to a layer. When using Sequential models, prefer using an `Input(shape)` object as the first layer in the model instead.\n",
      "  super().__init__(activity_regularizer=activity_regularizer, **kwargs)\n",
      "2025/05/02 21:41:26 WARNING mlflow.tensorflow: Encountered unexpected error while inferring batch size from training dataset: Sequential model 'sequential' has no defined input shape yet.\n",
      "2025/05/02 21:41:26 WARNING mlflow.tensorflow: Unrecognized dataset type <class 'pandas.core.frame.DataFrame'>. Dataset logging skipped.\n",
      "2025/05/02 21:41:26 WARNING mlflow.tensorflow: Failed to log training dataset information to MLflow Tracking. Reason: 'DataFrame' object has no attribute 'flatten'\n"
     ]
    },
    {
     "data": {
      "text/html": [
       "<pre style=\"white-space:pre;overflow-x:auto;line-height:normal;font-family:Menlo,'DejaVu Sans Mono',consolas,'Courier New',monospace\"></pre>\n"
      ],
      "text/plain": []
     },
     "metadata": {},
     "output_type": "display_data"
    },
    {
     "name": "stdout",
     "output_type": "stream",
     "text": [
      "Epoch 1/100\n",
      "\u001b[1m47/61\u001b[0m \u001b[32m━━━━━━━━━━━━━━━\u001b[0m\u001b[37m━━━━━\u001b[0m \u001b[1m0s\u001b[0m 3ms/step - Precision: 0.5632 - Recall: 0.4904 - acc: 0.6759 - loss: 0.5524"
     ]
    },
    {
     "name": "stderr",
     "output_type": "stream",
     "text": [
      "WARNING:absl:You are saving your model as an HDF5 file via `model.save()` or `keras.saving.save_model(model)`. This file format is considered legacy. We recommend using instead the native Keras format, e.g. `model.save('my_model.keras')` or `keras.saving.save_model(model, 'my_model.keras')`. \n"
     ]
    },
    {
     "name": "stdout",
     "output_type": "stream",
     "text": [
      "\u001b[1m61/61\u001b[0m \u001b[32m━━━━━━━━━━━━━━━━━━━━\u001b[0m\u001b[37m\u001b[0m \u001b[1m2s\u001b[0m 10ms/step - Precision: 0.5791 - Recall: 0.5215 - acc: 0.6886 - loss: 0.5420 - val_Precision: 0.0000e+00 - val_Recall: 0.0000e+00 - val_acc: 0.6363 - val_loss: 10.5527\n",
      "Epoch 2/100\n",
      "\u001b[1m52/61\u001b[0m \u001b[32m━━━━━━━━━━━━━━━━━\u001b[0m\u001b[37m━━━\u001b[0m \u001b[1m0s\u001b[0m 3ms/step - Precision: 0.6668 - Recall: 0.6720 - acc: 0.7570 - loss: 0.4817"
     ]
    },
    {
     "name": "stderr",
     "output_type": "stream",
     "text": [
      "WARNING:absl:You are saving your model as an HDF5 file via `model.save()` or `keras.saving.save_model(model)`. This file format is considered legacy. We recommend using instead the native Keras format, e.g. `model.save('my_model.keras')` or `keras.saving.save_model(model, 'my_model.keras')`. \n"
     ]
    },
    {
     "name": "stdout",
     "output_type": "stream",
     "text": [
      "\u001b[1m61/61\u001b[0m \u001b[32m━━━━━━━━━━━━━━━━━━━━\u001b[0m\u001b[37m\u001b[0m \u001b[1m0s\u001b[0m 6ms/step - Precision: 0.6649 - Recall: 0.6702 - acc: 0.7564 - loss: 0.4814 - val_Precision: 0.7535 - val_Recall: 0.4003 - val_acc: 0.7343 - val_loss: 0.5465\n",
      "Epoch 3/100\n",
      "\u001b[1m61/61\u001b[0m \u001b[32m━━━━━━━━━━━━━━━━━━━━\u001b[0m\u001b[37m\u001b[0m \u001b[1m0s\u001b[0m 6ms/step - Precision: 0.6727 - Recall: 0.7070 - acc: 0.7682 - loss: 0.4707 - val_Precision: 0.3649 - val_Recall: 0.9992 - val_acc: 0.3673 - val_loss: 3.3161\n",
      "Epoch 4/100\n",
      "\u001b[1m61/61\u001b[0m \u001b[32m━━━━━━━━━━━━━━━━━━━━\u001b[0m\u001b[37m\u001b[0m \u001b[1m0s\u001b[0m 5ms/step - Precision: 0.6770 - Recall: 0.6517 - acc: 0.7645 - loss: 0.4684 - val_Precision: 0.4124 - val_Recall: 0.9641 - val_acc: 0.4874 - val_loss: 1.3502\n",
      "Epoch 5/100\n",
      "\u001b[1m61/61\u001b[0m \u001b[32m━━━━━━━━━━━━━━━━━━━━\u001b[0m\u001b[37m\u001b[0m \u001b[1m0s\u001b[0m 5ms/step - Precision: 0.6772 - Recall: 0.7364 - acc: 0.7714 - loss: 0.4639 - val_Precision: 0.3708 - val_Recall: 0.9992 - val_acc: 0.3831 - val_loss: 2.6939\n",
      "Epoch 6/100\n",
      "\u001b[1m61/61\u001b[0m \u001b[32m━━━━━━━━━━━━━━━━━━━━\u001b[0m\u001b[37m\u001b[0m \u001b[1m0s\u001b[0m 5ms/step - Precision: 0.6682 - Recall: 0.7163 - acc: 0.7675 - loss: 0.4665 - val_Precision: 0.5637 - val_Recall: 0.7089 - val_acc: 0.6946 - val_loss: 0.6248\n",
      "Epoch 7/100\n",
      "\u001b[1m61/61\u001b[0m \u001b[32m━━━━━━━━━━━━━━━━━━━━\u001b[0m\u001b[37m\u001b[0m \u001b[1m0s\u001b[0m 5ms/step - Precision: 0.6764 - Recall: 0.7059 - acc: 0.7732 - loss: 0.4565 - val_Precision: 0.4490 - val_Recall: 0.9024 - val_acc: 0.5617 - val_loss: 0.9237\n",
      "Epoch 8/100\n",
      "\u001b[1m46/61\u001b[0m \u001b[32m━━━━━━━━━━━━━━━\u001b[0m\u001b[37m━━━━━\u001b[0m \u001b[1m0s\u001b[0m 3ms/step - Precision: 0.6770 - Recall: 0.7217 - acc: 0.7733 - loss: 0.4540"
     ]
    },
    {
     "name": "stderr",
     "output_type": "stream",
     "text": [
      "WARNING:absl:You are saving your model as an HDF5 file via `model.save()` or `keras.saving.save_model(model)`. This file format is considered legacy. We recommend using instead the native Keras format, e.g. `model.save('my_model.keras')` or `keras.saving.save_model(model, 'my_model.keras')`. \n"
     ]
    },
    {
     "name": "stdout",
     "output_type": "stream",
     "text": [
      "\u001b[1m61/61\u001b[0m \u001b[32m━━━━━━━━━━━━━━━━━━━━\u001b[0m\u001b[37m\u001b[0m \u001b[1m0s\u001b[0m 6ms/step - Precision: 0.6767 - Recall: 0.7148 - acc: 0.7726 - loss: 0.4554 - val_Precision: 0.6452 - val_Recall: 0.7281 - val_acc: 0.7555 - val_loss: 0.5352\n",
      "Epoch 9/100\n",
      "\u001b[1m61/61\u001b[0m \u001b[32m━━━━━━━━━━━━━━━━━━━━\u001b[0m\u001b[37m\u001b[0m \u001b[1m0s\u001b[0m 3ms/step - Precision: 0.6853 - Recall: 0.6845 - acc: 0.7712 - loss: 0.4601"
     ]
    },
    {
     "name": "stderr",
     "output_type": "stream",
     "text": [
      "WARNING:absl:You are saving your model as an HDF5 file via `model.save()` or `keras.saving.save_model(model)`. This file format is considered legacy. We recommend using instead the native Keras format, e.g. `model.save('my_model.keras')` or `keras.saving.save_model(model, 'my_model.keras')`. \n"
     ]
    },
    {
     "name": "stdout",
     "output_type": "stream",
     "text": [
      "\u001b[1m61/61\u001b[0m \u001b[32m━━━━━━━━━━━━━━━━━━━━\u001b[0m\u001b[37m\u001b[0m \u001b[1m0s\u001b[0m 6ms/step - Precision: 0.6853 - Recall: 0.6845 - acc: 0.7713 - loss: 0.4600 - val_Precision: 0.6691 - val_Recall: 0.6947 - val_acc: 0.7640 - val_loss: 0.4874\n",
      "Epoch 10/100\n",
      "\u001b[1m47/61\u001b[0m \u001b[32m━━━━━━━━━━━━━━━\u001b[0m\u001b[37m━━━━━\u001b[0m \u001b[1m0s\u001b[0m 3ms/step - Precision: 0.6847 - Recall: 0.7282 - acc: 0.7869 - loss: 0.4497"
     ]
    },
    {
     "name": "stderr",
     "output_type": "stream",
     "text": [
      "WARNING:absl:You are saving your model as an HDF5 file via `model.save()` or `keras.saving.save_model(model)`. This file format is considered legacy. We recommend using instead the native Keras format, e.g. `model.save('my_model.keras')` or `keras.saving.save_model(model, 'my_model.keras')`. \n"
     ]
    },
    {
     "name": "stdout",
     "output_type": "stream",
     "text": [
      "\u001b[1m61/61\u001b[0m \u001b[32m━━━━━━━━━━━━━━━━━━━━\u001b[0m\u001b[37m\u001b[0m \u001b[1m0s\u001b[0m 6ms/step - Precision: 0.6861 - Recall: 0.7226 - acc: 0.7855 - loss: 0.4507 - val_Precision: 0.6485 - val_Recall: 0.7631 - val_acc: 0.7634 - val_loss: 0.4775\n",
      "Epoch 11/100\n",
      "\u001b[1m59/61\u001b[0m \u001b[32m━━━━━━━━━━━━━━━━━━━\u001b[0m\u001b[37m━\u001b[0m \u001b[1m0s\u001b[0m 4ms/step - Precision: 0.6914 - Recall: 0.7292 - acc: 0.7918 - loss: 0.4392"
     ]
    },
    {
     "name": "stderr",
     "output_type": "stream",
     "text": [
      "WARNING:absl:You are saving your model as an HDF5 file via `model.save()` or `keras.saving.save_model(model)`. This file format is considered legacy. We recommend using instead the native Keras format, e.g. `model.save('my_model.keras')` or `keras.saving.save_model(model, 'my_model.keras')`. \n"
     ]
    },
    {
     "name": "stdout",
     "output_type": "stream",
     "text": [
      "\u001b[1m61/61\u001b[0m \u001b[32m━━━━━━━━━━━━━━━━━━━━\u001b[0m\u001b[37m\u001b[0m \u001b[1m0s\u001b[0m 6ms/step - Precision: 0.6912 - Recall: 0.7294 - acc: 0.7914 - loss: 0.4397 - val_Precision: 0.6926 - val_Recall: 0.7064 - val_acc: 0.7792 - val_loss: 0.4594\n",
      "Epoch 12/100\n",
      "\u001b[1m48/61\u001b[0m \u001b[32m━━━━━━━━━━━━━━━\u001b[0m\u001b[37m━━━━━\u001b[0m \u001b[1m0s\u001b[0m 3ms/step - Precision: 0.7193 - Recall: 0.6542 - acc: 0.7815 - loss: 0.4532"
     ]
    },
    {
     "name": "stderr",
     "output_type": "stream",
     "text": [
      "WARNING:absl:You are saving your model as an HDF5 file via `model.save()` or `keras.saving.save_model(model)`. This file format is considered legacy. We recommend using instead the native Keras format, e.g. `model.save('my_model.keras')` or `keras.saving.save_model(model, 'my_model.keras')`. \n"
     ]
    },
    {
     "name": "stdout",
     "output_type": "stream",
     "text": [
      "\u001b[1m61/61\u001b[0m \u001b[32m━━━━━━━━━━━━━━━━━━━━\u001b[0m\u001b[37m\u001b[0m \u001b[1m0s\u001b[0m 6ms/step - Precision: 0.7162 - Recall: 0.6626 - acc: 0.7821 - loss: 0.4520 - val_Precision: 0.6972 - val_Recall: 0.7298 - val_acc: 0.7865 - val_loss: 0.4517\n",
      "Epoch 13/100\n",
      "\u001b[1m48/61\u001b[0m \u001b[32m━━━━━━━━━━━━━━━\u001b[0m\u001b[37m━━━━━\u001b[0m \u001b[1m0s\u001b[0m 3ms/step - Precision: 0.7057 - Recall: 0.6907 - acc: 0.7871 - loss: 0.4316"
     ]
    },
    {
     "name": "stderr",
     "output_type": "stream",
     "text": [
      "WARNING:absl:You are saving your model as an HDF5 file via `model.save()` or `keras.saving.save_model(model)`. This file format is considered legacy. We recommend using instead the native Keras format, e.g. `model.save('my_model.keras')` or `keras.saving.save_model(model, 'my_model.keras')`. \n"
     ]
    },
    {
     "name": "stdout",
     "output_type": "stream",
     "text": [
      "\u001b[1m61/61\u001b[0m \u001b[32m━━━━━━━━━━━━━━━━━━━━\u001b[0m\u001b[37m\u001b[0m \u001b[1m0s\u001b[0m 6ms/step - Precision: 0.7052 - Recall: 0.6939 - acc: 0.7869 - loss: 0.4336 - val_Precision: 0.6892 - val_Recall: 0.7473 - val_acc: 0.7856 - val_loss: 0.4492\n",
      "Epoch 14/100\n",
      "\u001b[1m61/61\u001b[0m \u001b[32m━━━━━━━━━━━━━━━━━━━━\u001b[0m\u001b[37m\u001b[0m \u001b[1m0s\u001b[0m 6ms/step - Precision: 0.6924 - Recall: 0.7254 - acc: 0.7876 - loss: 0.4315 - val_Precision: 0.6933 - val_Recall: 0.7598 - val_acc: 0.7904 - val_loss: 0.4515\n",
      "Epoch 15/100\n",
      "\u001b[1m49/61\u001b[0m \u001b[32m━━━━━━━━━━━━━━━━\u001b[0m\u001b[37m━━━━\u001b[0m \u001b[1m0s\u001b[0m 3ms/step - Precision: 0.7243 - Recall: 0.6981 - acc: 0.7913 - loss: 0.4411"
     ]
    },
    {
     "name": "stderr",
     "output_type": "stream",
     "text": [
      "WARNING:absl:You are saving your model as an HDF5 file via `model.save()` or `keras.saving.save_model(model)`. This file format is considered legacy. We recommend using instead the native Keras format, e.g. `model.save('my_model.keras')` or `keras.saving.save_model(model, 'my_model.keras')`. \n"
     ]
    },
    {
     "name": "stdout",
     "output_type": "stream",
     "text": [
      "\u001b[1m61/61\u001b[0m \u001b[32m━━━━━━━━━━━━━━━━━━━━\u001b[0m\u001b[37m\u001b[0m \u001b[1m0s\u001b[0m 6ms/step - Precision: 0.7229 - Recall: 0.6989 - acc: 0.7917 - loss: 0.4402 - val_Precision: 0.6913 - val_Recall: 0.7415 - val_acc: 0.7856 - val_loss: 0.4443\n",
      "Epoch 16/100\n",
      "\u001b[1m61/61\u001b[0m \u001b[32m━━━━━━━━━━━━━━━━━━━━\u001b[0m\u001b[37m\u001b[0m \u001b[1m0s\u001b[0m 7ms/step - Precision: 0.7017 - Recall: 0.7448 - acc: 0.7923 - loss: 0.4376 - val_Precision: 0.6927 - val_Recall: 0.7556 - val_acc: 0.7892 - val_loss: 0.4477\n",
      "Epoch 17/100\n",
      "\u001b[1m61/61\u001b[0m \u001b[32m━━━━━━━━━━━━━━━━━━━━\u001b[0m\u001b[37m\u001b[0m \u001b[1m0s\u001b[0m 3ms/step - Precision: 0.7044 - Recall: 0.7538 - acc: 0.7945 - loss: 0.4318"
     ]
    },
    {
     "name": "stderr",
     "output_type": "stream",
     "text": [
      "WARNING:absl:You are saving your model as an HDF5 file via `model.save()` or `keras.saving.save_model(model)`. This file format is considered legacy. We recommend using instead the native Keras format, e.g. `model.save('my_model.keras')` or `keras.saving.save_model(model, 'my_model.keras')`. \n"
     ]
    },
    {
     "name": "stdout",
     "output_type": "stream",
     "text": [
      "\u001b[1m61/61\u001b[0m \u001b[32m━━━━━━━━━━━━━━━━━━━━\u001b[0m\u001b[37m\u001b[0m \u001b[1m0s\u001b[0m 6ms/step - Precision: 0.7045 - Recall: 0.7535 - acc: 0.7945 - loss: 0.4318 - val_Precision: 0.6994 - val_Recall: 0.7415 - val_acc: 0.7901 - val_loss: 0.4399\n",
      "Epoch 18/100\n",
      "\u001b[1m61/61\u001b[0m \u001b[32m━━━━━━━━━━━━━━━━━━━━\u001b[0m\u001b[37m\u001b[0m \u001b[1m0s\u001b[0m 5ms/step - Precision: 0.7224 - Recall: 0.7200 - acc: 0.7974 - loss: 0.4280 - val_Precision: 0.7217 - val_Recall: 0.7073 - val_acc: 0.7944 - val_loss: 0.4421\n",
      "Epoch 19/100\n",
      "\u001b[1m61/61\u001b[0m \u001b[32m━━━━━━━━━━━━━━━━━━━━\u001b[0m\u001b[37m\u001b[0m \u001b[1m0s\u001b[0m 3ms/step - Precision: 0.7209 - Recall: 0.7233 - acc: 0.8013 - loss: 0.4177"
     ]
    },
    {
     "name": "stderr",
     "output_type": "stream",
     "text": [
      "WARNING:absl:You are saving your model as an HDF5 file via `model.save()` or `keras.saving.save_model(model)`. This file format is considered legacy. We recommend using instead the native Keras format, e.g. `model.save('my_model.keras')` or `keras.saving.save_model(model, 'my_model.keras')`. \n"
     ]
    },
    {
     "name": "stdout",
     "output_type": "stream",
     "text": [
      "\u001b[1m61/61\u001b[0m \u001b[32m━━━━━━━━━━━━━━━━━━━━\u001b[0m\u001b[37m\u001b[0m \u001b[1m0s\u001b[0m 6ms/step - Precision: 0.7208 - Recall: 0.7234 - acc: 0.8013 - loss: 0.4178 - val_Precision: 0.7072 - val_Recall: 0.7231 - val_acc: 0.7904 - val_loss: 0.4351\n",
      "Epoch 20/100\n",
      "\u001b[1m56/61\u001b[0m \u001b[32m━━━━━━━━━━━━━━━━━━\u001b[0m\u001b[37m━━\u001b[0m \u001b[1m0s\u001b[0m 4ms/step - Precision: 0.7475 - Recall: 0.7348 - acc: 0.8142 - loss: 0.4164"
     ]
    },
    {
     "name": "stderr",
     "output_type": "stream",
     "text": [
      "WARNING:absl:You are saving your model as an HDF5 file via `model.save()` or `keras.saving.save_model(model)`. This file format is considered legacy. We recommend using instead the native Keras format, e.g. `model.save('my_model.keras')` or `keras.saving.save_model(model, 'my_model.keras')`. \n"
     ]
    },
    {
     "name": "stdout",
     "output_type": "stream",
     "text": [
      "\u001b[1m61/61\u001b[0m \u001b[32m━━━━━━━━━━━━━━━━━━━━\u001b[0m\u001b[37m\u001b[0m \u001b[1m0s\u001b[0m 6ms/step - Precision: 0.7454 - Recall: 0.7345 - acc: 0.8131 - loss: 0.4168 - val_Precision: 0.6949 - val_Recall: 0.7673 - val_acc: 0.7928 - val_loss: 0.4344\n",
      "Epoch 21/100\n",
      "\u001b[1m61/61\u001b[0m \u001b[32m━━━━━━━━━━━━━━━━━━━━\u001b[0m\u001b[37m\u001b[0m \u001b[1m0s\u001b[0m 5ms/step - Precision: 0.7143 - Recall: 0.7377 - acc: 0.7977 - loss: 0.4210 - val_Precision: 0.7340 - val_Recall: 0.7248 - val_acc: 0.8044 - val_loss: 0.4399\n",
      "Epoch 22/100\n",
      "\u001b[1m61/61\u001b[0m \u001b[32m━━━━━━━━━━━━━━━━━━━━\u001b[0m\u001b[37m\u001b[0m \u001b[1m0s\u001b[0m 5ms/step - Precision: 0.7427 - Recall: 0.7031 - acc: 0.8050 - loss: 0.4146 - val_Precision: 0.7250 - val_Recall: 0.7014 - val_acc: 0.7947 - val_loss: 0.4395\n",
      "Epoch 23/100\n",
      "\u001b[1m52/61\u001b[0m \u001b[32m━━━━━━━━━━━━━━━━━\u001b[0m\u001b[37m━━━\u001b[0m \u001b[1m0s\u001b[0m 3ms/step - Precision: 0.7356 - Recall: 0.7249 - acc: 0.8059 - loss: 0.4065"
     ]
    },
    {
     "name": "stderr",
     "output_type": "stream",
     "text": [
      "WARNING:absl:You are saving your model as an HDF5 file via `model.save()` or `keras.saving.save_model(model)`. This file format is considered legacy. We recommend using instead the native Keras format, e.g. `model.save('my_model.keras')` or `keras.saving.save_model(model, 'my_model.keras')`. \n"
     ]
    },
    {
     "name": "stdout",
     "output_type": "stream",
     "text": [
      "\u001b[1m61/61\u001b[0m \u001b[32m━━━━━━━━━━━━━━━━━━━━\u001b[0m\u001b[37m\u001b[0m \u001b[1m0s\u001b[0m 5ms/step - Precision: 0.7349 - Recall: 0.7257 - acc: 0.8059 - loss: 0.4064 - val_Precision: 0.7241 - val_Recall: 0.7331 - val_acc: 0.8013 - val_loss: 0.4262\n",
      "Epoch 24/100\n",
      "\u001b[1m61/61\u001b[0m \u001b[32m━━━━━━━━━━━━━━━━━━━━\u001b[0m\u001b[37m\u001b[0m \u001b[1m0s\u001b[0m 5ms/step - Precision: 0.7256 - Recall: 0.6769 - acc: 0.7930 - loss: 0.4135 - val_Precision: 0.7335 - val_Recall: 0.7139 - val_acc: 0.8016 - val_loss: 0.4286\n",
      "Epoch 25/100\n",
      "\u001b[1m51/61\u001b[0m \u001b[32m━━━━━━━━━━━━━━━━\u001b[0m\u001b[37m━━━━\u001b[0m \u001b[1m0s\u001b[0m 3ms/step - Precision: 0.7498 - Recall: 0.7443 - acc: 0.8168 - loss: 0.3999"
     ]
    },
    {
     "name": "stderr",
     "output_type": "stream",
     "text": [
      "WARNING:absl:You are saving your model as an HDF5 file via `model.save()` or `keras.saving.save_model(model)`. This file format is considered legacy. We recommend using instead the native Keras format, e.g. `model.save('my_model.keras')` or `keras.saving.save_model(model, 'my_model.keras')`. \n"
     ]
    },
    {
     "name": "stdout",
     "output_type": "stream",
     "text": [
      "\u001b[1m61/61\u001b[0m \u001b[32m━━━━━━━━━━━━━━━━━━━━\u001b[0m\u001b[37m\u001b[0m \u001b[1m0s\u001b[0m 6ms/step - Precision: 0.7470 - Recall: 0.7429 - acc: 0.8154 - loss: 0.4010 - val_Precision: 0.7138 - val_Recall: 0.7364 - val_acc: 0.7968 - val_loss: 0.4261\n",
      "Epoch 26/100\n",
      "\u001b[1m61/61\u001b[0m \u001b[32m━━━━━━━━━━━━━━━━━━━━\u001b[0m\u001b[37m\u001b[0m \u001b[1m0s\u001b[0m 5ms/step - Precision: 0.7292 - Recall: 0.7531 - acc: 0.8127 - loss: 0.3974 - val_Precision: 0.6914 - val_Recall: 0.7756 - val_acc: 0.7925 - val_loss: 0.4307\n",
      "Epoch 27/100\n",
      "\u001b[1m61/61\u001b[0m \u001b[32m━━━━━━━━━━━━━━━━━━━━\u001b[0m\u001b[37m\u001b[0m \u001b[1m0s\u001b[0m 5ms/step - Precision: 0.7305 - Recall: 0.7684 - acc: 0.8122 - loss: 0.3962 - val_Precision: 0.7284 - val_Recall: 0.7314 - val_acc: 0.8032 - val_loss: 0.4277\n",
      "Epoch 28/100\n",
      "\u001b[1m50/61\u001b[0m \u001b[32m━━━━━━━━━━━━━━━━\u001b[0m\u001b[37m━━━━\u001b[0m \u001b[1m0s\u001b[0m 3ms/step - Precision: 0.7402 - Recall: 0.7605 - acc: 0.8176 - loss: 0.3915"
     ]
    },
    {
     "name": "stderr",
     "output_type": "stream",
     "text": [
      "WARNING:absl:You are saving your model as an HDF5 file via `model.save()` or `keras.saving.save_model(model)`. This file format is considered legacy. We recommend using instead the native Keras format, e.g. `model.save('my_model.keras')` or `keras.saving.save_model(model, 'my_model.keras')`. \n"
     ]
    },
    {
     "name": "stdout",
     "output_type": "stream",
     "text": [
      "\u001b[1m61/61\u001b[0m \u001b[32m━━━━━━━━━━━━━━━━━━━━\u001b[0m\u001b[37m\u001b[0m \u001b[1m0s\u001b[0m 6ms/step - Precision: 0.7397 - Recall: 0.7602 - acc: 0.8171 - loss: 0.3924 - val_Precision: 0.7344 - val_Recall: 0.7148 - val_acc: 0.8022 - val_loss: 0.4227\n",
      "Epoch 29/100\n",
      "\u001b[1m61/61\u001b[0m \u001b[32m━━━━━━━━━━━━━━━━━━━━\u001b[0m\u001b[37m\u001b[0m \u001b[1m0s\u001b[0m 5ms/step - Precision: 0.7276 - Recall: 0.7172 - acc: 0.8085 - loss: 0.3881 - val_Precision: 0.6889 - val_Recall: 0.8015 - val_acc: 0.7962 - val_loss: 0.4368\n",
      "Epoch 30/100\n",
      "\u001b[1m46/61\u001b[0m \u001b[32m━━━━━━━━━━━━━━━\u001b[0m\u001b[37m━━━━━\u001b[0m \u001b[1m0s\u001b[0m 4ms/step - Precision: 0.7090 - Recall: 0.7831 - acc: 0.8070 - loss: 0.3956"
     ]
    },
    {
     "name": "stderr",
     "output_type": "stream",
     "text": [
      "WARNING:absl:You are saving your model as an HDF5 file via `model.save()` or `keras.saving.save_model(model)`. This file format is considered legacy. We recommend using instead the native Keras format, e.g. `model.save('my_model.keras')` or `keras.saving.save_model(model, 'my_model.keras')`. \n"
     ]
    },
    {
     "name": "stdout",
     "output_type": "stream",
     "text": [
      "\u001b[1m61/61\u001b[0m \u001b[32m━━━━━━━━━━━━━━━━━━━━\u001b[0m\u001b[37m\u001b[0m \u001b[1m0s\u001b[0m 6ms/step - Precision: 0.7146 - Recall: 0.7768 - acc: 0.8080 - loss: 0.3956 - val_Precision: 0.7443 - val_Recall: 0.7406 - val_acc: 0.8132 - val_loss: 0.4183\n",
      "Epoch 31/100\n",
      "\u001b[1m61/61\u001b[0m \u001b[32m━━━━━━━━━━━━━━━━━━━━\u001b[0m\u001b[37m\u001b[0m \u001b[1m0s\u001b[0m 3ms/step - Precision: 0.7319 - Recall: 0.7448 - acc: 0.8128 - loss: 0.3913"
     ]
    },
    {
     "name": "stderr",
     "output_type": "stream",
     "text": [
      "WARNING:absl:You are saving your model as an HDF5 file via `model.save()` or `keras.saving.save_model(model)`. This file format is considered legacy. We recommend using instead the native Keras format, e.g. `model.save('my_model.keras')` or `keras.saving.save_model(model, 'my_model.keras')`. \n"
     ]
    },
    {
     "name": "stdout",
     "output_type": "stream",
     "text": [
      "\u001b[1m61/61\u001b[0m \u001b[32m━━━━━━━━━━━━━━━━━━━━\u001b[0m\u001b[37m\u001b[0m \u001b[1m0s\u001b[0m 6ms/step - Precision: 0.7321 - Recall: 0.7448 - acc: 0.8129 - loss: 0.3912 - val_Precision: 0.7238 - val_Recall: 0.7498 - val_acc: 0.8050 - val_loss: 0.4167\n",
      "Epoch 32/100\n",
      "\u001b[1m61/61\u001b[0m \u001b[32m━━━━━━━━━━━━━━━━━━━━\u001b[0m\u001b[37m\u001b[0m \u001b[1m0s\u001b[0m 5ms/step - Precision: 0.7368 - Recall: 0.7509 - acc: 0.8183 - loss: 0.3883 - val_Precision: 0.7506 - val_Recall: 0.7356 - val_acc: 0.8150 - val_loss: 0.4187\n",
      "Epoch 33/100\n",
      "\u001b[1m61/61\u001b[0m \u001b[32m━━━━━━━━━━━━━━━━━━━━\u001b[0m\u001b[37m\u001b[0m \u001b[1m0s\u001b[0m 5ms/step - Precision: 0.7532 - Recall: 0.7435 - acc: 0.8176 - loss: 0.3837 - val_Precision: 0.7268 - val_Recall: 0.7565 - val_acc: 0.8080 - val_loss: 0.4262\n",
      "Epoch 34/100\n",
      "\u001b[1m52/61\u001b[0m \u001b[32m━━━━━━━━━━━━━━━━━\u001b[0m\u001b[37m━━━\u001b[0m \u001b[1m0s\u001b[0m 3ms/step - Precision: 0.7584 - Recall: 0.7432 - acc: 0.8193 - loss: 0.3686"
     ]
    },
    {
     "name": "stderr",
     "output_type": "stream",
     "text": [
      "WARNING:absl:You are saving your model as an HDF5 file via `model.save()` or `keras.saving.save_model(model)`. This file format is considered legacy. We recommend using instead the native Keras format, e.g. `model.save('my_model.keras')` or `keras.saving.save_model(model, 'my_model.keras')`. \n"
     ]
    },
    {
     "name": "stdout",
     "output_type": "stream",
     "text": [
      "\u001b[1m61/61\u001b[0m \u001b[32m━━━━━━━━━━━━━━━━━━━━\u001b[0m\u001b[37m\u001b[0m \u001b[1m0s\u001b[0m 6ms/step - Precision: 0.7572 - Recall: 0.7432 - acc: 0.8192 - loss: 0.3709 - val_Precision: 0.7322 - val_Recall: 0.7456 - val_acc: 0.8083 - val_loss: 0.4165\n",
      "Epoch 35/100\n",
      "\u001b[1m53/61\u001b[0m \u001b[32m━━━━━━━━━━━━━━━━━\u001b[0m\u001b[37m━━━\u001b[0m \u001b[1m0s\u001b[0m 3ms/step - Precision: 0.7686 - Recall: 0.7451 - acc: 0.8300 - loss: 0.3686"
     ]
    },
    {
     "name": "stderr",
     "output_type": "stream",
     "text": [
      "WARNING:absl:You are saving your model as an HDF5 file via `model.save()` or `keras.saving.save_model(model)`. This file format is considered legacy. We recommend using instead the native Keras format, e.g. `model.save('my_model.keras')` or `keras.saving.save_model(model, 'my_model.keras')`. \n"
     ]
    },
    {
     "name": "stdout",
     "output_type": "stream",
     "text": [
      "\u001b[1m61/61\u001b[0m \u001b[32m━━━━━━━━━━━━━━━━━━━━\u001b[0m\u001b[37m\u001b[0m \u001b[1m0s\u001b[0m 5ms/step - Precision: 0.7669 - Recall: 0.7450 - acc: 0.8288 - loss: 0.3699 - val_Precision: 0.7148 - val_Recall: 0.7840 - val_acc: 0.8077 - val_loss: 0.4152\n",
      "Epoch 36/100\n",
      "\u001b[1m52/61\u001b[0m \u001b[32m━━━━━━━━━━━━━━━━━\u001b[0m\u001b[37m━━━\u001b[0m \u001b[1m0s\u001b[0m 3ms/step - Precision: 0.7496 - Recall: 0.7692 - acc: 0.8254 - loss: 0.3781"
     ]
    },
    {
     "name": "stderr",
     "output_type": "stream",
     "text": [
      "WARNING:absl:You are saving your model as an HDF5 file via `model.save()` or `keras.saving.save_model(model)`. This file format is considered legacy. We recommend using instead the native Keras format, e.g. `model.save('my_model.keras')` or `keras.saving.save_model(model, 'my_model.keras')`. \n"
     ]
    },
    {
     "name": "stdout",
     "output_type": "stream",
     "text": [
      "\u001b[1m61/61\u001b[0m \u001b[32m━━━━━━━━━━━━━━━━━━━━\u001b[0m\u001b[37m\u001b[0m \u001b[1m0s\u001b[0m 6ms/step - Precision: 0.7494 - Recall: 0.7661 - acc: 0.8243 - loss: 0.3781 - val_Precision: 0.7594 - val_Recall: 0.7239 - val_acc: 0.8162 - val_loss: 0.4129\n",
      "Epoch 37/100\n",
      "\u001b[1m61/61\u001b[0m \u001b[32m━━━━━━━━━━━━━━━━━━━━\u001b[0m\u001b[37m\u001b[0m \u001b[1m0s\u001b[0m 5ms/step - Precision: 0.7661 - Recall: 0.7610 - acc: 0.8306 - loss: 0.3639 - val_Precision: 0.7164 - val_Recall: 0.7815 - val_acc: 0.8080 - val_loss: 0.4199\n",
      "Epoch 38/100\n",
      "\u001b[1m52/61\u001b[0m \u001b[32m━━━━━━━━━━━━━━━━━\u001b[0m\u001b[37m━━━\u001b[0m \u001b[1m0s\u001b[0m 3ms/step - Precision: 0.7436 - Recall: 0.7876 - acc: 0.8223 - loss: 0.3693"
     ]
    },
    {
     "name": "stderr",
     "output_type": "stream",
     "text": [
      "WARNING:absl:You are saving your model as an HDF5 file via `model.save()` or `keras.saving.save_model(model)`. This file format is considered legacy. We recommend using instead the native Keras format, e.g. `model.save('my_model.keras')` or `keras.saving.save_model(model, 'my_model.keras')`. \n"
     ]
    },
    {
     "name": "stdout",
     "output_type": "stream",
     "text": [
      "\u001b[1m61/61\u001b[0m \u001b[32m━━━━━━━━━━━━━━━━━━━━\u001b[0m\u001b[37m\u001b[0m \u001b[1m0s\u001b[0m 5ms/step - Precision: 0.7441 - Recall: 0.7832 - acc: 0.8219 - loss: 0.3708 - val_Precision: 0.7517 - val_Recall: 0.7298 - val_acc: 0.8141 - val_loss: 0.4079\n",
      "Epoch 39/100\n",
      "\u001b[1m61/61\u001b[0m \u001b[32m━━━━━━━━━━━━━━━━━━━━\u001b[0m\u001b[37m\u001b[0m \u001b[1m0s\u001b[0m 5ms/step - Precision: 0.7681 - Recall: 0.7604 - acc: 0.8308 - loss: 0.3696 - val_Precision: 0.7200 - val_Recall: 0.7848 - val_acc: 0.8107 - val_loss: 0.4180\n",
      "Epoch 40/100\n",
      "\u001b[1m61/61\u001b[0m \u001b[32m━━━━━━━━━━━━━━━━━━━━\u001b[0m\u001b[37m\u001b[0m \u001b[1m0s\u001b[0m 5ms/step - Precision: 0.7568 - Recall: 0.7645 - acc: 0.8301 - loss: 0.3773 - val_Precision: 0.7164 - val_Recall: 0.8090 - val_acc: 0.8141 - val_loss: 0.4201\n",
      "Epoch 41/100\n",
      "\u001b[1m61/61\u001b[0m \u001b[32m━━━━━━━━━━━━━━━━━━━━\u001b[0m\u001b[37m\u001b[0m \u001b[1m0s\u001b[0m 5ms/step - Precision: 0.7533 - Recall: 0.7911 - acc: 0.8298 - loss: 0.3702 - val_Precision: 0.7475 - val_Recall: 0.7381 - val_acc: 0.8141 - val_loss: 0.4085\n",
      "Epoch 42/100\n",
      "\u001b[1m61/61\u001b[0m \u001b[32m━━━━━━━━━━━━━━━━━━━━\u001b[0m\u001b[37m\u001b[0m \u001b[1m0s\u001b[0m 5ms/step - Precision: 0.7694 - Recall: 0.7622 - acc: 0.8339 - loss: 0.3628 - val_Precision: 0.7541 - val_Recall: 0.7239 - val_acc: 0.8138 - val_loss: 0.4139\n",
      "Epoch 43/100\n",
      "\u001b[1m61/61\u001b[0m \u001b[32m━━━━━━━━━━━━━━━━━━━━\u001b[0m\u001b[37m\u001b[0m \u001b[1m0s\u001b[0m 5ms/step - Precision: 0.7638 - Recall: 0.7923 - acc: 0.8362 - loss: 0.3665 - val_Precision: 0.7348 - val_Recall: 0.7740 - val_acc: 0.8162 - val_loss: 0.4116\n",
      "Epoch 44/100\n",
      "\u001b[1m61/61\u001b[0m \u001b[32m━━━━━━━━━━━━━━━━━━━━\u001b[0m\u001b[37m\u001b[0m \u001b[1m0s\u001b[0m 5ms/step - Precision: 0.7624 - Recall: 0.7817 - acc: 0.8329 - loss: 0.3617 - val_Precision: 0.7498 - val_Recall: 0.7523 - val_acc: 0.8186 - val_loss: 0.4124\n",
      "Epoch 45/100\n",
      "\u001b[1m61/61\u001b[0m \u001b[32m━━━━━━━━━━━━━━━━━━━━\u001b[0m\u001b[37m\u001b[0m \u001b[1m0s\u001b[0m 6ms/step - Precision: 0.7597 - Recall: 0.7583 - acc: 0.8287 - loss: 0.3661 - val_Precision: 0.7319 - val_Recall: 0.7606 - val_acc: 0.8116 - val_loss: 0.4135\n",
      "Epoch 46/100\n",
      "\u001b[1m61/61\u001b[0m \u001b[32m━━━━━━━━━━━━━━━━━━━━\u001b[0m\u001b[37m\u001b[0m \u001b[1m0s\u001b[0m 5ms/step - Precision: 0.7673 - Recall: 0.7734 - acc: 0.8339 - loss: 0.3628 - val_Precision: 0.7596 - val_Recall: 0.7406 - val_acc: 0.8204 - val_loss: 0.4114\n",
      "Epoch 47/100\n",
      "\u001b[1m61/61\u001b[0m \u001b[32m━━━━━━━━━━━━━━━━━━━━\u001b[0m\u001b[37m\u001b[0m \u001b[1m0s\u001b[0m 5ms/step - Precision: 0.7764 - Recall: 0.7737 - acc: 0.8372 - loss: 0.3553 - val_Precision: 0.7498 - val_Recall: 0.7523 - val_acc: 0.8186 - val_loss: 0.4115\n",
      "Epoch 48/100\n",
      "\u001b[1m47/61\u001b[0m \u001b[32m━━━━━━━━━━━━━━━\u001b[0m\u001b[37m━━━━━\u001b[0m \u001b[1m0s\u001b[0m 3ms/step - Precision: 0.7851 - Recall: 0.7487 - acc: 0.8310 - loss: 0.3621"
     ]
    },
    {
     "name": "stderr",
     "output_type": "stream",
     "text": [
      "WARNING:absl:You are saving your model as an HDF5 file via `model.save()` or `keras.saving.save_model(model)`. This file format is considered legacy. We recommend using instead the native Keras format, e.g. `model.save('my_model.keras')` or `keras.saving.save_model(model, 'my_model.keras')`. \n"
     ]
    },
    {
     "name": "stdout",
     "output_type": "stream",
     "text": [
      "\u001b[1m61/61\u001b[0m \u001b[32m━━━━━━━━━━━━━━━━━━━━\u001b[0m\u001b[37m\u001b[0m \u001b[1m0s\u001b[0m 6ms/step - Precision: 0.7818 - Recall: 0.7496 - acc: 0.8309 - loss: 0.3623 - val_Precision: 0.7421 - val_Recall: 0.7798 - val_acc: 0.8214 - val_loss: 0.4026\n",
      "Epoch 49/100\n",
      "\u001b[1m51/61\u001b[0m \u001b[32m━━━━━━━━━━━━━━━━\u001b[0m\u001b[37m━━━━\u001b[0m \u001b[1m0s\u001b[0m 3ms/step - Precision: 0.7873 - Recall: 0.7888 - acc: 0.8456 - loss: 0.3403"
     ]
    },
    {
     "name": "stderr",
     "output_type": "stream",
     "text": [
      "WARNING:absl:You are saving your model as an HDF5 file via `model.save()` or `keras.saving.save_model(model)`. This file format is considered legacy. We recommend using instead the native Keras format, e.g. `model.save('my_model.keras')` or `keras.saving.save_model(model, 'my_model.keras')`. \n"
     ]
    },
    {
     "name": "stdout",
     "output_type": "stream",
     "text": [
      "\u001b[1m61/61\u001b[0m \u001b[32m━━━━━━━━━━━━━━━━━━━━\u001b[0m\u001b[37m\u001b[0m \u001b[1m0s\u001b[0m 6ms/step - Precision: 0.7856 - Recall: 0.7869 - acc: 0.8447 - loss: 0.3416 - val_Precision: 0.7404 - val_Recall: 0.7848 - val_acc: 0.8217 - val_loss: 0.3995\n",
      "Epoch 50/100\n",
      "\u001b[1m61/61\u001b[0m \u001b[32m━━━━━━━━━━━━━━━━━━━━\u001b[0m\u001b[37m\u001b[0m \u001b[1m0s\u001b[0m 5ms/step - Precision: 0.7729 - Recall: 0.7666 - acc: 0.8356 - loss: 0.3538 - val_Precision: 0.7450 - val_Recall: 0.7698 - val_acc: 0.8204 - val_loss: 0.4122\n",
      "Epoch 51/100\n",
      "\u001b[1m49/61\u001b[0m \u001b[32m━━━━━━━━━━━━━━━━\u001b[0m\u001b[37m━━━━\u001b[0m \u001b[1m0s\u001b[0m 3ms/step - Precision: 0.7793 - Recall: 0.7589 - acc: 0.8379 - loss: 0.3507"
     ]
    },
    {
     "name": "stderr",
     "output_type": "stream",
     "text": [
      "WARNING:absl:You are saving your model as an HDF5 file via `model.save()` or `keras.saving.save_model(model)`. This file format is considered legacy. We recommend using instead the native Keras format, e.g. `model.save('my_model.keras')` or `keras.saving.save_model(model, 'my_model.keras')`. \n"
     ]
    },
    {
     "name": "stdout",
     "output_type": "stream",
     "text": [
      "\u001b[1m61/61\u001b[0m \u001b[32m━━━━━━━━━━━━━━━━━━━━\u001b[0m\u001b[37m\u001b[0m \u001b[1m0s\u001b[0m 6ms/step - Precision: 0.7782 - Recall: 0.7617 - acc: 0.8375 - loss: 0.3517 - val_Precision: 0.7645 - val_Recall: 0.7715 - val_acc: 0.8305 - val_loss: 0.3970\n",
      "Epoch 52/100\n",
      "\u001b[1m61/61\u001b[0m \u001b[32m━━━━━━━━━━━━━━━━━━━━\u001b[0m\u001b[37m\u001b[0m \u001b[1m0s\u001b[0m 5ms/step - Precision: 0.7885 - Recall: 0.7827 - acc: 0.8466 - loss: 0.3378 - val_Precision: 0.7342 - val_Recall: 0.7832 - val_acc: 0.8180 - val_loss: 0.4050\n",
      "Epoch 53/100\n",
      "\u001b[1m61/61\u001b[0m \u001b[32m━━━━━━━━━━━━━━━━━━━━\u001b[0m\u001b[37m\u001b[0m \u001b[1m0s\u001b[0m 5ms/step - Precision: 0.7743 - Recall: 0.7823 - acc: 0.8431 - loss: 0.3360 - val_Precision: 0.7223 - val_Recall: 0.7982 - val_acc: 0.8150 - val_loss: 0.4115\n",
      "Epoch 54/100\n",
      "\u001b[1m61/61\u001b[0m \u001b[32m━━━━━━━━━━━━━━━━━━━━\u001b[0m\u001b[37m\u001b[0m \u001b[1m0s\u001b[0m 5ms/step - Precision: 0.7848 - Recall: 0.7963 - acc: 0.8458 - loss: 0.3343 - val_Precision: 0.7442 - val_Recall: 0.7982 - val_acc: 0.8268 - val_loss: 0.3996\n",
      "Epoch 55/100\n",
      "\u001b[1m61/61\u001b[0m \u001b[32m━━━━━━━━━━━━━━━━━━━━\u001b[0m\u001b[37m\u001b[0m \u001b[1m0s\u001b[0m 6ms/step - Precision: 0.7873 - Recall: 0.7859 - acc: 0.8456 - loss: 0.3483 - val_Precision: 0.7427 - val_Recall: 0.7681 - val_acc: 0.8189 - val_loss: 0.4011\n",
      "Epoch 56/100\n",
      "\u001b[1m61/61\u001b[0m \u001b[32m━━━━━━━━━━━━━━━━━━━━\u001b[0m\u001b[37m\u001b[0m \u001b[1m0s\u001b[0m 5ms/step - Precision: 0.7676 - Recall: 0.7942 - acc: 0.8403 - loss: 0.3429 - val_Precision: 0.7321 - val_Recall: 0.8023 - val_acc: 0.8214 - val_loss: 0.4058\n",
      "Epoch 57/100\n",
      "\u001b[1m61/61\u001b[0m \u001b[32m━━━━━━━━━━━━━━━━━━━━\u001b[0m\u001b[37m\u001b[0m \u001b[1m0s\u001b[0m 5ms/step - Precision: 0.7841 - Recall: 0.7855 - acc: 0.8448 - loss: 0.3469 - val_Precision: 0.7328 - val_Recall: 0.8257 - val_acc: 0.8271 - val_loss: 0.4061\n",
      "Epoch 58/100\n",
      "\u001b[1m61/61\u001b[0m \u001b[32m━━━━━━━━━━━━━━━━━━━━\u001b[0m\u001b[37m\u001b[0m \u001b[1m0s\u001b[0m 5ms/step - Precision: 0.7663 - Recall: 0.8036 - acc: 0.8440 - loss: 0.3327 - val_Precision: 0.7552 - val_Recall: 0.7873 - val_acc: 0.8298 - val_loss: 0.4071\n",
      "Epoch 59/100\n",
      "\u001b[1m49/61\u001b[0m \u001b[32m━━━━━━━━━━━━━━━━\u001b[0m\u001b[37m━━━━\u001b[0m \u001b[1m0s\u001b[0m 3ms/step - Precision: 0.7854 - Recall: 0.7644 - acc: 0.8410 - loss: 0.3382"
     ]
    },
    {
     "name": "stderr",
     "output_type": "stream",
     "text": [
      "WARNING:absl:You are saving your model as an HDF5 file via `model.save()` or `keras.saving.save_model(model)`. This file format is considered legacy. We recommend using instead the native Keras format, e.g. `model.save('my_model.keras')` or `keras.saving.save_model(model, 'my_model.keras')`. \n"
     ]
    },
    {
     "name": "stdout",
     "output_type": "stream",
     "text": [
      "\u001b[1m61/61\u001b[0m \u001b[32m━━━━━━━━━━━━━━━━━━━━\u001b[0m\u001b[37m\u001b[0m \u001b[1m0s\u001b[0m 6ms/step - Precision: 0.7858 - Recall: 0.7688 - acc: 0.8421 - loss: 0.3377 - val_Precision: 0.7711 - val_Recall: 0.7840 - val_acc: 0.8368 - val_loss: 0.3926\n",
      "Epoch 60/100\n",
      "\u001b[1m61/61\u001b[0m \u001b[32m━━━━━━━━━━━━━━━━━━━━\u001b[0m\u001b[37m\u001b[0m \u001b[1m0s\u001b[0m 5ms/step - Precision: 0.7850 - Recall: 0.7876 - acc: 0.8445 - loss: 0.3412 - val_Precision: 0.7508 - val_Recall: 0.7890 - val_acc: 0.8280 - val_loss: 0.4009\n",
      "Epoch 61/100\n",
      "\u001b[1m61/61\u001b[0m \u001b[32m━━━━━━━━━━━━━━━━━━━━\u001b[0m\u001b[37m\u001b[0m \u001b[1m0s\u001b[0m 5ms/step - Precision: 0.7752 - Recall: 0.7958 - acc: 0.8430 - loss: 0.3432 - val_Precision: 0.7361 - val_Recall: 0.8048 - val_acc: 0.8241 - val_loss: 0.4040\n",
      "Epoch 62/100\n",
      "\u001b[1m61/61\u001b[0m \u001b[32m━━━━━━━━━━━━━━━━━━━━\u001b[0m\u001b[37m\u001b[0m \u001b[1m0s\u001b[0m 5ms/step - Precision: 0.7787 - Recall: 0.7916 - acc: 0.8440 - loss: 0.3363 - val_Precision: 0.7438 - val_Recall: 0.8040 - val_acc: 0.8280 - val_loss: 0.4040\n",
      "Epoch 63/100\n",
      "\u001b[1m61/61\u001b[0m \u001b[32m━━━━━━━━━━━━━━━━━━━━\u001b[0m\u001b[37m\u001b[0m \u001b[1m0s\u001b[0m 5ms/step - Precision: 0.7909 - Recall: 0.8046 - acc: 0.8511 - loss: 0.3206 - val_Precision: 0.7445 - val_Recall: 0.7948 - val_acc: 0.8262 - val_loss: 0.4044\n",
      "Epoch 64/100\n",
      "\u001b[1m61/61\u001b[0m \u001b[32m━━━━━━━━━━━━━━━━━━━━\u001b[0m\u001b[37m\u001b[0m \u001b[1m0s\u001b[0m 5ms/step - Precision: 0.8060 - Recall: 0.7955 - acc: 0.8554 - loss: 0.3313 - val_Precision: 0.7542 - val_Recall: 0.7857 - val_acc: 0.8289 - val_loss: 0.4022\n",
      "Epoch 65/100\n",
      "\u001b[1m61/61\u001b[0m \u001b[32m━━━━━━━━━━━━━━━━━━━━\u001b[0m\u001b[37m\u001b[0m \u001b[1m0s\u001b[0m 5ms/step - Precision: 0.7913 - Recall: 0.7968 - acc: 0.8508 - loss: 0.3213 - val_Precision: 0.7692 - val_Recall: 0.7756 - val_acc: 0.8338 - val_loss: 0.3990\n",
      "Epoch 66/100\n",
      "\u001b[1m61/61\u001b[0m \u001b[32m━━━━━━━━━━━━━━━━━━━━\u001b[0m\u001b[37m\u001b[0m \u001b[1m0s\u001b[0m 5ms/step - Precision: 0.7961 - Recall: 0.7959 - acc: 0.8506 - loss: 0.3261 - val_Precision: 0.7688 - val_Recall: 0.7765 - val_acc: 0.8338 - val_loss: 0.4028\n",
      "Epoch 67/100\n",
      "\u001b[1m61/61\u001b[0m \u001b[32m━━━━━━━━━━━━━━━━━━━━\u001b[0m\u001b[37m\u001b[0m \u001b[1m0s\u001b[0m 5ms/step - Precision: 0.7923 - Recall: 0.7977 - acc: 0.8517 - loss: 0.3229 - val_Precision: 0.7977 - val_Recall: 0.7398 - val_acc: 0.8371 - val_loss: 0.4057\n",
      "Epoch 68/100\n",
      "\u001b[1m49/61\u001b[0m \u001b[32m━━━━━━━━━━━━━━━━\u001b[0m\u001b[37m━━━━\u001b[0m \u001b[1m0s\u001b[0m 3ms/step - Precision: 0.8134 - Recall: 0.8066 - acc: 0.8624 - loss: 0.3225"
     ]
    },
    {
     "name": "stderr",
     "output_type": "stream",
     "text": [
      "WARNING:absl:You are saving your model as an HDF5 file via `model.save()` or `keras.saving.save_model(model)`. This file format is considered legacy. We recommend using instead the native Keras format, e.g. `model.save('my_model.keras')` or `keras.saving.save_model(model, 'my_model.keras')`. \n"
     ]
    },
    {
     "name": "stdout",
     "output_type": "stream",
     "text": [
      "\u001b[1m61/61\u001b[0m \u001b[32m━━━━━━━━━━━━━━━━━━━━\u001b[0m\u001b[37m\u001b[0m \u001b[1m0s\u001b[0m 6ms/step - Precision: 0.8104 - Recall: 0.8049 - acc: 0.8609 - loss: 0.3229 - val_Precision: 0.7635 - val_Recall: 0.7915 - val_acc: 0.8350 - val_loss: 0.3902\n",
      "Epoch 69/100\n",
      "\u001b[1m61/61\u001b[0m \u001b[32m━━━━━━━━━━━━━━━━━━━━\u001b[0m\u001b[37m\u001b[0m \u001b[1m0s\u001b[0m 5ms/step - Precision: 0.7921 - Recall: 0.8105 - acc: 0.8564 - loss: 0.3101 - val_Precision: 0.7676 - val_Recall: 0.8015 - val_acc: 0.8396 - val_loss: 0.4032\n",
      "Epoch 70/100\n",
      "\u001b[1m61/61\u001b[0m \u001b[32m━━━━━━━━━━━━━━━━━━━━\u001b[0m\u001b[37m\u001b[0m \u001b[1m0s\u001b[0m 5ms/step - Precision: 0.8148 - Recall: 0.7989 - acc: 0.8610 - loss: 0.3091 - val_Precision: 0.7581 - val_Recall: 0.7973 - val_acc: 0.8338 - val_loss: 0.3998\n",
      "Epoch 71/100\n",
      "\u001b[1m61/61\u001b[0m \u001b[32m━━━━━━━━━━━━━━━━━━━━\u001b[0m\u001b[37m\u001b[0m \u001b[1m0s\u001b[0m 5ms/step - Precision: 0.8089 - Recall: 0.7967 - acc: 0.8585 - loss: 0.3089 - val_Precision: 0.7658 - val_Recall: 0.8098 - val_acc: 0.8408 - val_loss: 0.3969\n",
      "Epoch 72/100\n",
      "\u001b[1m61/61\u001b[0m \u001b[32m━━━━━━━━━━━━━━━━━━━━\u001b[0m\u001b[37m\u001b[0m \u001b[1m0s\u001b[0m 5ms/step - Precision: 0.7976 - Recall: 0.8081 - acc: 0.8596 - loss: 0.3172 - val_Precision: 0.7646 - val_Recall: 0.7990 - val_acc: 0.8374 - val_loss: 0.3957\n",
      "Epoch 73/100\n",
      "\u001b[1m61/61\u001b[0m \u001b[32m━━━━━━━━━━━━━━━━━━━━\u001b[0m\u001b[37m\u001b[0m \u001b[1m0s\u001b[0m 5ms/step - Precision: 0.7990 - Recall: 0.8170 - acc: 0.8591 - loss: 0.3195 - val_Precision: 0.7490 - val_Recall: 0.7990 - val_acc: 0.8295 - val_loss: 0.3965\n",
      "Epoch 74/100\n",
      "\u001b[1m61/61\u001b[0m \u001b[32m━━━━━━━━━━━━━━━━━━━━\u001b[0m\u001b[37m\u001b[0m \u001b[1m0s\u001b[0m 5ms/step - Precision: 0.7857 - Recall: 0.8101 - acc: 0.8502 - loss: 0.3217 - val_Precision: 0.7569 - val_Recall: 0.7815 - val_acc: 0.8292 - val_loss: 0.4032\n",
      "Epoch 75/100\n",
      "\u001b[1m61/61\u001b[0m \u001b[32m━━━━━━━━━━━━━━━━━━━━\u001b[0m\u001b[37m\u001b[0m \u001b[1m0s\u001b[0m 5ms/step - Precision: 0.7938 - Recall: 0.7907 - acc: 0.8522 - loss: 0.3129 - val_Precision: 0.7471 - val_Recall: 0.8007 - val_acc: 0.8289 - val_loss: 0.4058\n",
      "Epoch 76/100\n",
      "\u001b[1m61/61\u001b[0m \u001b[32m━━━━━━━━━━━━━━━━━━━━\u001b[0m\u001b[37m\u001b[0m \u001b[1m0s\u001b[0m 5ms/step - Precision: 0.8086 - Recall: 0.8126 - acc: 0.8650 - loss: 0.3003 - val_Precision: 0.7635 - val_Recall: 0.7890 - val_acc: 0.8344 - val_loss: 0.3919\n",
      "Epoch 77/100\n",
      "\u001b[1m61/61\u001b[0m \u001b[32m━━━━━━━━━━━━━━━━━━━━\u001b[0m\u001b[37m\u001b[0m \u001b[1m0s\u001b[0m 5ms/step - Precision: 0.8127 - Recall: 0.8012 - acc: 0.8601 - loss: 0.3042 - val_Precision: 0.7274 - val_Recall: 0.8390 - val_acc: 0.8271 - val_loss: 0.4175\n",
      "Epoch 78/100\n",
      "\u001b[1m61/61\u001b[0m \u001b[32m━━━━━━━━━━━━━━━━━━━━\u001b[0m\u001b[37m\u001b[0m \u001b[1m0s\u001b[0m 5ms/step - Precision: 0.7980 - Recall: 0.8311 - acc: 0.8611 - loss: 0.3102 - val_Precision: 0.7652 - val_Recall: 0.7965 - val_acc: 0.8371 - val_loss: 0.3964\n",
      "Epoch 79/100\n",
      "\u001b[1m61/61\u001b[0m \u001b[32m━━━━━━━━━━━━━━━━━━━━\u001b[0m\u001b[37m\u001b[0m \u001b[1m0s\u001b[0m 5ms/step - Precision: 0.8121 - Recall: 0.8122 - acc: 0.8609 - loss: 0.3043 - val_Precision: 0.7759 - val_Recall: 0.7882 - val_acc: 0.8402 - val_loss: 0.3987\n",
      "Epoch 80/100\n",
      "\u001b[1m61/61\u001b[0m \u001b[32m━━━━━━━━━━━━━━━━━━━━\u001b[0m\u001b[37m\u001b[0m \u001b[1m0s\u001b[0m 6ms/step - Precision: 0.8020 - Recall: 0.8010 - acc: 0.8592 - loss: 0.3102 - val_Precision: 0.7428 - val_Recall: 0.8190 - val_acc: 0.8311 - val_loss: 0.4035\n",
      "Epoch 81/100\n",
      "\u001b[1m61/61\u001b[0m \u001b[32m━━━━━━━━━━━━━━━━━━━━\u001b[0m\u001b[37m\u001b[0m \u001b[1m0s\u001b[0m 6ms/step - Precision: 0.7981 - Recall: 0.8207 - acc: 0.8609 - loss: 0.3020 - val_Precision: 0.7506 - val_Recall: 0.8032 - val_acc: 0.8314 - val_loss: 0.4047\n",
      "Epoch 82/100\n",
      "\u001b[1m61/61\u001b[0m \u001b[32m━━━━━━━━━━━━━━━━━━━━\u001b[0m\u001b[37m\u001b[0m \u001b[1m0s\u001b[0m 5ms/step - Precision: 0.8169 - Recall: 0.8185 - acc: 0.8687 - loss: 0.2962 - val_Precision: 0.7524 - val_Recall: 0.7932 - val_acc: 0.8298 - val_loss: 0.4093\n",
      "Epoch 83/100\n",
      "\u001b[1m61/61\u001b[0m \u001b[32m━━━━━━━━━━━━━━━━━━━━\u001b[0m\u001b[37m\u001b[0m \u001b[1m0s\u001b[0m 6ms/step - Precision: 0.8027 - Recall: 0.7997 - acc: 0.8598 - loss: 0.2992 - val_Precision: 0.7372 - val_Recall: 0.8257 - val_acc: 0.8295 - val_loss: 0.4117\n",
      "Epoch 84/100\n",
      "\u001b[1m61/61\u001b[0m \u001b[32m━━━━━━━━━━━━━━━━━━━━\u001b[0m\u001b[37m\u001b[0m \u001b[1m0s\u001b[0m 5ms/step - Precision: 0.7979 - Recall: 0.8262 - acc: 0.8622 - loss: 0.2979 - val_Precision: 0.7632 - val_Recall: 0.8065 - val_acc: 0.8386 - val_loss: 0.3904\n",
      "Epoch 85/100\n",
      "\u001b[1m61/61\u001b[0m \u001b[32m━━━━━━━━━━━━━━━━━━━━\u001b[0m\u001b[37m\u001b[0m \u001b[1m0s\u001b[0m 5ms/step - Precision: 0.8182 - Recall: 0.8155 - acc: 0.8683 - loss: 0.2967 - val_Precision: 0.7730 - val_Recall: 0.7982 - val_acc: 0.8414 - val_loss: 0.3913\n",
      "Epoch 86/100\n",
      "\u001b[1m61/61\u001b[0m \u001b[32m━━━━━━━━━━━━━━━━━━━━\u001b[0m\u001b[37m\u001b[0m \u001b[1m0s\u001b[0m 5ms/step - Precision: 0.7990 - Recall: 0.8342 - acc: 0.8662 - loss: 0.2986 - val_Precision: 0.7488 - val_Recall: 0.8132 - val_acc: 0.8329 - val_loss: 0.4001\n",
      "Epoch 87/100\n",
      "\u001b[1m61/61\u001b[0m \u001b[32m━━━━━━━━━━━━━━━━━━━━\u001b[0m\u001b[37m\u001b[0m \u001b[1m0s\u001b[0m 5ms/step - Precision: 0.8121 - Recall: 0.8293 - acc: 0.8676 - loss: 0.2987 - val_Precision: 0.7858 - val_Recall: 0.7648 - val_acc: 0.8386 - val_loss: 0.4057\n",
      "Epoch 88/100\n",
      "\u001b[1m61/61\u001b[0m \u001b[32m━━━━━━━━━━━━━━━━━━━━\u001b[0m\u001b[37m\u001b[0m \u001b[1m0s\u001b[0m 5ms/step - Precision: 0.8191 - Recall: 0.7963 - acc: 0.8631 - loss: 0.3063 - val_Precision: 0.7539 - val_Recall: 0.8098 - val_acc: 0.8347 - val_loss: 0.4052\n",
      "Epoch 89/100\n",
      "\u001b[1m61/61\u001b[0m \u001b[32m━━━━━━━━━━━━━━━━━━━━\u001b[0m\u001b[37m\u001b[0m \u001b[1m0s\u001b[0m 5ms/step - Precision: 0.8071 - Recall: 0.8274 - acc: 0.8670 - loss: 0.3019 - val_Precision: 0.7600 - val_Recall: 0.8082 - val_acc: 0.8374 - val_loss: 0.3989\n",
      "Epoch 90/100\n",
      "\u001b[1m61/61\u001b[0m \u001b[32m━━━━━━━━━━━━━━━━━━━━\u001b[0m\u001b[37m\u001b[0m \u001b[1m0s\u001b[0m 5ms/step - Precision: 0.8048 - Recall: 0.8238 - acc: 0.8658 - loss: 0.2963 - val_Precision: 0.7511 - val_Recall: 0.8257 - val_acc: 0.8371 - val_loss: 0.4031\n",
      "Epoch 91/100\n",
      "\u001b[1m61/61\u001b[0m \u001b[32m━━━━━━━━━━━━━━━━━━━━\u001b[0m\u001b[37m\u001b[0m \u001b[1m0s\u001b[0m 6ms/step - Precision: 0.8013 - Recall: 0.8315 - acc: 0.8662 - loss: 0.2973 - val_Precision: 0.7570 - val_Recall: 0.8157 - val_acc: 0.8377 - val_loss: 0.3982\n",
      "Epoch 92/100\n",
      "\u001b[1m61/61\u001b[0m \u001b[32m━━━━━━━━━━━━━━━━━━━━\u001b[0m\u001b[37m\u001b[0m \u001b[1m0s\u001b[0m 5ms/step - Precision: 0.8004 - Recall: 0.8225 - acc: 0.8625 - loss: 0.2928 - val_Precision: 0.7662 - val_Recall: 0.7982 - val_acc: 0.8380 - val_loss: 0.4010\n",
      "Epoch 93/100\n",
      "\u001b[1m61/61\u001b[0m \u001b[32m━━━━━━━━━━━━━━━━━━━━\u001b[0m\u001b[37m\u001b[0m \u001b[1m0s\u001b[0m 5ms/step - Precision: 0.8322 - Recall: 0.8200 - acc: 0.8725 - loss: 0.2847 - val_Precision: 0.7521 - val_Recall: 0.8123 - val_acc: 0.8344 - val_loss: 0.4014\n",
      "Epoch 94/100\n",
      "\u001b[1m61/61\u001b[0m \u001b[32m━━━━━━━━━━━━━━━━━━━━\u001b[0m\u001b[37m\u001b[0m \u001b[1m0s\u001b[0m 5ms/step - Precision: 0.8300 - Recall: 0.8419 - acc: 0.8798 - loss: 0.2786 - val_Precision: 0.7653 - val_Recall: 0.7915 - val_acc: 0.8359 - val_loss: 0.3909\n",
      "Epoch 95/100\n",
      "\u001b[1m61/61\u001b[0m \u001b[32m━━━━━━━━━━━━━━━━━━━━\u001b[0m\u001b[37m\u001b[0m \u001b[1m0s\u001b[0m 5ms/step - Precision: 0.8117 - Recall: 0.8040 - acc: 0.8635 - loss: 0.2920 - val_Precision: 0.7617 - val_Recall: 0.7890 - val_acc: 0.8335 - val_loss: 0.3984\n",
      "Epoch 96/100\n",
      "\u001b[1m61/61\u001b[0m \u001b[32m━━━━━━━━━━━━━━━━━━━━\u001b[0m\u001b[37m\u001b[0m \u001b[1m0s\u001b[0m 5ms/step - Precision: 0.8073 - Recall: 0.8269 - acc: 0.8662 - loss: 0.2933 - val_Precision: 0.7546 - val_Recall: 0.8182 - val_acc: 0.8371 - val_loss: 0.4065\n",
      "Epoch 97/100\n",
      "\u001b[1m61/61\u001b[0m \u001b[32m━━━━━━━━━━━━━━━━━━━━\u001b[0m\u001b[37m\u001b[0m \u001b[1m0s\u001b[0m 5ms/step - Precision: 0.8250 - Recall: 0.8218 - acc: 0.8695 - loss: 0.2919 - val_Precision: 0.7582 - val_Recall: 0.8057 - val_acc: 0.8359 - val_loss: 0.3998\n",
      "Epoch 98/100\n",
      "\u001b[1m61/61\u001b[0m \u001b[32m━━━━━━━━━━━━━━━━━━━━\u001b[0m\u001b[37m\u001b[0m \u001b[1m0s\u001b[0m 5ms/step - Precision: 0.8284 - Recall: 0.8396 - acc: 0.8780 - loss: 0.2777 - val_Precision: 0.7734 - val_Recall: 0.7915 - val_acc: 0.8399 - val_loss: 0.4071\n",
      "Epoch 99/100\n",
      "\u001b[1m61/61\u001b[0m \u001b[32m━━━━━━━━━━━━━━━━━━━━\u001b[0m\u001b[37m\u001b[0m \u001b[1m0s\u001b[0m 5ms/step - Precision: 0.8147 - Recall: 0.8133 - acc: 0.8665 - loss: 0.2887 - val_Precision: 0.7741 - val_Recall: 0.7973 - val_acc: 0.8417 - val_loss: 0.4015\n",
      "Epoch 100/100\n",
      "\u001b[1m61/61\u001b[0m \u001b[32m━━━━━━━━━━━━━━━━━━━━\u001b[0m\u001b[37m\u001b[0m \u001b[1m0s\u001b[0m 5ms/step - Precision: 0.8118 - Recall: 0.8028 - acc: 0.8654 - loss: 0.2993 - val_Precision: 0.7519 - val_Recall: 0.8190 - val_acc: 0.8359 - val_loss: 0.4033\n"
     ]
    },
    {
     "name": "stderr",
     "output_type": "stream",
     "text": [
      "2025/05/02 21:42:03 WARNING mlflow.tensorflow: Failed to infer model signature: could not sample data to infer model signature: Cannot log input example or model signature for input with type <class 'pandas.core.frame.DataFrame'>. TensorFlow Keras autologging can only log input examples and model signatures for the following input types: numpy.ndarray, dict[string -> numpy.ndarray], tensorflow.keras.utils.Sequence, and tensorflow.data.Dataset (TensorFlow >= 2.1.0 required)\n",
      "2025/05/02 21:42:03 WARNING mlflow.tensorflow: You are saving a TensorFlow Core model or Keras model without a signature. Inference with mlflow.pyfunc.spark_udf() will not work unless the model's pyfunc representation accepts pandas DataFrames as inference inputs.\n",
      "2025/05/02 21:42:08 WARNING mlflow.models.model: Model logged without a signature and input example. Please set `input_example` parameter when logging the model to auto infer the model signature.\n"
     ]
    },
    {
     "name": "stdout",
     "output_type": "stream",
     "text": [
      "\u001b[1m 57/104\u001b[0m \u001b[32m━━━━━━━━━━\u001b[0m\u001b[37m━━━━━━━━━━\u001b[0m \u001b[1m0s\u001b[0m 893us/step - Precision: 0.7610 - Recall: 0.8240 - acc: 0.8443 - loss: 0.4038"
     ]
    },
    {
     "name": "stderr",
     "output_type": "stream",
     "text": [
      "Successfully registered model 'DNN-model'.\n",
      "Created version '1' of model 'DNN-model'.\n"
     ]
    },
    {
     "name": "stdout",
     "output_type": "stream",
     "text": [
      "\u001b[1m104/104\u001b[0m \u001b[32m━━━━━━━━━━━━━━━━━━━━\u001b[0m\u001b[37m\u001b[0m \u001b[1m0s\u001b[0m 1ms/step - Precision: 0.7573 - Recall: 0.8241 - acc: 0.8423 - loss: 0.4017  \n"
     ]
    }
   ],
   "source": [
    "with mlflow.start_run(run_name='DNN'):#mlflow\n",
    "    mlflow.tensorflow.autolog()#mlflow    \n",
    "\n",
    "    n_input = X_train.shape[1]\n",
    "\n",
    "    model = Sequential()\n",
    "    model.add(BatchNormalization())\n",
    "    model.add(Dense(256, input_shape=(n_input,), activation='relu'))\n",
    "    model.add(Dropout(0.1))  # 增加 Dropout 率，避免過擬合\n",
    "    model.add(Dense(512, activation='relu'))\n",
    "    model.add(Dropout(0.1))  # Dropout 率可根據需要進行調整\n",
    "    model.add(Dense(128, activation='relu'))\n",
    "    model.add(Dropout(0.1))  # Dropout 率可根據需要進行調整\n",
    "    model.add(Dense(1, activation='sigmoid'))\n",
    "\n",
    "\n",
    "    # 模型optimizer 和 learning rate\n",
    "\n",
    "\n",
    "    initial_lr = 0.001\n",
    "    from tensorflow.keras.optimizers import schedules\n",
    "    lr_schedule = schedules.ExponentialDecay(\n",
    "        initial_learning_rate=initial_lr,\n",
    "        decay_steps=100000,\n",
    "        decay_rate=0.96,\n",
    "        staircase=True)\n",
    "    from tensorflow.keras.optimizers import Adam\n",
    "    optimizer = Adam(learning_rate=lr_schedule)\n",
    "\n",
    "    mlflow.log_param(\"loss\", 'bce') #mlflow\n",
    "    model.compile(loss='bce', optimizer=optimizer, metrics=['acc', 'Recall', 'Precision'])\n",
    "\n",
    "    # EarlyStopping: 根據 val_loss 停止訓練\n",
    "    early_stop = EarlyStopping(monitor='val_loss', patience=10, verbose=1, restore_best_weights=True)\n",
    "    # ModelCheckpoint: 儲存最佳模型\n",
    "    from tensorflow.keras.callbacks import ModelCheckpoint\n",
    "    checkpoint = ModelCheckpoint('./models_temp/DNN_best_model.h5', monitor='val_loss', save_best_only=True, verbose=1)\n",
    "\n",
    "    history = model.fit(X_train, y_train, validation_data=(X_test, y_test), epochs=100, batch_size=128, verbose=1)\n",
    "\n",
    "    train_loss, train_acc, train_recall, train_precision = model.evaluate(X_train, y_train, verbose=0)\n",
    "    test_loss, test_acc, test_recall, test_precision = model.evaluate(X_test, y_test, verbose=0)\n",
    "    mlflow.log_metric(\"Train score\", train_acc)#mlflow\n",
    "    mlflow.log_metric(\"Test score\", test_acc)#mlflow\n",
    "    #註冊模型\n",
    "    run_id = mlflow.active_run().info.run_id#mlflow\n",
    "    result = mlflow.register_model(\n",
    "        model_uri=f\"runs:/{run_id}/model\",  # 你要用 mlflow.log_model 存的位置\n",
    "        name=\"DNN-model\"              # 註冊後的 model name\n",
    "    )\n",
    "\n",
    "    \n",
    "    model.evaluate(X_test, y_test)"
   ]
  },
  {
   "cell_type": "code",
   "execution_count": 34,
   "id": "d4b1e3ac",
   "metadata": {},
   "outputs": [
    {
     "data": {
      "image/png": "[encoded data removed]",
      "text/plain": [
       "<Figure size 640x480 with 1 Axes>"
      ]
     },
     "metadata": {},
     "output_type": "display_data"
    },
    {
     "data": {
      "image/png": "[encoded data removed]",
      "text/plain": [
       "<Figure size 640x480 with 1 Axes>"
      ]
     },
     "metadata": {},
     "output_type": "display_data"
    }
   ],
   "source": [
    "import matplotlib.pyplot as plt\n",
    "\n",
    "# Loss 曲線\n",
    "plt.plot(history.history['loss'], label='Train Loss')\n",
    "plt.plot(history.history['val_loss'], label='Validation Loss')\n",
    "plt.xlabel('Epochs')\n",
    "plt.ylabel('Loss')\n",
    "plt.legend()\n",
    "plt.title('Loss over epochs')\n",
    "plt.show()\n",
    "\n",
    "# Accuracy 曲線\n",
    "plt.plot(history.history['acc'], label='Train Accuracy')\n",
    "plt.plot(history.history['val_acc'], label='Validation Accuracy')\n",
    "plt.xlabel('Epochs')\n",
    "plt.ylabel('Accuracy')\n",
    "plt.legend()\n",
    "plt.title('Accuracy over epochs')\n",
    "plt.show()"
   ]
  },
  {
   "cell_type": "code",
   "execution_count": 35,
   "id": "73c2dab2",
   "metadata": {},
   "outputs": [
    {
     "name": "stdout",
     "output_type": "stream",
     "text": [
      "\u001b[1m104/104\u001b[0m \u001b[32m━━━━━━━━━━━━━━━━━━━━\u001b[0m\u001b[37m\u001b[0m \u001b[1m0s\u001b[0m 1ms/step  \n"
     ]
    },
    {
     "data": {
      "image/png": "[encoded data removed]",
      "text/plain": [
       "<Figure size 600x600 with 2 Axes>"
      ]
     },
     "metadata": {},
     "output_type": "display_data"
    },
    {
     "name": "stdout",
     "output_type": "stream",
     "text": [
      "Classification Report:\n",
      "\n",
      "              precision    recall  f1-score   support\n",
      "\n",
      "           0     0.8910    0.8456    0.8677      2098\n",
      "           1     0.7519    0.8190    0.7840      1199\n",
      "\n",
      "    accuracy                         0.8359      3297\n",
      "   macro avg     0.8215    0.8323    0.8259      3297\n",
      "weighted avg     0.8404    0.8359    0.8373      3297\n",
      "\n"
     ]
    }
   ],
   "source": [
    "from sklearn.metrics import confusion_matrix\n",
    "import seaborn as sns\n",
    "import matplotlib.pyplot as plt\n",
    "\n",
    "# 預測結果\n",
    "y_pred = model.predict(X_test)\n",
    "y_pred_class = (y_pred > 0.5).astype(int)  # 轉換為二分類結果\n",
    "\n",
    "# 計算混淆矩陣\n",
    "cm_f = confusion_matrix(y_test, y_pred_class)\n",
    "\n",
    "# 繪製混淆矩陣\n",
    "plt.figure(figsize=(6, 6))\n",
    "sns.heatmap(cm_f, annot=True, fmt='d', cmap='Blues', xticklabels=[0, 1], yticklabels=[0, 1])\n",
    "plt.xlabel(\"Predicted\")\n",
    "plt.ylabel(\"Actual\")\n",
    "plt.title(\"Confusion Matrix\")\n",
    "plt.show()\n",
    "\n",
    "# classification report\n",
    "print(\"Classification Report:\\n\")\n",
    "print(classification_report(y_test, y_pred_class, digits=4))"
   ]
  },
  {
   "cell_type": "code",
   "execution_count": 36,
   "id": "d8f301ec-a95d-4d9c-b4da-29548b55ed39",
   "metadata": {},
   "outputs": [],
   "source": [
    "#history_df = pd.DataFrame(history.history)\n",
    "#history_df.sort_values(by='acc', ascending=False)"
   ]
  },
  {
   "cell_type": "markdown",
   "id": "dd19eab0",
   "metadata": {},
   "source": [
    "## Attention Mechanism"
   ]
  },
  {
   "cell_type": "code",
   "execution_count": 37,
   "id": "fbe618ef",
   "metadata": {},
   "outputs": [
    {
     "data": {
      "text/html": [
       "<pre style=\"white-space:pre;overflow-x:auto;line-height:normal;font-family:Menlo,'DejaVu Sans Mono',consolas,'Courier New',monospace\"><span style=\"font-weight: bold\">Model: \"functional_1\"</span>\n",
       "</pre>\n"
      ],
      "text/plain": [
       "\u001b[1mModel: \"functional_1\"\u001b[0m\n"
      ]
     },
     "metadata": {},
     "output_type": "display_data"
    },
    {
     "data": {
      "text/html": [
       "<pre style=\"white-space:pre;overflow-x:auto;line-height:normal;font-family:Menlo,'DejaVu Sans Mono',consolas,'Courier New',monospace\">┏━━━━━━━━━━━━━━━━━━━━━┳━━━━━━━━━━━━━━━━━━━┳━━━━━━━━━━━━┳━━━━━━━━━━━━━━━━━━━┓\n",
       "┃<span style=\"font-weight: bold\"> Layer (type)        </span>┃<span style=\"font-weight: bold\"> Output Shape      </span>┃<span style=\"font-weight: bold\">    Param # </span>┃<span style=\"font-weight: bold\"> Connected to      </span>┃\n",
       "┡━━━━━━━━━━━━━━━━━━━━━╇━━━━━━━━━━━━━━━━━━━╇━━━━━━━━━━━━╇━━━━━━━━━━━━━━━━━━━┩\n",
       "│ input_layer_1       │ (<span style=\"color: #00d7ff; text-decoration-color: #00d7ff\">None</span>, <span style=\"color: #00af00; text-decoration-color: #00af00\">19</span>)        │          <span style=\"color: #00af00; text-decoration-color: #00af00\">0</span> │ -                 │\n",
       "│ (<span style=\"color: #0087ff; text-decoration-color: #0087ff\">InputLayer</span>)        │                   │            │                   │\n",
       "├─────────────────────┼───────────────────┼────────────┼───────────────────┤\n",
       "│ batch_normalizatio… │ (<span style=\"color: #00d7ff; text-decoration-color: #00d7ff\">None</span>, <span style=\"color: #00af00; text-decoration-color: #00af00\">19</span>)        │         <span style=\"color: #00af00; text-decoration-color: #00af00\">76</span> │ input_layer_1[<span style=\"color: #00af00; text-decoration-color: #00af00\">0</span>]… │\n",
       "│ (<span style=\"color: #0087ff; text-decoration-color: #0087ff\">BatchNormalizatio…</span> │                   │            │                   │\n",
       "├─────────────────────┼───────────────────┼────────────┼───────────────────┤\n",
       "│ dense_4 (<span style=\"color: #0087ff; text-decoration-color: #0087ff\">Dense</span>)     │ (<span style=\"color: #00d7ff; text-decoration-color: #00d7ff\">None</span>, <span style=\"color: #00af00; text-decoration-color: #00af00\">128</span>)       │      <span style=\"color: #00af00; text-decoration-color: #00af00\">2,560</span> │ batch_normalizat… │\n",
       "├─────────────────────┼───────────────────┼────────────┼───────────────────┤\n",
       "│ dropout_3 (<span style=\"color: #0087ff; text-decoration-color: #0087ff\">Dropout</span>) │ (<span style=\"color: #00d7ff; text-decoration-color: #00d7ff\">None</span>, <span style=\"color: #00af00; text-decoration-color: #00af00\">128</span>)       │          <span style=\"color: #00af00; text-decoration-color: #00af00\">0</span> │ dense_4[<span style=\"color: #00af00; text-decoration-color: #00af00\">0</span>][<span style=\"color: #00af00; text-decoration-color: #00af00\">0</span>]     │\n",
       "├─────────────────────┼───────────────────┼────────────┼───────────────────┤\n",
       "│ reshape (<span style=\"color: #0087ff; text-decoration-color: #0087ff\">Reshape</span>)   │ (<span style=\"color: #00d7ff; text-decoration-color: #00d7ff\">None</span>, <span style=\"color: #00af00; text-decoration-color: #00af00\">1</span>, <span style=\"color: #00af00; text-decoration-color: #00af00\">128</span>)    │          <span style=\"color: #00af00; text-decoration-color: #00af00\">0</span> │ dropout_3[<span style=\"color: #00af00; text-decoration-color: #00af00\">0</span>][<span style=\"color: #00af00; text-decoration-color: #00af00\">0</span>]   │\n",
       "├─────────────────────┼───────────────────┼────────────┼───────────────────┤\n",
       "│ multi_head_attenti… │ (<span style=\"color: #00d7ff; text-decoration-color: #00d7ff\">None</span>, <span style=\"color: #00af00; text-decoration-color: #00af00\">1</span>, <span style=\"color: #00af00; text-decoration-color: #00af00\">128</span>)    │     <span style=\"color: #00af00; text-decoration-color: #00af00\">66,048</span> │ reshape[<span style=\"color: #00af00; text-decoration-color: #00af00\">0</span>][<span style=\"color: #00af00; text-decoration-color: #00af00\">0</span>],    │\n",
       "│ (<span style=\"color: #0087ff; text-decoration-color: #0087ff\">MultiHeadAttentio…</span> │                   │            │ reshape[<span style=\"color: #00af00; text-decoration-color: #00af00\">0</span>][<span style=\"color: #00af00; text-decoration-color: #00af00\">0</span>]     │\n",
       "├─────────────────────┼───────────────────┼────────────┼───────────────────┤\n",
       "│ dropout_5 (<span style=\"color: #0087ff; text-decoration-color: #0087ff\">Dropout</span>) │ (<span style=\"color: #00d7ff; text-decoration-color: #00d7ff\">None</span>, <span style=\"color: #00af00; text-decoration-color: #00af00\">1</span>, <span style=\"color: #00af00; text-decoration-color: #00af00\">128</span>)    │          <span style=\"color: #00af00; text-decoration-color: #00af00\">0</span> │ multi_head_atten… │\n",
       "├─────────────────────┼───────────────────┼────────────┼───────────────────┤\n",
       "│ flatten (<span style=\"color: #0087ff; text-decoration-color: #0087ff\">Flatten</span>)   │ (<span style=\"color: #00d7ff; text-decoration-color: #00d7ff\">None</span>, <span style=\"color: #00af00; text-decoration-color: #00af00\">128</span>)       │          <span style=\"color: #00af00; text-decoration-color: #00af00\">0</span> │ dropout_5[<span style=\"color: #00af00; text-decoration-color: #00af00\">0</span>][<span style=\"color: #00af00; text-decoration-color: #00af00\">0</span>]   │\n",
       "├─────────────────────┼───────────────────┼────────────┼───────────────────┤\n",
       "│ dense_5 (<span style=\"color: #0087ff; text-decoration-color: #0087ff\">Dense</span>)     │ (<span style=\"color: #00d7ff; text-decoration-color: #00d7ff\">None</span>, <span style=\"color: #00af00; text-decoration-color: #00af00\">128</span>)       │     <span style=\"color: #00af00; text-decoration-color: #00af00\">16,512</span> │ flatten[<span style=\"color: #00af00; text-decoration-color: #00af00\">0</span>][<span style=\"color: #00af00; text-decoration-color: #00af00\">0</span>]     │\n",
       "├─────────────────────┼───────────────────┼────────────┼───────────────────┤\n",
       "│ dropout_6 (<span style=\"color: #0087ff; text-decoration-color: #0087ff\">Dropout</span>) │ (<span style=\"color: #00d7ff; text-decoration-color: #00d7ff\">None</span>, <span style=\"color: #00af00; text-decoration-color: #00af00\">128</span>)       │          <span style=\"color: #00af00; text-decoration-color: #00af00\">0</span> │ dense_5[<span style=\"color: #00af00; text-decoration-color: #00af00\">0</span>][<span style=\"color: #00af00; text-decoration-color: #00af00\">0</span>]     │\n",
       "├─────────────────────┼───────────────────┼────────────┼───────────────────┤\n",
       "│ dense_6 (<span style=\"color: #0087ff; text-decoration-color: #0087ff\">Dense</span>)     │ (<span style=\"color: #00d7ff; text-decoration-color: #00d7ff\">None</span>, <span style=\"color: #00af00; text-decoration-color: #00af00\">1</span>)         │        <span style=\"color: #00af00; text-decoration-color: #00af00\">129</span> │ dropout_6[<span style=\"color: #00af00; text-decoration-color: #00af00\">0</span>][<span style=\"color: #00af00; text-decoration-color: #00af00\">0</span>]   │\n",
       "└─────────────────────┴───────────────────┴────────────┴───────────────────┘\n",
       "</pre>\n"
      ],
      "text/plain": [
       "┏━━━━━━━━━━━━━━━━━━━━━┳━━━━━━━━━━━━━━━━━━━┳━━━━━━━━━━━━┳━━━━━━━━━━━━━━━━━━━┓\n",
       "┃\u001b[1m \u001b[0m\u001b[1mLayer (type)       \u001b[0m\u001b[1m \u001b[0m┃\u001b[1m \u001b[0m\u001b[1mOutput Shape     \u001b[0m\u001b[1m \u001b[0m┃\u001b[1m \u001b[0m\u001b[1m   Param #\u001b[0m\u001b[1m \u001b[0m┃\u001b[1m \u001b[0m\u001b[1mConnected to     \u001b[0m\u001b[1m \u001b[0m┃\n",
       "┡━━━━━━━━━━━━━━━━━━━━━╇━━━━━━━━━━━━━━━━━━━╇━━━━━━━━━━━━╇━━━━━━━━━━━━━━━━━━━┩\n",
       "│ input_layer_1       │ (\u001b[38;5;45mNone\u001b[0m, \u001b[38;5;34m19\u001b[0m)        │          \u001b[38;5;34m0\u001b[0m │ -                 │\n",
       "│ (\u001b[38;5;33mInputLayer\u001b[0m)        │                   │            │                   │\n",
       "├─────────────────────┼───────────────────┼────────────┼───────────────────┤\n",
       "│ batch_normalizatio… │ (\u001b[38;5;45mNone\u001b[0m, \u001b[38;5;34m19\u001b[0m)        │         \u001b[38;5;34m76\u001b[0m │ input_layer_1[\u001b[38;5;34m0\u001b[0m]… │\n",
       "│ (\u001b[38;5;33mBatchNormalizatio…\u001b[0m │                   │            │                   │\n",
       "├─────────────────────┼───────────────────┼────────────┼───────────────────┤\n",
       "│ dense_4 (\u001b[38;5;33mDense\u001b[0m)     │ (\u001b[38;5;45mNone\u001b[0m, \u001b[38;5;34m128\u001b[0m)       │      \u001b[38;5;34m2,560\u001b[0m │ batch_normalizat… │\n",
       "├─────────────────────┼───────────────────┼────────────┼───────────────────┤\n",
       "│ dropout_3 (\u001b[38;5;33mDropout\u001b[0m) │ (\u001b[38;5;45mNone\u001b[0m, \u001b[38;5;34m128\u001b[0m)       │          \u001b[38;5;34m0\u001b[0m │ dense_4[\u001b[38;5;34m0\u001b[0m][\u001b[38;5;34m0\u001b[0m]     │\n",
       "├─────────────────────┼───────────────────┼────────────┼───────────────────┤\n",
       "│ reshape (\u001b[38;5;33mReshape\u001b[0m)   │ (\u001b[38;5;45mNone\u001b[0m, \u001b[38;5;34m1\u001b[0m, \u001b[38;5;34m128\u001b[0m)    │          \u001b[38;5;34m0\u001b[0m │ dropout_3[\u001b[38;5;34m0\u001b[0m][\u001b[38;5;34m0\u001b[0m]   │\n",
       "├─────────────────────┼───────────────────┼────────────┼───────────────────┤\n",
       "│ multi_head_attenti… │ (\u001b[38;5;45mNone\u001b[0m, \u001b[38;5;34m1\u001b[0m, \u001b[38;5;34m128\u001b[0m)    │     \u001b[38;5;34m66,048\u001b[0m │ reshape[\u001b[38;5;34m0\u001b[0m][\u001b[38;5;34m0\u001b[0m],    │\n",
       "│ (\u001b[38;5;33mMultiHeadAttentio…\u001b[0m │                   │            │ reshape[\u001b[38;5;34m0\u001b[0m][\u001b[38;5;34m0\u001b[0m]     │\n",
       "├─────────────────────┼───────────────────┼────────────┼───────────────────┤\n",
       "│ dropout_5 (\u001b[38;5;33mDropout\u001b[0m) │ (\u001b[38;5;45mNone\u001b[0m, \u001b[38;5;34m1\u001b[0m, \u001b[38;5;34m128\u001b[0m)    │          \u001b[38;5;34m0\u001b[0m │ multi_head_atten… │\n",
       "├─────────────────────┼───────────────────┼────────────┼───────────────────┤\n",
       "│ flatten (\u001b[38;5;33mFlatten\u001b[0m)   │ (\u001b[38;5;45mNone\u001b[0m, \u001b[38;5;34m128\u001b[0m)       │          \u001b[38;5;34m0\u001b[0m │ dropout_5[\u001b[38;5;34m0\u001b[0m][\u001b[38;5;34m0\u001b[0m]   │\n",
       "├─────────────────────┼───────────────────┼────────────┼───────────────────┤\n",
       "│ dense_5 (\u001b[38;5;33mDense\u001b[0m)     │ (\u001b[38;5;45mNone\u001b[0m, \u001b[38;5;34m128\u001b[0m)       │     \u001b[38;5;34m16,512\u001b[0m │ flatten[\u001b[38;5;34m0\u001b[0m][\u001b[38;5;34m0\u001b[0m]     │\n",
       "├─────────────────────┼───────────────────┼────────────┼───────────────────┤\n",
       "│ dropout_6 (\u001b[38;5;33mDropout\u001b[0m) │ (\u001b[38;5;45mNone\u001b[0m, \u001b[38;5;34m128\u001b[0m)       │          \u001b[38;5;34m0\u001b[0m │ dense_5[\u001b[38;5;34m0\u001b[0m][\u001b[38;5;34m0\u001b[0m]     │\n",
       "├─────────────────────┼───────────────────┼────────────┼───────────────────┤\n",
       "│ dense_6 (\u001b[38;5;33mDense\u001b[0m)     │ (\u001b[38;5;45mNone\u001b[0m, \u001b[38;5;34m1\u001b[0m)         │        \u001b[38;5;34m129\u001b[0m │ dropout_6[\u001b[38;5;34m0\u001b[0m][\u001b[38;5;34m0\u001b[0m]   │\n",
       "└─────────────────────┴───────────────────┴────────────┴───────────────────┘\n"
      ]
     },
     "metadata": {},
     "output_type": "display_data"
    },
    {
     "data": {
      "text/html": [
       "<pre style=\"white-space:pre;overflow-x:auto;line-height:normal;font-family:Menlo,'DejaVu Sans Mono',consolas,'Courier New',monospace\"><span style=\"font-weight: bold\"> Total params: </span><span style=\"color: #00af00; text-decoration-color: #00af00\">85,325</span> (333.30 KB)\n",
       "</pre>\n"
      ],
      "text/plain": [
       "\u001b[1m Total params: \u001b[0m\u001b[38;5;34m85,325\u001b[0m (333.30 KB)\n"
      ]
     },
     "metadata": {},
     "output_type": "display_data"
    },
    {
     "data": {
      "text/html": [
       "<pre style=\"white-space:pre;overflow-x:auto;line-height:normal;font-family:Menlo,'DejaVu Sans Mono',consolas,'Courier New',monospace\"><span style=\"font-weight: bold\"> Trainable params: </span><span style=\"color: #00af00; text-decoration-color: #00af00\">85,287</span> (333.15 KB)\n",
       "</pre>\n"
      ],
      "text/plain": [
       "\u001b[1m Trainable params: \u001b[0m\u001b[38;5;34m85,287\u001b[0m (333.15 KB)\n"
      ]
     },
     "metadata": {},
     "output_type": "display_data"
    },
    {
     "data": {
      "text/html": [
       "<pre style=\"white-space:pre;overflow-x:auto;line-height:normal;font-family:Menlo,'DejaVu Sans Mono',consolas,'Courier New',monospace\"><span style=\"font-weight: bold\"> Non-trainable params: </span><span style=\"color: #00af00; text-decoration-color: #00af00\">38</span> (152.00 B)\n",
       "</pre>\n"
      ],
      "text/plain": [
       "\u001b[1m Non-trainable params: \u001b[0m\u001b[38;5;34m38\u001b[0m (152.00 B)\n"
      ]
     },
     "metadata": {},
     "output_type": "display_data"
    },
    {
     "name": "stderr",
     "output_type": "stream",
     "text": [
      "2025/05/02 21:42:10 WARNING mlflow.tensorflow: Unrecognized dataset type <class 'pandas.core.frame.DataFrame'>. Dataset logging skipped.\n",
      "2025/05/02 21:42:10 WARNING mlflow.tensorflow: Failed to log training dataset information to MLflow Tracking. Reason: 'DataFrame' object has no attribute 'flatten'\n"
     ]
    },
    {
     "data": {
      "text/html": [
       "<pre style=\"white-space:pre;overflow-x:auto;line-height:normal;font-family:Menlo,'DejaVu Sans Mono',consolas,'Courier New',monospace\"></pre>\n"
      ],
      "text/plain": []
     },
     "metadata": {},
     "output_type": "display_data"
    },
    {
     "name": "stdout",
     "output_type": "stream",
     "text": [
      "Epoch 1/200\n",
      "\u001b[1m55/61\u001b[0m \u001b[32m━━━━━━━━━━━━━━━━━━\u001b[0m\u001b[37m━━\u001b[0m \u001b[1m0s\u001b[0m 6ms/step - Precision: 0.5809 - Recall: 0.4613 - acc: 0.6930 - loss: 0.5486\n",
      "Epoch 1: val_loss improved from inf to 8.79609, saving model to ./models_temp/attention_best_model.h5\n"
     ]
    },
    {
     "name": "stderr",
     "output_type": "stream",
     "text": [
      "WARNING:absl:You are saving your model as an HDF5 file via `model.save()` or `keras.saving.save_model(model)`. This file format is considered legacy. We recommend using instead the native Keras format, e.g. `model.save('my_model.keras')` or `keras.saving.save_model(model, 'my_model.keras')`. \n",
      "WARNING:absl:You are saving your model as an HDF5 file via `model.save()` or `keras.saving.save_model(model)`. This file format is considered legacy. We recommend using instead the native Keras format, e.g. `model.save('my_model.keras')` or `keras.saving.save_model(model, 'my_model.keras')`. \n"
     ]
    },
    {
     "name": "stdout",
     "output_type": "stream",
     "text": [
      "\u001b[1m61/61\u001b[0m \u001b[32m━━━━━━━━━━━━━━━━━━━━\u001b[0m\u001b[37m\u001b[0m \u001b[1m3s\u001b[0m 15ms/step - Precision: 0.5858 - Recall: 0.4803 - acc: 0.6972 - loss: 0.5443 - val_Precision: 0.0000e+00 - val_Recall: 0.0000e+00 - val_acc: 0.6363 - val_loss: 8.7961\n",
      "Epoch 2/200\n",
      "\u001b[1m54/61\u001b[0m \u001b[32m━━━━━━━━━━━━━━━━━\u001b[0m\u001b[37m━━━\u001b[0m \u001b[1m0s\u001b[0m 6ms/step - Precision: 0.6478 - Recall: 0.6453 - acc: 0.7470 - loss: 0.4901\n",
      "Epoch 2: val_loss improved from 8.79609 to 0.52241, saving model to ./models_temp/attention_best_model.h5\n"
     ]
    },
    {
     "name": "stderr",
     "output_type": "stream",
     "text": [
      "WARNING:absl:You are saving your model as an HDF5 file via `model.save()` or `keras.saving.save_model(model)`. This file format is considered legacy. We recommend using instead the native Keras format, e.g. `model.save('my_model.keras')` or `keras.saving.save_model(model, 'my_model.keras')`. \n",
      "WARNING:absl:You are saving your model as an HDF5 file via `model.save()` or `keras.saving.save_model(model)`. This file format is considered legacy. We recommend using instead the native Keras format, e.g. `model.save('my_model.keras')` or `keras.saving.save_model(model, 'my_model.keras')`. \n"
     ]
    },
    {
     "name": "stdout",
     "output_type": "stream",
     "text": [
      "\u001b[1m61/61\u001b[0m \u001b[32m━━━━━━━━━━━━━━━━━━━━\u001b[0m\u001b[37m\u001b[0m \u001b[1m1s\u001b[0m 9ms/step - Precision: 0.6482 - Recall: 0.6497 - acc: 0.7477 - loss: 0.4898 - val_Precision: 0.6774 - val_Recall: 0.6689 - val_acc: 0.7637 - val_loss: 0.5224\n",
      "Epoch 3/200\n",
      "\u001b[1m59/61\u001b[0m \u001b[32m━━━━━━━━━━━━━━━━━━━\u001b[0m\u001b[37m━\u001b[0m \u001b[1m0s\u001b[0m 5ms/step - Precision: 0.6827 - Recall: 0.6450 - acc: 0.7575 - loss: 0.4759\n",
      "Epoch 3: val_loss did not improve from 0.52241\n",
      "\u001b[1m61/61\u001b[0m \u001b[32m━━━━━━━━━━━━━━━━━━━━\u001b[0m\u001b[37m\u001b[0m \u001b[1m0s\u001b[0m 7ms/step - Precision: 0.6816 - Recall: 0.6453 - acc: 0.7573 - loss: 0.4760 - val_Precision: 1.0000 - val_Recall: 0.0042 - val_acc: 0.6379 - val_loss: 1.3845\n",
      "Epoch 4/200\n",
      "\u001b[1m51/61\u001b[0m \u001b[32m━━━━━━━━━━━━━━━━\u001b[0m\u001b[37m━━━━\u001b[0m \u001b[1m0s\u001b[0m 5ms/step - Precision: 0.6264 - Recall: 0.6620 - acc: 0.7436 - loss: 0.4885\n",
      "Epoch 4: val_loss did not improve from 0.52241\n",
      "\u001b[1m61/61\u001b[0m \u001b[32m━━━━━━━━━━━━━━━━━━━━\u001b[0m\u001b[37m\u001b[0m \u001b[1m0s\u001b[0m 7ms/step - Precision: 0.6319 - Recall: 0.6652 - acc: 0.7461 - loss: 0.4868 - val_Precision: 0.4491 - val_Recall: 0.9483 - val_acc: 0.5581 - val_loss: 0.9718\n",
      "Epoch 5/200\n",
      "\u001b[1m61/61\u001b[0m \u001b[32m━━━━━━━━━━━━━━━━━━━━\u001b[0m\u001b[37m\u001b[0m \u001b[1m0s\u001b[0m 5ms/step - Precision: 0.6673 - Recall: 0.6963 - acc: 0.7683 - loss: 0.4700\n",
      "Epoch 5: val_loss did not improve from 0.52241\n",
      "\u001b[1m61/61\u001b[0m \u001b[32m━━━━━━━━━━━━━━━━━━━━\u001b[0m\u001b[37m\u001b[0m \u001b[1m0s\u001b[0m 8ms/step - Precision: 0.6671 - Recall: 0.6960 - acc: 0.7681 - loss: 0.4701 - val_Precision: 0.4815 - val_Recall: 0.9133 - val_acc: 0.6109 - val_loss: 0.7866\n",
      "Epoch 6/200\n",
      "\u001b[1m59/61\u001b[0m \u001b[32m━━━━━━━━━━━━━━━━━━━\u001b[0m\u001b[37m━\u001b[0m \u001b[1m0s\u001b[0m 6ms/step - Precision: 0.6678 - Recall: 0.6685 - acc: 0.7605 - loss: 0.4752\n",
      "Epoch 6: val_loss did not improve from 0.52241\n",
      "\u001b[1m61/61\u001b[0m \u001b[32m━━━━━━━━━━━━━━━━━━━━\u001b[0m\u001b[37m\u001b[0m \u001b[1m0s\u001b[0m 8ms/step - Precision: 0.6675 - Recall: 0.6680 - acc: 0.7603 - loss: 0.4753 - val_Precision: 0.5867 - val_Recall: 0.8215 - val_acc: 0.7246 - val_loss: 0.5805\n",
      "Epoch 7/200\n",
      "\u001b[1m60/61\u001b[0m \u001b[32m━━━━━━━━━━━━━━━━━━━\u001b[0m\u001b[37m━\u001b[0m \u001b[1m0s\u001b[0m 5ms/step - Precision: 0.6576 - Recall: 0.6830 - acc: 0.7585 - loss: 0.4714\n",
      "Epoch 7: val_loss did not improve from 0.52241\n",
      "\u001b[1m61/61\u001b[0m \u001b[32m━━━━━━━━━━━━━━━━━━━━\u001b[0m\u001b[37m\u001b[0m \u001b[1m0s\u001b[0m 7ms/step - Precision: 0.6578 - Recall: 0.6827 - acc: 0.7585 - loss: 0.4715 - val_Precision: 0.6308 - val_Recall: 0.7581 - val_acc: 0.7507 - val_loss: 0.5468\n",
      "Epoch 8/200\n",
      "\u001b[1m57/61\u001b[0m \u001b[32m━━━━━━━━━━━━━━━━━━\u001b[0m\u001b[37m━━\u001b[0m \u001b[1m0s\u001b[0m 6ms/step - Precision: 0.6584 - Recall: 0.6895 - acc: 0.7606 - loss: 0.4694\n",
      "Epoch 8: val_loss improved from 0.52241 to 0.47864, saving model to ./models_temp/attention_best_model.h5\n"
     ]
    },
    {
     "name": "stderr",
     "output_type": "stream",
     "text": [
      "WARNING:absl:You are saving your model as an HDF5 file via `model.save()` or `keras.saving.save_model(model)`. This file format is considered legacy. We recommend using instead the native Keras format, e.g. `model.save('my_model.keras')` or `keras.saving.save_model(model, 'my_model.keras')`. \n",
      "WARNING:absl:You are saving your model as an HDF5 file via `model.save()` or `keras.saving.save_model(model)`. This file format is considered legacy. We recommend using instead the native Keras format, e.g. `model.save('my_model.keras')` or `keras.saving.save_model(model, 'my_model.keras')`. \n"
     ]
    },
    {
     "name": "stdout",
     "output_type": "stream",
     "text": [
      "\u001b[1m61/61\u001b[0m \u001b[32m━━━━━━━━━━━━━━━━━━━━\u001b[0m\u001b[37m\u001b[0m \u001b[1m1s\u001b[0m 9ms/step - Precision: 0.6588 - Recall: 0.6906 - acc: 0.7608 - loss: 0.4695 - val_Precision: 0.6682 - val_Recall: 0.7123 - val_acc: 0.7668 - val_loss: 0.4786\n",
      "Epoch 9/200\n",
      "\u001b[1m56/61\u001b[0m \u001b[32m━━━━━━━━━━━━━━━━━━\u001b[0m\u001b[37m━━\u001b[0m \u001b[1m0s\u001b[0m 6ms/step - Precision: 0.6677 - Recall: 0.6844 - acc: 0.7640 - loss: 0.4653\n",
      "Epoch 9: val_loss improved from 0.47864 to 0.47498, saving model to ./models_temp/attention_best_model.h5\n"
     ]
    },
    {
     "name": "stderr",
     "output_type": "stream",
     "text": [
      "WARNING:absl:You are saving your model as an HDF5 file via `model.save()` or `keras.saving.save_model(model)`. This file format is considered legacy. We recommend using instead the native Keras format, e.g. `model.save('my_model.keras')` or `keras.saving.save_model(model, 'my_model.keras')`. \n",
      "WARNING:absl:You are saving your model as an HDF5 file via `model.save()` or `keras.saving.save_model(model)`. This file format is considered legacy. We recommend using instead the native Keras format, e.g. `model.save('my_model.keras')` or `keras.saving.save_model(model, 'my_model.keras')`. \n"
     ]
    },
    {
     "name": "stdout",
     "output_type": "stream",
     "text": [
      "\u001b[1m61/61\u001b[0m \u001b[32m━━━━━━━━━━━━━━━━━━━━\u001b[0m\u001b[37m\u001b[0m \u001b[1m1s\u001b[0m 9ms/step - Precision: 0.6676 - Recall: 0.6855 - acc: 0.7640 - loss: 0.4656 - val_Precision: 0.6888 - val_Recall: 0.6756 - val_acc: 0.7710 - val_loss: 0.4750\n",
      "Epoch 10/200\n",
      "\u001b[1m61/61\u001b[0m \u001b[32m━━━━━━━━━━━━━━━━━━━━\u001b[0m\u001b[37m\u001b[0m \u001b[1m0s\u001b[0m 5ms/step - Precision: 0.6743 - Recall: 0.6726 - acc: 0.7589 - loss: 0.4743\n",
      "Epoch 10: val_loss improved from 0.47498 to 0.46637, saving model to ./models_temp/attention_best_model.h5\n"
     ]
    },
    {
     "name": "stderr",
     "output_type": "stream",
     "text": [
      "WARNING:absl:You are saving your model as an HDF5 file via `model.save()` or `keras.saving.save_model(model)`. This file format is considered legacy. We recommend using instead the native Keras format, e.g. `model.save('my_model.keras')` or `keras.saving.save_model(model, 'my_model.keras')`. \n",
      "WARNING:absl:You are saving your model as an HDF5 file via `model.save()` or `keras.saving.save_model(model)`. This file format is considered legacy. We recommend using instead the native Keras format, e.g. `model.save('my_model.keras')` or `keras.saving.save_model(model, 'my_model.keras')`. \n"
     ]
    },
    {
     "name": "stdout",
     "output_type": "stream",
     "text": [
      "\u001b[1m61/61\u001b[0m \u001b[32m━━━━━━━━━━━━━━━━━━━━\u001b[0m\u001b[37m\u001b[0m \u001b[1m1s\u001b[0m 9ms/step - Precision: 0.6743 - Recall: 0.6727 - acc: 0.7591 - loss: 0.4742 - val_Precision: 0.6820 - val_Recall: 0.7281 - val_acc: 0.7777 - val_loss: 0.4664\n",
      "Epoch 11/200\n",
      "\u001b[1m59/61\u001b[0m \u001b[32m━━━━━━━━━━━━━━━━━━━\u001b[0m\u001b[37m━\u001b[0m \u001b[1m0s\u001b[0m 5ms/step - Precision: 0.6788 - Recall: 0.7041 - acc: 0.7709 - loss: 0.4592\n",
      "Epoch 11: val_loss improved from 0.46637 to 0.46323, saving model to ./models_temp/attention_best_model.h5\n"
     ]
    },
    {
     "name": "stderr",
     "output_type": "stream",
     "text": [
      "WARNING:absl:You are saving your model as an HDF5 file via `model.save()` or `keras.saving.save_model(model)`. This file format is considered legacy. We recommend using instead the native Keras format, e.g. `model.save('my_model.keras')` or `keras.saving.save_model(model, 'my_model.keras')`. \n",
      "WARNING:absl:You are saving your model as an HDF5 file via `model.save()` or `keras.saving.save_model(model)`. This file format is considered legacy. We recommend using instead the native Keras format, e.g. `model.save('my_model.keras')` or `keras.saving.save_model(model, 'my_model.keras')`. \n"
     ]
    },
    {
     "name": "stdout",
     "output_type": "stream",
     "text": [
      "\u001b[1m61/61\u001b[0m \u001b[32m━━━━━━━━━━━━━━━━━━━━\u001b[0m\u001b[37m\u001b[0m \u001b[1m1s\u001b[0m 9ms/step - Precision: 0.6787 - Recall: 0.7033 - acc: 0.7708 - loss: 0.4595 - val_Precision: 0.6976 - val_Recall: 0.6580 - val_acc: 0.7719 - val_loss: 0.4632\n",
      "Epoch 12/200\n",
      "\u001b[1m58/61\u001b[0m \u001b[32m━━━━━━━━━━━━━━━━━━━\u001b[0m\u001b[37m━\u001b[0m \u001b[1m0s\u001b[0m 5ms/step - Precision: 0.6676 - Recall: 0.6899 - acc: 0.7663 - loss: 0.4634\n",
      "Epoch 12: val_loss improved from 0.46323 to 0.46019, saving model to ./models_temp/attention_best_model.h5\n"
     ]
    },
    {
     "name": "stderr",
     "output_type": "stream",
     "text": [
      "WARNING:absl:You are saving your model as an HDF5 file via `model.save()` or `keras.saving.save_model(model)`. This file format is considered legacy. We recommend using instead the native Keras format, e.g. `model.save('my_model.keras')` or `keras.saving.save_model(model, 'my_model.keras')`. \n",
      "WARNING:absl:You are saving your model as an HDF5 file via `model.save()` or `keras.saving.save_model(model)`. This file format is considered legacy. We recommend using instead the native Keras format, e.g. `model.save('my_model.keras')` or `keras.saving.save_model(model, 'my_model.keras')`. \n"
     ]
    },
    {
     "name": "stdout",
     "output_type": "stream",
     "text": [
      "\u001b[1m61/61\u001b[0m \u001b[32m━━━━━━━━━━━━━━━━━━━━\u001b[0m\u001b[37m\u001b[0m \u001b[1m1s\u001b[0m 9ms/step - Precision: 0.6682 - Recall: 0.6897 - acc: 0.7664 - loss: 0.4635 - val_Precision: 0.7130 - val_Recall: 0.6547 - val_acc: 0.7786 - val_loss: 0.4602\n",
      "Epoch 13/200\n",
      "\u001b[1m61/61\u001b[0m \u001b[32m━━━━━━━━━━━━━━━━━━━━\u001b[0m\u001b[37m\u001b[0m \u001b[1m0s\u001b[0m 5ms/step - Precision: 0.6846 - Recall: 0.6589 - acc: 0.7756 - loss: 0.4520\n",
      "Epoch 13: val_loss did not improve from 0.46019\n",
      "\u001b[1m61/61\u001b[0m \u001b[32m━━━━━━━━━━━━━━━━━━━━\u001b[0m\u001b[37m\u001b[0m \u001b[1m0s\u001b[0m 7ms/step - Precision: 0.6846 - Recall: 0.6591 - acc: 0.7755 - loss: 0.4522 - val_Precision: 0.6743 - val_Recall: 0.7373 - val_acc: 0.7749 - val_loss: 0.4607\n",
      "Epoch 14/200\n",
      "\u001b[1m54/61\u001b[0m \u001b[32m━━━━━━━━━━━━━━━━━\u001b[0m\u001b[37m━━━\u001b[0m \u001b[1m0s\u001b[0m 6ms/step - Precision: 0.6798 - Recall: 0.6862 - acc: 0.7703 - loss: 0.4710\n",
      "Epoch 14: val_loss did not improve from 0.46019\n",
      "\u001b[1m61/61\u001b[0m \u001b[32m━━━━━━━━━━━━━━━━━━━━\u001b[0m\u001b[37m\u001b[0m \u001b[1m1s\u001b[0m 8ms/step - Precision: 0.6803 - Recall: 0.6854 - acc: 0.7704 - loss: 0.4703 - val_Precision: 0.6684 - val_Recall: 0.7481 - val_acc: 0.7734 - val_loss: 0.4662\n",
      "Epoch 15/200\n",
      "\u001b[1m60/61\u001b[0m \u001b[32m━━━━━━━━━━━━━━━━━━━\u001b[0m\u001b[37m━\u001b[0m \u001b[1m0s\u001b[0m 5ms/step - Precision: 0.6815 - Recall: 0.7017 - acc: 0.7749 - loss: 0.4610\n",
      "Epoch 15: val_loss improved from 0.46019 to 0.45447, saving model to ./models_temp/attention_best_model.h5\n"
     ]
    },
    {
     "name": "stderr",
     "output_type": "stream",
     "text": [
      "WARNING:absl:You are saving your model as an HDF5 file via `model.save()` or `keras.saving.save_model(model)`. This file format is considered legacy. We recommend using instead the native Keras format, e.g. `model.save('my_model.keras')` or `keras.saving.save_model(model, 'my_model.keras')`. \n",
      "WARNING:absl:You are saving your model as an HDF5 file via `model.save()` or `keras.saving.save_model(model)`. This file format is considered legacy. We recommend using instead the native Keras format, e.g. `model.save('my_model.keras')` or `keras.saving.save_model(model, 'my_model.keras')`. \n"
     ]
    },
    {
     "name": "stdout",
     "output_type": "stream",
     "text": [
      "\u001b[1m61/61\u001b[0m \u001b[32m━━━━━━━━━━━━━━━━━━━━\u001b[0m\u001b[37m\u001b[0m \u001b[1m1s\u001b[0m 9ms/step - Precision: 0.6815 - Recall: 0.7015 - acc: 0.7748 - loss: 0.4609 - val_Precision: 0.6833 - val_Recall: 0.7415 - val_acc: 0.7810 - val_loss: 0.4545\n",
      "Epoch 16/200\n",
      "\u001b[1m59/61\u001b[0m \u001b[32m━━━━━━━━━━━━━━━━━━━\u001b[0m\u001b[37m━\u001b[0m \u001b[1m0s\u001b[0m 6ms/step - Precision: 0.6910 - Recall: 0.7093 - acc: 0.7783 - loss: 0.4556\n",
      "Epoch 16: val_loss did not improve from 0.45447\n",
      "\u001b[1m61/61\u001b[0m \u001b[32m━━━━━━━━━━━━━━━━━━━━\u001b[0m\u001b[37m\u001b[0m \u001b[1m0s\u001b[0m 7ms/step - Precision: 0.6908 - Recall: 0.7085 - acc: 0.7782 - loss: 0.4557 - val_Precision: 0.7170 - val_Recall: 0.6380 - val_acc: 0.7768 - val_loss: 0.4614\n",
      "Epoch 17/200\n",
      "\u001b[1m59/61\u001b[0m \u001b[32m━━━━━━━━━━━━━━━━━━━\u001b[0m\u001b[37m━\u001b[0m \u001b[1m0s\u001b[0m 6ms/step - Precision: 0.6942 - Recall: 0.6499 - acc: 0.7684 - loss: 0.4695\n",
      "Epoch 17: val_loss did not improve from 0.45447\n",
      "\u001b[1m61/61\u001b[0m \u001b[32m━━━━━━━━━━━━━━━━━━━━\u001b[0m\u001b[37m\u001b[0m \u001b[1m0s\u001b[0m 8ms/step - Precision: 0.6942 - Recall: 0.6506 - acc: 0.7686 - loss: 0.4693 - val_Precision: 0.6921 - val_Recall: 0.6806 - val_acc: 0.7737 - val_loss: 0.4594\n",
      "Epoch 18/200\n",
      "\u001b[1m52/61\u001b[0m \u001b[32m━━━━━━━━━━━━━━━━━\u001b[0m\u001b[37m━━━\u001b[0m \u001b[1m0s\u001b[0m 6ms/step - Precision: 0.6899 - Recall: 0.6558 - acc: 0.7744 - loss: 0.4584\n",
      "Epoch 18: val_loss did not improve from 0.45447\n",
      "\u001b[1m61/61\u001b[0m \u001b[32m━━━━━━━━━━━━━━━━━━━━\u001b[0m\u001b[37m\u001b[0m \u001b[1m1s\u001b[0m 8ms/step - Precision: 0.6902 - Recall: 0.6611 - acc: 0.7748 - loss: 0.4579 - val_Precision: 0.6986 - val_Recall: 0.6864 - val_acc: 0.7783 - val_loss: 0.4573\n",
      "Epoch 19/200\n",
      "\u001b[1m60/61\u001b[0m \u001b[32m━━━━━━━━━━━━━━━━━━━\u001b[0m\u001b[37m━\u001b[0m \u001b[1m0s\u001b[0m 5ms/step - Precision: 0.6845 - Recall: 0.6949 - acc: 0.7741 - loss: 0.4559\n",
      "Epoch 19: val_loss improved from 0.45447 to 0.45354, saving model to ./models_temp/attention_best_model.h5\n"
     ]
    },
    {
     "name": "stderr",
     "output_type": "stream",
     "text": [
      "WARNING:absl:You are saving your model as an HDF5 file via `model.save()` or `keras.saving.save_model(model)`. This file format is considered legacy. We recommend using instead the native Keras format, e.g. `model.save('my_model.keras')` or `keras.saving.save_model(model, 'my_model.keras')`. \n",
      "WARNING:absl:You are saving your model as an HDF5 file via `model.save()` or `keras.saving.save_model(model)`. This file format is considered legacy. We recommend using instead the native Keras format, e.g. `model.save('my_model.keras')` or `keras.saving.save_model(model, 'my_model.keras')`. \n"
     ]
    },
    {
     "name": "stdout",
     "output_type": "stream",
     "text": [
      "\u001b[1m61/61\u001b[0m \u001b[32m━━━━━━━━━━━━━━━━━━━━\u001b[0m\u001b[37m\u001b[0m \u001b[1m1s\u001b[0m 8ms/step - Precision: 0.6845 - Recall: 0.6951 - acc: 0.7742 - loss: 0.4559 - val_Precision: 0.6946 - val_Recall: 0.7248 - val_acc: 0.7840 - val_loss: 0.4535\n",
      "Epoch 20/200\n",
      "\u001b[1m51/61\u001b[0m \u001b[32m━━━━━━━━━━━━━━━━\u001b[0m\u001b[37m━━━━\u001b[0m \u001b[1m0s\u001b[0m 5ms/step - Precision: 0.6984 - Recall: 0.6629 - acc: 0.7718 - loss: 0.4597\n",
      "Epoch 20: val_loss did not improve from 0.45354\n",
      "\u001b[1m61/61\u001b[0m \u001b[32m━━━━━━━━━━━━━━━━━━━━\u001b[0m\u001b[37m\u001b[0m \u001b[1m0s\u001b[0m 7ms/step - Precision: 0.6987 - Recall: 0.6651 - acc: 0.7729 - loss: 0.4587 - val_Precision: 0.7085 - val_Recall: 0.7114 - val_acc: 0.7886 - val_loss: 0.4599\n",
      "Epoch 21/200\n",
      "\u001b[1m61/61\u001b[0m \u001b[32m━━━━━━━━━━━━━━━━━━━━\u001b[0m\u001b[37m\u001b[0m \u001b[1m0s\u001b[0m 5ms/step - Precision: 0.7003 - Recall: 0.7184 - acc: 0.7884 - loss: 0.4360\n",
      "Epoch 21: val_loss improved from 0.45354 to 0.45303, saving model to ./models_temp/attention_best_model.h5\n"
     ]
    },
    {
     "name": "stderr",
     "output_type": "stream",
     "text": [
      "WARNING:absl:You are saving your model as an HDF5 file via `model.save()` or `keras.saving.save_model(model)`. This file format is considered legacy. We recommend using instead the native Keras format, e.g. `model.save('my_model.keras')` or `keras.saving.save_model(model, 'my_model.keras')`. \n",
      "WARNING:absl:You are saving your model as an HDF5 file via `model.save()` or `keras.saving.save_model(model)`. This file format is considered legacy. We recommend using instead the native Keras format, e.g. `model.save('my_model.keras')` or `keras.saving.save_model(model, 'my_model.keras')`. \n"
     ]
    },
    {
     "name": "stdout",
     "output_type": "stream",
     "text": [
      "\u001b[1m61/61\u001b[0m \u001b[32m━━━━━━━━━━━━━━━━━━━━\u001b[0m\u001b[37m\u001b[0m \u001b[1m1s\u001b[0m 8ms/step - Precision: 0.7003 - Recall: 0.7182 - acc: 0.7883 - loss: 0.4362 - val_Precision: 0.7127 - val_Recall: 0.6806 - val_acc: 0.7840 - val_loss: 0.4530\n",
      "Epoch 22/200\n",
      "\u001b[1m51/61\u001b[0m \u001b[32m━━━━━━━━━━━━━━━━\u001b[0m\u001b[37m━━━━\u001b[0m \u001b[1m0s\u001b[0m 5ms/step - Precision: 0.7110 - Recall: 0.6656 - acc: 0.7833 - loss: 0.4544\n",
      "Epoch 22: val_loss improved from 0.45303 to 0.45262, saving model to ./models_temp/attention_best_model.h5\n"
     ]
    },
    {
     "name": "stderr",
     "output_type": "stream",
     "text": [
      "WARNING:absl:You are saving your model as an HDF5 file via `model.save()` or `keras.saving.save_model(model)`. This file format is considered legacy. We recommend using instead the native Keras format, e.g. `model.save('my_model.keras')` or `keras.saving.save_model(model, 'my_model.keras')`. \n",
      "WARNING:absl:You are saving your model as an HDF5 file via `model.save()` or `keras.saving.save_model(model)`. This file format is considered legacy. We recommend using instead the native Keras format, e.g. `model.save('my_model.keras')` or `keras.saving.save_model(model, 'my_model.keras')`. \n"
     ]
    },
    {
     "name": "stdout",
     "output_type": "stream",
     "text": [
      "\u001b[1m61/61\u001b[0m \u001b[32m━━━━━━━━━━━━━━━━━━━━\u001b[0m\u001b[37m\u001b[0m \u001b[1m1s\u001b[0m 8ms/step - Precision: 0.7088 - Recall: 0.6693 - acc: 0.7827 - loss: 0.4538 - val_Precision: 0.7078 - val_Recall: 0.7031 - val_acc: 0.7865 - val_loss: 0.4526\n",
      "Epoch 23/200\n",
      "\u001b[1m57/61\u001b[0m \u001b[32m━━━━━━━━━━━━━━━━━━\u001b[0m\u001b[37m━━\u001b[0m \u001b[1m0s\u001b[0m 6ms/step - Precision: 0.6992 - Recall: 0.7072 - acc: 0.7861 - loss: 0.4363\n",
      "Epoch 23: val_loss improved from 0.45262 to 0.45212, saving model to ./models_temp/attention_best_model.h5\n"
     ]
    },
    {
     "name": "stderr",
     "output_type": "stream",
     "text": [
      "WARNING:absl:You are saving your model as an HDF5 file via `model.save()` or `keras.saving.save_model(model)`. This file format is considered legacy. We recommend using instead the native Keras format, e.g. `model.save('my_model.keras')` or `keras.saving.save_model(model, 'my_model.keras')`. \n",
      "WARNING:absl:You are saving your model as an HDF5 file via `model.save()` or `keras.saving.save_model(model)`. This file format is considered legacy. We recommend using instead the native Keras format, e.g. `model.save('my_model.keras')` or `keras.saving.save_model(model, 'my_model.keras')`. \n"
     ]
    },
    {
     "name": "stdout",
     "output_type": "stream",
     "text": [
      "\u001b[1m61/61\u001b[0m \u001b[32m━━━━━━━━━━━━━━━━━━━━\u001b[0m\u001b[37m\u001b[0m \u001b[1m1s\u001b[0m 9ms/step - Precision: 0.6988 - Recall: 0.7062 - acc: 0.7856 - loss: 0.4371 - val_Precision: 0.7165 - val_Recall: 0.6831 - val_acc: 0.7865 - val_loss: 0.4521\n",
      "Epoch 24/200\n",
      "\u001b[1m58/61\u001b[0m \u001b[32m━━━━━━━━━━━━━━━━━━━\u001b[0m\u001b[37m━\u001b[0m \u001b[1m0s\u001b[0m 6ms/step - Precision: 0.7028 - Recall: 0.7096 - acc: 0.7875 - loss: 0.4412\n",
      "Epoch 24: val_loss improved from 0.45212 to 0.44518, saving model to ./models_temp/attention_best_model.h5\n"
     ]
    },
    {
     "name": "stderr",
     "output_type": "stream",
     "text": [
      "WARNING:absl:You are saving your model as an HDF5 file via `model.save()` or `keras.saving.save_model(model)`. This file format is considered legacy. We recommend using instead the native Keras format, e.g. `model.save('my_model.keras')` or `keras.saving.save_model(model, 'my_model.keras')`. \n",
      "WARNING:absl:You are saving your model as an HDF5 file via `model.save()` or `keras.saving.save_model(model)`. This file format is considered legacy. We recommend using instead the native Keras format, e.g. `model.save('my_model.keras')` or `keras.saving.save_model(model, 'my_model.keras')`. \n"
     ]
    },
    {
     "name": "stdout",
     "output_type": "stream",
     "text": [
      "\u001b[1m61/61\u001b[0m \u001b[32m━━━━━━━━━━━━━━━━━━━━\u001b[0m\u001b[37m\u001b[0m \u001b[1m1s\u001b[0m 8ms/step - Precision: 0.7020 - Recall: 0.7096 - acc: 0.7870 - loss: 0.4415 - val_Precision: 0.7235 - val_Recall: 0.7073 - val_acc: 0.7953 - val_loss: 0.4452\n",
      "Epoch 25/200\n",
      "\u001b[1m59/61\u001b[0m \u001b[32m━━━━━━━━━━━━━━━━━━━\u001b[0m\u001b[37m━\u001b[0m \u001b[1m0s\u001b[0m 5ms/step - Precision: 0.7064 - Recall: 0.6946 - acc: 0.7819 - loss: 0.4529\n",
      "Epoch 25: val_loss did not improve from 0.44518\n",
      "\u001b[1m61/61\u001b[0m \u001b[32m━━━━━━━━━━━━━━━━━━━━\u001b[0m\u001b[37m\u001b[0m \u001b[1m0s\u001b[0m 8ms/step - Precision: 0.7064 - Recall: 0.6942 - acc: 0.7820 - loss: 0.4529 - val_Precision: 0.6993 - val_Recall: 0.7098 - val_acc: 0.7834 - val_loss: 0.4498\n",
      "Epoch 26/200\n",
      "\u001b[1m57/61\u001b[0m \u001b[32m━━━━━━━━━━━━━━━━━━\u001b[0m\u001b[37m━━\u001b[0m \u001b[1m0s\u001b[0m 6ms/step - Precision: 0.6969 - Recall: 0.7127 - acc: 0.7860 - loss: 0.4478\n",
      "Epoch 26: val_loss did not improve from 0.44518\n",
      "\u001b[1m61/61\u001b[0m \u001b[32m━━━━━━━━━━━━━━━━━━━━\u001b[0m\u001b[37m\u001b[0m \u001b[1m1s\u001b[0m 10ms/step - Precision: 0.6969 - Recall: 0.7129 - acc: 0.7859 - loss: 0.4475 - val_Precision: 0.7185 - val_Recall: 0.6747 - val_acc: 0.7856 - val_loss: 0.4496\n",
      "Epoch 27/200\n",
      "\u001b[1m59/61\u001b[0m \u001b[32m━━━━━━━━━━━━━━━━━━━\u001b[0m\u001b[37m━\u001b[0m \u001b[1m0s\u001b[0m 5ms/step - Precision: 0.7217 - Recall: 0.6943 - acc: 0.7912 - loss: 0.4472\n",
      "Epoch 27: val_loss did not improve from 0.44518\n",
      "\u001b[1m61/61\u001b[0m \u001b[32m━━━━━━━━━━━━━━━━━━━━\u001b[0m\u001b[37m\u001b[0m \u001b[1m0s\u001b[0m 7ms/step - Precision: 0.7210 - Recall: 0.6941 - acc: 0.7909 - loss: 0.4472 - val_Precision: 0.6882 - val_Recall: 0.7289 - val_acc: 0.7813 - val_loss: 0.4541\n",
      "Epoch 28/200\n",
      "\u001b[1m54/61\u001b[0m \u001b[32m━━━━━━━━━━━━━━━━━\u001b[0m\u001b[37m━━━\u001b[0m \u001b[1m0s\u001b[0m 6ms/step - Precision: 0.7098 - Recall: 0.7177 - acc: 0.7936 - loss: 0.4304\n",
      "Epoch 28: val_loss did not improve from 0.44518\n",
      "\u001b[1m61/61\u001b[0m \u001b[32m━━━━━━━━━━━━━━━━━━━━\u001b[0m\u001b[37m\u001b[0m \u001b[1m1s\u001b[0m 8ms/step - Precision: 0.7091 - Recall: 0.7153 - acc: 0.7925 - loss: 0.4315 - val_Precision: 0.6707 - val_Recall: 0.7389 - val_acc: 0.7731 - val_loss: 0.4555\n",
      "Epoch 29/200\n",
      "\u001b[1m59/61\u001b[0m \u001b[32m━━━━━━━━━━━━━━━━━━━\u001b[0m\u001b[37m━\u001b[0m \u001b[1m0s\u001b[0m 5ms/step - Precision: 0.6878 - Recall: 0.7125 - acc: 0.7834 - loss: 0.4443\n",
      "Epoch 29: val_loss did not improve from 0.44518\n",
      "\u001b[1m61/61\u001b[0m \u001b[32m━━━━━━━━━━━━━━━━━━━━\u001b[0m\u001b[37m\u001b[0m \u001b[1m0s\u001b[0m 8ms/step - Precision: 0.6886 - Recall: 0.7120 - acc: 0.7836 - loss: 0.4442 - val_Precision: 0.6882 - val_Recall: 0.7381 - val_acc: 0.7831 - val_loss: 0.4463\n",
      "Epoch 30/200\n",
      "\u001b[1m51/61\u001b[0m \u001b[32m━━━━━━━━━━━━━━━━\u001b[0m\u001b[37m━━━━\u001b[0m \u001b[1m0s\u001b[0m 5ms/step - Precision: 0.7034 - Recall: 0.7033 - acc: 0.7892 - loss: 0.4336\n",
      "Epoch 30: val_loss improved from 0.44518 to 0.44055, saving model to ./models_temp/attention_best_model.h5\n"
     ]
    },
    {
     "name": "stderr",
     "output_type": "stream",
     "text": [
      "WARNING:absl:You are saving your model as an HDF5 file via `model.save()` or `keras.saving.save_model(model)`. This file format is considered legacy. We recommend using instead the native Keras format, e.g. `model.save('my_model.keras')` or `keras.saving.save_model(model, 'my_model.keras')`. \n",
      "WARNING:absl:You are saving your model as an HDF5 file via `model.save()` or `keras.saving.save_model(model)`. This file format is considered legacy. We recommend using instead the native Keras format, e.g. `model.save('my_model.keras')` or `keras.saving.save_model(model, 'my_model.keras')`. \n"
     ]
    },
    {
     "name": "stdout",
     "output_type": "stream",
     "text": [
      "\u001b[1m61/61\u001b[0m \u001b[32m━━━━━━━━━━━━━━━━━━━━\u001b[0m\u001b[37m\u001b[0m \u001b[1m1s\u001b[0m 8ms/step - Precision: 0.7049 - Recall: 0.7055 - acc: 0.7898 - loss: 0.4341 - val_Precision: 0.6935 - val_Recall: 0.7323 - val_acc: 0.7850 - val_loss: 0.4405\n",
      "Epoch 31/200\n",
      "\u001b[1m52/61\u001b[0m \u001b[32m━━━━━━━━━━━━━━━━━\u001b[0m\u001b[37m━━━\u001b[0m \u001b[1m0s\u001b[0m 5ms/step - Precision: 0.6976 - Recall: 0.6699 - acc: 0.7822 - loss: 0.4399\n",
      "Epoch 31: val_loss did not improve from 0.44055\n",
      "\u001b[1m61/61\u001b[0m \u001b[32m━━━━━━━━━━━━━━━━━━━━\u001b[0m\u001b[37m\u001b[0m \u001b[1m0s\u001b[0m 7ms/step - Precision: 0.6989 - Recall: 0.6741 - acc: 0.7827 - loss: 0.4394 - val_Precision: 0.6962 - val_Recall: 0.7473 - val_acc: 0.7895 - val_loss: 0.4425\n",
      "Epoch 32/200\n",
      "\u001b[1m60/61\u001b[0m \u001b[32m━━━━━━━━━━━━━━━━━━━\u001b[0m\u001b[37m━\u001b[0m \u001b[1m0s\u001b[0m 5ms/step - Precision: 0.7129 - Recall: 0.7233 - acc: 0.7917 - loss: 0.4371\n",
      "Epoch 32: val_loss did not improve from 0.44055\n",
      "\u001b[1m61/61\u001b[0m \u001b[32m━━━━━━━━━━━━━━━━━━━━\u001b[0m\u001b[37m\u001b[0m \u001b[1m0s\u001b[0m 7ms/step - Precision: 0.7127 - Recall: 0.7226 - acc: 0.7915 - loss: 0.4370 - val_Precision: 0.7040 - val_Recall: 0.7239 - val_acc: 0.7889 - val_loss: 0.4421\n",
      "Epoch 33/200\n",
      "\u001b[1m58/61\u001b[0m \u001b[32m━━━━━━━━━━━━━━━━━━━\u001b[0m\u001b[37m━\u001b[0m \u001b[1m0s\u001b[0m 6ms/step - Precision: 0.7133 - Recall: 0.7048 - acc: 0.7923 - loss: 0.4401\n",
      "Epoch 33: val_loss did not improve from 0.44055\n",
      "\u001b[1m61/61\u001b[0m \u001b[32m━━━━━━━━━━━━━━━━━━━━\u001b[0m\u001b[37m\u001b[0m \u001b[1m0s\u001b[0m 8ms/step - Precision: 0.7133 - Recall: 0.7047 - acc: 0.7922 - loss: 0.4400 - val_Precision: 0.7309 - val_Recall: 0.6797 - val_acc: 0.7925 - val_loss: 0.4441\n",
      "Epoch 34/200\n",
      "\u001b[1m58/61\u001b[0m \u001b[32m━━━━━━━━━━━━━━━━━━━\u001b[0m\u001b[37m━\u001b[0m \u001b[1m0s\u001b[0m 5ms/step - Precision: 0.6982 - Recall: 0.7003 - acc: 0.7850 - loss: 0.4400\n",
      "Epoch 34: val_loss improved from 0.44055 to 0.44005, saving model to ./models_temp/attention_best_model.h5\n"
     ]
    },
    {
     "name": "stderr",
     "output_type": "stream",
     "text": [
      "WARNING:absl:You are saving your model as an HDF5 file via `model.save()` or `keras.saving.save_model(model)`. This file format is considered legacy. We recommend using instead the native Keras format, e.g. `model.save('my_model.keras')` or `keras.saving.save_model(model, 'my_model.keras')`. \n",
      "WARNING:absl:You are saving your model as an HDF5 file via `model.save()` or `keras.saving.save_model(model)`. This file format is considered legacy. We recommend using instead the native Keras format, e.g. `model.save('my_model.keras')` or `keras.saving.save_model(model, 'my_model.keras')`. \n"
     ]
    },
    {
     "name": "stdout",
     "output_type": "stream",
     "text": [
      "\u001b[1m61/61\u001b[0m \u001b[32m━━━━━━━━━━━━━━━━━━━━\u001b[0m\u001b[37m\u001b[0m \u001b[1m1s\u001b[0m 9ms/step - Precision: 0.6989 - Recall: 0.7002 - acc: 0.7852 - loss: 0.4401 - val_Precision: 0.7196 - val_Recall: 0.7214 - val_acc: 0.7965 - val_loss: 0.4400\n",
      "Epoch 35/200\n",
      "\u001b[1m60/61\u001b[0m \u001b[32m━━━━━━━━━━━━━━━━━━━\u001b[0m\u001b[37m━\u001b[0m \u001b[1m0s\u001b[0m 5ms/step - Precision: 0.7230 - Recall: 0.7163 - acc: 0.7990 - loss: 0.4314\n",
      "Epoch 35: val_loss did not improve from 0.44005\n",
      "\u001b[1m61/61\u001b[0m \u001b[32m━━━━━━━━━━━━━━━━━━━━\u001b[0m\u001b[37m\u001b[0m \u001b[1m0s\u001b[0m 7ms/step - Precision: 0.7227 - Recall: 0.7160 - acc: 0.7988 - loss: 0.4315 - val_Precision: 0.6753 - val_Recall: 0.8065 - val_acc: 0.7886 - val_loss: 0.4466\n",
      "Epoch 36/200\n",
      "\u001b[1m59/61\u001b[0m \u001b[32m━━━━━━━━━━━━━━━━━━━\u001b[0m\u001b[37m━\u001b[0m \u001b[1m0s\u001b[0m 6ms/step - Precision: 0.6900 - Recall: 0.7539 - acc: 0.7885 - loss: 0.4357\n",
      "Epoch 36: val_loss did not improve from 0.44005\n",
      "\u001b[1m61/61\u001b[0m \u001b[32m━━━━━━━━━━━━━━━━━━━━\u001b[0m\u001b[37m\u001b[0m \u001b[1m0s\u001b[0m 8ms/step - Precision: 0.6908 - Recall: 0.7521 - acc: 0.7886 - loss: 0.4358 - val_Precision: 0.7366 - val_Recall: 0.6647 - val_acc: 0.7916 - val_loss: 0.4407\n",
      "Epoch 37/200\n",
      "\u001b[1m60/61\u001b[0m \u001b[32m━━━━━━━━━━━━━━━━━━━\u001b[0m\u001b[37m━\u001b[0m \u001b[1m0s\u001b[0m 5ms/step - Precision: 0.7266 - Recall: 0.6691 - acc: 0.7892 - loss: 0.4426\n",
      "Epoch 37: val_loss did not improve from 0.44005\n",
      "\u001b[1m61/61\u001b[0m \u001b[32m━━━━━━━━━━━━━━━━━━━━\u001b[0m\u001b[37m\u001b[0m \u001b[1m0s\u001b[0m 7ms/step - Precision: 0.7264 - Recall: 0.6697 - acc: 0.7893 - loss: 0.4425 - val_Precision: 0.6739 - val_Recall: 0.7756 - val_acc: 0.7819 - val_loss: 0.4487\n",
      "Epoch 38/200\n",
      "\u001b[1m52/61\u001b[0m \u001b[32m━━━━━━━━━━━━━━━━━\u001b[0m\u001b[37m━━━\u001b[0m \u001b[1m0s\u001b[0m 5ms/step - Precision: 0.6937 - Recall: 0.7418 - acc: 0.7926 - loss: 0.4299\n",
      "Epoch 38: val_loss did not improve from 0.44005\n",
      "\u001b[1m61/61\u001b[0m \u001b[32m━━━━━━━━━━━━━━━━━━━━\u001b[0m\u001b[37m\u001b[0m \u001b[1m0s\u001b[0m 7ms/step - Precision: 0.6953 - Recall: 0.7369 - acc: 0.7919 - loss: 0.4314 - val_Precision: 0.6941 - val_Recall: 0.7606 - val_acc: 0.7910 - val_loss: 0.4443\n",
      "Epoch 39/200\n",
      "\u001b[1m51/61\u001b[0m \u001b[32m━━━━━━━━━━━━━━━━\u001b[0m\u001b[37m━━━━\u001b[0m \u001b[1m0s\u001b[0m 5ms/step - Precision: 0.6995 - Recall: 0.7232 - acc: 0.7878 - loss: 0.4349\n",
      "Epoch 39: val_loss did not improve from 0.44005\n",
      "\u001b[1m61/61\u001b[0m \u001b[32m━━━━━━━━━━━━━━━━━━━━\u001b[0m\u001b[37m\u001b[0m \u001b[1m0s\u001b[0m 7ms/step - Precision: 0.7022 - Recall: 0.7222 - acc: 0.7890 - loss: 0.4341 - val_Precision: 0.7418 - val_Recall: 0.6397 - val_acc: 0.7880 - val_loss: 0.4408\n",
      "Epoch 40/200\n",
      "\u001b[1m61/61\u001b[0m \u001b[32m━━━━━━━━━━━━━━━━━━━━\u001b[0m\u001b[37m\u001b[0m \u001b[1m0s\u001b[0m 5ms/step - Precision: 0.6992 - Recall: 0.6668 - acc: 0.7770 - loss: 0.4405\n",
      "Epoch 40: val_loss improved from 0.44005 to 0.43831, saving model to ./models_temp/attention_best_model.h5\n"
     ]
    },
    {
     "name": "stderr",
     "output_type": "stream",
     "text": [
      "WARNING:absl:You are saving your model as an HDF5 file via `model.save()` or `keras.saving.save_model(model)`. This file format is considered legacy. We recommend using instead the native Keras format, e.g. `model.save('my_model.keras')` or `keras.saving.save_model(model, 'my_model.keras')`. \n",
      "WARNING:absl:You are saving your model as an HDF5 file via `model.save()` or `keras.saving.save_model(model)`. This file format is considered legacy. We recommend using instead the native Keras format, e.g. `model.save('my_model.keras')` or `keras.saving.save_model(model, 'my_model.keras')`. \n"
     ]
    },
    {
     "name": "stdout",
     "output_type": "stream",
     "text": [
      "\u001b[1m61/61\u001b[0m \u001b[32m━━━━━━━━━━━━━━━━━━━━\u001b[0m\u001b[37m\u001b[0m \u001b[1m1s\u001b[0m 8ms/step - Precision: 0.6994 - Recall: 0.6673 - acc: 0.7773 - loss: 0.4403 - val_Precision: 0.7022 - val_Recall: 0.7356 - val_acc: 0.7904 - val_loss: 0.4383\n",
      "Epoch 41/200\n",
      "\u001b[1m59/61\u001b[0m \u001b[32m━━━━━━━━━━━━━━━━━━━\u001b[0m\u001b[37m━\u001b[0m \u001b[1m0s\u001b[0m 5ms/step - Precision: 0.7188 - Recall: 0.7032 - acc: 0.7874 - loss: 0.4414\n",
      "Epoch 41: val_loss improved from 0.43831 to 0.43620, saving model to ./models_temp/attention_best_model.h5\n"
     ]
    },
    {
     "name": "stderr",
     "output_type": "stream",
     "text": [
      "WARNING:absl:You are saving your model as an HDF5 file via `model.save()` or `keras.saving.save_model(model)`. This file format is considered legacy. We recommend using instead the native Keras format, e.g. `model.save('my_model.keras')` or `keras.saving.save_model(model, 'my_model.keras')`. \n",
      "WARNING:absl:You are saving your model as an HDF5 file via `model.save()` or `keras.saving.save_model(model)`. This file format is considered legacy. We recommend using instead the native Keras format, e.g. `model.save('my_model.keras')` or `keras.saving.save_model(model, 'my_model.keras')`. \n"
     ]
    },
    {
     "name": "stdout",
     "output_type": "stream",
     "text": [
      "\u001b[1m61/61\u001b[0m \u001b[32m━━━━━━━━━━━━━━━━━━━━\u001b[0m\u001b[37m\u001b[0m \u001b[1m1s\u001b[0m 9ms/step - Precision: 0.7186 - Recall: 0.7034 - acc: 0.7877 - loss: 0.4409 - val_Precision: 0.7087 - val_Recall: 0.7448 - val_acc: 0.7959 - val_loss: 0.4362\n",
      "Epoch 42/200\n",
      "\u001b[1m60/61\u001b[0m \u001b[32m━━━━━━━━━━━━━━━━━━━\u001b[0m\u001b[37m━\u001b[0m \u001b[1m0s\u001b[0m 5ms/step - Precision: 0.7100 - Recall: 0.7179 - acc: 0.7932 - loss: 0.4327\n",
      "Epoch 42: val_loss did not improve from 0.43620\n",
      "\u001b[1m61/61\u001b[0m \u001b[32m━━━━━━━━━━━━━━━━━━━━\u001b[0m\u001b[37m\u001b[0m \u001b[1m0s\u001b[0m 8ms/step - Precision: 0.7102 - Recall: 0.7175 - acc: 0.7932 - loss: 0.4327 - val_Precision: 0.6950 - val_Recall: 0.7640 - val_acc: 0.7922 - val_loss: 0.4395\n",
      "Epoch 43/200\n",
      "\u001b[1m60/61\u001b[0m \u001b[32m━━━━━━━━━━━━━━━━━━━\u001b[0m\u001b[37m━\u001b[0m \u001b[1m0s\u001b[0m 5ms/step - Precision: 0.7150 - Recall: 0.7245 - acc: 0.7929 - loss: 0.4295\n",
      "Epoch 43: val_loss did not improve from 0.43620\n",
      "\u001b[1m61/61\u001b[0m \u001b[32m━━━━━━━━━━━━━━━━━━━━\u001b[0m\u001b[37m\u001b[0m \u001b[1m0s\u001b[0m 7ms/step - Precision: 0.7149 - Recall: 0.7243 - acc: 0.7929 - loss: 0.4295 - val_Precision: 0.7123 - val_Recall: 0.7248 - val_acc: 0.7934 - val_loss: 0.4385\n",
      "Epoch 44/200\n",
      "\u001b[1m61/61\u001b[0m \u001b[32m━━━━━━━━━━━━━━━━━━━━\u001b[0m\u001b[37m\u001b[0m \u001b[1m0s\u001b[0m 5ms/step - Precision: 0.7113 - Recall: 0.7064 - acc: 0.7957 - loss: 0.4189\n",
      "Epoch 44: val_loss did not improve from 0.43620\n",
      "\u001b[1m61/61\u001b[0m \u001b[32m━━━━━━━━━━━━━━━━━━━━\u001b[0m\u001b[37m\u001b[0m \u001b[1m0s\u001b[0m 7ms/step - Precision: 0.7113 - Recall: 0.7066 - acc: 0.7956 - loss: 0.4190 - val_Precision: 0.7246 - val_Recall: 0.6956 - val_acc: 0.7931 - val_loss: 0.4442\n",
      "Epoch 45/200\n",
      "\u001b[1m52/61\u001b[0m \u001b[32m━━━━━━━━━━━━━━━━━\u001b[0m\u001b[37m━━━\u001b[0m \u001b[1m0s\u001b[0m 5ms/step - Precision: 0.7283 - Recall: 0.6820 - acc: 0.7973 - loss: 0.4275\n",
      "Epoch 45: val_loss improved from 0.43620 to 0.43370, saving model to ./models_temp/attention_best_model.h5\n"
     ]
    },
    {
     "name": "stderr",
     "output_type": "stream",
     "text": [
      "WARNING:absl:You are saving your model as an HDF5 file via `model.save()` or `keras.saving.save_model(model)`. This file format is considered legacy. We recommend using instead the native Keras format, e.g. `model.save('my_model.keras')` or `keras.saving.save_model(model, 'my_model.keras')`. \n",
      "WARNING:absl:You are saving your model as an HDF5 file via `model.save()` or `keras.saving.save_model(model)`. This file format is considered legacy. We recommend using instead the native Keras format, e.g. `model.save('my_model.keras')` or `keras.saving.save_model(model, 'my_model.keras')`. \n"
     ]
    },
    {
     "name": "stdout",
     "output_type": "stream",
     "text": [
      "\u001b[1m61/61\u001b[0m \u001b[32m━━━━━━━━━━━━━━━━━━━━\u001b[0m\u001b[37m\u001b[0m \u001b[1m1s\u001b[0m 8ms/step - Precision: 0.7279 - Recall: 0.6862 - acc: 0.7975 - loss: 0.4266 - val_Precision: 0.7024 - val_Recall: 0.7540 - val_acc: 0.7944 - val_loss: 0.4337\n",
      "Epoch 46/200\n",
      "\u001b[1m51/61\u001b[0m \u001b[32m━━━━━━━━━━━━━━━━\u001b[0m\u001b[37m━━━━\u001b[0m \u001b[1m0s\u001b[0m 5ms/step - Precision: 0.7191 - Recall: 0.7247 - acc: 0.7972 - loss: 0.4198\n",
      "Epoch 46: val_loss did not improve from 0.43370\n",
      "\u001b[1m61/61\u001b[0m \u001b[32m━━━━━━━━━━━━━━━━━━━━\u001b[0m\u001b[37m\u001b[0m \u001b[1m0s\u001b[0m 8ms/step - Precision: 0.7186 - Recall: 0.7222 - acc: 0.7966 - loss: 0.4205 - val_Precision: 0.7190 - val_Recall: 0.7214 - val_acc: 0.7962 - val_loss: 0.4361\n",
      "Epoch 47/200\n",
      "\u001b[1m51/61\u001b[0m \u001b[32m━━━━━━━━━━━━━━━━\u001b[0m\u001b[37m━━━━\u001b[0m \u001b[1m0s\u001b[0m 5ms/step - Precision: 0.7080 - Recall: 0.7281 - acc: 0.7933 - loss: 0.4328\n",
      "Epoch 47: val_loss did not improve from 0.43370\n",
      "\u001b[1m61/61\u001b[0m \u001b[32m━━━━━━━━━━━━━━━━━━━━\u001b[0m\u001b[37m\u001b[0m \u001b[1m0s\u001b[0m 7ms/step - Precision: 0.7088 - Recall: 0.7255 - acc: 0.7933 - loss: 0.4319 - val_Precision: 0.7139 - val_Recall: 0.7306 - val_acc: 0.7956 - val_loss: 0.4360\n",
      "Epoch 48/200\n",
      "\u001b[1m52/61\u001b[0m \u001b[32m━━━━━━━━━━━━━━━━━\u001b[0m\u001b[37m━━━\u001b[0m \u001b[1m0s\u001b[0m 5ms/step - Precision: 0.7254 - Recall: 0.6943 - acc: 0.7924 - loss: 0.4328\n",
      "Epoch 48: val_loss did not improve from 0.43370\n",
      "\u001b[1m61/61\u001b[0m \u001b[32m━━━━━━━━━━━━━━━━━━━━\u001b[0m\u001b[37m\u001b[0m \u001b[1m0s\u001b[0m 7ms/step - Precision: 0.7248 - Recall: 0.6954 - acc: 0.7928 - loss: 0.4315 - val_Precision: 0.7066 - val_Recall: 0.7231 - val_acc: 0.7901 - val_loss: 0.4400\n",
      "Epoch 49/200\n",
      "\u001b[1m51/61\u001b[0m \u001b[32m━━━━━━━━━━━━━━━━\u001b[0m\u001b[37m━━━━\u001b[0m \u001b[1m0s\u001b[0m 5ms/step - Precision: 0.7335 - Recall: 0.7347 - acc: 0.8084 - loss: 0.4096\n",
      "Epoch 49: val_loss improved from 0.43370 to 0.43354, saving model to ./models_temp/attention_best_model.h5\n"
     ]
    },
    {
     "name": "stderr",
     "output_type": "stream",
     "text": [
      "WARNING:absl:You are saving your model as an HDF5 file via `model.save()` or `keras.saving.save_model(model)`. This file format is considered legacy. We recommend using instead the native Keras format, e.g. `model.save('my_model.keras')` or `keras.saving.save_model(model, 'my_model.keras')`. \n",
      "WARNING:absl:You are saving your model as an HDF5 file via `model.save()` or `keras.saving.save_model(model)`. This file format is considered legacy. We recommend using instead the native Keras format, e.g. `model.save('my_model.keras')` or `keras.saving.save_model(model, 'my_model.keras')`. \n"
     ]
    },
    {
     "name": "stdout",
     "output_type": "stream",
     "text": [
      "\u001b[1m61/61\u001b[0m \u001b[32m━━━━━━━━━━━━━━━━━━━━\u001b[0m\u001b[37m\u001b[0m \u001b[1m1s\u001b[0m 9ms/step - Precision: 0.7326 - Recall: 0.7320 - acc: 0.8072 - loss: 0.4117 - val_Precision: 0.7137 - val_Recall: 0.7673 - val_acc: 0.8035 - val_loss: 0.4335\n",
      "Epoch 50/200\n",
      "\u001b[1m60/61\u001b[0m \u001b[32m━━━━━━━━━━━━━━━━━━━\u001b[0m\u001b[37m━\u001b[0m \u001b[1m0s\u001b[0m 5ms/step - Precision: 0.7204 - Recall: 0.7157 - acc: 0.7973 - loss: 0.4237\n",
      "Epoch 50: val_loss did not improve from 0.43354\n",
      "\u001b[1m61/61\u001b[0m \u001b[32m━━━━━━━━━━━━━━━━━━━━\u001b[0m\u001b[37m\u001b[0m \u001b[1m0s\u001b[0m 8ms/step - Precision: 0.7206 - Recall: 0.7157 - acc: 0.7974 - loss: 0.4236 - val_Precision: 0.7062 - val_Recall: 0.7656 - val_acc: 0.7989 - val_loss: 0.4338\n",
      "Epoch 51/200\n",
      "\u001b[1m52/61\u001b[0m \u001b[32m━━━━━━━━━━━━━━━━━\u001b[0m\u001b[37m━━━\u001b[0m \u001b[1m0s\u001b[0m 5ms/step - Precision: 0.7110 - Recall: 0.7163 - acc: 0.7979 - loss: 0.4287\n",
      "Epoch 51: val_loss did not improve from 0.43354\n",
      "\u001b[1m61/61\u001b[0m \u001b[32m━━━━━━━━━━━━━━━━━━━━\u001b[0m\u001b[37m\u001b[0m \u001b[1m0s\u001b[0m 7ms/step - Precision: 0.7128 - Recall: 0.7173 - acc: 0.7981 - loss: 0.4281 - val_Precision: 0.7291 - val_Recall: 0.6914 - val_acc: 0.7944 - val_loss: 0.4337\n",
      "Epoch 52/200\n",
      "\u001b[1m60/61\u001b[0m \u001b[32m━━━━━━━━━━━━━━━━━━━\u001b[0m\u001b[37m━\u001b[0m \u001b[1m0s\u001b[0m 5ms/step - Precision: 0.7304 - Recall: 0.7038 - acc: 0.8029 - loss: 0.4139\n",
      "Epoch 52: val_loss improved from 0.43354 to 0.42909, saving model to ./models_temp/attention_best_model.h5\n"
     ]
    },
    {
     "name": "stderr",
     "output_type": "stream",
     "text": [
      "WARNING:absl:You are saving your model as an HDF5 file via `model.save()` or `keras.saving.save_model(model)`. This file format is considered legacy. We recommend using instead the native Keras format, e.g. `model.save('my_model.keras')` or `keras.saving.save_model(model, 'my_model.keras')`. \n",
      "WARNING:absl:You are saving your model as an HDF5 file via `model.save()` or `keras.saving.save_model(model)`. This file format is considered legacy. We recommend using instead the native Keras format, e.g. `model.save('my_model.keras')` or `keras.saving.save_model(model, 'my_model.keras')`. \n"
     ]
    },
    {
     "name": "stdout",
     "output_type": "stream",
     "text": [
      "\u001b[1m61/61\u001b[0m \u001b[32m━━━━━━━━━━━━━━━━━━━━\u001b[0m\u001b[37m\u001b[0m \u001b[1m1s\u001b[0m 8ms/step - Precision: 0.7303 - Recall: 0.7043 - acc: 0.8029 - loss: 0.4140 - val_Precision: 0.7216 - val_Recall: 0.7373 - val_acc: 0.8010 - val_loss: 0.4291\n",
      "Epoch 53/200\n",
      "\u001b[1m52/61\u001b[0m \u001b[32m━━━━━━━━━━━━━━━━━\u001b[0m\u001b[37m━━━\u001b[0m \u001b[1m0s\u001b[0m 5ms/step - Precision: 0.7428 - Recall: 0.6922 - acc: 0.8016 - loss: 0.4194\n",
      "Epoch 53: val_loss did not improve from 0.42909\n",
      "\u001b[1m61/61\u001b[0m \u001b[32m━━━━━━━━━━━━━━━━━━━━\u001b[0m\u001b[37m\u001b[0m \u001b[1m0s\u001b[0m 7ms/step - Precision: 0.7412 - Recall: 0.6954 - acc: 0.8018 - loss: 0.4189 - val_Precision: 0.7381 - val_Recall: 0.6839 - val_acc: 0.7968 - val_loss: 0.4334\n",
      "Epoch 54/200\n",
      "\u001b[1m53/61\u001b[0m \u001b[32m━━━━━━━━━━━━━━━━━\u001b[0m\u001b[37m━━━\u001b[0m \u001b[1m0s\u001b[0m 5ms/step - Precision: 0.7273 - Recall: 0.7120 - acc: 0.8023 - loss: 0.4144\n",
      "Epoch 54: val_loss did not improve from 0.42909\n",
      "\u001b[1m61/61\u001b[0m \u001b[32m━━━━━━━━━━━━━━━━━━━━\u001b[0m\u001b[37m\u001b[0m \u001b[1m1s\u001b[0m 10ms/step - Precision: 0.7279 - Recall: 0.7133 - acc: 0.8025 - loss: 0.4148 - val_Precision: 0.7209 - val_Recall: 0.7348 - val_acc: 0.8001 - val_loss: 0.4307\n",
      "Epoch 55/200\n",
      "\u001b[1m52/61\u001b[0m \u001b[32m━━━━━━━━━━━━━━━━━\u001b[0m\u001b[37m━━━\u001b[0m \u001b[1m0s\u001b[0m 5ms/step - Precision: 0.7376 - Recall: 0.7367 - acc: 0.8053 - loss: 0.4060\n",
      "Epoch 55: val_loss did not improve from 0.42909\n",
      "\u001b[1m61/61\u001b[0m \u001b[32m━━━━━━━━━━━━━━━━━━━━\u001b[0m\u001b[37m\u001b[0m \u001b[1m0s\u001b[0m 7ms/step - Precision: 0.7345 - Recall: 0.7322 - acc: 0.8036 - loss: 0.4082 - val_Precision: 0.7102 - val_Recall: 0.7481 - val_acc: 0.7974 - val_loss: 0.4301\n",
      "Epoch 56/200\n",
      "\u001b[1m51/61\u001b[0m \u001b[32m━━━━━━━━━━━━━━━━\u001b[0m\u001b[37m━━━━\u001b[0m \u001b[1m0s\u001b[0m 5ms/step - Precision: 0.7194 - Recall: 0.7499 - acc: 0.8054 - loss: 0.4088\n",
      "Epoch 56: val_loss improved from 0.42909 to 0.42739, saving model to ./models_temp/attention_best_model.h5\n"
     ]
    },
    {
     "name": "stderr",
     "output_type": "stream",
     "text": [
      "WARNING:absl:You are saving your model as an HDF5 file via `model.save()` or `keras.saving.save_model(model)`. This file format is considered legacy. We recommend using instead the native Keras format, e.g. `model.save('my_model.keras')` or `keras.saving.save_model(model, 'my_model.keras')`. \n",
      "WARNING:absl:You are saving your model as an HDF5 file via `model.save()` or `keras.saving.save_model(model)`. This file format is considered legacy. We recommend using instead the native Keras format, e.g. `model.save('my_model.keras')` or `keras.saving.save_model(model, 'my_model.keras')`. \n"
     ]
    },
    {
     "name": "stdout",
     "output_type": "stream",
     "text": [
      "\u001b[1m61/61\u001b[0m \u001b[32m━━━━━━━━━━━━━━━━━━━━\u001b[0m\u001b[37m\u001b[0m \u001b[1m1s\u001b[0m 8ms/step - Precision: 0.7198 - Recall: 0.7438 - acc: 0.8041 - loss: 0.4110 - val_Precision: 0.7153 - val_Recall: 0.7565 - val_acc: 0.8019 - val_loss: 0.4274\n",
      "Epoch 57/200\n",
      "\u001b[1m57/61\u001b[0m \u001b[32m━━━━━━━━━━━━━━━━━━\u001b[0m\u001b[37m━━\u001b[0m \u001b[1m0s\u001b[0m 6ms/step - Precision: 0.7169 - Recall: 0.7272 - acc: 0.7967 - loss: 0.4265\n",
      "Epoch 57: val_loss did not improve from 0.42739\n",
      "\u001b[1m61/61\u001b[0m \u001b[32m━━━━━━━━━━━━━━━━━━━━\u001b[0m\u001b[37m\u001b[0m \u001b[1m0s\u001b[0m 8ms/step - Precision: 0.7171 - Recall: 0.7263 - acc: 0.7967 - loss: 0.4263 - val_Precision: 0.7073 - val_Recall: 0.7456 - val_acc: 0.7953 - val_loss: 0.4313\n",
      "Epoch 58/200\n",
      "\u001b[1m58/61\u001b[0m \u001b[32m━━━━━━━━━━━━━━━━━━━\u001b[0m\u001b[37m━\u001b[0m \u001b[1m0s\u001b[0m 6ms/step - Precision: 0.7437 - Recall: 0.7584 - acc: 0.8179 - loss: 0.4071\n",
      "Epoch 58: val_loss improved from 0.42739 to 0.42676, saving model to ./models_temp/attention_best_model.h5\n"
     ]
    },
    {
     "name": "stderr",
     "output_type": "stream",
     "text": [
      "WARNING:absl:You are saving your model as an HDF5 file via `model.save()` or `keras.saving.save_model(model)`. This file format is considered legacy. We recommend using instead the native Keras format, e.g. `model.save('my_model.keras')` or `keras.saving.save_model(model, 'my_model.keras')`. \n",
      "WARNING:absl:You are saving your model as an HDF5 file via `model.save()` or `keras.saving.save_model(model)`. This file format is considered legacy. We recommend using instead the native Keras format, e.g. `model.save('my_model.keras')` or `keras.saving.save_model(model, 'my_model.keras')`. \n"
     ]
    },
    {
     "name": "stdout",
     "output_type": "stream",
     "text": [
      "\u001b[1m61/61\u001b[0m \u001b[32m━━━━━━━━━━━━━━━━━━━━\u001b[0m\u001b[37m\u001b[0m \u001b[1m1s\u001b[0m 9ms/step - Precision: 0.7429 - Recall: 0.7566 - acc: 0.8172 - loss: 0.4077 - val_Precision: 0.7393 - val_Recall: 0.6931 - val_acc: 0.7995 - val_loss: 0.4268\n",
      "Epoch 59/200\n",
      "\u001b[1m60/61\u001b[0m \u001b[32m━━━━━━━━━━━━━━━━━━━\u001b[0m\u001b[37m━\u001b[0m \u001b[1m0s\u001b[0m 5ms/step - Precision: 0.7536 - Recall: 0.6820 - acc: 0.8053 - loss: 0.4172\n",
      "Epoch 59: val_loss did not improve from 0.42676\n",
      "\u001b[1m61/61\u001b[0m \u001b[32m━━━━━━━━━━━━━━━━━━━━\u001b[0m\u001b[37m\u001b[0m \u001b[1m0s\u001b[0m 7ms/step - Precision: 0.7532 - Recall: 0.6827 - acc: 0.8053 - loss: 0.4172 - val_Precision: 0.7364 - val_Recall: 0.7014 - val_acc: 0.8001 - val_loss: 0.4306\n",
      "Epoch 60/200\n",
      "\u001b[1m51/61\u001b[0m \u001b[32m━━━━━━━━━━━━━━━━\u001b[0m\u001b[37m━━━━\u001b[0m \u001b[1m0s\u001b[0m 5ms/step - Precision: 0.7260 - Recall: 0.7153 - acc: 0.7986 - loss: 0.4210\n",
      "Epoch 60: val_loss did not improve from 0.42676\n",
      "\u001b[1m61/61\u001b[0m \u001b[32m━━━━━━━━━━━━━━━━━━━━\u001b[0m\u001b[37m\u001b[0m \u001b[1m0s\u001b[0m 7ms/step - Precision: 0.7269 - Recall: 0.7162 - acc: 0.7994 - loss: 0.4199 - val_Precision: 0.7292 - val_Recall: 0.7006 - val_acc: 0.7965 - val_loss: 0.4319\n",
      "Epoch 61/200\n",
      "\u001b[1m52/61\u001b[0m \u001b[32m━━━━━━━━━━━━━━━━━\u001b[0m\u001b[37m━━━\u001b[0m \u001b[1m0s\u001b[0m 5ms/step - Precision: 0.7535 - Recall: 0.7237 - acc: 0.8160 - loss: 0.4082\n",
      "Epoch 61: val_loss did not improve from 0.42676\n",
      "\u001b[1m61/61\u001b[0m \u001b[32m━━━━━━━━━━━━━━━━━━━━\u001b[0m\u001b[37m\u001b[0m \u001b[1m0s\u001b[0m 7ms/step - Precision: 0.7522 - Recall: 0.7239 - acc: 0.8154 - loss: 0.4091 - val_Precision: 0.7249 - val_Recall: 0.7273 - val_acc: 0.8004 - val_loss: 0.4293\n",
      "Epoch 62/200\n",
      "\u001b[1m52/61\u001b[0m \u001b[32m━━━━━━━━━━━━━━━━━\u001b[0m\u001b[37m━━━\u001b[0m \u001b[1m0s\u001b[0m 5ms/step - Precision: 0.7391 - Recall: 0.7166 - acc: 0.8066 - loss: 0.4098\n",
      "Epoch 62: val_loss did not improve from 0.42676\n",
      "\u001b[1m61/61\u001b[0m \u001b[32m━━━━━━━━━━━━━━━━━━━━\u001b[0m\u001b[37m\u001b[0m \u001b[1m0s\u001b[0m 7ms/step - Precision: 0.7390 - Recall: 0.7163 - acc: 0.8066 - loss: 0.4100 - val_Precision: 0.7016 - val_Recall: 0.7706 - val_acc: 0.7974 - val_loss: 0.4309\n",
      "Epoch 63/200\n",
      "\u001b[1m51/61\u001b[0m \u001b[32m━━━━━━━━━━━━━━━━\u001b[0m\u001b[37m━━━━\u001b[0m \u001b[1m0s\u001b[0m 5ms/step - Precision: 0.7257 - Recall: 0.7450 - acc: 0.8046 - loss: 0.4111\n",
      "Epoch 63: val_loss did not improve from 0.42676\n",
      "\u001b[1m61/61\u001b[0m \u001b[32m━━━━━━━━━━━━━━━━━━━━\u001b[0m\u001b[37m\u001b[0m \u001b[1m0s\u001b[0m 7ms/step - Precision: 0.7274 - Recall: 0.7425 - acc: 0.8050 - loss: 0.4117 - val_Precision: 0.7433 - val_Recall: 0.7173 - val_acc: 0.8071 - val_loss: 0.4269\n",
      "Epoch 64/200\n",
      "\u001b[1m60/61\u001b[0m \u001b[32m━━━━━━━━━━━━━━━━━━━\u001b[0m\u001b[37m━\u001b[0m \u001b[1m0s\u001b[0m 5ms/step - Precision: 0.7264 - Recall: 0.7392 - acc: 0.8057 - loss: 0.4068\n",
      "Epoch 64: val_loss did not improve from 0.42676\n",
      "\u001b[1m61/61\u001b[0m \u001b[32m━━━━━━━━━━━━━━━━━━━━\u001b[0m\u001b[37m\u001b[0m \u001b[1m0s\u001b[0m 7ms/step - Precision: 0.7264 - Recall: 0.7390 - acc: 0.8056 - loss: 0.4070 - val_Precision: 0.7266 - val_Recall: 0.7248 - val_acc: 0.8007 - val_loss: 0.4312\n",
      "Epoch 65/200\n",
      "\u001b[1m55/61\u001b[0m \u001b[32m━━━━━━━━━━━━━━━━━━\u001b[0m\u001b[37m━━\u001b[0m \u001b[1m0s\u001b[0m 6ms/step - Precision: 0.7606 - Recall: 0.7119 - acc: 0.8084 - loss: 0.4076\n",
      "Epoch 65: val_loss did not improve from 0.42676\n",
      "\u001b[1m61/61\u001b[0m \u001b[32m━━━━━━━━━━━━━━━━━━━━\u001b[0m\u001b[37m\u001b[0m \u001b[1m0s\u001b[0m 8ms/step - Precision: 0.7584 - Recall: 0.7120 - acc: 0.8081 - loss: 0.4078 - val_Precision: 0.7344 - val_Recall: 0.7056 - val_acc: 0.8001 - val_loss: 0.4273\n",
      "Epoch 66/200\n",
      "\u001b[1m58/61\u001b[0m \u001b[32m━━━━━━━━━━━━━━━━━━━\u001b[0m\u001b[37m━\u001b[0m \u001b[1m0s\u001b[0m 6ms/step - Precision: 0.7465 - Recall: 0.7135 - acc: 0.8093 - loss: 0.4011\n",
      "Epoch 66: val_loss improved from 0.42676 to 0.42514, saving model to ./models_temp/attention_best_model.h5\n"
     ]
    },
    {
     "name": "stderr",
     "output_type": "stream",
     "text": [
      "WARNING:absl:You are saving your model as an HDF5 file via `model.save()` or `keras.saving.save_model(model)`. This file format is considered legacy. We recommend using instead the native Keras format, e.g. `model.save('my_model.keras')` or `keras.saving.save_model(model, 'my_model.keras')`. \n",
      "WARNING:absl:You are saving your model as an HDF5 file via `model.save()` or `keras.saving.save_model(model)`. This file format is considered legacy. We recommend using instead the native Keras format, e.g. `model.save('my_model.keras')` or `keras.saving.save_model(model, 'my_model.keras')`. \n"
     ]
    },
    {
     "name": "stdout",
     "output_type": "stream",
     "text": [
      "\u001b[1m61/61\u001b[0m \u001b[32m━━━━━━━━━━━━━━━━━━━━\u001b[0m\u001b[37m\u001b[0m \u001b[1m1s\u001b[0m 9ms/step - Precision: 0.7461 - Recall: 0.7130 - acc: 0.8090 - loss: 0.4017 - val_Precision: 0.7317 - val_Recall: 0.7440 - val_acc: 0.8077 - val_loss: 0.4251\n",
      "Epoch 67/200\n",
      "\u001b[1m58/61\u001b[0m \u001b[32m━━━━━━━━━━━━━━━━━━━\u001b[0m\u001b[37m━\u001b[0m \u001b[1m0s\u001b[0m 6ms/step - Precision: 0.7517 - Recall: 0.7436 - acc: 0.8140 - loss: 0.4096\n",
      "Epoch 67: val_loss did not improve from 0.42514\n",
      "\u001b[1m61/61\u001b[0m \u001b[32m━━━━━━━━━━━━━━━━━━━━\u001b[0m\u001b[37m\u001b[0m \u001b[1m0s\u001b[0m 8ms/step - Precision: 0.7507 - Recall: 0.7421 - acc: 0.8135 - loss: 0.4097 - val_Precision: 0.7297 - val_Recall: 0.7273 - val_acc: 0.8029 - val_loss: 0.4274\n",
      "Epoch 68/200\n",
      "\u001b[1m59/61\u001b[0m \u001b[32m━━━━━━━━━━━━━━━━━━━\u001b[0m\u001b[37m━\u001b[0m \u001b[1m0s\u001b[0m 6ms/step - Precision: 0.7223 - Recall: 0.7147 - acc: 0.8007 - loss: 0.4180\n",
      "Epoch 68: val_loss did not improve from 0.42514\n",
      "\u001b[1m61/61\u001b[0m \u001b[32m━━━━━━━━━━━━━━━━━━━━\u001b[0m\u001b[37m\u001b[0m \u001b[1m0s\u001b[0m 7ms/step - Precision: 0.7230 - Recall: 0.7148 - acc: 0.8009 - loss: 0.4177 - val_Precision: 0.7336 - val_Recall: 0.7348 - val_acc: 0.8065 - val_loss: 0.4252\n",
      "Epoch 69/200\n",
      "\u001b[1m61/61\u001b[0m \u001b[32m━━━━━━━━━━━━━━━━━━━━\u001b[0m\u001b[37m\u001b[0m \u001b[1m0s\u001b[0m 5ms/step - Precision: 0.7383 - Recall: 0.7341 - acc: 0.8130 - loss: 0.3995\n",
      "Epoch 69: val_loss did not improve from 0.42514\n",
      "\u001b[1m61/61\u001b[0m \u001b[32m━━━━━━━━━━━━━━━━━━━━\u001b[0m\u001b[37m\u001b[0m \u001b[1m0s\u001b[0m 7ms/step - Precision: 0.7383 - Recall: 0.7338 - acc: 0.8130 - loss: 0.3997 - val_Precision: 0.7226 - val_Recall: 0.7473 - val_acc: 0.8038 - val_loss: 0.4307\n",
      "Epoch 70/200\n",
      "\u001b[1m59/61\u001b[0m \u001b[32m━━━━━━━━━━━━━━━━━━━\u001b[0m\u001b[37m━\u001b[0m \u001b[1m0s\u001b[0m 5ms/step - Precision: 0.7566 - Recall: 0.7409 - acc: 0.8207 - loss: 0.3943\n",
      "Epoch 70: val_loss improved from 0.42514 to 0.42490, saving model to ./models_temp/attention_best_model.h5\n"
     ]
    },
    {
     "name": "stderr",
     "output_type": "stream",
     "text": [
      "WARNING:absl:You are saving your model as an HDF5 file via `model.save()` or `keras.saving.save_model(model)`. This file format is considered legacy. We recommend using instead the native Keras format, e.g. `model.save('my_model.keras')` or `keras.saving.save_model(model, 'my_model.keras')`. \n",
      "WARNING:absl:You are saving your model as an HDF5 file via `model.save()` or `keras.saving.save_model(model)`. This file format is considered legacy. We recommend using instead the native Keras format, e.g. `model.save('my_model.keras')` or `keras.saving.save_model(model, 'my_model.keras')`. \n"
     ]
    },
    {
     "name": "stdout",
     "output_type": "stream",
     "text": [
      "\u001b[1m61/61\u001b[0m \u001b[32m━━━━━━━━━━━━━━━━━━━━\u001b[0m\u001b[37m\u001b[0m \u001b[1m1s\u001b[0m 9ms/step - Precision: 0.7561 - Recall: 0.7400 - acc: 0.8203 - loss: 0.3949 - val_Precision: 0.7228 - val_Recall: 0.7481 - val_acc: 0.8041 - val_loss: 0.4249\n",
      "Epoch 71/200\n",
      "\u001b[1m57/61\u001b[0m \u001b[32m━━━━━━━━━━━━━━━━━━\u001b[0m\u001b[37m━━\u001b[0m \u001b[1m0s\u001b[0m 6ms/step - Precision: 0.7610 - Recall: 0.7419 - acc: 0.8193 - loss: 0.3966\n",
      "Epoch 71: val_loss improved from 0.42490 to 0.41990, saving model to ./models_temp/attention_best_model.h5\n"
     ]
    },
    {
     "name": "stderr",
     "output_type": "stream",
     "text": [
      "WARNING:absl:You are saving your model as an HDF5 file via `model.save()` or `keras.saving.save_model(model)`. This file format is considered legacy. We recommend using instead the native Keras format, e.g. `model.save('my_model.keras')` or `keras.saving.save_model(model, 'my_model.keras')`. \n",
      "WARNING:absl:You are saving your model as an HDF5 file via `model.save()` or `keras.saving.save_model(model)`. This file format is considered legacy. We recommend using instead the native Keras format, e.g. `model.save('my_model.keras')` or `keras.saving.save_model(model, 'my_model.keras')`. \n"
     ]
    },
    {
     "name": "stdout",
     "output_type": "stream",
     "text": [
      "\u001b[1m61/61\u001b[0m \u001b[32m━━━━━━━━━━━━━━━━━━━━\u001b[0m\u001b[37m\u001b[0m \u001b[1m1s\u001b[0m 9ms/step - Precision: 0.7598 - Recall: 0.7415 - acc: 0.8189 - loss: 0.3969 - val_Precision: 0.7575 - val_Recall: 0.7164 - val_acc: 0.8135 - val_loss: 0.4199\n",
      "Epoch 72/200\n",
      "\u001b[1m60/61\u001b[0m \u001b[32m━━━━━━━━━━━━━━━━━━━\u001b[0m\u001b[37m━\u001b[0m \u001b[1m0s\u001b[0m 5ms/step - Precision: 0.7458 - Recall: 0.7322 - acc: 0.8133 - loss: 0.3983\n",
      "Epoch 72: val_loss improved from 0.41990 to 0.41845, saving model to ./models_temp/attention_best_model.h5\n"
     ]
    },
    {
     "name": "stderr",
     "output_type": "stream",
     "text": [
      "WARNING:absl:You are saving your model as an HDF5 file via `model.save()` or `keras.saving.save_model(model)`. This file format is considered legacy. We recommend using instead the native Keras format, e.g. `model.save('my_model.keras')` or `keras.saving.save_model(model, 'my_model.keras')`. \n",
      "WARNING:absl:You are saving your model as an HDF5 file via `model.save()` or `keras.saving.save_model(model)`. This file format is considered legacy. We recommend using instead the native Keras format, e.g. `model.save('my_model.keras')` or `keras.saving.save_model(model, 'my_model.keras')`. \n"
     ]
    },
    {
     "name": "stdout",
     "output_type": "stream",
     "text": [
      "\u001b[1m61/61\u001b[0m \u001b[32m━━━━━━━━━━━━━━━━━━━━\u001b[0m\u001b[37m\u001b[0m \u001b[1m1s\u001b[0m 9ms/step - Precision: 0.7455 - Recall: 0.7322 - acc: 0.8132 - loss: 0.3984 - val_Precision: 0.7472 - val_Recall: 0.7123 - val_acc: 0.8077 - val_loss: 0.4184\n",
      "Epoch 73/200\n",
      "\u001b[1m52/61\u001b[0m \u001b[32m━━━━━━━━━━━━━━━━━\u001b[0m\u001b[37m━━━\u001b[0m \u001b[1m0s\u001b[0m 5ms/step - Precision: 0.7572 - Recall: 0.7129 - acc: 0.8139 - loss: 0.3980\n",
      "Epoch 73: val_loss did not improve from 0.41845\n",
      "\u001b[1m61/61\u001b[0m \u001b[32m━━━━━━━━━━━━━━━━━━━━\u001b[0m\u001b[37m\u001b[0m \u001b[1m0s\u001b[0m 7ms/step - Precision: 0.7555 - Recall: 0.7145 - acc: 0.8135 - loss: 0.3991 - val_Precision: 0.7210 - val_Recall: 0.7373 - val_acc: 0.8007 - val_loss: 0.4232\n",
      "Epoch 74/200\n",
      "\u001b[1m53/61\u001b[0m \u001b[32m━━━━━━━━━━━━━━━━━\u001b[0m\u001b[37m━━━\u001b[0m \u001b[1m0s\u001b[0m 5ms/step - Precision: 0.7211 - Recall: 0.7434 - acc: 0.7968 - loss: 0.4307\n",
      "Epoch 74: val_loss did not improve from 0.41845\n",
      "\u001b[1m61/61\u001b[0m \u001b[32m━━━━━━━━━━━━━━━━━━━━\u001b[0m\u001b[37m\u001b[0m \u001b[1m0s\u001b[0m 7ms/step - Precision: 0.7231 - Recall: 0.7417 - acc: 0.7984 - loss: 0.4280 - val_Precision: 0.7274 - val_Recall: 0.7456 - val_acc: 0.8059 - val_loss: 0.4206\n",
      "Epoch 75/200\n",
      "\u001b[1m51/61\u001b[0m \u001b[32m━━━━━━━━━━━━━━━━\u001b[0m\u001b[37m━━━━\u001b[0m \u001b[1m0s\u001b[0m 5ms/step - Precision: 0.7418 - Recall: 0.7204 - acc: 0.8078 - loss: 0.4186\n",
      "Epoch 75: val_loss did not improve from 0.41845\n",
      "\u001b[1m61/61\u001b[0m \u001b[32m━━━━━━━━━━━━━━━━━━━━\u001b[0m\u001b[37m\u001b[0m \u001b[1m0s\u001b[0m 7ms/step - Precision: 0.7428 - Recall: 0.7222 - acc: 0.8089 - loss: 0.4165 - val_Precision: 0.7161 - val_Recall: 0.7448 - val_acc: 0.7998 - val_loss: 0.4277\n",
      "Epoch 76/200\n",
      "\u001b[1m52/61\u001b[0m \u001b[32m━━━━━━━━━━━━━━━━━\u001b[0m\u001b[37m━━━\u001b[0m \u001b[1m0s\u001b[0m 5ms/step - Precision: 0.7506 - Recall: 0.7220 - acc: 0.8086 - loss: 0.4049\n",
      "Epoch 76: val_loss did not improve from 0.41845\n",
      "\u001b[1m61/61\u001b[0m \u001b[32m━━━━━━━━━━━━━━━━━━━━\u001b[0m\u001b[37m\u001b[0m \u001b[1m0s\u001b[0m 7ms/step - Precision: 0.7496 - Recall: 0.7208 - acc: 0.8086 - loss: 0.4047 - val_Precision: 0.7234 - val_Recall: 0.7415 - val_acc: 0.8029 - val_loss: 0.4258\n",
      "Epoch 77/200\n",
      "\u001b[1m60/61\u001b[0m \u001b[32m━━━━━━━━━━━━━━━━━━━\u001b[0m\u001b[37m━\u001b[0m \u001b[1m0s\u001b[0m 5ms/step - Precision: 0.7475 - Recall: 0.7426 - acc: 0.8145 - loss: 0.3986\n",
      "Epoch 77: val_loss did not improve from 0.41845\n",
      "\u001b[1m61/61\u001b[0m \u001b[32m━━━━━━━━━━━━━━━━━━━━\u001b[0m\u001b[37m\u001b[0m \u001b[1m0s\u001b[0m 7ms/step - Precision: 0.7475 - Recall: 0.7419 - acc: 0.8144 - loss: 0.3987 - val_Precision: 0.7436 - val_Recall: 0.7039 - val_acc: 0.8041 - val_loss: 0.4233\n",
      "Epoch 78/200\n",
      "\u001b[1m57/61\u001b[0m \u001b[32m━━━━━━━━━━━━━━━━━━\u001b[0m\u001b[37m━━\u001b[0m \u001b[1m0s\u001b[0m 6ms/step - Precision: 0.7475 - Recall: 0.7297 - acc: 0.8109 - loss: 0.4053\n",
      "Epoch 78: val_loss did not improve from 0.41845\n",
      "\u001b[1m61/61\u001b[0m \u001b[32m━━━━━━━━━━━━━━━━━━━━\u001b[0m\u001b[37m\u001b[0m \u001b[1m0s\u001b[0m 7ms/step - Precision: 0.7465 - Recall: 0.7285 - acc: 0.8104 - loss: 0.4057 - val_Precision: 0.7136 - val_Recall: 0.7606 - val_acc: 0.8019 - val_loss: 0.4250\n",
      "Epoch 79/200\n",
      "\u001b[1m51/61\u001b[0m \u001b[32m━━━━━━━━━━━━━━━━\u001b[0m\u001b[37m━━━━\u001b[0m \u001b[1m0s\u001b[0m 5ms/step - Precision: 0.7576 - Recall: 0.7722 - acc: 0.8266 - loss: 0.3808\n",
      "Epoch 79: val_loss did not improve from 0.41845\n",
      "\u001b[1m61/61\u001b[0m \u001b[32m━━━━━━━━━━━━━━━━━━━━\u001b[0m\u001b[37m\u001b[0m \u001b[1m0s\u001b[0m 7ms/step - Precision: 0.7563 - Recall: 0.7665 - acc: 0.8250 - loss: 0.3822 - val_Precision: 0.7322 - val_Recall: 0.7298 - val_acc: 0.8047 - val_loss: 0.4243\n",
      "Epoch 80/200\n",
      "\u001b[1m60/61\u001b[0m \u001b[32m━━━━━━━━━━━━━━━━━━━\u001b[0m\u001b[37m━\u001b[0m \u001b[1m0s\u001b[0m 5ms/step - Precision: 0.7589 - Recall: 0.7311 - acc: 0.8234 - loss: 0.3913\n",
      "Epoch 80: val_loss did not improve from 0.41845\n",
      "\u001b[1m61/61\u001b[0m \u001b[32m━━━━━━━━━━━━━━━━━━━━\u001b[0m\u001b[37m\u001b[0m \u001b[1m0s\u001b[0m 7ms/step - Precision: 0.7587 - Recall: 0.7309 - acc: 0.8232 - loss: 0.3915 - val_Precision: 0.7303 - val_Recall: 0.7498 - val_acc: 0.8083 - val_loss: 0.4281\n",
      "Epoch 81/200\n",
      "\u001b[1m52/61\u001b[0m \u001b[32m━━━━━━━━━━━━━━━━━\u001b[0m\u001b[37m━━━\u001b[0m \u001b[1m0s\u001b[0m 5ms/step - Precision: 0.7544 - Recall: 0.7277 - acc: 0.8180 - loss: 0.3961\n",
      "Epoch 81: val_loss did not improve from 0.41845\n",
      "\u001b[1m61/61\u001b[0m \u001b[32m━━━━━━━━━━━━━━━━━━━━\u001b[0m\u001b[37m\u001b[0m \u001b[1m0s\u001b[0m 7ms/step - Precision: 0.7545 - Recall: 0.7283 - acc: 0.8181 - loss: 0.3957 - val_Precision: 0.7185 - val_Recall: 0.7665 - val_acc: 0.8059 - val_loss: 0.4253\n",
      "Epoch 82/200\n",
      "\u001b[1m60/61\u001b[0m \u001b[32m━━━━━━━━━━━━━━━━━━━\u001b[0m\u001b[37m━\u001b[0m \u001b[1m0s\u001b[0m 6ms/step - Precision: 0.7465 - Recall: 0.7413 - acc: 0.8140 - loss: 0.3987\n",
      "Epoch 82: val_loss did not improve from 0.41845\n",
      "\u001b[1m61/61\u001b[0m \u001b[32m━━━━━━━━━━━━━━━━━━━━\u001b[0m\u001b[37m\u001b[0m \u001b[1m1s\u001b[0m 9ms/step - Precision: 0.7465 - Recall: 0.7408 - acc: 0.8140 - loss: 0.3988 - val_Precision: 0.7296 - val_Recall: 0.7740 - val_acc: 0.8135 - val_loss: 0.4231\n",
      "Epoch 82: early stopping\n",
      "Restoring model weights from the end of the best epoch: 72.\n"
     ]
    },
    {
     "name": "stderr",
     "output_type": "stream",
     "text": [
      "2025/05/02 21:42:53 WARNING mlflow.tensorflow: Failed to infer model signature: could not sample data to infer model signature: Cannot log input example or model signature for input with type <class 'pandas.core.frame.DataFrame'>. TensorFlow Keras autologging can only log input examples and model signatures for the following input types: numpy.ndarray, dict[string -> numpy.ndarray], tensorflow.keras.utils.Sequence, and tensorflow.data.Dataset (TensorFlow >= 2.1.0 required)\n",
      "2025/05/02 21:42:53 WARNING mlflow.tensorflow: You are saving a TensorFlow Core model or Keras model without a signature. Inference with mlflow.pyfunc.spark_udf() will not work unless the model's pyfunc representation accepts pandas DataFrames as inference inputs.\n",
      "2025/05/02 21:42:58 WARNING mlflow.models.model: Model logged without a signature and input example. Please set `input_example` parameter when logging the model to auto infer the model signature.\n"
     ]
    },
    {
     "name": "stdout",
     "output_type": "stream",
     "text": [
      "\u001b[1m  1/104\u001b[0m \u001b[37m━━━━━━━━━━━━━━━━━━━━\u001b[0m \u001b[1m1s\u001b[0m 16ms/step - Precision: 0.9231 - Recall: 0.8000 - acc: 0.8750 - loss: 0.5183"
     ]
    },
    {
     "name": "stderr",
     "output_type": "stream",
     "text": [
      "Successfully registered model 'attention-model'.\n",
      "Created version '1' of model 'attention-model'.\n"
     ]
    },
    {
     "name": "stdout",
     "output_type": "stream",
     "text": [
      "\u001b[1m104/104\u001b[0m \u001b[32m━━━━━━━━━━━━━━━━━━━━\u001b[0m\u001b[37m\u001b[0m \u001b[1m0s\u001b[0m 1ms/step - Precision: 0.7498 - Recall: 0.7155 - acc: 0.8126 - loss: 0.4233\n"
     ]
    }
   ],
   "source": [
    "from tensorflow.keras.layers import Input, Dense, Dropout, BatchNormalization, MultiHeadAttention, Flatten, GlobalAveragePooling1D, Reshape\n",
    "from tensorflow.keras.models import Model\n",
    "\n",
    "#\n",
    "with mlflow.start_run(run_name='AttentionMechanisim'):#mlflow\n",
    "    mlflow.tensorflow.autolog()#mlflow    \n",
    "    n_input = X_train.shape[1]\n",
    "    # Model\n",
    "    # 定義模型\n",
    "    input_layer = Input(shape=(n_input,))\n",
    "    x = BatchNormalization()(input_layer)\n",
    "    x = Dense(128, activation='relu')(x)\n",
    "    x = Dropout(0.1)(x)\n",
    "    # Reshape 輸入，以便進行注意力機制（將它變成三維張量）\n",
    "    x = Reshape((1, 128))(x)  # 假設每個樣本有 128 個特徵，這樣就會有 1 個時間步\n",
    "    # 添加多頭注意力層\n",
    "    x_attention = MultiHeadAttention(num_heads=4, key_dim=32)(x, x)  # query, key 和 value 都是 x\n",
    "    x_attention = Dropout(0.1)(x_attention)\n",
    "    # 將注意力層的輸出展平\n",
    "    x_flattened = Flatten()(x_attention)\n",
    "    # 經過展平後的處理\n",
    "    x = Dense(128, activation='relu')(x_flattened)\n",
    "    x = Dropout(0.1)(x)\n",
    "    output = Dense(1, activation='sigmoid')(x)\n",
    "\n",
    "\n",
    "    # Model\n",
    "    model = Model(inputs=input_layer, outputs=output)\n",
    "    model.summary()\n",
    "    # 模型optimizer 和 learning rate\n",
    "    initial_lr = 0.001\n",
    "    from tensorflow.keras.optimizers import schedules\n",
    "    lr_schedule = schedules.ExponentialDecay(\n",
    "        initial_learning_rate=initial_lr,\n",
    "        decay_steps=100000,\n",
    "        decay_rate=0.96,\n",
    "        staircase=True)\n",
    "    from tensorflow.keras.optimizers import Adam\n",
    "    optimizer = Adam(learning_rate=lr_schedule)\n",
    "\n",
    "    model.compile(loss='bce', optimizer=optimizer, metrics=['acc', 'Recall', 'Precision'])\n",
    "    # EarlyStopping: 根據 val_loss 停止訓練\n",
    "    early_stop = EarlyStopping(monitor='val_loss', patience=10, verbose=1, restore_best_weights=True)\n",
    "    # ModelCheckpoint: 儲存最佳模型\n",
    "    checkpoint = ModelCheckpoint('./models_temp/attention_best_model.h5', monitor='val_loss', save_best_only=True, verbose=1)\n",
    "    history = model.fit(X_train, y_train, validation_data=(X_test, y_test), epochs=200, batch_size=128, verbose=1, callbacks=[early_stop, checkpoint])\n",
    "\n",
    "    train_loss, train_acc, train_recall, train_precision = model.evaluate(X_train, y_train, verbose=0)\n",
    "    test_loss, test_acc, test_recall, test_precision = model.evaluate(X_test, y_test, verbose=0)\n",
    "    mlflow.log_metric(\"Train score\", train_acc)#mlflow\n",
    "    mlflow.log_metric(\"Test score\", test_acc)#mlflow\n",
    "    #註冊模型\n",
    "    run_id = mlflow.active_run().info.run_id#mlflow\n",
    "    result = mlflow.register_model(\n",
    "        model_uri=f\"runs:/{run_id}/model\",  # 你要用 mlflow.log_model 存的位置\n",
    "        name=\"attention-model\"              # 註冊後的 model name\n",
    "    )\n",
    "\n",
    "    # 評估模型\n",
    "    model.evaluate(X_test, y_test)"
   ]
  },
  {
   "cell_type": "code",
   "execution_count": 38,
   "id": "83d24b27",
   "metadata": {},
   "outputs": [
    {
     "data": {
      "image/png": "[encoded data removed]",
      "text/plain": [
       "<Figure size 640x480 with 1 Axes>"
      ]
     },
     "metadata": {},
     "output_type": "display_data"
    },
    {
     "data": {
      "image/png": "[encoded data removed]",
      "text/plain": [
       "<Figure size 640x480 with 1 Axes>"
      ]
     },
     "metadata": {},
     "output_type": "display_data"
    }
   ],
   "source": [
    "import matplotlib.pyplot as plt\n",
    "\n",
    "# Loss 曲線\n",
    "plt.plot(history.history['loss'], label='Train Loss')\n",
    "plt.plot(history.history['val_loss'], label='Validation Loss')\n",
    "plt.xlabel('Epochs')\n",
    "plt.ylabel('Loss')\n",
    "plt.legend()\n",
    "plt.title('Loss over epochs')\n",
    "plt.show()\n",
    "\n",
    "# Accuracy 曲線\n",
    "plt.plot(history.history['acc'], label='Train Accuracy')\n",
    "plt.plot(history.history['val_acc'], label='Validation Accuracy')\n",
    "plt.xlabel('Epochs')\n",
    "plt.ylabel('Accuracy')\n",
    "plt.legend()\n",
    "plt.title('Accuracy over epochs')\n",
    "plt.show()"
   ]
  },
  {
   "cell_type": "code",
   "execution_count": 39,
   "id": "3827d00b",
   "metadata": {},
   "outputs": [
    {
     "name": "stdout",
     "output_type": "stream",
     "text": [
      "\u001b[1m104/104\u001b[0m \u001b[32m━━━━━━━━━━━━━━━━━━━━\u001b[0m\u001b[37m\u001b[0m \u001b[1m0s\u001b[0m 2ms/step\n"
     ]
    },
    {
     "data": {
      "image/png": "[encoded data removed]",
      "text/plain": [
       "<Figure size 600x600 with 2 Axes>"
      ]
     },
     "metadata": {},
     "output_type": "display_data"
    },
    {
     "name": "stdout",
     "output_type": "stream",
     "text": [
      "Classification Report:\n",
      "\n",
      "              precision    recall  f1-score   support\n",
      "\n",
      "           0     0.8398    0.8622    0.8509      2098\n",
      "           1     0.7472    0.7123    0.7293      1199\n",
      "\n",
      "    accuracy                         0.8077      3297\n",
      "   macro avg     0.7935    0.7873    0.7901      3297\n",
      "weighted avg     0.8061    0.8077    0.8067      3297\n",
      "\n"
     ]
    }
   ],
   "source": [
    "from sklearn.metrics import confusion_matrix\n",
    "import seaborn as sns\n",
    "import matplotlib.pyplot as plt\n",
    "\n",
    "# 預測結果\n",
    "y_pred = model.predict(X_test)\n",
    "y_pred_class = (y_pred > 0.5).astype(int)  # 轉換為二分類結果\n",
    "\n",
    "# 計算混淆矩陣\n",
    "cm_a = confusion_matrix(y_test, y_pred_class)\n",
    "\n",
    "# 繪製混淆矩陣\n",
    "plt.figure(figsize=(6, 6))\n",
    "sns.heatmap(cm_a, annot=True, fmt='d', cmap='Blues', xticklabels=[0, 1], yticklabels=[0, 1])\n",
    "plt.xlabel(\"Predicted\")\n",
    "plt.ylabel(\"Actual\")\n",
    "plt.title(\"Confusion Matrix\")\n",
    "plt.show()\n",
    "\n",
    "# classification report\n",
    "print(\"Classification Report:\\n\")\n",
    "print(classification_report(y_test, y_pred_class, digits=4))"
   ]
  },
  {
   "cell_type": "code",
   "execution_count": null,
   "id": "11e0966a",
   "metadata": {},
   "outputs": [],
   "source": []
  }
 ],
 "metadata": {
  "kernelspec": {
   "display_name": "Python 3",
   "language": "python",
   "name": "python3"
  },
  "language_info": {
   "codemirror_mode": {
    "name": "ipython",
    "version": 3
   },
   "file_extension": ".py",
   "mimetype": "text/x-python",
   "name": "python",
   "nbconvert_exporter": "python",
   "pygments_lexer": "ipython3",
   "version": "3.11.9"
  }
 },
 "nbformat": 4,
 "nbformat_minor": 5
}
