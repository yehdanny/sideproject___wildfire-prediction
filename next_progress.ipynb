{
 "cells": [
  {
   "cell_type": "markdown",
   "id": "8898dfea",
   "metadata": {},
   "source": [
    "- 這裡是一個通用的函式 log_confusion_matrix()，能幫你把混淆矩陣 以圖和指標兩種方式 log 到 MLflow："
   ]
  },
  {
   "cell_type": "code",
   "execution_count": null,
   "id": "c3bbb708",
   "metadata": {},
   "outputs": [],
   "source": [
    "import matplotlib.pyplot as plt\n",
    "import seaborn as sns\n",
    "import tempfile\n",
    "import mlflow\n",
    "from sklearn.metrics import confusion_matrix, classification_report\n",
    "\n",
    "def log_classification_results(y_true, y_pred, labels=None, prefix=\"CM\"):\n",
    "    \"\"\"\n",
    "    Log confusion matrix (as image + metrics) and classification report to MLflow.\n",
    "\n",
    "    Parameters:\n",
    "    - y_true: true labels\n",
    "    - y_pred: predicted labels\n",
    "    - labels: label names (e.g., ['No', 'Yes']) for the confusion matrix\n",
    "    - prefix: prefix for metrics (default: \"CM\")\n",
    "    \"\"\"\n",
    "    # === 1. Confusion matrix ===\n",
    "    cm = confusion_matrix(y_true, y_pred)\n",
    "    \n",
    "    plt.figure(figsize=(5, 4))\n",
    "    sns.heatmap(cm, annot=True, fmt='d', cmap='Blues',\n",
    "                xticklabels=labels, yticklabels=labels)\n",
    "    plt.xlabel('Predicted')\n",
    "    plt.ylabel('Actual')\n",
    "    plt.title('Confusion Matrix')\n",
    "    \n",
    "    with tempfile.NamedTemporaryFile(suffix=\".png\", delete=False) as tmpfile:\n",
    "        plt.savefig(tmpfile.name)\n",
    "        mlflow.log_artifact(tmpfile.name, artifact_path=\"plots\")\n",
    "    plt.close()\n",
    "    \n",
    "    # Log confusion matrix values\n",
    "    for i in range(cm.shape[0]):\n",
    "        for j in range(cm.shape[1]):\n",
    "            mlflow.log_metric(f\"{prefix}_{i}_{j}\", cm[i][j])\n",
    "\n",
    "    # === 2. Classification report ===\n",
    "    report = classification_report(y_true, y_pred, output_dict=True)\n",
    "    \n",
    "    for label, scores in report.items():\n",
    "        if isinstance(scores, dict):\n",
    "            for metric_name, value in scores.items():\n",
    "                mlflow.log_metric(f\"{prefix}_{label}_{metric_name}\", value)\n",
    "        else:\n",
    "            # e.g., accuracy\n",
    "            mlflow.log_metric(f\"{prefix}_{label}\", scores)\n"
   ]
  },
  {
   "cell_type": "code",
   "execution_count": null,
   "id": "4e2aeb80",
   "metadata": {},
   "outputs": [],
   "source": [
    "y_pred_rf = rf_model.predict(X_test)\n",
    "\n",
    "# 記錄 RF 模型的分類結果\n",
    "log_classification_results(y_test, y_pred_rf, labels=[0, 1], prefix=\"RF\")\n"
   ]
  },
  {
   "cell_type": "markdown",
   "id": "cb63fa6c",
   "metadata": {},
   "source": [
    "- 📝 在 MLflow 中你會看到：\n",
    "    - 類型\t名稱範例\n",
    "    - 📊 Metrics\tRF_accuracy, RF_0_precision, RF_1_recall\n",
    "    - 📈 圖像\tplots/confusion_matrix.png"
   ]
  }
 ],
 "metadata": {
  "language_info": {
   "name": "python"
  }
 },
 "nbformat": 4,
 "nbformat_minor": 5
}
